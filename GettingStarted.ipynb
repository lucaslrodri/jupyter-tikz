{
 "cells": [
  {
   "cell_type": "markdown",
   "metadata": {},
   "source": [
    "# Quickstart"
   ]
  },
  {
   "cell_type": "markdown",
   "metadata": {},
   "source": [
    "## Instalation"
   ]
  },
  {
   "cell_type": "markdown",
   "metadata": {},
   "source": []
  },
  {
   "cell_type": "markdown",
   "metadata": {},
   "source": [
    "## Basic usage"
   ]
  },
  {
   "cell_type": "markdown",
   "metadata": {},
   "source": [
    "Load `jupyter_tikz`. It is a magic cell extension:"
   ]
  },
  {
   "cell_type": "code",
   "execution_count": 2,
   "metadata": {},
   "outputs": [
    {
     "name": "stdout",
     "output_type": "stream",
     "text": [
      "The jupyter_tikz extension is already loaded. To reload it, use:\n",
      "  %reload_ext jupyter_tikz\n"
     ]
    }
   ],
   "source": [
    "%load_ext jupyter_tikz"
   ]
  },
  {
   "cell_type": "markdown",
   "metadata": {},
   "source": [
    "Find all commands by typing `%tikz?`"
   ]
  },
  {
   "cell_type": "code",
   "execution_count": 3,
   "metadata": {},
   "outputs": [
    {
     "data": {
      "text/plain": [
       "\u001b[1;31mDocstring:\u001b[0m\n",
       "::\n",
       "\n",
       "  %tikz [-p LATEX_PREAMBLE] [-t TEX_PACKAGES] [-nt] [-l TIKZ_LIBRARIES]\n",
       "            [-lp PGFPLOTS_LIBRARIES] [-i] [-f] [-sc SCALE] [-r] [-d DPI] [-e]\n",
       "            [-tp TEX_PROGRAM] [-ptc PDFTOCAIRO_PATH]\n",
       "            [code]\n",
       "\n",
       "Renders a TikZ diagram in a Jupyter notebook cell. Works as both as %tikz and %%tikz.\n",
       "\n",
       "When used as %tikz, the code argument is required:\n",
       "    In [1]: %tikz \\draw (0,0) rectangle (1,1);\n",
       "\n",
       "As a cell, this will run a block of TikZ code:\n",
       "    In [2]: %%tikz\n",
       "        \\draw (0,0) rectangle (1,1);\n",
       "\n",
       "Additional options can be passed to the magic command:\n",
       "    In [3]: %%tikz --rasterize --dpi=1200 -l arrows,automata\n",
       "        \\draw (0,0) rectangle (1,1);\n",
       "        \\filldraw (0.5,0.5) circle (.1);\n",
       "\n",
       "positional arguments:\n",
       "  code                  the variable in IPython with the string source\n",
       "\n",
       "options:\n",
       "  -p LATEX_PREAMBLE, --latex_preamble LATEX_PREAMBLE\n",
       "                        LaTeX preamble to insert before document, e.g., -x\n",
       "                        \"$preamble\", with preamble some IPython variable\n",
       "  -t TEX_PACKAGES, --tex-packages TEX_PACKAGES\n",
       "                        Comma separated list of tex packages, e.g., \"-t\n",
       "                        amsfonts,amsmath\"\n",
       "  -nt, --no-tikz        Do not import tikz package, useful when using other\n",
       "                        enviroments like pgfplots\n",
       "  -l TIKZ_LIBRARIES, --tikz-libraries TIKZ_LIBRARIES\n",
       "                        Comma separated list of tikz libraries, e.g., \"-l\n",
       "                        arrows,automata\"\n",
       "  -lp PGFPLOTS_LIBRARIES, --pgfplots-libraries PGFPLOTS_LIBRARIES\n",
       "                        Comman separated list of pgfplots libraries, e.g.,\n",
       "                        \"-lp groupplots,external\"\n",
       "  -i, --implicit-pic    Implicitly wrap the code in a standalone document with\n",
       "                        a tikzpicture environment\n",
       "  -f, --full-document   Use entire LaTeX document as input\n",
       "  -sc SCALE, --scale SCALE\n",
       "                        Scale the SVG output using CSS. Default is \"--scale 1\"\n",
       "  -r, --rasterize       Output a rasterized image instead of SVG\n",
       "  -d DPI, --dpi DPI     DPI of rasterized output images. Default is \"--dpi\n",
       "                        150\"\n",
       "  -e, --full-err        Show full error message\n",
       "  -tp TEX_PROGRAM, --tex-program TEX_PROGRAM\n",
       "                        TeX program to use for rendering, e.g., \"-lp\n",
       "                        groupplots,external\"\n",
       "  -ptc PDFTOCAIRO_PATH, --pdftocairo-path PDFTOCAIRO_PATH\n",
       "                        PDF to Cairo command to use for rasterizing, e.g.,\n",
       "                        \"-pc path_to_pdftocairo.exe\". Default is \"-pc\n",
       "                        pdftocairo\"\n",
       "\u001b[1;31mFile:\u001b[0m      c:\\users\\lucas\\github\\jupyter-tikz\\jupyter_tikz\\jupyter_tikz.py"
      ]
     },
     "metadata": {},
     "output_type": "display_data"
    }
   ],
   "source": [
    "%tikz?"
   ]
  },
  {
   "cell_type": "markdown",
   "metadata": {},
   "source": [
    "Create a simple `tikzpicture`:"
   ]
  },
  {
   "cell_type": "code",
   "execution_count": 4,
   "metadata": {},
   "outputs": [
    {
     "name": "stdout",
     "output_type": "stream",
     "text": [
      "\\documentclass{standalone}\n",
      "\\usepackage{tikz}\n",
      "\\begin{document}\n",
      "\t\\begin{tikzpicture}\n",
      "\t    \\draw[help lines] grid (5, 5);\n",
      "\t    \\draw[fill=black] (1, 1) rectangle (2, 2);\n",
      "\t    \\draw[fill=black] (2, 1) rectangle (3, 2);\n",
      "\t    \\draw[fill=black] (3, 1) rectangle (4, 2);\n",
      "\t    \\draw[fill=black] (3, 2) rectangle (4, 3);\n",
      "\t    \\draw[fill=black] (2, 3) rectangle (3, 4);\n",
      "\t\\end{tikzpicture}\n",
      "\\end{document}\n",
      "File written C:\\Users\\lucas\\AppData\\Local\\Temp\\jupyter_tikz\\tikz.tex\n",
      "Command executed pdflatex tikz.tex\n",
      "File compiled pdflatex tikz.tex\n",
      "File converted pdftocairo -svg C:\\Users\\lucas\\AppData\\Local\\Temp\\jupyter_tikz\\tikz.pdf C:\\Users\\lucas\\AppData\\Local\\Temp\\jupyter_tikz\\tikz.svg\n"
     ]
    },
    {
     "data": {
      "image/svg+xml": [
       "<svg xmlns=\"http://www.w3.org/2000/svg\" xmlns:xlink=\"http://www.w3.org/1999/xlink\" width=\"141.931\" height=\"141.931\" viewBox=\"0 0 141.931 141.931\">\n",
       "<defs>\n",
       "<clipPath id=\"clip-0\">\n",
       "<path clip-rule=\"nonzero\" d=\"M 0 0 L 141.863281 0 L 141.863281 141.863281 L 0 141.863281 Z M 0 0 \"/>\n",
       "</clipPath>\n",
       "</defs>\n",
       "<g clip-path=\"url(#clip-0)\">\n",
       "<path fill=\"none\" stroke-width=\"0.19925\" stroke-linecap=\"butt\" stroke-linejoin=\"miter\" stroke=\"rgb(50%, 50%, 50%)\" stroke-opacity=\"1\" stroke-miterlimit=\"10\" d=\"M 0.00161187 0.000363546 L 141.734545 0.000363546 M 0.00161187 28.346168 L 141.734545 28.346168 M 0.00161187 56.691973 L 141.734545 56.691973 M 0.00161187 85.041686 L 141.734545 85.041686 M 0.00161187 113.387491 L 141.734545 113.387491 M 0.00161187 141.72548 L 141.734545 141.72548 M 0.00161187 0.000363546 L 0.00161187 141.733296 M 28.347417 0.000363546 L 28.347417 141.733296 M 56.693222 0.000363546 L 56.693222 141.733296 M 85.039027 0.000363546 L 85.039027 141.733296 M 113.38874 0.000363546 L 113.38874 141.733296 M 141.72282 0.000363546 L 141.72282 141.733296 \" transform=\"matrix(0.999514, 0, 0, -0.999514, 0.0999514, 141.762082)\"/>\n",
       "</g>\n",
       "<path fill-rule=\"nonzero\" fill=\"rgb(0%, 0%, 0%)\" fill-opacity=\"1\" stroke-width=\"0.3985\" stroke-linecap=\"butt\" stroke-linejoin=\"miter\" stroke=\"rgb(0%, 0%, 0%)\" stroke-opacity=\"1\" stroke-miterlimit=\"10\" d=\"M 28.347417 28.346168 L 28.347417 56.691973 L 56.693222 56.691973 L 56.693222 28.346168 Z M 28.347417 28.346168 \" transform=\"matrix(0.999514, 0, 0, -0.999514, 0.0999514, 141.762082)\"/>\n",
       "<path fill-rule=\"nonzero\" fill=\"rgb(0%, 0%, 0%)\" fill-opacity=\"1\" stroke-width=\"0.3985\" stroke-linecap=\"butt\" stroke-linejoin=\"miter\" stroke=\"rgb(0%, 0%, 0%)\" stroke-opacity=\"1\" stroke-miterlimit=\"10\" d=\"M 56.693222 28.346168 L 56.693222 56.691973 L 85.039027 56.691973 L 85.039027 28.346168 Z M 56.693222 28.346168 \" transform=\"matrix(0.999514, 0, 0, -0.999514, 0.0999514, 141.762082)\"/>\n",
       "<path fill-rule=\"nonzero\" fill=\"rgb(0%, 0%, 0%)\" fill-opacity=\"1\" stroke-width=\"0.3985\" stroke-linecap=\"butt\" stroke-linejoin=\"miter\" stroke=\"rgb(0%, 0%, 0%)\" stroke-opacity=\"1\" stroke-miterlimit=\"10\" d=\"M 85.039027 28.346168 L 85.039027 56.691973 L 113.38874 56.691973 L 113.38874 28.346168 Z M 85.039027 28.346168 \" transform=\"matrix(0.999514, 0, 0, -0.999514, 0.0999514, 141.762082)\"/>\n",
       "<path fill-rule=\"nonzero\" fill=\"rgb(0%, 0%, 0%)\" fill-opacity=\"1\" stroke-width=\"0.3985\" stroke-linecap=\"butt\" stroke-linejoin=\"miter\" stroke=\"rgb(0%, 0%, 0%)\" stroke-opacity=\"1\" stroke-miterlimit=\"10\" d=\"M 85.039027 56.691973 L 85.039027 85.041686 L 113.38874 85.041686 L 113.38874 56.691973 Z M 85.039027 56.691973 \" transform=\"matrix(0.999514, 0, 0, -0.999514, 0.0999514, 141.762082)\"/>\n",
       "<path fill-rule=\"nonzero\" fill=\"rgb(0%, 0%, 0%)\" fill-opacity=\"1\" stroke-width=\"0.3985\" stroke-linecap=\"butt\" stroke-linejoin=\"miter\" stroke=\"rgb(0%, 0%, 0%)\" stroke-opacity=\"1\" stroke-miterlimit=\"10\" d=\"M 56.693222 85.041686 L 56.693222 113.387491 L 85.039027 113.387491 L 85.039027 85.041686 Z M 56.693222 85.041686 \" transform=\"matrix(0.999514, 0, 0, -0.999514, 0.0999514, 141.762082)\"/>\n",
       "</svg>"
      ],
      "text/plain": [
       "<IPython.core.display.SVG object>"
      ]
     },
     "execution_count": 4,
     "metadata": {},
     "output_type": "execute_result"
    }
   ],
   "source": [
    "%%tikz\n",
    "\\begin{tikzpicture}\n",
    "    \\draw[help lines] grid (5, 5);\n",
    "    \\draw[fill=black] (1, 1) rectangle (2, 2);\n",
    "    \\draw[fill=black] (2, 1) rectangle (3, 2);\n",
    "    \\draw[fill=black] (3, 1) rectangle (4, 2);\n",
    "    \\draw[fill=black] (3, 2) rectangle (4, 3);\n",
    "    \\draw[fill=black] (2, 3) rectangle (3, 4);\n",
    "\\end{tikzpicture}"
   ]
  },
  {
   "cell_type": "markdown",
   "metadata": {},
   "source": [
    "Or write full document by passing parameter `-f` (or `--full-document`):"
   ]
  },
  {
   "cell_type": "code",
   "execution_count": 5,
   "metadata": {},
   "outputs": [
    {
     "name": "stdout",
     "output_type": "stream",
     "text": [
      "\\documentclass[tikz]{standalone}\n",
      "\\begin{document}\n",
      "    \\begin{tikzpicture}\n",
      "        \\draw[help lines] grid (5, 5);\n",
      "        \\draw[fill=black] (1, 1) rectangle (2, 2);\n",
      "        \\draw[fill=black] (2, 1) rectangle (3, 2);\n",
      "        \\draw[fill=black] (3, 1) rectangle (4, 2);\n",
      "        \\draw[fill=black] (3, 2) rectangle (4, 3);\n",
      "        \\draw[fill=black] (2, 3) rectangle (3, 4);\n",
      "    \\end{tikzpicture}\n",
      "\\end{document}\n",
      "\n",
      "File written C:\\Users\\lucas\\AppData\\Local\\Temp\\jupyter_tikz\\tikz.tex\n",
      "Command executed pdflatex tikz.tex\n",
      "File compiled pdflatex tikz.tex\n",
      "File converted pdftocairo -svg C:\\Users\\lucas\\AppData\\Local\\Temp\\jupyter_tikz\\tikz.pdf C:\\Users\\lucas\\AppData\\Local\\Temp\\jupyter_tikz\\tikz.svg\n"
     ]
    },
    {
     "data": {
      "image/svg+xml": [
       "<svg xmlns=\"http://www.w3.org/2000/svg\" xmlns:xlink=\"http://www.w3.org/1999/xlink\" width=\"141.931\" height=\"141.931\" viewBox=\"0 0 141.931 141.931\">\n",
       "<defs>\n",
       "<clipPath id=\"clip-0\">\n",
       "<path clip-rule=\"nonzero\" d=\"M 0 0 L 141.863281 0 L 141.863281 141.863281 L 0 141.863281 Z M 0 0 \"/>\n",
       "</clipPath>\n",
       "</defs>\n",
       "<g clip-path=\"url(#clip-0)\">\n",
       "<path fill=\"none\" stroke-width=\"0.19925\" stroke-linecap=\"butt\" stroke-linejoin=\"miter\" stroke=\"rgb(50%, 50%, 50%)\" stroke-opacity=\"1\" stroke-miterlimit=\"10\" d=\"M 0.00161187 0.000363546 L 141.734545 0.000363546 M 0.00161187 28.346168 L 141.734545 28.346168 M 0.00161187 56.691973 L 141.734545 56.691973 M 0.00161187 85.041686 L 141.734545 85.041686 M 0.00161187 113.387491 L 141.734545 113.387491 M 0.00161187 141.72548 L 141.734545 141.72548 M 0.00161187 0.000363546 L 0.00161187 141.733296 M 28.347417 0.000363546 L 28.347417 141.733296 M 56.693222 0.000363546 L 56.693222 141.733296 M 85.039027 0.000363546 L 85.039027 141.733296 M 113.38874 0.000363546 L 113.38874 141.733296 M 141.72282 0.000363546 L 141.72282 141.733296 \" transform=\"matrix(0.999514, 0, 0, -0.999514, 0.0999514, 141.762082)\"/>\n",
       "</g>\n",
       "<path fill-rule=\"nonzero\" fill=\"rgb(0%, 0%, 0%)\" fill-opacity=\"1\" stroke-width=\"0.3985\" stroke-linecap=\"butt\" stroke-linejoin=\"miter\" stroke=\"rgb(0%, 0%, 0%)\" stroke-opacity=\"1\" stroke-miterlimit=\"10\" d=\"M 28.347417 28.346168 L 28.347417 56.691973 L 56.693222 56.691973 L 56.693222 28.346168 Z M 28.347417 28.346168 \" transform=\"matrix(0.999514, 0, 0, -0.999514, 0.0999514, 141.762082)\"/>\n",
       "<path fill-rule=\"nonzero\" fill=\"rgb(0%, 0%, 0%)\" fill-opacity=\"1\" stroke-width=\"0.3985\" stroke-linecap=\"butt\" stroke-linejoin=\"miter\" stroke=\"rgb(0%, 0%, 0%)\" stroke-opacity=\"1\" stroke-miterlimit=\"10\" d=\"M 56.693222 28.346168 L 56.693222 56.691973 L 85.039027 56.691973 L 85.039027 28.346168 Z M 56.693222 28.346168 \" transform=\"matrix(0.999514, 0, 0, -0.999514, 0.0999514, 141.762082)\"/>\n",
       "<path fill-rule=\"nonzero\" fill=\"rgb(0%, 0%, 0%)\" fill-opacity=\"1\" stroke-width=\"0.3985\" stroke-linecap=\"butt\" stroke-linejoin=\"miter\" stroke=\"rgb(0%, 0%, 0%)\" stroke-opacity=\"1\" stroke-miterlimit=\"10\" d=\"M 85.039027 28.346168 L 85.039027 56.691973 L 113.38874 56.691973 L 113.38874 28.346168 Z M 85.039027 28.346168 \" transform=\"matrix(0.999514, 0, 0, -0.999514, 0.0999514, 141.762082)\"/>\n",
       "<path fill-rule=\"nonzero\" fill=\"rgb(0%, 0%, 0%)\" fill-opacity=\"1\" stroke-width=\"0.3985\" stroke-linecap=\"butt\" stroke-linejoin=\"miter\" stroke=\"rgb(0%, 0%, 0%)\" stroke-opacity=\"1\" stroke-miterlimit=\"10\" d=\"M 85.039027 56.691973 L 85.039027 85.041686 L 113.38874 85.041686 L 113.38874 56.691973 Z M 85.039027 56.691973 \" transform=\"matrix(0.999514, 0, 0, -0.999514, 0.0999514, 141.762082)\"/>\n",
       "<path fill-rule=\"nonzero\" fill=\"rgb(0%, 0%, 0%)\" fill-opacity=\"1\" stroke-width=\"0.3985\" stroke-linecap=\"butt\" stroke-linejoin=\"miter\" stroke=\"rgb(0%, 0%, 0%)\" stroke-opacity=\"1\" stroke-miterlimit=\"10\" d=\"M 56.693222 85.041686 L 56.693222 113.387491 L 85.039027 113.387491 L 85.039027 85.041686 Z M 56.693222 85.041686 \" transform=\"matrix(0.999514, 0, 0, -0.999514, 0.0999514, 141.762082)\"/>\n",
       "</svg>"
      ],
      "text/plain": [
       "<IPython.core.display.SVG object>"
      ]
     },
     "execution_count": 5,
     "metadata": {},
     "output_type": "execute_result"
    }
   ],
   "source": [
    "%%tikz -f\n",
    "\\documentclass[tikz]{standalone}\n",
    "\\begin{document}\n",
    "    \\begin{tikzpicture}\n",
    "        \\draw[help lines] grid (5, 5);\n",
    "        \\draw[fill=black] (1, 1) rectangle (2, 2);\n",
    "        \\draw[fill=black] (2, 1) rectangle (3, 2);\n",
    "        \\draw[fill=black] (3, 1) rectangle (4, 2);\n",
    "        \\draw[fill=black] (3, 2) rectangle (4, 3);\n",
    "        \\draw[fill=black] (2, 3) rectangle (3, 4);\n",
    "    \\end{tikzpicture}\n",
    "\\end{document}"
   ]
  },
  {
   "cell_type": "markdown",
   "metadata": {},
   "source": [
    "You can implictly wrap the code in a standalone document with `tikzpicture` enviroment:"
   ]
  },
  {
   "cell_type": "code",
   "execution_count": 6,
   "metadata": {},
   "outputs": [
    {
     "name": "stdout",
     "output_type": "stream",
     "text": [
      "\\documentclass{standalone}\n",
      "\\usepackage{tikz}\n",
      "\\begin{document}\n",
      "\t\\begin{tikzpicture}\n",
      "\t\t\\draw[help lines] grid (5, 5);\n",
      "\t\t\\draw[fill=black] (1, 1) rectangle (2, 2);\n",
      "\t\t\\draw[fill=black] (2, 1) rectangle (3, 2);\n",
      "\t\t\\draw[fill=black] (3, 1) rectangle (4, 2);\n",
      "\t\t\\draw[fill=black] (3, 2) rectangle (4, 3);\n",
      "\t\t\\draw[fill=black] (2, 3) rectangle (3, 4);\n",
      "\t\\end{tikzpicture}\n",
      "\\end{document}\n",
      "File written C:\\Users\\lucas\\AppData\\Local\\Temp\\jupyter_tikz\\tikz.tex\n",
      "Command executed pdflatex tikz.tex\n",
      "File compiled pdflatex tikz.tex\n",
      "File converted pdftocairo -svg C:\\Users\\lucas\\AppData\\Local\\Temp\\jupyter_tikz\\tikz.pdf C:\\Users\\lucas\\AppData\\Local\\Temp\\jupyter_tikz\\tikz.svg\n"
     ]
    },
    {
     "data": {
      "image/svg+xml": [
       "<svg xmlns=\"http://www.w3.org/2000/svg\" xmlns:xlink=\"http://www.w3.org/1999/xlink\" width=\"141.931\" height=\"141.931\" viewBox=\"0 0 141.931 141.931\">\n",
       "<defs>\n",
       "<clipPath id=\"clip-0\">\n",
       "<path clip-rule=\"nonzero\" d=\"M 0 0 L 141.863281 0 L 141.863281 141.863281 L 0 141.863281 Z M 0 0 \"/>\n",
       "</clipPath>\n",
       "</defs>\n",
       "<g clip-path=\"url(#clip-0)\">\n",
       "<path fill=\"none\" stroke-width=\"0.19925\" stroke-linecap=\"butt\" stroke-linejoin=\"miter\" stroke=\"rgb(50%, 50%, 50%)\" stroke-opacity=\"1\" stroke-miterlimit=\"10\" d=\"M 0.00161187 0.000363546 L 141.734545 0.000363546 M 0.00161187 28.346168 L 141.734545 28.346168 M 0.00161187 56.691973 L 141.734545 56.691973 M 0.00161187 85.041686 L 141.734545 85.041686 M 0.00161187 113.387491 L 141.734545 113.387491 M 0.00161187 141.72548 L 141.734545 141.72548 M 0.00161187 0.000363546 L 0.00161187 141.733296 M 28.347417 0.000363546 L 28.347417 141.733296 M 56.693222 0.000363546 L 56.693222 141.733296 M 85.039027 0.000363546 L 85.039027 141.733296 M 113.38874 0.000363546 L 113.38874 141.733296 M 141.72282 0.000363546 L 141.72282 141.733296 \" transform=\"matrix(0.999514, 0, 0, -0.999514, 0.0999514, 141.762082)\"/>\n",
       "</g>\n",
       "<path fill-rule=\"nonzero\" fill=\"rgb(0%, 0%, 0%)\" fill-opacity=\"1\" stroke-width=\"0.3985\" stroke-linecap=\"butt\" stroke-linejoin=\"miter\" stroke=\"rgb(0%, 0%, 0%)\" stroke-opacity=\"1\" stroke-miterlimit=\"10\" d=\"M 28.347417 28.346168 L 28.347417 56.691973 L 56.693222 56.691973 L 56.693222 28.346168 Z M 28.347417 28.346168 \" transform=\"matrix(0.999514, 0, 0, -0.999514, 0.0999514, 141.762082)\"/>\n",
       "<path fill-rule=\"nonzero\" fill=\"rgb(0%, 0%, 0%)\" fill-opacity=\"1\" stroke-width=\"0.3985\" stroke-linecap=\"butt\" stroke-linejoin=\"miter\" stroke=\"rgb(0%, 0%, 0%)\" stroke-opacity=\"1\" stroke-miterlimit=\"10\" d=\"M 56.693222 28.346168 L 56.693222 56.691973 L 85.039027 56.691973 L 85.039027 28.346168 Z M 56.693222 28.346168 \" transform=\"matrix(0.999514, 0, 0, -0.999514, 0.0999514, 141.762082)\"/>\n",
       "<path fill-rule=\"nonzero\" fill=\"rgb(0%, 0%, 0%)\" fill-opacity=\"1\" stroke-width=\"0.3985\" stroke-linecap=\"butt\" stroke-linejoin=\"miter\" stroke=\"rgb(0%, 0%, 0%)\" stroke-opacity=\"1\" stroke-miterlimit=\"10\" d=\"M 85.039027 28.346168 L 85.039027 56.691973 L 113.38874 56.691973 L 113.38874 28.346168 Z M 85.039027 28.346168 \" transform=\"matrix(0.999514, 0, 0, -0.999514, 0.0999514, 141.762082)\"/>\n",
       "<path fill-rule=\"nonzero\" fill=\"rgb(0%, 0%, 0%)\" fill-opacity=\"1\" stroke-width=\"0.3985\" stroke-linecap=\"butt\" stroke-linejoin=\"miter\" stroke=\"rgb(0%, 0%, 0%)\" stroke-opacity=\"1\" stroke-miterlimit=\"10\" d=\"M 85.039027 56.691973 L 85.039027 85.041686 L 113.38874 85.041686 L 113.38874 56.691973 Z M 85.039027 56.691973 \" transform=\"matrix(0.999514, 0, 0, -0.999514, 0.0999514, 141.762082)\"/>\n",
       "<path fill-rule=\"nonzero\" fill=\"rgb(0%, 0%, 0%)\" fill-opacity=\"1\" stroke-width=\"0.3985\" stroke-linecap=\"butt\" stroke-linejoin=\"miter\" stroke=\"rgb(0%, 0%, 0%)\" stroke-opacity=\"1\" stroke-miterlimit=\"10\" d=\"M 56.693222 85.041686 L 56.693222 113.387491 L 85.039027 113.387491 L 85.039027 85.041686 Z M 56.693222 85.041686 \" transform=\"matrix(0.999514, 0, 0, -0.999514, 0.0999514, 141.762082)\"/>\n",
       "</svg>"
      ],
      "text/plain": [
       "<IPython.core.display.SVG object>"
      ]
     },
     "execution_count": 6,
     "metadata": {},
     "output_type": "execute_result"
    }
   ],
   "source": [
    "%%tikz -i\n",
    "\\draw[help lines] grid (5, 5);\n",
    "\\draw[fill=black] (1, 1) rectangle (2, 2);\n",
    "\\draw[fill=black] (2, 1) rectangle (3, 2);\n",
    "\\draw[fill=black] (3, 1) rectangle (4, 2);\n",
    "\\draw[fill=black] (3, 2) rectangle (4, 3);\n",
    "\\draw[fill=black] (2, 3) rectangle (3, 4);"
   ]
  },
  {
   "cell_type": "markdown",
   "metadata": {},
   "source": [
    "**Atention:** You cannot use `-f` and `-i` together:"
   ]
  },
  {
   "cell_type": "code",
   "execution_count": 7,
   "metadata": {},
   "outputs": [
    {
     "name": "stderr",
     "output_type": "stream",
     "text": [
      "Can't use --full-document and --implicit-pic together\n"
     ]
    }
   ],
   "source": [
    "%%tikz -i -f\n",
    "    \\draw (0,0) rectangle (1,1);"
   ]
  },
  {
   "cell_type": "markdown",
   "metadata": {},
   "source": [
    "## Using preamble"
   ]
  },
  {
   "cell_type": "markdown",
   "metadata": {},
   "source": [
    "You can set a preamble by using the flag `-p=\"$<name_of_preamble>\"` (or `--preamble=\"$<name_of_preamble>\"`). Preamble includes all latex code before `\\begin{document}`, except the `documentclass`."
   ]
  },
  {
   "cell_type": "code",
   "execution_count": 8,
   "metadata": {},
   "outputs": [],
   "source": [
    "preamble = r\"\"\"\n",
    "\\usepackage{tikz}\n",
    "\\usepackage{xcolor}\n",
    "\\definecolor{my_color}{RGB}{0, 238, 255}\n",
    "\"\"\""
   ]
  },
  {
   "cell_type": "code",
   "execution_count": 9,
   "metadata": {},
   "outputs": [
    {
     "name": "stdout",
     "output_type": "stream",
     "text": [
      "\\documentclass{standalone}\n",
      "\n",
      "\\usepackage{tikz}\n",
      "\\usepackage{xcolor}\n",
      "\\definecolor{my_color}{RGB}{0, 238, 255}\n",
      "\n",
      "\\begin{document}\n",
      "\t\\begin{tikzpicture}\n",
      "\t    \\draw[help lines] grid (5, 5);\n",
      "\t    \\draw[fill=my_color] (1, 1) rectangle (2, 2);\n",
      "\t    \\draw[fill=my_color] (2, 1) rectangle (3, 2);\n",
      "\t    \\draw[fill=my_color] (3, 1) rectangle (4, 2);\n",
      "\t    \\draw[fill=my_color] (3, 2) rectangle (4, 3);\n",
      "\t    \\draw[fill=my_color] (2, 3) rectangle (3, 4);\n",
      "\t\\end{tikzpicture}\n",
      "\\end{document}\n",
      "File written C:\\Users\\lucas\\AppData\\Local\\Temp\\jupyter_tikz\\tikz.tex\n",
      "Command executed pdflatex tikz.tex\n",
      "File compiled pdflatex tikz.tex\n",
      "File converted pdftocairo -svg C:\\Users\\lucas\\AppData\\Local\\Temp\\jupyter_tikz\\tikz.pdf C:\\Users\\lucas\\AppData\\Local\\Temp\\jupyter_tikz\\tikz.svg\n"
     ]
    },
    {
     "data": {
      "image/svg+xml": [
       "<svg xmlns=\"http://www.w3.org/2000/svg\" xmlns:xlink=\"http://www.w3.org/1999/xlink\" width=\"141.931\" height=\"141.931\" viewBox=\"0 0 141.931 141.931\">\n",
       "<defs>\n",
       "<clipPath id=\"clip-0\">\n",
       "<path clip-rule=\"nonzero\" d=\"M 0 0 L 141.863281 0 L 141.863281 141.863281 L 0 141.863281 Z M 0 0 \"/>\n",
       "</clipPath>\n",
       "</defs>\n",
       "<g clip-path=\"url(#clip-0)\">\n",
       "<path fill=\"none\" stroke-width=\"0.19925\" stroke-linecap=\"butt\" stroke-linejoin=\"miter\" stroke=\"rgb(50%, 50%, 50%)\" stroke-opacity=\"1\" stroke-miterlimit=\"10\" d=\"M 0.00161187 0.000363546 L 141.734545 0.000363546 M 0.00161187 28.346168 L 141.734545 28.346168 M 0.00161187 56.691973 L 141.734545 56.691973 M 0.00161187 85.041686 L 141.734545 85.041686 M 0.00161187 113.387491 L 141.734545 113.387491 M 0.00161187 141.72548 L 141.734545 141.72548 M 0.00161187 0.000363546 L 0.00161187 141.733296 M 28.347417 0.000363546 L 28.347417 141.733296 M 56.693222 0.000363546 L 56.693222 141.733296 M 85.039027 0.000363546 L 85.039027 141.733296 M 113.38874 0.000363546 L 113.38874 141.733296 M 141.72282 0.000363546 L 141.72282 141.733296 \" transform=\"matrix(0.999514, 0, 0, -0.999514, 0.0999514, 141.762082)\"/>\n",
       "</g>\n",
       "<path fill-rule=\"nonzero\" fill=\"rgb(0%, 93.331909%, 100%)\" fill-opacity=\"1\" stroke-width=\"0.3985\" stroke-linecap=\"butt\" stroke-linejoin=\"miter\" stroke=\"rgb(0%, 0%, 0%)\" stroke-opacity=\"1\" stroke-miterlimit=\"10\" d=\"M 28.347417 28.346168 L 28.347417 56.691973 L 56.693222 56.691973 L 56.693222 28.346168 Z M 28.347417 28.346168 \" transform=\"matrix(0.999514, 0, 0, -0.999514, 0.0999514, 141.762082)\"/>\n",
       "<path fill-rule=\"nonzero\" fill=\"rgb(0%, 93.331909%, 100%)\" fill-opacity=\"1\" stroke-width=\"0.3985\" stroke-linecap=\"butt\" stroke-linejoin=\"miter\" stroke=\"rgb(0%, 0%, 0%)\" stroke-opacity=\"1\" stroke-miterlimit=\"10\" d=\"M 56.693222 28.346168 L 56.693222 56.691973 L 85.039027 56.691973 L 85.039027 28.346168 Z M 56.693222 28.346168 \" transform=\"matrix(0.999514, 0, 0, -0.999514, 0.0999514, 141.762082)\"/>\n",
       "<path fill-rule=\"nonzero\" fill=\"rgb(0%, 93.331909%, 100%)\" fill-opacity=\"1\" stroke-width=\"0.3985\" stroke-linecap=\"butt\" stroke-linejoin=\"miter\" stroke=\"rgb(0%, 0%, 0%)\" stroke-opacity=\"1\" stroke-miterlimit=\"10\" d=\"M 85.039027 28.346168 L 85.039027 56.691973 L 113.38874 56.691973 L 113.38874 28.346168 Z M 85.039027 28.346168 \" transform=\"matrix(0.999514, 0, 0, -0.999514, 0.0999514, 141.762082)\"/>\n",
       "<path fill-rule=\"nonzero\" fill=\"rgb(0%, 93.331909%, 100%)\" fill-opacity=\"1\" stroke-width=\"0.3985\" stroke-linecap=\"butt\" stroke-linejoin=\"miter\" stroke=\"rgb(0%, 0%, 0%)\" stroke-opacity=\"1\" stroke-miterlimit=\"10\" d=\"M 85.039027 56.691973 L 85.039027 85.041686 L 113.38874 85.041686 L 113.38874 56.691973 Z M 85.039027 56.691973 \" transform=\"matrix(0.999514, 0, 0, -0.999514, 0.0999514, 141.762082)\"/>\n",
       "<path fill-rule=\"nonzero\" fill=\"rgb(0%, 93.331909%, 100%)\" fill-opacity=\"1\" stroke-width=\"0.3985\" stroke-linecap=\"butt\" stroke-linejoin=\"miter\" stroke=\"rgb(0%, 0%, 0%)\" stroke-opacity=\"1\" stroke-miterlimit=\"10\" d=\"M 56.693222 85.041686 L 56.693222 113.387491 L 85.039027 113.387491 L 85.039027 85.041686 Z M 56.693222 85.041686 \" transform=\"matrix(0.999514, 0, 0, -0.999514, 0.0999514, 141.762082)\"/>\n",
       "</svg>"
      ],
      "text/plain": [
       "<IPython.core.display.SVG object>"
      ]
     },
     "execution_count": 9,
     "metadata": {},
     "output_type": "execute_result"
    }
   ],
   "source": [
    "%%tikz -p \"$preamble\"\n",
    "\\begin{tikzpicture}\n",
    "    \\draw[help lines] grid (5, 5);\n",
    "    \\draw[fill=my_color] (1, 1) rectangle (2, 2);\n",
    "    \\draw[fill=my_color] (2, 1) rectangle (3, 2);\n",
    "    \\draw[fill=my_color] (3, 1) rectangle (4, 2);\n",
    "    \\draw[fill=my_color] (3, 2) rectangle (4, 3);\n",
    "    \\draw[fill=my_color] (2, 3) rectangle (3, 4);\n",
    "\\end{tikzpicture}"
   ]
  },
  {
   "cell_type": "code",
   "execution_count": 10,
   "metadata": {},
   "outputs": [
    {
     "name": "stdout",
     "output_type": "stream",
     "text": [
      "\\documentclass{standalone}\n",
      "\n",
      "\\usepackage{tikz}\n",
      "\\usepackage{xcolor}\n",
      "\\definecolor{my_color}{RGB}{0, 238, 255}\n",
      "\n",
      "\\begin{document}\n",
      "\t\\begin{tikzpicture}\n",
      "\t\t\\draw[help lines] grid (5, 5);\n",
      "\t\t\\draw[fill=my_color] (1, 1) rectangle (2, 2);\n",
      "\t\t\\draw[fill=my_color] (2, 1) rectangle (3, 2);\n",
      "\t\t\\draw[fill=my_color] (3, 1) rectangle (4, 2);\n",
      "\t\t\\draw[fill=my_color] (3, 2) rectangle (4, 3);\n",
      "\t\t\\draw[fill=my_color] (2, 3) rectangle (3, 4);\n",
      "\t\\end{tikzpicture}\n",
      "\\end{document}\n",
      "File written C:\\Users\\lucas\\AppData\\Local\\Temp\\jupyter_tikz\\tikz.tex\n",
      "Command executed pdflatex tikz.tex\n",
      "File compiled pdflatex tikz.tex\n",
      "File converted pdftocairo -svg C:\\Users\\lucas\\AppData\\Local\\Temp\\jupyter_tikz\\tikz.pdf C:\\Users\\lucas\\AppData\\Local\\Temp\\jupyter_tikz\\tikz.svg\n"
     ]
    },
    {
     "data": {
      "image/svg+xml": [
       "<svg xmlns=\"http://www.w3.org/2000/svg\" xmlns:xlink=\"http://www.w3.org/1999/xlink\" width=\"141.931\" height=\"141.931\" viewBox=\"0 0 141.931 141.931\">\n",
       "<defs>\n",
       "<clipPath id=\"clip-0\">\n",
       "<path clip-rule=\"nonzero\" d=\"M 0 0 L 141.863281 0 L 141.863281 141.863281 L 0 141.863281 Z M 0 0 \"/>\n",
       "</clipPath>\n",
       "</defs>\n",
       "<g clip-path=\"url(#clip-0)\">\n",
       "<path fill=\"none\" stroke-width=\"0.19925\" stroke-linecap=\"butt\" stroke-linejoin=\"miter\" stroke=\"rgb(50%, 50%, 50%)\" stroke-opacity=\"1\" stroke-miterlimit=\"10\" d=\"M 0.00161187 0.000363546 L 141.734545 0.000363546 M 0.00161187 28.346168 L 141.734545 28.346168 M 0.00161187 56.691973 L 141.734545 56.691973 M 0.00161187 85.041686 L 141.734545 85.041686 M 0.00161187 113.387491 L 141.734545 113.387491 M 0.00161187 141.72548 L 141.734545 141.72548 M 0.00161187 0.000363546 L 0.00161187 141.733296 M 28.347417 0.000363546 L 28.347417 141.733296 M 56.693222 0.000363546 L 56.693222 141.733296 M 85.039027 0.000363546 L 85.039027 141.733296 M 113.38874 0.000363546 L 113.38874 141.733296 M 141.72282 0.000363546 L 141.72282 141.733296 \" transform=\"matrix(0.999514, 0, 0, -0.999514, 0.0999514, 141.762082)\"/>\n",
       "</g>\n",
       "<path fill-rule=\"nonzero\" fill=\"rgb(0%, 93.331909%, 100%)\" fill-opacity=\"1\" stroke-width=\"0.3985\" stroke-linecap=\"butt\" stroke-linejoin=\"miter\" stroke=\"rgb(0%, 0%, 0%)\" stroke-opacity=\"1\" stroke-miterlimit=\"10\" d=\"M 28.347417 28.346168 L 28.347417 56.691973 L 56.693222 56.691973 L 56.693222 28.346168 Z M 28.347417 28.346168 \" transform=\"matrix(0.999514, 0, 0, -0.999514, 0.0999514, 141.762082)\"/>\n",
       "<path fill-rule=\"nonzero\" fill=\"rgb(0%, 93.331909%, 100%)\" fill-opacity=\"1\" stroke-width=\"0.3985\" stroke-linecap=\"butt\" stroke-linejoin=\"miter\" stroke=\"rgb(0%, 0%, 0%)\" stroke-opacity=\"1\" stroke-miterlimit=\"10\" d=\"M 56.693222 28.346168 L 56.693222 56.691973 L 85.039027 56.691973 L 85.039027 28.346168 Z M 56.693222 28.346168 \" transform=\"matrix(0.999514, 0, 0, -0.999514, 0.0999514, 141.762082)\"/>\n",
       "<path fill-rule=\"nonzero\" fill=\"rgb(0%, 93.331909%, 100%)\" fill-opacity=\"1\" stroke-width=\"0.3985\" stroke-linecap=\"butt\" stroke-linejoin=\"miter\" stroke=\"rgb(0%, 0%, 0%)\" stroke-opacity=\"1\" stroke-miterlimit=\"10\" d=\"M 85.039027 28.346168 L 85.039027 56.691973 L 113.38874 56.691973 L 113.38874 28.346168 Z M 85.039027 28.346168 \" transform=\"matrix(0.999514, 0, 0, -0.999514, 0.0999514, 141.762082)\"/>\n",
       "<path fill-rule=\"nonzero\" fill=\"rgb(0%, 93.331909%, 100%)\" fill-opacity=\"1\" stroke-width=\"0.3985\" stroke-linecap=\"butt\" stroke-linejoin=\"miter\" stroke=\"rgb(0%, 0%, 0%)\" stroke-opacity=\"1\" stroke-miterlimit=\"10\" d=\"M 85.039027 56.691973 L 85.039027 85.041686 L 113.38874 85.041686 L 113.38874 56.691973 Z M 85.039027 56.691973 \" transform=\"matrix(0.999514, 0, 0, -0.999514, 0.0999514, 141.762082)\"/>\n",
       "<path fill-rule=\"nonzero\" fill=\"rgb(0%, 93.331909%, 100%)\" fill-opacity=\"1\" stroke-width=\"0.3985\" stroke-linecap=\"butt\" stroke-linejoin=\"miter\" stroke=\"rgb(0%, 0%, 0%)\" stroke-opacity=\"1\" stroke-miterlimit=\"10\" d=\"M 56.693222 85.041686 L 56.693222 113.387491 L 85.039027 113.387491 L 85.039027 85.041686 Z M 56.693222 85.041686 \" transform=\"matrix(0.999514, 0, 0, -0.999514, 0.0999514, 141.762082)\"/>\n",
       "</svg>"
      ],
      "text/plain": [
       "<IPython.core.display.SVG object>"
      ]
     },
     "execution_count": 10,
     "metadata": {},
     "output_type": "execute_result"
    }
   ],
   "source": [
    "%%tikz -p \"$preamble\" -i\n",
    "\\draw[help lines] grid (5, 5);\n",
    "\\draw[fill=my_color] (1, 1) rectangle (2, 2);\n",
    "\\draw[fill=my_color] (2, 1) rectangle (3, 2);\n",
    "\\draw[fill=my_color] (3, 1) rectangle (4, 2);\n",
    "\\draw[fill=my_color] (3, 2) rectangle (4, 3);\n",
    "\\draw[fill=my_color] (2, 3) rectangle (3, 4);"
   ]
  },
  {
   "cell_type": "markdown",
   "metadata": {},
   "source": [
    "## Loading packages and libraries"
   ]
  },
  {
   "cell_type": "markdown",
   "metadata": {},
   "source": [
    "If you not using the flag `-f` (or `--full-document`) or ``, it's often usefull to use:\n",
    "\n",
    "- Set the `\\usepackage{X,Y,Z}` via `--t=<X,Y,Z>` (or `--tex-packages=<X,Y,Z>`)\n",
    "- Set the `\\usetizlibrary{X,Y,Z}` via `--l=<X,Y,Z>` (or `--tikz-libraries=<X,Y,Z>`)\n",
    "- Set the `\\usepgfplotslibrary{X,Y,Z}` via `-lp=<X,Y,Z>` or (`--pgfplots-libraries=<X,Y,Z>`)\n",
    "\n",
    "Note that `tikz` package was imported automatically."
   ]
  },
  {
   "cell_type": "code",
   "execution_count": 11,
   "metadata": {},
   "outputs": [
    {
     "name": "stdout",
     "output_type": "stream",
     "text": [
      "\\documentclass{standalone}\n",
      "\\usepackage{tikz}\n",
      "\\usepackage{amsfonts,pgfplots}\n",
      "\\usetikzlibrary{quotes,angles}\n",
      "\\usepgfplotslibrary{colormaps}\n",
      "\\begin{document}\n",
      "\t\\begin{tikzpicture}\n",
      "\t\t% Example from Paul Gaborit\n",
      "\t\t% http://www.texample.net/tikz/examples/angles-quotes/\n",
      "\t\t\\draw\n",
      "\t\t    (3,-1) coordinate (a) node[right] {a}\n",
      "\t\t    -- (0,0) coordinate (b) node[left] {b}\n",
      "\t\t    -- (2,2) coordinate (c) node[above right] {c}\n",
      "\t\t    pic[\"$\\alpha$\", draw=orange, <->, angle eccentricity=1.2, angle radius=1cm]\n",
      "\t\t    {angle=a--b--c};\n",
      "    \n",
      "\t\t\\node[rotate=10] (r) at (2.5, 0.65) {Something about in $\\mathbb{R}^2$};\n",
      "\t\\end{tikzpicture}\n",
      "\\end{document}\n",
      "File written C:\\Users\\lucas\\AppData\\Local\\Temp\\jupyter_tikz\\tikz.tex\n",
      "Command executed pdflatex tikz.tex\n",
      "File compiled pdflatex tikz.tex\n",
      "File converted pdftocairo -svg C:\\Users\\lucas\\AppData\\Local\\Temp\\jupyter_tikz\\tikz.pdf C:\\Users\\lucas\\AppData\\Local\\Temp\\jupyter_tikz\\tikz.svg\n"
     ]
    },
    {
     "data": {
      "image/svg+xml": [
       "<svg xmlns=\"http://www.w3.org/2000/svg\" xmlns:xlink=\"http://www.w3.org/1999/xlink\" width=\"137.719\" height=\"101.634\" viewBox=\"0 0 137.719 101.634\">\n",
       "<defs>\n",
       "<g>\n",
       "<g id=\"glyph-0-0\">\n",
       "<path d=\"M 3.296875 -0.75 C 3.34375 -0.359375 3.609375 0.0625 4.078125 0.0625 C 4.28125 0.0625 4.890625 -0.078125 4.890625 -0.890625 L 4.890625 -1.4375 L 4.640625 -1.4375 L 4.640625 -0.890625 C 4.640625 -0.3125 4.390625 -0.25 4.28125 -0.25 C 3.953125 -0.25 3.921875 -0.6875 3.921875 -0.75 L 3.921875 -2.734375 C 3.921875 -3.140625 3.921875 -3.53125 3.5625 -3.90625 C 3.171875 -4.28125 2.671875 -4.4375 2.203125 -4.4375 C 1.390625 -4.4375 0.703125 -3.984375 0.703125 -3.328125 C 0.703125 -3.03125 0.90625 -2.859375 1.15625 -2.859375 C 1.4375 -2.859375 1.625 -3.0625 1.625 -3.3125 C 1.625 -3.4375 1.5625 -3.765625 1.109375 -3.765625 C 1.375 -4.125 1.859375 -4.234375 2.1875 -4.234375 C 2.671875 -4.234375 3.234375 -3.84375 3.234375 -2.953125 L 3.234375 -2.59375 C 2.734375 -2.5625 2.03125 -2.53125 1.40625 -2.234375 C 0.671875 -1.890625 0.421875 -1.375 0.421875 -0.9375 C 0.421875 -0.140625 1.375 0.109375 2 0.109375 C 2.65625 0.109375 3.109375 -0.28125 3.296875 -0.75 Z M 3.234375 -2.375 L 3.234375 -1.390625 C 3.234375 -0.453125 2.515625 -0.109375 2.078125 -0.109375 C 1.59375 -0.109375 1.1875 -0.453125 1.1875 -0.953125 C 1.1875 -1.5 1.59375 -2.328125 3.234375 -2.375 Z M 3.234375 -2.375 \"/>\n",
       "</g>\n",
       "<g id=\"glyph-0-1\">\n",
       "<path d=\"M 1.703125 -3.734375 L 1.703125 -6.890625 L 0.28125 -6.78125 L 0.28125 -6.46875 C 0.96875 -6.46875 1.046875 -6.40625 1.046875 -5.90625 L 1.046875 0 L 1.296875 0 C 1.3125 -0.015625 1.390625 -0.15625 1.65625 -0.609375 C 1.8125 -0.390625 2.21875 0.109375 2.953125 0.109375 C 4.140625 0.109375 5.171875 -0.859375 5.171875 -2.140625 C 5.171875 -3.40625 4.203125 -4.390625 3.0625 -4.390625 C 2.296875 -4.390625 1.859375 -3.921875 1.703125 -3.734375 Z M 1.734375 -1.125 L 1.734375 -3.171875 C 1.734375 -3.359375 1.734375 -3.375 1.84375 -3.53125 C 2.234375 -4.09375 2.78125 -4.171875 3.015625 -4.171875 C 3.46875 -4.171875 3.8125 -3.90625 4.0625 -3.53125 C 4.3125 -3.125 4.34375 -2.5625 4.34375 -2.15625 C 4.34375 -1.78125 4.328125 -1.1875 4.03125 -0.75 C 3.828125 -0.4375 3.453125 -0.109375 2.921875 -0.109375 C 2.46875 -0.109375 2.109375 -0.34375 1.875 -0.71875 C 1.734375 -0.921875 1.734375 -0.953125 1.734375 -1.125 Z M 1.734375 -1.125 \"/>\n",
       "</g>\n",
       "<g id=\"glyph-0-2\">\n",
       "<path d=\"M 1.15625 -2.15625 C 1.15625 -3.78125 1.96875 -4.203125 2.5 -4.203125 C 2.59375 -4.203125 3.21875 -4.1875 3.5625 -3.828125 C 3.15625 -3.796875 3.09375 -3.5 3.09375 -3.375 C 3.09375 -3.109375 3.28125 -2.921875 3.546875 -2.921875 C 3.8125 -2.921875 4.015625 -3.078125 4.015625 -3.390625 C 4.015625 -4.0625 3.25 -4.4375 2.484375 -4.4375 C 1.25 -4.4375 0.34375 -3.375 0.34375 -2.140625 C 0.34375 -0.875 1.3125 0.109375 2.46875 0.109375 C 3.796875 0.109375 4.125 -1.078125 4.125 -1.1875 C 4.125 -1.28125 4.015625 -1.28125 3.984375 -1.28125 C 3.90625 -1.28125 3.875 -1.234375 3.859375 -1.1875 C 3.578125 -0.265625 2.921875 -0.140625 2.5625 -0.140625 C 2.03125 -0.140625 1.15625 -0.5625 1.15625 -2.15625 Z M 1.15625 -2.15625 \"/>\n",
       "</g>\n",
       "<g id=\"glyph-1-0\">\n",
       "<path d=\"M 4.734375 -2.34375 C 4.734375 -3.90625 3.8125 -4.390625 3.078125 -4.390625 C 1.71875 -4.390625 0.40625 -2.96875 0.40625 -1.5625 C 0.40625 -0.640625 1 0.109375 2.015625 0.109375 C 2.640625 0.109375 3.359375 -0.125 4.109375 -0.71875 C 4.234375 -0.203125 4.5625 0.109375 5.015625 0.109375 C 5.53125 0.109375 5.84375 -0.4375 5.84375 -0.59375 C 5.84375 -0.671875 5.78125 -0.6875 5.71875 -0.6875 C 5.65625 -0.6875 5.625 -0.671875 5.59375 -0.59375 C 5.421875 -0.109375 5.0625 -0.109375 5.046875 -0.109375 C 4.734375 -0.109375 4.734375 -0.890625 4.734375 -1.125 C 4.734375 -1.328125 4.734375 -1.34375 4.828125 -1.46875 C 5.765625 -2.640625 5.96875 -3.796875 5.96875 -3.796875 C 5.96875 -3.8125 5.96875 -3.90625 5.859375 -3.90625 C 5.75 -3.90625 5.75 -3.875 5.703125 -3.6875 C 5.53125 -3.0625 5.203125 -2.3125 4.734375 -1.71875 Z M 4.0625 -0.984375 C 3.1875 -0.21875 2.4375 -0.109375 2.03125 -0.109375 C 1.4375 -0.109375 1.140625 -0.5625 1.140625 -1.1875 C 1.140625 -1.671875 1.40625 -2.75 1.71875 -3.25 C 2.1875 -3.984375 2.71875 -4.171875 3.0625 -4.171875 C 4.046875 -4.171875 4.046875 -2.875 4.046875 -2.09375 C 4.046875 -1.71875 4.046875 -1.15625 4.0625 -0.984375 Z M 4.0625 -0.984375 \"/>\n",
       "</g>\n",
       "<g id=\"glyph-2-0\">\n",
       "<path d=\"M 2.75 -4.390625 L 1.4375 -4.46875 C 0.796875 -4.53125 0.328125 -4.96875 0.234375 -5.546875 C 0.109375 -6.21875 0.515625 -6.90625 1.296875 -7.046875 C 2.921875 -7.328125 3.421875 -5.78125 3.5625 -5.328125 C 3.578125 -5.28125 3.59375 -5.234375 3.703125 -5.265625 C 3.828125 -5.28125 3.8125 -5.328125 3.78125 -5.5 L 3.4375 -7.453125 C 3.40625 -7.625 3.390625 -7.703125 3.296875 -7.6875 C 3.21875 -7.671875 3.21875 -7.65625 3.171875 -7.515625 L 2.921875 -6.90625 C 2.578125 -7.15625 2.109375 -7.484375 1.234375 -7.328125 C 0.15625 -7.125 -0.515625 -6.125 -0.328125 -5.078125 C -0.1875 -4.28125 0.453125 -3.65625 1.265625 -3.53125 C 1.375 -3.515625 1.90625 -3.46875 2.625 -3.421875 C 2.890625 -3.40625 3.1875 -3.390625 3.53125 -3.09375 C 3.78125 -2.859375 3.9375 -2.546875 3.984375 -2.25 C 4.109375 -1.53125 3.734375 -0.75 2.921875 -0.609375 C 2.640625 -0.5625 1.875 -0.484375 1.296875 -0.859375 C 0.625 -1.28125 0.484375 -1.90625 0.40625 -2.265625 C 0.390625 -2.359375 0.3125 -2.34375 0.28125 -2.34375 C 0.15625 -2.3125 0.171875 -2.25 0.203125 -2.0625 L 0.546875 -0.109375 C 0.578125 0.0625 0.578125 0.125 0.6875 0.109375 C 0.75 0.09375 0.765625 0.078125 0.8125 -0.046875 C 0.8125 -0.0625 0.84375 -0.09375 1.078125 -0.671875 C 1.4375 -0.390625 2.109375 -0.140625 2.984375 -0.296875 C 4.125 -0.5 4.75 -1.59375 4.5625 -2.671875 C 4.375 -3.65625 3.59375 -4.34375 2.75 -4.390625 Z M 2.75 -4.390625 \"/>\n",
       "</g>\n",
       "<g id=\"glyph-2-1\">\n",
       "<path d=\"M 4.21875 -2.90625 C 4 -4.15625 2.859375 -5.015625 1.6875 -4.8125 C 0.453125 -4.59375 -0.296875 -3.359375 -0.09375 -2.140625 C 0.140625 -0.875 1.3125 -0.125 2.453125 -0.3125 C 3.625 -0.53125 4.4375 -1.65625 4.21875 -2.90625 Z M 2.421875 -0.578125 C 1.984375 -0.5 1.53125 -0.625 1.1875 -1.015625 C 0.859375 -1.40625 0.765625 -2 0.703125 -2.359375 C 0.625 -2.734375 0.53125 -3.265625 0.703125 -3.75 C 0.875 -4.234375 1.3125 -4.53125 1.703125 -4.59375 C 2.125 -4.671875 2.578125 -4.53125 2.921875 -4.15625 C 3.234375 -3.78125 3.328125 -3.203125 3.40625 -2.84375 C 3.46875 -2.484375 3.546875 -1.96875 3.40625 -1.484375 C 3.28125 -1.015625 2.890625 -0.65625 2.421875 -0.578125 Z M 2.421875 -0.578125 \"/>\n",
       "</g>\n",
       "<g id=\"glyph-2-2\">\n",
       "<path d=\"M 0.484375 -3.546875 L 0.953125 -0.921875 C 1.03125 -0.5 0.921875 -0.484375 0.265625 -0.359375 L 0.3125 -0.046875 C 0.65625 -0.125 1.15625 -0.234375 1.421875 -0.28125 C 1.671875 -0.328125 2.1875 -0.40625 2.515625 -0.4375 L 2.46875 -0.75 C 1.8125 -0.640625 1.703125 -0.625 1.625 -1.046875 L 1.296875 -2.84375 C 1.125 -3.859375 1.734375 -4.546875 2.34375 -4.65625 C 2.953125 -4.765625 3.15625 -4.234375 3.25 -3.6875 L 3.65625 -1.40625 C 3.734375 -0.984375 3.625 -0.96875 2.984375 -0.84375 L 3.03125 -0.53125 C 3.375 -0.609375 3.859375 -0.71875 4.140625 -0.765625 C 4.390625 -0.796875 4.890625 -0.875 5.234375 -0.921875 L 5.1875 -1.234375 C 4.515625 -1.125 4.421875 -1.09375 4.34375 -1.515625 L 4.015625 -3.3125 C 3.84375 -4.328125 4.4375 -5.015625 5.0625 -5.125 C 5.6875 -5.234375 5.890625 -4.703125 5.984375 -4.15625 L 6.390625 -1.875 C 6.46875 -1.453125 6.359375 -1.4375 5.6875 -1.328125 L 5.734375 -1.015625 C 6.09375 -1.09375 6.578125 -1.1875 6.84375 -1.234375 C 7.109375 -1.28125 7.609375 -1.359375 7.9375 -1.40625 L 7.890625 -1.71875 C 7.390625 -1.625 7.140625 -1.578125 7.078125 -1.859375 L 6.75 -3.734375 C 6.609375 -4.578125 6.546875 -4.859375 6.171875 -5.171875 C 6 -5.3125 5.65625 -5.453125 5.078125 -5.359375 C 4.265625 -5.21875 3.9375 -4.546875 3.84375 -4.140625 C 3.546875 -4.96875 2.796875 -4.953125 2.375 -4.875 C 1.65625 -4.75 1.28125 -4.234375 1.109375 -3.59375 L 0.921875 -4.625 L -0.4375 -4.265625 L -0.375 -3.953125 C 0.3125 -4.078125 0.40625 -4.03125 0.484375 -3.546875 Z M 0.484375 -3.546875 \"/>\n",
       "</g>\n",
       "<g id=\"glyph-2-3\">\n",
       "<path d=\"M 0.65625 -2.65625 C 0.46875 -4.125 1.234375 -4.515625 1.578125 -4.578125 C 2.578125 -4.75 2.921875 -3.453125 2.984375 -3.078125 Z M 0.671875 -2.453125 L 3.40625 -2.9375 C 3.625 -2.96875 3.65625 -2.984375 3.625 -3.1875 C 3.453125 -4.15625 2.765625 -5 1.546875 -4.78125 C 0.40625 -4.578125 -0.3125 -3.421875 -0.09375 -2.203125 C 0.125 -0.890625 1.3125 -0.125 2.4375 -0.3125 C 3.625 -0.53125 3.890625 -1.6875 3.859375 -1.890625 C 3.84375 -1.984375 3.75 -1.984375 3.703125 -1.96875 C 3.625 -1.953125 3.59375 -1.890625 3.59375 -1.8125 C 3.4375 -0.75 2.546875 -0.59375 2.453125 -0.578125 C 1.96875 -0.5 1.515625 -0.71875 1.25 -1.03125 C 0.859375 -1.453125 0.734375 -2.09375 0.671875 -2.453125 Z M 0.671875 -2.453125 \"/>\n",
       "</g>\n",
       "<g id=\"glyph-2-4\">\n",
       "<path d=\"M 1 -4.203125 L 2.40625 -4.453125 L 2.34375 -4.765625 L 0.9375 -4.515625 L 0.625 -6.3125 L 0.390625 -6.265625 C 0.515625 -5.453125 0.40625 -4.375 -0.546875 -4.15625 L -0.5 -3.9375 L 0.328125 -4.078125 L 0.796875 -1.390625 C 1.015625 -0.1875 1.9375 -0.234375 2.296875 -0.296875 C 2.984375 -0.421875 3.140625 -1.15625 3.03125 -1.796875 L 2.9375 -2.34375 L 2.6875 -2.296875 L 2.78125 -1.765625 C 2.90625 -1.03125 2.671875 -0.625 2.3125 -0.546875 C 1.65625 -0.4375 1.5 -1.328125 1.484375 -1.484375 Z M 1 -4.203125 \"/>\n",
       "</g>\n",
       "<g id=\"glyph-2-5\">\n",
       "<path d=\"M 0.953125 -0.921875 C 1.03125 -0.5 0.921875 -0.484375 0.265625 -0.359375 L 0.3125 -0.046875 C 0.65625 -0.125 1.15625 -0.234375 1.421875 -0.28125 C 1.671875 -0.328125 2.1875 -0.40625 2.515625 -0.4375 L 2.46875 -0.75 C 1.8125 -0.640625 1.703125 -0.625 1.625 -1.046875 L 1.296875 -2.84375 C 1.125 -3.859375 1.734375 -4.546875 2.34375 -4.65625 C 2.953125 -4.765625 3.15625 -4.234375 3.25 -3.6875 L 3.65625 -1.40625 C 3.734375 -0.984375 3.625 -0.96875 2.984375 -0.84375 L 3.03125 -0.53125 C 3.375 -0.609375 3.859375 -0.71875 4.140625 -0.765625 C 4.390625 -0.796875 4.890625 -0.875 5.234375 -0.921875 L 5.1875 -1.234375 C 4.671875 -1.140625 4.4375 -1.109375 4.359375 -1.375 L 4.03125 -3.25 C 3.890625 -4.09375 3.828125 -4.375 3.46875 -4.6875 C 3.296875 -4.828125 2.9375 -4.984375 2.375 -4.875 C 1.546875 -4.734375 1.234375 -4.0625 1.125 -3.65625 L 0.515625 -7.078125 L -0.859375 -6.71875 L -0.8125 -6.421875 C -0.125 -6.546875 -0.03125 -6.5 0.046875 -6 Z M 0.953125 -0.921875 \"/>\n",
       "</g>\n",
       "<g id=\"glyph-2-6\">\n",
       "<path d=\"M 0.953125 -4.625 L -0.390625 -4.28125 L -0.328125 -3.96875 C 0.3125 -4.078125 0.40625 -4.03125 0.484375 -3.5625 L 0.953125 -0.921875 C 1.03125 -0.5 0.921875 -0.484375 0.28125 -0.375 L 0.328125 -0.0625 C 0.625 -0.125 1.171875 -0.234375 1.40625 -0.28125 C 1.734375 -0.34375 2.078125 -0.375 2.421875 -0.421875 L 2.375 -0.734375 C 1.71875 -0.625 1.65625 -0.65625 1.59375 -1.03125 Z M 0.703125 -6.328125 C 0.65625 -6.640625 0.359375 -6.8125 0.09375 -6.765625 C -0.203125 -6.71875 -0.375 -6.40625 -0.328125 -6.140625 C -0.28125 -5.875 -0.015625 -5.6875 0.28125 -5.734375 C 0.546875 -5.78125 0.765625 -6.015625 0.703125 -6.328125 Z M 0.703125 -6.328125 \"/>\n",
       "</g>\n",
       "<g id=\"glyph-2-7\">\n",
       "<path d=\"M 0.484375 -3.546875 L 0.953125 -0.921875 C 1.03125 -0.5 0.921875 -0.484375 0.265625 -0.359375 L 0.3125 -0.046875 C 0.65625 -0.125 1.15625 -0.234375 1.421875 -0.28125 C 1.671875 -0.328125 2.1875 -0.40625 2.515625 -0.4375 L 2.46875 -0.75 C 1.8125 -0.640625 1.703125 -0.625 1.625 -1.046875 L 1.296875 -2.84375 C 1.125 -3.859375 1.734375 -4.546875 2.34375 -4.65625 C 2.953125 -4.765625 3.15625 -4.234375 3.25 -3.6875 L 3.65625 -1.40625 C 3.734375 -0.984375 3.625 -0.96875 2.984375 -0.84375 L 3.03125 -0.53125 C 3.375 -0.609375 3.859375 -0.71875 4.140625 -0.765625 C 4.390625 -0.796875 4.890625 -0.875 5.234375 -0.921875 L 5.1875 -1.234375 C 4.671875 -1.140625 4.4375 -1.109375 4.359375 -1.375 L 4.03125 -3.25 C 3.890625 -4.09375 3.828125 -4.375 3.46875 -4.6875 C 3.296875 -4.828125 2.9375 -4.984375 2.375 -4.875 C 1.65625 -4.75 1.28125 -4.234375 1.109375 -3.59375 L 0.921875 -4.625 L -0.4375 -4.265625 L -0.375 -3.953125 C 0.3125 -4.078125 0.40625 -4.03125 0.484375 -3.546875 Z M 0.484375 -3.546875 \"/>\n",
       "</g>\n",
       "<g id=\"glyph-2-8\">\n",
       "<path d=\"M 1.875 -2.046875 C 1.03125 -1.90625 0.859375 -2.890625 0.828125 -3.109375 C 0.78125 -3.375 0.71875 -3.703125 0.828125 -3.96875 C 0.875 -4.09375 1.0625 -4.40625 1.453125 -4.46875 C 2.296875 -4.625 2.46875 -3.65625 2.5 -3.421875 C 2.546875 -3.15625 2.609375 -2.84375 2.5 -2.578125 C 2.4375 -2.4375 2.25 -2.125 1.875 -2.046875 Z M 0.796875 -1.484375 C 0.796875 -1.53125 0.75 -1.75 0.890625 -1.96875 C 1.3125 -1.78125 1.734375 -1.8125 1.921875 -1.84375 C 2.828125 -2.015625 3.375 -2.78125 3.25 -3.53125 C 3.171875 -3.90625 2.953125 -4.234375 2.6875 -4.421875 C 2.96875 -4.828125 3.3125 -4.9375 3.484375 -4.96875 C 3.5 -4.96875 3.546875 -4.96875 3.59375 -4.96875 C 3.484375 -4.921875 3.453125 -4.796875 3.484375 -4.671875 C 3.5 -4.5 3.65625 -4.390625 3.828125 -4.421875 C 3.921875 -4.4375 4.078125 -4.546875 4.03125 -4.78125 C 4.015625 -4.9375 3.828125 -5.25 3.46875 -5.1875 C 3.265625 -5.15625 2.84375 -5.015625 2.5 -4.53125 C 2.046875 -4.796875 1.625 -4.75 1.40625 -4.703125 C 0.5 -4.546875 -0.0625 -3.75 0.0625 -3 C 0.140625 -2.578125 0.421875 -2.234375 0.71875 -2.078125 C 0.609375 -1.890625 0.484375 -1.546875 0.546875 -1.203125 C 0.59375 -0.890625 0.796875 -0.5625 1.140625 -0.40625 C 0.5625 -0.15625 0.34375 0.34375 0.421875 0.71875 C 0.546875 1.4375 1.609375 1.796875 2.796875 1.59375 C 3.9375 1.390625 4.859375 0.703125 4.734375 -0.0625 C 4.671875 -0.390625 4.453125 -0.875 3.90625 -1.0625 C 3.34375 -1.234375 2.765625 -1.125 2.1875 -1.03125 C 1.9375 -0.984375 1.5 -0.90625 1.4375 -0.921875 C 1.125 -0.890625 0.859375 -1.171875 0.796875 -1.484375 Z M 2.765625 1.34375 C 1.78125 1.53125 1.015625 1.15625 0.921875 0.625 C 0.84375 0.1875 1.140625 -0.25 1.5625 -0.34375 L 2.140625 -0.4375 C 2.984375 -0.59375 4.078125 -0.78125 4.234375 0.046875 C 4.328125 0.578125 3.71875 1.1875 2.765625 1.34375 Z M 2.765625 1.34375 \"/>\n",
       "</g>\n",
       "<g id=\"glyph-2-9\">\n",
       "<path d=\"M 3.125 -1.3125 C 3.234375 -0.9375 3.5625 -0.5625 4.03125 -0.640625 C 4.234375 -0.6875 4.796875 -0.921875 4.65625 -1.71875 L 4.5625 -2.265625 L 4.3125 -2.234375 L 4.40625 -1.6875 C 4.515625 -1.125 4.28125 -1.015625 4.171875 -1 C 3.84375 -0.9375 3.734375 -1.359375 3.734375 -1.421875 L 3.390625 -3.375 C 3.3125 -3.78125 3.25 -4.171875 2.84375 -4.46875 C 2.375 -4.765625 1.859375 -4.84375 1.40625 -4.75 C 0.609375 -4.609375 0 -4.046875 0.109375 -3.40625 C 0.15625 -3.109375 0.390625 -2.96875 0.640625 -3.015625 C 0.921875 -3.0625 1.0625 -3.296875 1.015625 -3.546875 C 1 -3.671875 0.875 -3.96875 0.4375 -3.890625 C 0.640625 -4.296875 1.09375 -4.5 1.421875 -4.546875 C 1.890625 -4.640625 2.515625 -4.34375 2.671875 -3.46875 L 2.734375 -3.109375 C 2.25 -3 1.5625 -2.859375 1 -2.453125 C 0.328125 -1.96875 0.1875 -1.4375 0.265625 -1 C 0.390625 -0.21875 1.375 -0.125 1.984375 -0.234375 C 2.625 -0.359375 3.015625 -0.828125 3.125 -1.3125 Z M 2.78125 -2.90625 L 2.953125 -1.9375 C 3.109375 -1.015625 2.46875 -0.546875 2.03125 -0.46875 C 1.546875 -0.390625 1.09375 -0.65625 1 -1.140625 C 0.90625 -1.6875 1.15625 -2.578125 2.78125 -2.90625 Z M 2.78125 -2.90625 \"/>\n",
       "</g>\n",
       "<g id=\"glyph-2-10\">\n",
       "<path d=\"M 1.015625 -3.96875 L 0.46875 -7.078125 L -0.890625 -6.71875 L -0.84375 -6.421875 C -0.171875 -6.546875 -0.078125 -6.5 0 -6 L 1.03125 -0.1875 L 1.28125 -0.21875 C 1.296875 -0.25 1.34375 -0.390625 1.515625 -0.875 C 1.71875 -0.703125 2.203125 -0.28125 2.921875 -0.40625 C 4.09375 -0.609375 4.9375 -1.734375 4.71875 -3 C 4.5 -4.25 3.375 -5.0625 2.25 -4.859375 C 1.5 -4.734375 1.140625 -4.1875 1.015625 -3.96875 Z M 1.5 -1.40625 L 1.15625 -3.421875 C 1.125 -3.609375 1.109375 -3.625 1.203125 -3.796875 C 1.5 -4.421875 2.015625 -4.59375 2.25 -4.640625 C 2.703125 -4.71875 3.078125 -4.5 3.390625 -4.1875 C 3.703125 -3.828125 3.84375 -3.28125 3.90625 -2.875 C 3.96875 -2.5 4.0625 -1.921875 3.84375 -1.4375 C 3.6875 -1.109375 3.390625 -0.703125 2.859375 -0.609375 C 2.421875 -0.53125 2.015625 -0.703125 1.71875 -1.03125 C 1.546875 -1.203125 1.53125 -1.234375 1.5 -1.40625 Z M 1.5 -1.40625 \"/>\n",
       "</g>\n",
       "<g id=\"glyph-2-11\">\n",
       "<path d=\"M 3.671875 -1.4375 L 3.828125 -0.5625 L 5.234375 -0.921875 L 5.1875 -1.234375 C 4.5 -1.109375 4.40625 -1.15625 4.3125 -1.625 L 3.703125 -5.109375 L 2.28125 -4.75 L 2.34375 -4.4375 C 3.015625 -4.5625 3.109375 -4.515625 3.1875 -4.03125 L 3.5 -2.28125 C 3.640625 -1.4375 3.3125 -0.703125 2.59375 -0.578125 C 1.765625 -0.421875 1.65625 -0.875 1.5625 -1.390625 L 0.984375 -4.640625 L -0.4375 -4.265625 L -0.375 -3.953125 C 0.390625 -4.09375 0.390625 -4.0625 0.546875 -3.203125 L 0.8125 -1.71875 C 0.9375 -0.96875 1.09375 -0.078125 2.5625 -0.34375 C 3.125 -0.4375 3.515625 -0.796875 3.671875 -1.4375 Z M 3.671875 -1.4375 \"/>\n",
       "</g>\n",
       "<g id=\"glyph-3-0\">\n",
       "<path d=\"M 2.0625 -3.53125 L 2.421875 -3.59375 L 4.296875 -1.578125 C 4.4375 -1.4375 4.71875 -1.109375 4.859375 -0.984375 C 4.9375 -0.875 4.96875 -0.875 5.203125 -0.921875 L 6.546875 -1.15625 C 6.71875 -1.1875 6.859375 -1.203125 6.828125 -1.375 C 6.8125 -1.46875 6.75 -1.53125 6.65625 -1.53125 C 6.28125 -1.546875 5.6875 -2.09375 5.390625 -2.390625 C 5.3125 -2.46875 4.71875 -3.015625 3.875 -3.953125 C 4.71875 -4.28125 5.484375 -4.78125 5.28125 -5.9375 C 5.046875 -7.296875 3.515625 -7.515625 2.359375 -7.3125 L -0.6875 -6.78125 C -0.875 -6.734375 -1.03125 -6.71875 -1 -6.5625 C -0.96875 -6.390625 -0.78125 -6.421875 -0.703125 -6.4375 C -0.15625 -6.53125 -0.078125 -6.46875 0.015625 -5.984375 L 0.875 -1.078125 C 0.953125 -0.609375 0.90625 -0.515625 0.359375 -0.421875 C 0.28125 -0.40625 0.09375 -0.375 0.125 -0.203125 C 0.15625 -0.03125 0.3125 -0.046875 0.5 -0.09375 L 3.171875 -0.5625 C 3.34375 -0.59375 3.5 -0.609375 3.46875 -0.78125 C 3.4375 -0.953125 3.265625 -0.9375 3.15625 -0.90625 C 2.59375 -0.8125 2.53125 -0.890625 2.453125 -1.359375 Z M 3.890625 -4.34375 C 4.09375 -4.75 4.015625 -5.28125 3.9375 -5.703125 C 3.859375 -6.171875 3.71875 -6.6875 3.34375 -7.03125 C 3.75 -7.015625 4.765625 -6.859375 4.9375 -5.875 C 5.046875 -5.25 4.859375 -4.703125 3.890625 -4.34375 Z M 1.578125 -6.28125 C 1.546875 -6.5 1.484375 -6.828125 2.109375 -6.921875 C 2.9375 -7.078125 3.40625 -6.796875 3.609375 -5.640625 C 3.828125 -4.375 3.5625 -4.15625 2 -3.890625 Z M 1.234375 -0.578125 C 1.28125 -0.75 1.234375 -1.015625 1.21875 -1.109375 L 0.34375 -6.046875 C 0.328125 -6.140625 0.28125 -6.40625 0.171875 -6.59375 L 1.28125 -6.78125 C 1.1875 -6.609375 1.21875 -6.40625 1.25 -6.25 L 2.125 -1.28125 C 2.140625 -1.1875 2.1875 -0.921875 2.296875 -0.765625 Z M 2.828125 -3.65625 C 2.90625 -3.6875 2.9375 -3.703125 3 -3.71875 C 3.15625 -3.75 3.375 -3.796875 3.515625 -3.84375 C 3.703125 -3.640625 5.0625 -2.078125 6.015625 -1.421875 L 5.0625 -1.25 Z M 2.828125 -3.65625 \"/>\n",
       "</g>\n",
       "<g id=\"glyph-4-0\">\n",
       "<path d=\"M 3.25 -1.859375 L 3.015625 -1.8125 C 3.015625 -1.65625 3.015625 -1.234375 2.9375 -1.140625 C 2.875 -1.109375 2.359375 -1.015625 2.265625 -1 L 1 -0.78125 C 1.609375 -1.546875 1.8125 -1.78125 2.171875 -2.171875 C 2.609375 -2.671875 3.015625 -3.15625 2.90625 -3.828125 C 2.75 -4.65625 1.9375 -5.03125 1.0625 -4.875 C 0.203125 -4.71875 -0.265625 -4.03125 -0.15625 -3.40625 C -0.09375 -3.046875 0.203125 -3.0625 0.28125 -3.078125 C 0.4375 -3.109375 0.625 -3.25 0.578125 -3.5 C 0.546875 -3.640625 0.46875 -3.859375 0.109375 -3.796875 C 0.234375 -4.328125 0.6875 -4.546875 1 -4.609375 C 1.6875 -4.71875 2.125 -4.265625 2.234375 -3.71875 C 2.328125 -3.109375 2 -2.5625 1.828125 -2.265625 L 0.453125 -0.359375 C 0.40625 -0.28125 0.40625 -0.265625 0.4375 -0.078125 L 3.25 -0.578125 Z M 3.25 -1.859375 \"/>\n",
       "</g>\n",
       "</g>\n",
       "<clipPath id=\"clip-0\">\n",
       "<path clip-rule=\"nonzero\" d=\"M 6 5 L 103 5 L 103 101.269531 L 6 101.269531 Z M 6 5 \"/>\n",
       "</clipPath>\n",
       "</defs>\n",
       "<g clip-path=\"url(#clip-0)\">\n",
       "<path fill=\"none\" stroke-width=\"0.3985\" stroke-linecap=\"butt\" stroke-linejoin=\"miter\" stroke=\"rgb(0%, 0%, 0%)\" stroke-opacity=\"1\" stroke-miterlimit=\"10\" d=\"M 85.039332 -28.347297 L -0.000184486 0.000515556 L 56.69544 56.69222 \" transform=\"matrix(0.996412, 0, 0, -0.996412, 12.437684, 67.578639)\"/>\n",
       "</g>\n",
       "<g fill=\"rgb(0%, 0%, 0%)\" fill-opacity=\"1\">\n",
       "<use xlink:href=\"#glyph-0-0\" x=\"100.678913\" y=\"97.96023\"/>\n",
       "</g>\n",
       "<g fill=\"rgb(0%, 0%, 0%)\" fill-opacity=\"1\">\n",
       "<use xlink:href=\"#glyph-0-1\" x=\"3.415175\" y=\"71.026223\"/>\n",
       "</g>\n",
       "<g fill=\"rgb(0%, 0%, 0%)\" fill-opacity=\"1\">\n",
       "<use xlink:href=\"#glyph-0-2\" x=\"72.434625\" y=\"7.582694\"/>\n",
       "</g>\n",
       "<path fill=\"none\" stroke-width=\"0.3985\" stroke-linecap=\"butt\" stroke-linejoin=\"miter\" stroke=\"rgb(100%, 50%, 0%)\" stroke-opacity=\"1\" stroke-miterlimit=\"10\" d=\"M 27.034322 -8.530094 C 30.284264 1.219734 27.63413 12.451442 20.369783 19.71971 \" transform=\"matrix(0.996412, 0, 0, -0.996412, 12.437684, 67.578639)\"/>\n",
       "<path fill=\"none\" stroke-width=\"0.31879\" stroke-linecap=\"round\" stroke-linejoin=\"round\" stroke=\"rgb(100%, 50%, 0%)\" stroke-opacity=\"1\" stroke-miterlimit=\"10\" d=\"M -1.195866 1.595887 C -1.095452 0.997074 0.00173778 0.0982235 0.299283 -0.000962215 C 0.00173528 -0.10014 -1.096717 -0.995244 -1.194666 -1.594054 \" transform=\"matrix(-0.315065, 0.945236, 0.945236, 0.315065, 39.376453, 76.076786)\"/>\n",
       "<path fill=\"none\" stroke-width=\"0.31879\" stroke-linecap=\"round\" stroke-linejoin=\"round\" stroke=\"rgb(100%, 50%, 0%)\" stroke-opacity=\"1\" stroke-miterlimit=\"10\" d=\"M -1.196181 1.593225 C -1.096385 0.99445 -0.00140191 0.0990585 0.297986 -0.00073746 C -0.00140191 -0.100533 -1.096385 -0.995925 -1.196181 -1.5947 \" transform=\"matrix(-0.704563, -0.704563, -0.704563, 0.704563, 32.732868, 47.929219)\"/>\n",
       "<g fill=\"rgb(0%, 0%, 0%)\" fill-opacity=\"1\">\n",
       "<use xlink:href=\"#glyph-1-0\" x=\"42.229399\" y=\"61.92998\"/>\n",
       "</g>\n",
       "<g fill=\"rgb(0%, 0%, 0%)\" fill-opacity=\"1\">\n",
       "<use xlink:href=\"#glyph-2-0\" x=\"34.003024\" y=\"60.990364\"/>\n",
       "<use xlink:href=\"#glyph-2-1\" x=\"39.434659\" y=\"60.032622\"/>\n",
       "<use xlink:href=\"#glyph-2-2\" x=\"44.322741\" y=\"59.170723\"/>\n",
       "<use xlink:href=\"#glyph-2-3\" x=\"52.469216\" y=\"57.734282\"/>\n",
       "<use xlink:href=\"#glyph-2-4\" x=\"56.813743\" y=\"56.968227\"/>\n",
       "<use xlink:href=\"#glyph-2-5\" x=\"60.615692\" y=\"56.297842\"/>\n",
       "<use xlink:href=\"#glyph-2-6\" x=\"66.047328\" y=\"55.3401\"/>\n",
       "<use xlink:href=\"#glyph-2-7\" x=\"68.763146\" y=\"54.861229\"/>\n",
       "<use xlink:href=\"#glyph-2-8\" x=\"74.194782\" y=\"53.903487\"/>\n",
       "</g>\n",
       "<g fill=\"rgb(0%, 0%, 0%)\" fill-opacity=\"1\">\n",
       "<use xlink:href=\"#glyph-2-9\" x=\"82.338325\" y=\"52.467563\"/>\n",
       "<use xlink:href=\"#glyph-2-10\" x=\"87.226406\" y=\"51.605664\"/>\n",
       "</g>\n",
       "<g fill=\"rgb(0%, 0%, 0%)\" fill-opacity=\"1\">\n",
       "<use xlink:href=\"#glyph-2-1\" x=\"92.931774\" y=\"50.599656\"/>\n",
       "<use xlink:href=\"#glyph-2-11\" x=\"97.819855\" y=\"49.737757\"/>\n",
       "<use xlink:href=\"#glyph-2-4\" x=\"103.251491\" y=\"48.780015\"/>\n",
       "</g>\n",
       "<g fill=\"rgb(0%, 0%, 0%)\" fill-opacity=\"1\">\n",
       "<use xlink:href=\"#glyph-2-6\" x=\"110.308903\" y=\"47.535605\"/>\n",
       "<use xlink:href=\"#glyph-2-7\" x=\"113.024721\" y=\"47.056734\"/>\n",
       "</g>\n",
       "<g fill=\"rgb(0%, 0%, 0%)\" fill-opacity=\"1\">\n",
       "<use xlink:href=\"#glyph-3-0\" x=\"121.717256\" y=\"45.524008\"/>\n",
       "</g>\n",
       "<g fill=\"rgb(0%, 0%, 0%)\" fill-opacity=\"1\">\n",
       "<use xlink:href=\"#glyph-4-0\" x=\"128.1531\" y=\"40.731557\"/>\n",
       "</g>\n",
       "</svg>"
      ],
      "text/plain": [
       "<IPython.core.display.SVG object>"
      ]
     },
     "execution_count": 11,
     "metadata": {},
     "output_type": "execute_result"
    }
   ],
   "source": [
    "%%tikz -l=quotes,angles -t=amsfonts,pgfplots -lp=colormaps -i\n",
    "% Example from Paul Gaborit\n",
    "% http://www.texample.net/tikz/examples/angles-quotes/\n",
    "\\draw\n",
    "    (3,-1) coordinate (a) node[right] {a}\n",
    "    -- (0,0) coordinate (b) node[left] {b}\n",
    "    -- (2,2) coordinate (c) node[above right] {c}\n",
    "    pic[\"$\\alpha$\", draw=orange, <->, angle eccentricity=1.2, angle radius=1cm]\n",
    "    {angle=a--b--c};\n",
    "    \n",
    "\\node[rotate=10] (r) at (2.5, 0.65) {Something about in $\\mathbb{R}^2$};"
   ]
  },
  {
   "cell_type": "markdown",
   "metadata": {},
   "source": [
    "If you don't want to import `tikz` package you can use the flag `-nt` (or `--no-tikz`):"
   ]
  },
  {
   "cell_type": "code",
   "execution_count": 12,
   "metadata": {},
   "outputs": [
    {
     "name": "stdout",
     "output_type": "stream",
     "text": [
      "\\documentclass{standalone}\n",
      "\\usepackage{tikz}\n",
      "\\usepackage{smart_diagrams,amsfonts}\n",
      "\\begin{document}\n",
      "\t\\smartdiagramset{uniform sequence color=true,\n",
      "\tsequence item border color=black,\n",
      "\tsequence item font size=\\footnotesize,\n",
      "\tsequence item text color=white\n",
      "\t}\n",
      "\t\\smartdiagram[sequence diagram]{\n",
      "\t    $\\mathbb{N}$,\n",
      "\t    $\\mathbb{Z}$,\n",
      "\t    $\\mathbb{Q}$,\n",
      "\t    $\\mathbb{R}$,\n",
      "\t    $\\mathbb{I}$,\n",
      "\t    $\\mathbb{C}$\n",
      "\t}\n",
      "\\end{document}\n",
      "File written C:\\Users\\lucas\\AppData\\Local\\Temp\\jupyter_tikz\\tikz.tex\n"
     ]
    },
    {
     "name": "stderr",
     "output_type": "stream",
     "text": [
      "(C:\\Users\\lucas\\AppData\\Local\\Programs\\MiKTeX\\tex/generic/pgf/libraries\\pgflibr\n",
      "aryplothandlers.code.tex)\n",
      "(C:\\Users\\lucas\\AppData\\Local\\Programs\\MiKTeX\\tex/generic/pgf/modules\\pgfmodule\n",
      "matrix.code.tex)\n",
      "(C:\\Users\\lucas\\AppData\\Local\\Programs\\MiKTeX\\tex/generic/pgf/frontendlayer/tik\n",
      "z/libraries\\tikzlibrarytopaths.code.tex)))\n",
      "\n",
      "! LaTeX Error: File `smart_diagrams.sty' not found.\n",
      "\n",
      "Type X to quit or <RETURN> to proceed,\n",
      "or enter new name. (Default extension: sty)\n",
      "\n",
      "Enter file name: \n",
      "! Emergency stop.\n",
      "<read *> \n",
      "         \n",
      "l.4 \\begin\n",
      "          {document}^^M\n",
      "!  ==> Fatal error occurred, no output PDF file produced!\n",
      "Transcript written on tikz.log.\n"
     ]
    },
    {
     "ename": "TypeError",
     "evalue": "exceptions must derive from BaseException",
     "output_type": "error",
     "traceback": [
      "\u001b[1;31m---------------------------------------------------------------------------\u001b[0m",
      "\u001b[1;31mCalledProcessError\u001b[0m                        Traceback (most recent call last)",
      "File \u001b[1;32m~\\Github\\jupyter-tikz\\jupyter_tikz\\jupyter_tikz.py:85\u001b[0m, in \u001b[0;36mrun_latex\u001b[1;34m(src, rasterize, tex_program, dpi, scale, full_err, pdftocairo_path)\u001b[0m\n\u001b[0;32m     84\u001b[0m \u001b[38;5;28;01mtry\u001b[39;00m:\n\u001b[1;32m---> 85\u001b[0m     \u001b[43mcheck_output\u001b[49m\u001b[43m(\u001b[49m\n\u001b[0;32m     86\u001b[0m \u001b[43m        \u001b[49m\u001b[43m[\u001b[49m\u001b[43mtex_program\u001b[49m\u001b[43m,\u001b[49m\u001b[43m \u001b[49m\u001b[43mtex_filename\u001b[49m\u001b[43m]\u001b[49m\u001b[43m,\u001b[49m\n\u001b[0;32m     87\u001b[0m \u001b[43m        \u001b[49m\u001b[43menv\u001b[49m\u001b[38;5;241;43m=\u001b[39;49m\u001b[43menv\u001b[49m\u001b[43m,\u001b[49m\n\u001b[0;32m     88\u001b[0m \u001b[43m        \u001b[49m\u001b[43mcwd\u001b[49m\u001b[38;5;241;43m=\u001b[39;49m\u001b[43mworking_dir\u001b[49m\u001b[43m,\u001b[49m\n\u001b[0;32m     89\u001b[0m \u001b[43m        \u001b[49m\u001b[43mshell\u001b[49m\u001b[38;5;241;43m=\u001b[39;49m\u001b[38;5;28;43;01mTrue\u001b[39;49;00m\u001b[43m,\u001b[49m\n\u001b[0;32m     90\u001b[0m \u001b[43m        \u001b[49m\u001b[43mtimeout\u001b[49m\u001b[38;5;241;43m=\u001b[39;49m\u001b[38;5;241;43m30\u001b[39;49m\u001b[43m,\u001b[49m\n\u001b[0;32m     91\u001b[0m \u001b[43m    \u001b[49m\u001b[43m)\u001b[49m\n\u001b[0;32m     92\u001b[0m     \u001b[38;5;28mprint\u001b[39m(\u001b[38;5;124m\"\u001b[39m\u001b[38;5;124mCommand executed\u001b[39m\u001b[38;5;124m\"\u001b[39m, \u001b[38;5;124m\"\u001b[39m\u001b[38;5;124m \u001b[39m\u001b[38;5;124m\"\u001b[39m\u001b[38;5;241m.\u001b[39mjoin([tex_program, tex_filename]))\n",
      "File \u001b[1;32m~\\miniconda3\\Lib\\subprocess.py:466\u001b[0m, in \u001b[0;36mcheck_output\u001b[1;34m(timeout, *popenargs, **kwargs)\u001b[0m\n\u001b[0;32m    464\u001b[0m     kwargs[\u001b[38;5;124m'\u001b[39m\u001b[38;5;124minput\u001b[39m\u001b[38;5;124m'\u001b[39m] \u001b[38;5;241m=\u001b[39m empty\n\u001b[1;32m--> 466\u001b[0m \u001b[38;5;28;01mreturn\u001b[39;00m \u001b[43mrun\u001b[49m\u001b[43m(\u001b[49m\u001b[38;5;241;43m*\u001b[39;49m\u001b[43mpopenargs\u001b[49m\u001b[43m,\u001b[49m\u001b[43m \u001b[49m\u001b[43mstdout\u001b[49m\u001b[38;5;241;43m=\u001b[39;49m\u001b[43mPIPE\u001b[49m\u001b[43m,\u001b[49m\u001b[43m \u001b[49m\u001b[43mtimeout\u001b[49m\u001b[38;5;241;43m=\u001b[39;49m\u001b[43mtimeout\u001b[49m\u001b[43m,\u001b[49m\u001b[43m \u001b[49m\u001b[43mcheck\u001b[49m\u001b[38;5;241;43m=\u001b[39;49m\u001b[38;5;28;43;01mTrue\u001b[39;49;00m\u001b[43m,\u001b[49m\n\u001b[0;32m    467\u001b[0m \u001b[43m           \u001b[49m\u001b[38;5;241;43m*\u001b[39;49m\u001b[38;5;241;43m*\u001b[39;49m\u001b[43mkwargs\u001b[49m\u001b[43m)\u001b[49m\u001b[38;5;241m.\u001b[39mstdout\n",
      "File \u001b[1;32m~\\miniconda3\\Lib\\subprocess.py:571\u001b[0m, in \u001b[0;36mrun\u001b[1;34m(input, capture_output, timeout, check, *popenargs, **kwargs)\u001b[0m\n\u001b[0;32m    570\u001b[0m     \u001b[38;5;28;01mif\u001b[39;00m check \u001b[38;5;129;01mand\u001b[39;00m retcode:\n\u001b[1;32m--> 571\u001b[0m         \u001b[38;5;28;01mraise\u001b[39;00m CalledProcessError(retcode, process\u001b[38;5;241m.\u001b[39margs,\n\u001b[0;32m    572\u001b[0m                                  output\u001b[38;5;241m=\u001b[39mstdout, stderr\u001b[38;5;241m=\u001b[39mstderr)\n\u001b[0;32m    573\u001b[0m \u001b[38;5;28;01mreturn\u001b[39;00m CompletedProcess(process\u001b[38;5;241m.\u001b[39margs, retcode, stdout, stderr)\n",
      "\u001b[1;31mCalledProcessError\u001b[0m: Command '['pdflatex', 'tikz.tex']' returned non-zero exit status 1.",
      "\nDuring handling of the above exception, another exception occurred:\n",
      "\u001b[1;31mTypeError\u001b[0m                                 Traceback (most recent call last)",
      "Cell \u001b[1;32mIn[12], line 1\u001b[0m\n\u001b[1;32m----> 1\u001b[0m \u001b[43mget_ipython\u001b[49m\u001b[43m(\u001b[49m\u001b[43m)\u001b[49m\u001b[38;5;241;43m.\u001b[39;49m\u001b[43mrun_cell_magic\u001b[49m\u001b[43m(\u001b[49m\u001b[38;5;124;43m'\u001b[39;49m\u001b[38;5;124;43mtikz\u001b[39;49m\u001b[38;5;124;43m'\u001b[39;49m\u001b[43m,\u001b[49m\u001b[43m \u001b[49m\u001b[38;5;124;43m'\u001b[39;49m\u001b[38;5;124;43m-t=smart_diagrams,amsfonts\u001b[39;49m\u001b[38;5;124;43m'\u001b[39;49m\u001b[43m,\u001b[49m\u001b[43m \u001b[49m\u001b[38;5;124;43m'\u001b[39;49m\u001b[38;5;130;43;01m\\\\\u001b[39;49;00m\u001b[38;5;124;43msmartdiagramset\u001b[39;49m\u001b[38;5;124;43m{\u001b[39;49m\u001b[38;5;124;43muniform sequence color=true,\u001b[39;49m\u001b[38;5;130;43;01m\\n\u001b[39;49;00m\u001b[38;5;124;43msequence item border color=black,\u001b[39;49m\u001b[38;5;130;43;01m\\n\u001b[39;49;00m\u001b[38;5;124;43msequence item font size=\u001b[39;49m\u001b[38;5;130;43;01m\\\\\u001b[39;49;00m\u001b[38;5;124;43mfootnotesize,\u001b[39;49m\u001b[38;5;130;43;01m\\n\u001b[39;49;00m\u001b[38;5;124;43msequence item text color=white\u001b[39;49m\u001b[38;5;130;43;01m\\n\u001b[39;49;00m\u001b[38;5;124;43m}\u001b[39;49m\u001b[38;5;130;43;01m\\n\u001b[39;49;00m\u001b[38;5;130;43;01m\\\\\u001b[39;49;00m\u001b[38;5;124;43msmartdiagram[sequence diagram]\u001b[39;49m\u001b[38;5;124;43m{\u001b[39;49m\u001b[38;5;130;43;01m\\n\u001b[39;49;00m\u001b[38;5;124;43m    $\u001b[39;49m\u001b[38;5;130;43;01m\\\\\u001b[39;49;00m\u001b[38;5;124;43mmathbb\u001b[39;49m\u001b[38;5;132;43;01m{N}\u001b[39;49;00m\u001b[38;5;124;43m$,\u001b[39;49m\u001b[38;5;130;43;01m\\n\u001b[39;49;00m\u001b[38;5;124;43m    $\u001b[39;49m\u001b[38;5;130;43;01m\\\\\u001b[39;49;00m\u001b[38;5;124;43mmathbb\u001b[39;49m\u001b[38;5;132;43;01m{Z}\u001b[39;49;00m\u001b[38;5;124;43m$,\u001b[39;49m\u001b[38;5;130;43;01m\\n\u001b[39;49;00m\u001b[38;5;124;43m    $\u001b[39;49m\u001b[38;5;130;43;01m\\\\\u001b[39;49;00m\u001b[38;5;124;43mmathbb\u001b[39;49m\u001b[38;5;132;43;01m{Q}\u001b[39;49;00m\u001b[38;5;124;43m$,\u001b[39;49m\u001b[38;5;130;43;01m\\n\u001b[39;49;00m\u001b[38;5;124;43m    $\u001b[39;49m\u001b[38;5;130;43;01m\\\\\u001b[39;49;00m\u001b[38;5;124;43mmathbb\u001b[39;49m\u001b[38;5;132;43;01m{R}\u001b[39;49;00m\u001b[38;5;124;43m$,\u001b[39;49m\u001b[38;5;130;43;01m\\n\u001b[39;49;00m\u001b[38;5;124;43m    $\u001b[39;49m\u001b[38;5;130;43;01m\\\\\u001b[39;49;00m\u001b[38;5;124;43mmathbb\u001b[39;49m\u001b[38;5;132;43;01m{I}\u001b[39;49;00m\u001b[38;5;124;43m$,\u001b[39;49m\u001b[38;5;130;43;01m\\n\u001b[39;49;00m\u001b[38;5;124;43m    $\u001b[39;49m\u001b[38;5;130;43;01m\\\\\u001b[39;49;00m\u001b[38;5;124;43mmathbb\u001b[39;49m\u001b[38;5;132;43;01m{C}\u001b[39;49;00m\u001b[38;5;124;43m$\u001b[39;49m\u001b[38;5;130;43;01m\\n\u001b[39;49;00m\u001b[38;5;124;43m}\u001b[39;49m\u001b[38;5;130;43;01m\\n\u001b[39;49;00m\u001b[38;5;124;43m'\u001b[39;49m\u001b[43m)\u001b[49m\n",
      "File \u001b[1;32m~\\miniconda3\\Lib\\site-packages\\IPython\\core\\interactiveshell.py:2541\u001b[0m, in \u001b[0;36mInteractiveShell.run_cell_magic\u001b[1;34m(self, magic_name, line, cell)\u001b[0m\n\u001b[0;32m   2539\u001b[0m \u001b[38;5;28;01mwith\u001b[39;00m \u001b[38;5;28mself\u001b[39m\u001b[38;5;241m.\u001b[39mbuiltin_trap:\n\u001b[0;32m   2540\u001b[0m     args \u001b[38;5;241m=\u001b[39m (magic_arg_s, cell)\n\u001b[1;32m-> 2541\u001b[0m     result \u001b[38;5;241m=\u001b[39m \u001b[43mfn\u001b[49m\u001b[43m(\u001b[49m\u001b[38;5;241;43m*\u001b[39;49m\u001b[43margs\u001b[49m\u001b[43m,\u001b[49m\u001b[43m \u001b[49m\u001b[38;5;241;43m*\u001b[39;49m\u001b[38;5;241;43m*\u001b[39;49m\u001b[43mkwargs\u001b[49m\u001b[43m)\u001b[49m\n\u001b[0;32m   2543\u001b[0m \u001b[38;5;66;03m# The code below prevents the output from being displayed\u001b[39;00m\n\u001b[0;32m   2544\u001b[0m \u001b[38;5;66;03m# when using magics with decorator @output_can_be_silenced\u001b[39;00m\n\u001b[0;32m   2545\u001b[0m \u001b[38;5;66;03m# when the last Python token in the expression is a ';'.\u001b[39;00m\n\u001b[0;32m   2546\u001b[0m \u001b[38;5;28;01mif\u001b[39;00m \u001b[38;5;28mgetattr\u001b[39m(fn, magic\u001b[38;5;241m.\u001b[39mMAGIC_OUTPUT_CAN_BE_SILENCED, \u001b[38;5;28;01mFalse\u001b[39;00m):\n",
      "File \u001b[1;32m~\\Github\\jupyter-tikz\\jupyter_tikz\\jupyter_tikz.py:328\u001b[0m, in \u001b[0;36mTikZMagics.tikz\u001b[1;34m(self, line, cell, local_ns)\u001b[0m\n\u001b[0;32m    324\u001b[0m     \u001b[38;5;28mself\u001b[39m\u001b[38;5;241m.\u001b[39msrc \u001b[38;5;241m=\u001b[39m build_tex_string(\u001b[38;5;28mself\u001b[39m\u001b[38;5;241m.\u001b[39msrc, \u001b[38;5;28mself\u001b[39m\u001b[38;5;241m.\u001b[39margs\u001b[38;5;241m.\u001b[39mimplicit_pic, extras)\n\u001b[0;32m    326\u001b[0m \u001b[38;5;28mprint\u001b[39m(\u001b[38;5;28mself\u001b[39m\u001b[38;5;241m.\u001b[39msrc)\n\u001b[1;32m--> 328\u001b[0m image \u001b[38;5;241m=\u001b[39m \u001b[43mrun_latex\u001b[49m\u001b[43m(\u001b[49m\n\u001b[0;32m    329\u001b[0m \u001b[43m    \u001b[49m\u001b[38;5;28;43mself\u001b[39;49m\u001b[38;5;241;43m.\u001b[39;49m\u001b[43msrc\u001b[49m\u001b[43m,\u001b[49m\n\u001b[0;32m    330\u001b[0m \u001b[43m    \u001b[49m\u001b[43mrasterize\u001b[49m\u001b[38;5;241;43m=\u001b[39;49m\u001b[38;5;28;43mself\u001b[39;49m\u001b[38;5;241;43m.\u001b[39;49m\u001b[43margs\u001b[49m\u001b[38;5;241;43m.\u001b[39;49m\u001b[43mrasterize\u001b[49m\u001b[43m,\u001b[49m\n\u001b[0;32m    331\u001b[0m \u001b[43m    \u001b[49m\u001b[43mtex_program\u001b[49m\u001b[38;5;241;43m=\u001b[39;49m\u001b[38;5;28;43mself\u001b[39;49m\u001b[38;5;241;43m.\u001b[39;49m\u001b[43margs\u001b[49m\u001b[38;5;241;43m.\u001b[39;49m\u001b[43mtex_program\u001b[49m\u001b[43m,\u001b[49m\n\u001b[0;32m    332\u001b[0m \u001b[43m    \u001b[49m\u001b[43mdpi\u001b[49m\u001b[38;5;241;43m=\u001b[39;49m\u001b[38;5;28;43mself\u001b[39;49m\u001b[38;5;241;43m.\u001b[39;49m\u001b[43margs\u001b[49m\u001b[38;5;241;43m.\u001b[39;49m\u001b[43mdpi\u001b[49m\u001b[43m,\u001b[49m\n\u001b[0;32m    333\u001b[0m \u001b[43m    \u001b[49m\u001b[43mscale\u001b[49m\u001b[38;5;241;43m=\u001b[39;49m\u001b[38;5;28;43mself\u001b[39;49m\u001b[38;5;241;43m.\u001b[39;49m\u001b[43margs\u001b[49m\u001b[38;5;241;43m.\u001b[39;49m\u001b[43mscale\u001b[49m\u001b[43m,\u001b[49m\n\u001b[0;32m    334\u001b[0m \u001b[43m    \u001b[49m\u001b[43mfull_err\u001b[49m\u001b[38;5;241;43m=\u001b[39;49m\u001b[38;5;28;43mself\u001b[39;49m\u001b[38;5;241;43m.\u001b[39;49m\u001b[43margs\u001b[49m\u001b[38;5;241;43m.\u001b[39;49m\u001b[43mfull_err\u001b[49m\u001b[43m,\u001b[49m\n\u001b[0;32m    335\u001b[0m \u001b[43m    \u001b[49m\u001b[43mpdftocairo_path\u001b[49m\u001b[38;5;241;43m=\u001b[39;49m\u001b[38;5;28;43mself\u001b[39;49m\u001b[38;5;241;43m.\u001b[39;49m\u001b[43margs\u001b[49m\u001b[38;5;241;43m.\u001b[39;49m\u001b[43mpdftocairo_path\u001b[49m\u001b[43m,\u001b[49m\n\u001b[0;32m    336\u001b[0m \u001b[43m\u001b[49m\u001b[43m)\u001b[49m\n\u001b[0;32m    338\u001b[0m \u001b[38;5;28;01mif\u001b[39;00m image \u001b[38;5;129;01mis\u001b[39;00m \u001b[38;5;28;01mNone\u001b[39;00m:\n\u001b[0;32m    339\u001b[0m     \u001b[38;5;28;01mreturn\u001b[39;00m \u001b[38;5;28;01mNone\u001b[39;00m\n",
      "File \u001b[1;32m~\\Github\\jupyter-tikz\\jupyter_tikz\\jupyter_tikz.py:104\u001b[0m, in \u001b[0;36mrun_latex\u001b[1;34m(src, rasterize, tex_program, dpi, scale, full_err, pdftocairo_path)\u001b[0m\n\u001b[0;32m    101\u001b[0m         err_msg \u001b[38;5;241m=\u001b[39m \u001b[38;5;124m\"\u001b[39m\u001b[38;5;130;01m\\n\u001b[39;00m\u001b[38;5;124m\"\u001b[39m\u001b[38;5;241m.\u001b[39mjoin(err_msg\u001b[38;5;241m.\u001b[39msplitlines()[\u001b[38;5;241m-\u001b[39m\u001b[38;5;241m20\u001b[39m:])\n\u001b[0;32m    103\u001b[0m     \u001b[38;5;28mprint\u001b[39m(err_msg, file\u001b[38;5;241m=\u001b[39msys\u001b[38;5;241m.\u001b[39mstderr)\n\u001b[1;32m--> 104\u001b[0m     \u001b[38;5;28;01mraise\u001b[39;00m err_msg\n\u001b[0;32m    105\u001b[0m \u001b[38;5;28mprint\u001b[39m(\u001b[38;5;124m\"\u001b[39m\u001b[38;5;124mFile compiled\u001b[39m\u001b[38;5;124m\"\u001b[39m, \u001b[38;5;124m\"\u001b[39m\u001b[38;5;124m \u001b[39m\u001b[38;5;124m\"\u001b[39m\u001b[38;5;241m.\u001b[39mjoin([tex_program, tex_filename]))\n\u001b[0;32m    107\u001b[0m image_format \u001b[38;5;241m=\u001b[39m \u001b[38;5;124m\"\u001b[39m\u001b[38;5;124msvg\u001b[39m\u001b[38;5;124m\"\u001b[39m \u001b[38;5;28;01mif\u001b[39;00m \u001b[38;5;129;01mnot\u001b[39;00m rasterize \u001b[38;5;28;01melse\u001b[39;00m \u001b[38;5;124m\"\u001b[39m\u001b[38;5;124mpng\u001b[39m\u001b[38;5;124m\"\u001b[39m\n",
      "\u001b[1;31mTypeError\u001b[0m: exceptions must derive from BaseException"
     ]
    }
   ],
   "source": [
    "%%tikz -t=smart_diagrams,amsfonts\n",
    "\\smartdiagramset{uniform sequence color=true,\n",
    "sequence item border color=black,\n",
    "sequence item font size=\\footnotesize,\n",
    "sequence item text color=white\n",
    "}\n",
    "\\smartdiagram[sequence diagram]{\n",
    "    $\\mathbb{N}$,\n",
    "    $\\mathbb{Z}$,\n",
    "    $\\mathbb{Q}$,\n",
    "    $\\mathbb{R}$,\n",
    "    $\\mathbb{I}$,\n",
    "    $\\mathbb{C}$\n",
    "}"
   ]
  },
  {
   "cell_type": "markdown",
   "metadata": {},
   "source": [
    "## Using IPython strings"
   ]
  },
  {
   "cell_type": "markdown",
   "metadata": {},
   "source": [
    "Sometimes, you want to generate a TikZ document from a string, rather than a cell. You can do that using the line magic."
   ]
  },
  {
   "cell_type": "code",
   "execution_count": null,
   "metadata": {},
   "outputs": [],
   "source": [
    "conway_str = r\"\"\"\\documentclass[tikz]{standalone}\n",
    "\\begin{document}\n",
    "\\begin{tikzpicture}\n",
    "\\draw[help lines] grid (5, 5);\n",
    "\\draw[fill=magenta] (1, 1) rectangle (2, 2);\n",
    "\\draw[fill=magenta] (2, 1) rectangle (3, 2);\n",
    "\\draw[fill=magenta] (3, 1) rectangle (4, 2);\n",
    "\\draw[fill=magenta] (3, 2) rectangle (4, 3);\n",
    "\\draw[fill=magenta] (2, 3) rectangle (3, 4);\n",
    "\\end{tikzpicture}\n",
    "\\end{document}\"\"\""
   ]
  },
  {
   "cell_type": "code",
   "execution_count": null,
   "metadata": {},
   "outputs": [],
   "source": [
    "%tikz conway_str"
   ]
  }
 ],
 "metadata": {
  "kernelspec": {
   "display_name": "Python 3 (ipykernel)",
   "language": "python",
   "name": "python3"
  },
  "language_info": {
   "codemirror_mode": {
    "name": "ipython",
    "version": 3
   },
   "file_extension": ".py",
   "mimetype": "text/x-python",
   "name": "python",
   "nbconvert_exporter": "python",
   "pygments_lexer": "ipython3",
   "version": "3.11.5"
  },
  "widgets": {
   "application/vnd.jupyter.widget-state+json": {
    "state": {},
    "version_major": 2,
    "version_minor": 0
   }
  }
 },
 "nbformat": 4,
 "nbformat_minor": 4
}
