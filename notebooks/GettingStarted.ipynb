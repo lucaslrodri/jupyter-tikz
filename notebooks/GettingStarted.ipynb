{
 "cells": [
  {
   "cell_type": "markdown",
   "metadata": {},
   "source": [
    "# Table of Contents"
   ]
  },
  {
   "cell_type": "markdown",
   "metadata": {},
   "source": [
    "> **Note:** If you are viewing this notebook on GitHub, the links in the Table of Contents will not work.\n",
    "\n",
    "---\n",
    "\n",
    "[Dependences](#Dependences)\n",
    "| [Basic usage](#Basic-usage)\n",
    "| [Using preamble](#Using-preamble)\n",
    "| [Loading packages and libraries](#Loading-packages-and-libraries)\n",
    "| [Scaling the output](#Scaling-the-output)\n",
    "| [Rasterize the image](#Rasterize-the-image)\n",
    "| [Save](#Save)\n",
    "| [Using IPython strings](#Using-IPython-strings)\n",
    "| [Jinja templates](#Jinja-templates)\n",
    "| [TeX Program](#TeX-Program)\n",
    "| [Logging and debugging](#Logging-and-debugging)\n",
    "| [Usage as a Package](#Usage-as-a-Package)\n",
    "| [Additional Examples](#Additional-Examples)\n",
    "\n",
    "---"
   ]
  },
  {
   "cell_type": "markdown",
   "metadata": {
    "editable": true,
    "slideshow": {
     "slide_type": ""
    },
    "tags": []
   },
   "source": [
    "# Dependences"
   ]
  },
  {
   "cell_type": "markdown",
   "metadata": {},
   "source": [
    "## LaTeX\n",
    "\n",
    "LaTeX must be installed using one of the following distributions:\n",
    "\n",
    "- [TeX Live](https://tug.org/texlive/) (All Platforms)\n",
    "- [MikTeX](https://miktex.org/) (Windows)\n",
    "- [MacTeX](https://www.tug.org/mactex/) (Mac)"
   ]
  },
  {
   "cell_type": "markdown",
   "metadata": {},
   "source": [
    "## Poppler\n",
    "\n",
    "This application requires Poppler’s `pdftocairo`. You must install it beforehand.\n",
    "\n",
    "### Conda - Platform Independent\n",
    "\n",
    "```shell\n",
    "conda install -c conda-forge poppler\n",
    "```\n",
    "\n",
    "### Windows\n",
    "\n",
    "Download Poppler for Windows [here](https://github.com/oschwartz10612/poppler-windows/releases/). You must add the `bin` folder to your [PATH](https://www.c-sharpcorner.com/article/how-to-addedit-path-environment-variable-in-windows-11/).\n",
    "\n",
    "### Linux\n",
    "\n",
    "Most distributions come with `pdftocairo`. If it is not installed, refer to your package manager and\n",
    "\n",
    "### Mac\n",
    "\n",
    "Install using `brew`:\n",
    "\n",
    "```shell\n",
    "brew install poppler\n",
    "```"
   ]
  },
  {
   "cell_type": "markdown",
   "metadata": {},
   "source": [
    "To check if `pdftocairo` is installed on your system, you can use the following command:"
   ]
  },
  {
   "cell_type": "code",
   "execution_count": 1,
   "metadata": {},
   "outputs": [
    {
     "name": "stderr",
     "output_type": "stream",
     "text": [
      "pdftocairo version 24.04.0\n",
      "Copyright 2005-2024 The Poppler Developers - http://poppler.freedesktop.org\n",
      "Copyright 1996-2011, 2022 Glyph & Cog, LLC\n"
     ]
    }
   ],
   "source": [
    "!pdftocairo -v"
   ]
  },
  {
   "cell_type": "markdown",
   "metadata": {},
   "source": [
    "Alternatively, if you are facing issues, you can configure the `pdftocairo` location (for use in `jupyter_tikz`) by setting the environment variable `JUPYTER_TIKZ_PDFTOCAIROPATH`:\n",
    "\n",
    "```python\n",
    "import os\n",
    "custom_pdftocairo_path = os.path.join(\n",
    "        os.getenv(\"LOCALAPPDATA\"), \"Poppler\", \"Library\", \"bin\", \"pdftocairo.exe\"\n",
    "    )\n",
    "os.environ[\"JUPYTER_TIKZ_PDFTOCAIROPATH\"] = custom_pdftocairo_path\n",
    "```"
   ]
  },
  {
   "cell_type": "markdown",
   "metadata": {},
   "source": [
    "## Jinja2 (Optional)\n",
    "\n",
    "Jinja2 is necessary only if you plan to use [Jinja2 templates](https://jinja.palletsprojects.com/en/latest/templates/). To install it, use:\n",
    "\n",
    "```shell\n",
    "pip install jinja2\n",
    "```"
   ]
  },
  {
   "cell_type": "markdown",
   "metadata": {},
   "source": [
    "# Usage as IPython Magics"
   ]
  },
  {
   "cell_type": "markdown",
   "metadata": {},
   "source": [
    "## Basic usage"
   ]
  },
  {
   "cell_type": "markdown",
   "metadata": {},
   "source": [
    "Install it if it has not been installed yet:\n",
    "\n",
    "```\n",
    "pip install jupyter_tikz\n",
    "```"
   ]
  },
  {
   "cell_type": "markdown",
   "metadata": {},
   "source": [
    "Load `jupyter_tikz`. It is a IPython Magics extension:"
   ]
  },
  {
   "cell_type": "code",
   "execution_count": 2,
   "metadata": {},
   "outputs": [],
   "source": [
    "%load_ext jupyter_tikz"
   ]
  },
  {
   "cell_type": "markdown",
   "metadata": {},
   "source": [
    "Show help by typing `%tikz?`:"
   ]
  },
  {
   "cell_type": "code",
   "execution_count": 3,
   "metadata": {
    "scrolled": true
   },
   "outputs": [
    {
     "data": {
      "text/plain": [
       "\u001b[1;31mDocstring:\u001b[0m\n",
       "::\n",
       "\n",
       "  %tikz [-as INPUT_TYPE] [-i] [-f] [-p LATEX_PREAMBLE] [-t TEX_PACKAGES]\n",
       "            [-nt] [-l TIKZ_LIBRARIES] [-lp PGFPLOTS_LIBRARIES] [-j] [-pj]\n",
       "            [-pt] [-sc SCALE] [-r] [-d DPI] [-g] [-e] [-k] [-tp TEX_PROGRAM]\n",
       "            [-ta TEX_ARGS] [-nc] [-s SAVE_TIKZ] [-st SAVE_TEX] [-sp SAVE_PDF]\n",
       "            [-S SAVE_IMAGE] [-sv SAVE_VAR] [--as-jinja]\n",
       "            [code]\n",
       "\n",
       "Renders a TikZ diagram in a Jupyter notebook cell. This function can be used as both a line magic (%tikz) and a cell magic (%%tikz).\n",
       "\n",
       "When used as cell magic, it executes the TeX/TikZ code within the cell:\n",
       "    Example:\n",
       "        In [3]: %%tikz\n",
       "           ...:  \\begin{tikzpicture}\n",
       "           ...:     \\draw (0,0) rectangle (1,1);\n",
       "           ...: \\end{tikzpicture}\n",
       "\n",
       "When used as line magic, the TeX/TikZ code is passed as an IPython string variable:\n",
       "    Example:\n",
       "        In [4]: %tikz \"$ipython_string_variable_with_code\"\n",
       "\n",
       "Additional options can be passed to the magic command to customize LaTeX code and rendering output:\n",
       "    Example:\n",
       "        In [5]: %%tikz -l=arrows,matrix\n",
       "           ...: \\matrix (m) [matrix of math nodes, row sep=3em, column sep=4em] {\n",
       "           ...:     A & B \\\n",
       "           ...:     C & D \\\n",
       "           ...: };\n",
       "           ...: \\path[-stealth, line width=.4mm]\n",
       "           ...:     (m-1-1) edge node [left ] {$ac$} (m-2-1)\n",
       "           ...:     (m-1-1) edge node [above] {$ab$} (m-1-2)\n",
       "           ...:     (m-1-2) edge node [right] {$bd$} (m-2-2)\n",
       "           ...:     (m-2-1) edge node [below] {$cd$} (m-2-2);\n",
       "\n",
       "positional arguments:\n",
       "  code                  the variable in IPython with the Tex/TikZ code\n",
       "\n",
       "options:\n",
       "  -as INPUT_TYPE, --input-type INPUT_TYPE\n",
       "                        Type of the input. Possible values are: `full-\n",
       "                        document`, `standalone-document` and `tikzpicture`,\n",
       "                        e.g., `-as=full-document`. Defaults to\n",
       "                        `-as=standalone-document`.\n",
       "  -i, --implicit-pic    Alias for `-as=tikzpicture`.\n",
       "  -f, --full-document   Alias for `-as=full-document`.\n",
       "  -p LATEX_PREAMBLE, --latex-preamble LATEX_PREAMBLE\n",
       "                        LaTeX preamble to insert before the document, e.g.,\n",
       "                        `-p=\"$preamble\"`, with the preamble being an IPython\n",
       "                        variable.\n",
       "  -t TEX_PACKAGES, --tex-packages TEX_PACKAGES\n",
       "                        Comma-separated list of TeX packages, e.g.,\n",
       "                        `-t=amsfonts,amsmath`.\n",
       "  -nt, --no-tikz        Force to not import the TikZ package.\n",
       "  -l TIKZ_LIBRARIES, --tikz-libraries TIKZ_LIBRARIES\n",
       "                        Comma-separated list of TikZ libraries, e.g.,\n",
       "                        `-l=calc,arrows`.\n",
       "  -lp PGFPLOTS_LIBRARIES, --pgfplots-libraries PGFPLOTS_LIBRARIES\n",
       "                        Comma-separated list of pgfplots libraries, e.g.,\n",
       "                        `-pl=groupplots,external`.\n",
       "  -j, --use-jinja       Render the code using Jinja2.\n",
       "  -pj, --print-jinja    Print the rendered Jinja2 template.\n",
       "  -pt, --print-tex      Print the full LaTeX document.\n",
       "  -sc SCALE, --scale SCALE\n",
       "                        The scale factor to apply to the TikZ diagram, e.g.,\n",
       "                        `-sc=0.5`. Defaults to `-sc=1.0`.\n",
       "  -r, --rasterize       Output a rasterized image (PNG) instead of SVG.\n",
       "  -d DPI, --dpi DPI     DPI to use when rasterizing the image, e.g.,\n",
       "                        `--dpi=300`. Defaults to `-d=96`.\n",
       "  -g, --gray            Set grayscale to the rasterized image.\n",
       "  -e, --full-err        Print the full error message when an error occurs.\n",
       "  -k, --keep-temp       Keep temporary files.\n",
       "  -tp TEX_PROGRAM, --tex-program TEX_PROGRAM\n",
       "                        TeX program to use for compilation, e.g.,\n",
       "                        `-tp=xelatex` or `-tp=lualatex`. Defaults to\n",
       "                        `-tp=pdflatex`.\n",
       "  -ta TEX_ARGS, --tex-args TEX_ARGS\n",
       "                        Arguments to pass to the TeX program, e.g.,\n",
       "                        `-ta=\"$tex_args_ipython_variable\"`.\n",
       "  -nc, --no-compile     Do not compile the TeX code.\n",
       "  -s SAVE_TIKZ, --save-tikz SAVE_TIKZ\n",
       "                        Save the TikZ code to file, e.g., `-s filename.tikz`.\n",
       "  -st SAVE_TEX, --save-tex SAVE_TEX\n",
       "                        Save full LaTeX code to file, e.g., `-st\n",
       "                        filename.tex`.\n",
       "  -sp SAVE_PDF, --save-pdf SAVE_PDF\n",
       "                        Save PDF file, e.g., `-sp filename.pdf`.\n",
       "  -S SAVE_IMAGE, --save-image SAVE_IMAGE\n",
       "                        Save the output image to file, e.g., `-S\n",
       "                        filename.png`.\n",
       "  -sv SAVE_VAR, --save-var SAVE_VAR\n",
       "                        Save the TikZ or LaTeX code to an IPython variable,\n",
       "                        e.g., `-sv my_var`.\n",
       "  --as-jinja            Deprecated. Use `--use-jinja` instead.\n",
       "\u001b[1;31mFile:\u001b[0m      c:\\users\\lucas\\miniconda3\\lib\\site-packages\\jupyter_tikz\\jupyter_tikz.py"
      ]
     },
     "metadata": {},
     "output_type": "display_data"
    }
   ],
   "source": [
    "%tikz?"
   ]
  },
  {
   "cell_type": "markdown",
   "metadata": {},
   "source": [
    "Create a simple `tikzpicture`:"
   ]
  },
  {
   "cell_type": "code",
   "execution_count": 4,
   "metadata": {},
   "outputs": [
    {
     "data": {
      "image/svg+xml": [
       "<svg xmlns=\"http://www.w3.org/2000/svg\" xmlns:xlink=\"http://www.w3.org/1999/xlink\" width=\"141.931\" height=\"141.931\" viewBox=\"0 0 141.931 141.931\">\n",
       "<defs>\n",
       "<clipPath id=\"clip-0\">\n",
       "<path clip-rule=\"nonzero\" d=\"M 0 0 L 141.863281 0 L 141.863281 141.863281 L 0 141.863281 Z M 0 0 \"/>\n",
       "</clipPath>\n",
       "</defs>\n",
       "<g clip-path=\"url(#clip-0)\">\n",
       "<path fill=\"none\" stroke-width=\"0.19925\" stroke-linecap=\"butt\" stroke-linejoin=\"miter\" stroke=\"rgb(50%, 50%, 50%)\" stroke-opacity=\"1\" stroke-miterlimit=\"10\" d=\"M 0.00161187 0.000363546 L 141.734545 0.000363546 M 0.00161187 28.346168 L 141.734545 28.346168 M 0.00161187 56.691973 L 141.734545 56.691973 M 0.00161187 85.041686 L 141.734545 85.041686 M 0.00161187 113.387491 L 141.734545 113.387491 M 0.00161187 141.72548 L 141.734545 141.72548 M 0.00161187 0.000363546 L 0.00161187 141.733296 M 28.347417 0.000363546 L 28.347417 141.733296 M 56.693222 0.000363546 L 56.693222 141.733296 M 85.039027 0.000363546 L 85.039027 141.733296 M 113.38874 0.000363546 L 113.38874 141.733296 M 141.72282 0.000363546 L 141.72282 141.733296 \" transform=\"matrix(0.999514, 0, 0, -0.999514, 0.0999514, 141.762082)\"/>\n",
       "</g>\n",
       "<path fill-rule=\"nonzero\" fill=\"rgb(0%, 0%, 0%)\" fill-opacity=\"1\" stroke-width=\"0.3985\" stroke-linecap=\"butt\" stroke-linejoin=\"miter\" stroke=\"rgb(0%, 0%, 0%)\" stroke-opacity=\"1\" stroke-miterlimit=\"10\" d=\"M 28.347417 28.346168 L 28.347417 56.691973 L 56.693222 56.691973 L 56.693222 28.346168 Z M 28.347417 28.346168 \" transform=\"matrix(0.999514, 0, 0, -0.999514, 0.0999514, 141.762082)\"/>\n",
       "<path fill-rule=\"nonzero\" fill=\"rgb(0%, 0%, 0%)\" fill-opacity=\"1\" stroke-width=\"0.3985\" stroke-linecap=\"butt\" stroke-linejoin=\"miter\" stroke=\"rgb(0%, 0%, 0%)\" stroke-opacity=\"1\" stroke-miterlimit=\"10\" d=\"M 56.693222 28.346168 L 56.693222 56.691973 L 85.039027 56.691973 L 85.039027 28.346168 Z M 56.693222 28.346168 \" transform=\"matrix(0.999514, 0, 0, -0.999514, 0.0999514, 141.762082)\"/>\n",
       "<path fill-rule=\"nonzero\" fill=\"rgb(0%, 0%, 0%)\" fill-opacity=\"1\" stroke-width=\"0.3985\" stroke-linecap=\"butt\" stroke-linejoin=\"miter\" stroke=\"rgb(0%, 0%, 0%)\" stroke-opacity=\"1\" stroke-miterlimit=\"10\" d=\"M 85.039027 28.346168 L 85.039027 56.691973 L 113.38874 56.691973 L 113.38874 28.346168 Z M 85.039027 28.346168 \" transform=\"matrix(0.999514, 0, 0, -0.999514, 0.0999514, 141.762082)\"/>\n",
       "<path fill-rule=\"nonzero\" fill=\"rgb(0%, 0%, 0%)\" fill-opacity=\"1\" stroke-width=\"0.3985\" stroke-linecap=\"butt\" stroke-linejoin=\"miter\" stroke=\"rgb(0%, 0%, 0%)\" stroke-opacity=\"1\" stroke-miterlimit=\"10\" d=\"M 85.039027 56.691973 L 85.039027 85.041686 L 113.38874 85.041686 L 113.38874 56.691973 Z M 85.039027 56.691973 \" transform=\"matrix(0.999514, 0, 0, -0.999514, 0.0999514, 141.762082)\"/>\n",
       "<path fill-rule=\"nonzero\" fill=\"rgb(0%, 0%, 0%)\" fill-opacity=\"1\" stroke-width=\"0.3985\" stroke-linecap=\"butt\" stroke-linejoin=\"miter\" stroke=\"rgb(0%, 0%, 0%)\" stroke-opacity=\"1\" stroke-miterlimit=\"10\" d=\"M 56.693222 85.041686 L 56.693222 113.387491 L 85.039027 113.387491 L 85.039027 85.041686 Z M 56.693222 85.041686 \" transform=\"matrix(0.999514, 0, 0, -0.999514, 0.0999514, 141.762082)\"/>\n",
       "</svg>"
      ],
      "text/plain": [
       "<IPython.core.display.SVG object>"
      ]
     },
     "execution_count": 4,
     "metadata": {},
     "output_type": "execute_result"
    }
   ],
   "source": [
    "%%tikz\n",
    "\\begin{tikzpicture}\n",
    "    \\draw[help lines] grid (5, 5);\n",
    "    \\draw[fill=black] (1, 1) rectangle (2, 2);\n",
    "    \\draw[fill=black] (2, 1) rectangle (3, 2);\n",
    "    \\draw[fill=black] (3, 1) rectangle (4, 2);\n",
    "    \\draw[fill=black] (3, 2) rectangle (4, 3);\n",
    "    \\draw[fill=black] (2, 3) rectangle (3, 4);\n",
    "\\end{tikzpicture}"
   ]
  },
  {
   "cell_type": "markdown",
   "metadata": {},
   "source": [
    "Alternatively, you can generate TikZ pictures with different input formats by passing the `-as=<input_type>` (or `--input-type=<input_type>`) option. The available options are:\n",
    "\n",
    "- `full-document`: Uses a full LaTeX document as input.\n",
    "- `standalone-document`: Uses a standalone LaTeX document (with `\\documentclass{standalone}`) and takes the content inside `\\begin{document} ... \\end{document}` as input.\n",
    "- `tikzpicture`: Uses a standalone LaTeX document with the `tikzpicture` environment. It takes the content inside `\\begin{tikzpicture} ... \\end{tikzpicture}`.\n",
    "\n",
    "If you don't specify the option, it uses the default: `-as=standalone-document`."
   ]
  },
  {
   "cell_type": "markdown",
   "metadata": {},
   "source": [
    "The code below shows an example using `-as=full-document` (the `full-document` input type):"
   ]
  },
  {
   "cell_type": "code",
   "execution_count": 5,
   "metadata": {},
   "outputs": [
    {
     "data": {
      "image/svg+xml": [
       "<svg xmlns=\"http://www.w3.org/2000/svg\" xmlns:xlink=\"http://www.w3.org/1999/xlink\" width=\"141.931\" height=\"141.931\" viewBox=\"0 0 141.931 141.931\">\n",
       "<defs>\n",
       "<clipPath id=\"clip-0\">\n",
       "<path clip-rule=\"nonzero\" d=\"M 0 0 L 141.863281 0 L 141.863281 141.863281 L 0 141.863281 Z M 0 0 \"/>\n",
       "</clipPath>\n",
       "</defs>\n",
       "<g clip-path=\"url(#clip-0)\">\n",
       "<path fill=\"none\" stroke-width=\"0.19925\" stroke-linecap=\"butt\" stroke-linejoin=\"miter\" stroke=\"rgb(50%, 50%, 50%)\" stroke-opacity=\"1\" stroke-miterlimit=\"10\" d=\"M 0.00161187 0.000363546 L 141.734545 0.000363546 M 0.00161187 28.346168 L 141.734545 28.346168 M 0.00161187 56.691973 L 141.734545 56.691973 M 0.00161187 85.041686 L 141.734545 85.041686 M 0.00161187 113.387491 L 141.734545 113.387491 M 0.00161187 141.72548 L 141.734545 141.72548 M 0.00161187 0.000363546 L 0.00161187 141.733296 M 28.347417 0.000363546 L 28.347417 141.733296 M 56.693222 0.000363546 L 56.693222 141.733296 M 85.039027 0.000363546 L 85.039027 141.733296 M 113.38874 0.000363546 L 113.38874 141.733296 M 141.72282 0.000363546 L 141.72282 141.733296 \" transform=\"matrix(0.999514, 0, 0, -0.999514, 0.0999514, 141.762082)\"/>\n",
       "</g>\n",
       "<path fill-rule=\"nonzero\" fill=\"rgb(100%, 0%, 0%)\" fill-opacity=\"1\" stroke-width=\"0.3985\" stroke-linecap=\"butt\" stroke-linejoin=\"miter\" stroke=\"rgb(0%, 0%, 0%)\" stroke-opacity=\"1\" stroke-miterlimit=\"10\" d=\"M 28.347417 28.346168 L 28.347417 56.691973 L 56.693222 56.691973 L 56.693222 28.346168 Z M 28.347417 28.346168 \" transform=\"matrix(0.999514, 0, 0, -0.999514, 0.0999514, 141.762082)\"/>\n",
       "<path fill-rule=\"nonzero\" fill=\"rgb(100%, 0%, 0%)\" fill-opacity=\"1\" stroke-width=\"0.3985\" stroke-linecap=\"butt\" stroke-linejoin=\"miter\" stroke=\"rgb(0%, 0%, 0%)\" stroke-opacity=\"1\" stroke-miterlimit=\"10\" d=\"M 56.693222 28.346168 L 56.693222 56.691973 L 85.039027 56.691973 L 85.039027 28.346168 Z M 56.693222 28.346168 \" transform=\"matrix(0.999514, 0, 0, -0.999514, 0.0999514, 141.762082)\"/>\n",
       "<path fill-rule=\"nonzero\" fill=\"rgb(100%, 0%, 0%)\" fill-opacity=\"1\" stroke-width=\"0.3985\" stroke-linecap=\"butt\" stroke-linejoin=\"miter\" stroke=\"rgb(0%, 0%, 0%)\" stroke-opacity=\"1\" stroke-miterlimit=\"10\" d=\"M 85.039027 28.346168 L 85.039027 56.691973 L 113.38874 56.691973 L 113.38874 28.346168 Z M 85.039027 28.346168 \" transform=\"matrix(0.999514, 0, 0, -0.999514, 0.0999514, 141.762082)\"/>\n",
       "<path fill-rule=\"nonzero\" fill=\"rgb(100%, 0%, 0%)\" fill-opacity=\"1\" stroke-width=\"0.3985\" stroke-linecap=\"butt\" stroke-linejoin=\"miter\" stroke=\"rgb(0%, 0%, 0%)\" stroke-opacity=\"1\" stroke-miterlimit=\"10\" d=\"M 85.039027 56.691973 L 85.039027 85.041686 L 113.38874 85.041686 L 113.38874 56.691973 Z M 85.039027 56.691973 \" transform=\"matrix(0.999514, 0, 0, -0.999514, 0.0999514, 141.762082)\"/>\n",
       "<path fill-rule=\"nonzero\" fill=\"rgb(100%, 0%, 0%)\" fill-opacity=\"1\" stroke-width=\"0.3985\" stroke-linecap=\"butt\" stroke-linejoin=\"miter\" stroke=\"rgb(0%, 0%, 0%)\" stroke-opacity=\"1\" stroke-miterlimit=\"10\" d=\"M 56.693222 85.041686 L 56.693222 113.387491 L 85.039027 113.387491 L 85.039027 85.041686 Z M 56.693222 85.041686 \" transform=\"matrix(0.999514, 0, 0, -0.999514, 0.0999514, 141.762082)\"/>\n",
       "</svg>"
      ],
      "text/plain": [
       "<IPython.core.display.SVG object>"
      ]
     },
     "execution_count": 5,
     "metadata": {},
     "output_type": "execute_result"
    }
   ],
   "source": [
    "%%tikz -as=full-document\n",
    "\\documentclass[tikz]{standalone}\n",
    "\\begin{document}\n",
    "    \\begin{tikzpicture}\n",
    "        \\draw[help lines] grid (5, 5);\n",
    "        \\draw[fill=red] (1, 1) rectangle (2, 2);\n",
    "        \\draw[fill=red] (2, 1) rectangle (3, 2);\n",
    "        \\draw[fill=red] (3, 1) rectangle (4, 2);\n",
    "        \\draw[fill=red] (3, 2) rectangle (4, 3);\n",
    "        \\draw[fill=red] (2, 3) rectangle (3, 4);\n",
    "    \\end{tikzpicture}\n",
    "\\end{document}"
   ]
  },
  {
   "cell_type": "markdown",
   "metadata": {},
   "source": [
    "Here is another example that uses `-as=tikzpicture`:"
   ]
  },
  {
   "cell_type": "code",
   "execution_count": 6,
   "metadata": {},
   "outputs": [
    {
     "data": {
      "image/svg+xml": [
       "<svg xmlns=\"http://www.w3.org/2000/svg\" xmlns:xlink=\"http://www.w3.org/1999/xlink\" width=\"141.931\" height=\"141.931\" viewBox=\"0 0 141.931 141.931\">\n",
       "<defs>\n",
       "<clipPath id=\"clip-0\">\n",
       "<path clip-rule=\"nonzero\" d=\"M 0 0 L 141.863281 0 L 141.863281 141.863281 L 0 141.863281 Z M 0 0 \"/>\n",
       "</clipPath>\n",
       "</defs>\n",
       "<g clip-path=\"url(#clip-0)\">\n",
       "<path fill=\"none\" stroke-width=\"0.19925\" stroke-linecap=\"butt\" stroke-linejoin=\"miter\" stroke=\"rgb(50%, 50%, 50%)\" stroke-opacity=\"1\" stroke-miterlimit=\"10\" d=\"M 0.00161187 0.000363546 L 141.734545 0.000363546 M 0.00161187 28.346168 L 141.734545 28.346168 M 0.00161187 56.691973 L 141.734545 56.691973 M 0.00161187 85.041686 L 141.734545 85.041686 M 0.00161187 113.387491 L 141.734545 113.387491 M 0.00161187 141.72548 L 141.734545 141.72548 M 0.00161187 0.000363546 L 0.00161187 141.733296 M 28.347417 0.000363546 L 28.347417 141.733296 M 56.693222 0.000363546 L 56.693222 141.733296 M 85.039027 0.000363546 L 85.039027 141.733296 M 113.38874 0.000363546 L 113.38874 141.733296 M 141.72282 0.000363546 L 141.72282 141.733296 \" transform=\"matrix(0.999514, 0, 0, -0.999514, 0.0999514, 141.762082)\"/>\n",
       "</g>\n",
       "<path fill-rule=\"nonzero\" fill=\"rgb(99.253845%, 90.000916%, 95.489502%)\" fill-opacity=\"1\" stroke-width=\"0.3985\" stroke-linecap=\"butt\" stroke-linejoin=\"miter\" stroke=\"rgb(0%, 0%, 0%)\" stroke-opacity=\"1\" stroke-miterlimit=\"10\" d=\"M 28.347417 28.346168 L 28.347417 56.691973 L 56.693222 56.691973 L 56.693222 28.346168 Z M 28.347417 28.346168 \" transform=\"matrix(0.999514, 0, 0, -0.999514, 0.0999514, 141.762082)\"/>\n",
       "<path fill-rule=\"nonzero\" fill=\"rgb(99.253845%, 90.000916%, 95.489502%)\" fill-opacity=\"1\" stroke-width=\"0.3985\" stroke-linecap=\"butt\" stroke-linejoin=\"miter\" stroke=\"rgb(0%, 0%, 0%)\" stroke-opacity=\"1\" stroke-miterlimit=\"10\" d=\"M 56.693222 28.346168 L 56.693222 56.691973 L 85.039027 56.691973 L 85.039027 28.346168 Z M 56.693222 28.346168 \" transform=\"matrix(0.999514, 0, 0, -0.999514, 0.0999514, 141.762082)\"/>\n",
       "<path fill-rule=\"nonzero\" fill=\"rgb(99.253845%, 90.000916%, 95.489502%)\" fill-opacity=\"1\" stroke-width=\"0.3985\" stroke-linecap=\"butt\" stroke-linejoin=\"miter\" stroke=\"rgb(0%, 0%, 0%)\" stroke-opacity=\"1\" stroke-miterlimit=\"10\" d=\"M 85.039027 28.346168 L 85.039027 56.691973 L 113.38874 56.691973 L 113.38874 28.346168 Z M 85.039027 28.346168 \" transform=\"matrix(0.999514, 0, 0, -0.999514, 0.0999514, 141.762082)\"/>\n",
       "<path fill-rule=\"nonzero\" fill=\"rgb(99.253845%, 90.000916%, 95.489502%)\" fill-opacity=\"1\" stroke-width=\"0.3985\" stroke-linecap=\"butt\" stroke-linejoin=\"miter\" stroke=\"rgb(0%, 0%, 0%)\" stroke-opacity=\"1\" stroke-miterlimit=\"10\" d=\"M 85.039027 56.691973 L 85.039027 85.041686 L 113.38874 85.041686 L 113.38874 56.691973 Z M 85.039027 56.691973 \" transform=\"matrix(0.999514, 0, 0, -0.999514, 0.0999514, 141.762082)\"/>\n",
       "<path fill-rule=\"nonzero\" fill=\"rgb(99.253845%, 90.000916%, 95.489502%)\" fill-opacity=\"1\" stroke-width=\"0.3985\" stroke-linecap=\"butt\" stroke-linejoin=\"miter\" stroke=\"rgb(0%, 0%, 0%)\" stroke-opacity=\"1\" stroke-miterlimit=\"10\" d=\"M 56.693222 85.041686 L 56.693222 113.387491 L 85.039027 113.387491 L 85.039027 85.041686 Z M 56.693222 85.041686 \" transform=\"matrix(0.999514, 0, 0, -0.999514, 0.0999514, 141.762082)\"/>\n",
       "</svg>"
      ],
      "text/plain": [
       "<IPython.core.display.SVG object>"
      ]
     },
     "execution_count": 6,
     "metadata": {},
     "output_type": "execute_result"
    }
   ],
   "source": [
    "%%tikz -as=tikzpicture\n",
    "\\draw[help lines] grid (5, 5);\n",
    "\\draw[fill=magenta!10] (1, 1) rectangle (2, 2);\n",
    "\\draw[fill=magenta!10] (2, 1) rectangle (3, 2);\n",
    "\\draw[fill=magenta!10] (3, 1) rectangle (4, 2);\n",
    "\\draw[fill=magenta!10] (3, 2) rectangle (4, 3);\n",
    "\\draw[fill=magenta!10] (2, 3) rectangle (3, 4);"
   ]
  },
  {
   "cell_type": "markdown",
   "metadata": {},
   "source": [
    "> **Note:** `-as=<input_type>` matches the initial substring of the input type. This means that both `-as=full` and `-as=f` are valid for setting the `full-document` input type. The same rule applies to other types: for example, `-as=s` and `-as=standalone` for `standalone-document`, or `-as=tikz` and `-as=t` for `tikzpicture`. Use this feature to reduce the amount of code you need to type."
   ]
  },
  {
   "cell_type": "code",
   "execution_count": 7,
   "metadata": {},
   "outputs": [
    {
     "data": {
      "image/svg+xml": [
       "<svg xmlns=\"http://www.w3.org/2000/svg\" xmlns:xlink=\"http://www.w3.org/1999/xlink\" width=\"141.931\" height=\"141.931\" viewBox=\"0 0 141.931 141.931\">\n",
       "<defs>\n",
       "<clipPath id=\"clip-0\">\n",
       "<path clip-rule=\"nonzero\" d=\"M 0 0 L 141.863281 0 L 141.863281 141.863281 L 0 141.863281 Z M 0 0 \"/>\n",
       "</clipPath>\n",
       "</defs>\n",
       "<g clip-path=\"url(#clip-0)\">\n",
       "<path fill=\"none\" stroke-width=\"0.19925\" stroke-linecap=\"butt\" stroke-linejoin=\"miter\" stroke=\"rgb(50%, 50%, 50%)\" stroke-opacity=\"1\" stroke-miterlimit=\"10\" d=\"M 0.00161187 0.000363546 L 141.734545 0.000363546 M 0.00161187 28.346168 L 141.734545 28.346168 M 0.00161187 56.691973 L 141.734545 56.691973 M 0.00161187 85.041686 L 141.734545 85.041686 M 0.00161187 113.387491 L 141.734545 113.387491 M 0.00161187 141.72548 L 141.734545 141.72548 M 0.00161187 0.000363546 L 0.00161187 141.733296 M 28.347417 0.000363546 L 28.347417 141.733296 M 56.693222 0.000363546 L 56.693222 141.733296 M 85.039027 0.000363546 L 85.039027 141.733296 M 113.38874 0.000363546 L 113.38874 141.733296 M 141.72282 0.000363546 L 141.72282 141.733296 \" transform=\"matrix(0.999514, 0, 0, -0.999514, 0.0999514, 141.762082)\"/>\n",
       "</g>\n",
       "<path fill-rule=\"nonzero\" fill=\"rgb(99.253845%, 90.000916%, 95.489502%)\" fill-opacity=\"1\" stroke-width=\"0.3985\" stroke-linecap=\"butt\" stroke-linejoin=\"miter\" stroke=\"rgb(0%, 0%, 0%)\" stroke-opacity=\"1\" stroke-miterlimit=\"10\" d=\"M 28.347417 28.346168 L 28.347417 56.691973 L 56.693222 56.691973 L 56.693222 28.346168 Z M 28.347417 28.346168 \" transform=\"matrix(0.999514, 0, 0, -0.999514, 0.0999514, 141.762082)\"/>\n",
       "<path fill-rule=\"nonzero\" fill=\"rgb(99.253845%, 90.000916%, 95.489502%)\" fill-opacity=\"1\" stroke-width=\"0.3985\" stroke-linecap=\"butt\" stroke-linejoin=\"miter\" stroke=\"rgb(0%, 0%, 0%)\" stroke-opacity=\"1\" stroke-miterlimit=\"10\" d=\"M 56.693222 28.346168 L 56.693222 56.691973 L 85.039027 56.691973 L 85.039027 28.346168 Z M 56.693222 28.346168 \" transform=\"matrix(0.999514, 0, 0, -0.999514, 0.0999514, 141.762082)\"/>\n",
       "<path fill-rule=\"nonzero\" fill=\"rgb(99.253845%, 90.000916%, 95.489502%)\" fill-opacity=\"1\" stroke-width=\"0.3985\" stroke-linecap=\"butt\" stroke-linejoin=\"miter\" stroke=\"rgb(0%, 0%, 0%)\" stroke-opacity=\"1\" stroke-miterlimit=\"10\" d=\"M 85.039027 28.346168 L 85.039027 56.691973 L 113.38874 56.691973 L 113.38874 28.346168 Z M 85.039027 28.346168 \" transform=\"matrix(0.999514, 0, 0, -0.999514, 0.0999514, 141.762082)\"/>\n",
       "<path fill-rule=\"nonzero\" fill=\"rgb(99.253845%, 90.000916%, 95.489502%)\" fill-opacity=\"1\" stroke-width=\"0.3985\" stroke-linecap=\"butt\" stroke-linejoin=\"miter\" stroke=\"rgb(0%, 0%, 0%)\" stroke-opacity=\"1\" stroke-miterlimit=\"10\" d=\"M 85.039027 56.691973 L 85.039027 85.041686 L 113.38874 85.041686 L 113.38874 56.691973 Z M 85.039027 56.691973 \" transform=\"matrix(0.999514, 0, 0, -0.999514, 0.0999514, 141.762082)\"/>\n",
       "<path fill-rule=\"nonzero\" fill=\"rgb(99.253845%, 90.000916%, 95.489502%)\" fill-opacity=\"1\" stroke-width=\"0.3985\" stroke-linecap=\"butt\" stroke-linejoin=\"miter\" stroke=\"rgb(0%, 0%, 0%)\" stroke-opacity=\"1\" stroke-miterlimit=\"10\" d=\"M 56.693222 85.041686 L 56.693222 113.387491 L 85.039027 113.387491 L 85.039027 85.041686 Z M 56.693222 85.041686 \" transform=\"matrix(0.999514, 0, 0, -0.999514, 0.0999514, 141.762082)\"/>\n",
       "</svg>"
      ],
      "text/plain": [
       "<IPython.core.display.SVG object>"
      ]
     },
     "execution_count": 7,
     "metadata": {},
     "output_type": "execute_result"
    }
   ],
   "source": [
    "%%tikz -as=t\n",
    "\\draw[help lines] grid (5, 5);\n",
    "\\draw[fill=magenta!10] (1, 1) rectangle (2, 2);\n",
    "\\draw[fill=magenta!10] (2, 1) rectangle (3, 2);\n",
    "\\draw[fill=magenta!10] (3, 1) rectangle (4, 2);\n",
    "\\draw[fill=magenta!10] (3, 2) rectangle (4, 3);\n",
    "\\draw[fill=magenta!10] (2, 3) rectangle (3, 4);"
   ]
  },
  {
   "cell_type": "markdown",
   "metadata": {},
   "source": [
    "Alternatively, you can use the aliases:\n",
    "\n",
    "- `-i` (or `--implicit-pic`) for `-as=tikzpicture`\n",
    "- `-f` (or `--full-document`) for `-as=full-document`"
   ]
  },
  {
   "cell_type": "code",
   "execution_count": 8,
   "metadata": {},
   "outputs": [
    {
     "data": {
      "image/svg+xml": [
       "<svg xmlns=\"http://www.w3.org/2000/svg\" xmlns:xlink=\"http://www.w3.org/1999/xlink\" width=\"141.931\" height=\"141.931\" viewBox=\"0 0 141.931 141.931\">\n",
       "<defs>\n",
       "<clipPath id=\"clip-0\">\n",
       "<path clip-rule=\"nonzero\" d=\"M 0 0 L 141.863281 0 L 141.863281 141.863281 L 0 141.863281 Z M 0 0 \"/>\n",
       "</clipPath>\n",
       "</defs>\n",
       "<g clip-path=\"url(#clip-0)\">\n",
       "<path fill=\"none\" stroke-width=\"0.19925\" stroke-linecap=\"butt\" stroke-linejoin=\"miter\" stroke=\"rgb(50%, 50%, 50%)\" stroke-opacity=\"1\" stroke-miterlimit=\"10\" d=\"M 0.00161187 0.000363546 L 141.734545 0.000363546 M 0.00161187 28.346168 L 141.734545 28.346168 M 0.00161187 56.691973 L 141.734545 56.691973 M 0.00161187 85.041686 L 141.734545 85.041686 M 0.00161187 113.387491 L 141.734545 113.387491 M 0.00161187 141.72548 L 141.734545 141.72548 M 0.00161187 0.000363546 L 0.00161187 141.733296 M 28.347417 0.000363546 L 28.347417 141.733296 M 56.693222 0.000363546 L 56.693222 141.733296 M 85.039027 0.000363546 L 85.039027 141.733296 M 113.38874 0.000363546 L 113.38874 141.733296 M 141.72282 0.000363546 L 141.72282 141.733296 \" transform=\"matrix(0.999514, 0, 0, -0.999514, 0.0999514, 141.762082)\"/>\n",
       "</g>\n",
       "<path fill-rule=\"nonzero\" fill=\"rgb(100%, 0%, 0%)\" fill-opacity=\"1\" stroke-width=\"0.3985\" stroke-linecap=\"butt\" stroke-linejoin=\"miter\" stroke=\"rgb(0%, 0%, 0%)\" stroke-opacity=\"1\" stroke-miterlimit=\"10\" d=\"M 28.347417 28.346168 L 28.347417 56.691973 L 56.693222 56.691973 L 56.693222 28.346168 Z M 28.347417 28.346168 \" transform=\"matrix(0.999514, 0, 0, -0.999514, 0.0999514, 141.762082)\"/>\n",
       "<path fill-rule=\"nonzero\" fill=\"rgb(100%, 0%, 0%)\" fill-opacity=\"1\" stroke-width=\"0.3985\" stroke-linecap=\"butt\" stroke-linejoin=\"miter\" stroke=\"rgb(0%, 0%, 0%)\" stroke-opacity=\"1\" stroke-miterlimit=\"10\" d=\"M 56.693222 28.346168 L 56.693222 56.691973 L 85.039027 56.691973 L 85.039027 28.346168 Z M 56.693222 28.346168 \" transform=\"matrix(0.999514, 0, 0, -0.999514, 0.0999514, 141.762082)\"/>\n",
       "<path fill-rule=\"nonzero\" fill=\"rgb(100%, 0%, 0%)\" fill-opacity=\"1\" stroke-width=\"0.3985\" stroke-linecap=\"butt\" stroke-linejoin=\"miter\" stroke=\"rgb(0%, 0%, 0%)\" stroke-opacity=\"1\" stroke-miterlimit=\"10\" d=\"M 85.039027 28.346168 L 85.039027 56.691973 L 113.38874 56.691973 L 113.38874 28.346168 Z M 85.039027 28.346168 \" transform=\"matrix(0.999514, 0, 0, -0.999514, 0.0999514, 141.762082)\"/>\n",
       "<path fill-rule=\"nonzero\" fill=\"rgb(100%, 0%, 0%)\" fill-opacity=\"1\" stroke-width=\"0.3985\" stroke-linecap=\"butt\" stroke-linejoin=\"miter\" stroke=\"rgb(0%, 0%, 0%)\" stroke-opacity=\"1\" stroke-miterlimit=\"10\" d=\"M 85.039027 56.691973 L 85.039027 85.041686 L 113.38874 85.041686 L 113.38874 56.691973 Z M 85.039027 56.691973 \" transform=\"matrix(0.999514, 0, 0, -0.999514, 0.0999514, 141.762082)\"/>\n",
       "<path fill-rule=\"nonzero\" fill=\"rgb(100%, 0%, 0%)\" fill-opacity=\"1\" stroke-width=\"0.3985\" stroke-linecap=\"butt\" stroke-linejoin=\"miter\" stroke=\"rgb(0%, 0%, 0%)\" stroke-opacity=\"1\" stroke-miterlimit=\"10\" d=\"M 56.693222 85.041686 L 56.693222 113.387491 L 85.039027 113.387491 L 85.039027 85.041686 Z M 56.693222 85.041686 \" transform=\"matrix(0.999514, 0, 0, -0.999514, 0.0999514, 141.762082)\"/>\n",
       "</svg>"
      ],
      "text/plain": [
       "<IPython.core.display.SVG object>"
      ]
     },
     "execution_count": 8,
     "metadata": {},
     "output_type": "execute_result"
    }
   ],
   "source": [
    "%%tikz -f\n",
    "\\documentclass[tikz]{standalone}\n",
    "\\begin{document}\n",
    "    \\begin{tikzpicture}\n",
    "        \\draw[help lines] grid (5, 5);\n",
    "        \\draw[fill=red] (1, 1) rectangle (2, 2);\n",
    "        \\draw[fill=red] (2, 1) rectangle (3, 2);\n",
    "        \\draw[fill=red] (3, 1) rectangle (4, 2);\n",
    "        \\draw[fill=red] (3, 2) rectangle (4, 3);\n",
    "        \\draw[fill=red] (2, 3) rectangle (3, 4);\n",
    "    \\end{tikzpicture}\n",
    "\\end{document}"
   ]
  },
  {
   "cell_type": "markdown",
   "metadata": {},
   "source": [
    "## Using preamble"
   ]
  },
  {
   "cell_type": "markdown",
   "metadata": {},
   "source": [
    "You can set a preamble by using the flag `-p=\"$<name_of_preamble>\"` (or `--preamble=\"$<name_of_preamble>\"`). The preamble includes all LaTeX code before `\\begin{document}`, except for the `documentclass` line."
   ]
  },
  {
   "cell_type": "markdown",
   "metadata": {},
   "source": [
    "Adding a preamble defining a custom color:"
   ]
  },
  {
   "cell_type": "code",
   "execution_count": 9,
   "metadata": {},
   "outputs": [],
   "source": [
    "preamble = r\"\"\"\n",
    "\\usepackage{tikz}\n",
    "\\usepackage{xcolor}\n",
    "\\definecolor{my_color}{RGB}{0, 238, 255}\n",
    "\"\"\""
   ]
  },
  {
   "cell_type": "markdown",
   "metadata": {},
   "source": [
    "Reuse the preamble in a standalone TeX document:"
   ]
  },
  {
   "cell_type": "code",
   "execution_count": 10,
   "metadata": {},
   "outputs": [
    {
     "data": {
      "image/svg+xml": [
       "<svg xmlns=\"http://www.w3.org/2000/svg\" xmlns:xlink=\"http://www.w3.org/1999/xlink\" width=\"141.931\" height=\"141.931\" viewBox=\"0 0 141.931 141.931\">\n",
       "<defs>\n",
       "<clipPath id=\"clip-0\">\n",
       "<path clip-rule=\"nonzero\" d=\"M 0 0 L 141.863281 0 L 141.863281 141.863281 L 0 141.863281 Z M 0 0 \"/>\n",
       "</clipPath>\n",
       "</defs>\n",
       "<g clip-path=\"url(#clip-0)\">\n",
       "<path fill=\"none\" stroke-width=\"0.19925\" stroke-linecap=\"butt\" stroke-linejoin=\"miter\" stroke=\"rgb(50%, 50%, 50%)\" stroke-opacity=\"1\" stroke-miterlimit=\"10\" d=\"M 0.00161187 0.000363546 L 141.734545 0.000363546 M 0.00161187 28.346168 L 141.734545 28.346168 M 0.00161187 56.691973 L 141.734545 56.691973 M 0.00161187 85.041686 L 141.734545 85.041686 M 0.00161187 113.387491 L 141.734545 113.387491 M 0.00161187 141.72548 L 141.734545 141.72548 M 0.00161187 0.000363546 L 0.00161187 141.733296 M 28.347417 0.000363546 L 28.347417 141.733296 M 56.693222 0.000363546 L 56.693222 141.733296 M 85.039027 0.000363546 L 85.039027 141.733296 M 113.38874 0.000363546 L 113.38874 141.733296 M 141.72282 0.000363546 L 141.72282 141.733296 \" transform=\"matrix(0.999514, 0, 0, -0.999514, 0.0999514, 141.762082)\"/>\n",
       "</g>\n",
       "<path fill-rule=\"nonzero\" fill=\"rgb(0%, 93.331909%, 100%)\" fill-opacity=\"1\" stroke-width=\"0.3985\" stroke-linecap=\"butt\" stroke-linejoin=\"miter\" stroke=\"rgb(0%, 0%, 0%)\" stroke-opacity=\"1\" stroke-miterlimit=\"10\" d=\"M 28.347417 28.346168 L 28.347417 56.691973 L 56.693222 56.691973 L 56.693222 28.346168 Z M 28.347417 28.346168 \" transform=\"matrix(0.999514, 0, 0, -0.999514, 0.0999514, 141.762082)\"/>\n",
       "<path fill-rule=\"nonzero\" fill=\"rgb(0%, 93.331909%, 100%)\" fill-opacity=\"1\" stroke-width=\"0.3985\" stroke-linecap=\"butt\" stroke-linejoin=\"miter\" stroke=\"rgb(0%, 0%, 0%)\" stroke-opacity=\"1\" stroke-miterlimit=\"10\" d=\"M 56.693222 28.346168 L 56.693222 56.691973 L 85.039027 56.691973 L 85.039027 28.346168 Z M 56.693222 28.346168 \" transform=\"matrix(0.999514, 0, 0, -0.999514, 0.0999514, 141.762082)\"/>\n",
       "<path fill-rule=\"nonzero\" fill=\"rgb(0%, 93.331909%, 100%)\" fill-opacity=\"1\" stroke-width=\"0.3985\" stroke-linecap=\"butt\" stroke-linejoin=\"miter\" stroke=\"rgb(0%, 0%, 0%)\" stroke-opacity=\"1\" stroke-miterlimit=\"10\" d=\"M 85.039027 28.346168 L 85.039027 56.691973 L 113.38874 56.691973 L 113.38874 28.346168 Z M 85.039027 28.346168 \" transform=\"matrix(0.999514, 0, 0, -0.999514, 0.0999514, 141.762082)\"/>\n",
       "<path fill-rule=\"nonzero\" fill=\"rgb(0%, 93.331909%, 100%)\" fill-opacity=\"1\" stroke-width=\"0.3985\" stroke-linecap=\"butt\" stroke-linejoin=\"miter\" stroke=\"rgb(0%, 0%, 0%)\" stroke-opacity=\"1\" stroke-miterlimit=\"10\" d=\"M 85.039027 56.691973 L 85.039027 85.041686 L 113.38874 85.041686 L 113.38874 56.691973 Z M 85.039027 56.691973 \" transform=\"matrix(0.999514, 0, 0, -0.999514, 0.0999514, 141.762082)\"/>\n",
       "<path fill-rule=\"nonzero\" fill=\"rgb(0%, 93.331909%, 100%)\" fill-opacity=\"1\" stroke-width=\"0.3985\" stroke-linecap=\"butt\" stroke-linejoin=\"miter\" stroke=\"rgb(0%, 0%, 0%)\" stroke-opacity=\"1\" stroke-miterlimit=\"10\" d=\"M 56.693222 85.041686 L 56.693222 113.387491 L 85.039027 113.387491 L 85.039027 85.041686 Z M 56.693222 85.041686 \" transform=\"matrix(0.999514, 0, 0, -0.999514, 0.0999514, 141.762082)\"/>\n",
       "</svg>"
      ],
      "text/plain": [
       "<IPython.core.display.SVG object>"
      ]
     },
     "execution_count": 10,
     "metadata": {},
     "output_type": "execute_result"
    }
   ],
   "source": [
    "%%tikz -p \"$preamble\"\n",
    "\\begin{tikzpicture}\n",
    "    \\draw[help lines] grid (5, 5);\n",
    "    \\draw[fill=my_color] (1, 1) rectangle (2, 2);\n",
    "    \\draw[fill=my_color] (2, 1) rectangle (3, 2);\n",
    "    \\draw[fill=my_color] (3, 1) rectangle (4, 2);\n",
    "    \\draw[fill=my_color] (3, 2) rectangle (4, 3);\n",
    "    \\draw[fill=my_color] (2, 3) rectangle (3, 4);\n",
    "\\end{tikzpicture}"
   ]
  },
  {
   "cell_type": "markdown",
   "metadata": {},
   "source": [
    "This also works with an implicit `tikzpicture` environment:"
   ]
  },
  {
   "cell_type": "code",
   "execution_count": 11,
   "metadata": {},
   "outputs": [
    {
     "data": {
      "image/svg+xml": [
       "<svg xmlns=\"http://www.w3.org/2000/svg\" xmlns:xlink=\"http://www.w3.org/1999/xlink\" width=\"141.931\" height=\"141.931\" viewBox=\"0 0 141.931 141.931\">\n",
       "<defs>\n",
       "<clipPath id=\"clip-0\">\n",
       "<path clip-rule=\"nonzero\" d=\"M 0 0 L 141.863281 0 L 141.863281 141.863281 L 0 141.863281 Z M 0 0 \"/>\n",
       "</clipPath>\n",
       "</defs>\n",
       "<g clip-path=\"url(#clip-0)\">\n",
       "<path fill=\"none\" stroke-width=\"0.19925\" stroke-linecap=\"butt\" stroke-linejoin=\"miter\" stroke=\"rgb(50%, 50%, 50%)\" stroke-opacity=\"1\" stroke-miterlimit=\"10\" d=\"M 0.00161187 0.000363546 L 141.734545 0.000363546 M 0.00161187 28.346168 L 141.734545 28.346168 M 0.00161187 56.691973 L 141.734545 56.691973 M 0.00161187 85.041686 L 141.734545 85.041686 M 0.00161187 113.387491 L 141.734545 113.387491 M 0.00161187 141.72548 L 141.734545 141.72548 M 0.00161187 0.000363546 L 0.00161187 141.733296 M 28.347417 0.000363546 L 28.347417 141.733296 M 56.693222 0.000363546 L 56.693222 141.733296 M 85.039027 0.000363546 L 85.039027 141.733296 M 113.38874 0.000363546 L 113.38874 141.733296 M 141.72282 0.000363546 L 141.72282 141.733296 \" transform=\"matrix(0.999514, 0, 0, -0.999514, 0.0999514, 141.762082)\"/>\n",
       "</g>\n",
       "<path fill-rule=\"nonzero\" fill=\"rgb(0%, 93.331909%, 100%)\" fill-opacity=\"1\" stroke-width=\"0.3985\" stroke-linecap=\"butt\" stroke-linejoin=\"miter\" stroke=\"rgb(0%, 0%, 0%)\" stroke-opacity=\"1\" stroke-miterlimit=\"10\" d=\"M 28.347417 28.346168 L 28.347417 56.691973 L 56.693222 56.691973 L 56.693222 28.346168 Z M 28.347417 28.346168 \" transform=\"matrix(0.999514, 0, 0, -0.999514, 0.0999514, 141.762082)\"/>\n",
       "<path fill-rule=\"nonzero\" fill=\"rgb(0%, 93.331909%, 100%)\" fill-opacity=\"1\" stroke-width=\"0.3985\" stroke-linecap=\"butt\" stroke-linejoin=\"miter\" stroke=\"rgb(0%, 0%, 0%)\" stroke-opacity=\"1\" stroke-miterlimit=\"10\" d=\"M 85.039027 28.346168 L 85.039027 56.691973 L 113.38874 56.691973 L 113.38874 28.346168 Z M 85.039027 28.346168 \" transform=\"matrix(0.999514, 0, 0, -0.999514, 0.0999514, 141.762082)\"/>\n",
       "<path fill-rule=\"nonzero\" fill=\"rgb(0%, 93.331909%, 100%)\" fill-opacity=\"1\" stroke-width=\"0.3985\" stroke-linecap=\"butt\" stroke-linejoin=\"miter\" stroke=\"rgb(0%, 0%, 0%)\" stroke-opacity=\"1\" stroke-miterlimit=\"10\" d=\"M 56.693222 56.691973 L 56.693222 85.041686 L 85.039027 85.041686 L 85.039027 56.691973 Z M 56.693222 56.691973 \" transform=\"matrix(0.999514, 0, 0, -0.999514, 0.0999514, 141.762082)\"/>\n",
       "<path fill-rule=\"nonzero\" fill=\"rgb(0%, 93.331909%, 100%)\" fill-opacity=\"1\" stroke-width=\"0.3985\" stroke-linecap=\"butt\" stroke-linejoin=\"miter\" stroke=\"rgb(0%, 0%, 0%)\" stroke-opacity=\"1\" stroke-miterlimit=\"10\" d=\"M 85.039027 56.691973 L 85.039027 85.041686 L 113.38874 85.041686 L 113.38874 56.691973 Z M 85.039027 56.691973 \" transform=\"matrix(0.999514, 0, 0, -0.999514, 0.0999514, 141.762082)\"/>\n",
       "<path fill-rule=\"nonzero\" fill=\"rgb(0%, 93.331909%, 100%)\" fill-opacity=\"1\" stroke-width=\"0.3985\" stroke-linecap=\"butt\" stroke-linejoin=\"miter\" stroke=\"rgb(0%, 0%, 0%)\" stroke-opacity=\"1\" stroke-miterlimit=\"10\" d=\"M 56.693222 85.041686 L 56.693222 113.387491 L 85.039027 113.387491 L 85.039027 85.041686 Z M 56.693222 85.041686 \" transform=\"matrix(0.999514, 0, 0, -0.999514, 0.0999514, 141.762082)\"/>\n",
       "</svg>"
      ],
      "text/plain": [
       "<IPython.core.display.SVG object>"
      ]
     },
     "execution_count": 11,
     "metadata": {},
     "output_type": "execute_result"
    }
   ],
   "source": [
    "%%tikz -p \"$preamble\" -as=t\n",
    "\\draw[help lines] grid (5, 5);\n",
    "\\draw[fill=my_color] (1, 1) rectangle (2, 2);\n",
    "\\draw[fill=my_color] (3, 1) rectangle (4, 2);\n",
    "\\draw[fill=my_color] (2, 2) rectangle (3, 3);\n",
    "\\draw[fill=my_color] (3, 2) rectangle (4, 3);\n",
    "\\draw[fill=my_color] (2, 3) rectangle (3, 4);"
   ]
  },
  {
   "cell_type": "markdown",
   "metadata": {},
   "source": [
    "## Loading packages and libraries"
   ]
  },
  {
   "cell_type": "markdown",
   "metadata": {},
   "source": [
    "If you are not using the `-f` (or `--full-document`) flag, it's often useful to:\n",
    "\n",
    "- Set the `\\usepackage{X,Y,Z}` via `--t=<X,Y,Z>` (or `--tex-packages=<X,Y,Z>`)\n",
    "- Set the `\\usetikzlibrary{X,Y,Z}` via `--l=<X,Y,Z>` (or `--tikz-libraries=<X,Y,Z>`)\n",
    "- Set the `\\usepgfplotslibrary{X,Y,Z}` via `-lp=<X,Y,Z>` (or `--pgfplots-libraries=<X,Y,Z>`)\n",
    "\n",
    "> **Note:** The `tikz` package is imported automatically."
   ]
  },
  {
   "cell_type": "code",
   "execution_count": 12,
   "metadata": {},
   "outputs": [
    {
     "data": {
      "image/svg+xml": [
       "<svg xmlns=\"http://www.w3.org/2000/svg\" xmlns:xlink=\"http://www.w3.org/1999/xlink\" width=\"137.719\" height=\"101.634\" viewBox=\"0 0 137.719 101.634\">\n",
       "<defs>\n",
       "<g>\n",
       "<g id=\"glyph-0-0\">\n",
       "<path d=\"M 3.296875 -0.75 C 3.34375 -0.359375 3.609375 0.0625 4.078125 0.0625 C 4.28125 0.0625 4.890625 -0.078125 4.890625 -0.890625 L 4.890625 -1.4375 L 4.640625 -1.4375 L 4.640625 -0.890625 C 4.640625 -0.3125 4.390625 -0.25 4.28125 -0.25 C 3.953125 -0.25 3.921875 -0.6875 3.921875 -0.75 L 3.921875 -2.734375 C 3.921875 -3.140625 3.921875 -3.53125 3.5625 -3.90625 C 3.171875 -4.28125 2.671875 -4.4375 2.203125 -4.4375 C 1.390625 -4.4375 0.703125 -3.984375 0.703125 -3.328125 C 0.703125 -3.03125 0.90625 -2.859375 1.15625 -2.859375 C 1.4375 -2.859375 1.625 -3.0625 1.625 -3.3125 C 1.625 -3.4375 1.5625 -3.765625 1.109375 -3.765625 C 1.375 -4.125 1.859375 -4.234375 2.1875 -4.234375 C 2.671875 -4.234375 3.234375 -3.84375 3.234375 -2.953125 L 3.234375 -2.59375 C 2.734375 -2.5625 2.03125 -2.53125 1.40625 -2.234375 C 0.671875 -1.890625 0.421875 -1.375 0.421875 -0.9375 C 0.421875 -0.140625 1.375 0.109375 2 0.109375 C 2.65625 0.109375 3.109375 -0.28125 3.296875 -0.75 Z M 3.234375 -2.375 L 3.234375 -1.390625 C 3.234375 -0.453125 2.515625 -0.109375 2.078125 -0.109375 C 1.59375 -0.109375 1.1875 -0.453125 1.1875 -0.953125 C 1.1875 -1.5 1.59375 -2.328125 3.234375 -2.375 Z M 3.234375 -2.375 \"/>\n",
       "</g>\n",
       "<g id=\"glyph-0-1\">\n",
       "<path d=\"M 1.703125 -3.734375 L 1.703125 -6.890625 L 0.28125 -6.78125 L 0.28125 -6.46875 C 0.96875 -6.46875 1.046875 -6.40625 1.046875 -5.90625 L 1.046875 0 L 1.296875 0 C 1.3125 -0.015625 1.390625 -0.15625 1.65625 -0.609375 C 1.8125 -0.390625 2.21875 0.109375 2.953125 0.109375 C 4.140625 0.109375 5.171875 -0.859375 5.171875 -2.140625 C 5.171875 -3.40625 4.203125 -4.390625 3.0625 -4.390625 C 2.296875 -4.390625 1.859375 -3.921875 1.703125 -3.734375 Z M 1.734375 -1.125 L 1.734375 -3.171875 C 1.734375 -3.359375 1.734375 -3.375 1.84375 -3.53125 C 2.234375 -4.09375 2.78125 -4.171875 3.015625 -4.171875 C 3.46875 -4.171875 3.8125 -3.90625 4.0625 -3.53125 C 4.3125 -3.125 4.34375 -2.5625 4.34375 -2.15625 C 4.34375 -1.78125 4.328125 -1.1875 4.03125 -0.75 C 3.828125 -0.4375 3.453125 -0.109375 2.921875 -0.109375 C 2.46875 -0.109375 2.109375 -0.34375 1.875 -0.71875 C 1.734375 -0.921875 1.734375 -0.953125 1.734375 -1.125 Z M 1.734375 -1.125 \"/>\n",
       "</g>\n",
       "<g id=\"glyph-0-2\">\n",
       "<path d=\"M 1.15625 -2.15625 C 1.15625 -3.78125 1.96875 -4.203125 2.5 -4.203125 C 2.59375 -4.203125 3.21875 -4.1875 3.5625 -3.828125 C 3.15625 -3.796875 3.09375 -3.5 3.09375 -3.375 C 3.09375 -3.109375 3.28125 -2.921875 3.546875 -2.921875 C 3.8125 -2.921875 4.015625 -3.078125 4.015625 -3.390625 C 4.015625 -4.0625 3.25 -4.4375 2.484375 -4.4375 C 1.25 -4.4375 0.34375 -3.375 0.34375 -2.140625 C 0.34375 -0.875 1.3125 0.109375 2.46875 0.109375 C 3.796875 0.109375 4.125 -1.078125 4.125 -1.1875 C 4.125 -1.28125 4.015625 -1.28125 3.984375 -1.28125 C 3.90625 -1.28125 3.875 -1.234375 3.859375 -1.1875 C 3.578125 -0.265625 2.921875 -0.140625 2.5625 -0.140625 C 2.03125 -0.140625 1.15625 -0.5625 1.15625 -2.15625 Z M 1.15625 -2.15625 \"/>\n",
       "</g>\n",
       "<g id=\"glyph-1-0\">\n",
       "<path d=\"M 4.734375 -2.34375 C 4.734375 -3.90625 3.8125 -4.390625 3.078125 -4.390625 C 1.71875 -4.390625 0.40625 -2.96875 0.40625 -1.5625 C 0.40625 -0.640625 1 0.109375 2.015625 0.109375 C 2.640625 0.109375 3.359375 -0.125 4.109375 -0.71875 C 4.234375 -0.203125 4.5625 0.109375 5.015625 0.109375 C 5.53125 0.109375 5.84375 -0.4375 5.84375 -0.59375 C 5.84375 -0.671875 5.78125 -0.6875 5.71875 -0.6875 C 5.65625 -0.6875 5.625 -0.671875 5.59375 -0.59375 C 5.421875 -0.109375 5.0625 -0.109375 5.046875 -0.109375 C 4.734375 -0.109375 4.734375 -0.890625 4.734375 -1.125 C 4.734375 -1.328125 4.734375 -1.34375 4.828125 -1.46875 C 5.765625 -2.640625 5.96875 -3.796875 5.96875 -3.796875 C 5.96875 -3.8125 5.96875 -3.90625 5.859375 -3.90625 C 5.75 -3.90625 5.75 -3.875 5.703125 -3.6875 C 5.53125 -3.0625 5.203125 -2.3125 4.734375 -1.71875 Z M 4.0625 -0.984375 C 3.1875 -0.21875 2.4375 -0.109375 2.03125 -0.109375 C 1.4375 -0.109375 1.140625 -0.5625 1.140625 -1.1875 C 1.140625 -1.671875 1.40625 -2.75 1.71875 -3.25 C 2.1875 -3.984375 2.71875 -4.171875 3.0625 -4.171875 C 4.046875 -4.171875 4.046875 -2.875 4.046875 -2.09375 C 4.046875 -1.71875 4.046875 -1.15625 4.0625 -0.984375 Z M 4.0625 -0.984375 \"/>\n",
       "</g>\n",
       "<g id=\"glyph-2-0\">\n",
       "<path d=\"M 2.75 -4.390625 L 1.4375 -4.46875 C 0.796875 -4.53125 0.328125 -4.96875 0.234375 -5.546875 C 0.109375 -6.21875 0.515625 -6.90625 1.296875 -7.046875 C 2.921875 -7.328125 3.421875 -5.78125 3.5625 -5.328125 C 3.578125 -5.28125 3.59375 -5.234375 3.703125 -5.265625 C 3.828125 -5.28125 3.8125 -5.328125 3.78125 -5.5 L 3.4375 -7.453125 C 3.40625 -7.625 3.390625 -7.703125 3.296875 -7.6875 C 3.21875 -7.671875 3.21875 -7.65625 3.171875 -7.515625 L 2.921875 -6.90625 C 2.578125 -7.15625 2.109375 -7.484375 1.234375 -7.328125 C 0.15625 -7.125 -0.515625 -6.125 -0.328125 -5.078125 C -0.1875 -4.28125 0.453125 -3.65625 1.265625 -3.53125 C 1.375 -3.515625 1.90625 -3.46875 2.625 -3.421875 C 2.890625 -3.40625 3.1875 -3.390625 3.53125 -3.09375 C 3.78125 -2.859375 3.9375 -2.546875 3.984375 -2.25 C 4.109375 -1.53125 3.734375 -0.75 2.921875 -0.609375 C 2.640625 -0.5625 1.875 -0.484375 1.296875 -0.859375 C 0.625 -1.28125 0.484375 -1.90625 0.40625 -2.265625 C 0.390625 -2.359375 0.3125 -2.34375 0.28125 -2.34375 C 0.15625 -2.3125 0.171875 -2.25 0.203125 -2.0625 L 0.546875 -0.109375 C 0.578125 0.0625 0.578125 0.125 0.6875 0.109375 C 0.75 0.09375 0.765625 0.078125 0.8125 -0.046875 C 0.8125 -0.0625 0.84375 -0.09375 1.078125 -0.671875 C 1.4375 -0.390625 2.109375 -0.140625 2.984375 -0.296875 C 4.125 -0.5 4.75 -1.59375 4.5625 -2.671875 C 4.375 -3.65625 3.59375 -4.34375 2.75 -4.390625 Z M 2.75 -4.390625 \"/>\n",
       "</g>\n",
       "<g id=\"glyph-2-1\">\n",
       "<path d=\"M 4.21875 -2.90625 C 4 -4.15625 2.859375 -5.015625 1.6875 -4.8125 C 0.453125 -4.59375 -0.296875 -3.359375 -0.09375 -2.140625 C 0.140625 -0.875 1.3125 -0.125 2.453125 -0.3125 C 3.625 -0.53125 4.4375 -1.65625 4.21875 -2.90625 Z M 2.421875 -0.578125 C 1.984375 -0.5 1.53125 -0.625 1.1875 -1.015625 C 0.859375 -1.40625 0.765625 -2 0.703125 -2.359375 C 0.625 -2.734375 0.53125 -3.265625 0.703125 -3.75 C 0.875 -4.234375 1.3125 -4.53125 1.703125 -4.59375 C 2.125 -4.671875 2.578125 -4.53125 2.921875 -4.15625 C 3.234375 -3.78125 3.328125 -3.203125 3.40625 -2.84375 C 3.46875 -2.484375 3.546875 -1.96875 3.40625 -1.484375 C 3.28125 -1.015625 2.890625 -0.65625 2.421875 -0.578125 Z M 2.421875 -0.578125 \"/>\n",
       "</g>\n",
       "<g id=\"glyph-2-2\">\n",
       "<path d=\"M 0.484375 -3.546875 L 0.953125 -0.921875 C 1.03125 -0.5 0.921875 -0.484375 0.265625 -0.359375 L 0.3125 -0.046875 C 0.65625 -0.125 1.15625 -0.234375 1.421875 -0.28125 C 1.671875 -0.328125 2.1875 -0.40625 2.515625 -0.4375 L 2.46875 -0.75 C 1.8125 -0.640625 1.703125 -0.625 1.625 -1.046875 L 1.296875 -2.84375 C 1.125 -3.859375 1.734375 -4.546875 2.34375 -4.65625 C 2.953125 -4.765625 3.15625 -4.234375 3.25 -3.6875 L 3.65625 -1.40625 C 3.734375 -0.984375 3.625 -0.96875 2.984375 -0.84375 L 3.03125 -0.53125 C 3.375 -0.609375 3.859375 -0.71875 4.140625 -0.765625 C 4.390625 -0.796875 4.890625 -0.875 5.234375 -0.921875 L 5.1875 -1.234375 C 4.515625 -1.125 4.421875 -1.09375 4.34375 -1.515625 L 4.015625 -3.3125 C 3.84375 -4.328125 4.4375 -5.015625 5.0625 -5.125 C 5.6875 -5.234375 5.890625 -4.703125 5.984375 -4.15625 L 6.390625 -1.875 C 6.46875 -1.453125 6.359375 -1.4375 5.6875 -1.328125 L 5.734375 -1.015625 C 6.09375 -1.09375 6.578125 -1.1875 6.84375 -1.234375 C 7.109375 -1.28125 7.609375 -1.359375 7.9375 -1.40625 L 7.890625 -1.71875 C 7.390625 -1.625 7.140625 -1.578125 7.078125 -1.859375 L 6.75 -3.734375 C 6.609375 -4.578125 6.546875 -4.859375 6.171875 -5.171875 C 6 -5.3125 5.65625 -5.453125 5.078125 -5.359375 C 4.265625 -5.21875 3.9375 -4.546875 3.84375 -4.140625 C 3.546875 -4.96875 2.796875 -4.953125 2.375 -4.875 C 1.65625 -4.75 1.28125 -4.234375 1.109375 -3.59375 L 0.921875 -4.625 L -0.4375 -4.265625 L -0.375 -3.953125 C 0.3125 -4.078125 0.40625 -4.03125 0.484375 -3.546875 Z M 0.484375 -3.546875 \"/>\n",
       "</g>\n",
       "<g id=\"glyph-2-3\">\n",
       "<path d=\"M 0.65625 -2.65625 C 0.46875 -4.125 1.234375 -4.515625 1.578125 -4.578125 C 2.578125 -4.75 2.921875 -3.453125 2.984375 -3.078125 Z M 0.671875 -2.453125 L 3.40625 -2.9375 C 3.625 -2.96875 3.65625 -2.984375 3.625 -3.1875 C 3.453125 -4.15625 2.765625 -5 1.546875 -4.78125 C 0.40625 -4.578125 -0.3125 -3.421875 -0.09375 -2.203125 C 0.125 -0.890625 1.3125 -0.125 2.4375 -0.3125 C 3.625 -0.53125 3.890625 -1.6875 3.859375 -1.890625 C 3.84375 -1.984375 3.75 -1.984375 3.703125 -1.96875 C 3.625 -1.953125 3.59375 -1.890625 3.59375 -1.8125 C 3.4375 -0.75 2.546875 -0.59375 2.453125 -0.578125 C 1.96875 -0.5 1.515625 -0.71875 1.25 -1.03125 C 0.859375 -1.453125 0.734375 -2.09375 0.671875 -2.453125 Z M 0.671875 -2.453125 \"/>\n",
       "</g>\n",
       "<g id=\"glyph-2-4\">\n",
       "<path d=\"M 1 -4.203125 L 2.40625 -4.453125 L 2.34375 -4.765625 L 0.9375 -4.515625 L 0.625 -6.3125 L 0.390625 -6.265625 C 0.515625 -5.453125 0.40625 -4.375 -0.546875 -4.15625 L -0.5 -3.9375 L 0.328125 -4.078125 L 0.796875 -1.390625 C 1.015625 -0.1875 1.9375 -0.234375 2.296875 -0.296875 C 2.984375 -0.421875 3.140625 -1.15625 3.03125 -1.796875 L 2.9375 -2.34375 L 2.6875 -2.296875 L 2.78125 -1.765625 C 2.90625 -1.03125 2.671875 -0.625 2.3125 -0.546875 C 1.65625 -0.4375 1.5 -1.328125 1.484375 -1.484375 Z M 1 -4.203125 \"/>\n",
       "</g>\n",
       "<g id=\"glyph-2-5\">\n",
       "<path d=\"M 0.953125 -0.921875 C 1.03125 -0.5 0.921875 -0.484375 0.265625 -0.359375 L 0.3125 -0.046875 C 0.65625 -0.125 1.15625 -0.234375 1.421875 -0.28125 C 1.671875 -0.328125 2.1875 -0.40625 2.515625 -0.4375 L 2.46875 -0.75 C 1.8125 -0.640625 1.703125 -0.625 1.625 -1.046875 L 1.296875 -2.84375 C 1.125 -3.859375 1.734375 -4.546875 2.34375 -4.65625 C 2.953125 -4.765625 3.15625 -4.234375 3.25 -3.6875 L 3.65625 -1.40625 C 3.734375 -0.984375 3.625 -0.96875 2.984375 -0.84375 L 3.03125 -0.53125 C 3.375 -0.609375 3.859375 -0.71875 4.140625 -0.765625 C 4.390625 -0.796875 4.890625 -0.875 5.234375 -0.921875 L 5.1875 -1.234375 C 4.671875 -1.140625 4.4375 -1.109375 4.359375 -1.375 L 4.03125 -3.25 C 3.890625 -4.09375 3.828125 -4.375 3.46875 -4.6875 C 3.296875 -4.828125 2.9375 -4.984375 2.375 -4.875 C 1.546875 -4.734375 1.234375 -4.0625 1.125 -3.65625 L 0.515625 -7.078125 L -0.859375 -6.71875 L -0.8125 -6.421875 C -0.125 -6.546875 -0.03125 -6.5 0.046875 -6 Z M 0.953125 -0.921875 \"/>\n",
       "</g>\n",
       "<g id=\"glyph-2-6\">\n",
       "<path d=\"M 0.953125 -4.625 L -0.390625 -4.28125 L -0.328125 -3.96875 C 0.3125 -4.078125 0.40625 -4.03125 0.484375 -3.5625 L 0.953125 -0.921875 C 1.03125 -0.5 0.921875 -0.484375 0.28125 -0.375 L 0.328125 -0.0625 C 0.625 -0.125 1.171875 -0.234375 1.40625 -0.28125 C 1.734375 -0.34375 2.078125 -0.375 2.421875 -0.421875 L 2.375 -0.734375 C 1.71875 -0.625 1.65625 -0.65625 1.59375 -1.03125 Z M 0.703125 -6.328125 C 0.65625 -6.640625 0.359375 -6.8125 0.09375 -6.765625 C -0.203125 -6.71875 -0.375 -6.40625 -0.328125 -6.140625 C -0.28125 -5.875 -0.015625 -5.6875 0.28125 -5.734375 C 0.546875 -5.78125 0.765625 -6.015625 0.703125 -6.328125 Z M 0.703125 -6.328125 \"/>\n",
       "</g>\n",
       "<g id=\"glyph-2-7\">\n",
       "<path d=\"M 0.484375 -3.546875 L 0.953125 -0.921875 C 1.03125 -0.5 0.921875 -0.484375 0.265625 -0.359375 L 0.3125 -0.046875 C 0.65625 -0.125 1.15625 -0.234375 1.421875 -0.28125 C 1.671875 -0.328125 2.1875 -0.40625 2.515625 -0.4375 L 2.46875 -0.75 C 1.8125 -0.640625 1.703125 -0.625 1.625 -1.046875 L 1.296875 -2.84375 C 1.125 -3.859375 1.734375 -4.546875 2.34375 -4.65625 C 2.953125 -4.765625 3.15625 -4.234375 3.25 -3.6875 L 3.65625 -1.40625 C 3.734375 -0.984375 3.625 -0.96875 2.984375 -0.84375 L 3.03125 -0.53125 C 3.375 -0.609375 3.859375 -0.71875 4.140625 -0.765625 C 4.390625 -0.796875 4.890625 -0.875 5.234375 -0.921875 L 5.1875 -1.234375 C 4.671875 -1.140625 4.4375 -1.109375 4.359375 -1.375 L 4.03125 -3.25 C 3.890625 -4.09375 3.828125 -4.375 3.46875 -4.6875 C 3.296875 -4.828125 2.9375 -4.984375 2.375 -4.875 C 1.65625 -4.75 1.28125 -4.234375 1.109375 -3.59375 L 0.921875 -4.625 L -0.4375 -4.265625 L -0.375 -3.953125 C 0.3125 -4.078125 0.40625 -4.03125 0.484375 -3.546875 Z M 0.484375 -3.546875 \"/>\n",
       "</g>\n",
       "<g id=\"glyph-2-8\">\n",
       "<path d=\"M 1.875 -2.046875 C 1.03125 -1.90625 0.859375 -2.890625 0.828125 -3.109375 C 0.78125 -3.375 0.71875 -3.703125 0.828125 -3.96875 C 0.875 -4.09375 1.0625 -4.40625 1.453125 -4.46875 C 2.296875 -4.625 2.46875 -3.65625 2.5 -3.421875 C 2.546875 -3.15625 2.609375 -2.84375 2.5 -2.578125 C 2.4375 -2.4375 2.25 -2.125 1.875 -2.046875 Z M 0.796875 -1.484375 C 0.796875 -1.53125 0.75 -1.75 0.890625 -1.96875 C 1.3125 -1.78125 1.734375 -1.8125 1.921875 -1.84375 C 2.828125 -2.015625 3.375 -2.78125 3.25 -3.53125 C 3.171875 -3.90625 2.953125 -4.234375 2.6875 -4.421875 C 2.96875 -4.828125 3.3125 -4.9375 3.484375 -4.96875 C 3.5 -4.96875 3.546875 -4.96875 3.59375 -4.96875 C 3.484375 -4.921875 3.453125 -4.796875 3.484375 -4.671875 C 3.5 -4.5 3.65625 -4.390625 3.828125 -4.421875 C 3.921875 -4.4375 4.078125 -4.546875 4.03125 -4.78125 C 4.015625 -4.9375 3.828125 -5.25 3.46875 -5.1875 C 3.265625 -5.15625 2.84375 -5.015625 2.5 -4.53125 C 2.046875 -4.796875 1.625 -4.75 1.40625 -4.703125 C 0.5 -4.546875 -0.0625 -3.75 0.0625 -3 C 0.140625 -2.578125 0.421875 -2.234375 0.71875 -2.078125 C 0.609375 -1.890625 0.484375 -1.546875 0.546875 -1.203125 C 0.59375 -0.890625 0.796875 -0.5625 1.140625 -0.40625 C 0.5625 -0.15625 0.34375 0.34375 0.421875 0.71875 C 0.546875 1.4375 1.609375 1.796875 2.796875 1.59375 C 3.9375 1.390625 4.859375 0.703125 4.734375 -0.0625 C 4.671875 -0.390625 4.453125 -0.875 3.90625 -1.0625 C 3.34375 -1.234375 2.765625 -1.125 2.1875 -1.03125 C 1.9375 -0.984375 1.5 -0.90625 1.4375 -0.921875 C 1.125 -0.890625 0.859375 -1.171875 0.796875 -1.484375 Z M 2.765625 1.34375 C 1.78125 1.53125 1.015625 1.15625 0.921875 0.625 C 0.84375 0.1875 1.140625 -0.25 1.5625 -0.34375 L 2.140625 -0.4375 C 2.984375 -0.59375 4.078125 -0.78125 4.234375 0.046875 C 4.328125 0.578125 3.71875 1.1875 2.765625 1.34375 Z M 2.765625 1.34375 \"/>\n",
       "</g>\n",
       "<g id=\"glyph-2-9\">\n",
       "<path d=\"M 3.125 -1.3125 C 3.234375 -0.9375 3.5625 -0.5625 4.03125 -0.640625 C 4.234375 -0.6875 4.796875 -0.921875 4.65625 -1.71875 L 4.5625 -2.265625 L 4.3125 -2.234375 L 4.40625 -1.6875 C 4.515625 -1.125 4.28125 -1.015625 4.171875 -1 C 3.84375 -0.9375 3.734375 -1.359375 3.734375 -1.421875 L 3.390625 -3.375 C 3.3125 -3.78125 3.25 -4.171875 2.84375 -4.46875 C 2.375 -4.765625 1.859375 -4.84375 1.40625 -4.75 C 0.609375 -4.609375 0 -4.046875 0.109375 -3.40625 C 0.15625 -3.109375 0.390625 -2.96875 0.640625 -3.015625 C 0.921875 -3.0625 1.0625 -3.296875 1.015625 -3.546875 C 1 -3.671875 0.875 -3.96875 0.4375 -3.890625 C 0.640625 -4.296875 1.09375 -4.5 1.421875 -4.546875 C 1.890625 -4.640625 2.515625 -4.34375 2.671875 -3.46875 L 2.734375 -3.109375 C 2.25 -3 1.5625 -2.859375 1 -2.453125 C 0.328125 -1.96875 0.1875 -1.4375 0.265625 -1 C 0.390625 -0.21875 1.375 -0.125 1.984375 -0.234375 C 2.625 -0.359375 3.015625 -0.828125 3.125 -1.3125 Z M 2.78125 -2.90625 L 2.953125 -1.9375 C 3.109375 -1.015625 2.46875 -0.546875 2.03125 -0.46875 C 1.546875 -0.390625 1.09375 -0.65625 1 -1.140625 C 0.90625 -1.6875 1.15625 -2.578125 2.78125 -2.90625 Z M 2.78125 -2.90625 \"/>\n",
       "</g>\n",
       "<g id=\"glyph-2-10\">\n",
       "<path d=\"M 1.015625 -3.96875 L 0.46875 -7.078125 L -0.890625 -6.71875 L -0.84375 -6.421875 C -0.171875 -6.546875 -0.078125 -6.5 0 -6 L 1.03125 -0.1875 L 1.28125 -0.21875 C 1.296875 -0.25 1.34375 -0.390625 1.515625 -0.875 C 1.71875 -0.703125 2.203125 -0.28125 2.921875 -0.40625 C 4.09375 -0.609375 4.9375 -1.734375 4.71875 -3 C 4.5 -4.25 3.375 -5.0625 2.25 -4.859375 C 1.5 -4.734375 1.140625 -4.1875 1.015625 -3.96875 Z M 1.5 -1.40625 L 1.15625 -3.421875 C 1.125 -3.609375 1.109375 -3.625 1.203125 -3.796875 C 1.5 -4.421875 2.015625 -4.59375 2.25 -4.640625 C 2.703125 -4.71875 3.078125 -4.5 3.390625 -4.1875 C 3.703125 -3.828125 3.84375 -3.28125 3.90625 -2.875 C 3.96875 -2.5 4.0625 -1.921875 3.84375 -1.4375 C 3.6875 -1.109375 3.390625 -0.703125 2.859375 -0.609375 C 2.421875 -0.53125 2.015625 -0.703125 1.71875 -1.03125 C 1.546875 -1.203125 1.53125 -1.234375 1.5 -1.40625 Z M 1.5 -1.40625 \"/>\n",
       "</g>\n",
       "<g id=\"glyph-2-11\">\n",
       "<path d=\"M 3.671875 -1.4375 L 3.828125 -0.5625 L 5.234375 -0.921875 L 5.1875 -1.234375 C 4.5 -1.109375 4.40625 -1.15625 4.3125 -1.625 L 3.703125 -5.109375 L 2.28125 -4.75 L 2.34375 -4.4375 C 3.015625 -4.5625 3.109375 -4.515625 3.1875 -4.03125 L 3.5 -2.28125 C 3.640625 -1.4375 3.3125 -0.703125 2.59375 -0.578125 C 1.765625 -0.421875 1.65625 -0.875 1.5625 -1.390625 L 0.984375 -4.640625 L -0.4375 -4.265625 L -0.375 -3.953125 C 0.390625 -4.09375 0.390625 -4.0625 0.546875 -3.203125 L 0.8125 -1.71875 C 0.9375 -0.96875 1.09375 -0.078125 2.5625 -0.34375 C 3.125 -0.4375 3.515625 -0.796875 3.671875 -1.4375 Z M 3.671875 -1.4375 \"/>\n",
       "</g>\n",
       "<g id=\"glyph-3-0\">\n",
       "<path d=\"M 2.0625 -3.53125 L 2.421875 -3.59375 L 4.296875 -1.578125 C 4.4375 -1.4375 4.71875 -1.109375 4.859375 -0.984375 C 4.9375 -0.875 4.96875 -0.875 5.203125 -0.921875 L 6.546875 -1.15625 C 6.71875 -1.1875 6.859375 -1.203125 6.828125 -1.375 C 6.8125 -1.46875 6.75 -1.53125 6.65625 -1.53125 C 6.28125 -1.546875 5.6875 -2.09375 5.390625 -2.390625 C 5.3125 -2.46875 4.71875 -3.015625 3.875 -3.953125 C 4.71875 -4.28125 5.484375 -4.78125 5.28125 -5.9375 C 5.046875 -7.296875 3.515625 -7.515625 2.359375 -7.3125 L -0.6875 -6.78125 C -0.875 -6.734375 -1.03125 -6.71875 -1 -6.5625 C -0.96875 -6.390625 -0.78125 -6.421875 -0.703125 -6.4375 C -0.15625 -6.53125 -0.078125 -6.46875 0.015625 -5.984375 L 0.875 -1.078125 C 0.953125 -0.609375 0.90625 -0.515625 0.359375 -0.421875 C 0.28125 -0.40625 0.09375 -0.375 0.125 -0.203125 C 0.15625 -0.03125 0.3125 -0.046875 0.5 -0.09375 L 3.171875 -0.5625 C 3.34375 -0.59375 3.5 -0.609375 3.46875 -0.78125 C 3.4375 -0.953125 3.265625 -0.9375 3.15625 -0.90625 C 2.59375 -0.8125 2.53125 -0.890625 2.453125 -1.359375 Z M 3.890625 -4.34375 C 4.09375 -4.75 4.015625 -5.28125 3.9375 -5.703125 C 3.859375 -6.171875 3.71875 -6.6875 3.34375 -7.03125 C 3.75 -7.015625 4.765625 -6.859375 4.9375 -5.875 C 5.046875 -5.25 4.859375 -4.703125 3.890625 -4.34375 Z M 1.578125 -6.28125 C 1.546875 -6.5 1.484375 -6.828125 2.109375 -6.921875 C 2.9375 -7.078125 3.40625 -6.796875 3.609375 -5.640625 C 3.828125 -4.375 3.5625 -4.15625 2 -3.890625 Z M 1.234375 -0.578125 C 1.28125 -0.75 1.234375 -1.015625 1.21875 -1.109375 L 0.34375 -6.046875 C 0.328125 -6.140625 0.28125 -6.40625 0.171875 -6.59375 L 1.28125 -6.78125 C 1.1875 -6.609375 1.21875 -6.40625 1.25 -6.25 L 2.125 -1.28125 C 2.140625 -1.1875 2.1875 -0.921875 2.296875 -0.765625 Z M 2.828125 -3.65625 C 2.90625 -3.6875 2.9375 -3.703125 3 -3.71875 C 3.15625 -3.75 3.375 -3.796875 3.515625 -3.84375 C 3.703125 -3.640625 5.0625 -2.078125 6.015625 -1.421875 L 5.0625 -1.25 Z M 2.828125 -3.65625 \"/>\n",
       "</g>\n",
       "<g id=\"glyph-4-0\">\n",
       "<path d=\"M 3.25 -1.859375 L 3.015625 -1.8125 C 3.015625 -1.65625 3.015625 -1.234375 2.9375 -1.140625 C 2.875 -1.109375 2.359375 -1.015625 2.265625 -1 L 1 -0.78125 C 1.609375 -1.546875 1.8125 -1.78125 2.171875 -2.171875 C 2.609375 -2.671875 3.015625 -3.15625 2.90625 -3.828125 C 2.75 -4.65625 1.9375 -5.03125 1.0625 -4.875 C 0.203125 -4.71875 -0.265625 -4.03125 -0.15625 -3.40625 C -0.09375 -3.046875 0.203125 -3.0625 0.28125 -3.078125 C 0.4375 -3.109375 0.625 -3.25 0.578125 -3.5 C 0.546875 -3.640625 0.46875 -3.859375 0.109375 -3.796875 C 0.234375 -4.328125 0.6875 -4.546875 1 -4.609375 C 1.6875 -4.71875 2.125 -4.265625 2.234375 -3.71875 C 2.328125 -3.109375 2 -2.5625 1.828125 -2.265625 L 0.453125 -0.359375 C 0.40625 -0.28125 0.40625 -0.265625 0.4375 -0.078125 L 3.25 -0.578125 Z M 3.25 -1.859375 \"/>\n",
       "</g>\n",
       "</g>\n",
       "<clipPath id=\"clip-0\">\n",
       "<path clip-rule=\"nonzero\" d=\"M 6 5 L 103 5 L 103 101.269531 L 6 101.269531 Z M 6 5 \"/>\n",
       "</clipPath>\n",
       "</defs>\n",
       "<g clip-path=\"url(#clip-0)\">\n",
       "<path fill=\"none\" stroke-width=\"0.3985\" stroke-linecap=\"butt\" stroke-linejoin=\"miter\" stroke=\"rgb(0%, 0%, 0%)\" stroke-opacity=\"1\" stroke-miterlimit=\"10\" d=\"M 85.039332 -28.347297 L -0.000184486 0.000515556 L 56.69544 56.69222 \" transform=\"matrix(0.996412, 0, 0, -0.996412, 12.437684, 67.578639)\"/>\n",
       "</g>\n",
       "<g fill=\"rgb(0%, 0%, 0%)\" fill-opacity=\"1\">\n",
       "<use xlink:href=\"#glyph-0-0\" x=\"100.678913\" y=\"97.96023\"/>\n",
       "</g>\n",
       "<g fill=\"rgb(0%, 0%, 0%)\" fill-opacity=\"1\">\n",
       "<use xlink:href=\"#glyph-0-1\" x=\"3.415175\" y=\"71.026223\"/>\n",
       "</g>\n",
       "<g fill=\"rgb(0%, 0%, 0%)\" fill-opacity=\"1\">\n",
       "<use xlink:href=\"#glyph-0-2\" x=\"72.434625\" y=\"7.582694\"/>\n",
       "</g>\n",
       "<path fill=\"none\" stroke-width=\"0.3985\" stroke-linecap=\"butt\" stroke-linejoin=\"miter\" stroke=\"rgb(100%, 50%, 0%)\" stroke-opacity=\"1\" stroke-miterlimit=\"10\" d=\"M 27.034322 -8.530094 C 30.284264 1.219734 27.63413 12.451442 20.369783 19.71971 \" transform=\"matrix(0.996412, 0, 0, -0.996412, 12.437684, 67.578639)\"/>\n",
       "<path fill=\"none\" stroke-width=\"0.31879\" stroke-linecap=\"round\" stroke-linejoin=\"round\" stroke=\"rgb(100%, 50%, 0%)\" stroke-opacity=\"1\" stroke-miterlimit=\"10\" d=\"M -1.195866 1.595887 C -1.095452 0.997074 0.00173778 0.0982235 0.299283 -0.000962215 C 0.00173528 -0.10014 -1.096717 -0.995244 -1.194666 -1.594054 \" transform=\"matrix(-0.315065, 0.945236, 0.945236, 0.315065, 39.376453, 76.076786)\"/>\n",
       "<path fill=\"none\" stroke-width=\"0.31879\" stroke-linecap=\"round\" stroke-linejoin=\"round\" stroke=\"rgb(100%, 50%, 0%)\" stroke-opacity=\"1\" stroke-miterlimit=\"10\" d=\"M -1.196181 1.593225 C -1.096385 0.99445 -0.00140191 0.0990585 0.297986 -0.00073746 C -0.00140191 -0.100533 -1.096385 -0.995925 -1.196181 -1.5947 \" transform=\"matrix(-0.704563, -0.704563, -0.704563, 0.704563, 32.732868, 47.929219)\"/>\n",
       "<g fill=\"rgb(0%, 0%, 0%)\" fill-opacity=\"1\">\n",
       "<use xlink:href=\"#glyph-1-0\" x=\"42.229399\" y=\"61.92998\"/>\n",
       "</g>\n",
       "<g fill=\"rgb(0%, 0%, 0%)\" fill-opacity=\"1\">\n",
       "<use xlink:href=\"#glyph-2-0\" x=\"34.003024\" y=\"60.990364\"/>\n",
       "<use xlink:href=\"#glyph-2-1\" x=\"39.434659\" y=\"60.032622\"/>\n",
       "<use xlink:href=\"#glyph-2-2\" x=\"44.322741\" y=\"59.170723\"/>\n",
       "<use xlink:href=\"#glyph-2-3\" x=\"52.469216\" y=\"57.734282\"/>\n",
       "<use xlink:href=\"#glyph-2-4\" x=\"56.813743\" y=\"56.968227\"/>\n",
       "<use xlink:href=\"#glyph-2-5\" x=\"60.615692\" y=\"56.297842\"/>\n",
       "<use xlink:href=\"#glyph-2-6\" x=\"66.047328\" y=\"55.3401\"/>\n",
       "<use xlink:href=\"#glyph-2-7\" x=\"68.763146\" y=\"54.861229\"/>\n",
       "<use xlink:href=\"#glyph-2-8\" x=\"74.194782\" y=\"53.903487\"/>\n",
       "</g>\n",
       "<g fill=\"rgb(0%, 0%, 0%)\" fill-opacity=\"1\">\n",
       "<use xlink:href=\"#glyph-2-9\" x=\"82.338325\" y=\"52.467563\"/>\n",
       "<use xlink:href=\"#glyph-2-10\" x=\"87.226406\" y=\"51.605664\"/>\n",
       "</g>\n",
       "<g fill=\"rgb(0%, 0%, 0%)\" fill-opacity=\"1\">\n",
       "<use xlink:href=\"#glyph-2-1\" x=\"92.931774\" y=\"50.599656\"/>\n",
       "<use xlink:href=\"#glyph-2-11\" x=\"97.819855\" y=\"49.737757\"/>\n",
       "<use xlink:href=\"#glyph-2-4\" x=\"103.251491\" y=\"48.780015\"/>\n",
       "</g>\n",
       "<g fill=\"rgb(0%, 0%, 0%)\" fill-opacity=\"1\">\n",
       "<use xlink:href=\"#glyph-2-6\" x=\"110.308903\" y=\"47.535605\"/>\n",
       "<use xlink:href=\"#glyph-2-7\" x=\"113.024721\" y=\"47.056734\"/>\n",
       "</g>\n",
       "<g fill=\"rgb(0%, 0%, 0%)\" fill-opacity=\"1\">\n",
       "<use xlink:href=\"#glyph-3-0\" x=\"121.717256\" y=\"45.524008\"/>\n",
       "</g>\n",
       "<g fill=\"rgb(0%, 0%, 0%)\" fill-opacity=\"1\">\n",
       "<use xlink:href=\"#glyph-4-0\" x=\"128.1531\" y=\"40.731557\"/>\n",
       "</g>\n",
       "</svg>"
      ],
      "text/plain": [
       "<IPython.core.display.SVG object>"
      ]
     },
     "execution_count": 12,
     "metadata": {},
     "output_type": "execute_result"
    }
   ],
   "source": [
    "%%tikz -as=t -l=quotes,angles -t=amsfonts\n",
    "% Example from Paul Gaborit\n",
    "% http://www.texample.net/tikz/examples/angles-quotes/\n",
    "\\draw\n",
    "    (3,-1) coordinate (a) node[right] {a}\n",
    "    -- (0,0) coordinate (b) node[left] {b}\n",
    "    -- (2,2) coordinate (c) node[above right] {c}\n",
    "    pic[\"$\\alpha$\", draw=orange, <->, angle eccentricity=1.2, angle radius=1cm]\n",
    "    {angle=a--b--c};\n",
    "    \n",
    "\\node[rotate=10] (r) at (2.5, 0.65) {Something about in $\\mathbb{R}^2$};"
   ]
  },
  {
   "cell_type": "markdown",
   "metadata": {},
   "source": [
    "If you don't want to import the `tikz` package, you can use the flag `-nt` (or `--no-tikz`):"
   ]
  },
  {
   "cell_type": "code",
   "execution_count": 13,
   "metadata": {},
   "outputs": [
    {
     "data": {
      "image/svg+xml": [
       "<svg xmlns=\"http://www.w3.org/2000/svg\" xmlns:xlink=\"http://www.w3.org/1999/xlink\" width=\"236.136\" height=\"198.769\" viewBox=\"0 0 236.136 198.769\">\n",
       "<defs>\n",
       "<g>\n",
       "<g id=\"glyph-0-0\">\n",
       "<path d=\"M 3.46875 -3.84375 L 2.1875 -4.15625 C 1.578125 -4.3125 1.1875 -4.84375 1.1875 -5.421875 C 1.1875 -6.109375 1.71875 -6.71875 2.5 -6.71875 C 4.15625 -6.71875 4.375 -5.09375 4.4375 -4.640625 C 4.4375 -4.578125 4.4375 -4.53125 4.546875 -4.53125 C 4.6875 -4.53125 4.6875 -4.578125 4.6875 -4.765625 L 4.6875 -6.75 C 4.6875 -6.921875 4.6875 -7 4.578125 -7 C 4.5 -7 4.5 -6.984375 4.421875 -6.859375 L 4.078125 -6.296875 C 3.78125 -6.59375 3.375 -7 2.484375 -7 C 1.390625 -7 0.5625 -6.125 0.5625 -5.0625 C 0.5625 -4.25 1.078125 -3.515625 1.859375 -3.25 C 1.96875 -3.21875 2.46875 -3.09375 3.171875 -2.921875 C 3.4375 -2.859375 3.734375 -2.78125 4.015625 -2.421875 C 4.21875 -2.15625 4.3125 -1.828125 4.3125 -1.515625 C 4.3125 -0.796875 3.8125 -0.09375 2.984375 -0.09375 C 2.703125 -0.09375 1.9375 -0.140625 1.421875 -0.625 C 0.84375 -1.15625 0.8125 -1.796875 0.796875 -2.15625 C 0.796875 -2.25 0.71875 -2.25 0.6875 -2.25 C 0.5625 -2.25 0.5625 -2.1875 0.5625 -2 L 0.5625 -0.015625 C 0.5625 0.15625 0.5625 0.21875 0.671875 0.21875 C 0.734375 0.21875 0.75 0.203125 0.8125 0.09375 C 0.8125 0.078125 0.84375 0.046875 1.171875 -0.46875 C 1.484375 -0.140625 2.109375 0.21875 3 0.21875 C 4.15625 0.21875 4.953125 -0.75 4.953125 -1.84375 C 4.953125 -2.84375 4.296875 -3.65625 3.46875 -3.84375 Z M 3.46875 -3.84375 \"/>\n",
       "</g>\n",
       "<g id=\"glyph-0-1\">\n",
       "<path d=\"M 3.296875 -0.75 C 3.34375 -0.359375 3.609375 0.0625 4.078125 0.0625 C 4.28125 0.0625 4.890625 -0.078125 4.890625 -0.890625 L 4.890625 -1.4375 L 4.640625 -1.4375 L 4.640625 -0.890625 C 4.640625 -0.3125 4.390625 -0.25 4.28125 -0.25 C 3.953125 -0.25 3.921875 -0.6875 3.921875 -0.75 L 3.921875 -2.734375 C 3.921875 -3.140625 3.921875 -3.53125 3.5625 -3.90625 C 3.171875 -4.28125 2.671875 -4.4375 2.203125 -4.4375 C 1.390625 -4.4375 0.703125 -3.984375 0.703125 -3.328125 C 0.703125 -3.03125 0.90625 -2.859375 1.15625 -2.859375 C 1.4375 -2.859375 1.625 -3.0625 1.625 -3.3125 C 1.625 -3.4375 1.5625 -3.765625 1.109375 -3.765625 C 1.375 -4.125 1.859375 -4.234375 2.1875 -4.234375 C 2.671875 -4.234375 3.234375 -3.84375 3.234375 -2.953125 L 3.234375 -2.59375 C 2.734375 -2.5625 2.03125 -2.53125 1.40625 -2.234375 C 0.671875 -1.890625 0.421875 -1.375 0.421875 -0.9375 C 0.421875 -0.140625 1.375 0.109375 2 0.109375 C 2.65625 0.109375 3.109375 -0.28125 3.296875 -0.75 Z M 3.234375 -2.375 L 3.234375 -1.390625 C 3.234375 -0.453125 2.515625 -0.109375 2.078125 -0.109375 C 1.59375 -0.109375 1.1875 -0.453125 1.1875 -0.953125 C 1.1875 -1.5 1.59375 -2.328125 3.234375 -2.375 Z M 3.234375 -2.375 \"/>\n",
       "</g>\n",
       "<g id=\"glyph-0-2\">\n",
       "<path d=\"M 1.09375 -3.40625 L 1.09375 -0.75 C 1.09375 -0.3125 0.984375 -0.3125 0.3125 -0.3125 L 0.3125 0 C 0.671875 -0.015625 1.171875 -0.03125 1.4375 -0.03125 C 1.703125 -0.03125 2.21875 -0.015625 2.546875 0 L 2.546875 -0.3125 C 1.890625 -0.3125 1.78125 -0.3125 1.78125 -0.75 L 1.78125 -2.578125 C 1.78125 -3.609375 2.484375 -4.171875 3.109375 -4.171875 C 3.734375 -4.171875 3.84375 -3.625 3.84375 -3.0625 L 3.84375 -0.75 C 3.84375 -0.3125 3.734375 -0.3125 3.078125 -0.3125 L 3.078125 0 C 3.421875 -0.015625 3.921875 -0.03125 4.203125 -0.03125 C 4.453125 -0.03125 4.96875 -0.015625 5.3125 0 L 5.3125 -0.3125 C 4.640625 -0.3125 4.53125 -0.3125 4.53125 -0.75 L 4.53125 -2.578125 C 4.53125 -3.609375 5.234375 -4.171875 5.875 -4.171875 C 6.5 -4.171875 6.609375 -3.625 6.609375 -3.0625 L 6.609375 -0.75 C 6.609375 -0.3125 6.5 -0.3125 5.828125 -0.3125 L 5.828125 0 C 6.1875 -0.015625 6.6875 -0.03125 6.953125 -0.03125 C 7.21875 -0.03125 7.734375 -0.015625 8.0625 0 L 8.0625 -0.3125 C 7.546875 -0.3125 7.296875 -0.3125 7.296875 -0.609375 L 7.296875 -2.5 C 7.296875 -3.359375 7.296875 -3.65625 6.984375 -4.015625 C 6.84375 -4.1875 6.515625 -4.390625 5.9375 -4.390625 C 5.109375 -4.390625 4.671875 -3.796875 4.5 -3.40625 C 4.359375 -4.28125 3.625 -4.390625 3.1875 -4.390625 C 2.453125 -4.390625 2 -3.953125 1.71875 -3.34375 L 1.71875 -4.390625 L 0.3125 -4.28125 L 0.3125 -3.96875 C 1.015625 -3.96875 1.09375 -3.90625 1.09375 -3.40625 Z M 1.09375 -3.40625 \"/>\n",
       "</g>\n",
       "<g id=\"glyph-0-3\">\n",
       "<path d=\"M 1.703125 -3.734375 L 1.703125 -4.390625 L 0.28125 -4.28125 L 0.28125 -3.96875 C 0.984375 -3.96875 1.046875 -3.90625 1.046875 -3.46875 L 1.046875 1.171875 C 1.046875 1.625 0.9375 1.625 0.28125 1.625 L 0.28125 1.921875 C 0.609375 1.921875 1.125 1.890625 1.390625 1.890625 C 1.65625 1.890625 2.15625 1.921875 2.515625 1.921875 L 2.515625 1.625 C 1.84375 1.625 1.734375 1.625 1.734375 1.171875 L 1.734375 -0.578125 C 1.78125 -0.421875 2.203125 0.109375 2.953125 0.109375 C 4.140625 0.109375 5.171875 -0.859375 5.171875 -2.140625 C 5.171875 -3.40625 4.203125 -4.390625 3.09375 -4.390625 C 2.328125 -4.390625 1.90625 -3.953125 1.703125 -3.734375 Z M 1.734375 -1.125 L 1.734375 -3.34375 C 2.03125 -3.84375 2.515625 -4.140625 3.015625 -4.140625 C 3.734375 -4.140625 4.34375 -3.265625 4.34375 -2.140625 C 4.34375 -0.9375 3.65625 -0.109375 2.921875 -0.109375 C 2.515625 -0.109375 2.140625 -0.3125 1.875 -0.71875 C 1.734375 -0.921875 1.734375 -0.9375 1.734375 -1.125 Z M 1.734375 -1.125 \"/>\n",
       "</g>\n",
       "<g id=\"glyph-0-4\">\n",
       "<path d=\"M 1.75 -6.890625 L 0.328125 -6.78125 L 0.328125 -6.46875 C 1.015625 -6.46875 1.09375 -6.40625 1.09375 -5.90625 L 1.09375 -0.75 C 1.09375 -0.3125 0.984375 -0.3125 0.328125 -0.3125 L 0.328125 0 C 0.65625 -0.015625 1.1875 -0.03125 1.421875 -0.03125 C 1.671875 -0.03125 2.15625 -0.015625 2.53125 0 L 2.53125 -0.3125 C 1.859375 -0.3125 1.75 -0.3125 1.75 -0.75 Z M 1.75 -6.890625 \"/>\n",
       "</g>\n",
       "<g id=\"glyph-0-5\">\n",
       "<path d=\"M 1.109375 -2.5 C 1.171875 -3.984375 2 -4.234375 2.34375 -4.234375 C 3.359375 -4.234375 3.46875 -2.890625 3.46875 -2.5 Z M 1.09375 -2.296875 L 3.875 -2.296875 C 4.09375 -2.296875 4.125 -2.296875 4.125 -2.5 C 4.125 -3.484375 3.578125 -4.4375 2.34375 -4.4375 C 1.1875 -4.4375 0.28125 -3.421875 0.28125 -2.1875 C 0.28125 -0.859375 1.3125 0.109375 2.453125 0.109375 C 3.671875 0.109375 4.125 -0.984375 4.125 -1.1875 C 4.125 -1.28125 4.03125 -1.296875 3.984375 -1.296875 C 3.90625 -1.296875 3.875 -1.234375 3.859375 -1.15625 C 3.515625 -0.140625 2.625 -0.140625 2.515625 -0.140625 C 2.03125 -0.140625 1.625 -0.4375 1.40625 -0.796875 C 1.09375 -1.28125 1.09375 -1.9375 1.09375 -2.296875 Z M 1.09375 -2.296875 \"/>\n",
       "</g>\n",
       "<g id=\"glyph-0-6\">\n",
       "<path d=\"M 3.953125 -6.90625 C 3.90625 -7.03125 3.875 -7.109375 3.71875 -7.109375 C 3.5625 -7.109375 3.53125 -7.046875 3.484375 -6.90625 L 1.421875 -0.96875 C 1.25 -0.46875 0.859375 -0.3125 0.3125 -0.3125 L 0.3125 0 C 0.546875 -0.015625 0.96875 -0.03125 1.328125 -0.03125 C 1.640625 -0.03125 2.15625 -0.015625 2.46875 0 L 2.46875 -0.3125 C 1.96875 -0.3125 1.71875 -0.5625 1.71875 -0.8125 C 1.71875 -0.84375 1.734375 -0.9375 1.75 -0.96875 L 2.203125 -2.265625 L 4.65625 -2.265625 L 5.171875 -0.75 C 5.1875 -0.703125 5.203125 -0.640625 5.203125 -0.609375 C 5.203125 -0.3125 4.65625 -0.3125 4.390625 -0.3125 L 4.390625 0 C 4.75 -0.03125 5.4375 -0.03125 5.8125 -0.03125 C 6.234375 -0.03125 6.703125 -0.015625 7.109375 0 L 7.109375 -0.3125 L 6.9375 -0.3125 C 6.34375 -0.3125 6.203125 -0.375 6.09375 -0.703125 Z M 3.421875 -5.796875 L 4.546875 -2.5625 L 2.3125 -2.5625 Z M 3.421875 -5.796875 \"/>\n",
       "</g>\n",
       "<g id=\"glyph-0-7\">\n",
       "<path d=\"M 1.265625 -0.765625 L 2.3125 -1.78125 C 3.859375 -3.15625 4.453125 -3.6875 4.453125 -4.6875 C 4.453125 -5.8125 3.5625 -6.609375 2.34375 -6.609375 C 1.234375 -6.609375 0.5 -5.6875 0.5 -4.8125 C 0.5 -4.25 0.984375 -4.25 1.015625 -4.25 C 1.1875 -4.25 1.53125 -4.375 1.53125 -4.78125 C 1.53125 -5.046875 1.359375 -5.296875 1.015625 -5.296875 C 0.9375 -5.296875 0.90625 -5.296875 0.890625 -5.28125 C 1.109375 -5.9375 1.640625 -6.296875 2.21875 -6.296875 C 3.125 -6.296875 3.546875 -5.5 3.546875 -4.6875 C 3.546875 -3.890625 3.0625 -3.109375 2.515625 -2.484375 L 0.609375 -0.359375 C 0.5 -0.265625 0.5 -0.234375 0.5 0 L 4.171875 0 L 4.453125 -1.71875 L 4.203125 -1.71875 C 4.15625 -1.421875 4.09375 -0.984375 3.984375 -0.84375 C 3.921875 -0.765625 3.265625 -0.765625 3.046875 -0.765625 Z M 1.265625 -0.765625 \"/>\n",
       "</g>\n",
       "<g id=\"glyph-0-8\">\n",
       "<path d=\"M 2.921875 -1.640625 L 2.921875 -0.78125 C 2.921875 -0.421875 2.890625 -0.3125 2.15625 -0.3125 L 1.953125 -0.3125 L 1.953125 0 C 2.359375 -0.03125 2.875 -0.03125 3.296875 -0.03125 C 3.703125 -0.03125 4.234375 -0.03125 4.640625 0 L 4.640625 -0.3125 L 4.4375 -0.3125 C 3.703125 -0.3125 3.6875 -0.421875 3.6875 -0.78125 L 3.6875 -1.640625 L 4.671875 -1.640625 L 4.671875 -1.9375 L 3.6875 -1.9375 L 3.6875 -6.453125 C 3.6875 -6.65625 3.6875 -6.71875 3.515625 -6.71875 C 3.4375 -6.71875 3.40625 -6.71875 3.328125 -6.59375 L 0.28125 -1.9375 L 0.28125 -1.640625 Z M 2.96875 -1.9375 L 0.5625 -1.9375 L 2.96875 -5.640625 Z M 2.96875 -1.9375 \"/>\n",
       "</g>\n",
       "<g id=\"glyph-0-9\">\n",
       "<path d=\"M 1.3125 -3.25 L 1.3125 -3.5 C 1.3125 -6 2.546875 -6.359375 3.046875 -6.359375 C 3.28125 -6.359375 3.703125 -6.296875 3.921875 -5.96875 C 3.765625 -5.96875 3.375 -5.96875 3.375 -5.515625 C 3.375 -5.203125 3.609375 -5.0625 3.828125 -5.0625 C 3.984375 -5.0625 4.28125 -5.15625 4.28125 -5.53125 C 4.28125 -6.125 3.84375 -6.609375 3.03125 -6.609375 C 1.75 -6.609375 0.421875 -5.328125 0.421875 -3.140625 C 0.421875 -0.484375 1.5625 0.21875 2.484375 0.21875 C 3.59375 0.21875 4.53125 -0.71875 4.53125 -2.03125 C 4.53125 -3.28125 3.65625 -4.234375 2.546875 -4.234375 C 1.875 -4.234375 1.515625 -3.734375 1.3125 -3.25 Z M 2.484375 -0.0625 C 1.859375 -0.0625 1.5625 -0.65625 1.515625 -0.796875 C 1.328125 -1.265625 1.328125 -2.0625 1.328125 -2.25 C 1.328125 -3.015625 1.640625 -4.015625 2.546875 -4.015625 C 2.703125 -4.015625 3.15625 -4.015625 3.46875 -3.390625 C 3.640625 -3.03125 3.640625 -2.515625 3.640625 -2.03125 C 3.640625 -1.5625 3.640625 -1.0625 3.46875 -0.703125 C 3.171875 -0.109375 2.71875 -0.0625 2.484375 -0.0625 Z M 2.484375 -0.0625 \"/>\n",
       "</g>\n",
       "<g id=\"glyph-0-10\">\n",
       "<path d=\"M 2.203125 -3.625 L 2.203125 -6.078125 C 2.203125 -6.40625 2.21875 -6.46875 2.6875 -6.46875 L 3.921875 -6.46875 C 4.875 -6.46875 5.234375 -5.625 5.234375 -5.09375 C 5.234375 -4.46875 4.75 -3.625 3.640625 -3.625 Z M 4.546875 -3.546875 C 5.5 -3.734375 6.1875 -4.359375 6.1875 -5.09375 C 6.1875 -5.96875 5.28125 -6.78125 3.984375 -6.78125 L 0.359375 -6.78125 L 0.359375 -6.46875 L 0.59375 -6.46875 C 1.359375 -6.46875 1.375 -6.359375 1.375 -6 L 1.375 -0.78125 C 1.375 -0.421875 1.359375 -0.3125 0.59375 -0.3125 L 0.359375 -0.3125 L 0.359375 0 L 4.25 0 C 5.5625 0 6.453125 -0.890625 6.453125 -1.8125 C 6.453125 -2.671875 5.640625 -3.421875 4.546875 -3.546875 Z M 3.921875 -0.3125 L 2.6875 -0.3125 C 2.21875 -0.3125 2.203125 -0.375 2.203125 -0.703125 L 2.203125 -3.40625 L 4.0625 -3.40625 C 5.046875 -3.40625 5.46875 -2.484375 5.46875 -1.828125 C 5.46875 -1.125 4.953125 -0.3125 3.921875 -0.3125 Z M 3.921875 -0.3125 \"/>\n",
       "</g>\n",
       "<g id=\"glyph-0-11\">\n",
       "<path d=\"M 4.671875 -2.125 C 4.671875 -3.390625 3.6875 -4.4375 2.484375 -4.4375 C 1.234375 -4.4375 0.28125 -3.359375 0.28125 -2.125 C 0.28125 -0.84375 1.3125 0.109375 2.46875 0.109375 C 3.671875 0.109375 4.671875 -0.859375 4.671875 -2.125 Z M 2.484375 -0.140625 C 2.046875 -0.140625 1.625 -0.34375 1.34375 -0.796875 C 1.09375 -1.234375 1.09375 -1.84375 1.09375 -2.203125 C 1.09375 -2.59375 1.09375 -3.125 1.34375 -3.5625 C 1.609375 -4.015625 2.078125 -4.234375 2.46875 -4.234375 C 2.90625 -4.234375 3.328125 -4.015625 3.59375 -3.578125 C 3.84375 -3.15625 3.84375 -2.578125 3.84375 -2.203125 C 3.84375 -1.84375 3.84375 -1.3125 3.625 -0.875 C 3.40625 -0.421875 2.96875 -0.140625 2.484375 -0.140625 Z M 2.484375 -0.140625 \"/>\n",
       "</g>\n",
       "<g id=\"glyph-0-12\">\n",
       "<path d=\"M 2.84375 -2.328125 C 3.140625 -2.703125 3.515625 -3.1875 3.765625 -3.453125 C 4.0625 -3.8125 4.46875 -3.953125 4.9375 -3.96875 L 4.9375 -4.28125 C 4.6875 -4.25 4.390625 -4.25 4.125 -4.25 C 3.828125 -4.25 3.296875 -4.265625 3.171875 -4.28125 L 3.171875 -3.96875 C 3.390625 -3.953125 3.46875 -3.8125 3.46875 -3.65625 C 3.46875 -3.5 3.359375 -3.375 3.3125 -3.3125 L 2.703125 -2.546875 L 1.921875 -3.546875 C 1.828125 -3.640625 1.828125 -3.65625 1.828125 -3.71875 C 1.828125 -3.875 1.984375 -3.953125 2.1875 -3.96875 L 2.1875 -4.28125 C 1.921875 -4.265625 1.265625 -4.25 1.109375 -4.25 C 0.90625 -4.25 0.4375 -4.25 0.171875 -4.28125 L 0.171875 -3.96875 C 0.859375 -3.96875 0.875 -3.953125 1.34375 -3.359375 L 2.328125 -2.078125 L 1.390625 -0.90625 C 0.90625 -0.328125 0.328125 -0.3125 0.125 -0.3125 L 0.125 0 C 0.375 -0.015625 0.6875 -0.03125 0.9375 -0.03125 C 1.234375 -0.03125 1.640625 -0.015625 1.890625 0 L 1.890625 -0.3125 C 1.671875 -0.34375 1.59375 -0.46875 1.59375 -0.609375 C 1.59375 -0.828125 1.890625 -1.15625 2.484375 -1.875 L 3.25 -0.890625 C 3.328125 -0.78125 3.453125 -0.609375 3.453125 -0.5625 C 3.453125 -0.46875 3.359375 -0.3125 3.09375 -0.3125 L 3.09375 0 C 3.390625 -0.015625 3.953125 -0.03125 4.171875 -0.03125 C 4.4375 -0.03125 4.828125 -0.015625 5.125 0 L 5.125 -0.3125 C 4.578125 -0.3125 4.40625 -0.328125 4.171875 -0.609375 Z M 2.84375 -2.328125 \"/>\n",
       "</g>\n",
       "<g id=\"glyph-0-13\">\n",
       "<path d=\"M 2.25 -3.140625 L 3.921875 -3.140625 C 5.125 -3.140625 6.1875 -3.9375 6.1875 -4.9375 C 6.1875 -5.90625 5.203125 -6.78125 3.84375 -6.78125 L 0.34375 -6.78125 L 0.34375 -6.46875 L 0.578125 -6.46875 C 1.34375 -6.46875 1.375 -6.359375 1.375 -6 L 1.375 -0.78125 C 1.375 -0.421875 1.34375 -0.3125 0.578125 -0.3125 L 0.34375 -0.3125 L 0.34375 0 C 0.6875 -0.03125 1.421875 -0.03125 1.8125 -0.03125 C 2.1875 -0.03125 2.921875 -0.03125 3.28125 0 L 3.28125 -0.3125 L 3.03125 -0.3125 C 2.265625 -0.3125 2.25 -0.421875 2.25 -0.78125 Z M 2.21875 -3.390625 L 2.21875 -6.078125 C 2.21875 -6.40625 2.25 -6.46875 2.703125 -6.46875 L 3.59375 -6.46875 C 5.171875 -6.46875 5.171875 -5.421875 5.171875 -4.9375 C 5.171875 -4.46875 5.171875 -3.390625 3.59375 -3.390625 Z M 2.21875 -3.390625 \"/>\n",
       "</g>\n",
       "<g id=\"glyph-0-14\">\n",
       "<path d=\"M 1.71875 -3.96875 L 3.140625 -3.96875 L 3.140625 -4.28125 L 1.71875 -4.28125 L 1.71875 -6.109375 L 1.46875 -6.109375 C 1.453125 -5.28125 1.15625 -4.234375 0.1875 -4.1875 L 0.1875 -3.96875 L 1.03125 -3.96875 L 1.03125 -1.234375 C 1.03125 -0.015625 1.953125 0.109375 2.3125 0.109375 C 3.015625 0.109375 3.296875 -0.59375 3.296875 -1.234375 L 3.296875 -1.796875 L 3.046875 -1.796875 L 3.046875 -1.25 C 3.046875 -0.515625 2.75 -0.140625 2.375 -0.140625 C 1.71875 -0.140625 1.71875 -1.046875 1.71875 -1.203125 Z M 1.71875 -3.96875 \"/>\n",
       "</g>\n",
       "<g id=\"glyph-0-15\">\n",
       "<path d=\"M 1.34375 -0.78125 C 1.34375 -0.421875 1.328125 -0.3125 0.5625 -0.3125 L 0.328125 -0.3125 L 0.328125 0 L 6.046875 0 L 6.46875 -2.5625 L 6.21875 -2.5625 C 5.96875 -1.03125 5.75 -0.3125 4.03125 -0.3125 L 2.71875 -0.3125 C 2.25 -0.3125 2.234375 -0.375 2.234375 -0.703125 L 2.234375 -3.359375 L 3.125 -3.359375 C 4.09375 -3.359375 4.203125 -3.03125 4.203125 -2.1875 L 4.4375 -2.1875 L 4.4375 -4.828125 L 4.203125 -4.828125 C 4.203125 -3.96875 4.09375 -3.65625 3.125 -3.65625 L 2.234375 -3.65625 L 2.234375 -6.046875 C 2.234375 -6.375 2.25 -6.4375 2.71875 -6.4375 L 4 -6.4375 C 5.515625 -6.4375 5.78125 -5.890625 5.9375 -4.515625 L 6.1875 -4.515625 L 5.90625 -6.75 L 0.328125 -6.75 L 0.328125 -6.4375 L 0.5625 -6.4375 C 1.328125 -6.4375 1.34375 -6.328125 1.34375 -5.96875 Z M 1.34375 -0.78125 \"/>\n",
       "</g>\n",
       "<g id=\"glyph-1-0\">\n",
       "<path d=\"M -5.796875 -6.15625 C -6.171875 -6.296875 -6.453125 -6.5625 -6.46875 -7.25 L -6.78125 -7.25 C -6.75 -6.9375 -6.75 -6.53125 -6.75 -6.28125 C -6.75 -5.984375 -6.765625 -5.40625 -6.78125 -5.15625 L -6.46875 -5.15625 C -6.453125 -5.671875 -6.203125 -5.875 -5.96875 -5.875 C -5.890625 -5.875 -5.828125 -5.84375 -5.78125 -5.828125 L -0.984375 -4.015625 L -6 -2.109375 C -6.140625 -2.046875 -6.15625 -2.046875 -6.1875 -2.046875 C -6.46875 -2.046875 -6.46875 -2.625 -6.46875 -2.875 L -6.78125 -2.875 C -6.75 -2.515625 -6.75 -1.828125 -6.75 -1.453125 C -6.75 -0.96875 -6.765625 -0.546875 -6.78125 -0.1875 L -6.46875 -0.1875 C -6.46875 -0.828125 -6.46875 -1.015625 -6.09375 -1.15625 L 0 -3.46875 C 0.1875 -3.53125 0.21875 -3.578125 0.21875 -3.703125 C 0.21875 -3.875 0.171875 -3.90625 0.03125 -3.953125 Z M -5.796875 -6.15625 \"/>\n",
       "</g>\n",
       "<g id=\"glyph-1-1\">\n",
       "<path d=\"M -0.75 -3.296875 C -0.359375 -3.34375 0.0625 -3.609375 0.0625 -4.078125 C 0.0625 -4.28125 -0.078125 -4.890625 -0.890625 -4.890625 L -1.4375 -4.890625 L -1.4375 -4.640625 L -0.890625 -4.640625 C -0.3125 -4.640625 -0.25 -4.390625 -0.25 -4.28125 C -0.25 -3.953125 -0.6875 -3.921875 -0.75 -3.921875 L -2.734375 -3.921875 C -3.140625 -3.921875 -3.53125 -3.921875 -3.90625 -3.5625 C -4.28125 -3.171875 -4.4375 -2.671875 -4.4375 -2.203125 C -4.4375 -1.390625 -3.984375 -0.703125 -3.328125 -0.703125 C -3.03125 -0.703125 -2.859375 -0.90625 -2.859375 -1.15625 C -2.859375 -1.4375 -3.0625 -1.625 -3.3125 -1.625 C -3.4375 -1.625 -3.765625 -1.5625 -3.765625 -1.109375 C -4.125 -1.375 -4.234375 -1.859375 -4.234375 -2.1875 C -4.234375 -2.671875 -3.84375 -3.234375 -2.953125 -3.234375 L -2.59375 -3.234375 C -2.5625 -2.734375 -2.53125 -2.03125 -2.234375 -1.40625 C -1.890625 -0.671875 -1.375 -0.421875 -0.9375 -0.421875 C -0.140625 -0.421875 0.109375 -1.375 0.109375 -2 C 0.109375 -2.65625 -0.28125 -3.109375 -0.75 -3.296875 Z M -2.375 -3.234375 L -1.390625 -3.234375 C -0.453125 -3.234375 -0.109375 -2.515625 -0.109375 -2.078125 C -0.109375 -1.59375 -0.453125 -1.1875 -0.953125 -1.1875 C -1.5 -1.1875 -2.328125 -1.59375 -2.375 -3.234375 Z M -2.375 -3.234375 \"/>\n",
       "</g>\n",
       "<g id=\"glyph-1-2\">\n",
       "<path d=\"M -6.890625 -1.75 L -6.78125 -0.328125 L -6.46875 -0.328125 C -6.46875 -1.015625 -6.40625 -1.09375 -5.90625 -1.09375 L -0.75 -1.09375 C -0.3125 -1.09375 -0.3125 -0.984375 -0.3125 -0.328125 L 0 -0.328125 C -0.015625 -0.65625 -0.03125 -1.1875 -0.03125 -1.421875 C -0.03125 -1.671875 -0.015625 -2.15625 0 -2.53125 L -0.3125 -2.53125 C -0.3125 -1.859375 -0.3125 -1.75 -0.75 -1.75 Z M -6.890625 -1.75 \"/>\n",
       "</g>\n",
       "<g id=\"glyph-1-3\">\n",
       "<path d=\"M -0.78125 -3.875 L 0.109375 -3.875 L 0 -5.3125 L -0.3125 -5.3125 C -0.3125 -4.609375 -0.375 -4.53125 -0.859375 -4.53125 L -4.390625 -4.53125 L -4.28125 -3.078125 L -3.96875 -3.078125 C -3.96875 -3.765625 -3.90625 -3.84375 -3.40625 -3.84375 L -1.640625 -3.84375 C -0.78125 -3.84375 -0.109375 -3.375 -0.109375 -2.65625 C -0.109375 -1.8125 -0.578125 -1.78125 -1.09375 -1.78125 L -4.390625 -1.78125 L -4.28125 -0.3125 L -3.96875 -0.3125 C -3.96875 -1.09375 -3.9375 -1.09375 -3.0625 -1.09375 L -1.5625 -1.09375 C -0.796875 -1.09375 0.109375 -1.09375 0.109375 -2.59375 C 0.109375 -3.15625 -0.171875 -3.59375 -0.78125 -3.875 Z M -0.78125 -3.875 \"/>\n",
       "</g>\n",
       "<g id=\"glyph-1-4\">\n",
       "<path d=\"M -2.5 -1.109375 C -3.984375 -1.171875 -4.234375 -2 -4.234375 -2.34375 C -4.234375 -3.359375 -2.890625 -3.46875 -2.5 -3.46875 Z M -2.296875 -1.09375 L -2.296875 -3.875 C -2.296875 -4.09375 -2.296875 -4.125 -2.5 -4.125 C -3.484375 -4.125 -4.4375 -3.578125 -4.4375 -2.34375 C -4.4375 -1.1875 -3.421875 -0.28125 -2.1875 -0.28125 C -0.859375 -0.28125 0.109375 -1.3125 0.109375 -2.453125 C 0.109375 -3.671875 -0.984375 -4.125 -1.1875 -4.125 C -1.28125 -4.125 -1.296875 -4.03125 -1.296875 -3.984375 C -1.296875 -3.90625 -1.234375 -3.875 -1.15625 -3.859375 C -0.140625 -3.515625 -0.140625 -2.625 -0.140625 -2.515625 C -0.140625 -2.03125 -0.4375 -1.625 -0.796875 -1.40625 C -1.28125 -1.09375 -1.9375 -1.09375 -2.296875 -1.09375 Z M -2.296875 -1.09375 \"/>\n",
       "</g>\n",
       "<g id=\"glyph-1-5\">\n",
       "<path d=\"M -1.921875 -2.0625 C -1.890625 -2.28125 -1.71875 -3.09375 -1.015625 -3.09375 C -0.5 -3.09375 -0.109375 -2.75 -0.109375 -1.96875 C -0.109375 -1.140625 -0.671875 -0.78125 -1.515625 -0.59375 C -1.640625 -0.5625 -1.6875 -0.5625 -1.6875 -0.453125 C -1.6875 -0.328125 -1.625 -0.328125 -1.4375 -0.328125 L -0.125 -0.328125 C 0.046875 -0.328125 0.109375 -0.328125 0.109375 -0.4375 C 0.109375 -0.484375 0.09375 -0.5 -0.09375 -0.6875 C -0.109375 -0.703125 -0.125 -0.703125 -0.3125 -0.890625 C 0.09375 -1.3125 0.109375 -1.765625 0.109375 -1.96875 C 0.109375 -3.109375 -0.5625 -3.578125 -1.265625 -3.578125 C -1.796875 -3.578125 -2.09375 -3.28125 -2.21875 -3.15625 C -2.53125 -2.828125 -2.609375 -2.4375 -2.6875 -2.03125 C -2.796875 -1.46875 -2.921875 -0.796875 -3.5 -0.796875 C -3.84375 -0.796875 -4.25 -1.0625 -4.25 -1.921875 C -4.25 -3 -3.359375 -3.0625 -3.0625 -3.078125 C -2.96875 -3.078125 -2.96875 -3.171875 -2.96875 -3.1875 C -2.96875 -3.328125 -3.015625 -3.328125 -3.203125 -3.328125 L -4.203125 -3.328125 C -4.375 -3.328125 -4.4375 -3.328125 -4.4375 -3.21875 C -4.4375 -3.171875 -4.4375 -3.140625 -4.328125 -3.015625 C -4.28125 -2.984375 -4.203125 -2.890625 -4.171875 -2.84375 C -4.4375 -2.46875 -4.4375 -2.0625 -4.4375 -1.921875 C -4.4375 -0.703125 -3.78125 -0.328125 -3.21875 -0.328125 C -2.875 -0.328125 -2.59375 -0.484375 -2.375 -0.75 C -2.125 -1.078125 -2.0625 -1.34375 -1.921875 -2.0625 Z M -1.921875 -2.0625 \"/>\n",
       "</g>\n",
       "</g>\n",
       "<clipPath id=\"clip-0\">\n",
       "<path clip-rule=\"nonzero\" d=\"M 41 35 L 235.273438 35 L 235.273438 143 L 41 143 Z M 41 35 \"/>\n",
       "</clipPath>\n",
       "<clipPath id=\"clip-1\">\n",
       "<path clip-rule=\"nonzero\" d=\"M 41 21 L 235.273438 21 L 235.273438 183 L 41 183 Z M 41 21 \"/>\n",
       "</clipPath>\n",
       "</defs>\n",
       "<path fill=\"none\" stroke-width=\"0.19925\" stroke-linecap=\"butt\" stroke-linejoin=\"miter\" stroke=\"rgb(50%, 50%, 50%)\" stroke-opacity=\"1\" stroke-miterlimit=\"10\" d=\"M 80.95405 -13.450513 L 80.95405 -9.196724 M 80.95405 147.950385 L 80.95405 143.696596 \" transform=\"matrix(0.996354, 0, 0, -0.996354, 57.630137, 169.250865)\"/>\n",
       "<g clip-path=\"url(#clip-0)\">\n",
       "<path fill=\"none\" stroke-width=\"0.19925\" stroke-linecap=\"butt\" stroke-linejoin=\"miter\" stroke=\"rgb(50%, 50%, 50%)\" stroke-opacity=\"1\" stroke-miterlimit=\"10\" d=\"M -16.193076 26.899711 L -11.939287 26.899711 M -16.193076 80.701318 L -11.939287 80.701318 M -16.193076 134.499003 L -11.939287 134.499003 M 178.097254 26.899711 L 173.847386 26.899711 M 178.097254 80.701318 L 173.847386 80.701318 M 178.097254 134.499003 L 173.847386 134.499003 \" transform=\"matrix(0.996354, 0, 0, -0.996354, 57.630137, 169.250865)\"/>\n",
       "</g>\n",
       "<g clip-path=\"url(#clip-1)\">\n",
       "<path fill=\"none\" stroke-width=\"0.3985\" stroke-linecap=\"butt\" stroke-linejoin=\"miter\" stroke=\"rgb(0%, 0%, 0%)\" stroke-opacity=\"1\" stroke-miterlimit=\"10\" d=\"M -16.193076 -13.450513 L -16.193076 147.950385 L 178.097254 147.950385 L 178.097254 -13.450513 Z M -16.193076 -13.450513 \" transform=\"matrix(0.996354, 0, 0, -0.996354, 57.630137, 169.250865)\"/>\n",
       "</g>\n",
       "<g fill=\"rgb(0%, 0%, 0%)\" fill-opacity=\"1\">\n",
       "<use xlink:href=\"#glyph-0-0\" x=\"117.193201\" y=\"193.052776\"/>\n",
       "<use xlink:href=\"#glyph-0-1\" x=\"122.708242\" y=\"193.052776\"/>\n",
       "<use xlink:href=\"#glyph-0-2\" x=\"127.671383\" y=\"193.052776\"/>\n",
       "<use xlink:href=\"#glyph-0-3\" x=\"135.942952\" y=\"193.052776\"/>\n",
       "<use xlink:href=\"#glyph-0-4\" x=\"141.457994\" y=\"193.052776\"/>\n",
       "<use xlink:href=\"#glyph-0-5\" x=\"144.215515\" y=\"193.052776\"/>\n",
       "</g>\n",
       "<g fill=\"rgb(0%, 0%, 0%)\" fill-opacity=\"1\">\n",
       "<use xlink:href=\"#glyph-0-6\" x=\"151.932205\" y=\"193.052776\"/>\n",
       "</g>\n",
       "<g fill=\"rgb(0%, 0%, 0%)\" fill-opacity=\"1\">\n",
       "<use xlink:href=\"#glyph-0-7\" x=\"33.028153\" y=\"145.648225\"/>\n",
       "</g>\n",
       "<g fill=\"rgb(0%, 0%, 0%)\" fill-opacity=\"1\">\n",
       "<use xlink:href=\"#glyph-0-8\" x=\"33.028153\" y=\"92.045353\"/>\n",
       "</g>\n",
       "<g fill=\"rgb(0%, 0%, 0%)\" fill-opacity=\"1\">\n",
       "<use xlink:href=\"#glyph-0-9\" x=\"33.028153\" y=\"38.442481\"/>\n",
       "</g>\n",
       "<path fill=\"none\" stroke-width=\"0.3985\" stroke-linecap=\"butt\" stroke-linejoin=\"miter\" stroke=\"rgb(0%, 0%, 100%)\" stroke-opacity=\"1\" stroke-miterlimit=\"10\" d=\"M 80.95405 26.899711 L 80.95405 0.000868533 M 16.190606 0.000868533 L 145.717493 0.000868533 \" transform=\"matrix(0.996354, 0, 0, -0.996354, 57.630137, 169.250865)\"/>\n",
       "<path fill=\"none\" stroke-width=\"0.3985\" stroke-linecap=\"butt\" stroke-linejoin=\"miter\" stroke=\"rgb(0%, 0%, 100%)\" stroke-opacity=\"1\" stroke-miterlimit=\"10\" d=\"M 80.95405 94.148779 L 80.95405 134.499003 M 16.190606 134.499003 L 145.717493 134.499003 \" transform=\"matrix(0.996354, 0, 0, -0.996354, 57.630137, 169.250865)\"/>\n",
       "<path fill=\"none\" stroke-width=\"0.3985\" stroke-linecap=\"butt\" stroke-linejoin=\"miter\" stroke=\"rgb(0%, 0%, 100%)\" stroke-opacity=\"1\" stroke-miterlimit=\"10\" d=\"M -0.00123486 26.899711 L -0.00123486 94.148779 L 161.905413 94.148779 L 161.905413 26.899711 Z M -0.00123486 26.899711 \" transform=\"matrix(0.996354, 0, 0, -0.996354, 57.630137, 169.250865)\"/>\n",
       "<path fill=\"none\" stroke-width=\"0.3985\" stroke-linecap=\"butt\" stroke-linejoin=\"miter\" stroke=\"rgb(0%, 0%, 100%)\" stroke-opacity=\"1\" stroke-miterlimit=\"10\" d=\"M -0.00123486 53.798554 L 161.905413 53.798554 \" transform=\"matrix(0.996354, 0, 0, -0.996354, 57.630137, 169.250865)\"/>\n",
       "<g fill=\"rgb(0%, 0%, 0%)\" fill-opacity=\"1\">\n",
       "<use xlink:href=\"#glyph-1-0\" x=\"10.202669\" y=\"116.337471\"/>\n",
       "</g>\n",
       "<g fill=\"rgb(0%, 0%, 0%)\" fill-opacity=\"1\">\n",
       "<use xlink:href=\"#glyph-1-1\" x=\"10.202669\" y=\"109.716641\"/>\n",
       "<use xlink:href=\"#glyph-1-2\" x=\"10.202669\" y=\"104.753501\"/>\n",
       "<use xlink:href=\"#glyph-1-3\" x=\"10.202669\" y=\"101.99598\"/>\n",
       "<use xlink:href=\"#glyph-1-4\" x=\"10.202669\" y=\"96.480939\"/>\n",
       "<use xlink:href=\"#glyph-1-5\" x=\"10.202669\" y=\"92.0697\"/>\n",
       "</g>\n",
       "<g fill=\"rgb(0%, 0%, 0%)\" fill-opacity=\"1\">\n",
       "<use xlink:href=\"#glyph-0-10\" x=\"98.376051\" y=\"10.449904\"/>\n",
       "<use xlink:href=\"#glyph-0-11\" x=\"105.406836\" y=\"10.449904\"/>\n",
       "</g>\n",
       "<g fill=\"rgb(0%, 0%, 0%)\" fill-opacity=\"1\">\n",
       "<use xlink:href=\"#glyph-0-12\" x=\"110.09204\" y=\"10.449904\"/>\n",
       "</g>\n",
       "<g fill=\"rgb(0%, 0%, 0%)\" fill-opacity=\"1\">\n",
       "<use xlink:href=\"#glyph-0-13\" x=\"118.646509\" y=\"10.449904\"/>\n",
       "<use xlink:href=\"#glyph-0-4\" x=\"125.402335\" y=\"10.449904\"/>\n",
       "</g>\n",
       "<g fill=\"rgb(0%, 0%, 0%)\" fill-opacity=\"1\">\n",
       "<use xlink:href=\"#glyph-0-11\" x=\"128.14993\" y=\"10.449904\"/>\n",
       "</g>\n",
       "<g fill=\"rgb(0%, 0%, 0%)\" fill-opacity=\"1\">\n",
       "<use xlink:href=\"#glyph-0-14\" x=\"133.122996\" y=\"10.449904\"/>\n",
       "</g>\n",
       "<g fill=\"rgb(0%, 0%, 0%)\" fill-opacity=\"1\">\n",
       "<use xlink:href=\"#glyph-0-15\" x=\"140.288778\" y=\"10.449904\"/>\n",
       "<use xlink:href=\"#glyph-0-12\" x=\"147.044605\" y=\"10.449904\"/>\n",
       "<use xlink:href=\"#glyph-0-1\" x=\"152.283696\" y=\"10.449904\"/>\n",
       "<use xlink:href=\"#glyph-0-2\" x=\"157.246836\" y=\"10.449904\"/>\n",
       "<use xlink:href=\"#glyph-0-3\" x=\"165.518406\" y=\"10.449904\"/>\n",
       "<use xlink:href=\"#glyph-0-4\" x=\"171.033447\" y=\"10.449904\"/>\n",
       "<use xlink:href=\"#glyph-0-5\" x=\"173.790968\" y=\"10.449904\"/>\n",
       "</g>\n",
       "</svg>"
      ],
      "text/plain": [
       "<IPython.core.display.SVG object>"
      ]
     },
     "execution_count": 13,
     "metadata": {},
     "output_type": "execute_result"
    }
   ],
   "source": [
    "%%tikz -as=t -nt -t=pgfplots --pgfplots-libraries=statistics\n",
    "\\begin{axis}[\n",
    "    title={Box Plot Example},\n",
    "    boxplot/draw direction=y,\n",
    "    ylabel={Values},\n",
    "    xtick={1,2,3},\n",
    "    xticklabels={Sample A, Sample B, Sample C},\n",
    "]\n",
    "% Sample A\n",
    "\\addplot+[\n",
    "    boxplot prepared={\n",
    "        median=3,\n",
    "        upper quartile=4.5,\n",
    "        lower quartile=2,\n",
    "        upper whisker=6,\n",
    "        lower whisker=1,\n",
    "    },\n",
    "] coordinates {};\n",
    "\\end{axis}"
   ]
  },
  {
   "cell_type": "markdown",
   "metadata": {},
   "source": [
    "## Scaling the output"
   ]
  },
  {
   "cell_type": "markdown",
   "metadata": {},
   "source": [
    "You can scale the Tikz image using the `-sc` (or `--scale`) parameter:\n",
    "> **Note**: It uses `\\boxscale` from the `graphicx` package"
   ]
  },
  {
   "cell_type": "code",
   "execution_count": 14,
   "metadata": {},
   "outputs": [
    {
     "data": {
      "image/svg+xml": [
       "<svg xmlns=\"http://www.w3.org/2000/svg\" xmlns:xlink=\"http://www.w3.org/1999/xlink\" width=\"297.146\" height=\"283.863\" viewBox=\"0 0 297.146 283.863\">\n",
       "<defs>\n",
       "<clipPath id=\"clip-0\">\n",
       "<path clip-rule=\"nonzero\" d=\"M 6 0.339844 L 290 0.339844 L 290 283.386719 L 6 283.386719 Z M 6 0.339844 \"/>\n",
       "</clipPath>\n",
       "</defs>\n",
       "<g clip-path=\"url(#clip-0)\">\n",
       "<path fill=\"none\" stroke-width=\"0.19925\" stroke-linecap=\"butt\" stroke-linejoin=\"miter\" stroke=\"rgb(50%, 50%, 50%)\" stroke-opacity=\"1\" stroke-miterlimit=\"10\" d=\"M -0.0000429334 0.000514558 L 141.73426 0.000514558 M -0.0000429334 28.347375 L 141.73426 28.347375 M -0.0000429334 56.694236 L 141.73426 56.694236 M -0.0000429334 85.041096 L 141.73426 85.041096 M -0.0000429334 113.387957 L 141.73426 113.387957 M -0.0000429334 141.725024 L 141.73426 141.725024 M -0.0000429334 0.000514558 L -0.0000429334 141.734818 M 28.346818 0.000514558 L 28.346818 141.734818 M 56.693678 0.000514558 L 56.693678 141.734818 M 85.040539 0.000514558 L 85.040539 141.734818 M 113.3874 0.000514558 L 113.3874 141.734818 M 141.724467 0.000514558 L 141.724467 141.734818 \" transform=\"matrix(1.994268, 0, 0, -1.994268, 6.820398, 283.188526)\"/>\n",
       "</g>\n",
       "<path fill-rule=\"nonzero\" fill=\"rgb(89.99939%, 89.99939%, 89.99939%)\" fill-opacity=\"1\" stroke-width=\"0.3985\" stroke-linecap=\"butt\" stroke-linejoin=\"miter\" stroke=\"rgb(0%, 0%, 0%)\" stroke-opacity=\"1\" stroke-miterlimit=\"10\" d=\"M 28.346818 28.347375 L 28.346818 56.694236 L 56.693678 56.694236 L 56.693678 28.347375 Z M 28.346818 28.347375 \" transform=\"matrix(1.994268, 0, 0, -1.994268, 6.820398, 283.188526)\"/>\n",
       "<path fill-rule=\"nonzero\" fill=\"rgb(89.99939%, 89.99939%, 89.99939%)\" fill-opacity=\"1\" stroke-width=\"0.3985\" stroke-linecap=\"butt\" stroke-linejoin=\"miter\" stroke=\"rgb(0%, 0%, 0%)\" stroke-opacity=\"1\" stroke-miterlimit=\"10\" d=\"M 56.693678 28.347375 L 56.693678 56.694236 L 85.040539 56.694236 L 85.040539 28.347375 Z M 56.693678 28.347375 \" transform=\"matrix(1.994268, 0, 0, -1.994268, 6.820398, 283.188526)\"/>\n",
       "<path fill-rule=\"nonzero\" fill=\"rgb(89.99939%, 89.99939%, 89.99939%)\" fill-opacity=\"1\" stroke-width=\"0.3985\" stroke-linecap=\"butt\" stroke-linejoin=\"miter\" stroke=\"rgb(0%, 0%, 0%)\" stroke-opacity=\"1\" stroke-miterlimit=\"10\" d=\"M 85.040539 28.347375 L 85.040539 56.694236 L 113.3874 56.694236 L 113.3874 28.347375 Z M 85.040539 28.347375 \" transform=\"matrix(1.994268, 0, 0, -1.994268, 6.820398, 283.188526)\"/>\n",
       "<path fill-rule=\"nonzero\" fill=\"rgb(89.99939%, 89.99939%, 89.99939%)\" fill-opacity=\"1\" stroke-width=\"0.3985\" stroke-linecap=\"butt\" stroke-linejoin=\"miter\" stroke=\"rgb(0%, 0%, 0%)\" stroke-opacity=\"1\" stroke-miterlimit=\"10\" d=\"M 85.040539 56.694236 L 85.040539 85.041096 L 113.3874 85.041096 L 113.3874 56.694236 Z M 85.040539 56.694236 \" transform=\"matrix(1.994268, 0, 0, -1.994268, 6.820398, 283.188526)\"/>\n",
       "<path fill-rule=\"nonzero\" fill=\"rgb(89.99939%, 89.99939%, 89.99939%)\" fill-opacity=\"1\" stroke-width=\"0.3985\" stroke-linecap=\"butt\" stroke-linejoin=\"miter\" stroke=\"rgb(0%, 0%, 0%)\" stroke-opacity=\"1\" stroke-miterlimit=\"10\" d=\"M 56.693678 85.041096 L 56.693678 113.387957 L 85.040539 113.387957 L 85.040539 85.041096 Z M 56.693678 85.041096 \" transform=\"matrix(1.994268, 0, 0, -1.994268, 6.820398, 283.188526)\"/>\n",
       "</svg>"
      ],
      "text/plain": [
       "<IPython.core.display.SVG object>"
      ]
     },
     "execution_count": 14,
     "metadata": {},
     "output_type": "execute_result"
    }
   ],
   "source": [
    "%%tikz -as=t -sc=2\n",
    "\\draw[help lines] grid (5, 5);\n",
    "\\draw[fill=black!10] (1, 1) rectangle (2, 2);\n",
    "\\draw[fill=black!10] (2, 1) rectangle (3, 2);\n",
    "\\draw[fill=black!10] (3, 1) rectangle (4, 2);\n",
    "\\draw[fill=black!10] (3, 2) rectangle (4, 3);\n",
    "\\draw[fill=black!10] (2, 3) rectangle (3, 4);"
   ]
  },
  {
   "cell_type": "markdown",
   "metadata": {},
   "source": [
    "Which also works with standalone documents:\n",
    "> **Note**: Not applicable with the `-f` (or `--full-document`) parameter"
   ]
  },
  {
   "cell_type": "code",
   "execution_count": 15,
   "metadata": {},
   "outputs": [
    {
     "data": {
      "image/svg+xml": [
       "<svg xmlns=\"http://www.w3.org/2000/svg\" xmlns:xlink=\"http://www.w3.org/1999/xlink\" width=\"111.43\" height=\"106.449\" viewBox=\"0 0 111.43 106.449\">\n",
       "<defs>\n",
       "<clipPath id=\"clip-0\">\n",
       "<path clip-rule=\"nonzero\" d=\"M 2 0 L 109 0 L 109 105.902344 L 2 105.902344 Z M 2 0 \"/>\n",
       "</clipPath>\n",
       "</defs>\n",
       "<g clip-path=\"url(#clip-0)\">\n",
       "<path fill=\"none\" stroke-width=\"0.19925\" stroke-linecap=\"butt\" stroke-linejoin=\"miter\" stroke=\"rgb(50%, 50%, 50%)\" stroke-opacity=\"1\" stroke-miterlimit=\"10\" d=\"M -0.000640338 -0.00254831 L 141.734437 -0.00254831 M -0.000640338 28.346561 L 141.734437 28.346561 M -0.000640338 56.695671 L 141.734437 56.695671 M -0.000640338 85.039545 L 141.734437 85.039545 M -0.000640338 113.388655 L 141.734437 113.388655 M -0.000640338 141.722059 L 141.734437 141.722059 M -0.000640338 -0.00254831 L -0.000640338 141.732529 M 28.348469 -0.00254831 L 28.348469 141.732529 M 56.692344 -0.00254831 L 56.692344 141.732529 M 85.041453 -0.00254831 L 85.041453 141.732529 M 113.385328 -0.00254831 L 113.385328 141.732529 M 141.723967 -0.00254831 L 141.723967 141.732529 \" transform=\"matrix(0.746138, 0, 0, -0.746138, 2.555165, 105.826224)\"/>\n",
       "</g>\n",
       "<path fill-rule=\"nonzero\" fill=\"rgb(50%, 50%, 50%)\" fill-opacity=\"1\" stroke-width=\"0.3985\" stroke-linecap=\"butt\" stroke-linejoin=\"miter\" stroke=\"rgb(0%, 0%, 0%)\" stroke-opacity=\"1\" stroke-miterlimit=\"10\" d=\"M 28.348469 28.346561 L 28.348469 56.695671 L 56.692344 56.695671 L 56.692344 28.346561 Z M 28.348469 28.346561 \" transform=\"matrix(0.746138, 0, 0, -0.746138, 2.555165, 105.826224)\"/>\n",
       "<path fill-rule=\"nonzero\" fill=\"rgb(50%, 50%, 50%)\" fill-opacity=\"1\" stroke-width=\"0.3985\" stroke-linecap=\"butt\" stroke-linejoin=\"miter\" stroke=\"rgb(0%, 0%, 0%)\" stroke-opacity=\"1\" stroke-miterlimit=\"10\" d=\"M 56.692344 28.346561 L 56.692344 56.695671 L 85.041453 56.695671 L 85.041453 28.346561 Z M 56.692344 28.346561 \" transform=\"matrix(0.746138, 0, 0, -0.746138, 2.555165, 105.826224)\"/>\n",
       "<path fill-rule=\"nonzero\" fill=\"rgb(50%, 50%, 50%)\" fill-opacity=\"1\" stroke-width=\"0.3985\" stroke-linecap=\"butt\" stroke-linejoin=\"miter\" stroke=\"rgb(0%, 0%, 0%)\" stroke-opacity=\"1\" stroke-miterlimit=\"10\" d=\"M 85.041453 28.346561 L 85.041453 56.695671 L 113.385328 56.695671 L 113.385328 28.346561 Z M 85.041453 28.346561 \" transform=\"matrix(0.746138, 0, 0, -0.746138, 2.555165, 105.826224)\"/>\n",
       "<path fill-rule=\"nonzero\" fill=\"rgb(50%, 50%, 50%)\" fill-opacity=\"1\" stroke-width=\"0.3985\" stroke-linecap=\"butt\" stroke-linejoin=\"miter\" stroke=\"rgb(0%, 0%, 0%)\" stroke-opacity=\"1\" stroke-miterlimit=\"10\" d=\"M 85.041453 56.695671 L 85.041453 85.039545 L 113.385328 85.039545 L 113.385328 56.695671 Z M 85.041453 56.695671 \" transform=\"matrix(0.746138, 0, 0, -0.746138, 2.555165, 105.826224)\"/>\n",
       "<path fill-rule=\"nonzero\" fill=\"rgb(50%, 50%, 50%)\" fill-opacity=\"1\" stroke-width=\"0.3985\" stroke-linecap=\"butt\" stroke-linejoin=\"miter\" stroke=\"rgb(0%, 0%, 0%)\" stroke-opacity=\"1\" stroke-miterlimit=\"10\" d=\"M 56.692344 85.039545 L 56.692344 113.388655 L 85.041453 113.388655 L 85.041453 85.039545 Z M 56.692344 85.039545 \" transform=\"matrix(0.746138, 0, 0, -0.746138, 2.555165, 105.826224)\"/>\n",
       "</svg>"
      ],
      "text/plain": [
       "<IPython.core.display.SVG object>"
      ]
     },
     "execution_count": 15,
     "metadata": {},
     "output_type": "execute_result"
    }
   ],
   "source": [
    "%%tikz -sc=0.75\n",
    "\\begin{tikzpicture}\n",
    "    \\draw[help lines] grid (5, 5);\n",
    "    \\draw[fill=black!50] (1, 1) rectangle (2, 2);\n",
    "    \\draw[fill=black!50] (2, 1) rectangle (3, 2);\n",
    "    \\draw[fill=black!50] (3, 1) rectangle (4, 2);\n",
    "    \\draw[fill=black!50] (3, 2) rectangle (4, 3);\n",
    "    \\draw[fill=black!50] (2, 3) rectangle (3, 4);\n",
    "\\end{tikzpicture}"
   ]
  },
  {
   "cell_type": "markdown",
   "metadata": {},
   "source": [
    "## Rasterize the output"
   ]
  },
  {
   "cell_type": "markdown",
   "metadata": {},
   "source": [
    "You can display the output as a rasterized (`png`) image by setting the `-r` (or `--rasterize`) parameter.\n",
    "\n",
    "It is also possible to set the resolution (dots per inch) by using `-d=<dpi_of_image>` (or `--dpi=<dpi_of_image>`):"
   ]
  },
  {
   "cell_type": "code",
   "execution_count": 16,
   "metadata": {},
   "outputs": [
    {
     "data": {
      "image/png": "[encoded data removed]",
      "text/plain": [
       "<IPython.core.display.Image object>"
      ]
     },
     "execution_count": 16,
     "metadata": {},
     "output_type": "execute_result"
    }
   ],
   "source": [
    "%%tikz -r --dpi=150\n",
    "\\begin{tikzpicture}\n",
    "    \\draw[help lines] grid (5, 5);\n",
    "    \\draw[fill=red!50] (1, 1) rectangle (2, 2);\n",
    "    \\draw[fill=red!50] (2, 1) rectangle (3, 2);\n",
    "    \\draw[fill=red!50] (3, 1) rectangle (4, 2);\n",
    "\\end{tikzpicture}"
   ]
  },
  {
   "cell_type": "markdown",
   "metadata": {},
   "source": [
    "When using a rasterized image, you can use the `-g` (or `--gray`) option to apply grayscale to the image. This is useful for previewing how printed versions will appear:"
   ]
  },
  {
   "cell_type": "code",
   "execution_count": 17,
   "metadata": {},
   "outputs": [
    {
     "data": {
      "image/png": "[encoded data removed]",
      "text/plain": [
       "<IPython.core.display.Image object>"
      ]
     },
     "execution_count": 17,
     "metadata": {},
     "output_type": "execute_result"
    }
   ],
   "source": [
    "%%tikz -r --dpi=150 -g\n",
    "\\begin{tikzpicture}\n",
    "    \\draw[help lines] grid (5, 5);\n",
    "    \\draw[fill=red!50] (1, 1) rectangle (2, 2);\n",
    "    \\draw[fill=red!50] (2, 1) rectangle (3, 2);\n",
    "    \\draw[fill=red!50] (3, 1) rectangle (4, 2);\n",
    "\\end{tikzpicture}"
   ]
  },
  {
   "cell_type": "markdown",
   "metadata": {},
   "source": [
    "## Save"
   ]
  },
  {
   "cell_type": "markdown",
   "metadata": {},
   "source": [
    "You can save the image output by setting `-S=<name_of_image>` (or `--save-image=<name_of_image>`):\n",
    "\n",
    "> **Note:** The magic automatically detects the output format. Including the file extension (`.png` or `.svg`) is optional."
   ]
  },
  {
   "cell_type": "markdown",
   "metadata": {},
   "source": [
    "Saving an `svg` file:\n",
    "\n",
    "> **Note:** You can specify folders by using the `-S` parameter (e.g., `-S=outputs/file_name` saves to `./outputs/conway.svg`)."
   ]
  },
  {
   "cell_type": "code",
   "execution_count": 18,
   "metadata": {},
   "outputs": [
    {
     "data": {
      "image/svg+xml": [
       "<svg xmlns=\"http://www.w3.org/2000/svg\" xmlns:xlink=\"http://www.w3.org/1999/xlink\" width=\"141.931\" height=\"141.931\" viewBox=\"0 0 141.931 141.931\">\n",
       "<defs>\n",
       "<clipPath id=\"clip-0\">\n",
       "<path clip-rule=\"nonzero\" d=\"M 0 0 L 141.863281 0 L 141.863281 141.863281 L 0 141.863281 Z M 0 0 \"/>\n",
       "</clipPath>\n",
       "</defs>\n",
       "<g clip-path=\"url(#clip-0)\">\n",
       "<path fill=\"none\" stroke-width=\"0.19925\" stroke-linecap=\"butt\" stroke-linejoin=\"miter\" stroke=\"rgb(50%, 50%, 50%)\" stroke-opacity=\"1\" stroke-miterlimit=\"10\" d=\"M 0.00161187 0.000363546 L 141.734545 0.000363546 M 0.00161187 28.346168 L 141.734545 28.346168 M 0.00161187 56.691973 L 141.734545 56.691973 M 0.00161187 85.041686 L 141.734545 85.041686 M 0.00161187 113.387491 L 141.734545 113.387491 M 0.00161187 141.72548 L 141.734545 141.72548 M 0.00161187 0.000363546 L 0.00161187 141.733296 M 28.347417 0.000363546 L 28.347417 141.733296 M 56.693222 0.000363546 L 56.693222 141.733296 M 85.039027 0.000363546 L 85.039027 141.733296 M 113.38874 0.000363546 L 113.38874 141.733296 M 141.72282 0.000363546 L 141.72282 141.733296 \" transform=\"matrix(0.999514, 0, 0, -0.999514, 0.0999514, 141.762082)\"/>\n",
       "</g>\n",
       "<path fill-rule=\"nonzero\" fill=\"rgb(50%, 50%, 50%)\" fill-opacity=\"1\" stroke-width=\"0.3985\" stroke-linecap=\"butt\" stroke-linejoin=\"miter\" stroke=\"rgb(0%, 0%, 0%)\" stroke-opacity=\"1\" stroke-miterlimit=\"10\" d=\"M 28.347417 28.346168 L 28.347417 56.691973 L 56.693222 56.691973 L 56.693222 28.346168 Z M 28.347417 28.346168 \" transform=\"matrix(0.999514, 0, 0, -0.999514, 0.0999514, 141.762082)\"/>\n",
       "<path fill-rule=\"nonzero\" fill=\"rgb(50%, 50%, 50%)\" fill-opacity=\"1\" stroke-width=\"0.3985\" stroke-linecap=\"butt\" stroke-linejoin=\"miter\" stroke=\"rgb(0%, 0%, 0%)\" stroke-opacity=\"1\" stroke-miterlimit=\"10\" d=\"M 56.693222 28.346168 L 56.693222 56.691973 L 85.039027 56.691973 L 85.039027 28.346168 Z M 56.693222 28.346168 \" transform=\"matrix(0.999514, 0, 0, -0.999514, 0.0999514, 141.762082)\"/>\n",
       "</svg>"
      ],
      "text/plain": [
       "<IPython.core.display.SVG object>"
      ]
     },
     "execution_count": 18,
     "metadata": {},
     "output_type": "execute_result"
    }
   ],
   "source": [
    "%%tikz --save-image=outputs/conway\n",
    "\\begin{tikzpicture}\n",
    "    \\draw[help lines] grid (5, 5);\n",
    "    \\draw[fill=black!50] (1, 1) rectangle (2, 2);\n",
    "    \\draw[fill=black!50] (2, 1) rectangle (3, 2);\n",
    "\\end{tikzpicture}"
   ]
  },
  {
   "cell_type": "markdown",
   "metadata": {},
   "source": [
    "Saving a `png` file:\n",
    "\n",
    "> **Note:** Use the `-r` or `--rasterize` argument."
   ]
  },
  {
   "cell_type": "code",
   "execution_count": 19,
   "metadata": {},
   "outputs": [
    {
     "data": {
      "image/png": "[encoded data removed]",
      "text/plain": [
       "<IPython.core.display.Image object>"
      ]
     },
     "execution_count": 19,
     "metadata": {},
     "output_type": "execute_result"
    }
   ],
   "source": [
    "%%tikz --save-image=outputs/conway.png --rasterize\n",
    "\\begin{tikzpicture}\n",
    "    \\draw[help lines] grid (5, 5);\n",
    "    \\draw[fill=black!50] (1, 1) rectangle (2, 2);\n",
    "    \\draw[fill=black!50] (2, 1) rectangle (3, 2);\n",
    "\\end{tikzpicture}"
   ]
  },
  {
   "cell_type": "markdown",
   "metadata": {},
   "source": [
    "You can save TikZ output by using `-s=<tikz_file.tikz>` (or `--save-tikz=<tikz_file.tikz>`):\n",
    "\n",
    "> **Note:** This command saves the cell content to a file."
   ]
  },
  {
   "cell_type": "code",
   "execution_count": 20,
   "metadata": {},
   "outputs": [
    {
     "data": {
      "image/svg+xml": [
       "<svg xmlns=\"http://www.w3.org/2000/svg\" xmlns:xlink=\"http://www.w3.org/1999/xlink\" width=\"85.438\" height=\"85.438\" viewBox=\"0 0 85.438 85.438\">\n",
       "<defs>\n",
       "<clipPath id=\"clip-0\">\n",
       "<path clip-rule=\"nonzero\" d=\"M 0 0 L 84.878906 0 L 84.878906 84.878906 L 0 84.878906 Z M 0 0 \"/>\n",
       "</clipPath>\n",
       "</defs>\n",
       "<g clip-path=\"url(#clip-0)\">\n",
       "<path fill=\"none\" stroke-width=\"0.3985\" stroke-linecap=\"butt\" stroke-linejoin=\"miter\" stroke=\"rgb(0%, 0%, 0%)\" stroke-opacity=\"1\" stroke-miterlimit=\"10\" d=\"M 0.00152918 -0.00163136 L 0.00152918 85.038471 L 85.041631 85.038471 L 85.041631 -0.00163136 Z M 0.00152918 -0.00163136 \" transform=\"matrix(0.993465, 0, 0, -0.993465, 0.1977, 84.681973)\"/>\n",
       "</g>\n",
       "<path fill-rule=\"nonzero\" fill=\"rgb(0%, 0%, 0%)\" fill-opacity=\"1\" stroke-width=\"0.3985\" stroke-linecap=\"butt\" stroke-linejoin=\"miter\" stroke=\"rgb(0%, 0%, 0%)\" stroke-opacity=\"1\" stroke-miterlimit=\"10\" d=\"M 51.026377 42.51842 C 51.026377 47.217094 47.216322 51.023216 42.52158 51.023216 C 37.822906 51.023216 34.016784 47.217094 34.016784 42.51842 C 34.016784 37.823678 37.822906 34.017555 42.52158 34.017555 C 47.216322 34.017555 51.026377 37.823678 51.026377 42.51842 Z M 51.026377 42.51842 \" transform=\"matrix(0.993465, 0, 0, -0.993465, 0.1977, 84.681973)\"/>\n",
       "</svg>"
      ],
      "text/plain": [
       "<IPython.core.display.SVG object>"
      ]
     },
     "execution_count": 20,
     "metadata": {},
     "output_type": "execute_result"
    }
   ],
   "source": [
    "%%tikz --save-image=outputs/a_dot -s=outputs/a_dot.tikz\n",
    "\\begin{tikzpicture}[scale=3]\n",
    "    \\draw (0,0) rectangle (1,1);\n",
    "    \\filldraw (0.5,0.5) circle (.1);\n",
    "\\end{tikzpicture}"
   ]
  },
  {
   "cell_type": "markdown",
   "metadata": {},
   "source": [
    "If you want to save the full LaTeX code for use in an external IDE (e.g., TeXstudio), you can use `-st=<tex_file>` (or `--save-tex=<tex_file.tex>`):"
   ]
  },
  {
   "cell_type": "code",
   "execution_count": 21,
   "metadata": {},
   "outputs": [
    {
     "data": {
      "image/svg+xml": [
       "<svg xmlns=\"http://www.w3.org/2000/svg\" xmlns:xlink=\"http://www.w3.org/1999/xlink\" width=\"85.438\" height=\"85.438\" viewBox=\"0 0 85.438 85.438\">\n",
       "<defs>\n",
       "<clipPath id=\"clip-0\">\n",
       "<path clip-rule=\"nonzero\" d=\"M 0 0 L 84.878906 0 L 84.878906 84.878906 L 0 84.878906 Z M 0 0 \"/>\n",
       "</clipPath>\n",
       "</defs>\n",
       "<g clip-path=\"url(#clip-0)\">\n",
       "<path fill=\"none\" stroke-width=\"0.3985\" stroke-linecap=\"butt\" stroke-linejoin=\"miter\" stroke=\"rgb(0%, 0%, 0%)\" stroke-opacity=\"1\" stroke-miterlimit=\"10\" d=\"M 0.00152918 -0.00163136 L 0.00152918 85.038471 L 85.041631 85.038471 L 85.041631 -0.00163136 Z M 0.00152918 -0.00163136 \" transform=\"matrix(0.993465, 0, 0, -0.993465, 0.1977, 84.681973)\"/>\n",
       "</g>\n",
       "<path fill-rule=\"nonzero\" fill=\"rgb(0%, 0%, 0%)\" fill-opacity=\"1\" stroke-width=\"0.3985\" stroke-linecap=\"butt\" stroke-linejoin=\"miter\" stroke=\"rgb(0%, 0%, 0%)\" stroke-opacity=\"1\" stroke-miterlimit=\"10\" d=\"M 51.026377 42.51842 C 51.026377 47.217094 47.216322 51.023216 42.52158 51.023216 C 37.822906 51.023216 34.016784 47.217094 34.016784 42.51842 C 34.016784 37.823678 37.822906 34.017555 42.52158 34.017555 C 47.216322 34.017555 51.026377 37.823678 51.026377 42.51842 Z M 51.026377 42.51842 \" transform=\"matrix(0.993465, 0, 0, -0.993465, 0.1977, 84.681973)\"/>\n",
       "</svg>"
      ],
      "text/plain": [
       "<IPython.core.display.SVG object>"
      ]
     },
     "execution_count": 21,
     "metadata": {},
     "output_type": "execute_result"
    }
   ],
   "source": [
    "%%tikz -st=outputs/a_dot.tex\n",
    "\\begin{tikzpicture}[scale=3]\n",
    "    \\draw (0,0) rectangle (1,1);\n",
    "    \\filldraw (0.5,0.5) circle (.1);\n",
    "\\end{tikzpicture}"
   ]
  },
  {
   "cell_type": "markdown",
   "metadata": {},
   "source": [
    "You can even save PDF files using the flag `-sp=<pdf_name.pdf>` or `--save-pdf=<pdf_name.pdf>`:"
   ]
  },
  {
   "cell_type": "code",
   "execution_count": 22,
   "metadata": {},
   "outputs": [
    {
     "data": {
      "image/svg+xml": [
       "<svg xmlns=\"http://www.w3.org/2000/svg\" xmlns:xlink=\"http://www.w3.org/1999/xlink\" width=\"85.438\" height=\"85.438\" viewBox=\"0 0 85.438 85.438\">\n",
       "<defs>\n",
       "<clipPath id=\"clip-0\">\n",
       "<path clip-rule=\"nonzero\" d=\"M 0 0 L 84.878906 0 L 84.878906 84.878906 L 0 84.878906 Z M 0 0 \"/>\n",
       "</clipPath>\n",
       "</defs>\n",
       "<g clip-path=\"url(#clip-0)\">\n",
       "<path fill=\"none\" stroke-width=\"0.3985\" stroke-linecap=\"butt\" stroke-linejoin=\"miter\" stroke=\"rgb(0%, 0%, 0%)\" stroke-opacity=\"1\" stroke-miterlimit=\"10\" d=\"M 0.00152918 -0.00163136 L 0.00152918 85.038471 L 85.041631 85.038471 L 85.041631 -0.00163136 Z M 0.00152918 -0.00163136 \" transform=\"matrix(0.993465, 0, 0, -0.993465, 0.1977, 84.681973)\"/>\n",
       "</g>\n",
       "<path fill-rule=\"nonzero\" fill=\"rgb(0%, 0%, 0%)\" fill-opacity=\"1\" stroke-width=\"0.3985\" stroke-linecap=\"butt\" stroke-linejoin=\"miter\" stroke=\"rgb(0%, 0%, 0%)\" stroke-opacity=\"1\" stroke-miterlimit=\"10\" d=\"M 51.026377 42.51842 C 51.026377 47.217094 47.216322 51.023216 42.52158 51.023216 C 37.822906 51.023216 34.016784 47.217094 34.016784 42.51842 C 34.016784 37.823678 37.822906 34.017555 42.52158 34.017555 C 47.216322 34.017555 51.026377 37.823678 51.026377 42.51842 Z M 51.026377 42.51842 \" transform=\"matrix(0.993465, 0, 0, -0.993465, 0.1977, 84.681973)\"/>\n",
       "</svg>"
      ],
      "text/plain": [
       "<IPython.core.display.SVG object>"
      ]
     },
     "execution_count": 22,
     "metadata": {},
     "output_type": "execute_result"
    }
   ],
   "source": [
    "%%tikz -sp=outputs/a_dot.pdf\n",
    "\\begin{tikzpicture}[scale=3]\n",
    "    \\draw (0,0) rectangle (1,1);\n",
    "    \\filldraw (0.5,0.5) circle (.1);\n",
    "\\end{tikzpicture}"
   ]
  },
  {
   "cell_type": "markdown",
   "metadata": {},
   "source": [
    "To make it easier, set the `JUPYTER_TIKZ_SAVEDIR` environment to always save files in a custom folder:"
   ]
  },
  {
   "cell_type": "code",
   "execution_count": 23,
   "metadata": {},
   "outputs": [],
   "source": [
    "import os\n",
    "\n",
    "current_dir = os.getcwd()\n",
    "os.environ[\"JUPYTER_TIKZ_SAVEDIR\"] = os.path.join(current_dir, \"outputs\")"
   ]
  },
  {
   "cell_type": "markdown",
   "metadata": {},
   "source": [
    "Now, render the `tikzpicture` and save the output:"
   ]
  },
  {
   "cell_type": "code",
   "execution_count": 24,
   "metadata": {},
   "outputs": [
    {
     "data": {
      "image/svg+xml": [
       "<svg xmlns=\"http://www.w3.org/2000/svg\" xmlns:xlink=\"http://www.w3.org/1999/xlink\" width=\"243.581\" height=\"187.668\" viewBox=\"0 0 243.581 187.668\">\n",
       "<defs>\n",
       "<g>\n",
       "<g id=\"glyph-0-0\">\n",
       "<path d=\"M 6.546875 -2.28125 C 6.71875 -2.28125 6.890625 -2.28125 6.890625 -2.484375 C 6.890625 -2.6875 6.71875 -2.6875 6.546875 -2.6875 L 1.171875 -2.6875 C 1 -2.6875 0.828125 -2.6875 0.828125 -2.484375 C 0.828125 -2.28125 1 -2.28125 1.171875 -2.28125 Z M 6.546875 -2.28125 \"/>\n",
       "</g>\n",
       "<g id=\"glyph-1-0\">\n",
       "<path d=\"M 1.3125 -3.265625 L 1.3125 -3.5 C 1.3125 -6.015625 2.546875 -6.375 3.046875 -6.375 C 3.296875 -6.375 3.703125 -6.3125 3.921875 -5.96875 C 3.78125 -5.96875 3.375 -5.96875 3.375 -5.53125 C 3.375 -5.21875 3.625 -5.0625 3.828125 -5.0625 C 4 -5.0625 4.296875 -5.15625 4.296875 -5.546875 C 4.296875 -6.140625 3.859375 -6.625 3.03125 -6.625 C 1.765625 -6.625 0.421875 -5.34375 0.421875 -3.140625 C 0.421875 -0.484375 1.5625 0.21875 2.5 0.21875 C 3.59375 0.21875 4.546875 -0.71875 4.546875 -2.03125 C 4.546875 -3.296875 3.65625 -4.25 2.546875 -4.25 C 1.875 -4.25 1.515625 -3.734375 1.3125 -3.265625 Z M 2.5 -0.0625 C 1.875 -0.0625 1.5625 -0.65625 1.515625 -0.8125 C 1.328125 -1.265625 1.328125 -2.0625 1.328125 -2.25 C 1.328125 -3.015625 1.65625 -4.015625 2.546875 -4.015625 C 2.703125 -4.015625 3.15625 -4.015625 3.46875 -3.40625 C 3.640625 -3.03125 3.640625 -2.53125 3.640625 -2.03125 C 3.640625 -1.5625 3.640625 -1.0625 3.484375 -0.703125 C 3.1875 -0.109375 2.71875 -0.0625 2.5 -0.0625 Z M 2.5 -0.0625 \"/>\n",
       "</g>\n",
       "<g id=\"glyph-1-1\">\n",
       "<path d=\"M 2.921875 -1.640625 L 2.921875 -0.78125 C 2.921875 -0.421875 2.90625 -0.3125 2.171875 -0.3125 L 1.953125 -0.3125 L 1.953125 0 C 2.359375 -0.03125 2.875 -0.03125 3.296875 -0.03125 C 3.71875 -0.03125 4.25 -0.03125 4.65625 0 L 4.65625 -0.3125 L 4.4375 -0.3125 C 3.703125 -0.3125 3.6875 -0.421875 3.6875 -0.78125 L 3.6875 -1.640625 L 4.6875 -1.640625 L 4.6875 -1.953125 L 3.6875 -1.953125 L 3.6875 -6.46875 C 3.6875 -6.671875 3.6875 -6.734375 3.53125 -6.734375 C 3.4375 -6.734375 3.40625 -6.734375 3.328125 -6.609375 L 0.28125 -1.953125 L 0.28125 -1.640625 Z M 2.984375 -1.953125 L 0.5625 -1.953125 L 2.984375 -5.65625 Z M 2.984375 -1.953125 \"/>\n",
       "</g>\n",
       "<g id=\"glyph-1-2\">\n",
       "<path d=\"M 1.265625 -0.765625 L 2.3125 -1.78125 C 3.859375 -3.15625 4.46875 -3.703125 4.46875 -4.6875 C 4.46875 -5.828125 3.5625 -6.625 2.359375 -6.625 C 1.234375 -6.625 0.5 -5.703125 0.5 -4.8125 C 0.5 -4.265625 1 -4.265625 1.03125 -4.265625 C 1.1875 -4.265625 1.546875 -4.375 1.546875 -4.796875 C 1.546875 -5.046875 1.359375 -5.3125 1.015625 -5.3125 C 0.9375 -5.3125 0.921875 -5.3125 0.890625 -5.296875 C 1.109375 -5.9375 1.65625 -6.3125 2.21875 -6.3125 C 3.125 -6.3125 3.5625 -5.5 3.5625 -4.6875 C 3.5625 -3.890625 3.0625 -3.109375 2.515625 -2.5 L 0.609375 -0.375 C 0.5 -0.265625 0.5 -0.234375 0.5 0 L 4.1875 0 L 4.46875 -1.734375 L 4.21875 -1.734375 C 4.15625 -1.4375 4.09375 -1 4 -0.84375 C 3.921875 -0.765625 3.265625 -0.765625 3.046875 -0.765625 Z M 1.265625 -0.765625 \"/>\n",
       "</g>\n",
       "<g id=\"glyph-1-3\">\n",
       "<path d=\"M 4.578125 -3.1875 C 4.578125 -3.96875 4.515625 -4.765625 4.171875 -5.5 C 3.71875 -6.453125 2.90625 -6.625 2.484375 -6.625 C 1.890625 -6.625 1.15625 -6.359375 0.75 -5.4375 C 0.4375 -4.75 0.390625 -3.96875 0.390625 -3.1875 C 0.390625 -2.4375 0.421875 -1.546875 0.828125 -0.78125 C 1.265625 0.015625 1.984375 0.21875 2.46875 0.21875 C 3.015625 0.21875 3.765625 0.015625 4.203125 -0.9375 C 4.515625 -1.625 4.578125 -2.390625 4.578125 -3.1875 Z M 2.46875 0 C 2.09375 0 1.5 -0.25 1.328125 -1.203125 C 1.21875 -1.796875 1.21875 -2.71875 1.21875 -3.296875 C 1.21875 -3.9375 1.21875 -4.59375 1.296875 -5.125 C 1.484375 -6.3125 2.21875 -6.40625 2.46875 -6.40625 C 2.796875 -6.40625 3.453125 -6.21875 3.640625 -5.234375 C 3.75 -4.6875 3.75 -3.921875 3.75 -3.296875 C 3.75 -2.546875 3.75 -1.875 3.640625 -1.25 C 3.484375 -0.296875 2.921875 0 2.46875 0 Z M 2.46875 0 \"/>\n",
       "</g>\n",
       "<g id=\"glyph-1-4\">\n",
       "<path d=\"M 2.921875 -6.359375 C 2.921875 -6.59375 2.921875 -6.625 2.6875 -6.625 C 2.078125 -5.984375 1.203125 -5.984375 0.890625 -5.984375 L 0.890625 -5.671875 C 1.078125 -5.671875 1.671875 -5.671875 2.1875 -5.9375 L 2.1875 -0.78125 C 2.1875 -0.421875 2.15625 -0.3125 1.265625 -0.3125 L 0.9375 -0.3125 L 0.9375 0 C 1.296875 -0.03125 2.15625 -0.03125 2.546875 -0.03125 C 2.953125 -0.03125 3.8125 -0.03125 4.15625 0 L 4.15625 -0.3125 L 3.84375 -0.3125 C 2.953125 -0.3125 2.921875 -0.421875 2.921875 -0.78125 Z M 2.921875 -6.359375 \"/>\n",
       "</g>\n",
       "<g id=\"glyph-1-5\">\n",
       "<path d=\"M 2.875 -3.5 C 3.703125 -3.765625 4.265625 -4.46875 4.265625 -5.25 C 4.265625 -6.0625 3.40625 -6.625 2.4375 -6.625 C 1.4375 -6.625 0.6875 -6.015625 0.6875 -5.265625 C 0.6875 -4.9375 0.90625 -4.75 1.1875 -4.75 C 1.5 -4.75 1.703125 -4.96875 1.703125 -5.25 C 1.703125 -5.75 1.234375 -5.75 1.078125 -5.75 C 1.390625 -6.234375 2.046875 -6.375 2.40625 -6.375 C 2.8125 -6.375 3.359375 -6.15625 3.359375 -5.25 C 3.359375 -5.140625 3.34375 -4.5625 3.078125 -4.125 C 2.78125 -3.640625 2.4375 -3.625 2.203125 -3.609375 C 2.109375 -3.59375 1.875 -3.578125 1.8125 -3.578125 C 1.734375 -3.5625 1.65625 -3.5625 1.65625 -3.453125 C 1.65625 -3.34375 1.734375 -3.34375 1.890625 -3.34375 L 2.328125 -3.34375 C 3.15625 -3.34375 3.515625 -2.671875 3.515625 -1.703125 C 3.515625 -0.34375 2.828125 -0.0625 2.390625 -0.0625 C 1.96875 -0.0625 1.21875 -0.234375 0.875 -0.8125 C 1.21875 -0.765625 1.53125 -0.984375 1.53125 -1.359375 C 1.53125 -1.71875 1.265625 -1.921875 0.96875 -1.921875 C 0.734375 -1.921875 0.421875 -1.78125 0.421875 -1.34375 C 0.421875 -0.4375 1.34375 0.21875 2.421875 0.21875 C 3.640625 0.21875 4.546875 -0.6875 4.546875 -1.703125 C 4.546875 -2.515625 3.921875 -3.296875 2.875 -3.5 Z M 2.875 -3.5 \"/>\n",
       "</g>\n",
       "<g id=\"glyph-2-0\">\n",
       "<path d=\"M 3.3125 -3 C 3.375 -3.265625 3.609375 -4.171875 4.296875 -4.171875 C 4.359375 -4.171875 4.59375 -4.171875 4.796875 -4.046875 C 4.515625 -4 4.328125 -3.75 4.328125 -3.515625 C 4.328125 -3.34375 4.4375 -3.15625 4.703125 -3.15625 C 4.921875 -3.15625 5.234375 -3.34375 5.234375 -3.734375 C 5.234375 -4.25 4.65625 -4.390625 4.3125 -4.390625 C 3.734375 -4.390625 3.390625 -3.859375 3.265625 -3.640625 C 3.015625 -4.296875 2.484375 -4.390625 2.203125 -4.390625 C 1.15625 -4.390625 0.59375 -3.109375 0.59375 -2.859375 C 0.59375 -2.765625 0.703125 -2.765625 0.71875 -2.765625 C 0.796875 -2.765625 0.828125 -2.78125 0.84375 -2.875 C 1.1875 -3.921875 1.84375 -4.171875 2.171875 -4.171875 C 2.359375 -4.171875 2.71875 -4.078125 2.71875 -3.515625 C 2.71875 -3.203125 2.546875 -2.53125 2.171875 -1.140625 C 2.015625 -0.53125 1.671875 -0.109375 1.234375 -0.109375 C 1.171875 -0.109375 0.9375 -0.109375 0.734375 -0.234375 C 0.984375 -0.28125 1.203125 -0.5 1.203125 -0.78125 C 1.203125 -1.046875 0.984375 -1.125 0.828125 -1.125 C 0.53125 -1.125 0.28125 -0.859375 0.28125 -0.546875 C 0.28125 -0.09375 0.78125 0.109375 1.21875 0.109375 C 1.875 0.109375 2.234375 -0.59375 2.265625 -0.640625 C 2.390625 -0.28125 2.75 0.109375 3.34375 0.109375 C 4.359375 0.109375 4.921875 -1.171875 4.921875 -1.421875 C 4.921875 -1.515625 4.84375 -1.515625 4.8125 -1.515625 C 4.71875 -1.515625 4.703125 -1.484375 4.6875 -1.40625 C 4.359375 -0.34375 3.671875 -0.109375 3.359375 -0.109375 C 2.96875 -0.109375 2.8125 -0.421875 2.8125 -0.765625 C 2.8125 -0.984375 2.875 -1.203125 2.984375 -1.640625 Z M 3.3125 -3 \"/>\n",
       "</g>\n",
       "<g id=\"glyph-3-0\">\n",
       "<path d=\"M -3.96875 -3.640625 L -3.96875 -4.5 C -3.96875 -4.703125 -3.96875 -4.796875 -4.171875 -4.796875 C -4.28125 -4.796875 -4.28125 -4.703125 -4.28125 -4.53125 L -4.28125 -3.703125 L -5.421875 -3.921875 C -5.625 -3.953125 -6.328125 -4.09375 -6.453125 -4.15625 C -6.640625 -4.25 -6.78125 -4.40625 -6.78125 -4.625 C -6.78125 -4.65625 -6.78125 -4.921875 -6.609375 -5.109375 C -6.5625 -4.671875 -6.21875 -4.578125 -6.078125 -4.578125 C -5.84375 -4.578125 -5.71875 -4.75 -5.71875 -4.9375 C -5.71875 -5.203125 -5.9375 -5.484375 -6.3125 -5.484375 C -6.78125 -5.484375 -7 -5.03125 -7 -4.625 C -7 -4.28125 -6.828125 -3.65625 -5.84375 -3.359375 C -5.640625 -3.296875 -5.53125 -3.265625 -4.28125 -3.03125 L -4.28125 -2.34375 C -4.28125 -2.15625 -4.28125 -2.046875 -4.09375 -2.046875 C -3.96875 -2.046875 -3.96875 -2.140625 -3.96875 -2.328125 L -3.96875 -2.984375 L -0.046875 -2.234375 C 0.921875 -2.0625 1.8125 -1.890625 1.8125 -1.375 C 1.8125 -1.328125 1.8125 -1.078125 1.640625 -0.890625 C 1.609375 -1.34375 1.25 -1.4375 1.109375 -1.4375 C 0.875 -1.4375 0.75 -1.265625 0.75 -1.078125 C 0.75 -0.8125 0.96875 -0.53125 1.34375 -0.53125 C 1.796875 -0.53125 2.03125 -0.96875 2.03125 -1.375 C 2.03125 -1.921875 1.453125 -2.3125 1.078125 -2.5 C 0.453125 -2.8125 -0.75 -3.046875 -0.828125 -3.046875 Z M -3.96875 -3.640625 \"/>\n",
       "</g>\n",
       "<g id=\"glyph-3-1\">\n",
       "<path d=\"M -3 -3.3125 C -3.265625 -3.375 -4.171875 -3.609375 -4.171875 -4.296875 C -4.171875 -4.359375 -4.171875 -4.59375 -4.046875 -4.796875 C -4 -4.515625 -3.75 -4.328125 -3.515625 -4.328125 C -3.34375 -4.328125 -3.15625 -4.4375 -3.15625 -4.703125 C -3.15625 -4.921875 -3.34375 -5.234375 -3.734375 -5.234375 C -4.25 -5.234375 -4.390625 -4.65625 -4.390625 -4.3125 C -4.390625 -3.734375 -3.859375 -3.390625 -3.640625 -3.265625 C -4.296875 -3.015625 -4.390625 -2.484375 -4.390625 -2.203125 C -4.390625 -1.15625 -3.109375 -0.59375 -2.859375 -0.59375 C -2.765625 -0.59375 -2.765625 -0.703125 -2.765625 -0.71875 C -2.765625 -0.796875 -2.78125 -0.828125 -2.875 -0.84375 C -3.921875 -1.1875 -4.171875 -1.84375 -4.171875 -2.171875 C -4.171875 -2.359375 -4.078125 -2.71875 -3.515625 -2.71875 C -3.203125 -2.71875 -2.53125 -2.546875 -1.140625 -2.171875 C -0.53125 -2.015625 -0.109375 -1.671875 -0.109375 -1.234375 C -0.109375 -1.171875 -0.109375 -0.9375 -0.234375 -0.734375 C -0.28125 -0.984375 -0.5 -1.203125 -0.78125 -1.203125 C -1.046875 -1.203125 -1.125 -0.984375 -1.125 -0.828125 C -1.125 -0.53125 -0.859375 -0.28125 -0.546875 -0.28125 C -0.09375 -0.28125 0.109375 -0.78125 0.109375 -1.21875 C 0.109375 -1.875 -0.59375 -2.234375 -0.640625 -2.265625 C -0.28125 -2.390625 0.109375 -2.75 0.109375 -3.34375 C 0.109375 -4.359375 -1.171875 -4.921875 -1.421875 -4.921875 C -1.515625 -4.921875 -1.515625 -4.84375 -1.515625 -4.8125 C -1.515625 -4.71875 -1.484375 -4.703125 -1.40625 -4.6875 C -0.34375 -4.359375 -0.109375 -3.671875 -0.109375 -3.359375 C -0.109375 -2.96875 -0.421875 -2.8125 -0.765625 -2.8125 C -0.984375 -2.8125 -1.203125 -2.875 -1.640625 -2.984375 Z M -3 -3.3125 \"/>\n",
       "</g>\n",
       "<g id=\"glyph-4-0\">\n",
       "<path d=\"M 2.390625 -3.296875 C 2.359375 -3.296875 2.328125 -3.296875 2.171875 -3.125 C 0.921875 -1.875 -0.96875 -1.5625 -2.484375 -1.5625 C -4.21875 -1.5625 -5.9375 -1.9375 -7.1875 -3.15625 C -7.296875 -3.296875 -7.328125 -3.296875 -7.359375 -3.296875 C -7.421875 -3.296875 -7.453125 -3.25 -7.453125 -3.1875 C -7.453125 -3.09375 -6.78125 -2.203125 -5.515625 -1.609375 C -4.421875 -1.109375 -3.3125 -0.984375 -2.484375 -0.984375 C -1.703125 -0.984375 -0.5 -1.09375 0.609375 -1.640625 C 1.84375 -2.234375 2.484375 -3.09375 2.484375 -3.1875 C 2.484375 -3.25 2.453125 -3.296875 2.390625 -3.296875 Z M 2.390625 -3.296875 \"/>\n",
       "</g>\n",
       "<g id=\"glyph-4-1\">\n",
       "<path d=\"M -2.484375 -2.875 C -3.265625 -2.875 -4.46875 -2.765625 -5.578125 -2.21875 C -6.8125 -1.625 -7.453125 -0.765625 -7.453125 -0.671875 C -7.453125 -0.609375 -7.40625 -0.5625 -7.359375 -0.5625 C -7.328125 -0.5625 -7.296875 -0.5625 -7.125 -0.75 C -6.140625 -1.734375 -4.5625 -2.296875 -2.484375 -2.296875 C -0.78125 -2.296875 0.96875 -1.921875 2.21875 -0.703125 C 2.328125 -0.5625 2.359375 -0.5625 2.390625 -0.5625 C 2.4375 -0.5625 2.484375 -0.609375 2.484375 -0.671875 C 2.484375 -0.765625 1.8125 -1.65625 0.546875 -2.25 C -0.546875 -2.75 -1.65625 -2.875 -2.484375 -2.875 Z M -2.484375 -2.875 \"/>\n",
       "</g>\n",
       "<g id=\"glyph-4-2\">\n",
       "<path d=\"M -3.25 -6.828125 C -3.25 -6.96875 -3.25 -7.171875 -3.453125 -7.171875 C -3.640625 -7.171875 -3.640625 -6.96875 -3.640625 -6.84375 L -3.640625 -0.890625 C -3.640625 -0.75 -3.640625 -0.5625 -3.453125 -0.5625 C -3.25 -0.5625 -3.25 -0.75 -3.25 -0.890625 Z M -1.328125 -6.84375 C -1.328125 -6.96875 -1.328125 -7.171875 -1.515625 -7.171875 C -1.71875 -7.171875 -1.71875 -6.96875 -1.71875 -6.828125 L -1.71875 -0.890625 C -1.71875 -0.75 -1.71875 -0.5625 -1.515625 -0.5625 C -1.328125 -0.5625 -1.328125 -0.75 -1.328125 -0.890625 Z M -1.328125 -6.84375 \"/>\n",
       "</g>\n",
       "<g id=\"glyph-4-3\">\n",
       "<path d=\"M -2.28125 -4.0625 L -2.28125 -6.84375 C -2.28125 -6.96875 -2.28125 -7.171875 -2.484375 -7.171875 C -2.6875 -7.171875 -2.6875 -6.96875 -2.6875 -6.84375 L -2.6875 -4.0625 L -5.46875 -4.0625 C -5.609375 -4.0625 -5.796875 -4.0625 -5.796875 -3.859375 C -5.796875 -3.671875 -5.609375 -3.671875 -5.46875 -3.671875 L -2.6875 -3.671875 L -2.6875 -0.890625 C -2.6875 -0.75 -2.6875 -0.5625 -2.484375 -0.5625 C -2.28125 -0.5625 -2.28125 -0.75 -2.28125 -0.890625 L -2.28125 -3.671875 L 0.5 -3.671875 C 0.640625 -3.671875 0.828125 -3.671875 0.828125 -3.859375 C 0.828125 -4.0625 0.640625 -4.0625 0.5 -4.0625 Z M -2.28125 -4.0625 \"/>\n",
       "</g>\n",
       "<g id=\"glyph-4-4\">\n",
       "<path d=\"M -1.640625 -2.921875 L -0.78125 -2.921875 C -0.421875 -2.921875 -0.3125 -2.90625 -0.3125 -2.171875 L -0.3125 -1.953125 L 0 -1.953125 C -0.03125 -2.359375 -0.03125 -2.875 -0.03125 -3.296875 C -0.03125 -3.71875 -0.03125 -4.25 0 -4.65625 L -0.3125 -4.65625 L -0.3125 -4.4375 C -0.3125 -3.703125 -0.421875 -3.6875 -0.78125 -3.6875 L -1.640625 -3.6875 L -1.640625 -4.6875 L -1.953125 -4.6875 L -1.953125 -3.6875 L -6.46875 -3.6875 C -6.671875 -3.6875 -6.734375 -3.6875 -6.734375 -3.53125 C -6.734375 -3.4375 -6.734375 -3.40625 -6.609375 -3.328125 L -1.953125 -0.28125 L -1.640625 -0.28125 Z M -1.953125 -2.984375 L -1.953125 -0.5625 L -5.65625 -2.984375 Z M -1.953125 -2.984375 \"/>\n",
       "</g>\n",
       "<g id=\"glyph-5-0\">\n",
       "<path d=\"M -1.265625 -3.515625 L -1.265625 -3.28125 C -1.109375 -3.265625 -0.703125 -3.1875 -0.640625 -3.09375 C -0.59375 -3.046875 -0.59375 -2.515625 -0.59375 -2.40625 L -0.59375 -1.125 C -1.234375 -1.859375 -1.4375 -2.109375 -1.765625 -2.515625 C -2.171875 -3.03125 -2.609375 -3.515625 -3.265625 -3.515625 C -4.109375 -3.515625 -4.625 -2.78125 -4.625 -1.890625 C -4.625 -1.03125 -4.015625 -0.4375 -3.375 -0.4375 C -3.03125 -0.4375 -2.984375 -0.734375 -2.984375 -0.8125 C -2.984375 -0.96875 -3.109375 -1.171875 -3.359375 -1.171875 C -3.484375 -1.171875 -3.734375 -1.125 -3.734375 -0.765625 C -4.21875 -0.984375 -4.375 -1.453125 -4.375 -1.78125 C -4.375 -2.484375 -3.828125 -2.84375 -3.265625 -2.84375 C -2.65625 -2.84375 -2.1875 -2.40625 -1.9375 -2.1875 L -0.265625 -0.515625 C -0.203125 -0.4375 -0.1875 -0.4375 0 -0.4375 L 0 -3.3125 Z M -1.265625 -3.515625 \"/>\n",
       "</g>\n",
       "<g id=\"glyph-6-0\">\n",
       "<path d=\"M -2.28125 -6.546875 C -2.28125 -6.71875 -2.28125 -6.890625 -2.484375 -6.890625 C -2.6875 -6.890625 -2.6875 -6.71875 -2.6875 -6.546875 L -2.6875 -1.171875 C -2.6875 -1 -2.6875 -0.828125 -2.484375 -0.828125 C -2.28125 -0.828125 -2.28125 -1 -2.28125 -1.171875 Z M -2.28125 -6.546875 \"/>\n",
       "</g>\n",
       "</g>\n",
       "</defs>\n",
       "<path fill=\"none\" stroke-width=\"0.19925\" stroke-linecap=\"butt\" stroke-linejoin=\"miter\" stroke=\"rgb(50%, 50%, 50%)\" stroke-opacity=\"1\" stroke-miterlimit=\"10\" d=\"M -16.188265 -13.449962 L -16.188265 -9.20027 M 16.189224 -13.449962 L 16.189224 -9.20027 M 48.570627 -13.449962 L 48.570627 -9.20027 M 80.95203 -13.449962 L 80.95203 -9.20027 M 113.32952 -13.449962 L 113.32952 -9.20027 M 145.710923 -13.449962 L 145.710923 -9.20027 M 178.092326 -13.449962 L 178.092326 -9.20027 M -16.188265 147.948342 L -16.188265 143.694737 M 16.189224 147.948342 L 16.189224 143.694737 M 48.570627 147.948342 L 48.570627 143.694737 M 80.95203 147.948342 L 80.95203 143.694737 M 113.32952 147.948342 L 113.32952 143.694737 M 145.710923 147.948342 L 145.710923 143.694737 M 178.092326 147.948342 L 178.092326 143.694737 \" transform=\"matrix(0.998234, 0, 0, -0.998234, 59.581553, 147.882384)\"/>\n",
       "<path fill=\"none\" stroke-width=\"0.19925\" stroke-linecap=\"butt\" stroke-linejoin=\"miter\" stroke=\"rgb(50%, 50%, 50%)\" stroke-opacity=\"1\" stroke-miterlimit=\"10\" d=\"M -16.192179 27.763444 L -11.938573 27.763444 M -16.192179 72.236513 L -11.938573 72.236513 M -16.192179 116.709582 L -11.938573 116.709582 M 178.088413 27.763444 L 173.83872 27.763444 M 178.088413 72.236513 L 173.83872 72.236513 M 178.088413 116.709582 L 173.83872 116.709582 \" transform=\"matrix(0.998234, 0, 0, -0.998234, 59.581553, 147.882384)\"/>\n",
       "<path fill=\"none\" stroke-width=\"0.3985\" stroke-linecap=\"butt\" stroke-linejoin=\"miter\" stroke=\"rgb(0%, 0%, 0%)\" stroke-opacity=\"1\" stroke-miterlimit=\"10\" d=\"M -16.192179 -13.449962 L -16.192179 147.948342 L 178.088413 147.948342 L 178.088413 -13.449962 Z M -16.192179 -13.449962 \" transform=\"matrix(0.998234, 0, 0, -0.998234, 59.581553, 147.882384)\"/>\n",
       "<g fill=\"rgb(0%, 0%, 0%)\" fill-opacity=\"1\">\n",
       "<use xlink:href=\"#glyph-0-0\" x=\"37.066384\" y=\"171.231078\"/>\n",
       "</g>\n",
       "<g fill=\"rgb(0%, 0%, 0%)\" fill-opacity=\"1\">\n",
       "<use xlink:href=\"#glyph-1-0\" x=\"44.800701\" y=\"171.231078\"/>\n",
       "</g>\n",
       "<g fill=\"rgb(0%, 0%, 0%)\" fill-opacity=\"1\">\n",
       "<use xlink:href=\"#glyph-0-0\" x=\"69.388204\" y=\"171.231078\"/>\n",
       "</g>\n",
       "<g fill=\"rgb(0%, 0%, 0%)\" fill-opacity=\"1\">\n",
       "<use xlink:href=\"#glyph-1-1\" x=\"77.12352\" y=\"171.231078\"/>\n",
       "</g>\n",
       "<g fill=\"rgb(0%, 0%, 0%)\" fill-opacity=\"1\">\n",
       "<use xlink:href=\"#glyph-0-0\" x=\"101.71202\" y=\"171.231078\"/>\n",
       "</g>\n",
       "<g fill=\"rgb(0%, 0%, 0%)\" fill-opacity=\"1\">\n",
       "<use xlink:href=\"#glyph-1-2\" x=\"109.447336\" y=\"171.231078\"/>\n",
       "</g>\n",
       "<g fill=\"rgb(0%, 0%, 0%)\" fill-opacity=\"1\">\n",
       "<use xlink:href=\"#glyph-1-3\" x=\"137.901997\" y=\"171.231078\"/>\n",
       "</g>\n",
       "<g fill=\"rgb(0%, 0%, 0%)\" fill-opacity=\"1\">\n",
       "<use xlink:href=\"#glyph-1-2\" x=\"170.224816\" y=\"171.231078\"/>\n",
       "</g>\n",
       "<g fill=\"rgb(0%, 0%, 0%)\" fill-opacity=\"1\">\n",
       "<use xlink:href=\"#glyph-1-1\" x=\"202.547634\" y=\"171.231078\"/>\n",
       "</g>\n",
       "<g fill=\"rgb(0%, 0%, 0%)\" fill-opacity=\"1\">\n",
       "<use xlink:href=\"#glyph-1-0\" x=\"234.870452\" y=\"171.231078\"/>\n",
       "</g>\n",
       "<g fill=\"rgb(0%, 0%, 0%)\" fill-opacity=\"1\">\n",
       "<use xlink:href=\"#glyph-1-4\" x=\"29.960954\" y=\"123.372744\"/>\n",
       "<use xlink:href=\"#glyph-1-3\" x=\"34.933457\" y=\"123.372744\"/>\n",
       "</g>\n",
       "<g fill=\"rgb(0%, 0%, 0%)\" fill-opacity=\"1\">\n",
       "<use xlink:href=\"#glyph-1-2\" x=\"29.960954\" y=\"78.979279\"/>\n",
       "<use xlink:href=\"#glyph-1-3\" x=\"34.933457\" y=\"78.979279\"/>\n",
       "</g>\n",
       "<g fill=\"rgb(0%, 0%, 0%)\" fill-opacity=\"1\">\n",
       "<use xlink:href=\"#glyph-1-5\" x=\"29.960954\" y=\"34.586813\"/>\n",
       "<use xlink:href=\"#glyph-1-3\" x=\"34.933457\" y=\"34.586813\"/>\n",
       "</g>\n",
       "<path fill=\"none\" stroke-width=\"0.3985\" stroke-linecap=\"butt\" stroke-linejoin=\"miter\" stroke=\"rgb(0%, 0%, 100%)\" stroke-opacity=\"1\" stroke-miterlimit=\"10\" d=\"M 0.000479394 134.494896 L 6.746768 114.886049 L 13.493057 96.818987 L 20.235432 80.297624 L 26.981721 65.318045 L 33.72801 51.884165 L 40.474298 39.995984 L 47.220587 29.649588 L 53.966876 20.84889 L 60.713164 13.589977 L 67.459453 7.876763 L 74.201828 3.705334 L 80.948117 1.079603 L 87.694406 -0.000429258 L 94.440694 0.461324 L 101.186983 2.468775 L 107.933272 6.021925 L 114.67956 11.11686 L 121.421936 17.757493 L 128.168224 25.939912 L 134.914513 35.668028 L 141.660802 46.937931 L 148.40709 59.753531 L 155.153379 74.11483 L 161.899668 90.017914 \" transform=\"matrix(0.998234, 0, 0, -0.998234, 59.581553, 147.882384)\"/>\n",
       "<path fill-rule=\"nonzero\" fill=\"rgb(0%, 0%, 79.998779%)\" fill-opacity=\"1\" stroke-width=\"0.3985\" stroke-linecap=\"butt\" stroke-linejoin=\"miter\" stroke=\"rgb(0%, 0%, 100%)\" stroke-opacity=\"1\" stroke-miterlimit=\"10\" d=\"M 1.992278 134.494896 C 1.992278 135.598408 1.100077 136.490608 0.000479394 136.490608 C -1.099119 136.490608 -1.991319 135.598408 -1.991319 134.494896 C -1.991319 133.395298 -1.099119 132.503098 0.000479394 132.503098 C 1.100077 132.503098 1.992278 133.395298 1.992278 134.494896 Z M 1.992278 134.494896 \" transform=\"matrix(0.998234, 0, 0, -0.998234, 59.581553, 147.882384)\"/>\n",
       "<path fill-rule=\"nonzero\" fill=\"rgb(0%, 0%, 79.998779%)\" fill-opacity=\"1\" stroke-width=\"0.3985\" stroke-linecap=\"butt\" stroke-linejoin=\"miter\" stroke=\"rgb(0%, 0%, 100%)\" stroke-opacity=\"1\" stroke-miterlimit=\"10\" d=\"M 8.738567 114.886049 C 8.738567 115.985647 7.846366 116.877848 6.746768 116.877848 C 5.64717 116.877848 4.754969 115.985647 4.754969 114.886049 C 4.754969 113.786451 5.64717 112.89425 6.746768 112.89425 C 7.846366 112.89425 8.738567 113.786451 8.738567 114.886049 Z M 8.738567 114.886049 \" transform=\"matrix(0.998234, 0, 0, -0.998234, 59.581553, 147.882384)\"/>\n",
       "<path fill-rule=\"nonzero\" fill=\"rgb(0%, 0%, 79.998779%)\" fill-opacity=\"1\" stroke-width=\"0.3985\" stroke-linecap=\"butt\" stroke-linejoin=\"miter\" stroke=\"rgb(0%, 0%, 100%)\" stroke-opacity=\"1\" stroke-miterlimit=\"10\" d=\"M 15.484855 96.818987 C 15.484855 97.918585 14.592655 98.810786 13.493057 98.810786 C 12.389545 98.810786 11.497345 97.918585 11.497345 96.818987 C 11.497345 95.719389 12.389545 94.827189 13.493057 94.827189 C 14.592655 94.827189 15.484855 95.719389 15.484855 96.818987 Z M 15.484855 96.818987 \" transform=\"matrix(0.998234, 0, 0, -0.998234, 59.581553, 147.882384)\"/>\n",
       "<path fill-rule=\"nonzero\" fill=\"rgb(0%, 0%, 79.998779%)\" fill-opacity=\"1\" stroke-width=\"0.3985\" stroke-linecap=\"butt\" stroke-linejoin=\"miter\" stroke=\"rgb(0%, 0%, 100%)\" stroke-opacity=\"1\" stroke-miterlimit=\"10\" d=\"M 22.231144 80.297624 C 22.231144 81.397222 21.338943 82.289422 20.235432 82.289422 C 19.135834 82.289422 18.243634 81.397222 18.243634 80.297624 C 18.243634 79.198026 19.135834 78.305825 20.235432 78.305825 C 21.338943 78.305825 22.231144 79.198026 22.231144 80.297624 Z M 22.231144 80.297624 \" transform=\"matrix(0.998234, 0, 0, -0.998234, 59.581553, 147.882384)\"/>\n",
       "<path fill-rule=\"nonzero\" fill=\"rgb(0%, 0%, 79.998779%)\" fill-opacity=\"1\" stroke-width=\"0.3985\" stroke-linecap=\"butt\" stroke-linejoin=\"miter\" stroke=\"rgb(0%, 0%, 100%)\" stroke-opacity=\"1\" stroke-miterlimit=\"10\" d=\"M 28.977433 65.318045 C 28.977433 66.417643 28.085232 67.309844 26.981721 67.309844 C 25.882123 67.309844 24.989922 66.417643 24.989922 65.318045 C 24.989922 64.218447 25.882123 63.326247 26.981721 63.326247 C 28.085232 63.326247 28.977433 64.218447 28.977433 65.318045 Z M 28.977433 65.318045 \" transform=\"matrix(0.998234, 0, 0, -0.998234, 59.581553, 147.882384)\"/>\n",
       "<path fill-rule=\"nonzero\" fill=\"rgb(0%, 0%, 79.998779%)\" fill-opacity=\"1\" stroke-width=\"0.3985\" stroke-linecap=\"butt\" stroke-linejoin=\"miter\" stroke=\"rgb(0%, 0%, 100%)\" stroke-opacity=\"1\" stroke-miterlimit=\"10\" d=\"M 35.719808 51.884165 C 35.719808 52.983764 34.827608 53.875964 33.72801 53.875964 C 32.628411 53.875964 31.736211 52.983764 31.736211 51.884165 C 31.736211 50.784567 32.628411 49.892367 33.72801 49.892367 C 34.827608 49.892367 35.719808 50.784567 35.719808 51.884165 Z M 35.719808 51.884165 \" transform=\"matrix(0.998234, 0, 0, -0.998234, 59.581553, 147.882384)\"/>\n",
       "<path fill-rule=\"nonzero\" fill=\"rgb(0%, 0%, 79.998779%)\" fill-opacity=\"1\" stroke-width=\"0.3985\" stroke-linecap=\"butt\" stroke-linejoin=\"miter\" stroke=\"rgb(0%, 0%, 100%)\" stroke-opacity=\"1\" stroke-miterlimit=\"10\" d=\"M 42.466097 39.995984 C 42.466097 41.095582 41.573896 41.987783 40.474298 41.987783 C 39.3747 41.987783 38.4825 41.095582 38.4825 39.995984 C 38.4825 38.892473 39.3747 38.000272 40.474298 38.000272 C 41.573896 38.000272 42.466097 38.892473 42.466097 39.995984 Z M 42.466097 39.995984 \" transform=\"matrix(0.998234, 0, 0, -0.998234, 59.581553, 147.882384)\"/>\n",
       "<path fill-rule=\"nonzero\" fill=\"rgb(0%, 0%, 79.998779%)\" fill-opacity=\"1\" stroke-width=\"0.3985\" stroke-linecap=\"butt\" stroke-linejoin=\"miter\" stroke=\"rgb(0%, 0%, 100%)\" stroke-opacity=\"1\" stroke-miterlimit=\"10\" d=\"M 49.212386 29.649588 C 49.212386 30.749186 48.320185 31.641386 47.220587 31.641386 C 46.120989 31.641386 45.228788 30.749186 45.228788 29.649588 C 45.228788 28.54999 46.120989 27.657789 47.220587 27.657789 C 48.320185 27.657789 49.212386 28.54999 49.212386 29.649588 Z M 49.212386 29.649588 \" transform=\"matrix(0.998234, 0, 0, -0.998234, 59.581553, 147.882384)\"/>\n",
       "<path fill-rule=\"nonzero\" fill=\"rgb(0%, 0%, 79.998779%)\" fill-opacity=\"1\" stroke-width=\"0.3985\" stroke-linecap=\"butt\" stroke-linejoin=\"miter\" stroke=\"rgb(0%, 0%, 100%)\" stroke-opacity=\"1\" stroke-miterlimit=\"10\" d=\"M 55.958674 20.84889 C 55.958674 21.948488 55.066474 22.840688 53.966876 22.840688 C 52.867277 22.840688 51.975077 21.948488 51.975077 20.84889 C 51.975077 19.745378 52.867277 18.853178 53.966876 18.853178 C 55.066474 18.853178 55.958674 19.745378 55.958674 20.84889 Z M 55.958674 20.84889 \" transform=\"matrix(0.998234, 0, 0, -0.998234, 59.581553, 147.882384)\"/>\n",
       "<path fill-rule=\"nonzero\" fill=\"rgb(0%, 0%, 79.998779%)\" fill-opacity=\"1\" stroke-width=\"0.3985\" stroke-linecap=\"butt\" stroke-linejoin=\"miter\" stroke=\"rgb(0%, 0%, 100%)\" stroke-opacity=\"1\" stroke-miterlimit=\"10\" d=\"M 62.704963 13.589977 C 62.704963 14.689575 61.812762 15.581776 60.713164 15.581776 C 59.609653 15.581776 58.717452 14.689575 58.717452 13.589977 C 58.717452 12.490379 59.609653 11.598178 60.713164 11.598178 C 61.812762 11.598178 62.704963 12.490379 62.704963 13.589977 Z M 62.704963 13.589977 \" transform=\"matrix(0.998234, 0, 0, -0.998234, 59.581553, 147.882384)\"/>\n",
       "<path fill-rule=\"nonzero\" fill=\"rgb(0%, 0%, 79.998779%)\" fill-opacity=\"1\" stroke-width=\"0.3985\" stroke-linecap=\"butt\" stroke-linejoin=\"miter\" stroke=\"rgb(0%, 0%, 100%)\" stroke-opacity=\"1\" stroke-miterlimit=\"10\" d=\"M 69.451252 7.876763 C 69.451252 8.976361 68.559051 9.868561 67.459453 9.868561 C 66.355942 9.868561 65.463741 8.976361 65.463741 7.876763 C 65.463741 6.777165 66.355942 5.884964 67.459453 5.884964 C 68.559051 5.884964 69.451252 6.777165 69.451252 7.876763 Z M 69.451252 7.876763 \" transform=\"matrix(0.998234, 0, 0, -0.998234, 59.581553, 147.882384)\"/>\n",
       "<path fill-rule=\"nonzero\" fill=\"rgb(0%, 0%, 79.998779%)\" fill-opacity=\"1\" stroke-width=\"0.3985\" stroke-linecap=\"butt\" stroke-linejoin=\"miter\" stroke=\"rgb(0%, 0%, 100%)\" stroke-opacity=\"1\" stroke-miterlimit=\"10\" d=\"M 76.19754 3.705334 C 76.19754 4.808845 75.30534 5.697132 74.201828 5.697132 C 73.10223 5.697132 72.21003 4.808845 72.21003 3.705334 C 72.21003 2.605736 73.10223 1.713535 74.201828 1.713535 C 75.30534 1.713535 76.19754 2.605736 76.19754 3.705334 Z M 76.19754 3.705334 \" transform=\"matrix(0.998234, 0, 0, -0.998234, 59.581553, 147.882384)\"/>\n",
       "<path fill-rule=\"nonzero\" fill=\"rgb(0%, 0%, 79.998779%)\" fill-opacity=\"1\" stroke-width=\"0.3985\" stroke-linecap=\"butt\" stroke-linejoin=\"miter\" stroke=\"rgb(0%, 0%, 100%)\" stroke-opacity=\"1\" stroke-miterlimit=\"10\" d=\"M 82.939916 1.079603 C 82.939916 2.183114 82.051628 3.075315 80.948117 3.075315 C 79.848519 3.075315 78.956318 2.183114 78.956318 1.079603 C 78.956318 -0.0199951 79.848519 -0.912196 80.948117 -0.912196 C 82.051628 -0.912196 82.939916 -0.0199951 82.939916 1.079603 Z M 82.939916 1.079603 \" transform=\"matrix(0.998234, 0, 0, -0.998234, 59.581553, 147.882384)\"/>\n",
       "<path fill-rule=\"nonzero\" fill=\"rgb(0%, 0%, 79.998779%)\" fill-opacity=\"1\" stroke-width=\"0.3985\" stroke-linecap=\"butt\" stroke-linejoin=\"miter\" stroke=\"rgb(0%, 0%, 100%)\" stroke-opacity=\"1\" stroke-miterlimit=\"10\" d=\"M 89.686204 -0.000429258 C 89.686204 1.099169 88.794004 1.991369 87.694406 1.991369 C 86.594808 1.991369 85.702607 1.099169 85.702607 -0.000429258 C 85.702607 -1.100027 86.594808 -1.992228 87.694406 -1.992228 C 88.794004 -1.992228 89.686204 -1.100027 89.686204 -0.000429258 Z M 89.686204 -0.000429258 \" transform=\"matrix(0.998234, 0, 0, -0.998234, 59.581553, 147.882384)\"/>\n",
       "<path fill-rule=\"nonzero\" fill=\"rgb(0%, 0%, 79.998779%)\" fill-opacity=\"1\" stroke-width=\"0.3985\" stroke-linecap=\"butt\" stroke-linejoin=\"miter\" stroke=\"rgb(0%, 0%, 100%)\" stroke-opacity=\"1\" stroke-miterlimit=\"10\" d=\"M 96.432493 0.461324 C 96.432493 1.564835 95.540292 2.457036 94.440694 2.457036 C 93.341096 2.457036 92.448896 1.564835 92.448896 0.461324 C 92.448896 -0.638274 93.341096 -1.530475 94.440694 -1.530475 C 95.540292 -1.530475 96.432493 -0.638274 96.432493 0.461324 Z M 96.432493 0.461324 \" transform=\"matrix(0.998234, 0, 0, -0.998234, 59.581553, 147.882384)\"/>\n",
       "<path fill-rule=\"nonzero\" fill=\"rgb(0%, 0%, 79.998779%)\" fill-opacity=\"1\" stroke-width=\"0.3985\" stroke-linecap=\"butt\" stroke-linejoin=\"miter\" stroke=\"rgb(0%, 0%, 100%)\" stroke-opacity=\"1\" stroke-miterlimit=\"10\" d=\"M 103.178782 2.468775 C 103.178782 3.572286 102.286581 4.460574 101.186983 4.460574 C 100.087385 4.460574 99.195184 3.572286 99.195184 2.468775 C 99.195184 1.369177 100.087385 0.476976 101.186983 0.476976 C 102.286581 0.476976 103.178782 1.369177 103.178782 2.468775 Z M 103.178782 2.468775 \" transform=\"matrix(0.998234, 0, 0, -0.998234, 59.581553, 147.882384)\"/>\n",
       "<path fill-rule=\"nonzero\" fill=\"rgb(0%, 0%, 79.998779%)\" fill-opacity=\"1\" stroke-width=\"0.3985\" stroke-linecap=\"butt\" stroke-linejoin=\"miter\" stroke=\"rgb(0%, 0%, 100%)\" stroke-opacity=\"1\" stroke-miterlimit=\"10\" d=\"M 109.92507 6.021925 C 109.92507 7.121523 109.03287 8.013723 107.933272 8.013723 C 106.833674 8.013723 105.941473 7.121523 105.941473 6.021925 C 105.941473 4.922327 106.833674 4.030126 107.933272 4.030126 C 109.03287 4.030126 109.92507 4.922327 109.92507 6.021925 Z M 109.92507 6.021925 \" transform=\"matrix(0.998234, 0, 0, -0.998234, 59.581553, 147.882384)\"/>\n",
       "<path fill-rule=\"nonzero\" fill=\"rgb(0%, 0%, 79.998779%)\" fill-opacity=\"1\" stroke-width=\"0.3985\" stroke-linecap=\"butt\" stroke-linejoin=\"miter\" stroke=\"rgb(0%, 0%, 100%)\" stroke-opacity=\"1\" stroke-miterlimit=\"10\" d=\"M 116.671359 11.11686 C 116.671359 12.216458 115.779158 13.108658 114.67956 13.108658 C 113.576049 13.108658 112.683848 12.216458 112.683848 11.11686 C 112.683848 10.017262 113.576049 9.125061 114.67956 9.125061 C 115.779158 9.125061 116.671359 10.017262 116.671359 11.11686 Z M 116.671359 11.11686 \" transform=\"matrix(0.998234, 0, 0, -0.998234, 59.581553, 147.882384)\"/>\n",
       "<path fill-rule=\"nonzero\" fill=\"rgb(0%, 0%, 79.998779%)\" fill-opacity=\"1\" stroke-width=\"0.3985\" stroke-linecap=\"butt\" stroke-linejoin=\"miter\" stroke=\"rgb(0%, 0%, 100%)\" stroke-opacity=\"1\" stroke-miterlimit=\"10\" d=\"M 123.417648 17.757493 C 123.417648 18.857091 122.525447 19.749292 121.421936 19.749292 C 120.322338 19.749292 119.430137 18.857091 119.430137 17.757493 C 119.430137 16.653982 120.322338 15.761781 121.421936 15.761781 C 122.525447 15.761781 123.417648 16.653982 123.417648 17.757493 Z M 123.417648 17.757493 \" transform=\"matrix(0.998234, 0, 0, -0.998234, 59.581553, 147.882384)\"/>\n",
       "<path fill-rule=\"nonzero\" fill=\"rgb(0%, 0%, 79.998779%)\" fill-opacity=\"1\" stroke-width=\"0.3985\" stroke-linecap=\"butt\" stroke-linejoin=\"miter\" stroke=\"rgb(0%, 0%, 100%)\" stroke-opacity=\"1\" stroke-miterlimit=\"10\" d=\"M 130.163936 25.939912 C 130.163936 27.03951 129.271736 27.93171 128.168224 27.93171 C 127.068626 27.93171 126.176426 27.03951 126.176426 25.939912 C 126.176426 24.840313 127.068626 23.948113 128.168224 23.948113 C 129.271736 23.948113 130.163936 24.840313 130.163936 25.939912 Z M 130.163936 25.939912 \" transform=\"matrix(0.998234, 0, 0, -0.998234, 59.581553, 147.882384)\"/>\n",
       "<path fill-rule=\"nonzero\" fill=\"rgb(0%, 0%, 79.998779%)\" fill-opacity=\"1\" stroke-width=\"0.3985\" stroke-linecap=\"butt\" stroke-linejoin=\"miter\" stroke=\"rgb(0%, 0%, 100%)\" stroke-opacity=\"1\" stroke-miterlimit=\"10\" d=\"M 136.906312 35.668028 C 136.906312 36.767627 136.014111 37.659827 134.914513 37.659827 C 133.814915 37.659827 132.922714 36.767627 132.922714 35.668028 C 132.922714 34.564517 133.814915 33.672317 134.914513 33.672317 C 136.014111 33.672317 136.906312 34.564517 136.906312 35.668028 Z M 136.906312 35.668028 \" transform=\"matrix(0.998234, 0, 0, -0.998234, 59.581553, 147.882384)\"/>\n",
       "<path fill-rule=\"nonzero\" fill=\"rgb(0%, 0%, 79.998779%)\" fill-opacity=\"1\" stroke-width=\"0.3985\" stroke-linecap=\"butt\" stroke-linejoin=\"miter\" stroke=\"rgb(0%, 0%, 100%)\" stroke-opacity=\"1\" stroke-miterlimit=\"10\" d=\"M 143.6526 46.937931 C 143.6526 48.037529 142.7604 48.929729 141.660802 48.929729 C 140.561204 48.929729 139.669003 48.037529 139.669003 46.937931 C 139.669003 45.838333 140.561204 44.946132 141.660802 44.946132 C 142.7604 44.946132 143.6526 45.838333 143.6526 46.937931 Z M 143.6526 46.937931 \" transform=\"matrix(0.998234, 0, 0, -0.998234, 59.581553, 147.882384)\"/>\n",
       "<path fill-rule=\"nonzero\" fill=\"rgb(0%, 0%, 79.998779%)\" fill-opacity=\"1\" stroke-width=\"0.3985\" stroke-linecap=\"butt\" stroke-linejoin=\"miter\" stroke=\"rgb(0%, 0%, 100%)\" stroke-opacity=\"1\" stroke-miterlimit=\"10\" d=\"M 150.398889 59.753531 C 150.398889 60.853129 149.506688 61.74533 148.40709 61.74533 C 147.307492 61.74533 146.415292 60.853129 146.415292 59.753531 C 146.415292 58.653933 147.307492 57.761733 148.40709 57.761733 C 149.506688 57.761733 150.398889 58.653933 150.398889 59.753531 Z M 150.398889 59.753531 \" transform=\"matrix(0.998234, 0, 0, -0.998234, 59.581553, 147.882384)\"/>\n",
       "<path fill-rule=\"nonzero\" fill=\"rgb(0%, 0%, 79.998779%)\" fill-opacity=\"1\" stroke-width=\"0.3985\" stroke-linecap=\"butt\" stroke-linejoin=\"miter\" stroke=\"rgb(0%, 0%, 100%)\" stroke-opacity=\"1\" stroke-miterlimit=\"10\" d=\"M 157.145178 74.11483 C 157.145178 75.214428 156.252977 76.106629 155.153379 76.106629 C 154.053781 76.106629 153.16158 75.214428 153.16158 74.11483 C 153.16158 73.015232 154.053781 72.123031 155.153379 72.123031 C 156.252977 72.123031 157.145178 73.015232 157.145178 74.11483 Z M 157.145178 74.11483 \" transform=\"matrix(0.998234, 0, 0, -0.998234, 59.581553, 147.882384)\"/>\n",
       "<path fill-rule=\"nonzero\" fill=\"rgb(0%, 0%, 79.998779%)\" fill-opacity=\"1\" stroke-width=\"0.3985\" stroke-linecap=\"butt\" stroke-linejoin=\"miter\" stroke=\"rgb(0%, 0%, 100%)\" stroke-opacity=\"1\" stroke-miterlimit=\"10\" d=\"M 163.891466 90.017914 C 163.891466 91.117512 162.999266 92.009713 161.899668 92.009713 C 160.796156 92.009713 159.903956 91.117512 159.903956 90.017914 C 159.903956 88.918316 160.796156 88.026116 161.899668 88.026116 C 162.999266 88.026116 163.891466 88.918316 163.891466 90.017914 Z M 163.891466 90.017914 \" transform=\"matrix(0.998234, 0, 0, -0.998234, 59.581553, 147.882384)\"/>\n",
       "<g fill=\"rgb(0%, 0%, 0%)\" fill-opacity=\"1\">\n",
       "<use xlink:href=\"#glyph-2-0\" x=\"137.545628\" y=\"184.021451\"/>\n",
       "</g>\n",
       "<g fill=\"rgb(0%, 0%, 0%)\" fill-opacity=\"1\">\n",
       "<use xlink:href=\"#glyph-3-0\" x=\"11.41676\" y=\"119.618385\"/>\n",
       "</g>\n",
       "<g fill=\"rgb(0%, 0%, 0%)\" fill-opacity=\"1\">\n",
       "<use xlink:href=\"#glyph-4-0\" x=\"11.41676\" y=\"113.678893\"/>\n",
       "</g>\n",
       "<g fill=\"rgb(0%, 0%, 0%)\" fill-opacity=\"1\">\n",
       "<use xlink:href=\"#glyph-3-1\" x=\"11.41676\" y=\"109.811734\"/>\n",
       "</g>\n",
       "<g fill=\"rgb(0%, 0%, 0%)\" fill-opacity=\"1\">\n",
       "<use xlink:href=\"#glyph-4-1\" x=\"11.41676\" y=\"104.127789\"/>\n",
       "</g>\n",
       "<g fill=\"rgb(0%, 0%, 0%)\" fill-opacity=\"1\">\n",
       "<use xlink:href=\"#glyph-4-2\" x=\"11.41676\" y=\"97.495465\"/>\n",
       "</g>\n",
       "<g fill=\"rgb(0%, 0%, 0%)\" fill-opacity=\"1\">\n",
       "<use xlink:href=\"#glyph-3-1\" x=\"11.41676\" y=\"87.00009\"/>\n",
       "</g>\n",
       "<g fill=\"rgb(0%, 0%, 0%)\" fill-opacity=\"1\">\n",
       "<use xlink:href=\"#glyph-5-0\" x=\"7.808144\" y=\"81.316145\"/>\n",
       "</g>\n",
       "<g fill=\"rgb(0%, 0%, 0%)\" fill-opacity=\"1\">\n",
       "<use xlink:href=\"#glyph-6-0\" x=\"11.41676\" y=\"74.644947\"/>\n",
       "</g>\n",
       "<g fill=\"rgb(0%, 0%, 0%)\" fill-opacity=\"1\">\n",
       "<use xlink:href=\"#glyph-3-1\" x=\"11.41676\" y=\"64.699541\"/>\n",
       "</g>\n",
       "<g fill=\"rgb(0%, 0%, 0%)\" fill-opacity=\"1\">\n",
       "<use xlink:href=\"#glyph-4-3\" x=\"11.41676\" y=\"56.805506\"/>\n",
       "</g>\n",
       "<g fill=\"rgb(0%, 0%, 0%)\" fill-opacity=\"1\">\n",
       "<use xlink:href=\"#glyph-4-4\" x=\"11.41676\" y=\"46.862489\"/>\n",
       "</g>\n",
       "</svg>"
      ],
      "text/plain": [
       "<IPython.core.display.SVG object>"
      ]
     },
     "execution_count": 24,
     "metadata": {},
     "output_type": "execute_result"
    }
   ],
   "source": [
    "%%tikz -S=quadratic -s=quadratic.tikz -as=t -t=pgfplots -nt\n",
    "\\begin{axis}[\n",
    "  xlabel=$x$,\n",
    "  ylabel={$f(x) = x^2 - x +4$}\n",
    "]\n",
    "\\addplot {x^2 - x +4};\n",
    "\\end{axis}"
   ]
  },
  {
   "cell_type": "code",
   "execution_count": 25,
   "metadata": {},
   "outputs": [],
   "source": [
    "del os.environ[\"JUPYTER_TIKZ_SAVEDIR\"]"
   ]
  },
  {
   "cell_type": "markdown",
   "metadata": {},
   "source": [
    "## Input from other files"
   ]
  },
  {
   "cell_type": "markdown",
   "metadata": {},
   "source": [
    "You can load figures from a file using the LaTeX command `\\input`.\n",
    "\n",
    "First, we are going to create a file named `grid.tikz`:"
   ]
  },
  {
   "cell_type": "code",
   "execution_count": 26,
   "metadata": {},
   "outputs": [
    {
     "name": "stdout",
     "output_type": "stream",
     "text": [
      "Overwriting grid.tikz\n"
     ]
    }
   ],
   "source": [
    "%%writefile grid.tikz\n",
    "\\draw [style=help lines, step=2]        (-1,-1) grid    (+7,+7);\n",
    "\\draw [line width=0.5mm, fill=blue!40!white]  (+2,+2) rectangle (+4,+4);\n",
    " \n",
    "\\draw [blue!60!white] (  2,  2) node[anchor=north east] {$(i  ,j  )$};\n",
    "\\draw [blue!60!white] (  4,  2) node[anchor=north west] {$(i+1,j  )$};\n",
    "\\draw [blue!60!white] (  4,  4) node[anchor=south west] {$(i+1,j+1)$};\n",
    "\\draw [blue!60!white] (  2,  4) node[anchor=south east] {$(i  ,j+1)$};\n",
    "\n",
    "\\filldraw [color=gray]  (0,0) circle (.1);\n",
    "\\filldraw [color=gray]  (0,2) circle (.1);\n",
    "\\filldraw [color=gray]  (0,4) circle (.1);\n",
    "\\filldraw [color=gray]  (0,6) circle (.1);\n",
    "\\filldraw [color=gray]  (2,0) circle (.1);\n",
    "\\filldraw [color=black] (2,2) circle (.1);\n",
    "\\filldraw [color=black] (2,4) circle (.1);\n",
    "\\filldraw [color=gray]  (2,6) circle (.1);\n",
    "\\filldraw [color=gray]  (4,0) circle (.1);\n",
    "\\filldraw [color=black] (4,2) circle (.1);\n",
    "\\filldraw [color=black] (4,4) circle (.1);\n",
    "\\filldraw [color=gray]  (4,6) circle (.1);\n",
    "\\filldraw [color=gray]  (6,0) circle (.1);\n",
    "\\filldraw [color=gray]  (6,2) circle (.1);\n",
    "\\filldraw [color=gray]  (6,4) circle (.1);\n",
    "\\filldraw [color=gray]  (6,6) circle (.1);"
   ]
  },
  {
   "cell_type": "markdown",
   "metadata": {},
   "source": [
    "Then, load it using the `\\input` command:"
   ]
  },
  {
   "cell_type": "code",
   "execution_count": 27,
   "metadata": {},
   "outputs": [
    {
     "data": {
      "image/svg+xml": [
       "<svg xmlns=\"http://www.w3.org/2000/svg\" xmlns:xlink=\"http://www.w3.org/1999/xlink\" width=\"226.971\" height=\"226.971\" viewBox=\"0 0 226.971 226.971\">\n",
       "<defs>\n",
       "<g>\n",
       "<g id=\"glyph-0-0\">\n",
       "<path d=\"M 3.296875 2.390625 C 3.296875 2.359375 3.296875 2.34375 3.125 2.171875 C 1.890625 0.921875 1.5625 -0.96875 1.5625 -2.5 C 1.5625 -4.234375 1.9375 -5.96875 3.171875 -7.203125 C 3.296875 -7.328125 3.296875 -7.34375 3.296875 -7.375 C 3.296875 -7.453125 3.265625 -7.484375 3.203125 -7.484375 C 3.09375 -7.484375 2.203125 -6.796875 1.609375 -5.53125 C 1.109375 -4.4375 0.984375 -3.328125 0.984375 -2.5 C 0.984375 -1.71875 1.09375 -0.515625 1.640625 0.625 C 2.25 1.84375 3.09375 2.5 3.203125 2.5 C 3.265625 2.5 3.296875 2.46875 3.296875 2.390625 Z M 3.296875 2.390625 \"/>\n",
       "</g>\n",
       "<g id=\"glyph-0-1\">\n",
       "<path d=\"M 2.875 -2.5 C 2.875 -3.265625 2.765625 -4.46875 2.21875 -5.609375 C 1.625 -6.828125 0.765625 -7.484375 0.671875 -7.484375 C 0.609375 -7.484375 0.5625 -7.4375 0.5625 -7.375 C 0.5625 -7.34375 0.5625 -7.328125 0.75 -7.140625 C 1.734375 -6.15625 2.296875 -4.578125 2.296875 -2.5 C 2.296875 -0.78125 1.9375 0.96875 0.703125 2.21875 C 0.5625 2.34375 0.5625 2.359375 0.5625 2.390625 C 0.5625 2.453125 0.609375 2.5 0.671875 2.5 C 0.765625 2.5 1.671875 1.8125 2.25 0.546875 C 2.765625 -0.546875 2.875 -1.65625 2.875 -2.5 Z M 2.875 -2.5 \"/>\n",
       "</g>\n",
       "<g id=\"glyph-0-2\">\n",
       "<path d=\"M 4.078125 -2.296875 L 6.859375 -2.296875 C 7 -2.296875 7.1875 -2.296875 7.1875 -2.5 C 7.1875 -2.6875 7 -2.6875 6.859375 -2.6875 L 4.078125 -2.6875 L 4.078125 -5.484375 C 4.078125 -5.625 4.078125 -5.8125 3.875 -5.8125 C 3.671875 -5.8125 3.671875 -5.625 3.671875 -5.484375 L 3.671875 -2.6875 L 0.890625 -2.6875 C 0.75 -2.6875 0.5625 -2.6875 0.5625 -2.5 C 0.5625 -2.296875 0.75 -2.296875 0.890625 -2.296875 L 3.671875 -2.296875 L 3.671875 0.5 C 3.671875 0.640625 3.671875 0.828125 3.875 0.828125 C 4.078125 0.828125 4.078125 0.640625 4.078125 0.5 Z M 4.078125 -2.296875 \"/>\n",
       "</g>\n",
       "<g id=\"glyph-0-3\">\n",
       "<path d=\"M 2.9375 -6.375 C 2.9375 -6.625 2.9375 -6.640625 2.703125 -6.640625 C 2.078125 -6 1.203125 -6 0.890625 -6 L 0.890625 -5.6875 C 1.09375 -5.6875 1.671875 -5.6875 2.1875 -5.953125 L 2.1875 -0.78125 C 2.1875 -0.421875 2.15625 -0.3125 1.265625 -0.3125 L 0.953125 -0.3125 L 0.953125 0 C 1.296875 -0.03125 2.15625 -0.03125 2.5625 -0.03125 C 2.953125 -0.03125 3.828125 -0.03125 4.171875 0 L 4.171875 -0.3125 L 3.859375 -0.3125 C 2.953125 -0.3125 2.9375 -0.421875 2.9375 -0.78125 Z M 2.9375 -6.375 \"/>\n",
       "</g>\n",
       "<g id=\"glyph-1-0\">\n",
       "<path d=\"M 2.828125 -6.234375 C 2.828125 -6.4375 2.6875 -6.59375 2.46875 -6.59375 C 2.1875 -6.59375 1.921875 -6.328125 1.921875 -6.0625 C 1.921875 -5.875 2.0625 -5.703125 2.296875 -5.703125 C 2.53125 -5.703125 2.828125 -5.9375 2.828125 -6.234375 Z M 2.078125 -2.484375 C 2.1875 -2.765625 2.1875 -2.796875 2.296875 -3.0625 C 2.375 -3.265625 2.421875 -3.40625 2.421875 -3.59375 C 2.421875 -4.03125 2.109375 -4.40625 1.609375 -4.40625 C 0.671875 -4.40625 0.296875 -2.953125 0.296875 -2.875 C 0.296875 -2.765625 0.390625 -2.765625 0.40625 -2.765625 C 0.515625 -2.765625 0.515625 -2.796875 0.5625 -2.953125 C 0.84375 -3.890625 1.234375 -4.1875 1.578125 -4.1875 C 1.65625 -4.1875 1.828125 -4.1875 1.828125 -3.875 C 1.828125 -3.65625 1.75 -3.453125 1.71875 -3.34375 C 1.640625 -3.09375 1.1875 -1.9375 1.03125 -1.5 C 0.921875 -1.25 0.796875 -0.921875 0.796875 -0.703125 C 0.796875 -0.234375 1.140625 0.109375 1.609375 0.109375 C 2.546875 0.109375 2.921875 -1.328125 2.921875 -1.421875 C 2.921875 -1.53125 2.828125 -1.53125 2.796875 -1.53125 C 2.703125 -1.53125 2.703125 -1.5 2.65625 -1.34375 C 2.46875 -0.71875 2.140625 -0.109375 1.640625 -0.109375 C 1.46875 -0.109375 1.390625 -0.203125 1.390625 -0.4375 C 1.390625 -0.6875 1.453125 -0.828125 1.6875 -1.4375 Z M 2.078125 -2.484375 \"/>\n",
       "</g>\n",
       "<g id=\"glyph-1-1\">\n",
       "<path d=\"M 2.03125 -0.015625 C 2.03125 -0.671875 1.78125 -1.0625 1.390625 -1.0625 C 1.0625 -1.0625 0.859375 -0.8125 0.859375 -0.53125 C 0.859375 -0.265625 1.0625 0 1.390625 0 C 1.5 0 1.640625 -0.046875 1.734375 -0.125 C 1.765625 -0.15625 1.78125 -0.15625 1.78125 -0.15625 C 1.796875 -0.15625 1.796875 -0.15625 1.796875 -0.015625 C 1.796875 0.734375 1.453125 1.328125 1.125 1.65625 C 1.015625 1.765625 1.015625 1.78125 1.015625 1.8125 C 1.015625 1.890625 1.0625 1.921875 1.109375 1.921875 C 1.21875 1.921875 2.03125 1.15625 2.03125 -0.015625 Z M 2.03125 -0.015625 \"/>\n",
       "</g>\n",
       "<g id=\"glyph-1-2\">\n",
       "<path d=\"M 3.953125 -6.234375 C 3.953125 -6.421875 3.8125 -6.59375 3.578125 -6.59375 C 3.34375 -6.59375 3.046875 -6.359375 3.046875 -6.0625 C 3.046875 -5.859375 3.1875 -5.703125 3.421875 -5.703125 C 3.6875 -5.703125 3.953125 -5.96875 3.953125 -6.234375 Z M 1.953125 0.5 C 1.765625 1.25 1.28125 1.828125 0.734375 1.828125 C 0.671875 1.828125 0.515625 1.828125 0.34375 1.734375 C 0.640625 1.671875 0.78125 1.40625 0.78125 1.203125 C 0.78125 1.046875 0.671875 0.859375 0.40625 0.859375 C 0.15625 0.859375 -0.125 1.0625 -0.125 1.421875 C -0.125 1.828125 0.265625 2.046875 0.75 2.046875 C 1.453125 2.046875 2.375 1.515625 2.625 0.53125 L 3.53125 -3.125 C 3.59375 -3.3125 3.59375 -3.453125 3.59375 -3.484375 C 3.59375 -4.0625 3.171875 -4.40625 2.671875 -4.40625 C 1.65625 -4.40625 1.09375 -2.953125 1.09375 -2.875 C 1.09375 -2.765625 1.1875 -2.765625 1.203125 -2.765625 C 1.296875 -2.765625 1.3125 -2.78125 1.390625 -2.96875 C 1.640625 -3.578125 2.09375 -4.1875 2.640625 -4.1875 C 2.78125 -4.1875 2.953125 -4.140625 2.953125 -3.734375 C 2.953125 -3.5 2.9375 -3.390625 2.890625 -3.21875 Z M 1.953125 0.5 \"/>\n",
       "</g>\n",
       "</g>\n",
       "<clipPath id=\"clip-0\">\n",
       "<path clip-rule=\"nonzero\" d=\"M 0 0 L 226.941406 0 L 226.941406 226.941406 L 0 226.941406 Z M 0 0 \"/>\n",
       "</clipPath>\n",
       "</defs>\n",
       "<g clip-path=\"url(#clip-0)\">\n",
       "<path fill=\"none\" stroke-width=\"0.19925\" stroke-linecap=\"butt\" stroke-linejoin=\"miter\" stroke=\"rgb(50%, 50%, 50%)\" stroke-opacity=\"1\" stroke-miterlimit=\"10\" d=\"M -28.348331 -0.000362271 L 198.426734 -0.000362271 M -28.348331 56.694381 L 198.426734 56.694381 M -28.348331 113.389124 L 198.426734 113.389124 M -28.348331 170.07996 L 198.426734 170.07996 M -0.000959802 -28.347734 L -0.000959802 198.427331 M 56.693783 -28.347734 L 56.693783 198.427331 M 113.388526 -28.347734 L 113.388526 198.427331 M 170.079362 -28.347734 L 170.079362 198.427331 \" transform=\"matrix(0.999872, 0, 0, -0.999872, 28.442366, 198.499638)\"/>\n",
       "</g>\n",
       "<path fill-rule=\"nonzero\" fill=\"rgb(59.999084%, 59.999084%, 100%)\" fill-opacity=\"1\" stroke-width=\"1.41731\" stroke-linecap=\"butt\" stroke-linejoin=\"miter\" stroke=\"rgb(0%, 0%, 0%)\" stroke-opacity=\"1\" stroke-miterlimit=\"10\" d=\"M 56.693783 56.694381 L 56.693783 113.389124 L 113.388526 113.389124 L 113.388526 56.694381 Z M 56.693783 56.694381 \" transform=\"matrix(0.999872, 0, 0, -0.999872, 28.442366, 198.499638)\"/>\n",
       "<g fill=\"rgb(39.99939%, 39.99939%, 100%)\" fill-opacity=\"1\">\n",
       "<use xlink:href=\"#glyph-0-0\" x=\"61.329164\" y=\"152.804476\"/>\n",
       "</g>\n",
       "<g fill=\"rgb(39.99939%, 39.99939%, 100%)\" fill-opacity=\"1\">\n",
       "<use xlink:href=\"#glyph-1-0\" x=\"65.203669\" y=\"152.804476\"/>\n",
       "<use xlink:href=\"#glyph-1-1\" x=\"68.635346\" y=\"152.804476\"/>\n",
       "</g>\n",
       "<g fill=\"rgb(39.99939%, 39.99939%, 100%)\" fill-opacity=\"1\">\n",
       "<use xlink:href=\"#glyph-1-2\" x=\"73.066145\" y=\"152.804476\"/>\n",
       "</g>\n",
       "<g fill=\"rgb(39.99939%, 39.99939%, 100%)\" fill-opacity=\"1\">\n",
       "<use xlink:href=\"#glyph-0-1\" x=\"77.735068\" y=\"152.804476\"/>\n",
       "</g>\n",
       "<g fill=\"rgb(39.99939%, 39.99939%, 100%)\" fill-opacity=\"1\">\n",
       "<use xlink:href=\"#glyph-0-0\" x=\"145.333431\" y=\"152.804476\"/>\n",
       "</g>\n",
       "<g fill=\"rgb(39.99939%, 39.99939%, 100%)\" fill-opacity=\"1\">\n",
       "<use xlink:href=\"#glyph-1-0\" x=\"149.206936\" y=\"152.804476\"/>\n",
       "</g>\n",
       "<g fill=\"rgb(39.99939%, 39.99939%, 100%)\" fill-opacity=\"1\">\n",
       "<use xlink:href=\"#glyph-0-2\" x=\"154.852215\" y=\"152.804476\"/>\n",
       "</g>\n",
       "<g fill=\"rgb(39.99939%, 39.99939%, 100%)\" fill-opacity=\"1\">\n",
       "<use xlink:href=\"#glyph-0-3\" x=\"164.81155\" y=\"152.804476\"/>\n",
       "</g>\n",
       "<g fill=\"rgb(39.99939%, 39.99939%, 100%)\" fill-opacity=\"1\">\n",
       "<use xlink:href=\"#glyph-1-1\" x=\"169.794305\" y=\"152.804476\"/>\n",
       "</g>\n",
       "<g fill=\"rgb(39.99939%, 39.99939%, 100%)\" fill-opacity=\"1\">\n",
       "<use xlink:href=\"#glyph-1-2\" x=\"174.225104\" y=\"152.804476\"/>\n",
       "</g>\n",
       "<g fill=\"rgb(39.99939%, 39.99939%, 100%)\" fill-opacity=\"1\">\n",
       "<use xlink:href=\"#glyph-0-1\" x=\"178.894143\" y=\"152.804476\"/>\n",
       "</g>\n",
       "<g fill=\"rgb(39.99939%, 39.99939%, 100%)\" fill-opacity=\"1\">\n",
       "<use xlink:href=\"#glyph-0-0\" x=\"145.333431\" y=\"79.118891\"/>\n",
       "</g>\n",
       "<g fill=\"rgb(39.99939%, 39.99939%, 100%)\" fill-opacity=\"1\">\n",
       "<use xlink:href=\"#glyph-1-0\" x=\"149.206936\" y=\"79.118891\"/>\n",
       "</g>\n",
       "<g fill=\"rgb(39.99939%, 39.99939%, 100%)\" fill-opacity=\"1\">\n",
       "<use xlink:href=\"#glyph-0-2\" x=\"154.852215\" y=\"79.118891\"/>\n",
       "</g>\n",
       "<g fill=\"rgb(39.99939%, 39.99939%, 100%)\" fill-opacity=\"1\">\n",
       "<use xlink:href=\"#glyph-0-3\" x=\"164.81155\" y=\"79.118891\"/>\n",
       "</g>\n",
       "<g fill=\"rgb(39.99939%, 39.99939%, 100%)\" fill-opacity=\"1\">\n",
       "<use xlink:href=\"#glyph-1-1\" x=\"169.794305\" y=\"79.118891\"/>\n",
       "</g>\n",
       "<g fill=\"rgb(39.99939%, 39.99939%, 100%)\" fill-opacity=\"1\">\n",
       "<use xlink:href=\"#glyph-1-2\" x=\"174.225104\" y=\"79.118891\"/>\n",
       "</g>\n",
       "<g fill=\"rgb(39.99939%, 39.99939%, 100%)\" fill-opacity=\"1\">\n",
       "<use xlink:href=\"#glyph-0-2\" x=\"181.10786\" y=\"79.118891\"/>\n",
       "</g>\n",
       "<g fill=\"rgb(39.99939%, 39.99939%, 100%)\" fill-opacity=\"1\">\n",
       "<use xlink:href=\"#glyph-0-3\" x=\"191.067195\" y=\"79.118891\"/>\n",
       "<use xlink:href=\"#glyph-0-1\" x=\"196.047859\" y=\"79.118891\"/>\n",
       "</g>\n",
       "<g fill=\"rgb(39.99939%, 39.99939%, 100%)\" fill-opacity=\"1\">\n",
       "<use xlink:href=\"#glyph-0-0\" x=\"44.174356\" y=\"79.118891\"/>\n",
       "</g>\n",
       "<g fill=\"rgb(39.99939%, 39.99939%, 100%)\" fill-opacity=\"1\">\n",
       "<use xlink:href=\"#glyph-1-0\" x=\"48.047861\" y=\"79.118891\"/>\n",
       "<use xlink:href=\"#glyph-1-1\" x=\"51.479538\" y=\"79.118891\"/>\n",
       "</g>\n",
       "<g fill=\"rgb(39.99939%, 39.99939%, 100%)\" fill-opacity=\"1\">\n",
       "<use xlink:href=\"#glyph-1-2\" x=\"55.910337\" y=\"79.118891\"/>\n",
       "</g>\n",
       "<g fill=\"rgb(39.99939%, 39.99939%, 100%)\" fill-opacity=\"1\">\n",
       "<use xlink:href=\"#glyph-0-2\" x=\"62.792977\" y=\"79.118891\"/>\n",
       "</g>\n",
       "<g fill=\"rgb(39.99939%, 39.99939%, 100%)\" fill-opacity=\"1\">\n",
       "<use xlink:href=\"#glyph-0-3\" x=\"72.752312\" y=\"79.118891\"/>\n",
       "<use xlink:href=\"#glyph-0-1\" x=\"77.732976\" y=\"79.118891\"/>\n",
       "</g>\n",
       "<path fill-rule=\"nonzero\" fill=\"rgb(50%, 50%, 50%)\" fill-opacity=\"1\" stroke-width=\"0.3985\" stroke-linecap=\"butt\" stroke-linejoin=\"miter\" stroke=\"rgb(50%, 50%, 50%)\" stroke-opacity=\"1\" stroke-miterlimit=\"10\" d=\"M 2.83534 -0.000362271 C 2.83534 1.566244 1.565647 2.835938 -0.000959802 2.835938 C -1.567566 2.835938 -2.833353 1.566244 -2.833353 -0.000362271 C -2.833353 -1.566969 -1.567566 -2.836662 -0.000959802 -2.836662 C 1.565647 -2.836662 2.83534 -1.566969 2.83534 -0.000362271 Z M 2.83534 -0.000362271 \" transform=\"matrix(0.999872, 0, 0, -0.999872, 28.442366, 198.499638)\"/>\n",
       "<path fill-rule=\"nonzero\" fill=\"rgb(50%, 50%, 50%)\" fill-opacity=\"1\" stroke-width=\"0.3985\" stroke-linecap=\"butt\" stroke-linejoin=\"miter\" stroke=\"rgb(50%, 50%, 50%)\" stroke-opacity=\"1\" stroke-miterlimit=\"10\" d=\"M 2.83534 56.694381 C 2.83534 58.260987 1.565647 59.526774 -0.000959802 59.526774 C -1.567566 59.526774 -2.833353 58.260987 -2.833353 56.694381 C -2.833353 55.127774 -1.567566 53.858081 -0.000959802 53.858081 C 1.565647 53.858081 2.83534 55.127774 2.83534 56.694381 Z M 2.83534 56.694381 \" transform=\"matrix(0.999872, 0, 0, -0.999872, 28.442366, 198.499638)\"/>\n",
       "<path fill-rule=\"nonzero\" fill=\"rgb(50%, 50%, 50%)\" fill-opacity=\"1\" stroke-width=\"0.3985\" stroke-linecap=\"butt\" stroke-linejoin=\"miter\" stroke=\"rgb(50%, 50%, 50%)\" stroke-opacity=\"1\" stroke-miterlimit=\"10\" d=\"M 2.83534 113.389124 C 2.83534 114.951823 1.565647 116.221517 -0.000959802 116.221517 C -1.567566 116.221517 -2.833353 114.951823 -2.833353 113.389124 C -2.833353 111.822517 -1.567566 110.552824 -0.000959802 110.552824 C 1.565647 110.552824 2.83534 111.822517 2.83534 113.389124 Z M 2.83534 113.389124 \" transform=\"matrix(0.999872, 0, 0, -0.999872, 28.442366, 198.499638)\"/>\n",
       "<path fill-rule=\"nonzero\" fill=\"rgb(50%, 50%, 50%)\" fill-opacity=\"1\" stroke-width=\"0.3985\" stroke-linecap=\"butt\" stroke-linejoin=\"miter\" stroke=\"rgb(50%, 50%, 50%)\" stroke-opacity=\"1\" stroke-miterlimit=\"10\" d=\"M 2.83534 170.07996 C 2.83534 171.646566 1.565647 172.91626 -0.000959802 172.91626 C -1.567566 172.91626 -2.833353 171.646566 -2.833353 170.07996 C -2.833353 168.513353 -1.567566 167.247567 -0.000959802 167.247567 C 1.565647 167.247567 2.83534 168.513353 2.83534 170.07996 Z M 2.83534 170.07996 \" transform=\"matrix(0.999872, 0, 0, -0.999872, 28.442366, 198.499638)\"/>\n",
       "<path fill-rule=\"nonzero\" fill=\"rgb(50%, 50%, 50%)\" fill-opacity=\"1\" stroke-width=\"0.3985\" stroke-linecap=\"butt\" stroke-linejoin=\"miter\" stroke=\"rgb(50%, 50%, 50%)\" stroke-opacity=\"1\" stroke-miterlimit=\"10\" d=\"M 59.530083 -0.000362271 C 59.530083 1.566244 58.26039 2.835938 56.693783 2.835938 C 55.127177 2.835938 53.857483 1.566244 53.857483 -0.000362271 C 53.857483 -1.566969 55.127177 -2.836662 56.693783 -2.836662 C 58.26039 -2.836662 59.530083 -1.566969 59.530083 -0.000362271 Z M 59.530083 -0.000362271 \" transform=\"matrix(0.999872, 0, 0, -0.999872, 28.442366, 198.499638)\"/>\n",
       "<path fill-rule=\"nonzero\" fill=\"rgb(0%, 0%, 0%)\" fill-opacity=\"1\" stroke-width=\"0.3985\" stroke-linecap=\"butt\" stroke-linejoin=\"miter\" stroke=\"rgb(0%, 0%, 0%)\" stroke-opacity=\"1\" stroke-miterlimit=\"10\" d=\"M 59.530083 56.694381 C 59.530083 58.260987 58.26039 59.526774 56.693783 59.526774 C 55.127177 59.526774 53.857483 58.260987 53.857483 56.694381 C 53.857483 55.127774 55.127177 53.858081 56.693783 53.858081 C 58.26039 53.858081 59.530083 55.127774 59.530083 56.694381 Z M 59.530083 56.694381 \" transform=\"matrix(0.999872, 0, 0, -0.999872, 28.442366, 198.499638)\"/>\n",
       "<path fill-rule=\"nonzero\" fill=\"rgb(0%, 0%, 0%)\" fill-opacity=\"1\" stroke-width=\"0.3985\" stroke-linecap=\"butt\" stroke-linejoin=\"miter\" stroke=\"rgb(0%, 0%, 0%)\" stroke-opacity=\"1\" stroke-miterlimit=\"10\" d=\"M 59.530083 113.389124 C 59.530083 114.951823 58.26039 116.221517 56.693783 116.221517 C 55.127177 116.221517 53.857483 114.951823 53.857483 113.389124 C 53.857483 111.822517 55.127177 110.552824 56.693783 110.552824 C 58.26039 110.552824 59.530083 111.822517 59.530083 113.389124 Z M 59.530083 113.389124 \" transform=\"matrix(0.999872, 0, 0, -0.999872, 28.442366, 198.499638)\"/>\n",
       "<path fill-rule=\"nonzero\" fill=\"rgb(50%, 50%, 50%)\" fill-opacity=\"1\" stroke-width=\"0.3985\" stroke-linecap=\"butt\" stroke-linejoin=\"miter\" stroke=\"rgb(50%, 50%, 50%)\" stroke-opacity=\"1\" stroke-miterlimit=\"10\" d=\"M 59.530083 170.07996 C 59.530083 171.646566 58.26039 172.91626 56.693783 172.91626 C 55.127177 172.91626 53.857483 171.646566 53.857483 170.07996 C 53.857483 168.513353 55.127177 167.247567 56.693783 167.247567 C 58.26039 167.247567 59.530083 168.513353 59.530083 170.07996 Z M 59.530083 170.07996 \" transform=\"matrix(0.999872, 0, 0, -0.999872, 28.442366, 198.499638)\"/>\n",
       "<path fill-rule=\"nonzero\" fill=\"rgb(50%, 50%, 50%)\" fill-opacity=\"1\" stroke-width=\"0.3985\" stroke-linecap=\"butt\" stroke-linejoin=\"miter\" stroke=\"rgb(50%, 50%, 50%)\" stroke-opacity=\"1\" stroke-miterlimit=\"10\" d=\"M 116.220919 -0.000362271 C 116.220919 1.566244 114.951226 2.835938 113.388526 2.835938 C 111.82192 2.835938 110.552226 1.566244 110.552226 -0.000362271 C 110.552226 -1.566969 111.82192 -2.836662 113.388526 -2.836662 C 114.951226 -2.836662 116.220919 -1.566969 116.220919 -0.000362271 Z M 116.220919 -0.000362271 \" transform=\"matrix(0.999872, 0, 0, -0.999872, 28.442366, 198.499638)\"/>\n",
       "<path fill-rule=\"nonzero\" fill=\"rgb(0%, 0%, 0%)\" fill-opacity=\"1\" stroke-width=\"0.3985\" stroke-linecap=\"butt\" stroke-linejoin=\"miter\" stroke=\"rgb(0%, 0%, 0%)\" stroke-opacity=\"1\" stroke-miterlimit=\"10\" d=\"M 116.220919 56.694381 C 116.220919 58.260987 114.951226 59.526774 113.388526 59.526774 C 111.82192 59.526774 110.552226 58.260987 110.552226 56.694381 C 110.552226 55.127774 111.82192 53.858081 113.388526 53.858081 C 114.951226 53.858081 116.220919 55.127774 116.220919 56.694381 Z M 116.220919 56.694381 \" transform=\"matrix(0.999872, 0, 0, -0.999872, 28.442366, 198.499638)\"/>\n",
       "<path fill-rule=\"nonzero\" fill=\"rgb(0%, 0%, 0%)\" fill-opacity=\"1\" stroke-width=\"0.3985\" stroke-linecap=\"butt\" stroke-linejoin=\"miter\" stroke=\"rgb(0%, 0%, 0%)\" stroke-opacity=\"1\" stroke-miterlimit=\"10\" d=\"M 116.220919 113.389124 C 116.220919 114.951823 114.951226 116.221517 113.388526 116.221517 C 111.82192 116.221517 110.552226 114.951823 110.552226 113.389124 C 110.552226 111.822517 111.82192 110.552824 113.388526 110.552824 C 114.951226 110.552824 116.220919 111.822517 116.220919 113.389124 Z M 116.220919 113.389124 \" transform=\"matrix(0.999872, 0, 0, -0.999872, 28.442366, 198.499638)\"/>\n",
       "<path fill-rule=\"nonzero\" fill=\"rgb(50%, 50%, 50%)\" fill-opacity=\"1\" stroke-width=\"0.3985\" stroke-linecap=\"butt\" stroke-linejoin=\"miter\" stroke=\"rgb(50%, 50%, 50%)\" stroke-opacity=\"1\" stroke-miterlimit=\"10\" d=\"M 116.220919 170.07996 C 116.220919 171.646566 114.951226 172.91626 113.388526 172.91626 C 111.82192 172.91626 110.552226 171.646566 110.552226 170.07996 C 110.552226 168.513353 111.82192 167.247567 113.388526 167.247567 C 114.951226 167.247567 116.220919 168.513353 116.220919 170.07996 Z M 116.220919 170.07996 \" transform=\"matrix(0.999872, 0, 0, -0.999872, 28.442366, 198.499638)\"/>\n",
       "<path fill-rule=\"nonzero\" fill=\"rgb(50%, 50%, 50%)\" fill-opacity=\"1\" stroke-width=\"0.3985\" stroke-linecap=\"butt\" stroke-linejoin=\"miter\" stroke=\"rgb(50%, 50%, 50%)\" stroke-opacity=\"1\" stroke-miterlimit=\"10\" d=\"M 172.915662 -0.000362271 C 172.915662 1.566244 171.645969 2.835938 170.079362 2.835938 C 168.516663 2.835938 167.246969 1.566244 167.246969 -0.000362271 C 167.246969 -1.566969 168.516663 -2.836662 170.079362 -2.836662 C 171.645969 -2.836662 172.915662 -1.566969 172.915662 -0.000362271 Z M 172.915662 -0.000362271 \" transform=\"matrix(0.999872, 0, 0, -0.999872, 28.442366, 198.499638)\"/>\n",
       "<path fill-rule=\"nonzero\" fill=\"rgb(50%, 50%, 50%)\" fill-opacity=\"1\" stroke-width=\"0.3985\" stroke-linecap=\"butt\" stroke-linejoin=\"miter\" stroke=\"rgb(50%, 50%, 50%)\" stroke-opacity=\"1\" stroke-miterlimit=\"10\" d=\"M 172.915662 56.694381 C 172.915662 58.260987 171.645969 59.526774 170.079362 59.526774 C 168.516663 59.526774 167.246969 58.260987 167.246969 56.694381 C 167.246969 55.127774 168.516663 53.858081 170.079362 53.858081 C 171.645969 53.858081 172.915662 55.127774 172.915662 56.694381 Z M 172.915662 56.694381 \" transform=\"matrix(0.999872, 0, 0, -0.999872, 28.442366, 198.499638)\"/>\n",
       "<path fill-rule=\"nonzero\" fill=\"rgb(50%, 50%, 50%)\" fill-opacity=\"1\" stroke-width=\"0.3985\" stroke-linecap=\"butt\" stroke-linejoin=\"miter\" stroke=\"rgb(50%, 50%, 50%)\" stroke-opacity=\"1\" stroke-miterlimit=\"10\" d=\"M 172.915662 113.389124 C 172.915662 114.951823 171.645969 116.221517 170.079362 116.221517 C 168.516663 116.221517 167.246969 114.951823 167.246969 113.389124 C 167.246969 111.822517 168.516663 110.552824 170.079362 110.552824 C 171.645969 110.552824 172.915662 111.822517 172.915662 113.389124 Z M 172.915662 113.389124 \" transform=\"matrix(0.999872, 0, 0, -0.999872, 28.442366, 198.499638)\"/>\n",
       "<path fill-rule=\"nonzero\" fill=\"rgb(50%, 50%, 50%)\" fill-opacity=\"1\" stroke-width=\"0.3985\" stroke-linecap=\"butt\" stroke-linejoin=\"miter\" stroke=\"rgb(50%, 50%, 50%)\" stroke-opacity=\"1\" stroke-miterlimit=\"10\" d=\"M 172.915662 170.07996 C 172.915662 171.646566 171.645969 172.91626 170.079362 172.91626 C 168.516663 172.91626 167.246969 171.646566 167.246969 170.07996 C 167.246969 168.513353 168.516663 167.247567 170.079362 167.247567 C 171.645969 167.247567 172.915662 168.513353 172.915662 170.07996 Z M 172.915662 170.07996 \" transform=\"matrix(0.999872, 0, 0, -0.999872, 28.442366, 198.499638)\"/>\n",
       "</svg>"
      ],
      "text/plain": [
       "<IPython.core.display.SVG object>"
      ]
     },
     "execution_count": 27,
     "metadata": {},
     "output_type": "execute_result"
    }
   ],
   "source": [
    "%%tikz -as=t\n",
    "\\input{grid.tikz}"
   ]
  },
  {
   "cell_type": "markdown",
   "metadata": {},
   "source": [
    "You can import external data using PGFPlots `table {...}`:"
   ]
  },
  {
   "cell_type": "code",
   "execution_count": 28,
   "metadata": {},
   "outputs": [],
   "source": [
    "# import pandas as pd\n",
    "# import numpy as np\n",
    "\n",
    "# t = np.linspace(0,1)\n",
    "# x = np.sin(2*np.pi*t)+0.1*np.random.rand(*t.shape)\n",
    "\n",
    "# df = pd.DataFrame(dict(x=x), t).rename_axis(index='t')\n",
    "# display(df.head(5))\n",
    "# df.to_csv('data.tsv', sep=\" \")"
   ]
  },
  {
   "cell_type": "code",
   "execution_count": 29,
   "metadata": {},
   "outputs": [
    {
     "data": {
      "image/svg+xml": [
       "<svg xmlns=\"http://www.w3.org/2000/svg\" xmlns:xlink=\"http://www.w3.org/1999/xlink\" width=\"496.636\" height=\"429.625\" viewBox=\"0 0 496.636 429.625\">\n",
       "<defs>\n",
       "<g>\n",
       "<g id=\"glyph-0-0\">\n",
       "<path d=\"M 9.15625 -6.375 C 9.15625 -7.96875 9.0625 -9.5625 8.359375 -11.03125 C 7.4375 -12.9375 5.8125 -13.25 4.984375 -13.25 C 3.78125 -13.25 2.328125 -12.734375 1.515625 -10.890625 C 0.875 -9.515625 0.78125 -7.96875 0.78125 -6.375 C 0.78125 -4.875 0.859375 -3.078125 1.671875 -1.578125 C 2.53125 0.046875 3.984375 0.4375 4.953125 0.4375 C 6.03125 0.4375 7.546875 0.015625 8.421875 -1.875 C 9.0625 -3.25 9.15625 -4.796875 9.15625 -6.375 Z M 4.953125 0 C 4.1875 0 3 -0.5 2.640625 -2.40625 C 2.421875 -3.609375 2.421875 -5.4375 2.421875 -6.609375 C 2.421875 -7.890625 2.421875 -9.203125 2.59375 -10.265625 C 2.96875 -12.640625 4.453125 -12.8125 4.953125 -12.8125 C 5.609375 -12.8125 6.921875 -12.46875 7.3125 -10.484375 C 7.5 -9.375 7.5 -7.859375 7.5 -6.609375 C 7.5 -5.109375 7.5 -3.765625 7.28125 -2.484375 C 6.984375 -0.59375 5.859375 0 4.953125 0 Z M 4.953125 0 \"/>\n",
       "</g>\n",
       "<g id=\"glyph-0-1\">\n",
       "<path d=\"M 2.53125 -1.53125 L 4.640625 -3.578125 C 7.75 -6.328125 8.9375 -7.40625 8.9375 -9.390625 C 8.9375 -11.671875 7.140625 -13.25 4.71875 -13.25 C 2.46875 -13.25 1 -11.421875 1 -9.65625 C 1 -8.546875 1.984375 -8.546875 2.046875 -8.546875 C 2.390625 -8.546875 3.078125 -8.78125 3.078125 -9.59375 C 3.078125 -10.109375 2.734375 -10.625 2.03125 -10.625 C 1.875 -10.625 1.828125 -10.625 1.765625 -10.609375 C 2.234375 -11.90625 3.296875 -12.640625 4.453125 -12.640625 C 6.265625 -12.640625 7.125 -11.03125 7.125 -9.390625 C 7.125 -7.796875 6.125 -6.234375 5.03125 -5 L 1.21875 -0.734375 C 1 -0.515625 1 -0.484375 1 0 L 8.375 0 L 8.9375 -3.46875 L 8.4375 -3.46875 C 8.34375 -2.859375 8.203125 -1.984375 8 -1.6875 C 7.859375 -1.53125 6.546875 -1.53125 6.109375 -1.53125 Z M 2.53125 -1.53125 \"/>\n",
       "</g>\n",
       "<g id=\"glyph-0-2\">\n",
       "<path d=\"M 5.859375 -3.28125 L 5.859375 -1.546875 C 5.859375 -0.84375 5.8125 -0.609375 4.34375 -0.609375 L 3.921875 -0.609375 L 3.921875 0 C 4.734375 -0.0625 5.765625 -0.0625 6.609375 -0.0625 C 7.4375 -0.0625 8.5 -0.0625 9.3125 0 L 9.3125 -0.609375 L 8.890625 -0.609375 C 7.421875 -0.609375 7.390625 -0.84375 7.390625 -1.546875 L 7.390625 -3.28125 L 9.375 -3.28125 L 9.375 -3.90625 L 7.390625 -3.90625 L 7.390625 -12.953125 C 7.390625 -13.359375 7.390625 -13.46875 7.0625 -13.46875 C 6.890625 -13.46875 6.828125 -13.46875 6.671875 -13.234375 L 0.5625 -3.90625 L 0.5625 -3.28125 Z M 5.96875 -3.90625 L 1.109375 -3.90625 L 5.96875 -11.328125 Z M 5.96875 -3.90625 \"/>\n",
       "</g>\n",
       "<g id=\"glyph-0-3\">\n",
       "<path d=\"M 2.625 -6.53125 L 2.625 -7 C 2.625 -12.046875 5.09375 -12.765625 6.109375 -12.765625 C 6.59375 -12.765625 7.421875 -12.640625 7.859375 -11.96875 C 7.5625 -11.96875 6.765625 -11.96875 6.765625 -11.0625 C 6.765625 -10.453125 7.25 -10.15625 7.6875 -10.15625 C 8 -10.15625 8.59375 -10.328125 8.59375 -11.109375 C 8.59375 -12.296875 7.71875 -13.25 6.078125 -13.25 C 3.515625 -13.25 0.84375 -10.6875 0.84375 -6.296875 C 0.84375 -0.96875 3.140625 0.4375 5 0.4375 C 7.203125 0.4375 9.09375 -1.4375 9.09375 -4.0625 C 9.09375 -6.59375 7.328125 -8.5 5.109375 -8.5 C 3.765625 -8.5 3.03125 -7.484375 2.625 -6.53125 Z M 5 -0.125 C 3.75 -0.125 3.140625 -1.3125 3.03125 -1.609375 C 2.671875 -2.546875 2.671875 -4.140625 2.671875 -4.5 C 2.671875 -6.046875 3.296875 -8.046875 5.09375 -8.046875 C 5.421875 -8.046875 6.328125 -8.046875 6.953125 -6.8125 C 7.3125 -6.078125 7.3125 -5.0625 7.3125 -4.078125 C 7.3125 -3.125 7.3125 -2.125 6.96875 -1.40625 C 6.375 -0.21875 5.453125 -0.125 5 -0.125 Z M 5 -0.125 \"/>\n",
       "</g>\n",
       "<g id=\"glyph-0-4\">\n",
       "<path d=\"M 3.25 -9.09375 C 2.328125 -9.6875 2.25 -10.375 2.25 -10.703125 C 2.25 -11.921875 3.546875 -12.765625 4.953125 -12.765625 C 6.40625 -12.765625 7.6875 -11.71875 7.6875 -10.296875 C 7.6875 -9.15625 6.90625 -8.203125 5.71875 -7.5 Z M 6.15625 -7.203125 C 7.578125 -7.9375 8.5625 -8.984375 8.5625 -10.296875 C 8.5625 -12.125 6.78125 -13.25 4.984375 -13.25 C 2.984375 -13.25 1.375 -11.78125 1.375 -9.9375 C 1.375 -9.578125 1.40625 -8.671875 2.25 -7.75 C 2.46875 -7.5 3.203125 -7 3.703125 -6.671875 C 2.546875 -6.09375 0.84375 -4.984375 0.84375 -3 C 0.84375 -0.890625 2.859375 0.4375 4.953125 0.4375 C 7.203125 0.4375 9.09375 -1.21875 9.09375 -3.34375 C 9.09375 -4.0625 8.875 -4.953125 8.125 -5.796875 C 7.75 -6.203125 7.421875 -6.40625 6.15625 -7.203125 Z M 4.15625 -6.375 L 6.609375 -4.8125 C 7.171875 -4.4375 8.109375 -3.84375 8.109375 -2.625 C 8.109375 -1.15625 6.609375 -0.125 4.984375 -0.125 C 3.265625 -0.125 1.828125 -1.359375 1.828125 -3 C 1.828125 -4.15625 2.46875 -5.4375 4.15625 -6.375 Z M 4.15625 -6.375 \"/>\n",
       "</g>\n",
       "<g id=\"glyph-0-5\">\n",
       "<path d=\"M 5.859375 -12.734375 C 5.859375 -13.21875 5.859375 -13.25 5.390625 -13.25 C 4.15625 -11.984375 2.40625 -11.984375 1.765625 -11.984375 L 1.765625 -11.359375 C 2.171875 -11.359375 3.34375 -11.359375 4.375 -11.890625 L 4.375 -1.578125 C 4.375 -0.859375 4.3125 -0.609375 2.53125 -0.609375 L 1.890625 -0.609375 L 1.890625 0 C 2.59375 -0.0625 4.3125 -0.0625 5.109375 -0.0625 C 5.90625 -0.0625 7.640625 -0.0625 8.34375 0 L 8.34375 -0.609375 L 7.703125 -0.609375 C 5.90625 -0.609375 5.859375 -0.84375 5.859375 -1.578125 Z M 5.859375 -12.734375 \"/>\n",
       "</g>\n",
       "<g id=\"glyph-0-6\">\n",
       "<path d=\"M 8.9375 -4 C 8.9375 -6.375 7.3125 -8.359375 5.15625 -8.359375 C 4.203125 -8.359375 3.34375 -8.046875 2.625 -7.34375 L 2.625 -11.234375 C 3.03125 -11.109375 3.6875 -10.96875 4.3125 -10.96875 C 6.765625 -10.96875 8.15625 -12.78125 8.15625 -13.03125 C 8.15625 -13.15625 8.109375 -13.25 7.96875 -13.25 C 7.9375 -13.25 7.90625 -13.25 7.796875 -13.203125 C 7.40625 -13.015625 6.4375 -12.625 5.09375 -12.625 C 4.296875 -12.625 3.390625 -12.765625 2.453125 -13.171875 C 2.296875 -13.234375 2.25 -13.234375 2.203125 -13.234375 C 2.015625 -13.234375 2.015625 -13.078125 2.015625 -12.765625 L 2.015625 -6.875 C 2.015625 -6.515625 2.015625 -6.34375 2.296875 -6.34375 C 2.421875 -6.34375 2.46875 -6.40625 2.546875 -6.53125 C 2.765625 -6.84375 3.5 -7.921875 5.109375 -7.921875 C 6.15625 -7.921875 6.65625 -7 6.8125 -6.65625 C 7.125 -5.90625 7.171875 -5.140625 7.171875 -4.140625 C 7.171875 -3.4375 7.171875 -2.25 6.6875 -1.40625 C 6.203125 -0.640625 5.46875 -0.125 4.5625 -0.125 C 3.109375 -0.125 1.96875 -1.171875 1.625 -2.34375 C 1.6875 -2.328125 1.75 -2.3125 1.96875 -2.3125 C 2.625 -2.3125 2.96875 -2.8125 2.96875 -3.28125 C 2.96875 -3.765625 2.625 -4.265625 1.96875 -4.265625 C 1.6875 -4.265625 1 -4.125 1 -3.203125 C 1 -1.5 2.375 0.4375 4.59375 0.4375 C 6.90625 0.4375 8.9375 -1.46875 8.9375 -4 Z M 8.9375 -4 \"/>\n",
       "</g>\n",
       "<g id=\"glyph-0-7\">\n",
       "<path d=\"M 6.59375 4.78125 C 6.59375 4.71875 6.59375 4.671875 6.25 4.34375 C 3.765625 1.828125 3.125 -1.9375 3.125 -4.984375 C 3.125 -8.4375 3.875 -11.90625 6.328125 -14.390625 C 6.59375 -14.625 6.59375 -14.671875 6.59375 -14.734375 C 6.59375 -14.875 6.515625 -14.9375 6.390625 -14.9375 C 6.1875 -14.9375 4.40625 -13.578125 3.21875 -11.046875 C 2.203125 -8.859375 1.96875 -6.65625 1.96875 -4.984375 C 1.96875 -3.421875 2.1875 -1.015625 3.28125 1.234375 C 4.484375 3.6875 6.1875 4.984375 6.390625 4.984375 C 6.515625 4.984375 6.59375 4.921875 6.59375 4.78125 Z M 6.59375 4.78125 \"/>\n",
       "</g>\n",
       "<g id=\"glyph-0-8\">\n",
       "<path d=\"M 2.1875 -6.84375 L 2.1875 -1.515625 C 2.1875 -0.609375 1.96875 -0.609375 0.640625 -0.609375 L 0.640625 0 C 1.328125 -0.015625 2.34375 -0.0625 2.890625 -0.0625 C 3.40625 -0.0625 4.4375 -0.015625 5.109375 0 L 5.109375 -0.609375 C 3.78125 -0.609375 3.5625 -0.609375 3.5625 -1.515625 L 3.5625 -5.171875 C 3.5625 -7.25 4.984375 -8.359375 6.25 -8.359375 C 7.5 -8.359375 7.71875 -7.28125 7.71875 -6.15625 L 7.71875 -1.515625 C 7.71875 -0.609375 7.5 -0.609375 6.171875 -0.609375 L 6.171875 0 C 6.875 -0.015625 7.890625 -0.0625 8.421875 -0.0625 C 8.9375 -0.0625 9.96875 -0.015625 10.65625 0 L 10.65625 -0.609375 C 9.3125 -0.609375 9.09375 -0.609375 9.09375 -1.515625 L 9.09375 -5.171875 C 9.09375 -7.25 10.515625 -8.359375 11.78125 -8.359375 C 13.03125 -8.359375 13.25 -7.28125 13.25 -6.15625 L 13.25 -1.515625 C 13.25 -0.609375 13.03125 -0.609375 11.703125 -0.609375 L 11.703125 0 C 12.40625 -0.015625 13.421875 -0.0625 13.953125 -0.0625 C 14.46875 -0.0625 15.5 -0.015625 16.1875 0 L 16.1875 -0.609375 C 15.15625 -0.609375 14.65625 -0.609375 14.625 -1.21875 L 14.625 -5.015625 C 14.625 -6.734375 14.625 -7.34375 14.015625 -8.0625 C 13.734375 -8.40625 13.078125 -8.796875 11.921875 -8.796875 C 10.25 -8.796875 9.375 -7.609375 9.03125 -6.84375 C 8.765625 -8.578125 7.28125 -8.796875 6.390625 -8.796875 C 4.9375 -8.796875 4 -7.9375 3.4375 -6.703125 L 3.4375 -8.796875 L 0.640625 -8.578125 L 0.640625 -7.96875 C 2.03125 -7.96875 2.1875 -7.828125 2.1875 -6.84375 Z M 2.1875 -6.84375 \"/>\n",
       "</g>\n",
       "<g id=\"glyph-0-9\">\n",
       "<path d=\"M 4.140625 -3.859375 C 4.578125 -3.78125 6.203125 -3.46875 6.203125 -2.03125 C 6.203125 -1.015625 5.515625 -0.21875 3.96875 -0.21875 C 2.296875 -0.21875 1.578125 -1.359375 1.1875 -3.046875 C 1.140625 -3.296875 1.109375 -3.390625 0.921875 -3.390625 C 0.65625 -3.390625 0.65625 -3.25 0.65625 -2.890625 L 0.65625 -0.265625 C 0.65625 0.078125 0.65625 0.21875 0.875 0.21875 C 0.96875 0.21875 1 0.203125 1.375 -0.171875 C 1.40625 -0.21875 1.40625 -0.265625 1.765625 -0.640625 C 2.640625 0.203125 3.546875 0.21875 3.96875 0.21875 C 6.25 0.21875 7.171875 -1.109375 7.171875 -2.546875 C 7.171875 -3.609375 6.5625 -4.203125 6.328125 -4.4375 C 5.671875 -5.078125 4.890625 -5.234375 4.0625 -5.390625 C 2.953125 -5.609375 1.609375 -5.875 1.609375 -7.03125 C 1.609375 -7.71875 2.125 -8.546875 3.84375 -8.546875 C 6.03125 -8.546875 6.125 -6.75 6.171875 -6.125 C 6.1875 -5.953125 6.375 -5.953125 6.40625 -5.953125 C 6.671875 -5.953125 6.671875 -6.046875 6.671875 -6.4375 L 6.671875 -8.4375 C 6.671875 -8.78125 6.671875 -8.921875 6.453125 -8.921875 C 6.34375 -8.921875 6.3125 -8.921875 6.046875 -8.671875 C 5.984375 -8.59375 5.796875 -8.421875 5.71875 -8.359375 C 4.953125 -8.921875 4.140625 -8.921875 3.84375 -8.921875 C 1.40625 -8.921875 0.65625 -7.578125 0.65625 -6.46875 C 0.65625 -5.765625 0.96875 -5.21875 1.515625 -4.78125 C 2.15625 -4.265625 2.703125 -4.140625 4.140625 -3.859375 Z M 4.140625 -3.859375 \"/>\n",
       "</g>\n",
       "<g id=\"glyph-0-10\">\n",
       "<path d=\"M 5.75 -4.984375 C 5.75 -6.53125 5.53125 -8.9375 4.4375 -11.1875 C 3.25 -13.640625 1.53125 -14.9375 1.328125 -14.9375 C 1.21875 -14.9375 1.140625 -14.84375 1.140625 -14.734375 C 1.140625 -14.671875 1.140625 -14.625 1.515625 -14.265625 C 3.46875 -12.296875 4.59375 -9.140625 4.59375 -4.984375 C 4.59375 -1.578125 3.859375 1.9375 1.390625 4.4375 C 1.140625 4.671875 1.140625 4.71875 1.140625 4.78125 C 1.140625 4.890625 1.21875 4.984375 1.328125 4.984375 C 1.53125 4.984375 3.328125 3.625 4.5 1.09375 C 5.515625 -1.09375 5.75 -3.296875 5.75 -4.984375 Z M 5.75 -4.984375 \"/>\n",
       "</g>\n",
       "<g id=\"glyph-0-11\">\n",
       "<path d=\"M 4.515625 -6.296875 L 7.890625 -6.296875 C 10.265625 -6.296875 12.421875 -7.90625 12.421875 -9.890625 C 12.421875 -11.84375 10.453125 -13.59375 7.71875 -13.59375 L 0.703125 -13.59375 L 0.703125 -12.984375 L 1.171875 -12.984375 C 2.703125 -12.984375 2.75 -12.765625 2.75 -12.046875 L 2.75 -1.546875 C 2.75 -0.84375 2.703125 -0.609375 1.171875 -0.609375 L 0.703125 -0.609375 L 0.703125 0 C 1.390625 -0.0625 2.859375 -0.0625 3.625 -0.0625 C 4.375 -0.0625 5.875 -0.0625 6.5625 0 L 6.5625 -0.609375 L 6.09375 -0.609375 C 4.5625 -0.609375 4.515625 -0.84375 4.515625 -1.546875 Z M 4.453125 -6.8125 L 4.453125 -12.1875 C 4.453125 -12.84375 4.5 -12.984375 5.4375 -12.984375 L 7.203125 -12.984375 C 10.375 -12.984375 10.375 -10.875 10.375 -9.890625 C 10.375 -8.953125 10.375 -6.8125 7.203125 -6.8125 Z M 4.453125 -6.8125 \"/>\n",
       "</g>\n",
       "<g id=\"glyph-0-12\">\n",
       "<path d=\"M 11.796875 -1.25 C 12.0625 -0.8125 12.859375 -0.015625 13.078125 -0.015625 C 13.25 -0.015625 13.25 -0.171875 13.25 -0.484375 L 13.25 -3.9375 C 13.25 -4.71875 13.34375 -4.8125 14.625 -4.8125 L 14.625 -5.4375 C 13.890625 -5.421875 12.796875 -5.375 12.203125 -5.375 C 11.40625 -5.375 9.71875 -5.375 9 -5.4375 L 9 -4.8125 L 9.640625 -4.8125 C 11.421875 -4.8125 11.484375 -4.59375 11.484375 -3.859375 L 11.484375 -2.59375 C 11.484375 -0.359375 8.953125 -0.171875 8.40625 -0.171875 C 7.109375 -0.171875 3.171875 -0.875 3.171875 -6.8125 C 3.171875 -12.765625 7.09375 -13.421875 8.28125 -13.421875 C 10.40625 -13.421875 12.21875 -11.625 12.625 -8.703125 C 12.65625 -8.421875 12.65625 -8.359375 12.9375 -8.359375 C 13.25 -8.359375 13.25 -8.421875 13.25 -8.84375 L 13.25 -13.5625 C 13.25 -13.890625 13.25 -14.03125 13.03125 -14.03125 C 12.953125 -14.03125 12.875 -14.03125 12.71875 -13.796875 L 11.71875 -12.328125 C 11.09375 -12.953125 10.015625 -14.03125 8.046875 -14.03125 C 4.34375 -14.03125 1.109375 -10.890625 1.109375 -6.8125 C 1.109375 -2.734375 4.296875 0.4375 8.078125 0.4375 C 9.53125 0.4375 11.125 -0.078125 11.796875 -1.25 Z M 11.796875 -1.25 \"/>\n",
       "</g>\n",
       "<g id=\"glyph-0-13\">\n",
       "<path d=\"M 11.578125 -13.53125 L 0.65625 -13.53125 L 0.65625 -12.921875 L 1.140625 -12.921875 C 2.671875 -12.921875 2.703125 -12.703125 2.703125 -11.984375 L 2.703125 -1.546875 C 2.703125 -0.84375 2.671875 -0.609375 1.140625 -0.609375 L 0.65625 -0.609375 L 0.65625 0 C 1.359375 -0.0625 2.90625 -0.0625 3.6875 -0.0625 C 4.5 -0.0625 6.3125 -0.0625 7.03125 0 L 7.03125 -0.609375 L 6.375 -0.609375 C 4.484375 -0.609375 4.484375 -0.875 4.484375 -1.578125 L 4.484375 -6.46875 L 6.1875 -6.46875 C 8.109375 -6.46875 8.296875 -5.828125 8.296875 -4.140625 L 8.796875 -4.140625 L 8.796875 -9.421875 L 8.296875 -9.421875 C 8.296875 -7.75 8.109375 -7.09375 6.1875 -7.09375 L 4.484375 -7.09375 L 4.484375 -12.125 C 4.484375 -12.78125 4.515625 -12.921875 5.453125 -12.921875 L 7.84375 -12.921875 C 10.828125 -12.921875 11.328125 -11.796875 11.640625 -9.0625 L 12.140625 -9.0625 Z M 11.578125 -13.53125 \"/>\n",
       "</g>\n",
       "<g id=\"glyph-0-14\">\n",
       "<path d=\"M 3.515625 -13.8125 L 0.65625 -13.59375 L 0.65625 -12.984375 C 2.046875 -12.984375 2.203125 -12.84375 2.203125 -11.859375 L 2.203125 -1.515625 C 2.203125 -0.609375 1.984375 -0.609375 0.65625 -0.609375 L 0.65625 0 C 1.3125 -0.015625 2.375 -0.0625 2.859375 -0.0625 C 3.359375 -0.0625 4.34375 -0.015625 5.078125 0 L 5.078125 -0.609375 C 3.75 -0.609375 3.515625 -0.609375 3.515625 -1.515625 Z M 3.515625 -13.8125 \"/>\n",
       "</g>\n",
       "<g id=\"glyph-0-15\">\n",
       "<path d=\"M 9.375 -4.265625 C 9.375 -6.8125 7.390625 -8.921875 4.984375 -8.921875 C 2.484375 -8.921875 0.5625 -6.75 0.5625 -4.265625 C 0.5625 -1.6875 2.625 0.21875 4.953125 0.21875 C 7.359375 0.21875 9.375 -1.734375 9.375 -4.265625 Z M 4.984375 -0.28125 C 4.125 -0.28125 3.25 -0.703125 2.703125 -1.609375 C 2.203125 -2.484375 2.203125 -3.703125 2.203125 -4.421875 C 2.203125 -5.203125 2.203125 -6.265625 2.6875 -7.140625 C 3.21875 -8.0625 4.15625 -8.484375 4.953125 -8.484375 C 5.828125 -8.484375 6.6875 -8.046875 7.203125 -7.1875 C 7.71875 -6.328125 7.71875 -5.171875 7.71875 -4.421875 C 7.71875 -3.703125 7.71875 -2.625 7.28125 -1.75 C 6.84375 -0.859375 5.96875 -0.28125 4.984375 -0.28125 Z M 4.984375 -0.28125 \"/>\n",
       "</g>\n",
       "<g id=\"glyph-0-16\">\n",
       "<path d=\"M 3.4375 -7.96875 L 6.296875 -7.96875 L 6.296875 -8.578125 L 3.4375 -8.578125 L 3.4375 -12.25 L 2.953125 -12.25 C 2.921875 -10.609375 2.328125 -8.484375 0.375 -8.40625 L 0.375 -7.96875 L 2.0625 -7.96875 L 2.0625 -2.46875 C 2.0625 -0.015625 3.921875 0.21875 4.640625 0.21875 C 6.046875 0.21875 6.609375 -1.1875 6.609375 -2.46875 L 6.609375 -3.609375 L 6.109375 -3.609375 L 6.109375 -2.515625 C 6.109375 -1.03125 5.515625 -0.28125 4.78125 -0.28125 C 3.4375 -0.28125 3.4375 -2.09375 3.4375 -2.421875 Z M 3.4375 -7.96875 \"/>\n",
       "</g>\n",
       "<g id=\"glyph-0-17\">\n",
       "<path d=\"M 4.421875 -3.421875 C 2.6875 -3.421875 2.6875 -5.421875 2.6875 -5.875 C 2.6875 -6.40625 2.703125 -7.046875 3 -7.546875 C 3.171875 -7.78125 3.625 -8.34375 4.421875 -8.34375 C 6.15625 -8.34375 6.15625 -6.34375 6.15625 -5.890625 C 6.15625 -5.359375 6.125 -4.71875 5.828125 -4.21875 C 5.671875 -3.984375 5.21875 -3.421875 4.421875 -3.421875 Z M 2.109375 -2.640625 C 2.109375 -2.734375 2.109375 -3.1875 2.453125 -3.578125 C 3.21875 -3.03125 4.046875 -2.96875 4.421875 -2.96875 C 6.265625 -2.96875 7.640625 -4.34375 7.640625 -5.875 C 7.640625 -6.609375 7.328125 -7.34375 6.828125 -7.796875 C 7.546875 -8.484375 8.265625 -8.578125 8.625 -8.578125 C 8.65625 -8.578125 8.765625 -8.578125 8.8125 -8.5625 C 8.59375 -8.484375 8.5 -8.265625 8.5 -8.015625 C 8.5 -7.6875 8.765625 -7.4375 9.078125 -7.4375 C 9.28125 -7.4375 9.65625 -7.578125 9.65625 -8.046875 C 9.65625 -8.375 9.421875 -9.015625 8.640625 -9.015625 C 8.234375 -9.015625 7.359375 -8.890625 6.53125 -8.078125 C 5.6875 -8.734375 4.859375 -8.796875 4.421875 -8.796875 C 2.5625 -8.796875 1.1875 -7.421875 1.1875 -5.890625 C 1.1875 -5.015625 1.625 -4.265625 2.125 -3.84375 C 1.875 -3.546875 1.515625 -2.890625 1.515625 -2.1875 C 1.515625 -1.578125 1.765625 -0.8125 2.390625 -0.421875 C 1.1875 -0.078125 0.5625 0.78125 0.5625 1.578125 C 0.5625 3 2.53125 4.09375 4.953125 4.09375 C 7.3125 4.09375 9.375 3.078125 9.375 1.53125 C 9.375 0.84375 9.09375 -0.171875 8.078125 -0.734375 C 7.03125 -1.296875 5.875 -1.296875 4.65625 -1.296875 C 4.15625 -1.296875 3.296875 -1.296875 3.171875 -1.3125 C 2.53125 -1.390625 2.109375 -2.015625 2.109375 -2.640625 Z M 4.984375 3.640625 C 2.96875 3.640625 1.59375 2.625 1.59375 1.578125 C 1.59375 0.65625 2.34375 -0.078125 3.21875 -0.140625 L 4.40625 -0.140625 C 6.109375 -0.140625 8.34375 -0.140625 8.34375 1.578125 C 8.34375 2.640625 6.921875 3.640625 4.984375 3.640625 Z M 4.984375 3.640625 \"/>\n",
       "</g>\n",
       "<g id=\"glyph-0-18\">\n",
       "<path d=\"M 3.328125 -6.609375 L 3.328125 -8.796875 L 0.5625 -8.578125 L 0.5625 -7.96875 C 1.953125 -7.96875 2.109375 -7.828125 2.109375 -6.84375 L 2.109375 -1.515625 C 2.109375 -0.609375 1.890625 -0.609375 0.5625 -0.609375 L 0.5625 0 C 1.328125 -0.015625 2.265625 -0.0625 2.828125 -0.0625 C 3.625 -0.0625 4.5625 -0.0625 5.359375 0 L 5.359375 -0.609375 L 4.9375 -0.609375 C 3.46875 -0.609375 3.421875 -0.84375 3.421875 -1.546875 L 3.421875 -4.625 C 3.421875 -6.59375 4.265625 -8.359375 5.765625 -8.359375 C 5.90625 -8.359375 5.953125 -8.359375 5.984375 -8.34375 C 5.9375 -8.328125 5.53125 -8.078125 5.53125 -7.5625 C 5.53125 -7 5.953125 -6.703125 6.390625 -6.703125 C 6.75 -6.703125 7.25 -6.953125 7.25 -7.578125 C 7.25 -8.21875 6.625 -8.796875 5.765625 -8.796875 C 4.3125 -8.796875 3.609375 -7.46875 3.328125 -6.609375 Z M 3.328125 -6.609375 \"/>\n",
       "</g>\n",
       "<g id=\"glyph-0-19\">\n",
       "<path d=\"M 6.625 -1.515625 C 6.703125 -0.71875 7.25 0.125 8.1875 0.125 C 8.59375 0.125 9.8125 -0.15625 9.8125 -1.765625 L 9.8125 -2.890625 L 9.3125 -2.890625 L 9.3125 -1.765625 C 9.3125 -0.609375 8.8125 -0.5 8.59375 -0.5 C 7.9375 -0.5 7.859375 -1.390625 7.859375 -1.5 L 7.859375 -5.46875 C 7.859375 -6.3125 7.859375 -7.09375 7.140625 -7.828125 C 6.375 -8.59375 5.375 -8.921875 4.421875 -8.921875 C 2.78125 -8.921875 1.40625 -7.984375 1.40625 -6.671875 C 1.40625 -6.078125 1.8125 -5.734375 2.328125 -5.734375 C 2.890625 -5.734375 3.25 -6.125 3.25 -6.65625 C 3.25 -6.890625 3.140625 -7.546875 2.234375 -7.5625 C 2.765625 -8.265625 3.75 -8.484375 4.375 -8.484375 C 5.359375 -8.484375 6.484375 -7.703125 6.484375 -5.9375 L 6.484375 -5.203125 C 5.46875 -5.140625 4.078125 -5.078125 2.828125 -4.484375 C 1.328125 -3.796875 0.84375 -2.765625 0.84375 -1.890625 C 0.84375 -0.28125 2.765625 0.21875 4.015625 0.21875 C 5.328125 0.21875 6.25 -0.578125 6.625 -1.515625 Z M 6.484375 -4.78125 L 6.484375 -2.78125 C 6.484375 -0.890625 5.0625 -0.21875 4.15625 -0.21875 C 3.1875 -0.21875 2.375 -0.921875 2.375 -1.90625 C 2.375 -3 3.203125 -4.65625 6.484375 -4.78125 Z M 6.484375 -4.78125 \"/>\n",
       "</g>\n",
       "<g id=\"glyph-0-20\">\n",
       "<path d=\"M 3.421875 -7.484375 L 3.421875 -8.796875 L 0.5625 -8.578125 L 0.5625 -7.96875 C 1.96875 -7.96875 2.109375 -7.84375 2.109375 -6.96875 L 2.109375 2.34375 C 2.109375 3.25 1.890625 3.25 0.5625 3.25 L 0.5625 3.859375 C 1.234375 3.84375 2.265625 3.796875 2.78125 3.796875 C 3.328125 3.796875 4.34375 3.84375 5.03125 3.859375 L 5.03125 3.25 C 3.703125 3.25 3.484375 3.25 3.484375 2.34375 L 3.484375 -1.171875 C 3.578125 -0.859375 4.421875 0.21875 5.9375 0.21875 C 8.296875 0.21875 10.375 -1.734375 10.375 -4.296875 C 10.375 -6.828125 8.4375 -8.796875 6.203125 -8.796875 C 4.65625 -8.796875 3.828125 -7.921875 3.421875 -7.484375 Z M 3.484375 -2.265625 L 3.484375 -6.703125 C 4.0625 -7.71875 5.03125 -8.296875 6.046875 -8.296875 C 7.5 -8.296875 8.71875 -6.546875 8.71875 -4.296875 C 8.71875 -1.890625 7.328125 -0.21875 5.859375 -0.21875 C 5.0625 -0.21875 4.296875 -0.609375 3.765625 -1.4375 C 3.484375 -1.84375 3.484375 -1.875 3.484375 -2.265625 Z M 3.484375 -2.265625 \"/>\n",
       "</g>\n",
       "<g id=\"glyph-0-21\">\n",
       "<path d=\"M 2.1875 -1.515625 C 2.1875 -0.609375 1.96875 -0.609375 0.640625 -0.609375 L 0.640625 0 C 1.328125 -0.015625 2.34375 -0.0625 2.890625 -0.0625 C 3.40625 -0.0625 4.4375 -0.015625 5.109375 0 L 5.109375 -0.609375 C 3.78125 -0.609375 3.5625 -0.609375 3.5625 -1.515625 L 3.5625 -5.171875 C 3.5625 -7.25 4.984375 -8.359375 6.25 -8.359375 C 7.5 -8.359375 7.71875 -7.28125 7.71875 -6.15625 L 7.71875 -1.515625 C 7.71875 -0.609375 7.5 -0.609375 6.171875 -0.609375 L 6.171875 0 C 6.875 -0.015625 7.890625 -0.0625 8.421875 -0.0625 C 8.9375 -0.0625 9.96875 -0.015625 10.65625 0 L 10.65625 -0.609375 C 9.609375 -0.609375 9.109375 -0.609375 9.09375 -1.21875 L 9.09375 -5.015625 C 9.09375 -6.734375 9.09375 -7.34375 8.484375 -8.0625 C 8.203125 -8.40625 7.546875 -8.796875 6.390625 -8.796875 C 4.71875 -8.796875 3.84375 -7.609375 3.5 -6.84375 L 3.5 -13.8125 L 0.640625 -13.59375 L 0.640625 -12.984375 C 2.03125 -12.984375 2.1875 -12.84375 2.1875 -11.859375 Z M 2.1875 -1.515625 \"/>\n",
       "</g>\n",
       "<g id=\"glyph-0-22\">\n",
       "<path d=\"M 12.328125 -6.6875 C 12.6875 -7.6875 13.296875 -7.9375 14 -7.96875 L 14 -8.578125 C 13.5625 -8.546875 12.984375 -8.515625 12.546875 -8.515625 C 11.96875 -8.515625 11.0625 -8.5625 10.6875 -8.578125 L 10.6875 -7.96875 C 11.40625 -7.9375 11.84375 -7.578125 11.84375 -7 C 11.84375 -6.890625 11.84375 -6.84375 11.75 -6.59375 L 9.9375 -1.5 L 7.96875 -7.046875 C 7.890625 -7.28125 7.859375 -7.328125 7.859375 -7.421875 C 7.859375 -7.96875 8.640625 -7.96875 9.03125 -7.96875 L 9.03125 -8.578125 C 8.453125 -8.5625 7.4375 -8.515625 6.96875 -8.515625 C 6.375 -8.515625 5.796875 -8.546875 5.203125 -8.578125 L 5.203125 -7.96875 C 5.9375 -7.96875 6.25 -7.921875 6.453125 -7.65625 C 6.546875 -7.546875 6.765625 -6.953125 6.90625 -6.5625 L 5.203125 -1.75 L 3.296875 -7.0625 C 3.203125 -7.3125 3.203125 -7.34375 3.203125 -7.421875 C 3.203125 -7.96875 3.984375 -7.96875 4.375 -7.96875 L 4.375 -8.578125 C 3.78125 -8.5625 2.671875 -8.515625 2.203125 -8.515625 C 2.125 -8.515625 1.078125 -8.546875 0.359375 -8.578125 L 0.359375 -7.96875 C 1.359375 -7.96875 1.59375 -7.90625 1.828125 -7.265625 L 4.34375 -0.21875 C 4.4375 0.0625 4.5 0.21875 4.75 0.21875 C 5.015625 0.21875 5.0625 0.09375 5.15625 -0.171875 L 7.171875 -5.8125 L 9.203125 -0.15625 C 9.28125 0.0625 9.34375 0.21875 9.59375 0.21875 C 9.859375 0.21875 9.90625 0.046875 10 -0.15625 Z M 12.328125 -6.6875 \"/>\n",
       "</g>\n",
       "<g id=\"glyph-0-23\">\n",
       "<path d=\"M 3.515625 -8.796875 L 0.734375 -8.578125 L 0.734375 -7.96875 C 2.03125 -7.96875 2.203125 -7.84375 2.203125 -6.875 L 2.203125 -1.515625 C 2.203125 -0.609375 1.984375 -0.609375 0.65625 -0.609375 L 0.65625 0 C 1.296875 -0.015625 2.375 -0.0625 2.84375 -0.0625 C 3.546875 -0.0625 4.234375 -0.015625 4.921875 0 L 4.921875 -0.609375 C 3.609375 -0.609375 3.515625 -0.71875 3.515625 -1.5 Z M 3.609375 -12.265625 C 3.609375 -12.90625 3.109375 -13.3125 2.546875 -13.3125 C 1.9375 -13.3125 1.5 -12.78125 1.5 -12.265625 C 1.5 -11.71875 1.9375 -11.203125 2.546875 -11.203125 C 3.109375 -11.203125 3.609375 -11.625 3.609375 -12.265625 Z M 3.609375 -12.265625 \"/>\n",
       "</g>\n",
       "<g id=\"glyph-0-24\">\n",
       "<path d=\"M 2.234375 -5.015625 C 2.34375 -7.984375 4.015625 -8.484375 4.703125 -8.484375 C 6.75 -8.484375 6.953125 -5.796875 6.953125 -5.015625 Z M 2.203125 -4.59375 L 7.765625 -4.59375 C 8.203125 -4.59375 8.265625 -4.59375 8.265625 -5.015625 C 8.265625 -6.984375 7.1875 -8.921875 4.703125 -8.921875 C 2.390625 -8.921875 0.5625 -6.875 0.5625 -4.375 C 0.5625 -1.71875 2.640625 0.21875 4.9375 0.21875 C 7.359375 0.21875 8.265625 -1.984375 8.265625 -2.375 C 8.265625 -2.5625 8.109375 -2.609375 8 -2.609375 C 7.828125 -2.609375 7.78125 -2.484375 7.75 -2.328125 C 7.046875 -0.28125 5.25 -0.28125 5.0625 -0.28125 C 4.0625 -0.28125 3.265625 -0.875 2.8125 -1.609375 C 2.203125 -2.5625 2.203125 -3.875 2.203125 -4.59375 Z M 2.203125 -4.59375 \"/>\n",
       "</g>\n",
       "<g id=\"glyph-0-25\">\n",
       "<path d=\"M 5.71875 -4.671875 C 6.3125 -5.4375 7.0625 -6.40625 7.546875 -6.921875 C 8.15625 -7.640625 8.984375 -7.9375 9.90625 -7.96875 L 9.90625 -8.578125 C 9.390625 -8.546875 8.796875 -8.515625 8.28125 -8.515625 C 7.6875 -8.515625 6.625 -8.5625 6.375 -8.578125 L 6.375 -7.96875 C 6.78125 -7.921875 6.953125 -7.65625 6.953125 -7.34375 C 6.953125 -7.03125 6.75 -6.765625 6.65625 -6.65625 L 5.421875 -5.09375 L 3.859375 -7.109375 C 3.6875 -7.3125 3.6875 -7.34375 3.6875 -7.46875 C 3.6875 -7.765625 3.984375 -7.9375 4.375 -7.96875 L 4.375 -8.578125 C 3.859375 -8.5625 2.546875 -8.515625 2.234375 -8.515625 C 1.8125 -8.515625 0.875 -8.546875 0.34375 -8.578125 L 0.34375 -7.96875 C 1.734375 -7.96875 1.75 -7.9375 2.6875 -6.75 L 4.65625 -4.1875 L 2.78125 -1.8125 C 1.828125 -0.65625 0.65625 -0.609375 0.234375 -0.609375 L 0.234375 0 C 0.75 -0.046875 1.375 -0.0625 1.890625 -0.0625 C 2.46875 -0.0625 3.296875 -0.015625 3.78125 0 L 3.78125 -0.609375 C 3.34375 -0.671875 3.203125 -0.9375 3.203125 -1.234375 C 3.203125 -1.671875 3.78125 -2.328125 5 -3.765625 L 6.515625 -1.765625 C 6.671875 -1.546875 6.921875 -1.234375 6.921875 -1.109375 C 6.921875 -0.9375 6.75 -0.640625 6.203125 -0.609375 L 6.203125 0 C 6.8125 -0.015625 7.921875 -0.0625 8.359375 -0.0625 C 8.890625 -0.0625 9.671875 -0.046875 10.265625 0 L 10.265625 -0.609375 C 9.203125 -0.609375 8.84375 -0.65625 8.375 -1.234375 Z M 5.71875 -4.671875 \"/>\n",
       "</g>\n",
       "<g id=\"glyph-0-26\">\n",
       "<path d=\"M 2.1875 -6.84375 L 2.1875 -1.515625 C 2.1875 -0.609375 1.96875 -0.609375 0.640625 -0.609375 L 0.640625 0 C 1.328125 -0.015625 2.34375 -0.0625 2.890625 -0.0625 C 3.40625 -0.0625 4.4375 -0.015625 5.109375 0 L 5.109375 -0.609375 C 3.78125 -0.609375 3.5625 -0.609375 3.5625 -1.515625 L 3.5625 -5.171875 C 3.5625 -7.25 4.984375 -8.359375 6.25 -8.359375 C 7.5 -8.359375 7.71875 -7.28125 7.71875 -6.15625 L 7.71875 -1.515625 C 7.71875 -0.609375 7.5 -0.609375 6.171875 -0.609375 L 6.171875 0 C 6.875 -0.015625 7.890625 -0.0625 8.421875 -0.0625 C 8.9375 -0.0625 9.96875 -0.015625 10.65625 0 L 10.65625 -0.609375 C 9.609375 -0.609375 9.109375 -0.609375 9.09375 -1.21875 L 9.09375 -5.015625 C 9.09375 -6.734375 9.09375 -7.34375 8.484375 -8.0625 C 8.203125 -8.40625 7.546875 -8.796875 6.390625 -8.796875 C 4.9375 -8.796875 4 -7.9375 3.4375 -6.703125 L 3.4375 -8.796875 L 0.640625 -8.578125 L 0.640625 -7.96875 C 2.03125 -7.96875 2.1875 -7.828125 2.1875 -6.84375 Z M 2.1875 -6.84375 \"/>\n",
       "</g>\n",
       "<g id=\"glyph-0-27\">\n",
       "<path d=\"M 7.5625 -1.09375 L 7.5625 0.21875 L 10.484375 0 L 10.484375 -0.609375 C 9.09375 -0.609375 8.9375 -0.75 8.9375 -1.734375 L 8.9375 -13.8125 L 6.078125 -13.59375 L 6.078125 -12.984375 C 7.46875 -12.984375 7.625 -12.84375 7.625 -11.859375 L 7.625 -7.5625 C 7.046875 -8.28125 6.1875 -8.796875 5.109375 -8.796875 C 2.765625 -8.796875 0.671875 -6.84375 0.671875 -4.28125 C 0.671875 -1.75 2.625 0.21875 4.890625 0.21875 C 6.171875 0.21875 7.0625 -0.453125 7.5625 -1.09375 Z M 7.5625 -6.4375 L 7.5625 -2.34375 C 7.5625 -1.984375 7.5625 -1.953125 7.34375 -1.609375 C 6.75 -0.65625 5.859375 -0.21875 5 -0.21875 C 4.09375 -0.21875 3.390625 -0.734375 2.90625 -1.5 C 2.390625 -2.3125 2.328125 -3.4375 2.328125 -4.265625 C 2.328125 -5 2.375 -6.1875 2.953125 -7.09375 C 3.359375 -7.703125 4.125 -8.359375 5.203125 -8.359375 C 5.890625 -8.359375 6.734375 -8.0625 7.34375 -7.171875 C 7.5625 -6.828125 7.5625 -6.78125 7.5625 -6.4375 Z M 7.5625 -6.4375 \"/>\n",
       "</g>\n",
       "<g id=\"glyph-1-0\">\n",
       "<path d=\"M 3.828125 -1.0625 C 3.828125 -1.625 3.34375 -2.109375 2.765625 -2.109375 C 2.1875 -2.109375 1.71875 -1.625 1.71875 -1.0625 C 1.71875 -0.484375 2.1875 0 2.765625 0 C 3.34375 0 3.828125 -0.484375 3.828125 -1.0625 Z M 3.828125 -1.0625 \"/>\n",
       "</g>\n",
       "<g id=\"glyph-1-1\">\n",
       "<path d=\"M 4.09375 -7.96875 L 5.96875 -7.96875 C 6.375 -7.96875 6.5625 -7.96875 6.5625 -8.359375 C 6.5625 -8.578125 6.375 -8.578125 6.015625 -8.578125 L 4.265625 -8.578125 C 4.984375 -11.40625 5.078125 -11.796875 5.078125 -11.921875 C 5.078125 -12.265625 4.84375 -12.46875 4.5 -12.46875 C 4.4375 -12.46875 3.875 -12.4375 3.703125 -11.75 L 2.921875 -8.578125 L 1.0625 -8.578125 C 0.65625 -8.578125 0.453125 -8.578125 0.453125 -8.203125 C 0.453125 -7.96875 0.609375 -7.96875 1.015625 -7.96875 L 2.765625 -7.96875 C 1.328125 -2.3125 1.25 -1.96875 1.25 -1.609375 C 1.25 -0.53125 2.015625 0.21875 3.078125 0.21875 C 5.109375 0.21875 6.25 -2.6875 6.25 -2.84375 C 6.25 -3.046875 6.09375 -3.046875 6.015625 -3.046875 C 5.828125 -3.046875 5.8125 -2.984375 5.71875 -2.765625 C 4.859375 -0.703125 3.796875 -0.21875 3.125 -0.21875 C 2.703125 -0.21875 2.515625 -0.484375 2.515625 -1.140625 C 2.515625 -1.609375 2.546875 -1.75 2.625 -2.09375 Z M 4.09375 -7.96875 \"/>\n",
       "</g>\n",
       "<g id=\"glyph-2-0\">\n",
       "<path d=\"M 13.125 -4.578125 C 13.453125 -4.578125 13.8125 -4.578125 13.8125 -4.984375 C 13.8125 -5.375 13.453125 -5.375 13.125 -5.375 L 2.34375 -5.375 C 2.015625 -5.375 1.65625 -5.375 1.65625 -4.984375 C 1.65625 -4.578125 2.015625 -4.578125 2.34375 -4.578125 Z M 13.125 -4.578125 \"/>\n",
       "</g>\n",
       "<g id=\"glyph-3-0\">\n",
       "<path d=\"M -13.59375 -0.703125 L -12.984375 -0.703125 L -12.984375 -1.171875 C -12.984375 -2.703125 -12.765625 -2.75 -12.046875 -2.75 L -1.546875 -2.75 C -0.84375 -2.75 -0.609375 -2.703125 -0.609375 -1.171875 L -0.609375 -0.703125 L 0 -0.703125 L 0 -7.984375 C 0 -11.328125 -2.953125 -14.078125 -6.6875 -14.078125 C -10.46875 -14.078125 -13.59375 -11.390625 -13.59375 -7.984375 Z M -0.609375 -5.4375 C -0.609375 -4.5 -0.75 -4.453125 -1.40625 -4.453125 L -12.1875 -4.453125 C -12.84375 -4.453125 -12.984375 -4.5 -12.984375 -5.4375 L -12.984375 -7.421875 C -12.984375 -8.65625 -12.546875 -10.03125 -11.125 -11.046875 C -9.953125 -11.90625 -8.234375 -12.078125 -6.6875 -12.078125 C -4.484375 -12.078125 -3.28125 -11.703125 -2.3125 -10.984375 C -1.765625 -10.59375 -0.609375 -9.453125 -0.609375 -7.4375 Z M -0.609375 -5.4375 \"/>\n",
       "</g>\n",
       "<g id=\"glyph-3-1\">\n",
       "<path d=\"M -1.515625 -6.625 C -0.71875 -6.703125 0.125 -7.25 0.125 -8.1875 C 0.125 -8.59375 -0.15625 -9.8125 -1.765625 -9.8125 L -2.890625 -9.8125 L -2.890625 -9.3125 L -1.765625 -9.3125 C -0.609375 -9.3125 -0.5 -8.8125 -0.5 -8.59375 C -0.5 -7.9375 -1.390625 -7.859375 -1.5 -7.859375 L -5.46875 -7.859375 C -6.3125 -7.859375 -7.09375 -7.859375 -7.828125 -7.140625 C -8.59375 -6.375 -8.921875 -5.375 -8.921875 -4.421875 C -8.921875 -2.78125 -7.984375 -1.40625 -6.671875 -1.40625 C -6.078125 -1.40625 -5.734375 -1.8125 -5.734375 -2.328125 C -5.734375 -2.890625 -6.125 -3.25 -6.65625 -3.25 C -6.890625 -3.25 -7.546875 -3.140625 -7.5625 -2.234375 C -8.265625 -2.765625 -8.484375 -3.75 -8.484375 -4.375 C -8.484375 -5.359375 -7.703125 -6.484375 -5.9375 -6.484375 L -5.203125 -6.484375 C -5.140625 -5.46875 -5.078125 -4.078125 -4.484375 -2.828125 C -3.796875 -1.328125 -2.765625 -0.84375 -1.890625 -0.84375 C -0.28125 -0.84375 0.21875 -2.765625 0.21875 -4.015625 C 0.21875 -5.328125 -0.578125 -6.25 -1.515625 -6.625 Z M -4.78125 -6.484375 L -2.78125 -6.484375 C -0.890625 -6.484375 -0.21875 -5.0625 -0.21875 -4.15625 C -0.21875 -3.1875 -0.921875 -2.375 -1.90625 -2.375 C -3 -2.375 -4.65625 -3.203125 -4.78125 -6.484375 Z M -4.78125 -6.484375 \"/>\n",
       "</g>\n",
       "<g id=\"glyph-3-2\">\n",
       "<path d=\"M -7.96875 -3.4375 L -7.96875 -6.296875 L -8.578125 -6.296875 L -8.578125 -3.4375 L -12.25 -3.4375 L -12.25 -2.953125 C -10.609375 -2.921875 -8.484375 -2.328125 -8.40625 -0.375 L -7.96875 -0.375 L -7.96875 -2.0625 L -2.46875 -2.0625 C -0.015625 -2.0625 0.21875 -3.921875 0.21875 -4.640625 C 0.21875 -6.046875 -1.1875 -6.609375 -2.46875 -6.609375 L -3.609375 -6.609375 L -3.609375 -6.109375 L -2.515625 -6.109375 C -1.03125 -6.109375 -0.28125 -5.515625 -0.28125 -4.78125 C -0.28125 -3.4375 -2.09375 -3.4375 -2.421875 -3.4375 Z M -7.96875 -3.4375 \"/>\n",
       "</g>\n",
       "</g>\n",
       "<clipPath id=\"clip-0\">\n",
       "<path clip-rule=\"nonzero\" d=\"M 89.785156 45 L 477.996094 45 L 477.996094 355 L 89.785156 355 Z M 89.785156 45 \"/>\n",
       "</clipPath>\n",
       "</defs>\n",
       "<path fill=\"none\" stroke-width=\"0.3985\" stroke-linecap=\"butt\" stroke-linejoin=\"miter\" stroke=\"rgb(75%, 75%, 75%)\" stroke-opacity=\"1\" stroke-miterlimit=\"10\" d=\"M -0.000609907 -0.000400495 L -0.000609907 161.394257 M 38.855542 -0.000400495 L 38.855542 161.394257 M 77.709739 -0.000400495 L 77.709739 161.394257 M 116.563936 -0.000400495 L 116.563936 161.394257 M 155.418133 -0.000400495 L 155.418133 161.394257 M 194.274285 -0.000400495 L 194.274285 161.394257 \" transform=\"matrix(1.998256, 0, 0, -1.998256, 89.786375, 365.8117)\"/>\n",
       "<path fill=\"none\" stroke-width=\"0.3985\" stroke-linecap=\"butt\" stroke-linejoin=\"miter\" stroke=\"rgb(75%, 75%, 75%)\" stroke-opacity=\"1\" stroke-miterlimit=\"10\" d=\"M -0.000609907 13.448828 L 194.274285 13.448828 M -0.000609907 47.073856 L 194.274285 47.073856 M -0.000609907 80.696928 L 194.274285 80.696928 M -0.000609907 114.320001 L 194.274285 114.320001 M -0.000609907 147.945028 L 194.274285 147.945028 \" transform=\"matrix(1.998256, 0, 0, -1.998256, 89.786375, 365.8117)\"/>\n",
       "<path fill=\"none\" stroke-width=\"0.19925\" stroke-linecap=\"butt\" stroke-linejoin=\"miter\" stroke=\"rgb(50%, 50%, 50%)\" stroke-opacity=\"1\" stroke-miterlimit=\"10\" d=\"M -0.000609907 -0.000400495 L -0.000609907 4.251354 M 38.855542 -0.000400495 L 38.855542 4.251354 M 77.709739 -0.000400495 L 77.709739 4.251354 M 116.563936 -0.000400495 L 116.563936 4.251354 M 155.418133 -0.000400495 L 155.418133 4.251354 M 194.274285 -0.000400495 L 194.274285 4.251354 M -0.000609907 161.394257 L -0.000609907 157.142502 M 38.855542 161.394257 L 38.855542 157.142502 M 77.709739 161.394257 L 77.709739 157.142502 M 116.563936 161.394257 L 116.563936 157.142502 M 155.418133 161.394257 L 155.418133 157.142502 M 194.274285 161.394257 L 194.274285 157.142502 \" transform=\"matrix(1.998256, 0, 0, -1.998256, 89.786375, 365.8117)\"/>\n",
       "<path fill=\"none\" stroke-width=\"0.19925\" stroke-linecap=\"butt\" stroke-linejoin=\"miter\" stroke=\"rgb(50%, 50%, 50%)\" stroke-opacity=\"1\" stroke-miterlimit=\"10\" d=\"M -0.000609907 13.448828 L 4.2531 13.448828 M -0.000609907 47.073856 L 4.2531 47.073856 M -0.000609907 80.696928 L 4.2531 80.696928 M -0.000609907 114.320001 L 4.2531 114.320001 M -0.000609907 147.945028 L 4.2531 147.945028 M 194.274285 13.448828 L 190.020575 13.448828 M 194.274285 47.073856 L 190.020575 47.073856 M 194.274285 80.696928 L 190.020575 80.696928 M 194.274285 114.320001 L 190.020575 114.320001 M 194.274285 147.945028 L 190.020575 147.945028 \" transform=\"matrix(1.998256, 0, 0, -1.998256, 89.786375, 365.8117)\"/>\n",
       "<path fill=\"none\" stroke-width=\"0.3985\" stroke-linecap=\"butt\" stroke-linejoin=\"miter\" stroke=\"rgb(0%, 0%, 0%)\" stroke-opacity=\"1\" stroke-miterlimit=\"10\" d=\"M -0.000609907 -0.000400495 L -0.000609907 161.394257 L 194.274285 161.394257 L 194.274285 -0.000400495 Z M -0.000609907 -0.000400495 \" transform=\"matrix(1.998256, 0, 0, -1.998256, 89.786375, 365.8117)\"/>\n",
       "<g fill=\"rgb(0%, 0%, 0%)\" fill-opacity=\"1\">\n",
       "<use xlink:href=\"#glyph-0-0\" x=\"84.80872\" y=\"385.674362\"/>\n",
       "</g>\n",
       "<g fill=\"rgb(0%, 0%, 0%)\" fill-opacity=\"1\">\n",
       "<use xlink:href=\"#glyph-0-0\" x=\"154.707708\" y=\"385.674362\"/>\n",
       "</g>\n",
       "<g fill=\"rgb(0%, 0%, 0%)\" fill-opacity=\"1\">\n",
       "<use xlink:href=\"#glyph-1-0\" x=\"164.66102\" y=\"385.674362\"/>\n",
       "</g>\n",
       "<g fill=\"rgb(0%, 0%, 0%)\" fill-opacity=\"1\">\n",
       "<use xlink:href=\"#glyph-0-1\" x=\"170.192192\" y=\"385.674362\"/>\n",
       "</g>\n",
       "<g fill=\"rgb(0%, 0%, 0%)\" fill-opacity=\"1\">\n",
       "<use xlink:href=\"#glyph-0-0\" x=\"232.34794\" y=\"385.674362\"/>\n",
       "</g>\n",
       "<g fill=\"rgb(0%, 0%, 0%)\" fill-opacity=\"1\">\n",
       "<use xlink:href=\"#glyph-1-0\" x=\"242.301252\" y=\"385.674362\"/>\n",
       "</g>\n",
       "<g fill=\"rgb(0%, 0%, 0%)\" fill-opacity=\"1\">\n",
       "<use xlink:href=\"#glyph-0-2\" x=\"247.832424\" y=\"385.674362\"/>\n",
       "</g>\n",
       "<g fill=\"rgb(0%, 0%, 0%)\" fill-opacity=\"1\">\n",
       "<use xlink:href=\"#glyph-0-0\" x=\"309.988171\" y=\"385.674362\"/>\n",
       "</g>\n",
       "<g fill=\"rgb(0%, 0%, 0%)\" fill-opacity=\"1\">\n",
       "<use xlink:href=\"#glyph-1-0\" x=\"319.943481\" y=\"385.674362\"/>\n",
       "</g>\n",
       "<g fill=\"rgb(0%, 0%, 0%)\" fill-opacity=\"1\">\n",
       "<use xlink:href=\"#glyph-0-3\" x=\"325.472655\" y=\"385.674362\"/>\n",
       "</g>\n",
       "<g fill=\"rgb(0%, 0%, 0%)\" fill-opacity=\"1\">\n",
       "<use xlink:href=\"#glyph-0-0\" x=\"387.628402\" y=\"385.674362\"/>\n",
       "</g>\n",
       "<g fill=\"rgb(0%, 0%, 0%)\" fill-opacity=\"1\">\n",
       "<use xlink:href=\"#glyph-1-0\" x=\"397.583713\" y=\"385.674362\"/>\n",
       "</g>\n",
       "<g fill=\"rgb(0%, 0%, 0%)\" fill-opacity=\"1\">\n",
       "<use xlink:href=\"#glyph-0-4\" x=\"403.112887\" y=\"385.674362\"/>\n",
       "</g>\n",
       "<g fill=\"rgb(0%, 0%, 0%)\" fill-opacity=\"1\">\n",
       "<use xlink:href=\"#glyph-0-5\" x=\"473.011875\" y=\"385.674362\"/>\n",
       "</g>\n",
       "<g fill=\"rgb(0%, 0%, 0%)\" fill-opacity=\"1\">\n",
       "<use xlink:href=\"#glyph-2-0\" x=\"57.314718\" y=\"344.522282\"/>\n",
       "</g>\n",
       "<g fill=\"rgb(0%, 0%, 0%)\" fill-opacity=\"1\">\n",
       "<use xlink:href=\"#glyph-0-5\" x=\"72.797204\" y=\"344.522282\"/>\n",
       "</g>\n",
       "<g fill=\"rgb(0%, 0%, 0%)\" fill-opacity=\"1\">\n",
       "<use xlink:href=\"#glyph-2-0\" x=\"41.830234\" y=\"277.332929\"/>\n",
       "</g>\n",
       "<g fill=\"rgb(0%, 0%, 0%)\" fill-opacity=\"1\">\n",
       "<use xlink:href=\"#glyph-0-0\" x=\"57.314718\" y=\"277.332929\"/>\n",
       "</g>\n",
       "<g fill=\"rgb(0%, 0%, 0%)\" fill-opacity=\"1\">\n",
       "<use xlink:href=\"#glyph-1-0\" x=\"67.26803\" y=\"277.332929\"/>\n",
       "</g>\n",
       "<g fill=\"rgb(0%, 0%, 0%)\" fill-opacity=\"1\">\n",
       "<use xlink:href=\"#glyph-0-6\" x=\"72.797204\" y=\"277.332929\"/>\n",
       "</g>\n",
       "<g fill=\"rgb(0%, 0%, 0%)\" fill-opacity=\"1\">\n",
       "<use xlink:href=\"#glyph-0-0\" x=\"72.797204\" y=\"210.97485\"/>\n",
       "</g>\n",
       "<g fill=\"rgb(0%, 0%, 0%)\" fill-opacity=\"1\">\n",
       "<use xlink:href=\"#glyph-0-0\" x=\"57.314718\" y=\"143.787494\"/>\n",
       "</g>\n",
       "<g fill=\"rgb(0%, 0%, 0%)\" fill-opacity=\"1\">\n",
       "<use xlink:href=\"#glyph-1-0\" x=\"67.26803\" y=\"143.787494\"/>\n",
       "</g>\n",
       "<g fill=\"rgb(0%, 0%, 0%)\" fill-opacity=\"1\">\n",
       "<use xlink:href=\"#glyph-0-6\" x=\"72.797204\" y=\"143.787494\"/>\n",
       "</g>\n",
       "<g fill=\"rgb(0%, 0%, 0%)\" fill-opacity=\"1\">\n",
       "<use xlink:href=\"#glyph-0-5\" x=\"72.797204\" y=\"76.600139\"/>\n",
       "</g>\n",
       "<g clip-path=\"url(#clip-0)\">\n",
       "<path fill=\"none\" stroke-width=\"0.59776\" stroke-linecap=\"butt\" stroke-linejoin=\"miter\" stroke=\"rgb(100%, 0%, 0%)\" stroke-opacity=\"1\" stroke-miterlimit=\"10\" d=\"M -0.000609907 82.356579 L 3.963785 95.653331 L 7.930135 99.838622 L 11.894529 109.296088 L 15.858924 116.521139 L 19.823319 124.678644 L 23.787714 131.168679 L 27.754064 138.313582 L 31.718458 143.27103 L 35.682853 144.561218 L 39.647248 146.465222 L 43.611643 148.206975 L 47.577992 149.346641 L 51.542387 148.027131 L 55.506782 152.05408 L 59.471177 144.59445 L 63.435572 142.338576 L 67.401921 141.155904 L 71.366316 132.539014 L 75.330711 125.878909 L 79.295106 120.899958 L 83.259501 112.232242 L 87.22585 102.786505 L 91.190245 95.95633 L 95.15464 85.55859 L 99.119035 79.076374 L 103.08343 72.467095 L 107.047824 60.554362 L 111.014174 56.490271 L 114.978569 46.143357 L 118.942964 38.35727 L 122.907359 31.308153 L 126.871753 29.087467 L 130.838103 22.894566 L 134.802498 23.447783 L 138.766893 21.092213 L 142.731287 14.058735 L 146.695682 14.477069 L 150.662032 14.682326 L 154.626427 18.165833 L 158.590822 19.317228 L 162.555216 25.480806 L 166.519611 28.993635 L 170.485961 34.948047 L 174.450356 41.391166 L 178.414751 50.037378 L 182.379145 56.916424 L 186.34354 66.588922 L 190.307935 75.414978 L 194.274285 86.176316 \" transform=\"matrix(1.998256, 0, 0, -1.998256, 89.786375, 365.8117)\"/>\n",
       "</g>\n",
       "<g fill=\"rgb(0%, 0%, 0%)\" fill-opacity=\"1\">\n",
       "<use xlink:href=\"#glyph-1-1\" x=\"257.012411\" y=\"417.638462\"/>\n",
       "</g>\n",
       "<g fill=\"rgb(0%, 0%, 0%)\" fill-opacity=\"1\">\n",
       "<use xlink:href=\"#glyph-0-7\" x=\"270.836345\" y=\"417.638462\"/>\n",
       "<use xlink:href=\"#glyph-0-8\" x=\"278.578497\" y=\"417.638462\"/>\n",
       "<use xlink:href=\"#glyph-0-9\" x=\"295.167686\" y=\"417.638462\"/>\n",
       "<use xlink:href=\"#glyph-0-10\" x=\"303.019332\" y=\"417.638462\"/>\n",
       "</g>\n",
       "<g fill=\"rgb(0%, 0%, 0%)\" fill-opacity=\"1\">\n",
       "<use xlink:href=\"#glyph-3-0\" x=\"26.909258\" y=\"225.989744\"/>\n",
       "<use xlink:href=\"#glyph-3-1\" x=\"26.909258\" y=\"210.782158\"/>\n",
       "<use xlink:href=\"#glyph-3-2\" x=\"26.909258\" y=\"200.828246\"/>\n",
       "<use xlink:href=\"#glyph-3-1\" x=\"26.909258\" y=\"193.086093\"/>\n",
       "</g>\n",
       "<g fill=\"rgb(0%, 0%, 0%)\" fill-opacity=\"1\">\n",
       "<use xlink:href=\"#glyph-0-11\" x=\"128.452625\" y=\"20.46114\"/>\n",
       "<use xlink:href=\"#glyph-0-12\" x=\"142.00189\" y=\"20.46114\"/>\n",
       "<use xlink:href=\"#glyph-0-13\" x=\"157.623559\" y=\"20.46114\"/>\n",
       "<use xlink:href=\"#glyph-0-11\" x=\"170.619386\" y=\"20.46114\"/>\n",
       "<use xlink:href=\"#glyph-0-14\" x=\"184.16865\" y=\"20.46114\"/>\n",
       "<use xlink:href=\"#glyph-0-15\" x=\"189.699044\" y=\"20.46114\"/>\n",
       "<use xlink:href=\"#glyph-0-16\" x=\"199.652955\" y=\"20.46114\"/>\n",
       "<use xlink:href=\"#glyph-0-9\" x=\"207.395108\" y=\"20.46114\"/>\n",
       "</g>\n",
       "<g fill=\"rgb(0%, 0%, 0%)\" fill-opacity=\"1\">\n",
       "<use xlink:href=\"#glyph-0-17\" x=\"221.876059\" y=\"20.46114\"/>\n",
       "<use xlink:href=\"#glyph-0-18\" x=\"231.82997\" y=\"20.46114\"/>\n",
       "<use xlink:href=\"#glyph-0-19\" x=\"239.627865\" y=\"20.46114\"/>\n",
       "<use xlink:href=\"#glyph-0-20\" x=\"249.581776\" y=\"20.46114\"/>\n",
       "<use xlink:href=\"#glyph-0-21\" x=\"260.642563\" y=\"20.46114\"/>\n",
       "</g>\n",
       "<g fill=\"rgb(0%, 0%, 0%)\" fill-opacity=\"1\">\n",
       "<use xlink:href=\"#glyph-0-22\" x=\"278.352563\" y=\"20.46114\"/>\n",
       "<use xlink:href=\"#glyph-0-23\" x=\"292.729993\" y=\"20.46114\"/>\n",
       "<use xlink:href=\"#glyph-0-16\" x=\"298.260386\" y=\"20.46114\"/>\n",
       "<use xlink:href=\"#glyph-0-21\" x=\"306.002539\" y=\"20.46114\"/>\n",
       "</g>\n",
       "<g fill=\"rgb(0%, 0%, 0%)\" fill-opacity=\"1\">\n",
       "<use xlink:href=\"#glyph-0-24\" x=\"323.69263\" y=\"20.46114\"/>\n",
       "<use xlink:href=\"#glyph-0-25\" x=\"332.539667\" y=\"20.46114\"/>\n",
       "<use xlink:href=\"#glyph-0-16\" x=\"343.047016\" y=\"20.46114\"/>\n",
       "<use xlink:href=\"#glyph-0-24\" x=\"350.789169\" y=\"20.46114\"/>\n",
       "<use xlink:href=\"#glyph-0-18\" x=\"359.636205\" y=\"20.46114\"/>\n",
       "<use xlink:href=\"#glyph-0-26\" x=\"367.4341\" y=\"20.46114\"/>\n",
       "<use xlink:href=\"#glyph-0-19\" x=\"378.494887\" y=\"20.46114\"/>\n",
       "<use xlink:href=\"#glyph-0-14\" x=\"388.448798\" y=\"20.46114\"/>\n",
       "</g>\n",
       "<g fill=\"rgb(0%, 0%, 0%)\" fill-opacity=\"1\">\n",
       "<use xlink:href=\"#glyph-0-27\" x=\"400.608497\" y=\"20.46114\"/>\n",
       "<use xlink:href=\"#glyph-0-19\" x=\"411.669283\" y=\"20.46114\"/>\n",
       "<use xlink:href=\"#glyph-0-16\" x=\"421.623195\" y=\"20.46114\"/>\n",
       "<use xlink:href=\"#glyph-0-19\" x=\"429.365348\" y=\"20.46114\"/>\n",
       "</g>\n",
       "</svg>"
      ],
      "text/plain": [
       "<IPython.core.display.SVG object>"
      ]
     },
     "execution_count": 29,
     "metadata": {},
     "output_type": "execute_result"
    }
   ],
   "source": [
    "%%tikz -t=pgfplots -sc=2\n",
    "\\begin{tikzpicture}\n",
    "    \\begin{axis}[\n",
    "        xlabel={$t$ (ms)},\n",
    "        ylabel={Data},\n",
    "        xmin=0, \n",
    "        xmax=1,\n",
    "        ymin=-1.2, \n",
    "        ymax=1.2,\n",
    "        xmajorgrids,\n",
    "        ymajorgrids,\n",
    "        title={PGFPlots graph with external data}\n",
    "    ]\n",
    "    \\addplot [semithick, red] table {data.tsv};  % External data.tsv \n",
    "    \\end{axis}\n",
    "\\end{tikzpicture}"
   ]
  },
  {
   "cell_type": "markdown",
   "metadata": {},
   "source": [
    "## Using IPython strings"
   ]
  },
  {
   "cell_type": "markdown",
   "metadata": {},
   "source": [
    "Sometimes, you may want to generate a TikZ document from a string, rather than from cell content. You can do this using line magic."
   ]
  },
  {
   "cell_type": "code",
   "execution_count": 30,
   "metadata": {},
   "outputs": [],
   "source": [
    "conway_str = r\"\"\"\\documentclass[tikz]{standalone}\n",
    "\\begin{document}\n",
    "\\begin{tikzpicture}\n",
    "\\draw[help lines] grid (5, 5);\n",
    "\\draw[fill=magenta] (1, 1) rectangle (2, 2);\n",
    "\\draw[fill=magenta] (2, 1) rectangle (3, 2);\n",
    "\\draw[fill=magenta] (3, 1) rectangle (4, 2);\n",
    "\\draw[fill=magenta] (3, 2) rectangle (4, 3);\n",
    "\\draw[fill=magenta] (2, 3) rectangle (3, 4);\n",
    "\\end{tikzpicture}\n",
    "\\end{document}\"\"\""
   ]
  },
  {
   "cell_type": "code",
   "execution_count": 31,
   "metadata": {},
   "outputs": [
    {
     "data": {
      "image/svg+xml": [
       "<svg xmlns=\"http://www.w3.org/2000/svg\" xmlns:xlink=\"http://www.w3.org/1999/xlink\" width=\"141.931\" height=\"141.931\" viewBox=\"0 0 141.931 141.931\">\n",
       "<defs>\n",
       "<clipPath id=\"clip-0\">\n",
       "<path clip-rule=\"nonzero\" d=\"M 0 0 L 141.863281 0 L 141.863281 141.863281 L 0 141.863281 Z M 0 0 \"/>\n",
       "</clipPath>\n",
       "</defs>\n",
       "<g clip-path=\"url(#clip-0)\">\n",
       "<path fill=\"none\" stroke-width=\"0.19925\" stroke-linecap=\"butt\" stroke-linejoin=\"miter\" stroke=\"rgb(50%, 50%, 50%)\" stroke-opacity=\"1\" stroke-miterlimit=\"10\" d=\"M 0.00161187 0.000363546 L 141.734545 0.000363546 M 0.00161187 28.346168 L 141.734545 28.346168 M 0.00161187 56.691973 L 141.734545 56.691973 M 0.00161187 85.041686 L 141.734545 85.041686 M 0.00161187 113.387491 L 141.734545 113.387491 M 0.00161187 141.72548 L 141.734545 141.72548 M 0.00161187 0.000363546 L 0.00161187 141.733296 M 28.347417 0.000363546 L 28.347417 141.733296 M 56.693222 0.000363546 L 56.693222 141.733296 M 85.039027 0.000363546 L 85.039027 141.733296 M 113.38874 0.000363546 L 113.38874 141.733296 M 141.72282 0.000363546 L 141.72282 141.733296 \" transform=\"matrix(0.999514, 0, 0, -0.999514, 0.0999514, 141.762082)\"/>\n",
       "</g>\n",
       "<path fill-rule=\"nonzero\" fill=\"rgb(92.549133%, 0%, 54.899597%)\" fill-opacity=\"1\" stroke-width=\"0.3985\" stroke-linecap=\"butt\" stroke-linejoin=\"miter\" stroke=\"rgb(0%, 0%, 0%)\" stroke-opacity=\"1\" stroke-miterlimit=\"10\" d=\"M 28.347417 28.346168 L 28.347417 56.691973 L 56.693222 56.691973 L 56.693222 28.346168 Z M 28.347417 28.346168 \" transform=\"matrix(0.999514, 0, 0, -0.999514, 0.0999514, 141.762082)\"/>\n",
       "<path fill-rule=\"nonzero\" fill=\"rgb(92.549133%, 0%, 54.899597%)\" fill-opacity=\"1\" stroke-width=\"0.3985\" stroke-linecap=\"butt\" stroke-linejoin=\"miter\" stroke=\"rgb(0%, 0%, 0%)\" stroke-opacity=\"1\" stroke-miterlimit=\"10\" d=\"M 56.693222 28.346168 L 56.693222 56.691973 L 85.039027 56.691973 L 85.039027 28.346168 Z M 56.693222 28.346168 \" transform=\"matrix(0.999514, 0, 0, -0.999514, 0.0999514, 141.762082)\"/>\n",
       "<path fill-rule=\"nonzero\" fill=\"rgb(92.549133%, 0%, 54.899597%)\" fill-opacity=\"1\" stroke-width=\"0.3985\" stroke-linecap=\"butt\" stroke-linejoin=\"miter\" stroke=\"rgb(0%, 0%, 0%)\" stroke-opacity=\"1\" stroke-miterlimit=\"10\" d=\"M 85.039027 28.346168 L 85.039027 56.691973 L 113.38874 56.691973 L 113.38874 28.346168 Z M 85.039027 28.346168 \" transform=\"matrix(0.999514, 0, 0, -0.999514, 0.0999514, 141.762082)\"/>\n",
       "<path fill-rule=\"nonzero\" fill=\"rgb(92.549133%, 0%, 54.899597%)\" fill-opacity=\"1\" stroke-width=\"0.3985\" stroke-linecap=\"butt\" stroke-linejoin=\"miter\" stroke=\"rgb(0%, 0%, 0%)\" stroke-opacity=\"1\" stroke-miterlimit=\"10\" d=\"M 85.039027 56.691973 L 85.039027 85.041686 L 113.38874 85.041686 L 113.38874 56.691973 Z M 85.039027 56.691973 \" transform=\"matrix(0.999514, 0, 0, -0.999514, 0.0999514, 141.762082)\"/>\n",
       "<path fill-rule=\"nonzero\" fill=\"rgb(92.549133%, 0%, 54.899597%)\" fill-opacity=\"1\" stroke-width=\"0.3985\" stroke-linecap=\"butt\" stroke-linejoin=\"miter\" stroke=\"rgb(0%, 0%, 0%)\" stroke-opacity=\"1\" stroke-miterlimit=\"10\" d=\"M 56.693222 85.041686 L 56.693222 113.387491 L 85.039027 113.387491 L 85.039027 85.041686 Z M 56.693222 85.041686 \" transform=\"matrix(0.999514, 0, 0, -0.999514, 0.0999514, 141.762082)\"/>\n",
       "</svg>"
      ],
      "text/plain": [
       "<IPython.core.display.SVG object>"
      ]
     },
     "execution_count": 31,
     "metadata": {},
     "output_type": "execute_result"
    }
   ],
   "source": [
    "%tikz --input-type=f -S=cornway_image -s=cornway_code.tex conway_str"
   ]
  },
  {
   "cell_type": "markdown",
   "metadata": {},
   "source": [
    "## Jinja templates"
   ]
  },
  {
   "cell_type": "markdown",
   "metadata": {},
   "source": [
    "To help ensure that TikZ pictures stay aligned with your data, you can use [Jinja2 templates](http://jinja.pocoo.org/docs/latest/templates/).\n",
    "\n",
    "> **Note:**\n",
    "> Before using it, you must install Jinja2:\n",
    "> \n",
    "> ```shell\n",
    "> pip install jinja2\n",
    "> ```\n",
    "\n",
    "First, we need to populate some data:"
   ]
  },
  {
   "cell_type": "code",
   "execution_count": 32,
   "metadata": {},
   "outputs": [
    {
     "data": {
      "text/plain": [
       "{'A': 0, 'B': 60, 'C': 121, 'D': 182, 'E': 243, 'F': 304}"
      ]
     },
     "execution_count": 32,
     "metadata": {},
     "output_type": "execute_result"
    }
   ],
   "source": [
    "node_names = \"ABCDEF\"\n",
    "nodes = {s: int(365 / len(node_names) * i) for i, s in enumerate(node_names)}\n",
    "n = len(nodes)\n",
    "nodes"
   ]
  },
  {
   "cell_type": "markdown",
   "metadata": {},
   "source": [
    "Then, you can interpret the cell source as a Jinja2 template using the `-j` (or `--use-jinja`) parameter:"
   ]
  },
  {
   "cell_type": "code",
   "execution_count": 33,
   "metadata": {},
   "outputs": [
    {
     "data": {
      "image/svg+xml": [
       "<svg xmlns=\"http://www.w3.org/2000/svg\" xmlns:xlink=\"http://www.w3.org/1999/xlink\" width=\"155.914\" height=\"126.509\" viewBox=\"0 0 155.914 126.509\">\n",
       "<defs>\n",
       "<g>\n",
       "<g id=\"glyph-0-0\">\n",
       "<path d=\"M 3.546875 -2.28125 C 2.765625 -0.953125 1.984375 -0.671875 1.109375 -0.609375 C 0.875 -0.59375 0.6875 -0.59375 0.6875 -0.21875 C 0.6875 -0.09375 0.796875 0 0.953125 0 C 1.484375 0 2.109375 -0.0625 2.65625 -0.0625 C 3.3125 -0.0625 4.015625 0 4.640625 0 C 4.765625 0 5.015625 0 5.015625 -0.375 C 5.015625 -0.59375 4.84375 -0.609375 4.703125 -0.609375 C 4.25 -0.65625 3.765625 -0.8125 3.765625 -1.3125 C 3.765625 -1.546875 3.890625 -1.765625 4.046875 -2.046875 L 5.5625 -4.578125 L 10.53125 -4.578125 C 10.578125 -4.171875 10.859375 -1.46875 10.859375 -1.265625 C 10.859375 -0.671875 9.828125 -0.609375 9.421875 -0.609375 C 9.140625 -0.609375 8.953125 -0.609375 8.953125 -0.21875 C 8.953125 0 9.1875 0 9.234375 0 C 10.046875 0 10.890625 -0.0625 11.703125 -0.0625 C 12.203125 -0.0625 13.453125 0 13.953125 0 C 14.0625 0 14.3125 0 14.3125 -0.390625 C 14.3125 -0.609375 14.109375 -0.609375 13.84375 -0.609375 C 12.625 -0.609375 12.625 -0.75 12.5625 -1.328125 L 11.34375 -13.734375 C 11.3125 -14.125 11.3125 -14.203125 10.96875 -14.203125 C 10.65625 -14.203125 10.578125 -14.0625 10.453125 -13.875 Z M 5.9375 -5.203125 L 9.84375 -11.75 L 10.484375 -5.203125 Z M 5.9375 -5.203125 \"/>\n",
       "</g>\n",
       "<g id=\"glyph-0-1\">\n",
       "<path d=\"M 3.171875 -1.546875 C 2.984375 -0.78125 2.9375 -0.609375 1.375 -0.609375 C 1.03125 -0.609375 0.828125 -0.609375 0.828125 -0.21875 C 0.828125 0 1.015625 0 1.375 0 L 8.453125 0 C 11.59375 0 13.9375 -2.34375 13.9375 -4.28125 C 13.9375 -5.71875 12.78125 -6.859375 10.859375 -7.078125 C 12.921875 -7.46875 15 -8.9375 15 -10.8125 C 15 -12.28125 13.6875 -13.546875 11.3125 -13.546875 L 4.640625 -13.546875 C 4.265625 -13.546875 4.0625 -13.546875 4.0625 -13.15625 C 4.0625 -12.9375 4.25 -12.9375 4.625 -12.9375 C 4.65625 -12.9375 5.046875 -12.9375 5.375 -12.90625 C 5.734375 -12.859375 5.90625 -12.84375 5.90625 -12.578125 C 5.90625 -12.5 5.890625 -12.4375 5.828125 -12.203125 Z M 6.171875 -7.265625 L 7.40625 -12.1875 C 7.578125 -12.875 7.625 -12.9375 8.46875 -12.9375 L 11.03125 -12.9375 C 12.78125 -12.9375 13.203125 -11.765625 13.203125 -10.890625 C 13.203125 -9.140625 11.484375 -7.265625 9.0625 -7.265625 Z M 5.28125 -0.609375 C 5 -0.609375 4.96875 -0.609375 4.84375 -0.640625 C 4.640625 -0.65625 4.578125 -0.671875 4.578125 -0.828125 C 4.578125 -0.890625 4.578125 -0.9375 4.6875 -1.296875 L 6.046875 -6.828125 L 9.796875 -6.828125 C 11.703125 -6.828125 12.078125 -5.359375 12.078125 -4.5 C 12.078125 -2.546875 10.3125 -0.609375 7.984375 -0.609375 Z M 5.28125 -0.609375 \"/>\n",
       "</g>\n",
       "<g id=\"glyph-0-2\">\n",
       "<path d=\"M 15.078125 -13.796875 C 15.078125 -13.84375 15.046875 -13.984375 14.859375 -13.984375 C 14.796875 -13.984375 14.78125 -13.96875 14.5625 -13.75 L 13.171875 -12.21875 C 13 -12.5 12.078125 -13.984375 9.875 -13.984375 C 5.453125 -13.984375 1 -9.609375 1 -5 C 1 -1.71875 3.328125 0.4375 6.375 0.4375 C 8.09375 0.4375 9.609375 -0.359375 10.65625 -1.265625 C 12.5 -2.890625 12.84375 -4.703125 12.84375 -4.765625 C 12.84375 -4.96875 12.640625 -4.96875 12.59375 -4.96875 C 12.484375 -4.96875 12.375 -4.921875 12.34375 -4.765625 C 12.171875 -4.1875 11.703125 -2.78125 10.34375 -1.625 C 8.96875 -0.515625 7.71875 -0.171875 6.6875 -0.171875 C 4.90625 -0.171875 2.796875 -1.203125 2.796875 -4.3125 C 2.796875 -5.4375 3.21875 -8.65625 5.203125 -10.96875 C 6.40625 -12.375 8.28125 -13.375 10.046875 -13.375 C 12.0625 -13.375 13.234375 -11.84375 13.234375 -9.546875 C 13.234375 -8.75 13.171875 -8.734375 13.171875 -8.53125 C 13.171875 -8.328125 13.390625 -8.328125 13.46875 -8.328125 C 13.734375 -8.328125 13.734375 -8.375 13.828125 -8.734375 Z M 15.078125 -13.796875 \"/>\n",
       "</g>\n",
       "<g id=\"glyph-0-3\">\n",
       "<path d=\"M 3.15625 -1.546875 C 2.953125 -0.78125 2.921875 -0.609375 1.34375 -0.609375 C 1.015625 -0.609375 0.796875 -0.609375 0.796875 -0.234375 C 0.796875 0 0.96875 0 1.34375 0 L 7.921875 0 C 12.046875 0 15.953125 -4.1875 15.953125 -8.53125 C 15.953125 -11.328125 14.265625 -13.546875 11.296875 -13.546875 L 4.625 -13.546875 C 4.25 -13.546875 4.03125 -13.546875 4.03125 -13.171875 C 4.03125 -12.9375 4.203125 -12.9375 4.609375 -12.9375 C 4.859375 -12.9375 5.21875 -12.921875 5.453125 -12.90625 C 5.78125 -12.859375 5.890625 -12.796875 5.890625 -12.578125 C 5.890625 -12.5 5.875 -12.4375 5.8125 -12.203125 Z M 7.4375 -12.1875 C 7.625 -12.875 7.65625 -12.9375 8.515625 -12.9375 L 10.640625 -12.9375 C 12.578125 -12.9375 14.234375 -11.890625 14.234375 -9.265625 C 14.234375 -8.296875 13.828125 -5.046875 12.140625 -2.859375 C 11.5625 -2.125 10 -0.609375 7.5625 -0.609375 L 5.3125 -0.609375 C 5.046875 -0.609375 5 -0.609375 4.875 -0.640625 C 4.6875 -0.65625 4.625 -0.671875 4.625 -0.828125 C 4.625 -0.890625 4.625 -0.9375 4.71875 -1.296875 Z M 7.4375 -12.1875 \"/>\n",
       "</g>\n",
       "<g id=\"glyph-0-4\">\n",
       "<path d=\"M 14.046875 -4.625 C 14.09375 -4.71875 14.15625 -4.859375 14.15625 -4.90625 C 14.15625 -4.921875 14.15625 -5.125 13.90625 -5.125 C 13.734375 -5.125 13.6875 -5 13.65625 -4.875 C 12.359375 -1.9375 11.625 -0.609375 8.234375 -0.609375 L 5.34375 -0.609375 C 5.0625 -0.609375 5.015625 -0.609375 4.90625 -0.640625 C 4.703125 -0.65625 4.640625 -0.671875 4.640625 -0.828125 C 4.640625 -0.890625 4.640625 -0.9375 4.75 -1.296875 L 6.09375 -6.703125 L 8.0625 -6.703125 C 9.75 -6.703125 9.75 -6.296875 9.75 -5.796875 C 9.75 -5.65625 9.75 -5.421875 9.609375 -4.828125 C 9.5625 -4.71875 9.546875 -4.65625 9.546875 -4.609375 C 9.546875 -4.5 9.625 -4.390625 9.796875 -4.390625 C 9.96875 -4.390625 10.015625 -4.484375 10.09375 -4.78125 L 11.234375 -9.421875 C 11.234375 -9.546875 11.125 -9.640625 11 -9.640625 C 10.8125 -9.640625 10.78125 -9.53125 10.71875 -9.28125 C 10.296875 -7.78125 9.9375 -7.328125 8.109375 -7.328125 L 6.25 -7.328125 L 7.4375 -12.109375 C 7.625 -12.796875 7.640625 -12.875 8.515625 -12.875 L 11.3125 -12.875 C 13.734375 -12.875 14.328125 -12.296875 14.328125 -10.671875 C 14.328125 -10.203125 14.328125 -10.15625 14.25 -9.625 C 14.25 -9.5 14.234375 -9.359375 14.234375 -9.265625 C 14.234375 -9.171875 14.28125 -9.03125 14.46875 -9.03125 C 14.6875 -9.03125 14.703125 -9.140625 14.75 -9.53125 L 15.140625 -12.953125 C 15.203125 -13.5 15.09375 -13.5 14.609375 -13.5 L 4.578125 -13.5 C 4.1875 -13.5 3.984375 -13.5 3.984375 -13.09375 C 3.984375 -12.875 4.171875 -12.875 4.546875 -12.875 C 5.28125 -12.875 5.828125 -12.875 5.828125 -12.515625 C 5.828125 -12.4375 5.828125 -12.40625 5.734375 -12.046875 L 3.109375 -1.546875 C 2.921875 -0.78125 2.875 -0.609375 1.3125 -0.609375 C 0.96875 -0.609375 0.75 -0.609375 0.75 -0.234375 C 0.75 0 0.9375 0 1.3125 0 L 11.609375 0 C 12.0625 0 12.078125 -0.015625 12.21875 -0.34375 Z M 14.046875 -4.625 \"/>\n",
       "</g>\n",
       "<g id=\"glyph-0-5\">\n",
       "<path d=\"M 6.015625 -6.453125 L 7.9375 -6.453125 C 9.421875 -6.453125 9.578125 -6.125 9.578125 -5.5625 C 9.578125 -5.421875 9.578125 -5.171875 9.453125 -4.578125 C 9.40625 -4.484375 9.390625 -4.40625 9.390625 -4.359375 C 9.390625 -4.203125 9.5 -4.125 9.625 -4.125 C 9.828125 -4.125 9.828125 -4.1875 9.921875 -4.546875 L 11.015625 -8.84375 C 11.078125 -9.0625 11.078125 -9.109375 11.078125 -9.171875 C 11.078125 -9.203125 11.03125 -9.390625 10.828125 -9.390625 C 10.640625 -9.390625 10.609375 -9.28125 10.53125 -8.96875 C 10.125 -7.421875 9.65625 -7.0625 7.984375 -7.0625 L 6.171875 -7.0625 L 7.4375 -12.109375 C 7.625 -12.796875 7.640625 -12.875 8.515625 -12.875 L 11.125 -12.875 C 13.578125 -12.875 14.03125 -12.21875 14.03125 -10.703125 C 14.03125 -10.234375 14.03125 -10.15625 13.96875 -9.625 C 13.9375 -9.359375 13.9375 -9.328125 13.9375 -9.265625 C 13.9375 -9.171875 13.984375 -9.03125 14.171875 -9.03125 C 14.390625 -9.03125 14.40625 -9.140625 14.453125 -9.53125 L 14.84375 -12.953125 C 14.90625 -13.5 14.796875 -13.5 14.3125 -13.5 L 4.578125 -13.5 C 4.1875 -13.5 3.984375 -13.5 3.984375 -13.09375 C 3.984375 -12.875 4.171875 -12.875 4.546875 -12.875 C 5.28125 -12.875 5.828125 -12.875 5.828125 -12.515625 C 5.828125 -12.4375 5.828125 -12.40625 5.734375 -12.046875 L 3.109375 -1.546875 C 2.921875 -0.78125 2.875 -0.609375 1.3125 -0.609375 C 0.96875 -0.609375 0.75 -0.609375 0.75 -0.234375 C 0.75 0 1 0 1.046875 0 C 1.625 0 3.09375 -0.0625 3.671875 -0.0625 C 4.328125 -0.0625 5.96875 0 6.625 0 C 6.8125 0 7.046875 0 7.046875 -0.375 C 7.046875 -0.53125 6.921875 -0.578125 6.921875 -0.59375 C 6.859375 -0.609375 6.828125 -0.609375 6.375 -0.609375 C 5.9375 -0.609375 5.828125 -0.609375 5.34375 -0.65625 C 4.765625 -0.71875 4.703125 -0.796875 4.703125 -1.046875 C 4.703125 -1.09375 4.703125 -1.203125 4.78125 -1.515625 Z M 6.015625 -6.453125 \"/>\n",
       "</g>\n",
       "</g>\n",
       "<clipPath id=\"clip-0\">\n",
       "<path clip-rule=\"nonzero\" d=\"M 51 93 L 108 93 L 108 126.019531 L 51 126.019531 Z M 51 93 \"/>\n",
       "</clipPath>\n",
       "</defs>\n",
       "<g fill=\"rgb(92.549133%, 0%, 54.899597%)\" fill-opacity=\"1\">\n",
       "<use xlink:href=\"#glyph-0-0\" x=\"127.450907\" y=\"69.086864\"/>\n",
       "</g>\n",
       "<g fill=\"rgb(92.549133%, 0%, 54.899597%)\" fill-opacity=\"1\">\n",
       "<use xlink:href=\"#glyph-0-1\" x=\"98.632754\" y=\"20.178684\"/>\n",
       "</g>\n",
       "<g fill=\"rgb(92.549133%, 0%, 54.899597%)\" fill-opacity=\"1\">\n",
       "<use xlink:href=\"#glyph-0-2\" x=\"41.532369\" y=\"20.678743\"/>\n",
       "</g>\n",
       "<g fill=\"rgb(92.549133%, 0%, 54.899597%)\" fill-opacity=\"1\">\n",
       "<use xlink:href=\"#glyph-0-3\" x=\"13.489209\" y=\"71.057217\"/>\n",
       "</g>\n",
       "<g fill=\"rgb(92.549133%, 0%, 54.899597%)\" fill-opacity=\"1\">\n",
       "<use xlink:href=\"#glyph-0-4\" x=\"44.885356\" y=\"119.403577\"/>\n",
       "</g>\n",
       "<g fill=\"rgb(92.549133%, 0%, 54.899597%)\" fill-opacity=\"1\">\n",
       "<use xlink:href=\"#glyph-0-5\" x=\"102.240751\" y=\"115.905155\"/>\n",
       "</g>\n",
       "<path fill=\"none\" stroke-width=\"0.59776\" stroke-linecap=\"butt\" stroke-linejoin=\"miter\" stroke=\"rgb(0%, 0%, 0%)\" stroke-opacity=\"1\" stroke-miterlimit=\"10\" d=\"M 24.291518 7.023496 L 19.332895 15.611386 \" transform=\"matrix(1.992268, 0, 0, -1.992268, 78.421198, 62.305184)\"/>\n",
       "<path fill-rule=\"nonzero\" fill=\"rgb(0%, 0%, 0%)\" fill-opacity=\"1\" stroke-width=\"0.59776\" stroke-linecap=\"butt\" stroke-linejoin=\"round\" stroke=\"rgb(0%, 0%, 0%)\" stroke-opacity=\"1\" stroke-miterlimit=\"10\" d=\"M 0.916449 0.00103111 C -0.228461 0.229733 -1.374516 0.687776 -2.750293 1.489043 C -1.375068 0.459416 -1.374858 -0.457684 -2.749235 -1.488921 C -1.373712 -0.687025 -0.228846 -0.229666 0.916449 0.00103111 Z M 0.916449 0.00103111 \" transform=\"matrix(-0.996293, -1.725264, -1.725264, 0.996293, 116.938268, 31.205088)\"/>\n",
       "<path fill=\"none\" stroke-width=\"0.59776\" stroke-linecap=\"butt\" stroke-linejoin=\"miter\" stroke=\"rgb(0%, 0%, 0%)\" stroke-opacity=\"1\" stroke-miterlimit=\"10\" d=\"M 20.991651 4.158906 L -5.138669 18.946545 \" transform=\"matrix(1.992268, 0, 0, -1.992268, 78.421198, 62.305184)\"/>\n",
       "<path fill-rule=\"nonzero\" fill=\"rgb(0%, 0%, 0%)\" fill-opacity=\"1\" stroke-width=\"0.59776\" stroke-linecap=\"butt\" stroke-linejoin=\"round\" stroke=\"rgb(0%, 0%, 0%)\" stroke-opacity=\"1\" stroke-miterlimit=\"10\" d=\"M 0.916703 -0.000204821 C -0.229538 0.229831 -1.37433 0.688232 -2.749212 1.489551 C -1.374812 0.45816 -1.374294 -0.458491 -2.749104 -1.488766 C -1.375741 -0.686856 -0.228795 -0.229348 0.916703 -0.000204821 Z M 0.916703 -0.000204821 \" transform=\"matrix(-1.733851, -0.981112, -0.981112, 1.733851, 68.182974, 24.559899)\"/>\n",
       "<path fill=\"none\" stroke-width=\"0.59776\" stroke-linecap=\"butt\" stroke-linejoin=\"miter\" stroke=\"rgb(0%, 0%, 0%)\" stroke-opacity=\"1\" stroke-miterlimit=\"10\" d=\"M 20.991651 -0.129157 L -18.236181 -0.813443 \" transform=\"matrix(1.992268, 0, 0, -1.992268, 78.421198, 62.305184)\"/>\n",
       "<path fill-rule=\"nonzero\" fill=\"rgb(0%, 0%, 0%)\" fill-opacity=\"1\" stroke-width=\"0.59776\" stroke-linecap=\"butt\" stroke-linejoin=\"round\" stroke=\"rgb(0%, 0%, 0%)\" stroke-opacity=\"1\" stroke-miterlimit=\"10\" d=\"M 0.915836 -0.0000132409 C -0.229324 0.229793 -1.374439 0.687079 -2.748856 1.489585 C -1.374519 0.457639 -1.374805 -0.458162 -2.749828 -1.489216 C -1.374885 -0.687602 -0.229484 -0.229087 0.915836 -0.0000132409 Z M 0.915836 -0.0000132409 \" transform=\"matrix(-1.991929, 0.0347451, 0.0347451, 1.991929, 42.089905, 63.925237)\"/>\n",
       "<path fill=\"none\" stroke-width=\"0.59776\" stroke-linecap=\"butt\" stroke-linejoin=\"miter\" stroke=\"rgb(0%, 0%, 0%)\" stroke-opacity=\"1\" stroke-miterlimit=\"10\" d=\"M 20.991651 -4.507412 L -3.399523 -19.453869 \" transform=\"matrix(1.992268, 0, 0, -1.992268, 78.421198, 62.305184)\"/>\n",
       "<path fill-rule=\"nonzero\" fill=\"rgb(0%, 0%, 0%)\" fill-opacity=\"1\" stroke-width=\"0.59776\" stroke-linecap=\"butt\" stroke-linejoin=\"round\" stroke=\"rgb(0%, 0%, 0%)\" stroke-opacity=\"1\" stroke-miterlimit=\"10\" d=\"M 0.917356 0.000202256 C -0.229945 0.229566 -1.3751 0.687589 -2.749416 1.488431 C -1.375575 0.457904 -1.375426 -0.457491 -2.750468 -1.489112 C -1.374229 -0.6882 -0.228199 -0.229157 0.917356 0.000202256 Z M 0.917356 0.000202256 \" transform=\"matrix(-1.698548, 1.04094, 1.04094, 1.698548, 71.647807, 101.064275)\"/>\n",
       "<path fill=\"none\" stroke-width=\"0.59776\" stroke-linecap=\"butt\" stroke-linejoin=\"miter\" stroke=\"rgb(0%, 0%, 0%)\" stroke-opacity=\"1\" stroke-miterlimit=\"10\" d=\"M 24.613074 -7.022997 L 20.623039 -14.524656 \" transform=\"matrix(1.992268, 0, 0, -1.992268, 78.421198, 62.305184)\"/>\n",
       "<path fill-rule=\"nonzero\" fill=\"rgb(0%, 0%, 0%)\" fill-opacity=\"1\" stroke-width=\"0.59776\" stroke-linecap=\"butt\" stroke-linejoin=\"round\" stroke=\"rgb(0%, 0%, 0%)\" stroke-opacity=\"1\" stroke-miterlimit=\"10\" d=\"M 0.91697 0.000646498 C -0.228191 0.228898 -1.375614 0.686909 -2.750072 1.488328 C -1.374274 0.458881 -1.374917 -0.458644 -2.749852 -1.489622 C -1.375308 -0.687592 -0.228974 -0.228999 0.91697 0.000646498 Z M 0.91697 0.000646498 \" transform=\"matrix(-0.93539, 1.758953, 1.758953, 0.93539, 119.508931, 91.241957)\"/>\n",
       "<path fill=\"none\" stroke-width=\"0.59776\" stroke-linecap=\"butt\" stroke-linejoin=\"miter\" stroke=\"rgb(0%, 0%, 0%)\" stroke-opacity=\"1\" stroke-miterlimit=\"10\" d=\"M 6.525567 24.481617 L -4.852406 24.383581 \" transform=\"matrix(1.992268, 0, 0, -1.992268, 78.421198, 62.305184)\"/>\n",
       "<path fill-rule=\"nonzero\" fill=\"rgb(0%, 0%, 0%)\" fill-opacity=\"1\" stroke-width=\"0.59776\" stroke-linecap=\"butt\" stroke-linejoin=\"round\" stroke=\"rgb(0%, 0%, 0%)\" stroke-opacity=\"1\" stroke-miterlimit=\"10\" d=\"M 0.91585 -0.000863979 C -0.229261 0.228753 -1.37433 0.687792 -2.749747 1.490036 C -1.374372 0.458369 -1.374523 -0.457362 -2.750261 -1.488539 C -1.374566 -0.686784 -0.229345 -0.230093 0.91585 -0.000863979 Z M 0.91585 -0.000863979 \" transform=\"matrix(-1.992088, 0.0173925, 0.0173925, 1.992088, 68.754158, 13.72798)\"/>\n",
       "<path fill=\"none\" stroke-width=\"0.59776\" stroke-linecap=\"butt\" stroke-linejoin=\"miter\" stroke=\"rgb(0%, 0%, 0%)\" stroke-opacity=\"1\" stroke-miterlimit=\"10\" d=\"M 6.525567 19.956309 L -18.551855 4.886327 \" transform=\"matrix(1.992268, 0, 0, -1.992268, 78.421198, 62.305184)\"/>\n",
       "<path fill-rule=\"nonzero\" fill=\"rgb(0%, 0%, 0%)\" fill-opacity=\"1\" stroke-width=\"0.59776\" stroke-linecap=\"butt\" stroke-linejoin=\"round\" stroke=\"rgb(0%, 0%, 0%)\" stroke-opacity=\"1\" stroke-miterlimit=\"10\" d=\"M 0.916888 -0.000801487 C -0.228953 0.228004 -1.375302 0.688163 -2.749398 1.488788 C -1.373784 0.458491 -1.375445 -0.45784 -2.750173 -1.489207 C -1.373927 -0.687513 -0.229279 -0.229321 0.916888 -0.000801487 Z M 0.916888 -0.000801487 \" transform=\"matrix(-1.707573, 1.026197, 1.026197, 1.707573, 41.461006, 52.57218)\"/>\n",
       "<path fill=\"none\" stroke-width=\"0.59776\" stroke-linecap=\"butt\" stroke-linejoin=\"miter\" stroke=\"rgb(0%, 0%, 0%)\" stroke-opacity=\"1\" stroke-miterlimit=\"10\" d=\"M 10.360707 17.525034 L -8.00326 -16.291251 \" transform=\"matrix(1.992268, 0, 0, -1.992268, 78.421198, 62.305184)\"/>\n",
       "<path fill-rule=\"nonzero\" fill=\"rgb(0%, 0%, 0%)\" fill-opacity=\"1\" stroke-width=\"0.59776\" stroke-linecap=\"butt\" stroke-linejoin=\"round\" stroke=\"rgb(0%, 0%, 0%)\" stroke-opacity=\"1\" stroke-miterlimit=\"10\" d=\"M 0.916047 -0.000202926 C -0.227936 0.228683 -1.374464 0.688239 -2.749298 1.490152 C -1.374579 0.458356 -1.374254 -0.458519 -2.749372 -1.488633 C -1.375305 -0.686679 -0.229103 -0.229361 0.916047 -0.000202926 Z M 0.916047 -0.000202926 \" transform=\"matrix(-0.95069, 1.750685, 1.750685, 0.95069, 62.476701, 94.759763)\"/>\n",
       "<path fill=\"none\" stroke-width=\"0.59776\" stroke-linecap=\"butt\" stroke-linejoin=\"miter\" stroke=\"rgb(0%, 0%, 0%)\" stroke-opacity=\"1\" stroke-miterlimit=\"10\" d=\"M 14.419367 17.525034 L 15.529126 -14.267804 \" transform=\"matrix(1.992268, 0, 0, -1.992268, 78.421198, 62.305184)\"/>\n",
       "<path fill-rule=\"nonzero\" fill=\"rgb(0%, 0%, 0%)\" fill-opacity=\"1\" stroke-width=\"0.59776\" stroke-linecap=\"butt\" stroke-linejoin=\"round\" stroke=\"rgb(0%, 0%, 0%)\" stroke-opacity=\"1\" stroke-miterlimit=\"10\" d=\"M 0.917111 -0.000571784 C -0.228473 0.22972 -1.373962 0.687593 -2.74878 1.488962 C -1.374125 0.458052 -1.374712 -0.458155 -2.748744 -1.489266 C -1.374875 -0.687696 -0.228801 -0.229363 0.917111 -0.000571784 Z M 0.917111 -0.000571784 \" transform=\"matrix(0.0694903, 1.991013, 1.991013, -0.0694903, 109.359283, 90.728669)\"/>\n",
       "<path fill=\"none\" stroke-width=\"0.59776\" stroke-linecap=\"butt\" stroke-linejoin=\"miter\" stroke=\"rgb(0%, 0%, 0%)\" stroke-opacity=\"1\" stroke-miterlimit=\"10\" d=\"M -18.412644 17.274064 L -23.461461 7.97836 \" transform=\"matrix(1.992268, 0, 0, -1.992268, 78.421198, 62.305184)\"/>\n",
       "<path fill-rule=\"nonzero\" fill=\"rgb(0%, 0%, 0%)\" fill-opacity=\"1\" stroke-width=\"0.59776\" stroke-linecap=\"butt\" stroke-linejoin=\"round\" stroke=\"rgb(0%, 0%, 0%)\" stroke-opacity=\"1\" stroke-miterlimit=\"10\" d=\"M 0.916614 -0.000580152 C -0.230047 0.229075 -1.375662 0.686893 -2.748805 1.489727 C -1.37405 0.457943 -1.374643 -0.457221 -2.748825 -1.489096 C -1.374755 -0.687107 -0.228547 -0.229762 0.916614 -0.000580152 Z M 0.916614 -0.000580152 \" transform=\"matrix(-0.95071, 1.750645, 1.750645, 0.95071, 31.681044, 46.41151)\"/>\n",
       "<path fill=\"none\" stroke-width=\"0.59776\" stroke-linecap=\"butt\" stroke-linejoin=\"miter\" stroke=\"rgb(0%, 0%, 0%)\" stroke-opacity=\"1\" stroke-miterlimit=\"10\" d=\"M -14.353984 17.274064 L -13.191286 -16.022635 \" transform=\"matrix(1.992268, 0, 0, -1.992268, 78.421198, 62.305184)\"/>\n",
       "<path fill-rule=\"nonzero\" fill=\"rgb(0%, 0%, 0%)\" fill-opacity=\"1\" stroke-width=\"0.59776\" stroke-linecap=\"butt\" stroke-linejoin=\"round\" stroke=\"rgb(0%, 0%, 0%)\" stroke-opacity=\"1\" stroke-miterlimit=\"10\" d=\"M 0.917359 -0.000402514 C -0.228225 0.229889 -1.375673 0.687831 -2.750492 1.4892 C -1.373877 0.458221 -1.374464 -0.457985 -2.750455 -1.489028 C -1.374627 -0.687527 -0.228552 -0.229194 0.917359 -0.000402514 Z M 0.917359 -0.000402514 \" transform=\"matrix(0.0694903, 1.991013, 1.991013, -0.0694903, 52.140179, 94.228187)\"/>\n",
       "<path fill=\"none\" stroke-width=\"0.59776\" stroke-linecap=\"butt\" stroke-linejoin=\"miter\" stroke=\"rgb(0%, 0%, 0%)\" stroke-opacity=\"1\" stroke-miterlimit=\"10\" d=\"M -10.124743 17.274064 L 10.192086 -14.612888 \" transform=\"matrix(1.992268, 0, 0, -1.992268, 78.421198, 62.305184)\"/>\n",
       "<path fill-rule=\"nonzero\" fill=\"rgb(0%, 0%, 0%)\" fill-opacity=\"1\" stroke-width=\"0.59776\" stroke-linecap=\"butt\" stroke-linejoin=\"round\" stroke=\"rgb(0%, 0%, 0%)\" stroke-opacity=\"1\" stroke-miterlimit=\"10\" d=\"M 0.91695 -0.0000958561 C -0.229019 0.230218 -1.374253 0.687917 -2.749078 1.489536 C -1.374388 0.457824 -1.374473 -0.458187 -2.749469 -1.488589 C -1.374608 -0.68828 -0.229288 -0.229968 0.91695 -0.0000958561 Z M 0.91695 -0.0000958561 \" transform=\"matrix(1.070525, 1.680079, 1.680079, -1.070525, 98.725574, 91.41638)\"/>\n",
       "<path fill=\"none\" stroke-width=\"0.59776\" stroke-linecap=\"butt\" stroke-linejoin=\"miter\" stroke=\"rgb(0%, 0%, 0%)\" stroke-opacity=\"1\" stroke-miterlimit=\"10\" d=\"M -23.855563 -8.013153 L -18.530287 -16.367719 \" transform=\"matrix(1.992268, 0, 0, -1.992268, 78.421198, 62.305184)\"/>\n",
       "<path fill-rule=\"nonzero\" fill=\"rgb(0%, 0%, 0%)\" fill-opacity=\"1\" stroke-width=\"0.59776\" stroke-linecap=\"butt\" stroke-linejoin=\"round\" stroke=\"rgb(0%, 0%, 0%)\" stroke-opacity=\"1\" stroke-miterlimit=\"10\" d=\"M 0.917395 0.000112152 C -0.229635 0.22873 -1.374884 0.686388 -2.748683 1.489611 C -1.373957 0.457949 -1.37401 -0.458061 -2.750021 -1.490166 C -1.37579 -0.687101 -0.228834 -0.229801 0.917395 0.000112152 Z M 0.917395 0.000112152 \" transform=\"matrix(1.070465, 1.680119, 1.680119, -1.070465, 41.502147, 94.915818)\"/>\n",
       "<path fill=\"none\" stroke-width=\"0.59776\" stroke-linecap=\"butt\" stroke-linejoin=\"miter\" stroke=\"rgb(0%, 0%, 0%)\" stroke-opacity=\"1\" stroke-miterlimit=\"10\" d=\"M -20.447857 -5.003471 L 6.36675 -18.669587 \" transform=\"matrix(1.992268, 0, 0, -1.992268, 78.421198, 62.305184)\"/>\n",
       "<path fill-rule=\"nonzero\" fill=\"rgb(0%, 0%, 0%)\" fill-opacity=\"1\" stroke-width=\"0.59776\" stroke-linecap=\"butt\" stroke-linejoin=\"round\" stroke=\"rgb(0%, 0%, 0%)\" stroke-opacity=\"1\" stroke-miterlimit=\"10\" d=\"M 0.916057 0.000445986 C -0.228293 0.229286 -1.375287 0.687852 -2.750284 1.49016 C -1.375281 0.458983 -1.374368 -0.45824 -2.750176 -1.48952 C -1.374362 -0.687108 -0.230029 -0.229342 0.916057 0.000445986 Z M 0.916057 0.000445986 \" transform=\"matrix(1.775011, 0.904629, 0.904629, -1.775011, 91.104054, 99.500225)\"/>\n",
       "<g clip-path=\"url(#clip-0)\">\n",
       "<path fill=\"none\" stroke-width=\"0.59776\" stroke-linecap=\"butt\" stroke-linejoin=\"miter\" stroke=\"rgb(0%, 0%, 0%)\" stroke-opacity=\"1\" stroke-miterlimit=\"10\" d=\"M -5.285722 -24.79287 L 6.129505 -24.094859 \" transform=\"matrix(1.992268, 0, 0, -1.992268, 78.421198, 62.305184)\"/>\n",
       "</g>\n",
       "<path fill-rule=\"nonzero\" fill=\"rgb(0%, 0%, 0%)\" fill-opacity=\"1\" stroke-width=\"0.59776\" stroke-linecap=\"butt\" stroke-linejoin=\"round\" stroke=\"rgb(0%, 0%, 0%)\" stroke-opacity=\"1\" stroke-miterlimit=\"10\" d=\"M 0.915804 -0.000781221 C -0.229223 0.228368 -1.373947 0.687343 -2.749197 1.488484 C -1.374251 0.457518 -1.375228 -0.457869 -2.750595 -1.489578 C -1.375532 -0.687694 -0.229712 -0.229325 0.915804 -0.000781221 Z M 0.915804 -0.000781221 \" transform=\"matrix(1.988443, -0.121608, -0.121608, -1.988443, 90.632006, 110.309034)\"/>\n",
       "</svg>"
      ],
      "text/plain": [
       "<IPython.core.display.SVG object>"
      ]
     },
     "execution_count": 33,
     "metadata": {},
     "output_type": "execute_result"
    }
   ],
   "source": [
    "%%tikz -j -l=arrows,automata -sc=2\n",
    "\\begin{tikzpicture}[->,>=stealth',shorten >=1pt,auto,node distance=2.8cm, semithick]\n",
    "  \\tikzstyle{every state}=[fill=mymagenta,draw=none,text=white]\n",
    "  \n",
    "  {% for name, angle in nodes.items() -%}\n",
    "       \\node[color=magenta] (v{{ loop.index0 }}) at ({{ angle }}:1) {${{ name }}$};\n",
    "  {% endfor -%}\n",
    "  \n",
    "  {% for n1 in range(n) -%}\n",
    "      {% for n2 in range(n) -%}\n",
    "         {%if n1 < n2 -%}\n",
    "             \\path (v{{n1}}) edge (v{{n2}});\n",
    "         {% endif -%}\n",
    "      {% endfor -%}\n",
    "  {% endfor -%}\n",
    "\\end{tikzpicture}"
   ]
  },
  {
   "cell_type": "markdown",
   "metadata": {},
   "source": [
    "It also works for full documents and implicit pictures:"
   ]
  },
  {
   "cell_type": "code",
   "execution_count": 34,
   "metadata": {},
   "outputs": [
    {
     "data": {
      "image/png": "[encoded data removed]",
      "text/plain": [
       "<IPython.core.display.Image object>"
      ]
     },
     "execution_count": 34,
     "metadata": {},
     "output_type": "execute_result"
    }
   ],
   "source": [
    "%%tikz --use-jinja -as=f -r -d=200\n",
    "\\documentclass[tikz]{standalone}\n",
    "\\usetikzlibrary{arrows,automata}\n",
    "\\definecolor{mymagenta}{RGB}{226,0,116}\n",
    "\\begin{document}\n",
    "\\begin{tikzpicture}[->,>=stealth',shorten >=1pt,auto,node distance=2.8cm,\n",
    "                    semithick]\n",
    "  \\tikzstyle{every state}=[fill=mymagenta,draw=none,text=white]\n",
    "  \n",
    "  {% for name, angle in nodes.items() -%}\n",
    "       \\node[color=mymagenta] (v{{loop.index0}}) at ({{angle}}:1) {${{name}}$};\n",
    "  {% endfor -%}\n",
    "  \n",
    "  {% for n1 in range(n) -%}\n",
    "      {% for n2 in range(n) -%}\n",
    "         {%if n1 < n2 -%}\n",
    "             \\path (v{{n1}}) edge (v{{n2}});\n",
    "         {% endif -%}\n",
    "      {% endfor -%}\n",
    "  {% endfor -%}\n",
    "\\end{tikzpicture}\n",
    "\\end{document}"
   ]
  },
  {
   "cell_type": "markdown",
   "metadata": {},
   "source": [
    "Sometimes, you'll make mistakes. Debugging transpiled code is challenging, especially without a mapping.\n",
    "\n",
    "To assist, you can print the Jinja template using `-pj` (or `--print-jinja`):\n",
    "\n",
    "> **Note:** The saved code file is also the interpolated code source."
   ]
  },
  {
   "cell_type": "code",
   "execution_count": 35,
   "metadata": {},
   "outputs": [
    {
     "name": "stdout",
     "output_type": "stream",
     "text": [
      "\\begin{tikzpicture}[->,>=stealth',shorten >=1pt,auto,node distance=2.8cm, semithick]\n",
      "  \\tikzstyle{every state}=[fill=mymagenta,draw=none,text=white]\n",
      "  \n",
      "  \\node[color=magenta] (v0) at (0:1) {$A$};\n",
      "  \\node[color=magenta] (v1) at (60:1) {$B$};\n",
      "  \\node[color=magenta] (v2) at (121:1) {$C$};\n",
      "  \\node[color=magenta] (v3) at (182:1) {$D$};\n",
      "  \\node[color=magenta] (v4) at (243:1) {$E$};\n",
      "  \\node[color=magenta] (v5) at (304:1) {$F$};\n",
      "  \\path (v0) edge (v1);\n",
      "         \\path (v0) edge (v2);\n",
      "         \\path (v0) edge (v3);\n",
      "         \\path (v0) edge (v4);\n",
      "         \\path (v0) edge (v5);\n",
      "         \\path (v1) edge (v2);\n",
      "         \\path (v1) edge (v3);\n",
      "         \\path (v1) edge (v4);\n",
      "         \\path (v1) edge (v5);\n",
      "         \\path (v2) edge (v3);\n",
      "         \\path (v2) edge (v4);\n",
      "         \\path (v2) edge (v5);\n",
      "         \\path (v3) edge (v4);\n",
      "         \\path (v3) edge (v5);\n",
      "         \\path (v4) edge (v5);\n",
      "         \\end{tikzpicture}\n"
     ]
    },
    {
     "data": {
      "image/svg+xml": [
       "<svg xmlns=\"http://www.w3.org/2000/svg\" xmlns:xlink=\"http://www.w3.org/1999/xlink\" width=\"155.914\" height=\"126.509\" viewBox=\"0 0 155.914 126.509\">\n",
       "<defs>\n",
       "<g>\n",
       "<g id=\"glyph-0-0\">\n",
       "<path d=\"M 3.546875 -2.28125 C 2.765625 -0.953125 1.984375 -0.671875 1.109375 -0.609375 C 0.875 -0.59375 0.6875 -0.59375 0.6875 -0.21875 C 0.6875 -0.09375 0.796875 0 0.953125 0 C 1.484375 0 2.109375 -0.0625 2.65625 -0.0625 C 3.3125 -0.0625 4.015625 0 4.640625 0 C 4.765625 0 5.015625 0 5.015625 -0.375 C 5.015625 -0.59375 4.84375 -0.609375 4.703125 -0.609375 C 4.25 -0.65625 3.765625 -0.8125 3.765625 -1.3125 C 3.765625 -1.546875 3.890625 -1.765625 4.046875 -2.046875 L 5.5625 -4.578125 L 10.53125 -4.578125 C 10.578125 -4.171875 10.859375 -1.46875 10.859375 -1.265625 C 10.859375 -0.671875 9.828125 -0.609375 9.421875 -0.609375 C 9.140625 -0.609375 8.953125 -0.609375 8.953125 -0.21875 C 8.953125 0 9.1875 0 9.234375 0 C 10.046875 0 10.890625 -0.0625 11.703125 -0.0625 C 12.203125 -0.0625 13.453125 0 13.953125 0 C 14.0625 0 14.3125 0 14.3125 -0.390625 C 14.3125 -0.609375 14.109375 -0.609375 13.84375 -0.609375 C 12.625 -0.609375 12.625 -0.75 12.5625 -1.328125 L 11.34375 -13.734375 C 11.3125 -14.125 11.3125 -14.203125 10.96875 -14.203125 C 10.65625 -14.203125 10.578125 -14.0625 10.453125 -13.875 Z M 5.9375 -5.203125 L 9.84375 -11.75 L 10.484375 -5.203125 Z M 5.9375 -5.203125 \"/>\n",
       "</g>\n",
       "<g id=\"glyph-0-1\">\n",
       "<path d=\"M 3.171875 -1.546875 C 2.984375 -0.78125 2.9375 -0.609375 1.375 -0.609375 C 1.03125 -0.609375 0.828125 -0.609375 0.828125 -0.21875 C 0.828125 0 1.015625 0 1.375 0 L 8.453125 0 C 11.59375 0 13.9375 -2.34375 13.9375 -4.28125 C 13.9375 -5.71875 12.78125 -6.859375 10.859375 -7.078125 C 12.921875 -7.46875 15 -8.9375 15 -10.8125 C 15 -12.28125 13.6875 -13.546875 11.3125 -13.546875 L 4.640625 -13.546875 C 4.265625 -13.546875 4.0625 -13.546875 4.0625 -13.15625 C 4.0625 -12.9375 4.25 -12.9375 4.625 -12.9375 C 4.65625 -12.9375 5.046875 -12.9375 5.375 -12.90625 C 5.734375 -12.859375 5.90625 -12.84375 5.90625 -12.578125 C 5.90625 -12.5 5.890625 -12.4375 5.828125 -12.203125 Z M 6.171875 -7.265625 L 7.40625 -12.1875 C 7.578125 -12.875 7.625 -12.9375 8.46875 -12.9375 L 11.03125 -12.9375 C 12.78125 -12.9375 13.203125 -11.765625 13.203125 -10.890625 C 13.203125 -9.140625 11.484375 -7.265625 9.0625 -7.265625 Z M 5.28125 -0.609375 C 5 -0.609375 4.96875 -0.609375 4.84375 -0.640625 C 4.640625 -0.65625 4.578125 -0.671875 4.578125 -0.828125 C 4.578125 -0.890625 4.578125 -0.9375 4.6875 -1.296875 L 6.046875 -6.828125 L 9.796875 -6.828125 C 11.703125 -6.828125 12.078125 -5.359375 12.078125 -4.5 C 12.078125 -2.546875 10.3125 -0.609375 7.984375 -0.609375 Z M 5.28125 -0.609375 \"/>\n",
       "</g>\n",
       "<g id=\"glyph-0-2\">\n",
       "<path d=\"M 15.078125 -13.796875 C 15.078125 -13.84375 15.046875 -13.984375 14.859375 -13.984375 C 14.796875 -13.984375 14.78125 -13.96875 14.5625 -13.75 L 13.171875 -12.21875 C 13 -12.5 12.078125 -13.984375 9.875 -13.984375 C 5.453125 -13.984375 1 -9.609375 1 -5 C 1 -1.71875 3.328125 0.4375 6.375 0.4375 C 8.09375 0.4375 9.609375 -0.359375 10.65625 -1.265625 C 12.5 -2.890625 12.84375 -4.703125 12.84375 -4.765625 C 12.84375 -4.96875 12.640625 -4.96875 12.59375 -4.96875 C 12.484375 -4.96875 12.375 -4.921875 12.34375 -4.765625 C 12.171875 -4.1875 11.703125 -2.78125 10.34375 -1.625 C 8.96875 -0.515625 7.71875 -0.171875 6.6875 -0.171875 C 4.90625 -0.171875 2.796875 -1.203125 2.796875 -4.3125 C 2.796875 -5.4375 3.21875 -8.65625 5.203125 -10.96875 C 6.40625 -12.375 8.28125 -13.375 10.046875 -13.375 C 12.0625 -13.375 13.234375 -11.84375 13.234375 -9.546875 C 13.234375 -8.75 13.171875 -8.734375 13.171875 -8.53125 C 13.171875 -8.328125 13.390625 -8.328125 13.46875 -8.328125 C 13.734375 -8.328125 13.734375 -8.375 13.828125 -8.734375 Z M 15.078125 -13.796875 \"/>\n",
       "</g>\n",
       "<g id=\"glyph-0-3\">\n",
       "<path d=\"M 3.15625 -1.546875 C 2.953125 -0.78125 2.921875 -0.609375 1.34375 -0.609375 C 1.015625 -0.609375 0.796875 -0.609375 0.796875 -0.234375 C 0.796875 0 0.96875 0 1.34375 0 L 7.921875 0 C 12.046875 0 15.953125 -4.1875 15.953125 -8.53125 C 15.953125 -11.328125 14.265625 -13.546875 11.296875 -13.546875 L 4.625 -13.546875 C 4.25 -13.546875 4.03125 -13.546875 4.03125 -13.171875 C 4.03125 -12.9375 4.203125 -12.9375 4.609375 -12.9375 C 4.859375 -12.9375 5.21875 -12.921875 5.453125 -12.90625 C 5.78125 -12.859375 5.890625 -12.796875 5.890625 -12.578125 C 5.890625 -12.5 5.875 -12.4375 5.8125 -12.203125 Z M 7.4375 -12.1875 C 7.625 -12.875 7.65625 -12.9375 8.515625 -12.9375 L 10.640625 -12.9375 C 12.578125 -12.9375 14.234375 -11.890625 14.234375 -9.265625 C 14.234375 -8.296875 13.828125 -5.046875 12.140625 -2.859375 C 11.5625 -2.125 10 -0.609375 7.5625 -0.609375 L 5.3125 -0.609375 C 5.046875 -0.609375 5 -0.609375 4.875 -0.640625 C 4.6875 -0.65625 4.625 -0.671875 4.625 -0.828125 C 4.625 -0.890625 4.625 -0.9375 4.71875 -1.296875 Z M 7.4375 -12.1875 \"/>\n",
       "</g>\n",
       "<g id=\"glyph-0-4\">\n",
       "<path d=\"M 14.046875 -4.625 C 14.09375 -4.71875 14.15625 -4.859375 14.15625 -4.90625 C 14.15625 -4.921875 14.15625 -5.125 13.90625 -5.125 C 13.734375 -5.125 13.6875 -5 13.65625 -4.875 C 12.359375 -1.9375 11.625 -0.609375 8.234375 -0.609375 L 5.34375 -0.609375 C 5.0625 -0.609375 5.015625 -0.609375 4.90625 -0.640625 C 4.703125 -0.65625 4.640625 -0.671875 4.640625 -0.828125 C 4.640625 -0.890625 4.640625 -0.9375 4.75 -1.296875 L 6.09375 -6.703125 L 8.0625 -6.703125 C 9.75 -6.703125 9.75 -6.296875 9.75 -5.796875 C 9.75 -5.65625 9.75 -5.421875 9.609375 -4.828125 C 9.5625 -4.71875 9.546875 -4.65625 9.546875 -4.609375 C 9.546875 -4.5 9.625 -4.390625 9.796875 -4.390625 C 9.96875 -4.390625 10.015625 -4.484375 10.09375 -4.78125 L 11.234375 -9.421875 C 11.234375 -9.546875 11.125 -9.640625 11 -9.640625 C 10.8125 -9.640625 10.78125 -9.53125 10.71875 -9.28125 C 10.296875 -7.78125 9.9375 -7.328125 8.109375 -7.328125 L 6.25 -7.328125 L 7.4375 -12.109375 C 7.625 -12.796875 7.640625 -12.875 8.515625 -12.875 L 11.3125 -12.875 C 13.734375 -12.875 14.328125 -12.296875 14.328125 -10.671875 C 14.328125 -10.203125 14.328125 -10.15625 14.25 -9.625 C 14.25 -9.5 14.234375 -9.359375 14.234375 -9.265625 C 14.234375 -9.171875 14.28125 -9.03125 14.46875 -9.03125 C 14.6875 -9.03125 14.703125 -9.140625 14.75 -9.53125 L 15.140625 -12.953125 C 15.203125 -13.5 15.09375 -13.5 14.609375 -13.5 L 4.578125 -13.5 C 4.1875 -13.5 3.984375 -13.5 3.984375 -13.09375 C 3.984375 -12.875 4.171875 -12.875 4.546875 -12.875 C 5.28125 -12.875 5.828125 -12.875 5.828125 -12.515625 C 5.828125 -12.4375 5.828125 -12.40625 5.734375 -12.046875 L 3.109375 -1.546875 C 2.921875 -0.78125 2.875 -0.609375 1.3125 -0.609375 C 0.96875 -0.609375 0.75 -0.609375 0.75 -0.234375 C 0.75 0 0.9375 0 1.3125 0 L 11.609375 0 C 12.0625 0 12.078125 -0.015625 12.21875 -0.34375 Z M 14.046875 -4.625 \"/>\n",
       "</g>\n",
       "<g id=\"glyph-0-5\">\n",
       "<path d=\"M 6.015625 -6.453125 L 7.9375 -6.453125 C 9.421875 -6.453125 9.578125 -6.125 9.578125 -5.5625 C 9.578125 -5.421875 9.578125 -5.171875 9.453125 -4.578125 C 9.40625 -4.484375 9.390625 -4.40625 9.390625 -4.359375 C 9.390625 -4.203125 9.5 -4.125 9.625 -4.125 C 9.828125 -4.125 9.828125 -4.1875 9.921875 -4.546875 L 11.015625 -8.84375 C 11.078125 -9.0625 11.078125 -9.109375 11.078125 -9.171875 C 11.078125 -9.203125 11.03125 -9.390625 10.828125 -9.390625 C 10.640625 -9.390625 10.609375 -9.28125 10.53125 -8.96875 C 10.125 -7.421875 9.65625 -7.0625 7.984375 -7.0625 L 6.171875 -7.0625 L 7.4375 -12.109375 C 7.625 -12.796875 7.640625 -12.875 8.515625 -12.875 L 11.125 -12.875 C 13.578125 -12.875 14.03125 -12.21875 14.03125 -10.703125 C 14.03125 -10.234375 14.03125 -10.15625 13.96875 -9.625 C 13.9375 -9.359375 13.9375 -9.328125 13.9375 -9.265625 C 13.9375 -9.171875 13.984375 -9.03125 14.171875 -9.03125 C 14.390625 -9.03125 14.40625 -9.140625 14.453125 -9.53125 L 14.84375 -12.953125 C 14.90625 -13.5 14.796875 -13.5 14.3125 -13.5 L 4.578125 -13.5 C 4.1875 -13.5 3.984375 -13.5 3.984375 -13.09375 C 3.984375 -12.875 4.171875 -12.875 4.546875 -12.875 C 5.28125 -12.875 5.828125 -12.875 5.828125 -12.515625 C 5.828125 -12.4375 5.828125 -12.40625 5.734375 -12.046875 L 3.109375 -1.546875 C 2.921875 -0.78125 2.875 -0.609375 1.3125 -0.609375 C 0.96875 -0.609375 0.75 -0.609375 0.75 -0.234375 C 0.75 0 1 0 1.046875 0 C 1.625 0 3.09375 -0.0625 3.671875 -0.0625 C 4.328125 -0.0625 5.96875 0 6.625 0 C 6.8125 0 7.046875 0 7.046875 -0.375 C 7.046875 -0.53125 6.921875 -0.578125 6.921875 -0.59375 C 6.859375 -0.609375 6.828125 -0.609375 6.375 -0.609375 C 5.9375 -0.609375 5.828125 -0.609375 5.34375 -0.65625 C 4.765625 -0.71875 4.703125 -0.796875 4.703125 -1.046875 C 4.703125 -1.09375 4.703125 -1.203125 4.78125 -1.515625 Z M 6.015625 -6.453125 \"/>\n",
       "</g>\n",
       "</g>\n",
       "<clipPath id=\"clip-0\">\n",
       "<path clip-rule=\"nonzero\" d=\"M 51 93 L 108 93 L 108 126.019531 L 51 126.019531 Z M 51 93 \"/>\n",
       "</clipPath>\n",
       "</defs>\n",
       "<g fill=\"rgb(92.549133%, 0%, 54.899597%)\" fill-opacity=\"1\">\n",
       "<use xlink:href=\"#glyph-0-0\" x=\"127.450907\" y=\"69.086864\"/>\n",
       "</g>\n",
       "<g fill=\"rgb(92.549133%, 0%, 54.899597%)\" fill-opacity=\"1\">\n",
       "<use xlink:href=\"#glyph-0-1\" x=\"98.632754\" y=\"20.178684\"/>\n",
       "</g>\n",
       "<g fill=\"rgb(92.549133%, 0%, 54.899597%)\" fill-opacity=\"1\">\n",
       "<use xlink:href=\"#glyph-0-2\" x=\"41.532369\" y=\"20.678743\"/>\n",
       "</g>\n",
       "<g fill=\"rgb(92.549133%, 0%, 54.899597%)\" fill-opacity=\"1\">\n",
       "<use xlink:href=\"#glyph-0-3\" x=\"13.489209\" y=\"71.057217\"/>\n",
       "</g>\n",
       "<g fill=\"rgb(92.549133%, 0%, 54.899597%)\" fill-opacity=\"1\">\n",
       "<use xlink:href=\"#glyph-0-4\" x=\"44.885356\" y=\"119.403577\"/>\n",
       "</g>\n",
       "<g fill=\"rgb(92.549133%, 0%, 54.899597%)\" fill-opacity=\"1\">\n",
       "<use xlink:href=\"#glyph-0-5\" x=\"102.240751\" y=\"115.905155\"/>\n",
       "</g>\n",
       "<path fill=\"none\" stroke-width=\"0.59776\" stroke-linecap=\"butt\" stroke-linejoin=\"miter\" stroke=\"rgb(0%, 0%, 0%)\" stroke-opacity=\"1\" stroke-miterlimit=\"10\" d=\"M 24.291518 7.023496 L 19.332895 15.611386 \" transform=\"matrix(1.992268, 0, 0, -1.992268, 78.421198, 62.305184)\"/>\n",
       "<path fill-rule=\"nonzero\" fill=\"rgb(0%, 0%, 0%)\" fill-opacity=\"1\" stroke-width=\"0.59776\" stroke-linecap=\"butt\" stroke-linejoin=\"round\" stroke=\"rgb(0%, 0%, 0%)\" stroke-opacity=\"1\" stroke-miterlimit=\"10\" d=\"M 0.916449 0.00103111 C -0.228461 0.229733 -1.374516 0.687776 -2.750293 1.489043 C -1.375068 0.459416 -1.374858 -0.457684 -2.749235 -1.488921 C -1.373712 -0.687025 -0.228846 -0.229666 0.916449 0.00103111 Z M 0.916449 0.00103111 \" transform=\"matrix(-0.996293, -1.725264, -1.725264, 0.996293, 116.938268, 31.205088)\"/>\n",
       "<path fill=\"none\" stroke-width=\"0.59776\" stroke-linecap=\"butt\" stroke-linejoin=\"miter\" stroke=\"rgb(0%, 0%, 0%)\" stroke-opacity=\"1\" stroke-miterlimit=\"10\" d=\"M 20.991651 4.158906 L -5.138669 18.946545 \" transform=\"matrix(1.992268, 0, 0, -1.992268, 78.421198, 62.305184)\"/>\n",
       "<path fill-rule=\"nonzero\" fill=\"rgb(0%, 0%, 0%)\" fill-opacity=\"1\" stroke-width=\"0.59776\" stroke-linecap=\"butt\" stroke-linejoin=\"round\" stroke=\"rgb(0%, 0%, 0%)\" stroke-opacity=\"1\" stroke-miterlimit=\"10\" d=\"M 0.916703 -0.000204821 C -0.229538 0.229831 -1.37433 0.688232 -2.749212 1.489551 C -1.374812 0.45816 -1.374294 -0.458491 -2.749104 -1.488766 C -1.375741 -0.686856 -0.228795 -0.229348 0.916703 -0.000204821 Z M 0.916703 -0.000204821 \" transform=\"matrix(-1.733851, -0.981112, -0.981112, 1.733851, 68.182974, 24.559899)\"/>\n",
       "<path fill=\"none\" stroke-width=\"0.59776\" stroke-linecap=\"butt\" stroke-linejoin=\"miter\" stroke=\"rgb(0%, 0%, 0%)\" stroke-opacity=\"1\" stroke-miterlimit=\"10\" d=\"M 20.991651 -0.129157 L -18.236181 -0.813443 \" transform=\"matrix(1.992268, 0, 0, -1.992268, 78.421198, 62.305184)\"/>\n",
       "<path fill-rule=\"nonzero\" fill=\"rgb(0%, 0%, 0%)\" fill-opacity=\"1\" stroke-width=\"0.59776\" stroke-linecap=\"butt\" stroke-linejoin=\"round\" stroke=\"rgb(0%, 0%, 0%)\" stroke-opacity=\"1\" stroke-miterlimit=\"10\" d=\"M 0.915836 -0.0000132409 C -0.229324 0.229793 -1.374439 0.687079 -2.748856 1.489585 C -1.374519 0.457639 -1.374805 -0.458162 -2.749828 -1.489216 C -1.374885 -0.687602 -0.229484 -0.229087 0.915836 -0.0000132409 Z M 0.915836 -0.0000132409 \" transform=\"matrix(-1.991929, 0.0347451, 0.0347451, 1.991929, 42.089905, 63.925237)\"/>\n",
       "<path fill=\"none\" stroke-width=\"0.59776\" stroke-linecap=\"butt\" stroke-linejoin=\"miter\" stroke=\"rgb(0%, 0%, 0%)\" stroke-opacity=\"1\" stroke-miterlimit=\"10\" d=\"M 20.991651 -4.507412 L -3.399523 -19.453869 \" transform=\"matrix(1.992268, 0, 0, -1.992268, 78.421198, 62.305184)\"/>\n",
       "<path fill-rule=\"nonzero\" fill=\"rgb(0%, 0%, 0%)\" fill-opacity=\"1\" stroke-width=\"0.59776\" stroke-linecap=\"butt\" stroke-linejoin=\"round\" stroke=\"rgb(0%, 0%, 0%)\" stroke-opacity=\"1\" stroke-miterlimit=\"10\" d=\"M 0.917356 0.000202256 C -0.229945 0.229566 -1.3751 0.687589 -2.749416 1.488431 C -1.375575 0.457904 -1.375426 -0.457491 -2.750468 -1.489112 C -1.374229 -0.6882 -0.228199 -0.229157 0.917356 0.000202256 Z M 0.917356 0.000202256 \" transform=\"matrix(-1.698548, 1.04094, 1.04094, 1.698548, 71.647807, 101.064275)\"/>\n",
       "<path fill=\"none\" stroke-width=\"0.59776\" stroke-linecap=\"butt\" stroke-linejoin=\"miter\" stroke=\"rgb(0%, 0%, 0%)\" stroke-opacity=\"1\" stroke-miterlimit=\"10\" d=\"M 24.613074 -7.022997 L 20.623039 -14.524656 \" transform=\"matrix(1.992268, 0, 0, -1.992268, 78.421198, 62.305184)\"/>\n",
       "<path fill-rule=\"nonzero\" fill=\"rgb(0%, 0%, 0%)\" fill-opacity=\"1\" stroke-width=\"0.59776\" stroke-linecap=\"butt\" stroke-linejoin=\"round\" stroke=\"rgb(0%, 0%, 0%)\" stroke-opacity=\"1\" stroke-miterlimit=\"10\" d=\"M 0.91697 0.000646498 C -0.228191 0.228898 -1.375614 0.686909 -2.750072 1.488328 C -1.374274 0.458881 -1.374917 -0.458644 -2.749852 -1.489622 C -1.375308 -0.687592 -0.228974 -0.228999 0.91697 0.000646498 Z M 0.91697 0.000646498 \" transform=\"matrix(-0.93539, 1.758953, 1.758953, 0.93539, 119.508931, 91.241957)\"/>\n",
       "<path fill=\"none\" stroke-width=\"0.59776\" stroke-linecap=\"butt\" stroke-linejoin=\"miter\" stroke=\"rgb(0%, 0%, 0%)\" stroke-opacity=\"1\" stroke-miterlimit=\"10\" d=\"M 6.525567 24.481617 L -4.852406 24.383581 \" transform=\"matrix(1.992268, 0, 0, -1.992268, 78.421198, 62.305184)\"/>\n",
       "<path fill-rule=\"nonzero\" fill=\"rgb(0%, 0%, 0%)\" fill-opacity=\"1\" stroke-width=\"0.59776\" stroke-linecap=\"butt\" stroke-linejoin=\"round\" stroke=\"rgb(0%, 0%, 0%)\" stroke-opacity=\"1\" stroke-miterlimit=\"10\" d=\"M 0.91585 -0.000863979 C -0.229261 0.228753 -1.37433 0.687792 -2.749747 1.490036 C -1.374372 0.458369 -1.374523 -0.457362 -2.750261 -1.488539 C -1.374566 -0.686784 -0.229345 -0.230093 0.91585 -0.000863979 Z M 0.91585 -0.000863979 \" transform=\"matrix(-1.992088, 0.0173925, 0.0173925, 1.992088, 68.754158, 13.72798)\"/>\n",
       "<path fill=\"none\" stroke-width=\"0.59776\" stroke-linecap=\"butt\" stroke-linejoin=\"miter\" stroke=\"rgb(0%, 0%, 0%)\" stroke-opacity=\"1\" stroke-miterlimit=\"10\" d=\"M 6.525567 19.956309 L -18.551855 4.886327 \" transform=\"matrix(1.992268, 0, 0, -1.992268, 78.421198, 62.305184)\"/>\n",
       "<path fill-rule=\"nonzero\" fill=\"rgb(0%, 0%, 0%)\" fill-opacity=\"1\" stroke-width=\"0.59776\" stroke-linecap=\"butt\" stroke-linejoin=\"round\" stroke=\"rgb(0%, 0%, 0%)\" stroke-opacity=\"1\" stroke-miterlimit=\"10\" d=\"M 0.916888 -0.000801487 C -0.228953 0.228004 -1.375302 0.688163 -2.749398 1.488788 C -1.373784 0.458491 -1.375445 -0.45784 -2.750173 -1.489207 C -1.373927 -0.687513 -0.229279 -0.229321 0.916888 -0.000801487 Z M 0.916888 -0.000801487 \" transform=\"matrix(-1.707573, 1.026197, 1.026197, 1.707573, 41.461006, 52.57218)\"/>\n",
       "<path fill=\"none\" stroke-width=\"0.59776\" stroke-linecap=\"butt\" stroke-linejoin=\"miter\" stroke=\"rgb(0%, 0%, 0%)\" stroke-opacity=\"1\" stroke-miterlimit=\"10\" d=\"M 10.360707 17.525034 L -8.00326 -16.291251 \" transform=\"matrix(1.992268, 0, 0, -1.992268, 78.421198, 62.305184)\"/>\n",
       "<path fill-rule=\"nonzero\" fill=\"rgb(0%, 0%, 0%)\" fill-opacity=\"1\" stroke-width=\"0.59776\" stroke-linecap=\"butt\" stroke-linejoin=\"round\" stroke=\"rgb(0%, 0%, 0%)\" stroke-opacity=\"1\" stroke-miterlimit=\"10\" d=\"M 0.916047 -0.000202926 C -0.227936 0.228683 -1.374464 0.688239 -2.749298 1.490152 C -1.374579 0.458356 -1.374254 -0.458519 -2.749372 -1.488633 C -1.375305 -0.686679 -0.229103 -0.229361 0.916047 -0.000202926 Z M 0.916047 -0.000202926 \" transform=\"matrix(-0.95069, 1.750685, 1.750685, 0.95069, 62.476701, 94.759763)\"/>\n",
       "<path fill=\"none\" stroke-width=\"0.59776\" stroke-linecap=\"butt\" stroke-linejoin=\"miter\" stroke=\"rgb(0%, 0%, 0%)\" stroke-opacity=\"1\" stroke-miterlimit=\"10\" d=\"M 14.419367 17.525034 L 15.529126 -14.267804 \" transform=\"matrix(1.992268, 0, 0, -1.992268, 78.421198, 62.305184)\"/>\n",
       "<path fill-rule=\"nonzero\" fill=\"rgb(0%, 0%, 0%)\" fill-opacity=\"1\" stroke-width=\"0.59776\" stroke-linecap=\"butt\" stroke-linejoin=\"round\" stroke=\"rgb(0%, 0%, 0%)\" stroke-opacity=\"1\" stroke-miterlimit=\"10\" d=\"M 0.917111 -0.000571784 C -0.228473 0.22972 -1.373962 0.687593 -2.74878 1.488962 C -1.374125 0.458052 -1.374712 -0.458155 -2.748744 -1.489266 C -1.374875 -0.687696 -0.228801 -0.229363 0.917111 -0.000571784 Z M 0.917111 -0.000571784 \" transform=\"matrix(0.0694903, 1.991013, 1.991013, -0.0694903, 109.359283, 90.728669)\"/>\n",
       "<path fill=\"none\" stroke-width=\"0.59776\" stroke-linecap=\"butt\" stroke-linejoin=\"miter\" stroke=\"rgb(0%, 0%, 0%)\" stroke-opacity=\"1\" stroke-miterlimit=\"10\" d=\"M -18.412644 17.274064 L -23.461461 7.97836 \" transform=\"matrix(1.992268, 0, 0, -1.992268, 78.421198, 62.305184)\"/>\n",
       "<path fill-rule=\"nonzero\" fill=\"rgb(0%, 0%, 0%)\" fill-opacity=\"1\" stroke-width=\"0.59776\" stroke-linecap=\"butt\" stroke-linejoin=\"round\" stroke=\"rgb(0%, 0%, 0%)\" stroke-opacity=\"1\" stroke-miterlimit=\"10\" d=\"M 0.916614 -0.000580152 C -0.230047 0.229075 -1.375662 0.686893 -2.748805 1.489727 C -1.37405 0.457943 -1.374643 -0.457221 -2.748825 -1.489096 C -1.374755 -0.687107 -0.228547 -0.229762 0.916614 -0.000580152 Z M 0.916614 -0.000580152 \" transform=\"matrix(-0.95071, 1.750645, 1.750645, 0.95071, 31.681044, 46.41151)\"/>\n",
       "<path fill=\"none\" stroke-width=\"0.59776\" stroke-linecap=\"butt\" stroke-linejoin=\"miter\" stroke=\"rgb(0%, 0%, 0%)\" stroke-opacity=\"1\" stroke-miterlimit=\"10\" d=\"M -14.353984 17.274064 L -13.191286 -16.022635 \" transform=\"matrix(1.992268, 0, 0, -1.992268, 78.421198, 62.305184)\"/>\n",
       "<path fill-rule=\"nonzero\" fill=\"rgb(0%, 0%, 0%)\" fill-opacity=\"1\" stroke-width=\"0.59776\" stroke-linecap=\"butt\" stroke-linejoin=\"round\" stroke=\"rgb(0%, 0%, 0%)\" stroke-opacity=\"1\" stroke-miterlimit=\"10\" d=\"M 0.917359 -0.000402514 C -0.228225 0.229889 -1.375673 0.687831 -2.750492 1.4892 C -1.373877 0.458221 -1.374464 -0.457985 -2.750455 -1.489028 C -1.374627 -0.687527 -0.228552 -0.229194 0.917359 -0.000402514 Z M 0.917359 -0.000402514 \" transform=\"matrix(0.0694903, 1.991013, 1.991013, -0.0694903, 52.140179, 94.228187)\"/>\n",
       "<path fill=\"none\" stroke-width=\"0.59776\" stroke-linecap=\"butt\" stroke-linejoin=\"miter\" stroke=\"rgb(0%, 0%, 0%)\" stroke-opacity=\"1\" stroke-miterlimit=\"10\" d=\"M -10.124743 17.274064 L 10.192086 -14.612888 \" transform=\"matrix(1.992268, 0, 0, -1.992268, 78.421198, 62.305184)\"/>\n",
       "<path fill-rule=\"nonzero\" fill=\"rgb(0%, 0%, 0%)\" fill-opacity=\"1\" stroke-width=\"0.59776\" stroke-linecap=\"butt\" stroke-linejoin=\"round\" stroke=\"rgb(0%, 0%, 0%)\" stroke-opacity=\"1\" stroke-miterlimit=\"10\" d=\"M 0.91695 -0.0000958561 C -0.229019 0.230218 -1.374253 0.687917 -2.749078 1.489536 C -1.374388 0.457824 -1.374473 -0.458187 -2.749469 -1.488589 C -1.374608 -0.68828 -0.229288 -0.229968 0.91695 -0.0000958561 Z M 0.91695 -0.0000958561 \" transform=\"matrix(1.070525, 1.680079, 1.680079, -1.070525, 98.725574, 91.41638)\"/>\n",
       "<path fill=\"none\" stroke-width=\"0.59776\" stroke-linecap=\"butt\" stroke-linejoin=\"miter\" stroke=\"rgb(0%, 0%, 0%)\" stroke-opacity=\"1\" stroke-miterlimit=\"10\" d=\"M -23.855563 -8.013153 L -18.530287 -16.367719 \" transform=\"matrix(1.992268, 0, 0, -1.992268, 78.421198, 62.305184)\"/>\n",
       "<path fill-rule=\"nonzero\" fill=\"rgb(0%, 0%, 0%)\" fill-opacity=\"1\" stroke-width=\"0.59776\" stroke-linecap=\"butt\" stroke-linejoin=\"round\" stroke=\"rgb(0%, 0%, 0%)\" stroke-opacity=\"1\" stroke-miterlimit=\"10\" d=\"M 0.917395 0.000112152 C -0.229635 0.22873 -1.374884 0.686388 -2.748683 1.489611 C -1.373957 0.457949 -1.37401 -0.458061 -2.750021 -1.490166 C -1.37579 -0.687101 -0.228834 -0.229801 0.917395 0.000112152 Z M 0.917395 0.000112152 \" transform=\"matrix(1.070465, 1.680119, 1.680119, -1.070465, 41.502147, 94.915818)\"/>\n",
       "<path fill=\"none\" stroke-width=\"0.59776\" stroke-linecap=\"butt\" stroke-linejoin=\"miter\" stroke=\"rgb(0%, 0%, 0%)\" stroke-opacity=\"1\" stroke-miterlimit=\"10\" d=\"M -20.447857 -5.003471 L 6.36675 -18.669587 \" transform=\"matrix(1.992268, 0, 0, -1.992268, 78.421198, 62.305184)\"/>\n",
       "<path fill-rule=\"nonzero\" fill=\"rgb(0%, 0%, 0%)\" fill-opacity=\"1\" stroke-width=\"0.59776\" stroke-linecap=\"butt\" stroke-linejoin=\"round\" stroke=\"rgb(0%, 0%, 0%)\" stroke-opacity=\"1\" stroke-miterlimit=\"10\" d=\"M 0.916057 0.000445986 C -0.228293 0.229286 -1.375287 0.687852 -2.750284 1.49016 C -1.375281 0.458983 -1.374368 -0.45824 -2.750176 -1.48952 C -1.374362 -0.687108 -0.230029 -0.229342 0.916057 0.000445986 Z M 0.916057 0.000445986 \" transform=\"matrix(1.775011, 0.904629, 0.904629, -1.775011, 91.104054, 99.500225)\"/>\n",
       "<g clip-path=\"url(#clip-0)\">\n",
       "<path fill=\"none\" stroke-width=\"0.59776\" stroke-linecap=\"butt\" stroke-linejoin=\"miter\" stroke=\"rgb(0%, 0%, 0%)\" stroke-opacity=\"1\" stroke-miterlimit=\"10\" d=\"M -5.285722 -24.79287 L 6.129505 -24.094859 \" transform=\"matrix(1.992268, 0, 0, -1.992268, 78.421198, 62.305184)\"/>\n",
       "</g>\n",
       "<path fill-rule=\"nonzero\" fill=\"rgb(0%, 0%, 0%)\" fill-opacity=\"1\" stroke-width=\"0.59776\" stroke-linecap=\"butt\" stroke-linejoin=\"round\" stroke=\"rgb(0%, 0%, 0%)\" stroke-opacity=\"1\" stroke-miterlimit=\"10\" d=\"M 0.915804 -0.000781221 C -0.229223 0.228368 -1.373947 0.687343 -2.749197 1.488484 C -1.374251 0.457518 -1.375228 -0.457869 -2.750595 -1.489578 C -1.375532 -0.687694 -0.229712 -0.229325 0.915804 -0.000781221 Z M 0.915804 -0.000781221 \" transform=\"matrix(1.988443, -0.121608, -0.121608, -1.988443, 90.632006, 110.309034)\"/>\n",
       "</svg>"
      ],
      "text/plain": [
       "<IPython.core.display.SVG object>"
      ]
     },
     "execution_count": 35,
     "metadata": {},
     "output_type": "execute_result"
    }
   ],
   "source": [
    "%%tikz -pj -l=arrows,automata -sc=2 --save-tex=outputs/jinja_rendered.tex\n",
    "\\begin{tikzpicture}[->,>=stealth',shorten >=1pt,auto,node distance=2.8cm, semithick]\n",
    "  \\tikzstyle{every state}=[fill=mymagenta,draw=none,text=white]\n",
    "  \n",
    "  {% for name, angle in nodes.items() -%}\n",
    "       \\node[color=magenta] (v{{ loop.index0 }}) at ({{ angle }}:1) {${{ name }}$};\n",
    "  {% endfor -%}\n",
    "  \n",
    "  {% for n1 in range(n) -%}\n",
    "      {% for n2 in range(n) -%}\n",
    "         {%if n1 < n2 -%}\n",
    "             \\path (v{{n1}}) edge (v{{n2}});\n",
    "         {% endif -%}\n",
    "      {% endfor -%}\n",
    "  {% endfor -%}\n",
    "\n",
    "\\end{tikzpicture}"
   ]
  },
  {
   "cell_type": "markdown",
   "metadata": {
    "editable": true,
    "slideshow": {
     "slide_type": ""
    },
    "tags": []
   },
   "source": [
    "## Exporting code to variables"
   ]
  },
  {
   "cell_type": "markdown",
   "metadata": {},
   "source": [
    "With the flag `-sv=<name_of_the_variable>`, it is possible to save the code to an IPython string variable.\n",
    "\n",
    "> **Note:** The code used to save to the variable is the same as that used by the `-s` flag.\n",
    "\n",
    "In this example, we are going to save the code in the variable `my_frame`:"
   ]
  },
  {
   "cell_type": "code",
   "execution_count": 36,
   "metadata": {},
   "outputs": [
    {
     "data": {
      "image/svg+xml": [
       "<svg xmlns=\"http://www.w3.org/2000/svg\" xmlns:xlink=\"http://www.w3.org/1999/xlink\" width=\"28.745\" height=\"28.745\" viewBox=\"0 0 28.745 28.745\">\n",
       "<defs>\n",
       "<clipPath id=\"clip-0\">\n",
       "<path clip-rule=\"nonzero\" d=\"M 0 0 L 28.492188 0 L 28.492188 28.492188 L 0 28.492188 Z M 0 0 \"/>\n",
       "</clipPath>\n",
       "</defs>\n",
       "<g clip-path=\"url(#clip-0)\">\n",
       "<path fill=\"none\" stroke-width=\"0.3985\" stroke-linecap=\"butt\" stroke-linejoin=\"miter\" stroke=\"rgb(0%, 0%, 0%)\" stroke-opacity=\"1\" stroke-miterlimit=\"10\" d=\"M -0.00195486 -0.00189963 L -0.00195486 28.345014 L 28.344959 28.345014 L 28.344959 -0.00189963 Z M -0.00195486 -0.00189963 \" transform=\"matrix(0.991207, 0, 0, -0.991207, 0.19725, 28.294992)\"/>\n",
       "</g>\n",
       "</svg>"
      ],
      "text/plain": [
       "<IPython.core.display.SVG object>"
      ]
     },
     "execution_count": 36,
     "metadata": {},
     "output_type": "execute_result"
    }
   ],
   "source": [
    "%%tikz -as=t -sv=my_frame\n",
    "\\draw (0,0) rectangle (1,1);"
   ]
  },
  {
   "cell_type": "markdown",
   "metadata": {},
   "source": [
    "Now, we can reuse the variable in the code with Jinja:"
   ]
  },
  {
   "cell_type": "code",
   "execution_count": 37,
   "metadata": {},
   "outputs": [
    {
     "data": {
      "image/svg+xml": [
       "<svg xmlns=\"http://www.w3.org/2000/svg\" xmlns:xlink=\"http://www.w3.org/1999/xlink\" width=\"85.438\" height=\"85.438\" viewBox=\"0 0 85.438 85.438\">\n",
       "<defs>\n",
       "<clipPath id=\"clip-0\">\n",
       "<path clip-rule=\"nonzero\" d=\"M 0 0 L 84.878906 0 L 84.878906 84.878906 L 0 84.878906 Z M 0 0 \"/>\n",
       "</clipPath>\n",
       "</defs>\n",
       "<g clip-path=\"url(#clip-0)\">\n",
       "<path fill=\"none\" stroke-width=\"0.3985\" stroke-linecap=\"butt\" stroke-linejoin=\"miter\" stroke=\"rgb(0%, 0%, 0%)\" stroke-opacity=\"1\" stroke-miterlimit=\"10\" d=\"M -0.000873575 -0.00110218 L -0.000873575 85.039 L 85.039229 85.039 L 85.039229 -0.00110218 Z M -0.000873575 -0.00110218 \" transform=\"matrix(0.993465, 0, 0, -0.993465, 0.395399, 84.48328)\"/>\n",
       "</g>\n",
       "<path fill-rule=\"nonzero\" fill=\"rgb(0%, 0%, 0%)\" fill-opacity=\"1\" stroke-width=\"0.3985\" stroke-linecap=\"butt\" stroke-linejoin=\"miter\" stroke=\"rgb(0%, 0%, 0%)\" stroke-opacity=\"1\" stroke-miterlimit=\"10\" d=\"M 51.023974 42.518949 C 51.023974 47.217623 47.217852 51.023746 42.519178 51.023746 C 37.824435 51.023746 34.014381 47.217623 34.014381 42.518949 C 34.014381 37.824207 37.824435 34.014152 42.519178 34.014152 C 47.217852 34.014152 51.023974 37.824207 51.023974 42.518949 Z M 51.023974 42.518949 \" transform=\"matrix(0.993465, 0, 0, -0.993465, 0.395399, 84.48328)\"/>\n",
       "</svg>"
      ],
      "text/plain": [
       "<IPython.core.display.SVG object>"
      ]
     },
     "execution_count": 37,
     "metadata": {},
     "output_type": "execute_result"
    }
   ],
   "source": [
    "%%tikz -as=t --use-jinja\n",
    "\\begin{tikzpicture}[scale=3]\n",
    "    {{ my_frame }} % This is my_frame that I rendered before\n",
    "    \\filldraw (0.5,0.5) circle (.1);\n",
    "\\end{tikzpicture}"
   ]
  },
  {
   "cell_type": "markdown",
   "metadata": {},
   "source": [
    "You can also combine `-sv` with `-j`:"
   ]
  },
  {
   "cell_type": "code",
   "execution_count": 38,
   "metadata": {},
   "outputs": [
    {
     "data": {
      "image/svg+xml": [
       "<svg xmlns=\"http://www.w3.org/2000/svg\" xmlns:xlink=\"http://www.w3.org/1999/xlink\" width=\"155.914\" height=\"126.509\" viewBox=\"0 0 155.914 126.509\">\n",
       "<defs>\n",
       "<g>\n",
       "<g id=\"glyph-0-0\">\n",
       "<path d=\"M 3.546875 -2.28125 C 2.765625 -0.953125 1.984375 -0.671875 1.109375 -0.609375 C 0.875 -0.59375 0.6875 -0.59375 0.6875 -0.21875 C 0.6875 -0.09375 0.796875 0 0.953125 0 C 1.484375 0 2.109375 -0.0625 2.65625 -0.0625 C 3.3125 -0.0625 4.015625 0 4.640625 0 C 4.765625 0 5.015625 0 5.015625 -0.375 C 5.015625 -0.59375 4.84375 -0.609375 4.703125 -0.609375 C 4.25 -0.65625 3.765625 -0.8125 3.765625 -1.3125 C 3.765625 -1.546875 3.890625 -1.765625 4.046875 -2.046875 L 5.5625 -4.578125 L 10.53125 -4.578125 C 10.578125 -4.171875 10.859375 -1.46875 10.859375 -1.265625 C 10.859375 -0.671875 9.828125 -0.609375 9.421875 -0.609375 C 9.140625 -0.609375 8.953125 -0.609375 8.953125 -0.21875 C 8.953125 0 9.1875 0 9.234375 0 C 10.046875 0 10.890625 -0.0625 11.703125 -0.0625 C 12.203125 -0.0625 13.453125 0 13.953125 0 C 14.0625 0 14.3125 0 14.3125 -0.390625 C 14.3125 -0.609375 14.109375 -0.609375 13.84375 -0.609375 C 12.625 -0.609375 12.625 -0.75 12.5625 -1.328125 L 11.34375 -13.734375 C 11.3125 -14.125 11.3125 -14.203125 10.96875 -14.203125 C 10.65625 -14.203125 10.578125 -14.0625 10.453125 -13.875 Z M 5.9375 -5.203125 L 9.84375 -11.75 L 10.484375 -5.203125 Z M 5.9375 -5.203125 \"/>\n",
       "</g>\n",
       "<g id=\"glyph-0-1\">\n",
       "<path d=\"M 3.171875 -1.546875 C 2.984375 -0.78125 2.9375 -0.609375 1.375 -0.609375 C 1.03125 -0.609375 0.828125 -0.609375 0.828125 -0.21875 C 0.828125 0 1.015625 0 1.375 0 L 8.453125 0 C 11.59375 0 13.9375 -2.34375 13.9375 -4.28125 C 13.9375 -5.71875 12.78125 -6.859375 10.859375 -7.078125 C 12.921875 -7.46875 15 -8.9375 15 -10.8125 C 15 -12.28125 13.6875 -13.546875 11.3125 -13.546875 L 4.640625 -13.546875 C 4.265625 -13.546875 4.0625 -13.546875 4.0625 -13.15625 C 4.0625 -12.9375 4.25 -12.9375 4.625 -12.9375 C 4.65625 -12.9375 5.046875 -12.9375 5.375 -12.90625 C 5.734375 -12.859375 5.90625 -12.84375 5.90625 -12.578125 C 5.90625 -12.5 5.890625 -12.4375 5.828125 -12.203125 Z M 6.171875 -7.265625 L 7.40625 -12.1875 C 7.578125 -12.875 7.625 -12.9375 8.46875 -12.9375 L 11.03125 -12.9375 C 12.78125 -12.9375 13.203125 -11.765625 13.203125 -10.890625 C 13.203125 -9.140625 11.484375 -7.265625 9.0625 -7.265625 Z M 5.28125 -0.609375 C 5 -0.609375 4.96875 -0.609375 4.84375 -0.640625 C 4.640625 -0.65625 4.578125 -0.671875 4.578125 -0.828125 C 4.578125 -0.890625 4.578125 -0.9375 4.6875 -1.296875 L 6.046875 -6.828125 L 9.796875 -6.828125 C 11.703125 -6.828125 12.078125 -5.359375 12.078125 -4.5 C 12.078125 -2.546875 10.3125 -0.609375 7.984375 -0.609375 Z M 5.28125 -0.609375 \"/>\n",
       "</g>\n",
       "<g id=\"glyph-0-2\">\n",
       "<path d=\"M 15.078125 -13.796875 C 15.078125 -13.84375 15.046875 -13.984375 14.859375 -13.984375 C 14.796875 -13.984375 14.78125 -13.96875 14.5625 -13.75 L 13.171875 -12.21875 C 13 -12.5 12.078125 -13.984375 9.875 -13.984375 C 5.453125 -13.984375 1 -9.609375 1 -5 C 1 -1.71875 3.328125 0.4375 6.375 0.4375 C 8.09375 0.4375 9.609375 -0.359375 10.65625 -1.265625 C 12.5 -2.890625 12.84375 -4.703125 12.84375 -4.765625 C 12.84375 -4.96875 12.640625 -4.96875 12.59375 -4.96875 C 12.484375 -4.96875 12.375 -4.921875 12.34375 -4.765625 C 12.171875 -4.1875 11.703125 -2.78125 10.34375 -1.625 C 8.96875 -0.515625 7.71875 -0.171875 6.6875 -0.171875 C 4.90625 -0.171875 2.796875 -1.203125 2.796875 -4.3125 C 2.796875 -5.4375 3.21875 -8.65625 5.203125 -10.96875 C 6.40625 -12.375 8.28125 -13.375 10.046875 -13.375 C 12.0625 -13.375 13.234375 -11.84375 13.234375 -9.546875 C 13.234375 -8.75 13.171875 -8.734375 13.171875 -8.53125 C 13.171875 -8.328125 13.390625 -8.328125 13.46875 -8.328125 C 13.734375 -8.328125 13.734375 -8.375 13.828125 -8.734375 Z M 15.078125 -13.796875 \"/>\n",
       "</g>\n",
       "<g id=\"glyph-0-3\">\n",
       "<path d=\"M 3.15625 -1.546875 C 2.953125 -0.78125 2.921875 -0.609375 1.34375 -0.609375 C 1.015625 -0.609375 0.796875 -0.609375 0.796875 -0.234375 C 0.796875 0 0.96875 0 1.34375 0 L 7.921875 0 C 12.046875 0 15.953125 -4.1875 15.953125 -8.53125 C 15.953125 -11.328125 14.265625 -13.546875 11.296875 -13.546875 L 4.625 -13.546875 C 4.25 -13.546875 4.03125 -13.546875 4.03125 -13.171875 C 4.03125 -12.9375 4.203125 -12.9375 4.609375 -12.9375 C 4.859375 -12.9375 5.21875 -12.921875 5.453125 -12.90625 C 5.78125 -12.859375 5.890625 -12.796875 5.890625 -12.578125 C 5.890625 -12.5 5.875 -12.4375 5.8125 -12.203125 Z M 7.4375 -12.1875 C 7.625 -12.875 7.65625 -12.9375 8.515625 -12.9375 L 10.640625 -12.9375 C 12.578125 -12.9375 14.234375 -11.890625 14.234375 -9.265625 C 14.234375 -8.296875 13.828125 -5.046875 12.140625 -2.859375 C 11.5625 -2.125 10 -0.609375 7.5625 -0.609375 L 5.3125 -0.609375 C 5.046875 -0.609375 5 -0.609375 4.875 -0.640625 C 4.6875 -0.65625 4.625 -0.671875 4.625 -0.828125 C 4.625 -0.890625 4.625 -0.9375 4.71875 -1.296875 Z M 7.4375 -12.1875 \"/>\n",
       "</g>\n",
       "<g id=\"glyph-0-4\">\n",
       "<path d=\"M 14.046875 -4.625 C 14.09375 -4.71875 14.15625 -4.859375 14.15625 -4.90625 C 14.15625 -4.921875 14.15625 -5.125 13.90625 -5.125 C 13.734375 -5.125 13.6875 -5 13.65625 -4.875 C 12.359375 -1.9375 11.625 -0.609375 8.234375 -0.609375 L 5.34375 -0.609375 C 5.0625 -0.609375 5.015625 -0.609375 4.90625 -0.640625 C 4.703125 -0.65625 4.640625 -0.671875 4.640625 -0.828125 C 4.640625 -0.890625 4.640625 -0.9375 4.75 -1.296875 L 6.09375 -6.703125 L 8.0625 -6.703125 C 9.75 -6.703125 9.75 -6.296875 9.75 -5.796875 C 9.75 -5.65625 9.75 -5.421875 9.609375 -4.828125 C 9.5625 -4.71875 9.546875 -4.65625 9.546875 -4.609375 C 9.546875 -4.5 9.625 -4.390625 9.796875 -4.390625 C 9.96875 -4.390625 10.015625 -4.484375 10.09375 -4.78125 L 11.234375 -9.421875 C 11.234375 -9.546875 11.125 -9.640625 11 -9.640625 C 10.8125 -9.640625 10.78125 -9.53125 10.71875 -9.28125 C 10.296875 -7.78125 9.9375 -7.328125 8.109375 -7.328125 L 6.25 -7.328125 L 7.4375 -12.109375 C 7.625 -12.796875 7.640625 -12.875 8.515625 -12.875 L 11.3125 -12.875 C 13.734375 -12.875 14.328125 -12.296875 14.328125 -10.671875 C 14.328125 -10.203125 14.328125 -10.15625 14.25 -9.625 C 14.25 -9.5 14.234375 -9.359375 14.234375 -9.265625 C 14.234375 -9.171875 14.28125 -9.03125 14.46875 -9.03125 C 14.6875 -9.03125 14.703125 -9.140625 14.75 -9.53125 L 15.140625 -12.953125 C 15.203125 -13.5 15.09375 -13.5 14.609375 -13.5 L 4.578125 -13.5 C 4.1875 -13.5 3.984375 -13.5 3.984375 -13.09375 C 3.984375 -12.875 4.171875 -12.875 4.546875 -12.875 C 5.28125 -12.875 5.828125 -12.875 5.828125 -12.515625 C 5.828125 -12.4375 5.828125 -12.40625 5.734375 -12.046875 L 3.109375 -1.546875 C 2.921875 -0.78125 2.875 -0.609375 1.3125 -0.609375 C 0.96875 -0.609375 0.75 -0.609375 0.75 -0.234375 C 0.75 0 0.9375 0 1.3125 0 L 11.609375 0 C 12.0625 0 12.078125 -0.015625 12.21875 -0.34375 Z M 14.046875 -4.625 \"/>\n",
       "</g>\n",
       "<g id=\"glyph-0-5\">\n",
       "<path d=\"M 6.015625 -6.453125 L 7.9375 -6.453125 C 9.421875 -6.453125 9.578125 -6.125 9.578125 -5.5625 C 9.578125 -5.421875 9.578125 -5.171875 9.453125 -4.578125 C 9.40625 -4.484375 9.390625 -4.40625 9.390625 -4.359375 C 9.390625 -4.203125 9.5 -4.125 9.625 -4.125 C 9.828125 -4.125 9.828125 -4.1875 9.921875 -4.546875 L 11.015625 -8.84375 C 11.078125 -9.0625 11.078125 -9.109375 11.078125 -9.171875 C 11.078125 -9.203125 11.03125 -9.390625 10.828125 -9.390625 C 10.640625 -9.390625 10.609375 -9.28125 10.53125 -8.96875 C 10.125 -7.421875 9.65625 -7.0625 7.984375 -7.0625 L 6.171875 -7.0625 L 7.4375 -12.109375 C 7.625 -12.796875 7.640625 -12.875 8.515625 -12.875 L 11.125 -12.875 C 13.578125 -12.875 14.03125 -12.21875 14.03125 -10.703125 C 14.03125 -10.234375 14.03125 -10.15625 13.96875 -9.625 C 13.9375 -9.359375 13.9375 -9.328125 13.9375 -9.265625 C 13.9375 -9.171875 13.984375 -9.03125 14.171875 -9.03125 C 14.390625 -9.03125 14.40625 -9.140625 14.453125 -9.53125 L 14.84375 -12.953125 C 14.90625 -13.5 14.796875 -13.5 14.3125 -13.5 L 4.578125 -13.5 C 4.1875 -13.5 3.984375 -13.5 3.984375 -13.09375 C 3.984375 -12.875 4.171875 -12.875 4.546875 -12.875 C 5.28125 -12.875 5.828125 -12.875 5.828125 -12.515625 C 5.828125 -12.4375 5.828125 -12.40625 5.734375 -12.046875 L 3.109375 -1.546875 C 2.921875 -0.78125 2.875 -0.609375 1.3125 -0.609375 C 0.96875 -0.609375 0.75 -0.609375 0.75 -0.234375 C 0.75 0 1 0 1.046875 0 C 1.625 0 3.09375 -0.0625 3.671875 -0.0625 C 4.328125 -0.0625 5.96875 0 6.625 0 C 6.8125 0 7.046875 0 7.046875 -0.375 C 7.046875 -0.53125 6.921875 -0.578125 6.921875 -0.59375 C 6.859375 -0.609375 6.828125 -0.609375 6.375 -0.609375 C 5.9375 -0.609375 5.828125 -0.609375 5.34375 -0.65625 C 4.765625 -0.71875 4.703125 -0.796875 4.703125 -1.046875 C 4.703125 -1.09375 4.703125 -1.203125 4.78125 -1.515625 Z M 6.015625 -6.453125 \"/>\n",
       "</g>\n",
       "</g>\n",
       "</defs>\n",
       "<g fill=\"rgb(100%, 0%, 0%)\" fill-opacity=\"1\">\n",
       "<use xlink:href=\"#glyph-0-0\" x=\"127.450907\" y=\"69.086864\"/>\n",
       "</g>\n",
       "<g fill=\"rgb(100%, 0%, 0%)\" fill-opacity=\"1\">\n",
       "<use xlink:href=\"#glyph-0-1\" x=\"98.632754\" y=\"20.178684\"/>\n",
       "</g>\n",
       "<g fill=\"rgb(100%, 0%, 0%)\" fill-opacity=\"1\">\n",
       "<use xlink:href=\"#glyph-0-2\" x=\"41.532369\" y=\"20.678743\"/>\n",
       "</g>\n",
       "<g fill=\"rgb(100%, 0%, 0%)\" fill-opacity=\"1\">\n",
       "<use xlink:href=\"#glyph-0-3\" x=\"13.489209\" y=\"71.057217\"/>\n",
       "</g>\n",
       "<g fill=\"rgb(100%, 0%, 0%)\" fill-opacity=\"1\">\n",
       "<use xlink:href=\"#glyph-0-4\" x=\"44.885356\" y=\"119.403577\"/>\n",
       "</g>\n",
       "<g fill=\"rgb(100%, 0%, 0%)\" fill-opacity=\"1\">\n",
       "<use xlink:href=\"#glyph-0-5\" x=\"102.240751\" y=\"115.905155\"/>\n",
       "</g>\n",
       "</svg>"
      ],
      "text/plain": [
       "<IPython.core.display.SVG object>"
      ]
     },
     "execution_count": 38,
     "metadata": {},
     "output_type": "execute_result"
    }
   ],
   "source": [
    "%%tikz -as=t -j -sv=node_names -sc=2\n",
    "{% for name, angle in nodes.items() -%}\n",
    "   \\node[color=red] (v{{loop.index0}}) at ({{angle}}:1) {${{name}}$};\n",
    "{% endfor -%}"
   ]
  },
  {
   "cell_type": "code",
   "execution_count": 39,
   "metadata": {},
   "outputs": [
    {
     "data": {
      "text/plain": [
       "'\\\\node[color=red] (v0) at (0:1) {$A$};\\n\\\\node[color=red] (v1) at (60:1) {$B$};\\n\\\\node[color=red] (v2) at (121:1) {$C$};\\n\\\\node[color=red] (v3) at (182:1) {$D$};\\n\\\\node[color=red] (v4) at (243:1) {$E$};\\n\\\\node[color=red] (v5) at (304:1) {$F$};\\n'"
      ]
     },
     "execution_count": 39,
     "metadata": {},
     "output_type": "execute_result"
    }
   ],
   "source": [
    "node_names"
   ]
  },
  {
   "cell_type": "markdown",
   "metadata": {},
   "source": [
    "Now, incorporate it into another `tikzpicture`:"
   ]
  },
  {
   "cell_type": "code",
   "execution_count": 40,
   "metadata": {},
   "outputs": [
    {
     "data": {
      "image/svg+xml": [
       "<svg xmlns=\"http://www.w3.org/2000/svg\" xmlns:xlink=\"http://www.w3.org/1999/xlink\" width=\"155.914\" height=\"126.509\" viewBox=\"0 0 155.914 126.509\">\n",
       "<defs>\n",
       "<g>\n",
       "<g id=\"glyph-0-0\">\n",
       "<path d=\"M 3.546875 -2.28125 C 2.765625 -0.953125 1.984375 -0.671875 1.109375 -0.609375 C 0.875 -0.59375 0.6875 -0.59375 0.6875 -0.21875 C 0.6875 -0.09375 0.796875 0 0.953125 0 C 1.484375 0 2.109375 -0.0625 2.65625 -0.0625 C 3.3125 -0.0625 4.015625 0 4.640625 0 C 4.765625 0 5.015625 0 5.015625 -0.375 C 5.015625 -0.59375 4.84375 -0.609375 4.703125 -0.609375 C 4.25 -0.65625 3.765625 -0.8125 3.765625 -1.3125 C 3.765625 -1.546875 3.890625 -1.765625 4.046875 -2.046875 L 5.5625 -4.578125 L 10.53125 -4.578125 C 10.578125 -4.171875 10.859375 -1.46875 10.859375 -1.265625 C 10.859375 -0.671875 9.828125 -0.609375 9.421875 -0.609375 C 9.140625 -0.609375 8.953125 -0.609375 8.953125 -0.21875 C 8.953125 0 9.1875 0 9.234375 0 C 10.046875 0 10.890625 -0.0625 11.703125 -0.0625 C 12.203125 -0.0625 13.453125 0 13.953125 0 C 14.0625 0 14.3125 0 14.3125 -0.390625 C 14.3125 -0.609375 14.109375 -0.609375 13.84375 -0.609375 C 12.625 -0.609375 12.625 -0.75 12.5625 -1.328125 L 11.34375 -13.734375 C 11.3125 -14.125 11.3125 -14.203125 10.96875 -14.203125 C 10.65625 -14.203125 10.578125 -14.0625 10.453125 -13.875 Z M 5.9375 -5.203125 L 9.84375 -11.75 L 10.484375 -5.203125 Z M 5.9375 -5.203125 \"/>\n",
       "</g>\n",
       "<g id=\"glyph-0-1\">\n",
       "<path d=\"M 3.171875 -1.546875 C 2.984375 -0.78125 2.9375 -0.609375 1.375 -0.609375 C 1.03125 -0.609375 0.828125 -0.609375 0.828125 -0.21875 C 0.828125 0 1.015625 0 1.375 0 L 8.453125 0 C 11.59375 0 13.9375 -2.34375 13.9375 -4.28125 C 13.9375 -5.71875 12.78125 -6.859375 10.859375 -7.078125 C 12.921875 -7.46875 15 -8.9375 15 -10.8125 C 15 -12.28125 13.6875 -13.546875 11.3125 -13.546875 L 4.640625 -13.546875 C 4.265625 -13.546875 4.0625 -13.546875 4.0625 -13.15625 C 4.0625 -12.9375 4.25 -12.9375 4.625 -12.9375 C 4.65625 -12.9375 5.046875 -12.9375 5.375 -12.90625 C 5.734375 -12.859375 5.90625 -12.84375 5.90625 -12.578125 C 5.90625 -12.5 5.890625 -12.4375 5.828125 -12.203125 Z M 6.171875 -7.265625 L 7.40625 -12.1875 C 7.578125 -12.875 7.625 -12.9375 8.46875 -12.9375 L 11.03125 -12.9375 C 12.78125 -12.9375 13.203125 -11.765625 13.203125 -10.890625 C 13.203125 -9.140625 11.484375 -7.265625 9.0625 -7.265625 Z M 5.28125 -0.609375 C 5 -0.609375 4.96875 -0.609375 4.84375 -0.640625 C 4.640625 -0.65625 4.578125 -0.671875 4.578125 -0.828125 C 4.578125 -0.890625 4.578125 -0.9375 4.6875 -1.296875 L 6.046875 -6.828125 L 9.796875 -6.828125 C 11.703125 -6.828125 12.078125 -5.359375 12.078125 -4.5 C 12.078125 -2.546875 10.3125 -0.609375 7.984375 -0.609375 Z M 5.28125 -0.609375 \"/>\n",
       "</g>\n",
       "<g id=\"glyph-0-2\">\n",
       "<path d=\"M 15.078125 -13.796875 C 15.078125 -13.84375 15.046875 -13.984375 14.859375 -13.984375 C 14.796875 -13.984375 14.78125 -13.96875 14.5625 -13.75 L 13.171875 -12.21875 C 13 -12.5 12.078125 -13.984375 9.875 -13.984375 C 5.453125 -13.984375 1 -9.609375 1 -5 C 1 -1.71875 3.328125 0.4375 6.375 0.4375 C 8.09375 0.4375 9.609375 -0.359375 10.65625 -1.265625 C 12.5 -2.890625 12.84375 -4.703125 12.84375 -4.765625 C 12.84375 -4.96875 12.640625 -4.96875 12.59375 -4.96875 C 12.484375 -4.96875 12.375 -4.921875 12.34375 -4.765625 C 12.171875 -4.1875 11.703125 -2.78125 10.34375 -1.625 C 8.96875 -0.515625 7.71875 -0.171875 6.6875 -0.171875 C 4.90625 -0.171875 2.796875 -1.203125 2.796875 -4.3125 C 2.796875 -5.4375 3.21875 -8.65625 5.203125 -10.96875 C 6.40625 -12.375 8.28125 -13.375 10.046875 -13.375 C 12.0625 -13.375 13.234375 -11.84375 13.234375 -9.546875 C 13.234375 -8.75 13.171875 -8.734375 13.171875 -8.53125 C 13.171875 -8.328125 13.390625 -8.328125 13.46875 -8.328125 C 13.734375 -8.328125 13.734375 -8.375 13.828125 -8.734375 Z M 15.078125 -13.796875 \"/>\n",
       "</g>\n",
       "<g id=\"glyph-0-3\">\n",
       "<path d=\"M 3.15625 -1.546875 C 2.953125 -0.78125 2.921875 -0.609375 1.34375 -0.609375 C 1.015625 -0.609375 0.796875 -0.609375 0.796875 -0.234375 C 0.796875 0 0.96875 0 1.34375 0 L 7.921875 0 C 12.046875 0 15.953125 -4.1875 15.953125 -8.53125 C 15.953125 -11.328125 14.265625 -13.546875 11.296875 -13.546875 L 4.625 -13.546875 C 4.25 -13.546875 4.03125 -13.546875 4.03125 -13.171875 C 4.03125 -12.9375 4.203125 -12.9375 4.609375 -12.9375 C 4.859375 -12.9375 5.21875 -12.921875 5.453125 -12.90625 C 5.78125 -12.859375 5.890625 -12.796875 5.890625 -12.578125 C 5.890625 -12.5 5.875 -12.4375 5.8125 -12.203125 Z M 7.4375 -12.1875 C 7.625 -12.875 7.65625 -12.9375 8.515625 -12.9375 L 10.640625 -12.9375 C 12.578125 -12.9375 14.234375 -11.890625 14.234375 -9.265625 C 14.234375 -8.296875 13.828125 -5.046875 12.140625 -2.859375 C 11.5625 -2.125 10 -0.609375 7.5625 -0.609375 L 5.3125 -0.609375 C 5.046875 -0.609375 5 -0.609375 4.875 -0.640625 C 4.6875 -0.65625 4.625 -0.671875 4.625 -0.828125 C 4.625 -0.890625 4.625 -0.9375 4.71875 -1.296875 Z M 7.4375 -12.1875 \"/>\n",
       "</g>\n",
       "<g id=\"glyph-0-4\">\n",
       "<path d=\"M 14.046875 -4.625 C 14.09375 -4.71875 14.15625 -4.859375 14.15625 -4.90625 C 14.15625 -4.921875 14.15625 -5.125 13.90625 -5.125 C 13.734375 -5.125 13.6875 -5 13.65625 -4.875 C 12.359375 -1.9375 11.625 -0.609375 8.234375 -0.609375 L 5.34375 -0.609375 C 5.0625 -0.609375 5.015625 -0.609375 4.90625 -0.640625 C 4.703125 -0.65625 4.640625 -0.671875 4.640625 -0.828125 C 4.640625 -0.890625 4.640625 -0.9375 4.75 -1.296875 L 6.09375 -6.703125 L 8.0625 -6.703125 C 9.75 -6.703125 9.75 -6.296875 9.75 -5.796875 C 9.75 -5.65625 9.75 -5.421875 9.609375 -4.828125 C 9.5625 -4.71875 9.546875 -4.65625 9.546875 -4.609375 C 9.546875 -4.5 9.625 -4.390625 9.796875 -4.390625 C 9.96875 -4.390625 10.015625 -4.484375 10.09375 -4.78125 L 11.234375 -9.421875 C 11.234375 -9.546875 11.125 -9.640625 11 -9.640625 C 10.8125 -9.640625 10.78125 -9.53125 10.71875 -9.28125 C 10.296875 -7.78125 9.9375 -7.328125 8.109375 -7.328125 L 6.25 -7.328125 L 7.4375 -12.109375 C 7.625 -12.796875 7.640625 -12.875 8.515625 -12.875 L 11.3125 -12.875 C 13.734375 -12.875 14.328125 -12.296875 14.328125 -10.671875 C 14.328125 -10.203125 14.328125 -10.15625 14.25 -9.625 C 14.25 -9.5 14.234375 -9.359375 14.234375 -9.265625 C 14.234375 -9.171875 14.28125 -9.03125 14.46875 -9.03125 C 14.6875 -9.03125 14.703125 -9.140625 14.75 -9.53125 L 15.140625 -12.953125 C 15.203125 -13.5 15.09375 -13.5 14.609375 -13.5 L 4.578125 -13.5 C 4.1875 -13.5 3.984375 -13.5 3.984375 -13.09375 C 3.984375 -12.875 4.171875 -12.875 4.546875 -12.875 C 5.28125 -12.875 5.828125 -12.875 5.828125 -12.515625 C 5.828125 -12.4375 5.828125 -12.40625 5.734375 -12.046875 L 3.109375 -1.546875 C 2.921875 -0.78125 2.875 -0.609375 1.3125 -0.609375 C 0.96875 -0.609375 0.75 -0.609375 0.75 -0.234375 C 0.75 0 0.9375 0 1.3125 0 L 11.609375 0 C 12.0625 0 12.078125 -0.015625 12.21875 -0.34375 Z M 14.046875 -4.625 \"/>\n",
       "</g>\n",
       "<g id=\"glyph-0-5\">\n",
       "<path d=\"M 6.015625 -6.453125 L 7.9375 -6.453125 C 9.421875 -6.453125 9.578125 -6.125 9.578125 -5.5625 C 9.578125 -5.421875 9.578125 -5.171875 9.453125 -4.578125 C 9.40625 -4.484375 9.390625 -4.40625 9.390625 -4.359375 C 9.390625 -4.203125 9.5 -4.125 9.625 -4.125 C 9.828125 -4.125 9.828125 -4.1875 9.921875 -4.546875 L 11.015625 -8.84375 C 11.078125 -9.0625 11.078125 -9.109375 11.078125 -9.171875 C 11.078125 -9.203125 11.03125 -9.390625 10.828125 -9.390625 C 10.640625 -9.390625 10.609375 -9.28125 10.53125 -8.96875 C 10.125 -7.421875 9.65625 -7.0625 7.984375 -7.0625 L 6.171875 -7.0625 L 7.4375 -12.109375 C 7.625 -12.796875 7.640625 -12.875 8.515625 -12.875 L 11.125 -12.875 C 13.578125 -12.875 14.03125 -12.21875 14.03125 -10.703125 C 14.03125 -10.234375 14.03125 -10.15625 13.96875 -9.625 C 13.9375 -9.359375 13.9375 -9.328125 13.9375 -9.265625 C 13.9375 -9.171875 13.984375 -9.03125 14.171875 -9.03125 C 14.390625 -9.03125 14.40625 -9.140625 14.453125 -9.53125 L 14.84375 -12.953125 C 14.90625 -13.5 14.796875 -13.5 14.3125 -13.5 L 4.578125 -13.5 C 4.1875 -13.5 3.984375 -13.5 3.984375 -13.09375 C 3.984375 -12.875 4.171875 -12.875 4.546875 -12.875 C 5.28125 -12.875 5.828125 -12.875 5.828125 -12.515625 C 5.828125 -12.4375 5.828125 -12.40625 5.734375 -12.046875 L 3.109375 -1.546875 C 2.921875 -0.78125 2.875 -0.609375 1.3125 -0.609375 C 0.96875 -0.609375 0.75 -0.609375 0.75 -0.234375 C 0.75 0 1 0 1.046875 0 C 1.625 0 3.09375 -0.0625 3.671875 -0.0625 C 4.328125 -0.0625 5.96875 0 6.625 0 C 6.8125 0 7.046875 0 7.046875 -0.375 C 7.046875 -0.53125 6.921875 -0.578125 6.921875 -0.59375 C 6.859375 -0.609375 6.828125 -0.609375 6.375 -0.609375 C 5.9375 -0.609375 5.828125 -0.609375 5.34375 -0.65625 C 4.765625 -0.71875 4.703125 -0.796875 4.703125 -1.046875 C 4.703125 -1.09375 4.703125 -1.203125 4.78125 -1.515625 Z M 6.015625 -6.453125 \"/>\n",
       "</g>\n",
       "</g>\n",
       "<clipPath id=\"clip-0\">\n",
       "<path clip-rule=\"nonzero\" d=\"M 51 93 L 108 93 L 108 126.019531 L 51 126.019531 Z M 51 93 \"/>\n",
       "</clipPath>\n",
       "</defs>\n",
       "<g fill=\"rgb(100%, 0%, 0%)\" fill-opacity=\"1\">\n",
       "<use xlink:href=\"#glyph-0-0\" x=\"127.450907\" y=\"69.086864\"/>\n",
       "</g>\n",
       "<g fill=\"rgb(100%, 0%, 0%)\" fill-opacity=\"1\">\n",
       "<use xlink:href=\"#glyph-0-1\" x=\"98.632754\" y=\"20.178684\"/>\n",
       "</g>\n",
       "<g fill=\"rgb(100%, 0%, 0%)\" fill-opacity=\"1\">\n",
       "<use xlink:href=\"#glyph-0-2\" x=\"41.532369\" y=\"20.678743\"/>\n",
       "</g>\n",
       "<g fill=\"rgb(100%, 0%, 0%)\" fill-opacity=\"1\">\n",
       "<use xlink:href=\"#glyph-0-3\" x=\"13.489209\" y=\"71.057217\"/>\n",
       "</g>\n",
       "<g fill=\"rgb(100%, 0%, 0%)\" fill-opacity=\"1\">\n",
       "<use xlink:href=\"#glyph-0-4\" x=\"44.885356\" y=\"119.403577\"/>\n",
       "</g>\n",
       "<g fill=\"rgb(100%, 0%, 0%)\" fill-opacity=\"1\">\n",
       "<use xlink:href=\"#glyph-0-5\" x=\"102.240751\" y=\"115.905155\"/>\n",
       "</g>\n",
       "<path fill=\"none\" stroke-width=\"0.59776\" stroke-linecap=\"butt\" stroke-linejoin=\"miter\" stroke=\"rgb(0%, 0%, 0%)\" stroke-opacity=\"1\" stroke-miterlimit=\"10\" d=\"M 24.291518 7.023496 L 19.332895 15.611386 \" transform=\"matrix(1.992268, 0, 0, -1.992268, 78.421198, 62.305184)\"/>\n",
       "<path fill-rule=\"nonzero\" fill=\"rgb(0%, 0%, 0%)\" fill-opacity=\"1\" stroke-width=\"0.59776\" stroke-linecap=\"butt\" stroke-linejoin=\"round\" stroke=\"rgb(0%, 0%, 0%)\" stroke-opacity=\"1\" stroke-miterlimit=\"10\" d=\"M 0.916449 0.00103111 C -0.228461 0.229733 -1.374516 0.687776 -2.750293 1.489043 C -1.375068 0.459416 -1.374858 -0.457684 -2.749235 -1.488921 C -1.373712 -0.687025 -0.228846 -0.229666 0.916449 0.00103111 Z M 0.916449 0.00103111 \" transform=\"matrix(-0.996293, -1.725264, -1.725264, 0.996293, 116.938268, 31.205088)\"/>\n",
       "<path fill=\"none\" stroke-width=\"0.59776\" stroke-linecap=\"butt\" stroke-linejoin=\"miter\" stroke=\"rgb(0%, 0%, 0%)\" stroke-opacity=\"1\" stroke-miterlimit=\"10\" d=\"M 20.991651 4.158906 L -5.138669 18.946545 \" transform=\"matrix(1.992268, 0, 0, -1.992268, 78.421198, 62.305184)\"/>\n",
       "<path fill-rule=\"nonzero\" fill=\"rgb(0%, 0%, 0%)\" fill-opacity=\"1\" stroke-width=\"0.59776\" stroke-linecap=\"butt\" stroke-linejoin=\"round\" stroke=\"rgb(0%, 0%, 0%)\" stroke-opacity=\"1\" stroke-miterlimit=\"10\" d=\"M 0.916703 -0.000204821 C -0.229538 0.229831 -1.37433 0.688232 -2.749212 1.489551 C -1.374812 0.45816 -1.374294 -0.458491 -2.749104 -1.488766 C -1.375741 -0.686856 -0.228795 -0.229348 0.916703 -0.000204821 Z M 0.916703 -0.000204821 \" transform=\"matrix(-1.733851, -0.981112, -0.981112, 1.733851, 68.182974, 24.559899)\"/>\n",
       "<path fill=\"none\" stroke-width=\"0.59776\" stroke-linecap=\"butt\" stroke-linejoin=\"miter\" stroke=\"rgb(0%, 0%, 0%)\" stroke-opacity=\"1\" stroke-miterlimit=\"10\" d=\"M 20.991651 -0.129157 L -18.236181 -0.813443 \" transform=\"matrix(1.992268, 0, 0, -1.992268, 78.421198, 62.305184)\"/>\n",
       "<path fill-rule=\"nonzero\" fill=\"rgb(0%, 0%, 0%)\" fill-opacity=\"1\" stroke-width=\"0.59776\" stroke-linecap=\"butt\" stroke-linejoin=\"round\" stroke=\"rgb(0%, 0%, 0%)\" stroke-opacity=\"1\" stroke-miterlimit=\"10\" d=\"M 0.915836 -0.0000132409 C -0.229324 0.229793 -1.374439 0.687079 -2.748856 1.489585 C -1.374519 0.457639 -1.374805 -0.458162 -2.749828 -1.489216 C -1.374885 -0.687602 -0.229484 -0.229087 0.915836 -0.0000132409 Z M 0.915836 -0.0000132409 \" transform=\"matrix(-1.991929, 0.0347451, 0.0347451, 1.991929, 42.089905, 63.925237)\"/>\n",
       "<path fill=\"none\" stroke-width=\"0.59776\" stroke-linecap=\"butt\" stroke-linejoin=\"miter\" stroke=\"rgb(0%, 0%, 0%)\" stroke-opacity=\"1\" stroke-miterlimit=\"10\" d=\"M 20.991651 -4.507412 L -3.399523 -19.453869 \" transform=\"matrix(1.992268, 0, 0, -1.992268, 78.421198, 62.305184)\"/>\n",
       "<path fill-rule=\"nonzero\" fill=\"rgb(0%, 0%, 0%)\" fill-opacity=\"1\" stroke-width=\"0.59776\" stroke-linecap=\"butt\" stroke-linejoin=\"round\" stroke=\"rgb(0%, 0%, 0%)\" stroke-opacity=\"1\" stroke-miterlimit=\"10\" d=\"M 0.917356 0.000202256 C -0.229945 0.229566 -1.3751 0.687589 -2.749416 1.488431 C -1.375575 0.457904 -1.375426 -0.457491 -2.750468 -1.489112 C -1.374229 -0.6882 -0.228199 -0.229157 0.917356 0.000202256 Z M 0.917356 0.000202256 \" transform=\"matrix(-1.698548, 1.04094, 1.04094, 1.698548, 71.647807, 101.064275)\"/>\n",
       "<path fill=\"none\" stroke-width=\"0.59776\" stroke-linecap=\"butt\" stroke-linejoin=\"miter\" stroke=\"rgb(0%, 0%, 0%)\" stroke-opacity=\"1\" stroke-miterlimit=\"10\" d=\"M 24.613074 -7.022997 L 20.623039 -14.524656 \" transform=\"matrix(1.992268, 0, 0, -1.992268, 78.421198, 62.305184)\"/>\n",
       "<path fill-rule=\"nonzero\" fill=\"rgb(0%, 0%, 0%)\" fill-opacity=\"1\" stroke-width=\"0.59776\" stroke-linecap=\"butt\" stroke-linejoin=\"round\" stroke=\"rgb(0%, 0%, 0%)\" stroke-opacity=\"1\" stroke-miterlimit=\"10\" d=\"M 0.91697 0.000646498 C -0.228191 0.228898 -1.375614 0.686909 -2.750072 1.488328 C -1.374274 0.458881 -1.374917 -0.458644 -2.749852 -1.489622 C -1.375308 -0.687592 -0.228974 -0.228999 0.91697 0.000646498 Z M 0.91697 0.000646498 \" transform=\"matrix(-0.93539, 1.758953, 1.758953, 0.93539, 119.508931, 91.241957)\"/>\n",
       "<path fill=\"none\" stroke-width=\"0.59776\" stroke-linecap=\"butt\" stroke-linejoin=\"miter\" stroke=\"rgb(0%, 0%, 0%)\" stroke-opacity=\"1\" stroke-miterlimit=\"10\" d=\"M 6.525567 24.481617 L -4.852406 24.383581 \" transform=\"matrix(1.992268, 0, 0, -1.992268, 78.421198, 62.305184)\"/>\n",
       "<path fill-rule=\"nonzero\" fill=\"rgb(0%, 0%, 0%)\" fill-opacity=\"1\" stroke-width=\"0.59776\" stroke-linecap=\"butt\" stroke-linejoin=\"round\" stroke=\"rgb(0%, 0%, 0%)\" stroke-opacity=\"1\" stroke-miterlimit=\"10\" d=\"M 0.91585 -0.000863979 C -0.229261 0.228753 -1.37433 0.687792 -2.749747 1.490036 C -1.374372 0.458369 -1.374523 -0.457362 -2.750261 -1.488539 C -1.374566 -0.686784 -0.229345 -0.230093 0.91585 -0.000863979 Z M 0.91585 -0.000863979 \" transform=\"matrix(-1.992088, 0.0173925, 0.0173925, 1.992088, 68.754158, 13.72798)\"/>\n",
       "<path fill=\"none\" stroke-width=\"0.59776\" stroke-linecap=\"butt\" stroke-linejoin=\"miter\" stroke=\"rgb(0%, 0%, 0%)\" stroke-opacity=\"1\" stroke-miterlimit=\"10\" d=\"M 6.525567 19.956309 L -18.551855 4.886327 \" transform=\"matrix(1.992268, 0, 0, -1.992268, 78.421198, 62.305184)\"/>\n",
       "<path fill-rule=\"nonzero\" fill=\"rgb(0%, 0%, 0%)\" fill-opacity=\"1\" stroke-width=\"0.59776\" stroke-linecap=\"butt\" stroke-linejoin=\"round\" stroke=\"rgb(0%, 0%, 0%)\" stroke-opacity=\"1\" stroke-miterlimit=\"10\" d=\"M 0.916888 -0.000801487 C -0.228953 0.228004 -1.375302 0.688163 -2.749398 1.488788 C -1.373784 0.458491 -1.375445 -0.45784 -2.750173 -1.489207 C -1.373927 -0.687513 -0.229279 -0.229321 0.916888 -0.000801487 Z M 0.916888 -0.000801487 \" transform=\"matrix(-1.707573, 1.026197, 1.026197, 1.707573, 41.461006, 52.57218)\"/>\n",
       "<path fill=\"none\" stroke-width=\"0.59776\" stroke-linecap=\"butt\" stroke-linejoin=\"miter\" stroke=\"rgb(0%, 0%, 0%)\" stroke-opacity=\"1\" stroke-miterlimit=\"10\" d=\"M 10.360707 17.525034 L -8.00326 -16.291251 \" transform=\"matrix(1.992268, 0, 0, -1.992268, 78.421198, 62.305184)\"/>\n",
       "<path fill-rule=\"nonzero\" fill=\"rgb(0%, 0%, 0%)\" fill-opacity=\"1\" stroke-width=\"0.59776\" stroke-linecap=\"butt\" stroke-linejoin=\"round\" stroke=\"rgb(0%, 0%, 0%)\" stroke-opacity=\"1\" stroke-miterlimit=\"10\" d=\"M 0.916047 -0.000202926 C -0.227936 0.228683 -1.374464 0.688239 -2.749298 1.490152 C -1.374579 0.458356 -1.374254 -0.458519 -2.749372 -1.488633 C -1.375305 -0.686679 -0.229103 -0.229361 0.916047 -0.000202926 Z M 0.916047 -0.000202926 \" transform=\"matrix(-0.95069, 1.750685, 1.750685, 0.95069, 62.476701, 94.759763)\"/>\n",
       "<path fill=\"none\" stroke-width=\"0.59776\" stroke-linecap=\"butt\" stroke-linejoin=\"miter\" stroke=\"rgb(0%, 0%, 0%)\" stroke-opacity=\"1\" stroke-miterlimit=\"10\" d=\"M 14.419367 17.525034 L 15.529126 -14.267804 \" transform=\"matrix(1.992268, 0, 0, -1.992268, 78.421198, 62.305184)\"/>\n",
       "<path fill-rule=\"nonzero\" fill=\"rgb(0%, 0%, 0%)\" fill-opacity=\"1\" stroke-width=\"0.59776\" stroke-linecap=\"butt\" stroke-linejoin=\"round\" stroke=\"rgb(0%, 0%, 0%)\" stroke-opacity=\"1\" stroke-miterlimit=\"10\" d=\"M 0.917111 -0.000571784 C -0.228473 0.22972 -1.373962 0.687593 -2.74878 1.488962 C -1.374125 0.458052 -1.374712 -0.458155 -2.748744 -1.489266 C -1.374875 -0.687696 -0.228801 -0.229363 0.917111 -0.000571784 Z M 0.917111 -0.000571784 \" transform=\"matrix(0.0694903, 1.991013, 1.991013, -0.0694903, 109.359283, 90.728669)\"/>\n",
       "<path fill=\"none\" stroke-width=\"0.59776\" stroke-linecap=\"butt\" stroke-linejoin=\"miter\" stroke=\"rgb(0%, 0%, 0%)\" stroke-opacity=\"1\" stroke-miterlimit=\"10\" d=\"M -18.412644 17.274064 L -23.461461 7.97836 \" transform=\"matrix(1.992268, 0, 0, -1.992268, 78.421198, 62.305184)\"/>\n",
       "<path fill-rule=\"nonzero\" fill=\"rgb(0%, 0%, 0%)\" fill-opacity=\"1\" stroke-width=\"0.59776\" stroke-linecap=\"butt\" stroke-linejoin=\"round\" stroke=\"rgb(0%, 0%, 0%)\" stroke-opacity=\"1\" stroke-miterlimit=\"10\" d=\"M 0.916614 -0.000580152 C -0.230047 0.229075 -1.375662 0.686893 -2.748805 1.489727 C -1.37405 0.457943 -1.374643 -0.457221 -2.748825 -1.489096 C -1.374755 -0.687107 -0.228547 -0.229762 0.916614 -0.000580152 Z M 0.916614 -0.000580152 \" transform=\"matrix(-0.95071, 1.750645, 1.750645, 0.95071, 31.681044, 46.41151)\"/>\n",
       "<path fill=\"none\" stroke-width=\"0.59776\" stroke-linecap=\"butt\" stroke-linejoin=\"miter\" stroke=\"rgb(0%, 0%, 0%)\" stroke-opacity=\"1\" stroke-miterlimit=\"10\" d=\"M -14.353984 17.274064 L -13.191286 -16.022635 \" transform=\"matrix(1.992268, 0, 0, -1.992268, 78.421198, 62.305184)\"/>\n",
       "<path fill-rule=\"nonzero\" fill=\"rgb(0%, 0%, 0%)\" fill-opacity=\"1\" stroke-width=\"0.59776\" stroke-linecap=\"butt\" stroke-linejoin=\"round\" stroke=\"rgb(0%, 0%, 0%)\" stroke-opacity=\"1\" stroke-miterlimit=\"10\" d=\"M 0.917359 -0.000402514 C -0.228225 0.229889 -1.375673 0.687831 -2.750492 1.4892 C -1.373877 0.458221 -1.374464 -0.457985 -2.750455 -1.489028 C -1.374627 -0.687527 -0.228552 -0.229194 0.917359 -0.000402514 Z M 0.917359 -0.000402514 \" transform=\"matrix(0.0694903, 1.991013, 1.991013, -0.0694903, 52.140179, 94.228187)\"/>\n",
       "<path fill=\"none\" stroke-width=\"0.59776\" stroke-linecap=\"butt\" stroke-linejoin=\"miter\" stroke=\"rgb(0%, 0%, 0%)\" stroke-opacity=\"1\" stroke-miterlimit=\"10\" d=\"M -10.124743 17.274064 L 10.192086 -14.612888 \" transform=\"matrix(1.992268, 0, 0, -1.992268, 78.421198, 62.305184)\"/>\n",
       "<path fill-rule=\"nonzero\" fill=\"rgb(0%, 0%, 0%)\" fill-opacity=\"1\" stroke-width=\"0.59776\" stroke-linecap=\"butt\" stroke-linejoin=\"round\" stroke=\"rgb(0%, 0%, 0%)\" stroke-opacity=\"1\" stroke-miterlimit=\"10\" d=\"M 0.91695 -0.0000958561 C -0.229019 0.230218 -1.374253 0.687917 -2.749078 1.489536 C -1.374388 0.457824 -1.374473 -0.458187 -2.749469 -1.488589 C -1.374608 -0.68828 -0.229288 -0.229968 0.91695 -0.0000958561 Z M 0.91695 -0.0000958561 \" transform=\"matrix(1.070525, 1.680079, 1.680079, -1.070525, 98.725574, 91.41638)\"/>\n",
       "<path fill=\"none\" stroke-width=\"0.59776\" stroke-linecap=\"butt\" stroke-linejoin=\"miter\" stroke=\"rgb(0%, 0%, 0%)\" stroke-opacity=\"1\" stroke-miterlimit=\"10\" d=\"M -23.855563 -8.013153 L -18.530287 -16.367719 \" transform=\"matrix(1.992268, 0, 0, -1.992268, 78.421198, 62.305184)\"/>\n",
       "<path fill-rule=\"nonzero\" fill=\"rgb(0%, 0%, 0%)\" fill-opacity=\"1\" stroke-width=\"0.59776\" stroke-linecap=\"butt\" stroke-linejoin=\"round\" stroke=\"rgb(0%, 0%, 0%)\" stroke-opacity=\"1\" stroke-miterlimit=\"10\" d=\"M 0.917395 0.000112152 C -0.229635 0.22873 -1.374884 0.686388 -2.748683 1.489611 C -1.373957 0.457949 -1.37401 -0.458061 -2.750021 -1.490166 C -1.37579 -0.687101 -0.228834 -0.229801 0.917395 0.000112152 Z M 0.917395 0.000112152 \" transform=\"matrix(1.070465, 1.680119, 1.680119, -1.070465, 41.502147, 94.915818)\"/>\n",
       "<path fill=\"none\" stroke-width=\"0.59776\" stroke-linecap=\"butt\" stroke-linejoin=\"miter\" stroke=\"rgb(0%, 0%, 0%)\" stroke-opacity=\"1\" stroke-miterlimit=\"10\" d=\"M -20.447857 -5.003471 L 6.36675 -18.669587 \" transform=\"matrix(1.992268, 0, 0, -1.992268, 78.421198, 62.305184)\"/>\n",
       "<path fill-rule=\"nonzero\" fill=\"rgb(0%, 0%, 0%)\" fill-opacity=\"1\" stroke-width=\"0.59776\" stroke-linecap=\"butt\" stroke-linejoin=\"round\" stroke=\"rgb(0%, 0%, 0%)\" stroke-opacity=\"1\" stroke-miterlimit=\"10\" d=\"M 0.916057 0.000445986 C -0.228293 0.229286 -1.375287 0.687852 -2.750284 1.49016 C -1.375281 0.458983 -1.374368 -0.45824 -2.750176 -1.48952 C -1.374362 -0.687108 -0.230029 -0.229342 0.916057 0.000445986 Z M 0.916057 0.000445986 \" transform=\"matrix(1.775011, 0.904629, 0.904629, -1.775011, 91.104054, 99.500225)\"/>\n",
       "<g clip-path=\"url(#clip-0)\">\n",
       "<path fill=\"none\" stroke-width=\"0.59776\" stroke-linecap=\"butt\" stroke-linejoin=\"miter\" stroke=\"rgb(0%, 0%, 0%)\" stroke-opacity=\"1\" stroke-miterlimit=\"10\" d=\"M -5.285722 -24.79287 L 6.129505 -24.094859 \" transform=\"matrix(1.992268, 0, 0, -1.992268, 78.421198, 62.305184)\"/>\n",
       "</g>\n",
       "<path fill-rule=\"nonzero\" fill=\"rgb(0%, 0%, 0%)\" fill-opacity=\"1\" stroke-width=\"0.59776\" stroke-linecap=\"butt\" stroke-linejoin=\"round\" stroke=\"rgb(0%, 0%, 0%)\" stroke-opacity=\"1\" stroke-miterlimit=\"10\" d=\"M 0.915804 -0.000781221 C -0.229223 0.228368 -1.373947 0.687343 -2.749197 1.488484 C -1.374251 0.457518 -1.375228 -0.457869 -2.750595 -1.489578 C -1.375532 -0.687694 -0.229712 -0.229325 0.915804 -0.000781221 Z M 0.915804 -0.000781221 \" transform=\"matrix(1.988443, -0.121608, -0.121608, -1.988443, 90.632006, 110.309034)\"/>\n",
       "</svg>"
      ],
      "text/plain": [
       "<IPython.core.display.SVG object>"
      ]
     },
     "execution_count": 40,
     "metadata": {},
     "output_type": "execute_result"
    }
   ],
   "source": [
    "%%tikz --use-jinja -l=arrows,automata -sc=2\n",
    "\\begin{tikzpicture}[->,>=stealth',shorten >=1pt,auto,node distance=2.8cm, semithick]\n",
    "  \\tikzstyle{every state}=[fill=mymagenta,draw=none,text=white]\n",
    "  \n",
    "  {{ node_names }}\n",
    "  \n",
    "  {% for n1 in range(n) -%}\n",
    "      {% for n2 in range(n) -%}\n",
    "         {%if n1 < n2 -%}\n",
    "             \\path (v{{n1}}) edge (v{{n2}});\n",
    "         {% endif -%}\n",
    "      {% endfor -%}\n",
    "  {% endfor -%}\n",
    "\n",
    "\\end{tikzpicture}"
   ]
  },
  {
   "cell_type": "markdown",
   "metadata": {},
   "source": [
    "Finally, you can define a preamble using the `-sv` flag. Note that, because it is a preamble, you must avoid compiling it by using the option `-nc` (or `--no-compile`):"
   ]
  },
  {
   "cell_type": "code",
   "execution_count": 41,
   "metadata": {},
   "outputs": [],
   "source": [
    "%%tikz -sv=my_preamble --no-compile\n",
    "\\usepackage{tikz}\n",
    "\\usepackage{xcolor}\n",
    "\\definecolor{mymagenta}{RGB}{226,0,116}"
   ]
  },
  {
   "cell_type": "markdown",
   "metadata": {},
   "source": [
    "Reusing the preamble in the figure:"
   ]
  },
  {
   "cell_type": "code",
   "execution_count": 42,
   "metadata": {},
   "outputs": [
    {
     "data": {
      "image/svg+xml": [
       "<svg xmlns=\"http://www.w3.org/2000/svg\" xmlns:xlink=\"http://www.w3.org/1999/xlink\" width=\"141.931\" height=\"141.931\" viewBox=\"0 0 141.931 141.931\">\n",
       "<defs>\n",
       "<clipPath id=\"clip-0\">\n",
       "<path clip-rule=\"nonzero\" d=\"M 0 0 L 141.863281 0 L 141.863281 141.863281 L 0 141.863281 Z M 0 0 \"/>\n",
       "</clipPath>\n",
       "</defs>\n",
       "<g clip-path=\"url(#clip-0)\">\n",
       "<path fill=\"none\" stroke-width=\"0.19925\" stroke-linecap=\"butt\" stroke-linejoin=\"miter\" stroke=\"rgb(50%, 50%, 50%)\" stroke-opacity=\"1\" stroke-miterlimit=\"10\" d=\"M 0.00161187 0.000363546 L 141.734545 0.000363546 M 0.00161187 28.346168 L 141.734545 28.346168 M 0.00161187 56.691973 L 141.734545 56.691973 M 0.00161187 85.041686 L 141.734545 85.041686 M 0.00161187 113.387491 L 141.734545 113.387491 M 0.00161187 141.72548 L 141.734545 141.72548 M 0.00161187 0.000363546 L 0.00161187 141.733296 M 28.347417 0.000363546 L 28.347417 141.733296 M 56.693222 0.000363546 L 56.693222 141.733296 M 85.039027 0.000363546 L 85.039027 141.733296 M 113.38874 0.000363546 L 113.38874 141.733296 M 141.72282 0.000363546 L 141.72282 141.733296 \" transform=\"matrix(0.999514, 0, 0, -0.999514, 0.0999514, 141.762082)\"/>\n",
       "</g>\n",
       "<path fill-rule=\"nonzero\" fill=\"rgb(88.627625%, 0%, 45.489502%)\" fill-opacity=\"1\" stroke-width=\"0.3985\" stroke-linecap=\"butt\" stroke-linejoin=\"miter\" stroke=\"rgb(88.627625%, 0%, 45.489502%)\" stroke-opacity=\"1\" stroke-miterlimit=\"10\" d=\"M 113.38874 70.86683 C 113.38874 94.350897 94.352146 113.387491 70.868078 113.387491 C 47.384011 113.387491 28.347417 94.350897 28.347417 70.86683 C 28.347417 47.382762 47.384011 28.346168 70.868078 28.346168 C 94.352146 28.346168 113.38874 47.382762 113.38874 70.86683 Z M 113.38874 70.86683 \" transform=\"matrix(0.999514, 0, 0, -0.999514, 0.0999514, 141.762082)\"/>\n",
       "</svg>"
      ],
      "text/plain": [
       "<IPython.core.display.SVG object>"
      ]
     },
     "execution_count": 42,
     "metadata": {},
     "output_type": "execute_result"
    }
   ],
   "source": [
    "%%tikz -p \"$my_preamble\"\n",
    "\\begin{tikzpicture}\n",
    "    \\draw[help lines] grid (5, 5);\n",
    "     \\filldraw [color=mymagenta] (2.5,2.5) circle (1.5);\n",
    "\\end{tikzpicture}"
   ]
  },
  {
   "cell_type": "markdown",
   "metadata": {},
   "source": [
    "## TeX Program"
   ]
  },
  {
   "cell_type": "markdown",
   "metadata": {},
   "source": [
    "You can change the TeX program using `-tp=<tex_program>` or `--tex-program=<tex_program>`:"
   ]
  },
  {
   "cell_type": "code",
   "execution_count": 43,
   "metadata": {},
   "outputs": [
    {
     "data": {
      "image/svg+xml": [
       "<svg xmlns=\"http://www.w3.org/2000/svg\" xmlns:xlink=\"http://www.w3.org/1999/xlink\" width=\"243.581\" height=\"187.668\" viewBox=\"0 0 243.581 187.668\">\n",
       "<defs>\n",
       "<g>\n",
       "<g id=\"glyph-0-0\">\n",
       "<path d=\"M 6.546875 -2.28125 C 6.71875 -2.28125 6.890625 -2.28125 6.890625 -2.484375 C 6.890625 -2.6875 6.71875 -2.6875 6.546875 -2.6875 L 1.171875 -2.6875 C 1 -2.6875 0.828125 -2.6875 0.828125 -2.484375 C 0.828125 -2.28125 1 -2.28125 1.171875 -2.28125 Z M 6.546875 -2.28125 \"/>\n",
       "</g>\n",
       "<g id=\"glyph-1-0\">\n",
       "<path d=\"M 1.3125 -3.265625 L 1.3125 -3.5 C 1.3125 -6.015625 2.546875 -6.375 3.046875 -6.375 C 3.296875 -6.375 3.703125 -6.3125 3.921875 -5.96875 C 3.78125 -5.96875 3.375 -5.96875 3.375 -5.53125 C 3.375 -5.21875 3.625 -5.0625 3.828125 -5.0625 C 4 -5.0625 4.296875 -5.15625 4.296875 -5.546875 C 4.296875 -6.140625 3.859375 -6.625 3.03125 -6.625 C 1.765625 -6.625 0.421875 -5.34375 0.421875 -3.140625 C 0.421875 -0.484375 1.5625 0.21875 2.5 0.21875 C 3.59375 0.21875 4.546875 -0.71875 4.546875 -2.03125 C 4.546875 -3.296875 3.65625 -4.25 2.546875 -4.25 C 1.875 -4.25 1.515625 -3.734375 1.3125 -3.265625 Z M 2.5 -0.0625 C 1.875 -0.0625 1.5625 -0.65625 1.515625 -0.8125 C 1.328125 -1.265625 1.328125 -2.0625 1.328125 -2.25 C 1.328125 -3.015625 1.65625 -4.015625 2.546875 -4.015625 C 2.703125 -4.015625 3.15625 -4.015625 3.46875 -3.40625 C 3.640625 -3.03125 3.640625 -2.53125 3.640625 -2.03125 C 3.640625 -1.5625 3.640625 -1.0625 3.484375 -0.703125 C 3.1875 -0.109375 2.71875 -0.0625 2.5 -0.0625 Z M 2.5 -0.0625 \"/>\n",
       "</g>\n",
       "<g id=\"glyph-1-1\">\n",
       "<path d=\"M 2.921875 -1.640625 L 2.921875 -0.78125 C 2.921875 -0.421875 2.90625 -0.3125 2.171875 -0.3125 L 1.953125 -0.3125 L 1.953125 0 C 2.359375 -0.03125 2.875 -0.03125 3.296875 -0.03125 C 3.71875 -0.03125 4.25 -0.03125 4.65625 0 L 4.65625 -0.3125 L 4.4375 -0.3125 C 3.703125 -0.3125 3.6875 -0.421875 3.6875 -0.78125 L 3.6875 -1.640625 L 4.6875 -1.640625 L 4.6875 -1.953125 L 3.6875 -1.953125 L 3.6875 -6.46875 C 3.6875 -6.671875 3.6875 -6.734375 3.53125 -6.734375 C 3.4375 -6.734375 3.40625 -6.734375 3.328125 -6.609375 L 0.28125 -1.953125 L 0.28125 -1.640625 Z M 2.984375 -1.953125 L 0.5625 -1.953125 L 2.984375 -5.65625 Z M 2.984375 -1.953125 \"/>\n",
       "</g>\n",
       "<g id=\"glyph-1-2\">\n",
       "<path d=\"M 1.265625 -0.765625 L 2.3125 -1.78125 C 3.859375 -3.15625 4.46875 -3.703125 4.46875 -4.6875 C 4.46875 -5.828125 3.5625 -6.625 2.359375 -6.625 C 1.234375 -6.625 0.5 -5.703125 0.5 -4.8125 C 0.5 -4.265625 1 -4.265625 1.03125 -4.265625 C 1.1875 -4.265625 1.546875 -4.375 1.546875 -4.796875 C 1.546875 -5.046875 1.359375 -5.3125 1.015625 -5.3125 C 0.9375 -5.3125 0.921875 -5.3125 0.890625 -5.296875 C 1.109375 -5.9375 1.65625 -6.3125 2.21875 -6.3125 C 3.125 -6.3125 3.5625 -5.5 3.5625 -4.6875 C 3.5625 -3.890625 3.0625 -3.109375 2.515625 -2.5 L 0.609375 -0.375 C 0.5 -0.265625 0.5 -0.234375 0.5 0 L 4.1875 0 L 4.46875 -1.734375 L 4.21875 -1.734375 C 4.15625 -1.4375 4.09375 -1 4 -0.84375 C 3.921875 -0.765625 3.265625 -0.765625 3.046875 -0.765625 Z M 1.265625 -0.765625 \"/>\n",
       "</g>\n",
       "<g id=\"glyph-1-3\">\n",
       "<path d=\"M 4.578125 -3.1875 C 4.578125 -3.96875 4.515625 -4.765625 4.171875 -5.5 C 3.71875 -6.453125 2.90625 -6.625 2.484375 -6.625 C 1.890625 -6.625 1.15625 -6.359375 0.75 -5.4375 C 0.4375 -4.75 0.390625 -3.96875 0.390625 -3.1875 C 0.390625 -2.4375 0.421875 -1.546875 0.828125 -0.78125 C 1.265625 0.015625 1.984375 0.21875 2.46875 0.21875 C 3.015625 0.21875 3.765625 0.015625 4.203125 -0.9375 C 4.515625 -1.625 4.578125 -2.390625 4.578125 -3.1875 Z M 2.46875 0 C 2.09375 0 1.5 -0.25 1.328125 -1.203125 C 1.21875 -1.796875 1.21875 -2.71875 1.21875 -3.296875 C 1.21875 -3.9375 1.21875 -4.59375 1.296875 -5.125 C 1.484375 -6.3125 2.21875 -6.40625 2.46875 -6.40625 C 2.796875 -6.40625 3.453125 -6.21875 3.640625 -5.234375 C 3.75 -4.6875 3.75 -3.921875 3.75 -3.296875 C 3.75 -2.546875 3.75 -1.875 3.640625 -1.25 C 3.484375 -0.296875 2.921875 0 2.46875 0 Z M 2.46875 0 \"/>\n",
       "</g>\n",
       "<g id=\"glyph-1-4\">\n",
       "<path d=\"M 2.921875 -6.359375 C 2.921875 -6.59375 2.921875 -6.625 2.6875 -6.625 C 2.078125 -5.984375 1.203125 -5.984375 0.890625 -5.984375 L 0.890625 -5.671875 C 1.078125 -5.671875 1.671875 -5.671875 2.1875 -5.9375 L 2.1875 -0.78125 C 2.1875 -0.421875 2.15625 -0.3125 1.265625 -0.3125 L 0.9375 -0.3125 L 0.9375 0 C 1.296875 -0.03125 2.15625 -0.03125 2.546875 -0.03125 C 2.953125 -0.03125 3.8125 -0.03125 4.15625 0 L 4.15625 -0.3125 L 3.84375 -0.3125 C 2.953125 -0.3125 2.921875 -0.421875 2.921875 -0.78125 Z M 2.921875 -6.359375 \"/>\n",
       "</g>\n",
       "<g id=\"glyph-1-5\">\n",
       "<path d=\"M 2.875 -3.5 C 3.703125 -3.765625 4.265625 -4.46875 4.265625 -5.25 C 4.265625 -6.0625 3.40625 -6.625 2.4375 -6.625 C 1.4375 -6.625 0.6875 -6.015625 0.6875 -5.265625 C 0.6875 -4.9375 0.90625 -4.75 1.1875 -4.75 C 1.5 -4.75 1.703125 -4.96875 1.703125 -5.25 C 1.703125 -5.75 1.234375 -5.75 1.078125 -5.75 C 1.390625 -6.234375 2.046875 -6.375 2.40625 -6.375 C 2.8125 -6.375 3.359375 -6.15625 3.359375 -5.25 C 3.359375 -5.140625 3.34375 -4.5625 3.078125 -4.125 C 2.78125 -3.640625 2.4375 -3.625 2.203125 -3.609375 C 2.109375 -3.59375 1.875 -3.578125 1.8125 -3.578125 C 1.734375 -3.5625 1.65625 -3.5625 1.65625 -3.453125 C 1.65625 -3.34375 1.734375 -3.34375 1.890625 -3.34375 L 2.328125 -3.34375 C 3.15625 -3.34375 3.515625 -2.671875 3.515625 -1.703125 C 3.515625 -0.34375 2.828125 -0.0625 2.390625 -0.0625 C 1.96875 -0.0625 1.21875 -0.234375 0.875 -0.8125 C 1.21875 -0.765625 1.53125 -0.984375 1.53125 -1.359375 C 1.53125 -1.71875 1.265625 -1.921875 0.96875 -1.921875 C 0.734375 -1.921875 0.421875 -1.78125 0.421875 -1.34375 C 0.421875 -0.4375 1.34375 0.21875 2.421875 0.21875 C 3.640625 0.21875 4.546875 -0.6875 4.546875 -1.703125 C 4.546875 -2.515625 3.921875 -3.296875 2.875 -3.5 Z M 2.875 -3.5 \"/>\n",
       "</g>\n",
       "<g id=\"glyph-2-0\">\n",
       "<path d=\"M 3.3125 -3 C 3.375 -3.265625 3.609375 -4.171875 4.296875 -4.171875 C 4.359375 -4.171875 4.59375 -4.171875 4.796875 -4.046875 C 4.515625 -4 4.328125 -3.75 4.328125 -3.515625 C 4.328125 -3.34375 4.4375 -3.15625 4.703125 -3.15625 C 4.921875 -3.15625 5.234375 -3.34375 5.234375 -3.734375 C 5.234375 -4.25 4.65625 -4.390625 4.3125 -4.390625 C 3.734375 -4.390625 3.390625 -3.859375 3.265625 -3.640625 C 3.015625 -4.296875 2.484375 -4.390625 2.203125 -4.390625 C 1.15625 -4.390625 0.59375 -3.109375 0.59375 -2.859375 C 0.59375 -2.765625 0.703125 -2.765625 0.71875 -2.765625 C 0.796875 -2.765625 0.828125 -2.78125 0.84375 -2.875 C 1.1875 -3.921875 1.84375 -4.171875 2.171875 -4.171875 C 2.359375 -4.171875 2.71875 -4.078125 2.71875 -3.515625 C 2.71875 -3.203125 2.546875 -2.53125 2.171875 -1.140625 C 2.015625 -0.53125 1.671875 -0.109375 1.234375 -0.109375 C 1.171875 -0.109375 0.9375 -0.109375 0.734375 -0.234375 C 0.984375 -0.28125 1.203125 -0.5 1.203125 -0.78125 C 1.203125 -1.046875 0.984375 -1.125 0.828125 -1.125 C 0.53125 -1.125 0.28125 -0.859375 0.28125 -0.546875 C 0.28125 -0.09375 0.78125 0.109375 1.21875 0.109375 C 1.875 0.109375 2.234375 -0.59375 2.265625 -0.640625 C 2.390625 -0.28125 2.75 0.109375 3.34375 0.109375 C 4.359375 0.109375 4.921875 -1.171875 4.921875 -1.421875 C 4.921875 -1.515625 4.84375 -1.515625 4.8125 -1.515625 C 4.71875 -1.515625 4.703125 -1.484375 4.6875 -1.40625 C 4.359375 -0.34375 3.671875 -0.109375 3.359375 -0.109375 C 2.96875 -0.109375 2.8125 -0.421875 2.8125 -0.765625 C 2.8125 -0.984375 2.875 -1.203125 2.984375 -1.640625 Z M 3.3125 -3 \"/>\n",
       "</g>\n",
       "<g id=\"glyph-3-0\">\n",
       "<path d=\"M -3.96875 -3.640625 L -3.96875 -4.5 C -3.96875 -4.703125 -3.96875 -4.796875 -4.171875 -4.796875 C -4.28125 -4.796875 -4.28125 -4.703125 -4.28125 -4.53125 L -4.28125 -3.703125 L -5.421875 -3.921875 C -5.625 -3.953125 -6.328125 -4.09375 -6.453125 -4.15625 C -6.640625 -4.25 -6.78125 -4.40625 -6.78125 -4.625 C -6.78125 -4.65625 -6.78125 -4.921875 -6.609375 -5.109375 C -6.5625 -4.671875 -6.21875 -4.578125 -6.078125 -4.578125 C -5.84375 -4.578125 -5.71875 -4.75 -5.71875 -4.9375 C -5.71875 -5.203125 -5.9375 -5.484375 -6.3125 -5.484375 C -6.78125 -5.484375 -7 -5.03125 -7 -4.625 C -7 -4.28125 -6.828125 -3.65625 -5.84375 -3.359375 C -5.640625 -3.296875 -5.53125 -3.265625 -4.28125 -3.03125 L -4.28125 -2.34375 C -4.28125 -2.15625 -4.28125 -2.046875 -4.09375 -2.046875 C -3.96875 -2.046875 -3.96875 -2.140625 -3.96875 -2.328125 L -3.96875 -2.984375 L -0.046875 -2.234375 C 0.921875 -2.0625 1.8125 -1.890625 1.8125 -1.375 C 1.8125 -1.328125 1.8125 -1.078125 1.640625 -0.890625 C 1.609375 -1.34375 1.25 -1.4375 1.109375 -1.4375 C 0.875 -1.4375 0.75 -1.265625 0.75 -1.078125 C 0.75 -0.8125 0.96875 -0.53125 1.34375 -0.53125 C 1.796875 -0.53125 2.03125 -0.96875 2.03125 -1.375 C 2.03125 -1.921875 1.453125 -2.3125 1.078125 -2.5 C 0.453125 -2.8125 -0.75 -3.046875 -0.828125 -3.046875 Z M -3.96875 -3.640625 \"/>\n",
       "</g>\n",
       "<g id=\"glyph-3-1\">\n",
       "<path d=\"M -3 -3.3125 C -3.265625 -3.375 -4.171875 -3.609375 -4.171875 -4.296875 C -4.171875 -4.359375 -4.171875 -4.59375 -4.046875 -4.796875 C -4 -4.515625 -3.75 -4.328125 -3.515625 -4.328125 C -3.34375 -4.328125 -3.15625 -4.4375 -3.15625 -4.703125 C -3.15625 -4.921875 -3.34375 -5.234375 -3.734375 -5.234375 C -4.25 -5.234375 -4.390625 -4.65625 -4.390625 -4.3125 C -4.390625 -3.734375 -3.859375 -3.390625 -3.640625 -3.265625 C -4.296875 -3.015625 -4.390625 -2.484375 -4.390625 -2.203125 C -4.390625 -1.15625 -3.109375 -0.59375 -2.859375 -0.59375 C -2.765625 -0.59375 -2.765625 -0.703125 -2.765625 -0.71875 C -2.765625 -0.796875 -2.78125 -0.828125 -2.875 -0.84375 C -3.921875 -1.1875 -4.171875 -1.84375 -4.171875 -2.171875 C -4.171875 -2.359375 -4.078125 -2.71875 -3.515625 -2.71875 C -3.203125 -2.71875 -2.53125 -2.546875 -1.140625 -2.171875 C -0.53125 -2.015625 -0.109375 -1.671875 -0.109375 -1.234375 C -0.109375 -1.171875 -0.109375 -0.9375 -0.234375 -0.734375 C -0.28125 -0.984375 -0.5 -1.203125 -0.78125 -1.203125 C -1.046875 -1.203125 -1.125 -0.984375 -1.125 -0.828125 C -1.125 -0.53125 -0.859375 -0.28125 -0.546875 -0.28125 C -0.09375 -0.28125 0.109375 -0.78125 0.109375 -1.21875 C 0.109375 -1.875 -0.59375 -2.234375 -0.640625 -2.265625 C -0.28125 -2.390625 0.109375 -2.75 0.109375 -3.34375 C 0.109375 -4.359375 -1.171875 -4.921875 -1.421875 -4.921875 C -1.515625 -4.921875 -1.515625 -4.84375 -1.515625 -4.8125 C -1.515625 -4.71875 -1.484375 -4.703125 -1.40625 -4.6875 C -0.34375 -4.359375 -0.109375 -3.671875 -0.109375 -3.359375 C -0.109375 -2.96875 -0.421875 -2.8125 -0.765625 -2.8125 C -0.984375 -2.8125 -1.203125 -2.875 -1.640625 -2.984375 Z M -3 -3.3125 \"/>\n",
       "</g>\n",
       "<g id=\"glyph-4-0\">\n",
       "<path d=\"M 2.390625 -3.296875 C 2.359375 -3.296875 2.328125 -3.296875 2.171875 -3.125 C 0.921875 -1.875 -0.96875 -1.5625 -2.484375 -1.5625 C -4.21875 -1.5625 -5.9375 -1.9375 -7.1875 -3.15625 C -7.296875 -3.296875 -7.328125 -3.296875 -7.359375 -3.296875 C -7.421875 -3.296875 -7.453125 -3.25 -7.453125 -3.1875 C -7.453125 -3.09375 -6.78125 -2.203125 -5.515625 -1.609375 C -4.421875 -1.109375 -3.3125 -0.984375 -2.484375 -0.984375 C -1.703125 -0.984375 -0.5 -1.09375 0.609375 -1.640625 C 1.84375 -2.234375 2.484375 -3.09375 2.484375 -3.1875 C 2.484375 -3.25 2.453125 -3.296875 2.390625 -3.296875 Z M 2.390625 -3.296875 \"/>\n",
       "</g>\n",
       "<g id=\"glyph-4-1\">\n",
       "<path d=\"M -2.484375 -2.875 C -3.265625 -2.875 -4.46875 -2.765625 -5.578125 -2.21875 C -6.8125 -1.625 -7.453125 -0.765625 -7.453125 -0.671875 C -7.453125 -0.609375 -7.40625 -0.5625 -7.359375 -0.5625 C -7.328125 -0.5625 -7.296875 -0.5625 -7.125 -0.75 C -6.140625 -1.734375 -4.5625 -2.296875 -2.484375 -2.296875 C -0.78125 -2.296875 0.96875 -1.921875 2.21875 -0.703125 C 2.328125 -0.5625 2.359375 -0.5625 2.390625 -0.5625 C 2.4375 -0.5625 2.484375 -0.609375 2.484375 -0.671875 C 2.484375 -0.765625 1.8125 -1.65625 0.546875 -2.25 C -0.546875 -2.75 -1.65625 -2.875 -2.484375 -2.875 Z M -2.484375 -2.875 \"/>\n",
       "</g>\n",
       "<g id=\"glyph-4-2\">\n",
       "<path d=\"M -3.25 -6.828125 C -3.25 -6.96875 -3.25 -7.171875 -3.453125 -7.171875 C -3.640625 -7.171875 -3.640625 -6.96875 -3.640625 -6.84375 L -3.640625 -0.890625 C -3.640625 -0.75 -3.640625 -0.5625 -3.453125 -0.5625 C -3.25 -0.5625 -3.25 -0.75 -3.25 -0.890625 Z M -1.328125 -6.84375 C -1.328125 -6.96875 -1.328125 -7.171875 -1.515625 -7.171875 C -1.71875 -7.171875 -1.71875 -6.96875 -1.71875 -6.828125 L -1.71875 -0.890625 C -1.71875 -0.75 -1.71875 -0.5625 -1.515625 -0.5625 C -1.328125 -0.5625 -1.328125 -0.75 -1.328125 -0.890625 Z M -1.328125 -6.84375 \"/>\n",
       "</g>\n",
       "<g id=\"glyph-4-3\">\n",
       "<path d=\"M -2.28125 -4.0625 L -2.28125 -6.84375 C -2.28125 -6.96875 -2.28125 -7.171875 -2.484375 -7.171875 C -2.6875 -7.171875 -2.6875 -6.96875 -2.6875 -6.84375 L -2.6875 -4.0625 L -5.46875 -4.0625 C -5.609375 -4.0625 -5.796875 -4.0625 -5.796875 -3.859375 C -5.796875 -3.671875 -5.609375 -3.671875 -5.46875 -3.671875 L -2.6875 -3.671875 L -2.6875 -0.890625 C -2.6875 -0.75 -2.6875 -0.5625 -2.484375 -0.5625 C -2.28125 -0.5625 -2.28125 -0.75 -2.28125 -0.890625 L -2.28125 -3.671875 L 0.5 -3.671875 C 0.640625 -3.671875 0.828125 -3.671875 0.828125 -3.859375 C 0.828125 -4.0625 0.640625 -4.0625 0.5 -4.0625 Z M -2.28125 -4.0625 \"/>\n",
       "</g>\n",
       "<g id=\"glyph-4-4\">\n",
       "<path d=\"M -1.640625 -2.921875 L -0.78125 -2.921875 C -0.421875 -2.921875 -0.3125 -2.90625 -0.3125 -2.171875 L -0.3125 -1.953125 L 0 -1.953125 C -0.03125 -2.359375 -0.03125 -2.875 -0.03125 -3.296875 C -0.03125 -3.71875 -0.03125 -4.25 0 -4.65625 L -0.3125 -4.65625 L -0.3125 -4.4375 C -0.3125 -3.703125 -0.421875 -3.6875 -0.78125 -3.6875 L -1.640625 -3.6875 L -1.640625 -4.6875 L -1.953125 -4.6875 L -1.953125 -3.6875 L -6.46875 -3.6875 C -6.671875 -3.6875 -6.734375 -3.6875 -6.734375 -3.53125 C -6.734375 -3.4375 -6.734375 -3.40625 -6.609375 -3.328125 L -1.953125 -0.28125 L -1.640625 -0.28125 Z M -1.953125 -2.984375 L -1.953125 -0.5625 L -5.65625 -2.984375 Z M -1.953125 -2.984375 \"/>\n",
       "</g>\n",
       "<g id=\"glyph-5-0\">\n",
       "<path d=\"M -1.265625 -3.515625 L -1.265625 -3.28125 C -1.109375 -3.265625 -0.703125 -3.1875 -0.640625 -3.09375 C -0.59375 -3.046875 -0.59375 -2.515625 -0.59375 -2.40625 L -0.59375 -1.125 C -1.234375 -1.859375 -1.4375 -2.109375 -1.765625 -2.515625 C -2.171875 -3.03125 -2.609375 -3.515625 -3.265625 -3.515625 C -4.109375 -3.515625 -4.625 -2.78125 -4.625 -1.890625 C -4.625 -1.03125 -4.015625 -0.4375 -3.375 -0.4375 C -3.03125 -0.4375 -2.984375 -0.734375 -2.984375 -0.8125 C -2.984375 -0.96875 -3.109375 -1.171875 -3.359375 -1.171875 C -3.484375 -1.171875 -3.734375 -1.125 -3.734375 -0.765625 C -4.21875 -0.984375 -4.375 -1.453125 -4.375 -1.78125 C -4.375 -2.484375 -3.828125 -2.84375 -3.265625 -2.84375 C -2.65625 -2.84375 -2.1875 -2.40625 -1.9375 -2.1875 L -0.265625 -0.515625 C -0.203125 -0.4375 -0.1875 -0.4375 0 -0.4375 L 0 -3.3125 Z M -1.265625 -3.515625 \"/>\n",
       "</g>\n",
       "<g id=\"glyph-6-0\">\n",
       "<path d=\"M -2.28125 -6.546875 C -2.28125 -6.71875 -2.28125 -6.890625 -2.484375 -6.890625 C -2.6875 -6.890625 -2.6875 -6.71875 -2.6875 -6.546875 L -2.6875 -1.171875 C -2.6875 -1 -2.6875 -0.828125 -2.484375 -0.828125 C -2.28125 -0.828125 -2.28125 -1 -2.28125 -1.171875 Z M -2.28125 -6.546875 \"/>\n",
       "</g>\n",
       "</g>\n",
       "</defs>\n",
       "<path fill=\"none\" stroke-width=\"0.19925\" stroke-linecap=\"butt\" stroke-linejoin=\"miter\" stroke=\"rgb(50%, 50%, 50%)\" stroke-opacity=\"1\" stroke-miterlimit=\"10\" d=\"M -16.191179 -13.449962 L -16.191179 -9.20027 M 16.190224 -13.449962 L 16.190224 -9.20027 M 48.571627 -13.449962 L 48.571627 -9.20027 M 80.949117 -13.449962 L 80.949117 -9.20027 M 113.33052 -13.449962 L 113.33052 -9.20027 M 145.711923 -13.449962 L 145.711923 -9.20027 M 178.089413 -13.449962 L 178.089413 -9.20027 M -16.191179 147.948342 L -16.191179 143.694737 M 16.190224 147.948342 L 16.190224 143.694737 M 48.571627 147.948342 L 48.571627 143.694737 M 80.949117 147.948342 L 80.949117 143.694737 M 113.33052 147.948342 L 113.33052 143.694737 M 145.711923 147.948342 L 145.711923 143.694737 M 178.089413 147.948342 L 178.089413 143.694737 \" transform=\"matrix(0.998234, 0, 0, -0.998234, 59.580554, 147.882384)\"/>\n",
       "<path fill=\"none\" stroke-width=\"0.19925\" stroke-linecap=\"butt\" stroke-linejoin=\"miter\" stroke=\"rgb(50%, 50%, 50%)\" stroke-opacity=\"1\" stroke-miterlimit=\"10\" d=\"M -16.191179 27.763444 L -11.937573 27.763444 M -16.191179 72.236513 L -11.937573 72.236513 M -16.191179 116.709582 L -11.937573 116.709582 M 178.089413 27.763444 L 173.835807 27.763444 M 178.089413 72.236513 L 173.835807 72.236513 M 178.089413 116.709582 L 173.835807 116.709582 \" transform=\"matrix(0.998234, 0, 0, -0.998234, 59.580554, 147.882384)\"/>\n",
       "<path fill=\"none\" stroke-width=\"0.3985\" stroke-linecap=\"butt\" stroke-linejoin=\"miter\" stroke=\"rgb(0%, 0%, 0%)\" stroke-opacity=\"1\" stroke-miterlimit=\"10\" d=\"M -16.191179 -13.449962 L -16.191179 147.948342 L 178.089413 147.948342 L 178.089413 -13.449962 Z M -16.191179 -13.449962 \" transform=\"matrix(0.998234, 0, 0, -0.998234, 59.580554, 147.882384)\"/>\n",
       "<g fill=\"rgb(0%, 0%, 0%)\" fill-opacity=\"1\">\n",
       "<use xlink:href=\"#glyph-0-0\" x=\"37.066384\" y=\"171.231078\"/>\n",
       "</g>\n",
       "<g fill=\"rgb(0%, 0%, 0%)\" fill-opacity=\"1\">\n",
       "<use xlink:href=\"#glyph-1-0\" x=\"44.800701\" y=\"171.231078\"/>\n",
       "</g>\n",
       "<g fill=\"rgb(0%, 0%, 0%)\" fill-opacity=\"1\">\n",
       "<use xlink:href=\"#glyph-0-0\" x=\"69.388204\" y=\"171.231078\"/>\n",
       "</g>\n",
       "<g fill=\"rgb(0%, 0%, 0%)\" fill-opacity=\"1\">\n",
       "<use xlink:href=\"#glyph-1-1\" x=\"77.12352\" y=\"171.231078\"/>\n",
       "</g>\n",
       "<g fill=\"rgb(0%, 0%, 0%)\" fill-opacity=\"1\">\n",
       "<use xlink:href=\"#glyph-0-0\" x=\"101.711022\" y=\"171.231078\"/>\n",
       "</g>\n",
       "<g fill=\"rgb(0%, 0%, 0%)\" fill-opacity=\"1\">\n",
       "<use xlink:href=\"#glyph-1-2\" x=\"109.446338\" y=\"171.231078\"/>\n",
       "</g>\n",
       "<g fill=\"rgb(0%, 0%, 0%)\" fill-opacity=\"1\">\n",
       "<use xlink:href=\"#glyph-1-3\" x=\"137.900999\" y=\"171.231078\"/>\n",
       "</g>\n",
       "<g fill=\"rgb(0%, 0%, 0%)\" fill-opacity=\"1\">\n",
       "<use xlink:href=\"#glyph-1-2\" x=\"170.223818\" y=\"171.231078\"/>\n",
       "</g>\n",
       "<g fill=\"rgb(0%, 0%, 0%)\" fill-opacity=\"1\">\n",
       "<use xlink:href=\"#glyph-1-1\" x=\"202.546636\" y=\"171.231078\"/>\n",
       "</g>\n",
       "<g fill=\"rgb(0%, 0%, 0%)\" fill-opacity=\"1\">\n",
       "<use xlink:href=\"#glyph-1-0\" x=\"234.869454\" y=\"171.231078\"/>\n",
       "</g>\n",
       "<g fill=\"rgb(0%, 0%, 0%)\" fill-opacity=\"1\">\n",
       "<use xlink:href=\"#glyph-1-4\" x=\"29.959956\" y=\"123.372744\"/>\n",
       "<use xlink:href=\"#glyph-1-3\" x=\"34.932479\" y=\"123.372744\"/>\n",
       "</g>\n",
       "<g fill=\"rgb(0%, 0%, 0%)\" fill-opacity=\"1\">\n",
       "<use xlink:href=\"#glyph-1-2\" x=\"29.959956\" y=\"78.979279\"/>\n",
       "<use xlink:href=\"#glyph-1-3\" x=\"34.932479\" y=\"78.979279\"/>\n",
       "</g>\n",
       "<g fill=\"rgb(0%, 0%, 0%)\" fill-opacity=\"1\">\n",
       "<use xlink:href=\"#glyph-1-5\" x=\"29.959956\" y=\"34.586813\"/>\n",
       "<use xlink:href=\"#glyph-1-3\" x=\"34.932479\" y=\"34.586813\"/>\n",
       "</g>\n",
       "<path fill=\"none\" stroke-width=\"0.3985\" stroke-linecap=\"butt\" stroke-linejoin=\"miter\" stroke=\"rgb(0%, 0%, 100%)\" stroke-opacity=\"1\" stroke-miterlimit=\"10\" d=\"M 0.00147939 134.494896 L 6.743855 114.886049 L 13.490144 96.818987 L 20.236432 80.297624 L 26.982721 65.318045 L 33.72901 51.884165 L 40.475298 39.995984 L 47.221587 29.649588 L 53.967876 20.84889 L 60.710251 13.589977 L 67.45654 7.876763 L 74.202828 3.705334 L 80.949117 1.079603 L 87.695406 -0.000429258 L 94.441694 0.461324 L 101.187983 2.468775 L 107.930358 6.021925 L 114.676647 11.11686 L 121.422936 17.757493 L 128.169224 25.939912 L 134.915513 35.668028 L 141.661802 46.937931 L 148.40809 59.753531 L 155.154379 74.11483 L 161.896755 90.017914 \" transform=\"matrix(0.998234, 0, 0, -0.998234, 59.580554, 147.882384)\"/>\n",
       "<path fill-rule=\"nonzero\" fill=\"rgb(0%, 0%, 79.998779%)\" fill-opacity=\"1\" stroke-width=\"0.3985\" stroke-linecap=\"butt\" stroke-linejoin=\"miter\" stroke=\"rgb(0%, 0%, 100%)\" stroke-opacity=\"1\" stroke-miterlimit=\"10\" d=\"M 1.993278 134.494896 C 1.993278 135.598408 1.101077 136.490608 0.00147939 136.490608 C -1.102032 136.490608 -1.994232 135.598408 -1.994232 134.494896 C -1.994232 133.395298 -1.102032 132.503098 0.00147939 132.503098 C 1.101077 132.503098 1.993278 133.395298 1.993278 134.494896 Z M 1.993278 134.494896 \" transform=\"matrix(0.998234, 0, 0, -0.998234, 59.580554, 147.882384)\"/>\n",
       "<path fill-rule=\"nonzero\" fill=\"rgb(0%, 0%, 79.998779%)\" fill-opacity=\"1\" stroke-width=\"0.3985\" stroke-linecap=\"butt\" stroke-linejoin=\"miter\" stroke=\"rgb(0%, 0%, 100%)\" stroke-opacity=\"1\" stroke-miterlimit=\"10\" d=\"M 8.739567 114.886049 C 8.739567 115.985647 7.847366 116.877848 6.743855 116.877848 C 5.644257 116.877848 4.752056 115.985647 4.752056 114.886049 C 4.752056 113.786451 5.644257 112.89425 6.743855 112.89425 C 7.847366 112.89425 8.739567 113.786451 8.739567 114.886049 Z M 8.739567 114.886049 \" transform=\"matrix(0.998234, 0, 0, -0.998234, 59.580554, 147.882384)\"/>\n",
       "<path fill-rule=\"nonzero\" fill=\"rgb(0%, 0%, 79.998779%)\" fill-opacity=\"1\" stroke-width=\"0.3985\" stroke-linecap=\"butt\" stroke-linejoin=\"miter\" stroke=\"rgb(0%, 0%, 100%)\" stroke-opacity=\"1\" stroke-miterlimit=\"10\" d=\"M 15.485855 96.818987 C 15.485855 97.918585 14.593655 98.810786 13.490144 98.810786 C 12.390545 98.810786 11.498345 97.918585 11.498345 96.818987 C 11.498345 95.719389 12.390545 94.827189 13.490144 94.827189 C 14.593655 94.827189 15.485855 95.719389 15.485855 96.818987 Z M 15.485855 96.818987 \" transform=\"matrix(0.998234, 0, 0, -0.998234, 59.580554, 147.882384)\"/>\n",
       "<path fill-rule=\"nonzero\" fill=\"rgb(0%, 0%, 79.998779%)\" fill-opacity=\"1\" stroke-width=\"0.3985\" stroke-linecap=\"butt\" stroke-linejoin=\"miter\" stroke=\"rgb(0%, 0%, 100%)\" stroke-opacity=\"1\" stroke-miterlimit=\"10\" d=\"M 22.228231 80.297624 C 22.228231 81.397222 21.33603 82.289422 20.236432 82.289422 C 19.136834 82.289422 18.244634 81.397222 18.244634 80.297624 C 18.244634 79.198026 19.136834 78.305825 20.236432 78.305825 C 21.33603 78.305825 22.228231 79.198026 22.228231 80.297624 Z M 22.228231 80.297624 \" transform=\"matrix(0.998234, 0, 0, -0.998234, 59.580554, 147.882384)\"/>\n",
       "<path fill-rule=\"nonzero\" fill=\"rgb(0%, 0%, 79.998779%)\" fill-opacity=\"1\" stroke-width=\"0.3985\" stroke-linecap=\"butt\" stroke-linejoin=\"miter\" stroke=\"rgb(0%, 0%, 100%)\" stroke-opacity=\"1\" stroke-miterlimit=\"10\" d=\"M 28.97452 65.318045 C 28.97452 66.417643 28.082319 67.309844 26.982721 67.309844 C 25.883123 67.309844 24.990922 66.417643 24.990922 65.318045 C 24.990922 64.218447 25.883123 63.326247 26.982721 63.326247 C 28.082319 63.326247 28.97452 64.218447 28.97452 65.318045 Z M 28.97452 65.318045 \" transform=\"matrix(0.998234, 0, 0, -0.998234, 59.580554, 147.882384)\"/>\n",
       "<path fill-rule=\"nonzero\" fill=\"rgb(0%, 0%, 79.998779%)\" fill-opacity=\"1\" stroke-width=\"0.3985\" stroke-linecap=\"butt\" stroke-linejoin=\"miter\" stroke=\"rgb(0%, 0%, 100%)\" stroke-opacity=\"1\" stroke-miterlimit=\"10\" d=\"M 35.720808 51.884165 C 35.720808 52.983764 34.828608 53.875964 33.72901 53.875964 C 32.629411 53.875964 31.737211 52.983764 31.737211 51.884165 C 31.737211 50.784567 32.629411 49.892367 33.72901 49.892367 C 34.828608 49.892367 35.720808 50.784567 35.720808 51.884165 Z M 35.720808 51.884165 \" transform=\"matrix(0.998234, 0, 0, -0.998234, 59.580554, 147.882384)\"/>\n",
       "<path fill-rule=\"nonzero\" fill=\"rgb(0%, 0%, 79.998779%)\" fill-opacity=\"1\" stroke-width=\"0.3985\" stroke-linecap=\"butt\" stroke-linejoin=\"miter\" stroke=\"rgb(0%, 0%, 100%)\" stroke-opacity=\"1\" stroke-miterlimit=\"10\" d=\"M 42.467097 39.995984 C 42.467097 41.095582 41.574896 41.987783 40.475298 41.987783 C 39.3757 41.987783 38.4835 41.095582 38.4835 39.995984 C 38.4835 38.892473 39.3757 38.000272 40.475298 38.000272 C 41.574896 38.000272 42.467097 38.892473 42.467097 39.995984 Z M 42.467097 39.995984 \" transform=\"matrix(0.998234, 0, 0, -0.998234, 59.580554, 147.882384)\"/>\n",
       "<path fill-rule=\"nonzero\" fill=\"rgb(0%, 0%, 79.998779%)\" fill-opacity=\"1\" stroke-width=\"0.3985\" stroke-linecap=\"butt\" stroke-linejoin=\"miter\" stroke=\"rgb(0%, 0%, 100%)\" stroke-opacity=\"1\" stroke-miterlimit=\"10\" d=\"M 49.213386 29.649588 C 49.213386 30.749186 48.321185 31.641386 47.221587 31.641386 C 46.118076 31.641386 45.225875 30.749186 45.225875 29.649588 C 45.225875 28.54999 46.118076 27.657789 47.221587 27.657789 C 48.321185 27.657789 49.213386 28.54999 49.213386 29.649588 Z M 49.213386 29.649588 \" transform=\"matrix(0.998234, 0, 0, -0.998234, 59.580554, 147.882384)\"/>\n",
       "<path fill-rule=\"nonzero\" fill=\"rgb(0%, 0%, 79.998779%)\" fill-opacity=\"1\" stroke-width=\"0.3985\" stroke-linecap=\"butt\" stroke-linejoin=\"miter\" stroke=\"rgb(0%, 0%, 100%)\" stroke-opacity=\"1\" stroke-miterlimit=\"10\" d=\"M 55.959674 20.84889 C 55.959674 21.948488 55.067474 22.840688 53.967876 22.840688 C 52.864364 22.840688 51.972164 21.948488 51.972164 20.84889 C 51.972164 19.745378 52.864364 18.853178 53.967876 18.853178 C 55.067474 18.853178 55.959674 19.745378 55.959674 20.84889 Z M 55.959674 20.84889 \" transform=\"matrix(0.998234, 0, 0, -0.998234, 59.580554, 147.882384)\"/>\n",
       "<path fill-rule=\"nonzero\" fill=\"rgb(0%, 0%, 79.998779%)\" fill-opacity=\"1\" stroke-width=\"0.3985\" stroke-linecap=\"butt\" stroke-linejoin=\"miter\" stroke=\"rgb(0%, 0%, 100%)\" stroke-opacity=\"1\" stroke-miterlimit=\"10\" d=\"M 62.705963 13.589977 C 62.705963 14.689575 61.813762 15.581776 60.710251 15.581776 C 59.610653 15.581776 58.718452 14.689575 58.718452 13.589977 C 58.718452 12.490379 59.610653 11.598178 60.710251 11.598178 C 61.813762 11.598178 62.705963 12.490379 62.705963 13.589977 Z M 62.705963 13.589977 \" transform=\"matrix(0.998234, 0, 0, -0.998234, 59.580554, 147.882384)\"/>\n",
       "<path fill-rule=\"nonzero\" fill=\"rgb(0%, 0%, 79.998779%)\" fill-opacity=\"1\" stroke-width=\"0.3985\" stroke-linecap=\"butt\" stroke-linejoin=\"miter\" stroke=\"rgb(0%, 0%, 100%)\" stroke-opacity=\"1\" stroke-miterlimit=\"10\" d=\"M 69.448338 7.876763 C 69.448338 8.976361 68.560051 9.868561 67.45654 9.868561 C 66.356942 9.868561 65.464741 8.976361 65.464741 7.876763 C 65.464741 6.777165 66.356942 5.884964 67.45654 5.884964 C 68.560051 5.884964 69.448338 6.777165 69.448338 7.876763 Z M 69.448338 7.876763 \" transform=\"matrix(0.998234, 0, 0, -0.998234, 59.580554, 147.882384)\"/>\n",
       "<path fill-rule=\"nonzero\" fill=\"rgb(0%, 0%, 79.998779%)\" fill-opacity=\"1\" stroke-width=\"0.3985\" stroke-linecap=\"butt\" stroke-linejoin=\"miter\" stroke=\"rgb(0%, 0%, 100%)\" stroke-opacity=\"1\" stroke-miterlimit=\"10\" d=\"M 76.194627 3.705334 C 76.194627 4.808845 75.302426 5.697132 74.202828 5.697132 C 73.10323 5.697132 72.21103 4.808845 72.21103 3.705334 C 72.21103 2.605736 73.10323 1.713535 74.202828 1.713535 C 75.302426 1.713535 76.194627 2.605736 76.194627 3.705334 Z M 76.194627 3.705334 \" transform=\"matrix(0.998234, 0, 0, -0.998234, 59.580554, 147.882384)\"/>\n",
       "<path fill-rule=\"nonzero\" fill=\"rgb(0%, 0%, 79.998779%)\" fill-opacity=\"1\" stroke-width=\"0.3985\" stroke-linecap=\"butt\" stroke-linejoin=\"miter\" stroke=\"rgb(0%, 0%, 100%)\" stroke-opacity=\"1\" stroke-miterlimit=\"10\" d=\"M 82.940916 1.079603 C 82.940916 2.183114 82.048715 3.075315 80.949117 3.075315 C 79.849519 3.075315 78.957318 2.183114 78.957318 1.079603 C 78.957318 -0.0199951 79.849519 -0.912196 80.949117 -0.912196 C 82.048715 -0.912196 82.940916 -0.0199951 82.940916 1.079603 Z M 82.940916 1.079603 \" transform=\"matrix(0.998234, 0, 0, -0.998234, 59.580554, 147.882384)\"/>\n",
       "<path fill-rule=\"nonzero\" fill=\"rgb(0%, 0%, 79.998779%)\" fill-opacity=\"1\" stroke-width=\"0.3985\" stroke-linecap=\"butt\" stroke-linejoin=\"miter\" stroke=\"rgb(0%, 0%, 100%)\" stroke-opacity=\"1\" stroke-miterlimit=\"10\" d=\"M 89.687204 -0.000429258 C 89.687204 1.099169 88.795004 1.991369 87.695406 1.991369 C 86.595808 1.991369 85.703607 1.099169 85.703607 -0.000429258 C 85.703607 -1.100027 86.595808 -1.992228 87.695406 -1.992228 C 88.795004 -1.992228 89.687204 -1.100027 89.687204 -0.000429258 Z M 89.687204 -0.000429258 \" transform=\"matrix(0.998234, 0, 0, -0.998234, 59.580554, 147.882384)\"/>\n",
       "<path fill-rule=\"nonzero\" fill=\"rgb(0%, 0%, 79.998779%)\" fill-opacity=\"1\" stroke-width=\"0.3985\" stroke-linecap=\"butt\" stroke-linejoin=\"miter\" stroke=\"rgb(0%, 0%, 100%)\" stroke-opacity=\"1\" stroke-miterlimit=\"10\" d=\"M 96.433493 0.461324 C 96.433493 1.564835 95.541292 2.457036 94.441694 2.457036 C 93.342096 2.457036 92.449896 1.564835 92.449896 0.461324 C 92.449896 -0.638274 93.342096 -1.530475 94.441694 -1.530475 C 95.541292 -1.530475 96.433493 -0.638274 96.433493 0.461324 Z M 96.433493 0.461324 \" transform=\"matrix(0.998234, 0, 0, -0.998234, 59.580554, 147.882384)\"/>\n",
       "<path fill-rule=\"nonzero\" fill=\"rgb(0%, 0%, 79.998779%)\" fill-opacity=\"1\" stroke-width=\"0.3985\" stroke-linecap=\"butt\" stroke-linejoin=\"miter\" stroke=\"rgb(0%, 0%, 100%)\" stroke-opacity=\"1\" stroke-miterlimit=\"10\" d=\"M 103.179782 2.468775 C 103.179782 3.572286 102.287581 4.460574 101.187983 4.460574 C 100.084472 4.460574 99.192271 3.572286 99.192271 2.468775 C 99.192271 1.369177 100.084472 0.476976 101.187983 0.476976 C 102.287581 0.476976 103.179782 1.369177 103.179782 2.468775 Z M 103.179782 2.468775 \" transform=\"matrix(0.998234, 0, 0, -0.998234, 59.580554, 147.882384)\"/>\n",
       "<path fill-rule=\"nonzero\" fill=\"rgb(0%, 0%, 79.998779%)\" fill-opacity=\"1\" stroke-width=\"0.3985\" stroke-linecap=\"butt\" stroke-linejoin=\"miter\" stroke=\"rgb(0%, 0%, 100%)\" stroke-opacity=\"1\" stroke-miterlimit=\"10\" d=\"M 109.92607 6.021925 C 109.92607 7.121523 109.03387 8.013723 107.930358 8.013723 C 106.83076 8.013723 105.93856 7.121523 105.93856 6.021925 C 105.93856 4.922327 106.83076 4.030126 107.930358 4.030126 C 109.03387 4.030126 109.92607 4.922327 109.92607 6.021925 Z M 109.92607 6.021925 \" transform=\"matrix(0.998234, 0, 0, -0.998234, 59.580554, 147.882384)\"/>\n",
       "<path fill-rule=\"nonzero\" fill=\"rgb(0%, 0%, 79.998779%)\" fill-opacity=\"1\" stroke-width=\"0.3985\" stroke-linecap=\"butt\" stroke-linejoin=\"miter\" stroke=\"rgb(0%, 0%, 100%)\" stroke-opacity=\"1\" stroke-miterlimit=\"10\" d=\"M 116.672359 11.11686 C 116.672359 12.216458 115.780158 13.108658 114.676647 13.108658 C 113.577049 13.108658 112.684848 12.216458 112.684848 11.11686 C 112.684848 10.017262 113.577049 9.125061 114.676647 9.125061 C 115.780158 9.125061 116.672359 10.017262 116.672359 11.11686 Z M 116.672359 11.11686 \" transform=\"matrix(0.998234, 0, 0, -0.998234, 59.580554, 147.882384)\"/>\n",
       "<path fill-rule=\"nonzero\" fill=\"rgb(0%, 0%, 79.998779%)\" fill-opacity=\"1\" stroke-width=\"0.3985\" stroke-linecap=\"butt\" stroke-linejoin=\"miter\" stroke=\"rgb(0%, 0%, 100%)\" stroke-opacity=\"1\" stroke-miterlimit=\"10\" d=\"M 123.414734 17.757493 C 123.414734 18.857091 122.522534 19.749292 121.422936 19.749292 C 120.323338 19.749292 119.431137 18.857091 119.431137 17.757493 C 119.431137 16.653982 120.323338 15.761781 121.422936 15.761781 C 122.522534 15.761781 123.414734 16.653982 123.414734 17.757493 Z M 123.414734 17.757493 \" transform=\"matrix(0.998234, 0, 0, -0.998234, 59.580554, 147.882384)\"/>\n",
       "<path fill-rule=\"nonzero\" fill=\"rgb(0%, 0%, 79.998779%)\" fill-opacity=\"1\" stroke-width=\"0.3985\" stroke-linecap=\"butt\" stroke-linejoin=\"miter\" stroke=\"rgb(0%, 0%, 100%)\" stroke-opacity=\"1\" stroke-miterlimit=\"10\" d=\"M 130.161023 25.939912 C 130.161023 27.03951 129.268823 27.93171 128.169224 27.93171 C 127.069626 27.93171 126.177426 27.03951 126.177426 25.939912 C 126.177426 24.840313 127.069626 23.948113 128.169224 23.948113 C 129.268823 23.948113 130.161023 24.840313 130.161023 25.939912 Z M 130.161023 25.939912 \" transform=\"matrix(0.998234, 0, 0, -0.998234, 59.580554, 147.882384)\"/>\n",
       "<path fill-rule=\"nonzero\" fill=\"rgb(0%, 0%, 79.998779%)\" fill-opacity=\"1\" stroke-width=\"0.3985\" stroke-linecap=\"butt\" stroke-linejoin=\"miter\" stroke=\"rgb(0%, 0%, 100%)\" stroke-opacity=\"1\" stroke-miterlimit=\"10\" d=\"M 136.907312 35.668028 C 136.907312 36.767627 136.015111 37.659827 134.915513 37.659827 C 133.815915 37.659827 132.923714 36.767627 132.923714 35.668028 C 132.923714 34.564517 133.815915 33.672317 134.915513 33.672317 C 136.015111 33.672317 136.907312 34.564517 136.907312 35.668028 Z M 136.907312 35.668028 \" transform=\"matrix(0.998234, 0, 0, -0.998234, 59.580554, 147.882384)\"/>\n",
       "<path fill-rule=\"nonzero\" fill=\"rgb(0%, 0%, 79.998779%)\" fill-opacity=\"1\" stroke-width=\"0.3985\" stroke-linecap=\"butt\" stroke-linejoin=\"miter\" stroke=\"rgb(0%, 0%, 100%)\" stroke-opacity=\"1\" stroke-miterlimit=\"10\" d=\"M 143.6536 46.937931 C 143.6536 48.037529 142.7614 48.929729 141.661802 48.929729 C 140.562204 48.929729 139.670003 48.037529 139.670003 46.937931 C 139.670003 45.838333 140.562204 44.946132 141.661802 44.946132 C 142.7614 44.946132 143.6536 45.838333 143.6536 46.937931 Z M 143.6536 46.937931 \" transform=\"matrix(0.998234, 0, 0, -0.998234, 59.580554, 147.882384)\"/>\n",
       "<path fill-rule=\"nonzero\" fill=\"rgb(0%, 0%, 79.998779%)\" fill-opacity=\"1\" stroke-width=\"0.3985\" stroke-linecap=\"butt\" stroke-linejoin=\"miter\" stroke=\"rgb(0%, 0%, 100%)\" stroke-opacity=\"1\" stroke-miterlimit=\"10\" d=\"M 150.399889 59.753531 C 150.399889 60.853129 149.507688 61.74533 148.40809 61.74533 C 147.304579 61.74533 146.416292 60.853129 146.416292 59.753531 C 146.416292 58.653933 147.304579 57.761733 148.40809 57.761733 C 149.507688 57.761733 150.399889 58.653933 150.399889 59.753531 Z M 150.399889 59.753531 \" transform=\"matrix(0.998234, 0, 0, -0.998234, 59.580554, 147.882384)\"/>\n",
       "<path fill-rule=\"nonzero\" fill=\"rgb(0%, 0%, 79.998779%)\" fill-opacity=\"1\" stroke-width=\"0.3985\" stroke-linecap=\"butt\" stroke-linejoin=\"miter\" stroke=\"rgb(0%, 0%, 100%)\" stroke-opacity=\"1\" stroke-miterlimit=\"10\" d=\"M 157.146178 74.11483 C 157.146178 75.214428 156.253977 76.106629 155.154379 76.106629 C 154.050868 76.106629 153.158667 75.214428 153.158667 74.11483 C 153.158667 73.015232 154.050868 72.123031 155.154379 72.123031 C 156.253977 72.123031 157.146178 73.015232 157.146178 74.11483 Z M 157.146178 74.11483 \" transform=\"matrix(0.998234, 0, 0, -0.998234, 59.580554, 147.882384)\"/>\n",
       "<path fill-rule=\"nonzero\" fill=\"rgb(0%, 0%, 79.998779%)\" fill-opacity=\"1\" stroke-width=\"0.3985\" stroke-linecap=\"butt\" stroke-linejoin=\"miter\" stroke=\"rgb(0%, 0%, 100%)\" stroke-opacity=\"1\" stroke-miterlimit=\"10\" d=\"M 163.892466 90.017914 C 163.892466 91.117512 163.000266 92.009713 161.896755 92.009713 C 160.797156 92.009713 159.904956 91.117512 159.904956 90.017914 C 159.904956 88.918316 160.797156 88.026116 161.896755 88.026116 C 163.000266 88.026116 163.892466 88.918316 163.892466 90.017914 Z M 163.892466 90.017914 \" transform=\"matrix(0.998234, 0, 0, -0.998234, 59.580554, 147.882384)\"/>\n",
       "<g fill=\"rgb(0%, 0%, 0%)\" fill-opacity=\"1\">\n",
       "<use xlink:href=\"#glyph-2-0\" x=\"137.54463\" y=\"184.021451\"/>\n",
       "</g>\n",
       "<g fill=\"rgb(0%, 0%, 0%)\" fill-opacity=\"1\">\n",
       "<use xlink:href=\"#glyph-3-0\" x=\"11.415762\" y=\"119.618385\"/>\n",
       "</g>\n",
       "<g fill=\"rgb(0%, 0%, 0%)\" fill-opacity=\"1\">\n",
       "<use xlink:href=\"#glyph-4-0\" x=\"11.415762\" y=\"113.678893\"/>\n",
       "</g>\n",
       "<g fill=\"rgb(0%, 0%, 0%)\" fill-opacity=\"1\">\n",
       "<use xlink:href=\"#glyph-3-1\" x=\"11.415762\" y=\"109.811734\"/>\n",
       "</g>\n",
       "<g fill=\"rgb(0%, 0%, 0%)\" fill-opacity=\"1\">\n",
       "<use xlink:href=\"#glyph-4-1\" x=\"11.415762\" y=\"104.127789\"/>\n",
       "</g>\n",
       "<g fill=\"rgb(0%, 0%, 0%)\" fill-opacity=\"1\">\n",
       "<use xlink:href=\"#glyph-4-2\" x=\"11.415762\" y=\"97.505383\"/>\n",
       "</g>\n",
       "<g fill=\"rgb(0%, 0%, 0%)\" fill-opacity=\"1\">\n",
       "<use xlink:href=\"#glyph-3-1\" x=\"11.415762\" y=\"87.00009\"/>\n",
       "</g>\n",
       "<g fill=\"rgb(0%, 0%, 0%)\" fill-opacity=\"1\">\n",
       "<use xlink:href=\"#glyph-5-0\" x=\"7.807146\" y=\"81.316145\"/>\n",
       "</g>\n",
       "<g fill=\"rgb(0%, 0%, 0%)\" fill-opacity=\"1\">\n",
       "<use xlink:href=\"#glyph-6-0\" x=\"11.415762\" y=\"74.644947\"/>\n",
       "</g>\n",
       "<g fill=\"rgb(0%, 0%, 0%)\" fill-opacity=\"1\">\n",
       "<use xlink:href=\"#glyph-3-1\" x=\"11.415762\" y=\"64.699541\"/>\n",
       "</g>\n",
       "<g fill=\"rgb(0%, 0%, 0%)\" fill-opacity=\"1\">\n",
       "<use xlink:href=\"#glyph-4-3\" x=\"11.415762\" y=\"56.805506\"/>\n",
       "</g>\n",
       "<g fill=\"rgb(0%, 0%, 0%)\" fill-opacity=\"1\">\n",
       "<use xlink:href=\"#glyph-4-4\" x=\"11.415762\" y=\"46.862449\"/>\n",
       "</g>\n",
       "</svg>"
      ],
      "text/plain": [
       "<IPython.core.display.SVG object>"
      ]
     },
     "execution_count": 43,
     "metadata": {},
     "output_type": "execute_result"
    }
   ],
   "source": [
    "%%tikz -as=tikz -t=pgfplots -nt -tp=lualatex\n",
    "\\begin{axis}[\n",
    "  xlabel=$x$,\n",
    "  ylabel={$f(x) = x^2 - x + 4$}\n",
    "]\n",
    "\\addplot {x^2 - x + 4};\n",
    "\\end{axis}"
   ]
  },
  {
   "cell_type": "markdown",
   "metadata": {},
   "source": [
    "You can also pass custom parameters to the TeX program:"
   ]
  },
  {
   "cell_type": "code",
   "execution_count": 44,
   "metadata": {},
   "outputs": [],
   "source": [
    "tex_params = \"--enable-write18 --extra-mem-top=10000000\""
   ]
  },
  {
   "cell_type": "code",
   "execution_count": 45,
   "metadata": {},
   "outputs": [
    {
     "data": {
      "image/svg+xml": [
       "<svg xmlns=\"http://www.w3.org/2000/svg\" xmlns:xlink=\"http://www.w3.org/1999/xlink\" width=\"243.581\" height=\"187.668\" viewBox=\"0 0 243.581 187.668\">\n",
       "<defs>\n",
       "<g>\n",
       "<g id=\"glyph-0-0\">\n",
       "<path d=\"M 6.546875 -2.28125 C 6.71875 -2.28125 6.890625 -2.28125 6.890625 -2.484375 C 6.890625 -2.6875 6.71875 -2.6875 6.546875 -2.6875 L 1.171875 -2.6875 C 1 -2.6875 0.828125 -2.6875 0.828125 -2.484375 C 0.828125 -2.28125 1 -2.28125 1.171875 -2.28125 Z M 6.546875 -2.28125 \"/>\n",
       "</g>\n",
       "<g id=\"glyph-1-0\">\n",
       "<path d=\"M 1.3125 -3.265625 L 1.3125 -3.5 C 1.3125 -6.015625 2.546875 -6.375 3.046875 -6.375 C 3.296875 -6.375 3.703125 -6.3125 3.921875 -5.96875 C 3.78125 -5.96875 3.375 -5.96875 3.375 -5.53125 C 3.375 -5.21875 3.625 -5.0625 3.828125 -5.0625 C 4 -5.0625 4.296875 -5.15625 4.296875 -5.546875 C 4.296875 -6.140625 3.859375 -6.625 3.03125 -6.625 C 1.765625 -6.625 0.421875 -5.34375 0.421875 -3.140625 C 0.421875 -0.484375 1.5625 0.21875 2.5 0.21875 C 3.59375 0.21875 4.546875 -0.71875 4.546875 -2.03125 C 4.546875 -3.296875 3.65625 -4.25 2.546875 -4.25 C 1.875 -4.25 1.515625 -3.734375 1.3125 -3.265625 Z M 2.5 -0.0625 C 1.875 -0.0625 1.5625 -0.65625 1.515625 -0.8125 C 1.328125 -1.265625 1.328125 -2.0625 1.328125 -2.25 C 1.328125 -3.015625 1.65625 -4.015625 2.546875 -4.015625 C 2.703125 -4.015625 3.15625 -4.015625 3.46875 -3.40625 C 3.640625 -3.03125 3.640625 -2.53125 3.640625 -2.03125 C 3.640625 -1.5625 3.640625 -1.0625 3.484375 -0.703125 C 3.1875 -0.109375 2.71875 -0.0625 2.5 -0.0625 Z M 2.5 -0.0625 \"/>\n",
       "</g>\n",
       "<g id=\"glyph-1-1\">\n",
       "<path d=\"M 2.921875 -1.640625 L 2.921875 -0.78125 C 2.921875 -0.421875 2.90625 -0.3125 2.171875 -0.3125 L 1.953125 -0.3125 L 1.953125 0 C 2.359375 -0.03125 2.875 -0.03125 3.296875 -0.03125 C 3.71875 -0.03125 4.25 -0.03125 4.65625 0 L 4.65625 -0.3125 L 4.4375 -0.3125 C 3.703125 -0.3125 3.6875 -0.421875 3.6875 -0.78125 L 3.6875 -1.640625 L 4.6875 -1.640625 L 4.6875 -1.953125 L 3.6875 -1.953125 L 3.6875 -6.46875 C 3.6875 -6.671875 3.6875 -6.734375 3.53125 -6.734375 C 3.4375 -6.734375 3.40625 -6.734375 3.328125 -6.609375 L 0.28125 -1.953125 L 0.28125 -1.640625 Z M 2.984375 -1.953125 L 0.5625 -1.953125 L 2.984375 -5.65625 Z M 2.984375 -1.953125 \"/>\n",
       "</g>\n",
       "<g id=\"glyph-1-2\">\n",
       "<path d=\"M 1.265625 -0.765625 L 2.3125 -1.78125 C 3.859375 -3.15625 4.46875 -3.703125 4.46875 -4.6875 C 4.46875 -5.828125 3.5625 -6.625 2.359375 -6.625 C 1.234375 -6.625 0.5 -5.703125 0.5 -4.8125 C 0.5 -4.265625 1 -4.265625 1.03125 -4.265625 C 1.1875 -4.265625 1.546875 -4.375 1.546875 -4.796875 C 1.546875 -5.046875 1.359375 -5.3125 1.015625 -5.3125 C 0.9375 -5.3125 0.921875 -5.3125 0.890625 -5.296875 C 1.109375 -5.9375 1.65625 -6.3125 2.21875 -6.3125 C 3.125 -6.3125 3.5625 -5.5 3.5625 -4.6875 C 3.5625 -3.890625 3.0625 -3.109375 2.515625 -2.5 L 0.609375 -0.375 C 0.5 -0.265625 0.5 -0.234375 0.5 0 L 4.1875 0 L 4.46875 -1.734375 L 4.21875 -1.734375 C 4.15625 -1.4375 4.09375 -1 4 -0.84375 C 3.921875 -0.765625 3.265625 -0.765625 3.046875 -0.765625 Z M 1.265625 -0.765625 \"/>\n",
       "</g>\n",
       "<g id=\"glyph-1-3\">\n",
       "<path d=\"M 4.578125 -3.1875 C 4.578125 -3.96875 4.515625 -4.765625 4.171875 -5.5 C 3.71875 -6.453125 2.90625 -6.625 2.484375 -6.625 C 1.890625 -6.625 1.15625 -6.359375 0.75 -5.4375 C 0.4375 -4.75 0.390625 -3.96875 0.390625 -3.1875 C 0.390625 -2.4375 0.421875 -1.546875 0.828125 -0.78125 C 1.265625 0.015625 1.984375 0.21875 2.46875 0.21875 C 3.015625 0.21875 3.765625 0.015625 4.203125 -0.9375 C 4.515625 -1.625 4.578125 -2.390625 4.578125 -3.1875 Z M 2.46875 0 C 2.09375 0 1.5 -0.25 1.328125 -1.203125 C 1.21875 -1.796875 1.21875 -2.71875 1.21875 -3.296875 C 1.21875 -3.9375 1.21875 -4.59375 1.296875 -5.125 C 1.484375 -6.3125 2.21875 -6.40625 2.46875 -6.40625 C 2.796875 -6.40625 3.453125 -6.21875 3.640625 -5.234375 C 3.75 -4.6875 3.75 -3.921875 3.75 -3.296875 C 3.75 -2.546875 3.75 -1.875 3.640625 -1.25 C 3.484375 -0.296875 2.921875 0 2.46875 0 Z M 2.46875 0 \"/>\n",
       "</g>\n",
       "<g id=\"glyph-1-4\">\n",
       "<path d=\"M 2.921875 -6.359375 C 2.921875 -6.59375 2.921875 -6.625 2.6875 -6.625 C 2.078125 -5.984375 1.203125 -5.984375 0.890625 -5.984375 L 0.890625 -5.671875 C 1.078125 -5.671875 1.671875 -5.671875 2.1875 -5.9375 L 2.1875 -0.78125 C 2.1875 -0.421875 2.15625 -0.3125 1.265625 -0.3125 L 0.9375 -0.3125 L 0.9375 0 C 1.296875 -0.03125 2.15625 -0.03125 2.546875 -0.03125 C 2.953125 -0.03125 3.8125 -0.03125 4.15625 0 L 4.15625 -0.3125 L 3.84375 -0.3125 C 2.953125 -0.3125 2.921875 -0.421875 2.921875 -0.78125 Z M 2.921875 -6.359375 \"/>\n",
       "</g>\n",
       "<g id=\"glyph-1-5\">\n",
       "<path d=\"M 2.875 -3.5 C 3.703125 -3.765625 4.265625 -4.46875 4.265625 -5.25 C 4.265625 -6.0625 3.40625 -6.625 2.4375 -6.625 C 1.4375 -6.625 0.6875 -6.015625 0.6875 -5.265625 C 0.6875 -4.9375 0.90625 -4.75 1.1875 -4.75 C 1.5 -4.75 1.703125 -4.96875 1.703125 -5.25 C 1.703125 -5.75 1.234375 -5.75 1.078125 -5.75 C 1.390625 -6.234375 2.046875 -6.375 2.40625 -6.375 C 2.8125 -6.375 3.359375 -6.15625 3.359375 -5.25 C 3.359375 -5.140625 3.34375 -4.5625 3.078125 -4.125 C 2.78125 -3.640625 2.4375 -3.625 2.203125 -3.609375 C 2.109375 -3.59375 1.875 -3.578125 1.8125 -3.578125 C 1.734375 -3.5625 1.65625 -3.5625 1.65625 -3.453125 C 1.65625 -3.34375 1.734375 -3.34375 1.890625 -3.34375 L 2.328125 -3.34375 C 3.15625 -3.34375 3.515625 -2.671875 3.515625 -1.703125 C 3.515625 -0.34375 2.828125 -0.0625 2.390625 -0.0625 C 1.96875 -0.0625 1.21875 -0.234375 0.875 -0.8125 C 1.21875 -0.765625 1.53125 -0.984375 1.53125 -1.359375 C 1.53125 -1.71875 1.265625 -1.921875 0.96875 -1.921875 C 0.734375 -1.921875 0.421875 -1.78125 0.421875 -1.34375 C 0.421875 -0.4375 1.34375 0.21875 2.421875 0.21875 C 3.640625 0.21875 4.546875 -0.6875 4.546875 -1.703125 C 4.546875 -2.515625 3.921875 -3.296875 2.875 -3.5 Z M 2.875 -3.5 \"/>\n",
       "</g>\n",
       "<g id=\"glyph-2-0\">\n",
       "<path d=\"M 3.3125 -3 C 3.375 -3.265625 3.609375 -4.171875 4.296875 -4.171875 C 4.359375 -4.171875 4.59375 -4.171875 4.796875 -4.046875 C 4.515625 -4 4.328125 -3.75 4.328125 -3.515625 C 4.328125 -3.34375 4.4375 -3.15625 4.703125 -3.15625 C 4.921875 -3.15625 5.234375 -3.34375 5.234375 -3.734375 C 5.234375 -4.25 4.65625 -4.390625 4.3125 -4.390625 C 3.734375 -4.390625 3.390625 -3.859375 3.265625 -3.640625 C 3.015625 -4.296875 2.484375 -4.390625 2.203125 -4.390625 C 1.15625 -4.390625 0.59375 -3.109375 0.59375 -2.859375 C 0.59375 -2.765625 0.703125 -2.765625 0.71875 -2.765625 C 0.796875 -2.765625 0.828125 -2.78125 0.84375 -2.875 C 1.1875 -3.921875 1.84375 -4.171875 2.171875 -4.171875 C 2.359375 -4.171875 2.71875 -4.078125 2.71875 -3.515625 C 2.71875 -3.203125 2.546875 -2.53125 2.171875 -1.140625 C 2.015625 -0.53125 1.671875 -0.109375 1.234375 -0.109375 C 1.171875 -0.109375 0.9375 -0.109375 0.734375 -0.234375 C 0.984375 -0.28125 1.203125 -0.5 1.203125 -0.78125 C 1.203125 -1.046875 0.984375 -1.125 0.828125 -1.125 C 0.53125 -1.125 0.28125 -0.859375 0.28125 -0.546875 C 0.28125 -0.09375 0.78125 0.109375 1.21875 0.109375 C 1.875 0.109375 2.234375 -0.59375 2.265625 -0.640625 C 2.390625 -0.28125 2.75 0.109375 3.34375 0.109375 C 4.359375 0.109375 4.921875 -1.171875 4.921875 -1.421875 C 4.921875 -1.515625 4.84375 -1.515625 4.8125 -1.515625 C 4.71875 -1.515625 4.703125 -1.484375 4.6875 -1.40625 C 4.359375 -0.34375 3.671875 -0.109375 3.359375 -0.109375 C 2.96875 -0.109375 2.8125 -0.421875 2.8125 -0.765625 C 2.8125 -0.984375 2.875 -1.203125 2.984375 -1.640625 Z M 3.3125 -3 \"/>\n",
       "</g>\n",
       "<g id=\"glyph-3-0\">\n",
       "<path d=\"M -3.96875 -3.640625 L -3.96875 -4.5 C -3.96875 -4.703125 -3.96875 -4.796875 -4.171875 -4.796875 C -4.28125 -4.796875 -4.28125 -4.703125 -4.28125 -4.53125 L -4.28125 -3.703125 L -5.421875 -3.921875 C -5.625 -3.953125 -6.328125 -4.09375 -6.453125 -4.15625 C -6.640625 -4.25 -6.78125 -4.40625 -6.78125 -4.625 C -6.78125 -4.65625 -6.78125 -4.921875 -6.609375 -5.109375 C -6.5625 -4.671875 -6.21875 -4.578125 -6.078125 -4.578125 C -5.84375 -4.578125 -5.71875 -4.75 -5.71875 -4.9375 C -5.71875 -5.203125 -5.9375 -5.484375 -6.3125 -5.484375 C -6.78125 -5.484375 -7 -5.03125 -7 -4.625 C -7 -4.28125 -6.828125 -3.65625 -5.84375 -3.359375 C -5.640625 -3.296875 -5.53125 -3.265625 -4.28125 -3.03125 L -4.28125 -2.34375 C -4.28125 -2.15625 -4.28125 -2.046875 -4.09375 -2.046875 C -3.96875 -2.046875 -3.96875 -2.140625 -3.96875 -2.328125 L -3.96875 -2.984375 L -0.046875 -2.234375 C 0.921875 -2.0625 1.8125 -1.890625 1.8125 -1.375 C 1.8125 -1.328125 1.8125 -1.078125 1.640625 -0.890625 C 1.609375 -1.34375 1.25 -1.4375 1.109375 -1.4375 C 0.875 -1.4375 0.75 -1.265625 0.75 -1.078125 C 0.75 -0.8125 0.96875 -0.53125 1.34375 -0.53125 C 1.796875 -0.53125 2.03125 -0.96875 2.03125 -1.375 C 2.03125 -1.921875 1.453125 -2.3125 1.078125 -2.5 C 0.453125 -2.8125 -0.75 -3.046875 -0.828125 -3.046875 Z M -3.96875 -3.640625 \"/>\n",
       "</g>\n",
       "<g id=\"glyph-3-1\">\n",
       "<path d=\"M -3 -3.3125 C -3.265625 -3.375 -4.171875 -3.609375 -4.171875 -4.296875 C -4.171875 -4.359375 -4.171875 -4.59375 -4.046875 -4.796875 C -4 -4.515625 -3.75 -4.328125 -3.515625 -4.328125 C -3.34375 -4.328125 -3.15625 -4.4375 -3.15625 -4.703125 C -3.15625 -4.921875 -3.34375 -5.234375 -3.734375 -5.234375 C -4.25 -5.234375 -4.390625 -4.65625 -4.390625 -4.3125 C -4.390625 -3.734375 -3.859375 -3.390625 -3.640625 -3.265625 C -4.296875 -3.015625 -4.390625 -2.484375 -4.390625 -2.203125 C -4.390625 -1.15625 -3.109375 -0.59375 -2.859375 -0.59375 C -2.765625 -0.59375 -2.765625 -0.703125 -2.765625 -0.71875 C -2.765625 -0.796875 -2.78125 -0.828125 -2.875 -0.84375 C -3.921875 -1.1875 -4.171875 -1.84375 -4.171875 -2.171875 C -4.171875 -2.359375 -4.078125 -2.71875 -3.515625 -2.71875 C -3.203125 -2.71875 -2.53125 -2.546875 -1.140625 -2.171875 C -0.53125 -2.015625 -0.109375 -1.671875 -0.109375 -1.234375 C -0.109375 -1.171875 -0.109375 -0.9375 -0.234375 -0.734375 C -0.28125 -0.984375 -0.5 -1.203125 -0.78125 -1.203125 C -1.046875 -1.203125 -1.125 -0.984375 -1.125 -0.828125 C -1.125 -0.53125 -0.859375 -0.28125 -0.546875 -0.28125 C -0.09375 -0.28125 0.109375 -0.78125 0.109375 -1.21875 C 0.109375 -1.875 -0.59375 -2.234375 -0.640625 -2.265625 C -0.28125 -2.390625 0.109375 -2.75 0.109375 -3.34375 C 0.109375 -4.359375 -1.171875 -4.921875 -1.421875 -4.921875 C -1.515625 -4.921875 -1.515625 -4.84375 -1.515625 -4.8125 C -1.515625 -4.71875 -1.484375 -4.703125 -1.40625 -4.6875 C -0.34375 -4.359375 -0.109375 -3.671875 -0.109375 -3.359375 C -0.109375 -2.96875 -0.421875 -2.8125 -0.765625 -2.8125 C -0.984375 -2.8125 -1.203125 -2.875 -1.640625 -2.984375 Z M -3 -3.3125 \"/>\n",
       "</g>\n",
       "<g id=\"glyph-4-0\">\n",
       "<path d=\"M 2.390625 -3.296875 C 2.359375 -3.296875 2.328125 -3.296875 2.171875 -3.125 C 0.921875 -1.875 -0.96875 -1.5625 -2.484375 -1.5625 C -4.21875 -1.5625 -5.9375 -1.9375 -7.1875 -3.15625 C -7.296875 -3.296875 -7.328125 -3.296875 -7.359375 -3.296875 C -7.421875 -3.296875 -7.453125 -3.25 -7.453125 -3.1875 C -7.453125 -3.09375 -6.78125 -2.203125 -5.515625 -1.609375 C -4.421875 -1.109375 -3.3125 -0.984375 -2.484375 -0.984375 C -1.703125 -0.984375 -0.5 -1.09375 0.609375 -1.640625 C 1.84375 -2.234375 2.484375 -3.09375 2.484375 -3.1875 C 2.484375 -3.25 2.453125 -3.296875 2.390625 -3.296875 Z M 2.390625 -3.296875 \"/>\n",
       "</g>\n",
       "<g id=\"glyph-4-1\">\n",
       "<path d=\"M -2.484375 -2.875 C -3.265625 -2.875 -4.46875 -2.765625 -5.578125 -2.21875 C -6.8125 -1.625 -7.453125 -0.765625 -7.453125 -0.671875 C -7.453125 -0.609375 -7.40625 -0.5625 -7.359375 -0.5625 C -7.328125 -0.5625 -7.296875 -0.5625 -7.125 -0.75 C -6.140625 -1.734375 -4.5625 -2.296875 -2.484375 -2.296875 C -0.78125 -2.296875 0.96875 -1.921875 2.21875 -0.703125 C 2.328125 -0.5625 2.359375 -0.5625 2.390625 -0.5625 C 2.4375 -0.5625 2.484375 -0.609375 2.484375 -0.671875 C 2.484375 -0.765625 1.8125 -1.65625 0.546875 -2.25 C -0.546875 -2.75 -1.65625 -2.875 -2.484375 -2.875 Z M -2.484375 -2.875 \"/>\n",
       "</g>\n",
       "<g id=\"glyph-4-2\">\n",
       "<path d=\"M -3.25 -6.828125 C -3.25 -6.96875 -3.25 -7.171875 -3.453125 -7.171875 C -3.640625 -7.171875 -3.640625 -6.96875 -3.640625 -6.84375 L -3.640625 -0.890625 C -3.640625 -0.75 -3.640625 -0.5625 -3.453125 -0.5625 C -3.25 -0.5625 -3.25 -0.75 -3.25 -0.890625 Z M -1.328125 -6.84375 C -1.328125 -6.96875 -1.328125 -7.171875 -1.515625 -7.171875 C -1.71875 -7.171875 -1.71875 -6.96875 -1.71875 -6.828125 L -1.71875 -0.890625 C -1.71875 -0.75 -1.71875 -0.5625 -1.515625 -0.5625 C -1.328125 -0.5625 -1.328125 -0.75 -1.328125 -0.890625 Z M -1.328125 -6.84375 \"/>\n",
       "</g>\n",
       "<g id=\"glyph-4-3\">\n",
       "<path d=\"M -2.28125 -4.0625 L -2.28125 -6.84375 C -2.28125 -6.96875 -2.28125 -7.171875 -2.484375 -7.171875 C -2.6875 -7.171875 -2.6875 -6.96875 -2.6875 -6.84375 L -2.6875 -4.0625 L -5.46875 -4.0625 C -5.609375 -4.0625 -5.796875 -4.0625 -5.796875 -3.859375 C -5.796875 -3.671875 -5.609375 -3.671875 -5.46875 -3.671875 L -2.6875 -3.671875 L -2.6875 -0.890625 C -2.6875 -0.75 -2.6875 -0.5625 -2.484375 -0.5625 C -2.28125 -0.5625 -2.28125 -0.75 -2.28125 -0.890625 L -2.28125 -3.671875 L 0.5 -3.671875 C 0.640625 -3.671875 0.828125 -3.671875 0.828125 -3.859375 C 0.828125 -4.0625 0.640625 -4.0625 0.5 -4.0625 Z M -2.28125 -4.0625 \"/>\n",
       "</g>\n",
       "<g id=\"glyph-4-4\">\n",
       "<path d=\"M -1.640625 -2.921875 L -0.78125 -2.921875 C -0.421875 -2.921875 -0.3125 -2.90625 -0.3125 -2.171875 L -0.3125 -1.953125 L 0 -1.953125 C -0.03125 -2.359375 -0.03125 -2.875 -0.03125 -3.296875 C -0.03125 -3.71875 -0.03125 -4.25 0 -4.65625 L -0.3125 -4.65625 L -0.3125 -4.4375 C -0.3125 -3.703125 -0.421875 -3.6875 -0.78125 -3.6875 L -1.640625 -3.6875 L -1.640625 -4.6875 L -1.953125 -4.6875 L -1.953125 -3.6875 L -6.46875 -3.6875 C -6.671875 -3.6875 -6.734375 -3.6875 -6.734375 -3.53125 C -6.734375 -3.4375 -6.734375 -3.40625 -6.609375 -3.328125 L -1.953125 -0.28125 L -1.640625 -0.28125 Z M -1.953125 -2.984375 L -1.953125 -0.5625 L -5.65625 -2.984375 Z M -1.953125 -2.984375 \"/>\n",
       "</g>\n",
       "<g id=\"glyph-5-0\">\n",
       "<path d=\"M -1.265625 -3.515625 L -1.265625 -3.28125 C -1.109375 -3.265625 -0.703125 -3.1875 -0.640625 -3.09375 C -0.59375 -3.046875 -0.59375 -2.515625 -0.59375 -2.40625 L -0.59375 -1.125 C -1.234375 -1.859375 -1.4375 -2.109375 -1.765625 -2.515625 C -2.171875 -3.03125 -2.609375 -3.515625 -3.265625 -3.515625 C -4.109375 -3.515625 -4.625 -2.78125 -4.625 -1.890625 C -4.625 -1.03125 -4.015625 -0.4375 -3.375 -0.4375 C -3.03125 -0.4375 -2.984375 -0.734375 -2.984375 -0.8125 C -2.984375 -0.96875 -3.109375 -1.171875 -3.359375 -1.171875 C -3.484375 -1.171875 -3.734375 -1.125 -3.734375 -0.765625 C -4.21875 -0.984375 -4.375 -1.453125 -4.375 -1.78125 C -4.375 -2.484375 -3.828125 -2.84375 -3.265625 -2.84375 C -2.65625 -2.84375 -2.1875 -2.40625 -1.9375 -2.1875 L -0.265625 -0.515625 C -0.203125 -0.4375 -0.1875 -0.4375 0 -0.4375 L 0 -3.3125 Z M -1.265625 -3.515625 \"/>\n",
       "</g>\n",
       "<g id=\"glyph-6-0\">\n",
       "<path d=\"M -2.28125 -6.546875 C -2.28125 -6.71875 -2.28125 -6.890625 -2.484375 -6.890625 C -2.6875 -6.890625 -2.6875 -6.71875 -2.6875 -6.546875 L -2.6875 -1.171875 C -2.6875 -1 -2.6875 -0.828125 -2.484375 -0.828125 C -2.28125 -0.828125 -2.28125 -1 -2.28125 -1.171875 Z M -2.28125 -6.546875 \"/>\n",
       "</g>\n",
       "</g>\n",
       "</defs>\n",
       "<path fill=\"none\" stroke-width=\"0.19925\" stroke-linecap=\"butt\" stroke-linejoin=\"miter\" stroke=\"rgb(50%, 50%, 50%)\" stroke-opacity=\"1\" stroke-miterlimit=\"10\" d=\"M -16.188265 -13.449962 L -16.188265 -9.20027 M 16.189224 -13.449962 L 16.189224 -9.20027 M 48.570627 -13.449962 L 48.570627 -9.20027 M 80.95203 -13.449962 L 80.95203 -9.20027 M 113.32952 -13.449962 L 113.32952 -9.20027 M 145.710923 -13.449962 L 145.710923 -9.20027 M 178.092326 -13.449962 L 178.092326 -9.20027 M -16.188265 147.948342 L -16.188265 143.694737 M 16.189224 147.948342 L 16.189224 143.694737 M 48.570627 147.948342 L 48.570627 143.694737 M 80.95203 147.948342 L 80.95203 143.694737 M 113.32952 147.948342 L 113.32952 143.694737 M 145.710923 147.948342 L 145.710923 143.694737 M 178.092326 147.948342 L 178.092326 143.694737 \" transform=\"matrix(0.998234, 0, 0, -0.998234, 59.581553, 147.882384)\"/>\n",
       "<path fill=\"none\" stroke-width=\"0.19925\" stroke-linecap=\"butt\" stroke-linejoin=\"miter\" stroke=\"rgb(50%, 50%, 50%)\" stroke-opacity=\"1\" stroke-miterlimit=\"10\" d=\"M -16.192179 27.763444 L -11.938573 27.763444 M -16.192179 72.236513 L -11.938573 72.236513 M -16.192179 116.709582 L -11.938573 116.709582 M 178.088413 27.763444 L 173.83872 27.763444 M 178.088413 72.236513 L 173.83872 72.236513 M 178.088413 116.709582 L 173.83872 116.709582 \" transform=\"matrix(0.998234, 0, 0, -0.998234, 59.581553, 147.882384)\"/>\n",
       "<path fill=\"none\" stroke-width=\"0.3985\" stroke-linecap=\"butt\" stroke-linejoin=\"miter\" stroke=\"rgb(0%, 0%, 0%)\" stroke-opacity=\"1\" stroke-miterlimit=\"10\" d=\"M -16.192179 -13.449962 L -16.192179 147.948342 L 178.088413 147.948342 L 178.088413 -13.449962 Z M -16.192179 -13.449962 \" transform=\"matrix(0.998234, 0, 0, -0.998234, 59.581553, 147.882384)\"/>\n",
       "<g fill=\"rgb(0%, 0%, 0%)\" fill-opacity=\"1\">\n",
       "<use xlink:href=\"#glyph-0-0\" x=\"37.066384\" y=\"171.231078\"/>\n",
       "</g>\n",
       "<g fill=\"rgb(0%, 0%, 0%)\" fill-opacity=\"1\">\n",
       "<use xlink:href=\"#glyph-1-0\" x=\"44.800701\" y=\"171.231078\"/>\n",
       "</g>\n",
       "<g fill=\"rgb(0%, 0%, 0%)\" fill-opacity=\"1\">\n",
       "<use xlink:href=\"#glyph-0-0\" x=\"69.388204\" y=\"171.231078\"/>\n",
       "</g>\n",
       "<g fill=\"rgb(0%, 0%, 0%)\" fill-opacity=\"1\">\n",
       "<use xlink:href=\"#glyph-1-1\" x=\"77.12352\" y=\"171.231078\"/>\n",
       "</g>\n",
       "<g fill=\"rgb(0%, 0%, 0%)\" fill-opacity=\"1\">\n",
       "<use xlink:href=\"#glyph-0-0\" x=\"101.71202\" y=\"171.231078\"/>\n",
       "</g>\n",
       "<g fill=\"rgb(0%, 0%, 0%)\" fill-opacity=\"1\">\n",
       "<use xlink:href=\"#glyph-1-2\" x=\"109.447336\" y=\"171.231078\"/>\n",
       "</g>\n",
       "<g fill=\"rgb(0%, 0%, 0%)\" fill-opacity=\"1\">\n",
       "<use xlink:href=\"#glyph-1-3\" x=\"137.901997\" y=\"171.231078\"/>\n",
       "</g>\n",
       "<g fill=\"rgb(0%, 0%, 0%)\" fill-opacity=\"1\">\n",
       "<use xlink:href=\"#glyph-1-2\" x=\"170.224816\" y=\"171.231078\"/>\n",
       "</g>\n",
       "<g fill=\"rgb(0%, 0%, 0%)\" fill-opacity=\"1\">\n",
       "<use xlink:href=\"#glyph-1-1\" x=\"202.547634\" y=\"171.231078\"/>\n",
       "</g>\n",
       "<g fill=\"rgb(0%, 0%, 0%)\" fill-opacity=\"1\">\n",
       "<use xlink:href=\"#glyph-1-0\" x=\"234.870452\" y=\"171.231078\"/>\n",
       "</g>\n",
       "<g fill=\"rgb(0%, 0%, 0%)\" fill-opacity=\"1\">\n",
       "<use xlink:href=\"#glyph-1-4\" x=\"29.960954\" y=\"123.372744\"/>\n",
       "<use xlink:href=\"#glyph-1-3\" x=\"34.933457\" y=\"123.372744\"/>\n",
       "</g>\n",
       "<g fill=\"rgb(0%, 0%, 0%)\" fill-opacity=\"1\">\n",
       "<use xlink:href=\"#glyph-1-2\" x=\"29.960954\" y=\"78.979279\"/>\n",
       "<use xlink:href=\"#glyph-1-3\" x=\"34.933457\" y=\"78.979279\"/>\n",
       "</g>\n",
       "<g fill=\"rgb(0%, 0%, 0%)\" fill-opacity=\"1\">\n",
       "<use xlink:href=\"#glyph-1-5\" x=\"29.960954\" y=\"34.586813\"/>\n",
       "<use xlink:href=\"#glyph-1-3\" x=\"34.933457\" y=\"34.586813\"/>\n",
       "</g>\n",
       "<path fill=\"none\" stroke-width=\"0.3985\" stroke-linecap=\"butt\" stroke-linejoin=\"miter\" stroke=\"rgb(0%, 0%, 100%)\" stroke-opacity=\"1\" stroke-miterlimit=\"10\" d=\"M 0.000479394 134.494896 L 6.746768 114.886049 L 13.493057 96.818987 L 20.235432 80.297624 L 26.981721 65.318045 L 33.72801 51.884165 L 40.474298 39.995984 L 47.220587 29.649588 L 53.966876 20.84889 L 60.713164 13.589977 L 67.459453 7.876763 L 74.201828 3.705334 L 80.948117 1.079603 L 87.694406 -0.000429258 L 94.440694 0.461324 L 101.186983 2.468775 L 107.933272 6.021925 L 114.67956 11.11686 L 121.421936 17.757493 L 128.168224 25.939912 L 134.914513 35.668028 L 141.660802 46.937931 L 148.40709 59.753531 L 155.153379 74.11483 L 161.899668 90.017914 \" transform=\"matrix(0.998234, 0, 0, -0.998234, 59.581553, 147.882384)\"/>\n",
       "<path fill-rule=\"nonzero\" fill=\"rgb(0%, 0%, 79.998779%)\" fill-opacity=\"1\" stroke-width=\"0.3985\" stroke-linecap=\"butt\" stroke-linejoin=\"miter\" stroke=\"rgb(0%, 0%, 100%)\" stroke-opacity=\"1\" stroke-miterlimit=\"10\" d=\"M 1.992278 134.494896 C 1.992278 135.598408 1.100077 136.490608 0.000479394 136.490608 C -1.099119 136.490608 -1.991319 135.598408 -1.991319 134.494896 C -1.991319 133.395298 -1.099119 132.503098 0.000479394 132.503098 C 1.100077 132.503098 1.992278 133.395298 1.992278 134.494896 Z M 1.992278 134.494896 \" transform=\"matrix(0.998234, 0, 0, -0.998234, 59.581553, 147.882384)\"/>\n",
       "<path fill-rule=\"nonzero\" fill=\"rgb(0%, 0%, 79.998779%)\" fill-opacity=\"1\" stroke-width=\"0.3985\" stroke-linecap=\"butt\" stroke-linejoin=\"miter\" stroke=\"rgb(0%, 0%, 100%)\" stroke-opacity=\"1\" stroke-miterlimit=\"10\" d=\"M 8.738567 114.886049 C 8.738567 115.985647 7.846366 116.877848 6.746768 116.877848 C 5.64717 116.877848 4.754969 115.985647 4.754969 114.886049 C 4.754969 113.786451 5.64717 112.89425 6.746768 112.89425 C 7.846366 112.89425 8.738567 113.786451 8.738567 114.886049 Z M 8.738567 114.886049 \" transform=\"matrix(0.998234, 0, 0, -0.998234, 59.581553, 147.882384)\"/>\n",
       "<path fill-rule=\"nonzero\" fill=\"rgb(0%, 0%, 79.998779%)\" fill-opacity=\"1\" stroke-width=\"0.3985\" stroke-linecap=\"butt\" stroke-linejoin=\"miter\" stroke=\"rgb(0%, 0%, 100%)\" stroke-opacity=\"1\" stroke-miterlimit=\"10\" d=\"M 15.484855 96.818987 C 15.484855 97.918585 14.592655 98.810786 13.493057 98.810786 C 12.389545 98.810786 11.497345 97.918585 11.497345 96.818987 C 11.497345 95.719389 12.389545 94.827189 13.493057 94.827189 C 14.592655 94.827189 15.484855 95.719389 15.484855 96.818987 Z M 15.484855 96.818987 \" transform=\"matrix(0.998234, 0, 0, -0.998234, 59.581553, 147.882384)\"/>\n",
       "<path fill-rule=\"nonzero\" fill=\"rgb(0%, 0%, 79.998779%)\" fill-opacity=\"1\" stroke-width=\"0.3985\" stroke-linecap=\"butt\" stroke-linejoin=\"miter\" stroke=\"rgb(0%, 0%, 100%)\" stroke-opacity=\"1\" stroke-miterlimit=\"10\" d=\"M 22.231144 80.297624 C 22.231144 81.397222 21.338943 82.289422 20.235432 82.289422 C 19.135834 82.289422 18.243634 81.397222 18.243634 80.297624 C 18.243634 79.198026 19.135834 78.305825 20.235432 78.305825 C 21.338943 78.305825 22.231144 79.198026 22.231144 80.297624 Z M 22.231144 80.297624 \" transform=\"matrix(0.998234, 0, 0, -0.998234, 59.581553, 147.882384)\"/>\n",
       "<path fill-rule=\"nonzero\" fill=\"rgb(0%, 0%, 79.998779%)\" fill-opacity=\"1\" stroke-width=\"0.3985\" stroke-linecap=\"butt\" stroke-linejoin=\"miter\" stroke=\"rgb(0%, 0%, 100%)\" stroke-opacity=\"1\" stroke-miterlimit=\"10\" d=\"M 28.977433 65.318045 C 28.977433 66.417643 28.085232 67.309844 26.981721 67.309844 C 25.882123 67.309844 24.989922 66.417643 24.989922 65.318045 C 24.989922 64.218447 25.882123 63.326247 26.981721 63.326247 C 28.085232 63.326247 28.977433 64.218447 28.977433 65.318045 Z M 28.977433 65.318045 \" transform=\"matrix(0.998234, 0, 0, -0.998234, 59.581553, 147.882384)\"/>\n",
       "<path fill-rule=\"nonzero\" fill=\"rgb(0%, 0%, 79.998779%)\" fill-opacity=\"1\" stroke-width=\"0.3985\" stroke-linecap=\"butt\" stroke-linejoin=\"miter\" stroke=\"rgb(0%, 0%, 100%)\" stroke-opacity=\"1\" stroke-miterlimit=\"10\" d=\"M 35.719808 51.884165 C 35.719808 52.983764 34.827608 53.875964 33.72801 53.875964 C 32.628411 53.875964 31.736211 52.983764 31.736211 51.884165 C 31.736211 50.784567 32.628411 49.892367 33.72801 49.892367 C 34.827608 49.892367 35.719808 50.784567 35.719808 51.884165 Z M 35.719808 51.884165 \" transform=\"matrix(0.998234, 0, 0, -0.998234, 59.581553, 147.882384)\"/>\n",
       "<path fill-rule=\"nonzero\" fill=\"rgb(0%, 0%, 79.998779%)\" fill-opacity=\"1\" stroke-width=\"0.3985\" stroke-linecap=\"butt\" stroke-linejoin=\"miter\" stroke=\"rgb(0%, 0%, 100%)\" stroke-opacity=\"1\" stroke-miterlimit=\"10\" d=\"M 42.466097 39.995984 C 42.466097 41.095582 41.573896 41.987783 40.474298 41.987783 C 39.3747 41.987783 38.4825 41.095582 38.4825 39.995984 C 38.4825 38.892473 39.3747 38.000272 40.474298 38.000272 C 41.573896 38.000272 42.466097 38.892473 42.466097 39.995984 Z M 42.466097 39.995984 \" transform=\"matrix(0.998234, 0, 0, -0.998234, 59.581553, 147.882384)\"/>\n",
       "<path fill-rule=\"nonzero\" fill=\"rgb(0%, 0%, 79.998779%)\" fill-opacity=\"1\" stroke-width=\"0.3985\" stroke-linecap=\"butt\" stroke-linejoin=\"miter\" stroke=\"rgb(0%, 0%, 100%)\" stroke-opacity=\"1\" stroke-miterlimit=\"10\" d=\"M 49.212386 29.649588 C 49.212386 30.749186 48.320185 31.641386 47.220587 31.641386 C 46.120989 31.641386 45.228788 30.749186 45.228788 29.649588 C 45.228788 28.54999 46.120989 27.657789 47.220587 27.657789 C 48.320185 27.657789 49.212386 28.54999 49.212386 29.649588 Z M 49.212386 29.649588 \" transform=\"matrix(0.998234, 0, 0, -0.998234, 59.581553, 147.882384)\"/>\n",
       "<path fill-rule=\"nonzero\" fill=\"rgb(0%, 0%, 79.998779%)\" fill-opacity=\"1\" stroke-width=\"0.3985\" stroke-linecap=\"butt\" stroke-linejoin=\"miter\" stroke=\"rgb(0%, 0%, 100%)\" stroke-opacity=\"1\" stroke-miterlimit=\"10\" d=\"M 55.958674 20.84889 C 55.958674 21.948488 55.066474 22.840688 53.966876 22.840688 C 52.867277 22.840688 51.975077 21.948488 51.975077 20.84889 C 51.975077 19.745378 52.867277 18.853178 53.966876 18.853178 C 55.066474 18.853178 55.958674 19.745378 55.958674 20.84889 Z M 55.958674 20.84889 \" transform=\"matrix(0.998234, 0, 0, -0.998234, 59.581553, 147.882384)\"/>\n",
       "<path fill-rule=\"nonzero\" fill=\"rgb(0%, 0%, 79.998779%)\" fill-opacity=\"1\" stroke-width=\"0.3985\" stroke-linecap=\"butt\" stroke-linejoin=\"miter\" stroke=\"rgb(0%, 0%, 100%)\" stroke-opacity=\"1\" stroke-miterlimit=\"10\" d=\"M 62.704963 13.589977 C 62.704963 14.689575 61.812762 15.581776 60.713164 15.581776 C 59.609653 15.581776 58.717452 14.689575 58.717452 13.589977 C 58.717452 12.490379 59.609653 11.598178 60.713164 11.598178 C 61.812762 11.598178 62.704963 12.490379 62.704963 13.589977 Z M 62.704963 13.589977 \" transform=\"matrix(0.998234, 0, 0, -0.998234, 59.581553, 147.882384)\"/>\n",
       "<path fill-rule=\"nonzero\" fill=\"rgb(0%, 0%, 79.998779%)\" fill-opacity=\"1\" stroke-width=\"0.3985\" stroke-linecap=\"butt\" stroke-linejoin=\"miter\" stroke=\"rgb(0%, 0%, 100%)\" stroke-opacity=\"1\" stroke-miterlimit=\"10\" d=\"M 69.451252 7.876763 C 69.451252 8.976361 68.559051 9.868561 67.459453 9.868561 C 66.355942 9.868561 65.463741 8.976361 65.463741 7.876763 C 65.463741 6.777165 66.355942 5.884964 67.459453 5.884964 C 68.559051 5.884964 69.451252 6.777165 69.451252 7.876763 Z M 69.451252 7.876763 \" transform=\"matrix(0.998234, 0, 0, -0.998234, 59.581553, 147.882384)\"/>\n",
       "<path fill-rule=\"nonzero\" fill=\"rgb(0%, 0%, 79.998779%)\" fill-opacity=\"1\" stroke-width=\"0.3985\" stroke-linecap=\"butt\" stroke-linejoin=\"miter\" stroke=\"rgb(0%, 0%, 100%)\" stroke-opacity=\"1\" stroke-miterlimit=\"10\" d=\"M 76.19754 3.705334 C 76.19754 4.808845 75.30534 5.697132 74.201828 5.697132 C 73.10223 5.697132 72.21003 4.808845 72.21003 3.705334 C 72.21003 2.605736 73.10223 1.713535 74.201828 1.713535 C 75.30534 1.713535 76.19754 2.605736 76.19754 3.705334 Z M 76.19754 3.705334 \" transform=\"matrix(0.998234, 0, 0, -0.998234, 59.581553, 147.882384)\"/>\n",
       "<path fill-rule=\"nonzero\" fill=\"rgb(0%, 0%, 79.998779%)\" fill-opacity=\"1\" stroke-width=\"0.3985\" stroke-linecap=\"butt\" stroke-linejoin=\"miter\" stroke=\"rgb(0%, 0%, 100%)\" stroke-opacity=\"1\" stroke-miterlimit=\"10\" d=\"M 82.939916 1.079603 C 82.939916 2.183114 82.051628 3.075315 80.948117 3.075315 C 79.848519 3.075315 78.956318 2.183114 78.956318 1.079603 C 78.956318 -0.0199951 79.848519 -0.912196 80.948117 -0.912196 C 82.051628 -0.912196 82.939916 -0.0199951 82.939916 1.079603 Z M 82.939916 1.079603 \" transform=\"matrix(0.998234, 0, 0, -0.998234, 59.581553, 147.882384)\"/>\n",
       "<path fill-rule=\"nonzero\" fill=\"rgb(0%, 0%, 79.998779%)\" fill-opacity=\"1\" stroke-width=\"0.3985\" stroke-linecap=\"butt\" stroke-linejoin=\"miter\" stroke=\"rgb(0%, 0%, 100%)\" stroke-opacity=\"1\" stroke-miterlimit=\"10\" d=\"M 89.686204 -0.000429258 C 89.686204 1.099169 88.794004 1.991369 87.694406 1.991369 C 86.594808 1.991369 85.702607 1.099169 85.702607 -0.000429258 C 85.702607 -1.100027 86.594808 -1.992228 87.694406 -1.992228 C 88.794004 -1.992228 89.686204 -1.100027 89.686204 -0.000429258 Z M 89.686204 -0.000429258 \" transform=\"matrix(0.998234, 0, 0, -0.998234, 59.581553, 147.882384)\"/>\n",
       "<path fill-rule=\"nonzero\" fill=\"rgb(0%, 0%, 79.998779%)\" fill-opacity=\"1\" stroke-width=\"0.3985\" stroke-linecap=\"butt\" stroke-linejoin=\"miter\" stroke=\"rgb(0%, 0%, 100%)\" stroke-opacity=\"1\" stroke-miterlimit=\"10\" d=\"M 96.432493 0.461324 C 96.432493 1.564835 95.540292 2.457036 94.440694 2.457036 C 93.341096 2.457036 92.448896 1.564835 92.448896 0.461324 C 92.448896 -0.638274 93.341096 -1.530475 94.440694 -1.530475 C 95.540292 -1.530475 96.432493 -0.638274 96.432493 0.461324 Z M 96.432493 0.461324 \" transform=\"matrix(0.998234, 0, 0, -0.998234, 59.581553, 147.882384)\"/>\n",
       "<path fill-rule=\"nonzero\" fill=\"rgb(0%, 0%, 79.998779%)\" fill-opacity=\"1\" stroke-width=\"0.3985\" stroke-linecap=\"butt\" stroke-linejoin=\"miter\" stroke=\"rgb(0%, 0%, 100%)\" stroke-opacity=\"1\" stroke-miterlimit=\"10\" d=\"M 103.178782 2.468775 C 103.178782 3.572286 102.286581 4.460574 101.186983 4.460574 C 100.087385 4.460574 99.195184 3.572286 99.195184 2.468775 C 99.195184 1.369177 100.087385 0.476976 101.186983 0.476976 C 102.286581 0.476976 103.178782 1.369177 103.178782 2.468775 Z M 103.178782 2.468775 \" transform=\"matrix(0.998234, 0, 0, -0.998234, 59.581553, 147.882384)\"/>\n",
       "<path fill-rule=\"nonzero\" fill=\"rgb(0%, 0%, 79.998779%)\" fill-opacity=\"1\" stroke-width=\"0.3985\" stroke-linecap=\"butt\" stroke-linejoin=\"miter\" stroke=\"rgb(0%, 0%, 100%)\" stroke-opacity=\"1\" stroke-miterlimit=\"10\" d=\"M 109.92507 6.021925 C 109.92507 7.121523 109.03287 8.013723 107.933272 8.013723 C 106.833674 8.013723 105.941473 7.121523 105.941473 6.021925 C 105.941473 4.922327 106.833674 4.030126 107.933272 4.030126 C 109.03287 4.030126 109.92507 4.922327 109.92507 6.021925 Z M 109.92507 6.021925 \" transform=\"matrix(0.998234, 0, 0, -0.998234, 59.581553, 147.882384)\"/>\n",
       "<path fill-rule=\"nonzero\" fill=\"rgb(0%, 0%, 79.998779%)\" fill-opacity=\"1\" stroke-width=\"0.3985\" stroke-linecap=\"butt\" stroke-linejoin=\"miter\" stroke=\"rgb(0%, 0%, 100%)\" stroke-opacity=\"1\" stroke-miterlimit=\"10\" d=\"M 116.671359 11.11686 C 116.671359 12.216458 115.779158 13.108658 114.67956 13.108658 C 113.576049 13.108658 112.683848 12.216458 112.683848 11.11686 C 112.683848 10.017262 113.576049 9.125061 114.67956 9.125061 C 115.779158 9.125061 116.671359 10.017262 116.671359 11.11686 Z M 116.671359 11.11686 \" transform=\"matrix(0.998234, 0, 0, -0.998234, 59.581553, 147.882384)\"/>\n",
       "<path fill-rule=\"nonzero\" fill=\"rgb(0%, 0%, 79.998779%)\" fill-opacity=\"1\" stroke-width=\"0.3985\" stroke-linecap=\"butt\" stroke-linejoin=\"miter\" stroke=\"rgb(0%, 0%, 100%)\" stroke-opacity=\"1\" stroke-miterlimit=\"10\" d=\"M 123.417648 17.757493 C 123.417648 18.857091 122.525447 19.749292 121.421936 19.749292 C 120.322338 19.749292 119.430137 18.857091 119.430137 17.757493 C 119.430137 16.653982 120.322338 15.761781 121.421936 15.761781 C 122.525447 15.761781 123.417648 16.653982 123.417648 17.757493 Z M 123.417648 17.757493 \" transform=\"matrix(0.998234, 0, 0, -0.998234, 59.581553, 147.882384)\"/>\n",
       "<path fill-rule=\"nonzero\" fill=\"rgb(0%, 0%, 79.998779%)\" fill-opacity=\"1\" stroke-width=\"0.3985\" stroke-linecap=\"butt\" stroke-linejoin=\"miter\" stroke=\"rgb(0%, 0%, 100%)\" stroke-opacity=\"1\" stroke-miterlimit=\"10\" d=\"M 130.163936 25.939912 C 130.163936 27.03951 129.271736 27.93171 128.168224 27.93171 C 127.068626 27.93171 126.176426 27.03951 126.176426 25.939912 C 126.176426 24.840313 127.068626 23.948113 128.168224 23.948113 C 129.271736 23.948113 130.163936 24.840313 130.163936 25.939912 Z M 130.163936 25.939912 \" transform=\"matrix(0.998234, 0, 0, -0.998234, 59.581553, 147.882384)\"/>\n",
       "<path fill-rule=\"nonzero\" fill=\"rgb(0%, 0%, 79.998779%)\" fill-opacity=\"1\" stroke-width=\"0.3985\" stroke-linecap=\"butt\" stroke-linejoin=\"miter\" stroke=\"rgb(0%, 0%, 100%)\" stroke-opacity=\"1\" stroke-miterlimit=\"10\" d=\"M 136.906312 35.668028 C 136.906312 36.767627 136.014111 37.659827 134.914513 37.659827 C 133.814915 37.659827 132.922714 36.767627 132.922714 35.668028 C 132.922714 34.564517 133.814915 33.672317 134.914513 33.672317 C 136.014111 33.672317 136.906312 34.564517 136.906312 35.668028 Z M 136.906312 35.668028 \" transform=\"matrix(0.998234, 0, 0, -0.998234, 59.581553, 147.882384)\"/>\n",
       "<path fill-rule=\"nonzero\" fill=\"rgb(0%, 0%, 79.998779%)\" fill-opacity=\"1\" stroke-width=\"0.3985\" stroke-linecap=\"butt\" stroke-linejoin=\"miter\" stroke=\"rgb(0%, 0%, 100%)\" stroke-opacity=\"1\" stroke-miterlimit=\"10\" d=\"M 143.6526 46.937931 C 143.6526 48.037529 142.7604 48.929729 141.660802 48.929729 C 140.561204 48.929729 139.669003 48.037529 139.669003 46.937931 C 139.669003 45.838333 140.561204 44.946132 141.660802 44.946132 C 142.7604 44.946132 143.6526 45.838333 143.6526 46.937931 Z M 143.6526 46.937931 \" transform=\"matrix(0.998234, 0, 0, -0.998234, 59.581553, 147.882384)\"/>\n",
       "<path fill-rule=\"nonzero\" fill=\"rgb(0%, 0%, 79.998779%)\" fill-opacity=\"1\" stroke-width=\"0.3985\" stroke-linecap=\"butt\" stroke-linejoin=\"miter\" stroke=\"rgb(0%, 0%, 100%)\" stroke-opacity=\"1\" stroke-miterlimit=\"10\" d=\"M 150.398889 59.753531 C 150.398889 60.853129 149.506688 61.74533 148.40709 61.74533 C 147.307492 61.74533 146.415292 60.853129 146.415292 59.753531 C 146.415292 58.653933 147.307492 57.761733 148.40709 57.761733 C 149.506688 57.761733 150.398889 58.653933 150.398889 59.753531 Z M 150.398889 59.753531 \" transform=\"matrix(0.998234, 0, 0, -0.998234, 59.581553, 147.882384)\"/>\n",
       "<path fill-rule=\"nonzero\" fill=\"rgb(0%, 0%, 79.998779%)\" fill-opacity=\"1\" stroke-width=\"0.3985\" stroke-linecap=\"butt\" stroke-linejoin=\"miter\" stroke=\"rgb(0%, 0%, 100%)\" stroke-opacity=\"1\" stroke-miterlimit=\"10\" d=\"M 157.145178 74.11483 C 157.145178 75.214428 156.252977 76.106629 155.153379 76.106629 C 154.053781 76.106629 153.16158 75.214428 153.16158 74.11483 C 153.16158 73.015232 154.053781 72.123031 155.153379 72.123031 C 156.252977 72.123031 157.145178 73.015232 157.145178 74.11483 Z M 157.145178 74.11483 \" transform=\"matrix(0.998234, 0, 0, -0.998234, 59.581553, 147.882384)\"/>\n",
       "<path fill-rule=\"nonzero\" fill=\"rgb(0%, 0%, 79.998779%)\" fill-opacity=\"1\" stroke-width=\"0.3985\" stroke-linecap=\"butt\" stroke-linejoin=\"miter\" stroke=\"rgb(0%, 0%, 100%)\" stroke-opacity=\"1\" stroke-miterlimit=\"10\" d=\"M 163.891466 90.017914 C 163.891466 91.117512 162.999266 92.009713 161.899668 92.009713 C 160.796156 92.009713 159.903956 91.117512 159.903956 90.017914 C 159.903956 88.918316 160.796156 88.026116 161.899668 88.026116 C 162.999266 88.026116 163.891466 88.918316 163.891466 90.017914 Z M 163.891466 90.017914 \" transform=\"matrix(0.998234, 0, 0, -0.998234, 59.581553, 147.882384)\"/>\n",
       "<g fill=\"rgb(0%, 0%, 0%)\" fill-opacity=\"1\">\n",
       "<use xlink:href=\"#glyph-2-0\" x=\"137.545628\" y=\"184.021451\"/>\n",
       "</g>\n",
       "<g fill=\"rgb(0%, 0%, 0%)\" fill-opacity=\"1\">\n",
       "<use xlink:href=\"#glyph-3-0\" x=\"11.41676\" y=\"119.618385\"/>\n",
       "</g>\n",
       "<g fill=\"rgb(0%, 0%, 0%)\" fill-opacity=\"1\">\n",
       "<use xlink:href=\"#glyph-4-0\" x=\"11.41676\" y=\"113.678893\"/>\n",
       "</g>\n",
       "<g fill=\"rgb(0%, 0%, 0%)\" fill-opacity=\"1\">\n",
       "<use xlink:href=\"#glyph-3-1\" x=\"11.41676\" y=\"109.811734\"/>\n",
       "</g>\n",
       "<g fill=\"rgb(0%, 0%, 0%)\" fill-opacity=\"1\">\n",
       "<use xlink:href=\"#glyph-4-1\" x=\"11.41676\" y=\"104.127789\"/>\n",
       "</g>\n",
       "<g fill=\"rgb(0%, 0%, 0%)\" fill-opacity=\"1\">\n",
       "<use xlink:href=\"#glyph-4-2\" x=\"11.41676\" y=\"97.495465\"/>\n",
       "</g>\n",
       "<g fill=\"rgb(0%, 0%, 0%)\" fill-opacity=\"1\">\n",
       "<use xlink:href=\"#glyph-3-1\" x=\"11.41676\" y=\"87.00009\"/>\n",
       "</g>\n",
       "<g fill=\"rgb(0%, 0%, 0%)\" fill-opacity=\"1\">\n",
       "<use xlink:href=\"#glyph-5-0\" x=\"7.808144\" y=\"81.316145\"/>\n",
       "</g>\n",
       "<g fill=\"rgb(0%, 0%, 0%)\" fill-opacity=\"1\">\n",
       "<use xlink:href=\"#glyph-6-0\" x=\"11.41676\" y=\"74.644947\"/>\n",
       "</g>\n",
       "<g fill=\"rgb(0%, 0%, 0%)\" fill-opacity=\"1\">\n",
       "<use xlink:href=\"#glyph-3-1\" x=\"11.41676\" y=\"64.699541\"/>\n",
       "</g>\n",
       "<g fill=\"rgb(0%, 0%, 0%)\" fill-opacity=\"1\">\n",
       "<use xlink:href=\"#glyph-4-3\" x=\"11.41676\" y=\"56.805506\"/>\n",
       "</g>\n",
       "<g fill=\"rgb(0%, 0%, 0%)\" fill-opacity=\"1\">\n",
       "<use xlink:href=\"#glyph-4-4\" x=\"11.41676\" y=\"46.862489\"/>\n",
       "</g>\n",
       "</svg>"
      ],
      "text/plain": [
       "<IPython.core.display.SVG object>"
      ]
     },
     "execution_count": 45,
     "metadata": {},
     "output_type": "execute_result"
    }
   ],
   "source": [
    "%%tikz -as=tikz -t=pgfplots -nt -tp=pdflatex --tex-args=\"$tex_params\"\n",
    "\\begin{axis}[\n",
    "  xlabel=$x$,\n",
    "  ylabel={$f(x) = x^2 - x +4$}\n",
    "]\n",
    "\\addplot {x^2 - x +4};\n",
    "\\end{axis}"
   ]
  },
  {
   "cell_type": "markdown",
   "metadata": {},
   "source": [
    "## Logging and debugging"
   ]
  },
  {
   "cell_type": "markdown",
   "metadata": {},
   "source": [
    "If you write invalid TikZ code, it will display the LaTeX command line error message:\n",
    "\n",
    "> **Note:** Since LaTeX command line error messages tend to be verbose, by default, only the tail (last 20 lines) is shown."
   ]
  },
  {
   "cell_type": "code",
   "execution_count": 46,
   "metadata": {},
   "outputs": [
    {
     "name": "stderr",
     "output_type": "stream",
     "text": [
      "ase.sty\n",
      "(C:\\Users\\lucas\\AppData\\Local\\Programs\\MiKTeX\\tex/latex/00miktex\\epstopdf-sys.c\n",
      "fg))\n",
      "\n",
      "! Package tikz Error: Giving up on this path. Did you forget a semicolon?.\n",
      "\n",
      "See the tikz package documentation for explanation.\n",
      "Type  H <return>  for immediate help.\n",
      " ...                                              \n",
      "                                                  \n",
      "l.7     \\end{tikzpicture}\n",
      "                         \n",
      "? \n",
      "! Emergency stop.\n",
      " ...                                              \n",
      "                                                  \n",
      "l.7     \\end{tikzpicture}\n",
      "                         \n",
      "!  ==> Fatal error occurred, no output PDF file produced!\n",
      "Transcript written on 9472da455f2215f.log.\n"
     ]
    }
   ],
   "source": [
    "%%tikz -as=t\n",
    "% Error: Forgot Comma after the first coordinate\n",
    "\\draw[fill=black] (1, 1) rectangle (2, 2)"
   ]
  },
  {
   "cell_type": "markdown",
   "metadata": {},
   "source": [
    "If you want to see the entire error message, you can use the `-e` (or `--full-error`) parameter:"
   ]
  },
  {
   "cell_type": "code",
   "execution_count": 47,
   "metadata": {
    "scrolled": true
   },
   "outputs": [
    {
     "name": "stderr",
     "output_type": "stream",
     "text": [
      "This is pdfTeX, Version 3.141592653-2.6-1.40.26 (MiKTeX 24.4) (preloaded format=pdflatex.fmt)\n",
      " restricted \\write18 enabled.\n",
      "entering extended mode\n",
      "(C:/Users/lucas/Github/jupyter-tikz/notebooks/3a8902084454bc1.tex\n",
      "LaTeX2e <2024-06-01> patch level 2\n",
      "L3 programming layer <2024-05-27>\n",
      "\n",
      "(C:\\Users\\lucas\\AppData\\Local\\Programs\\MiKTeX\\tex/latex/standalone\\standalone.c\n",
      "ls\n",
      "Document Class: standalone 2022/10/10 v1.3b Class to compile TeX sub-files stan\n",
      "dalone\n",
      "(C:\\Users\\lucas\\AppData\\Local\\Programs\\MiKTeX\\tex/latex/tools\\shellesc.sty)\n",
      "(C:\\Users\\lucas\\AppData\\Local\\Programs\\MiKTeX\\tex/generic/iftex\\ifluatex.sty\n",
      "(C:\\Users\\lucas\\AppData\\Local\\Programs\\MiKTeX\\tex/generic/iftex\\iftex.sty))\n",
      "(C:\\Users\\lucas\\AppData\\Local\\Programs\\MiKTeX\\tex/latex/xkeyval\\xkeyval.sty\n",
      "(C:\\Users\\lucas\\AppData\\Local\\Programs\\MiKTeX\\tex/generic/xkeyval\\xkeyval.tex\n",
      "(C:\\Users\\lucas\\AppData\\Local\\Programs\\MiKTeX\\tex/generic/xkeyval\\xkvutils.tex\n",
      "(C:\\Users\\lucas\\AppData\\Local\\Programs\\MiKTeX\\tex/generic/xkeyval\\keyval.tex)))\n",
      ")\n",
      "(C:\\Users\\lucas\\AppData\\Local\\Programs\\MiKTeX\\tex/latex/standalone\\standalone.c\n",
      "fg) (C:\\Users\\lucas\\AppData\\Local\\Programs\\MiKTeX\\tex/latex/base\\article.cls\n",
      "Document Class: article 2023/05/17 v1.4n Standard LaTeX document class\n",
      "(C:\\Users\\lucas\\AppData\\Local\\Programs\\MiKTeX\\tex/latex/base\\size10.clo)))\n",
      "(C:\\Users\\lucas\\AppData\\Local\\Programs\\MiKTeX\\tex/latex/pgf/frontendlayer\\tikz.\n",
      "sty\n",
      "(C:\\Users\\lucas\\AppData\\Local\\Programs\\MiKTeX\\tex/latex/pgf/basiclayer\\pgf.sty\n",
      "(C:\\Users\\lucas\\AppData\\Local\\Programs\\MiKTeX\\tex/latex/pgf/utilities\\pgfrcs.st\n",
      "y\n",
      "(C:\\Users\\lucas\\AppData\\Local\\Programs\\MiKTeX\\tex/generic/pgf/utilities\\pgfutil\n",
      "-common.tex)\n",
      "(C:\\Users\\lucas\\AppData\\Local\\Programs\\MiKTeX\\tex/generic/pgf/utilities\\pgfutil\n",
      "-latex.def)\n",
      "(C:\\Users\\lucas\\AppData\\Local\\Programs\\MiKTeX\\tex/generic/pgf/utilities\\pgfrcs.\n",
      "code.tex\n",
      "(C:\\Users\\lucas\\AppData\\Local\\Programs\\MiKTeX\\tex/generic/pgf\\pgf.revision.tex)\n",
      "))\n",
      "(C:\\Users\\lucas\\AppData\\Local\\Programs\\MiKTeX\\tex/latex/pgf/basiclayer\\pgfcore.\n",
      "sty\n",
      "(C:\\Users\\lucas\\AppData\\Local\\Programs\\MiKTeX\\tex/latex/graphics\\graphicx.sty\n",
      "(C:\\Users\\lucas\\AppData\\Local\\Programs\\MiKTeX\\tex/latex/graphics\\graphics.sty\n",
      "(C:\\Users\\lucas\\AppData\\Local\\Programs\\MiKTeX\\tex/latex/graphics\\trig.sty)\n",
      "(C:\\Users\\lucas\\AppData\\Local\\Programs\\MiKTeX\\tex/latex/graphics-cfg\\graphics.c\n",
      "fg)\n",
      "(C:\\Users\\lucas\\AppData\\Local\\Programs\\MiKTeX\\tex/latex/graphics-def\\pdftex.def\n",
      ")))\n",
      "(C:\\Users\\lucas\\AppData\\Local\\Programs\\MiKTeX\\tex/latex/pgf/systemlayer\\pgfsys.\n",
      "sty\n",
      "(C:\\Users\\lucas\\AppData\\Local\\Programs\\MiKTeX\\tex/generic/pgf/systemlayer\\pgfsy\n",
      "s.code.tex\n",
      "(C:\\Users\\lucas\\AppData\\Local\\Programs\\MiKTeX\\tex/generic/pgf/utilities\\pgfkeys\n",
      ".code.tex\n",
      "(C:\\Users\\lucas\\AppData\\Local\\Programs\\MiKTeX\\tex/generic/pgf/utilities\\pgfkeys\n",
      "libraryfiltered.code.tex))\n",
      "(C:\\Users\\lucas\\AppData\\Local\\Programs\\MiKTeX\\tex/generic/pgf/systemlayer\\pgf.c\n",
      "fg)\n",
      "(C:\\Users\\lucas\\AppData\\Local\\Programs\\MiKTeX\\tex/generic/pgf/systemlayer\\pgfsy\n",
      "s-pdftex.def\n",
      "(C:\\Users\\lucas\\AppData\\Local\\Programs\\MiKTeX\\tex/generic/pgf/systemlayer\\pgfsy\n",
      "s-common-pdf.def)))\n",
      "(C:\\Users\\lucas\\AppData\\Local\\Programs\\MiKTeX\\tex/generic/pgf/systemlayer\\pgfsy\n",
      "ssoftpath.code.tex)\n",
      "(C:\\Users\\lucas\\AppData\\Local\\Programs\\MiKTeX\\tex/generic/pgf/systemlayer\\pgfsy\n",
      "sprotocol.code.tex))\n",
      "(C:\\Users\\lucas\\AppData\\Local\\Programs\\MiKTeX\\tex/latex/xcolor\\xcolor.sty\n",
      "(C:\\Users\\lucas\\AppData\\Local\\Programs\\MiKTeX\\tex/latex/graphics-cfg\\color.cfg)\n",
      "(C:\\Users\\lucas\\AppData\\Local\\Programs\\MiKTeX\\tex/latex/graphics\\mathcolor.ltx)\n",
      ")\n",
      "(C:\\Users\\lucas\\AppData\\Local\\Programs\\MiKTeX\\tex/generic/pgf/basiclayer\\pgfcor\n",
      "e.code.tex\n",
      "(C:\\Users\\lucas\\AppData\\Local\\Programs\\MiKTeX\\tex/generic/pgf/math\\pgfmath.code\n",
      ".tex\n",
      "(C:\\Users\\lucas\\AppData\\Local\\Programs\\MiKTeX\\tex/generic/pgf/math\\pgfmathutil.\n",
      "code.tex)\n",
      "(C:\\Users\\lucas\\AppData\\Local\\Programs\\MiKTeX\\tex/generic/pgf/math\\pgfmathparse\n",
      "r.code.tex)\n",
      "(C:\\Users\\lucas\\AppData\\Local\\Programs\\MiKTeX\\tex/generic/pgf/math\\pgfmathfunct\n",
      "ions.code.tex)\n",
      "(C:\\Users\\lucas\\AppData\\Local\\Programs\\MiKTeX\\tex/generic/pgf/math\\pgfmathfunct\n",
      "ions.basic.code.tex)\n",
      "(C:\\Users\\lucas\\AppData\\Local\\Programs\\MiKTeX\\tex/generic/pgf/math\\pgfmathfunct\n",
      "ions.trigonometric.code.tex)\n",
      "(C:\\Users\\lucas\\AppData\\Local\\Programs\\MiKTeX\\tex/generic/pgf/math\\pgfmathfunct\n",
      "ions.random.code.tex)\n",
      "(C:\\Users\\lucas\\AppData\\Local\\Programs\\MiKTeX\\tex/generic/pgf/math\\pgfmathfunct\n",
      "ions.comparison.code.tex)\n",
      "(C:\\Users\\lucas\\AppData\\Local\\Programs\\MiKTeX\\tex/generic/pgf/math\\pgfmathfunct\n",
      "ions.base.code.tex)\n",
      "(C:\\Users\\lucas\\AppData\\Local\\Programs\\MiKTeX\\tex/generic/pgf/math\\pgfmathfunct\n",
      "ions.round.code.tex)\n",
      "(C:\\Users\\lucas\\AppData\\Local\\Programs\\MiKTeX\\tex/generic/pgf/math\\pgfmathfunct\n",
      "ions.misc.code.tex)\n",
      "(C:\\Users\\lucas\\AppData\\Local\\Programs\\MiKTeX\\tex/generic/pgf/math\\pgfmathfunct\n",
      "ions.integerarithmetics.code.tex)\n",
      "(C:\\Users\\lucas\\AppData\\Local\\Programs\\MiKTeX\\tex/generic/pgf/math\\pgfmathcalc.\n",
      "code.tex)\n",
      "(C:\\Users\\lucas\\AppData\\Local\\Programs\\MiKTeX\\tex/generic/pgf/math\\pgfmathfloat\n",
      ".code.tex))\n",
      "(C:\\Users\\lucas\\AppData\\Local\\Programs\\MiKTeX\\tex/generic/pgf/math\\pgfint.code.\n",
      "tex)\n",
      "(C:\\Users\\lucas\\AppData\\Local\\Programs\\MiKTeX\\tex/generic/pgf/basiclayer\\pgfcor\n",
      "epoints.code.tex)\n",
      "(C:\\Users\\lucas\\AppData\\Local\\Programs\\MiKTeX\\tex/generic/pgf/basiclayer\\pgfcor\n",
      "epathconstruct.code.tex)\n",
      "(C:\\Users\\lucas\\AppData\\Local\\Programs\\MiKTeX\\tex/generic/pgf/basiclayer\\pgfcor\n",
      "epathusage.code.tex)\n",
      "(C:\\Users\\lucas\\AppData\\Local\\Programs\\MiKTeX\\tex/generic/pgf/basiclayer\\pgfcor\n",
      "escopes.code.tex)\n",
      "(C:\\Users\\lucas\\AppData\\Local\\Programs\\MiKTeX\\tex/generic/pgf/basiclayer\\pgfcor\n",
      "egraphicstate.code.tex)\n",
      "(C:\\Users\\lucas\\AppData\\Local\\Programs\\MiKTeX\\tex/generic/pgf/basiclayer\\pgfcor\n",
      "etransformations.code.tex)\n",
      "(C:\\Users\\lucas\\AppData\\Local\\Programs\\MiKTeX\\tex/generic/pgf/basiclayer\\pgfcor\n",
      "equick.code.tex)\n",
      "(C:\\Users\\lucas\\AppData\\Local\\Programs\\MiKTeX\\tex/generic/pgf/basiclayer\\pgfcor\n",
      "eobjects.code.tex)\n",
      "(C:\\Users\\lucas\\AppData\\Local\\Programs\\MiKTeX\\tex/generic/pgf/basiclayer\\pgfcor\n",
      "epathprocessing.code.tex)\n",
      "(C:\\Users\\lucas\\AppData\\Local\\Programs\\MiKTeX\\tex/generic/pgf/basiclayer\\pgfcor\n",
      "earrows.code.tex)\n",
      "(C:\\Users\\lucas\\AppData\\Local\\Programs\\MiKTeX\\tex/generic/pgf/basiclayer\\pgfcor\n",
      "eshade.code.tex)\n",
      "(C:\\Users\\lucas\\AppData\\Local\\Programs\\MiKTeX\\tex/generic/pgf/basiclayer\\pgfcor\n",
      "eimage.code.tex)\n",
      "(C:\\Users\\lucas\\AppData\\Local\\Programs\\MiKTeX\\tex/generic/pgf/basiclayer\\pgfcor\n",
      "eexternal.code.tex)\n",
      "(C:\\Users\\lucas\\AppData\\Local\\Programs\\MiKTeX\\tex/generic/pgf/basiclayer\\pgfcor\n",
      "elayers.code.tex)\n",
      "(C:\\Users\\lucas\\AppData\\Local\\Programs\\MiKTeX\\tex/generic/pgf/basiclayer\\pgfcor\n",
      "etransparency.code.tex)\n",
      "(C:\\Users\\lucas\\AppData\\Local\\Programs\\MiKTeX\\tex/generic/pgf/basiclayer\\pgfcor\n",
      "epatterns.code.tex)\n",
      "(C:\\Users\\lucas\\AppData\\Local\\Programs\\MiKTeX\\tex/generic/pgf/basiclayer\\pgfcor\n",
      "erdf.code.tex)))\n",
      "(C:\\Users\\lucas\\AppData\\Local\\Programs\\MiKTeX\\tex/generic/pgf/modules\\pgfmodule\n",
      "shapes.code.tex)\n",
      "(C:\\Users\\lucas\\AppData\\Local\\Programs\\MiKTeX\\tex/generic/pgf/modules\\pgfmodule\n",
      "plot.code.tex)\n",
      "(C:\\Users\\lucas\\AppData\\Local\\Programs\\MiKTeX\\tex/latex/pgf/compatibility\\pgfco\n",
      "mp-version-0-65.sty)\n",
      "(C:\\Users\\lucas\\AppData\\Local\\Programs\\MiKTeX\\tex/latex/pgf/compatibility\\pgfco\n",
      "mp-version-1-18.sty))\n",
      "(C:\\Users\\lucas\\AppData\\Local\\Programs\\MiKTeX\\tex/latex/pgf/utilities\\pgffor.st\n",
      "y\n",
      "(C:\\Users\\lucas\\AppData\\Local\\Programs\\MiKTeX\\tex/latex/pgf/utilities\\pgfkeys.s\n",
      "ty\n",
      "(C:\\Users\\lucas\\AppData\\Local\\Programs\\MiKTeX\\tex/generic/pgf/utilities\\pgfkeys\n",
      ".code.tex))\n",
      "(C:\\Users\\lucas\\AppData\\Local\\Programs\\MiKTeX\\tex/latex/pgf/math\\pgfmath.sty\n",
      "(C:\\Users\\lucas\\AppData\\Local\\Programs\\MiKTeX\\tex/generic/pgf/math\\pgfmath.code\n",
      ".tex))\n",
      "(C:\\Users\\lucas\\AppData\\Local\\Programs\\MiKTeX\\tex/generic/pgf/utilities\\pgffor.\n",
      "code.tex))\n",
      "(C:\\Users\\lucas\\AppData\\Local\\Programs\\MiKTeX\\tex/generic/pgf/frontendlayer/tik\n",
      "z\\tikz.code.tex\n",
      "(C:\\Users\\lucas\\AppData\\Local\\Programs\\MiKTeX\\tex/generic/pgf/libraries\\pgflibr\n",
      "aryplothandlers.code.tex)\n",
      "(C:\\Users\\lucas\\AppData\\Local\\Programs\\MiKTeX\\tex/generic/pgf/modules\\pgfmodule\n",
      "matrix.code.tex)\n",
      "(C:\\Users\\lucas\\AppData\\Local\\Programs\\MiKTeX\\tex/generic/pgf/frontendlayer/tik\n",
      "z/libraries\\tikzlibrarytopaths.code.tex)))\n",
      "(C:\\Users\\lucas\\AppData\\Local\\Programs\\MiKTeX\\tex/latex/l3backend\\l3backend-pdf\n",
      "tex.def)\n",
      "No file 3a8902084454bc1.aux.\n",
      "\n",
      "(C:\\Users\\lucas\\AppData\\Local\\Programs\\MiKTeX\\tex/context/base/mkii\\supp-pdf.mk\n",
      "ii\n",
      "[Loading MPS to PDF converter (version 2006.09.02).]\n",
      ")\n",
      "(C:\\Users\\lucas\\AppData\\Local\\Programs\\MiKTeX\\tex/latex/epstopdf-pkg\\epstopdf-b\n",
      "ase.sty\n",
      "(C:\\Users\\lucas\\AppData\\Local\\Programs\\MiKTeX\\tex/latex/00miktex\\epstopdf-sys.c\n",
      "fg))\n",
      "\n",
      "! Package tikz Error: Giving up on this path. Did you forget a semicolon?.\n",
      "\n",
      "See the tikz package documentation for explanation.\n",
      "Type  H <return>  for immediate help.\n",
      " ...                                              \n",
      "                                                  \n",
      "l.7     \\end{tikzpicture}\n",
      "                         \n",
      "? \n",
      "! Emergency stop.\n",
      " ...                                              \n",
      "                                                  \n",
      "l.7     \\end{tikzpicture}\n",
      "                         \n",
      "!  ==> Fatal error occurred, no output PDF file produced!\n",
      "Transcript written on 3a8902084454bc1.log.\n",
      "\n"
     ]
    }
   ],
   "source": [
    "%%tikz -as=t -e\n",
    "% Error: Comma after the first coordinate\n",
    "\\draw[fill=black] (1, 1) rectangle (2, 2)"
   ]
  },
  {
   "cell_type": "markdown",
   "metadata": {},
   "source": [
    "If you want to print the entire LaTeX string for any reason, you can use the `-pt` (or `--print-tex`) option:"
   ]
  },
  {
   "cell_type": "code",
   "execution_count": 48,
   "metadata": {},
   "outputs": [
    {
     "name": "stdout",
     "output_type": "stream",
     "text": [
      "\\documentclass{standalone}\n",
      "\\usepackage{graphicx}\n",
      "\\usepackage{tikz}\n",
      "\\begin{document}\n",
      "    \\scalebox{2.0}{\n",
      "    \\begin{tikzpicture}\n",
      "        \\draw[help lines] grid (5, 5);\n",
      "        \\draw[fill=black!10] (1, 1) rectangle (2, 2);\n",
      "        \\draw[fill=black!10] (2, 1) rectangle (3, 2);\n",
      "        \\draw[fill=black!10] (3, 1) rectangle (4, 2);\n",
      "        \\draw[fill=black!10] (3, 2) rectangle (4, 3);\n",
      "        \\draw[fill=black!10] (2, 3) rectangle (3, 4);\n",
      "    \\end{tikzpicture}\n",
      "    }\n",
      "\\end{document}\n"
     ]
    },
    {
     "data": {
      "image/svg+xml": [
       "<svg xmlns=\"http://www.w3.org/2000/svg\" xmlns:xlink=\"http://www.w3.org/1999/xlink\" width=\"297.146\" height=\"283.863\" viewBox=\"0 0 297.146 283.863\">\n",
       "<defs>\n",
       "<clipPath id=\"clip-0\">\n",
       "<path clip-rule=\"nonzero\" d=\"M 6 0.339844 L 290 0.339844 L 290 283.386719 L 6 283.386719 Z M 6 0.339844 \"/>\n",
       "</clipPath>\n",
       "</defs>\n",
       "<g clip-path=\"url(#clip-0)\">\n",
       "<path fill=\"none\" stroke-width=\"0.19925\" stroke-linecap=\"butt\" stroke-linejoin=\"miter\" stroke=\"rgb(50%, 50%, 50%)\" stroke-opacity=\"1\" stroke-miterlimit=\"10\" d=\"M -0.0000429334 0.000514558 L 141.73426 0.000514558 M -0.0000429334 28.347375 L 141.73426 28.347375 M -0.0000429334 56.694236 L 141.73426 56.694236 M -0.0000429334 85.041096 L 141.73426 85.041096 M -0.0000429334 113.387957 L 141.73426 113.387957 M -0.0000429334 141.725024 L 141.73426 141.725024 M -0.0000429334 0.000514558 L -0.0000429334 141.734818 M 28.346818 0.000514558 L 28.346818 141.734818 M 56.693678 0.000514558 L 56.693678 141.734818 M 85.040539 0.000514558 L 85.040539 141.734818 M 113.3874 0.000514558 L 113.3874 141.734818 M 141.724467 0.000514558 L 141.724467 141.734818 \" transform=\"matrix(1.994268, 0, 0, -1.994268, 6.820398, 283.188526)\"/>\n",
       "</g>\n",
       "<path fill-rule=\"nonzero\" fill=\"rgb(89.99939%, 89.99939%, 89.99939%)\" fill-opacity=\"1\" stroke-width=\"0.3985\" stroke-linecap=\"butt\" stroke-linejoin=\"miter\" stroke=\"rgb(0%, 0%, 0%)\" stroke-opacity=\"1\" stroke-miterlimit=\"10\" d=\"M 28.346818 28.347375 L 28.346818 56.694236 L 56.693678 56.694236 L 56.693678 28.347375 Z M 28.346818 28.347375 \" transform=\"matrix(1.994268, 0, 0, -1.994268, 6.820398, 283.188526)\"/>\n",
       "<path fill-rule=\"nonzero\" fill=\"rgb(89.99939%, 89.99939%, 89.99939%)\" fill-opacity=\"1\" stroke-width=\"0.3985\" stroke-linecap=\"butt\" stroke-linejoin=\"miter\" stroke=\"rgb(0%, 0%, 0%)\" stroke-opacity=\"1\" stroke-miterlimit=\"10\" d=\"M 56.693678 28.347375 L 56.693678 56.694236 L 85.040539 56.694236 L 85.040539 28.347375 Z M 56.693678 28.347375 \" transform=\"matrix(1.994268, 0, 0, -1.994268, 6.820398, 283.188526)\"/>\n",
       "<path fill-rule=\"nonzero\" fill=\"rgb(89.99939%, 89.99939%, 89.99939%)\" fill-opacity=\"1\" stroke-width=\"0.3985\" stroke-linecap=\"butt\" stroke-linejoin=\"miter\" stroke=\"rgb(0%, 0%, 0%)\" stroke-opacity=\"1\" stroke-miterlimit=\"10\" d=\"M 85.040539 28.347375 L 85.040539 56.694236 L 113.3874 56.694236 L 113.3874 28.347375 Z M 85.040539 28.347375 \" transform=\"matrix(1.994268, 0, 0, -1.994268, 6.820398, 283.188526)\"/>\n",
       "<path fill-rule=\"nonzero\" fill=\"rgb(89.99939%, 89.99939%, 89.99939%)\" fill-opacity=\"1\" stroke-width=\"0.3985\" stroke-linecap=\"butt\" stroke-linejoin=\"miter\" stroke=\"rgb(0%, 0%, 0%)\" stroke-opacity=\"1\" stroke-miterlimit=\"10\" d=\"M 85.040539 56.694236 L 85.040539 85.041096 L 113.3874 85.041096 L 113.3874 56.694236 Z M 85.040539 56.694236 \" transform=\"matrix(1.994268, 0, 0, -1.994268, 6.820398, 283.188526)\"/>\n",
       "<path fill-rule=\"nonzero\" fill=\"rgb(89.99939%, 89.99939%, 89.99939%)\" fill-opacity=\"1\" stroke-width=\"0.3985\" stroke-linecap=\"butt\" stroke-linejoin=\"miter\" stroke=\"rgb(0%, 0%, 0%)\" stroke-opacity=\"1\" stroke-miterlimit=\"10\" d=\"M 56.693678 85.041096 L 56.693678 113.387957 L 85.040539 113.387957 L 85.040539 85.041096 Z M 56.693678 85.041096 \" transform=\"matrix(1.994268, 0, 0, -1.994268, 6.820398, 283.188526)\"/>\n",
       "</svg>"
      ],
      "text/plain": [
       "<IPython.core.display.SVG object>"
      ]
     },
     "execution_count": 48,
     "metadata": {},
     "output_type": "execute_result"
    }
   ],
   "source": [
    "%%tikz -as=t -sc=2 --print-tex\n",
    "\\draw[help lines] grid (5, 5);\n",
    "\\draw[fill=black!10] (1, 1) rectangle (2, 2);\n",
    "\\draw[fill=black!10] (2, 1) rectangle (3, 2);\n",
    "\\draw[fill=black!10] (3, 1) rectangle (4, 2);\n",
    "\\draw[fill=black!10] (3, 2) rectangle (4, 3);\n",
    "\\draw[fill=black!10] (2, 3) rectangle (3, 4);"
   ]
  },
  {
   "cell_type": "markdown",
   "metadata": {},
   "source": [
    "Finally, you can keep the temporary files (LaTeX, PDF and image) for further investigation by using `-k` (or `--keep`). The file names are hex representation of hash of the full LaTeX code."
   ]
  },
  {
   "cell_type": "code",
   "execution_count": 49,
   "metadata": {},
   "outputs": [
    {
     "data": {
      "image/svg+xml": [
       "<svg xmlns=\"http://www.w3.org/2000/svg\" xmlns:xlink=\"http://www.w3.org/1999/xlink\" width=\"297.146\" height=\"283.863\" viewBox=\"0 0 297.146 283.863\">\n",
       "<defs>\n",
       "<clipPath id=\"clip-0\">\n",
       "<path clip-rule=\"nonzero\" d=\"M 6 0.339844 L 290 0.339844 L 290 283.386719 L 6 283.386719 Z M 6 0.339844 \"/>\n",
       "</clipPath>\n",
       "</defs>\n",
       "<g clip-path=\"url(#clip-0)\">\n",
       "<path fill=\"none\" stroke-width=\"0.19925\" stroke-linecap=\"butt\" stroke-linejoin=\"miter\" stroke=\"rgb(50%, 50%, 50%)\" stroke-opacity=\"1\" stroke-miterlimit=\"10\" d=\"M -0.0000429334 0.000514558 L 141.73426 0.000514558 M -0.0000429334 28.347375 L 141.73426 28.347375 M -0.0000429334 56.694236 L 141.73426 56.694236 M -0.0000429334 85.041096 L 141.73426 85.041096 M -0.0000429334 113.387957 L 141.73426 113.387957 M -0.0000429334 141.725024 L 141.73426 141.725024 M -0.0000429334 0.000514558 L -0.0000429334 141.734818 M 28.346818 0.000514558 L 28.346818 141.734818 M 56.693678 0.000514558 L 56.693678 141.734818 M 85.040539 0.000514558 L 85.040539 141.734818 M 113.3874 0.000514558 L 113.3874 141.734818 M 141.724467 0.000514558 L 141.724467 141.734818 \" transform=\"matrix(1.994268, 0, 0, -1.994268, 6.820398, 283.188526)\"/>\n",
       "</g>\n",
       "<path fill-rule=\"nonzero\" fill=\"rgb(89.99939%, 89.99939%, 89.99939%)\" fill-opacity=\"1\" stroke-width=\"0.3985\" stroke-linecap=\"butt\" stroke-linejoin=\"miter\" stroke=\"rgb(0%, 0%, 0%)\" stroke-opacity=\"1\" stroke-miterlimit=\"10\" d=\"M 28.346818 28.347375 L 28.346818 56.694236 L 56.693678 56.694236 L 56.693678 28.347375 Z M 28.346818 28.347375 \" transform=\"matrix(1.994268, 0, 0, -1.994268, 6.820398, 283.188526)\"/>\n",
       "<path fill-rule=\"nonzero\" fill=\"rgb(89.99939%, 89.99939%, 89.99939%)\" fill-opacity=\"1\" stroke-width=\"0.3985\" stroke-linecap=\"butt\" stroke-linejoin=\"miter\" stroke=\"rgb(0%, 0%, 0%)\" stroke-opacity=\"1\" stroke-miterlimit=\"10\" d=\"M 56.693678 28.347375 L 56.693678 56.694236 L 85.040539 56.694236 L 85.040539 28.347375 Z M 56.693678 28.347375 \" transform=\"matrix(1.994268, 0, 0, -1.994268, 6.820398, 283.188526)\"/>\n",
       "<path fill-rule=\"nonzero\" fill=\"rgb(89.99939%, 89.99939%, 89.99939%)\" fill-opacity=\"1\" stroke-width=\"0.3985\" stroke-linecap=\"butt\" stroke-linejoin=\"miter\" stroke=\"rgb(0%, 0%, 0%)\" stroke-opacity=\"1\" stroke-miterlimit=\"10\" d=\"M 85.040539 28.347375 L 85.040539 56.694236 L 113.3874 56.694236 L 113.3874 28.347375 Z M 85.040539 28.347375 \" transform=\"matrix(1.994268, 0, 0, -1.994268, 6.820398, 283.188526)\"/>\n",
       "<path fill-rule=\"nonzero\" fill=\"rgb(89.99939%, 89.99939%, 89.99939%)\" fill-opacity=\"1\" stroke-width=\"0.3985\" stroke-linecap=\"butt\" stroke-linejoin=\"miter\" stroke=\"rgb(0%, 0%, 0%)\" stroke-opacity=\"1\" stroke-miterlimit=\"10\" d=\"M 85.040539 56.694236 L 85.040539 85.041096 L 113.3874 85.041096 L 113.3874 56.694236 Z M 85.040539 56.694236 \" transform=\"matrix(1.994268, 0, 0, -1.994268, 6.820398, 283.188526)\"/>\n",
       "<path fill-rule=\"nonzero\" fill=\"rgb(89.99939%, 89.99939%, 89.99939%)\" fill-opacity=\"1\" stroke-width=\"0.3985\" stroke-linecap=\"butt\" stroke-linejoin=\"miter\" stroke=\"rgb(0%, 0%, 0%)\" stroke-opacity=\"1\" stroke-miterlimit=\"10\" d=\"M 56.693678 85.041096 L 56.693678 113.387957 L 85.040539 113.387957 L 85.040539 85.041096 Z M 56.693678 85.041096 \" transform=\"matrix(1.994268, 0, 0, -1.994268, 6.820398, 283.188526)\"/>\n",
       "</svg>"
      ],
      "text/plain": [
       "<IPython.core.display.SVG object>"
      ]
     },
     "execution_count": 49,
     "metadata": {},
     "output_type": "execute_result"
    }
   ],
   "source": [
    "%%tikz -as=t -sc=2 -k\n",
    "\\draw[help lines] grid (5, 5);\n",
    "\\draw[fill=black!10] (1, 1) rectangle (2, 2);\n",
    "\\draw[fill=black!10] (2, 1) rectangle (3, 2);\n",
    "\\draw[fill=black!10] (3, 1) rectangle (4, 2);\n",
    "\\draw[fill=black!10] (3, 2) rectangle (4, 3);\n",
    "\\draw[fill=black!10] (2, 3) rectangle (3, 4);"
   ]
  },
  {
   "cell_type": "markdown",
   "metadata": {},
   "source": [
    "# Usage as a Package"
   ]
  },
  {
   "cell_type": "markdown",
   "metadata": {},
   "source": [
    "It is also possible to use Jupyter TikZ as a package. You can create TikZ pictures using two available classes:\n",
    "\n",
    "- `TexDocument(code, **options)`: Uses a full LaTeX document as code input (same effect as `-as=full-document`).\n",
    "- `TexFragment(code, **options)`: Uses part of a LaTeX document as code input to create a standalone LaTeX document (same effect as `-as=standalone-document` or `-as=tikzpicture`).\n",
    "\n",
    "First, let's import the classes from the package:"
   ]
  },
  {
   "cell_type": "code",
   "execution_count": 50,
   "metadata": {},
   "outputs": [],
   "source": [
    "from jupyter_tikz import TexDocument, TexFragment"
   ]
  },
  {
   "cell_type": "markdown",
   "metadata": {},
   "source": [
    "## Basic usage of TexDocument"
   ]
  },
  {
   "cell_type": "markdown",
   "metadata": {},
   "source": [
    "Available methods are:\n",
    "- `run_latex(**options)`: Runs LaTeX and displays the output in a cell.\n",
    "- `save(dest, **options)`: Saves the `code` or `image` output to a file. The default is `code`."
   ]
  },
  {
   "cell_type": "markdown",
   "metadata": {},
   "source": [
    "Let's start with a basic example. First, define the code:"
   ]
  },
  {
   "cell_type": "code",
   "execution_count": 51,
   "metadata": {},
   "outputs": [],
   "source": [
    "code = r\"\"\"\\documentclass{standalone}\n",
    "\\usepackage{graphicx}\n",
    "\\usepackage{tikz}\n",
    "\\usepackage{amsfonts}\n",
    "\\usetikzlibrary{quotes,angles}\n",
    "\\begin{document}\n",
    "\t\\scalebox{2}{\n",
    "\t\\begin{tikzpicture}\n",
    "\t\t% Example from Paul Gaborit\n",
    "\t\t% http://www.texample.net/tikz/examples/angles-quotes/\n",
    "\t\t\\draw\n",
    "\t\t    (3,-1) coordinate (a) node[right] {a}\n",
    "\t\t    -- (0,0) coordinate (b) node[left] {b}\n",
    "\t\t    -- (2,2) coordinate (c) node[above right] {c}\n",
    "\t\t    pic[\"$\\alpha$\", draw=orange, <->, angle eccentricity=1.2, angle radius=1cm]\n",
    "\t\t    {angle=a--b--c};\n",
    "    \n",
    "\t\t\\node[rotate=10] (r) at (2.5, 0.65) {Something about in $\\mathbb{R}^2$};\n",
    "\t\\end{tikzpicture}\n",
    "\t}\n",
    "\\end{document}\"\"\""
   ]
  },
  {
   "cell_type": "markdown",
   "metadata": {},
   "source": [
    "Then, create the object:"
   ]
  },
  {
   "cell_type": "code",
   "execution_count": 52,
   "metadata": {},
   "outputs": [
    {
     "name": "stdout",
     "output_type": "stream",
     "text": [
      "\\documentclass{standalone}\n",
      "\\usepackage{graphicx}\n",
      "\\usepackage{tikz}\n",
      "\\usepackage{amsfonts}\n",
      "\\usetikzlibrary{quotes,angles}\n",
      "\\begin{document}\n",
      "\t\\scalebox{2}{\n",
      "\t\\begin{tikzpicture}\n",
      "\t\t% Example from Paul Gaborit\n",
      "\t\t% http://www.texample.net/tikz/examples/angles-quotes/\n",
      "\t\t\\draw\n",
      "\t\t    (3,-1) coordinate (a) node[right] {a}\n",
      "\t\t    -- (0,0) coordinate (b) node[left] {b}\n",
      "\t\t    -- (2,2) coordinate (c) node[above right] {c}\n",
      "\t\t    pic[\"$\\alpha$\", draw=orange, <->, angle eccentricity=1.2, angle radius=1cm]\n",
      "\t\t    {angle=a--b--c};\n",
      "    \n",
      "\t\t\\node[rotate=10] (r) at (2.5, 0.65) {Something about in $\\mathbb{R}^2$};\n",
      "\t\\end{tikzpicture}\n",
      "\t}\n",
      "\\end{document}\n"
     ]
    }
   ],
   "source": [
    "tex_document = TexDocument(code)\n",
    "print(tex_document)"
   ]
  },
  {
   "cell_type": "markdown",
   "metadata": {},
   "source": [
    "Finally, run LaTeX and display the output:\n",
    "\n",
    "> **Note:** You can configure the output by passing options to `run_latex`. In this example, `save_image` was used."
   ]
  },
  {
   "cell_type": "code",
   "execution_count": 53,
   "metadata": {},
   "outputs": [
    {
     "data": {
      "image/svg+xml": [
       "<svg xmlns=\"http://www.w3.org/2000/svg\" xmlns:xlink=\"http://www.w3.org/1999/xlink\" width=\"288.722\" height=\"203.269\" viewBox=\"0 0 288.722 203.269\">\n",
       "<defs>\n",
       "<g>\n",
       "<g id=\"glyph-0-0\">\n",
       "<path d=\"M 6.609375 -1.515625 C 6.6875 -0.71875 7.234375 0.125 8.15625 0.125 C 8.578125 0.125 9.796875 -0.15625 9.796875 -1.765625 L 9.796875 -2.875 L 9.296875 -2.875 L 9.296875 -1.765625 C 9.296875 -0.609375 8.796875 -0.5 8.578125 -0.5 C 7.921875 -0.5 7.84375 -1.390625 7.84375 -1.484375 L 7.84375 -5.46875 C 7.84375 -6.296875 7.84375 -7.0625 7.125 -7.8125 C 6.359375 -8.578125 5.359375 -8.890625 4.40625 -8.890625 C 2.78125 -8.890625 1.40625 -7.96875 1.40625 -6.65625 C 1.40625 -6.0625 1.8125 -5.71875 2.328125 -5.71875 C 2.875 -5.71875 3.234375 -6.109375 3.234375 -6.640625 C 3.234375 -6.875 3.140625 -7.53125 2.21875 -7.546875 C 2.765625 -8.234375 3.734375 -8.453125 4.375 -8.453125 C 5.34375 -8.453125 6.46875 -7.6875 6.46875 -5.921875 L 6.46875 -5.1875 C 5.46875 -5.125 4.078125 -5.0625 2.8125 -4.46875 C 1.328125 -3.796875 0.828125 -2.765625 0.828125 -1.890625 C 0.828125 -0.28125 2.765625 0.21875 4.015625 0.21875 C 5.328125 0.21875 6.234375 -0.578125 6.609375 -1.515625 Z M 6.46875 -4.765625 L 6.46875 -2.78125 C 6.46875 -0.890625 5.046875 -0.21875 4.15625 -0.21875 C 3.171875 -0.21875 2.359375 -0.90625 2.359375 -1.90625 C 2.359375 -3 3.203125 -4.640625 6.46875 -4.765625 Z M 6.46875 -4.765625 \"/>\n",
       "</g>\n",
       "<g id=\"glyph-0-1\">\n",
       "<path d=\"M 3.421875 -7.484375 L 3.421875 -13.78125 L 0.5625 -13.5625 L 0.5625 -12.953125 C 1.953125 -12.953125 2.109375 -12.8125 2.109375 -11.84375 L 2.109375 0 L 2.609375 0 C 2.625 -0.015625 2.78125 -0.296875 3.3125 -1.234375 C 3.609375 -0.78125 4.453125 0.21875 5.921875 0.21875 C 8.28125 0.21875 10.34375 -1.734375 10.34375 -4.296875 C 10.34375 -6.8125 8.40625 -8.78125 6.140625 -8.78125 C 4.59375 -8.78125 3.734375 -7.84375 3.421875 -7.484375 Z M 3.46875 -2.265625 L 3.46875 -6.359375 C 3.46875 -6.734375 3.46875 -6.75 3.6875 -7.0625 C 4.46875 -8.1875 5.5625 -8.34375 6.03125 -8.34375 C 6.9375 -8.34375 7.640625 -7.828125 8.125 -7.0625 C 8.640625 -6.25 8.703125 -5.125 8.703125 -4.3125 C 8.703125 -3.578125 8.65625 -2.390625 8.078125 -1.484375 C 7.671875 -0.875 6.90625 -0.21875 5.84375 -0.21875 C 4.9375 -0.21875 4.234375 -0.6875 3.75 -1.4375 C 3.46875 -1.84375 3.46875 -1.90625 3.46875 -2.265625 Z M 3.46875 -2.265625 \"/>\n",
       "</g>\n",
       "<g id=\"glyph-0-2\">\n",
       "<path d=\"M 2.328125 -4.328125 C 2.328125 -7.5625 3.953125 -8.40625 5 -8.40625 C 5.1875 -8.40625 6.4375 -8.375 7.125 -7.671875 C 6.3125 -7.609375 6.203125 -7.015625 6.203125 -6.75 C 6.203125 -6.234375 6.546875 -5.84375 7.109375 -5.84375 C 7.625 -5.84375 8.015625 -6.171875 8.015625 -6.765625 C 8.015625 -8.125 6.515625 -8.890625 4.984375 -8.890625 C 2.5 -8.890625 0.671875 -6.75 0.671875 -4.296875 C 0.671875 -1.75 2.640625 0.21875 4.9375 0.21875 C 7.609375 0.21875 8.234375 -2.171875 8.234375 -2.359375 C 8.234375 -2.5625 8.046875 -2.5625 7.984375 -2.5625 C 7.8125 -2.5625 7.765625 -2.484375 7.71875 -2.359375 C 7.15625 -0.515625 5.859375 -0.28125 5.125 -0.28125 C 4.078125 -0.28125 2.328125 -1.125 2.328125 -4.328125 Z M 2.328125 -4.328125 \"/>\n",
       "</g>\n",
       "<g id=\"glyph-1-0\">\n",
       "<path d=\"M 9.46875 -4.6875 C 9.46875 -7.8125 7.625 -8.78125 6.15625 -8.78125 C 3.4375 -8.78125 0.8125 -5.9375 0.8125 -3.140625 C 0.8125 -1.296875 2 0.21875 4.03125 0.21875 C 5.28125 0.21875 6.71875 -0.234375 8.21875 -1.453125 C 8.484375 -0.390625 9.140625 0.21875 10.03125 0.21875 C 11.078125 0.21875 11.703125 -0.875 11.703125 -1.1875 C 11.703125 -1.328125 11.578125 -1.390625 11.453125 -1.390625 C 11.3125 -1.390625 11.265625 -1.328125 11.203125 -1.1875 C 10.84375 -0.21875 10.125 -0.21875 10.09375 -0.21875 C 9.46875 -0.21875 9.46875 -1.765625 9.46875 -2.25 C 9.46875 -2.65625 9.46875 -2.703125 9.671875 -2.9375 C 11.53125 -5.28125 11.953125 -7.59375 11.953125 -7.609375 C 11.953125 -7.640625 11.9375 -7.8125 11.71875 -7.8125 C 11.515625 -7.8125 11.515625 -7.75 11.421875 -7.390625 C 11.0625 -6.140625 10.40625 -4.625 9.46875 -3.453125 Z M 8.140625 -1.96875 C 6.390625 -0.4375 4.859375 -0.21875 4.078125 -0.21875 C 2.875 -0.21875 2.28125 -1.109375 2.28125 -2.390625 C 2.28125 -3.359375 2.796875 -5.5 3.4375 -6.515625 C 4.375 -7.96875 5.4375 -8.34375 6.140625 -8.34375 C 8.109375 -8.34375 8.109375 -5.734375 8.109375 -4.1875 C 8.109375 -3.453125 8.109375 -2.296875 8.140625 -1.96875 Z M 8.140625 -1.96875 \"/>\n",
       "</g>\n",
       "<g id=\"glyph-2-0\">\n",
       "<path d=\"M 5.484375 -8.796875 L 2.875 -8.96875 C 1.609375 -9.046875 0.671875 -9.96875 0.46875 -11.09375 C 0.234375 -12.46875 1.078125 -13.828125 2.59375 -14.109375 C 5.875 -14.6875 6.859375 -11.546875 7.125 -10.703125 C 7.15625 -10.578125 7.171875 -10.46875 7.390625 -10.5 C 7.65625 -10.546875 7.640625 -10.640625 7.578125 -11.015625 L 6.890625 -14.953125 C 6.828125 -15.28125 6.796875 -15.40625 6.578125 -15.375 C 6.4375 -15.34375 6.4375 -15.328125 6.328125 -15.078125 L 5.84375 -13.84375 C 5.15625 -14.296875 4.203125 -14.953125 2.46875 -14.640625 C 0.296875 -14.265625 -1.03125 -12.25 -0.671875 -10.171875 C -0.375 -8.5625 0.921875 -7.3125 2.53125 -7.0625 C 2.75 -7.03125 3.78125 -6.96875 5.21875 -6.859375 C 5.765625 -6.8125 6.390625 -6.796875 7.046875 -6.15625 C 7.5625 -5.734375 7.875 -5.109375 7.984375 -4.46875 C 8.234375 -3.078125 7.5 -1.5 5.859375 -1.21875 C 5.296875 -1.109375 3.78125 -0.953125 2.578125 -1.734375 C 1.25 -2.59375 0.96875 -3.828125 0.828125 -4.53125 C 0.78125 -4.734375 0.640625 -4.703125 0.578125 -4.6875 C 0.3125 -4.640625 0.328125 -4.5 0.390625 -4.140625 L 1.078125 -0.234375 C 1.140625 0.109375 1.171875 0.25 1.390625 0.203125 C 1.53125 0.1875 1.53125 0.140625 1.625 -0.109375 C 1.625 -0.125 1.671875 -0.203125 2.140625 -1.34375 C 2.859375 -0.796875 4.25 -0.296875 5.984375 -0.609375 C 8.28125 -1.015625 9.484375 -3.21875 9.109375 -5.34375 C 8.765625 -7.3125 7.203125 -8.703125 5.484375 -8.796875 Z M 5.484375 -8.796875 \"/>\n",
       "</g>\n",
       "<g id=\"glyph-2-1\">\n",
       "<path d=\"M 8.484375 -5.8125 C 8.03125 -8.3125 5.71875 -10.03125 3.34375 -9.609375 C 0.90625 -9.1875 -0.625 -6.71875 -0.1875 -4.28125 C 0.25 -1.75 2.609375 -0.234375 4.890625 -0.640625 C 7.265625 -1.0625 8.921875 -3.328125 8.484375 -5.8125 Z M 4.84375 -1.140625 C 4 -1 3.0625 -1.234375 2.375 -2.046875 C 1.734375 -2.828125 1.53125 -4 1.40625 -4.71875 C 1.265625 -5.484375 1.09375 -6.53125 1.40625 -7.484375 C 1.78125 -8.484375 2.625 -9.046875 3.390625 -9.1875 C 4.25 -9.34375 5.1875 -9.046875 5.828125 -8.3125 C 6.5 -7.5625 6.703125 -6.421875 6.828125 -5.6875 C 6.953125 -4.96875 7.140625 -3.921875 6.859375 -2.984375 C 6.5625 -2.03125 5.8125 -1.3125 4.84375 -1.140625 Z M 4.84375 -1.140625 \"/>\n",
       "</g>\n",
       "<g id=\"glyph-2-2\">\n",
       "<path d=\"M 0.96875 -7.09375 L 1.890625 -1.875 C 2.046875 -0.96875 1.828125 -0.9375 0.515625 -0.703125 L 0.625 -0.109375 C 1.3125 -0.25 2.296875 -0.46875 2.8125 -0.5625 C 3.328125 -0.65625 4.359375 -0.78125 5.03125 -0.890625 L 4.921875 -1.484375 C 3.59375 -1.25 3.40625 -1.21875 3.25 -2.125 L 2.625 -5.703125 C 2.265625 -7.75 3.4375 -9.078125 4.6875 -9.296875 C 5.921875 -9.515625 6.328125 -8.5 6.53125 -7.390625 L 7.328125 -2.84375 C 7.484375 -1.9375 7.265625 -1.890625 5.953125 -1.65625 L 6.0625 -1.0625 C 6.734375 -1.203125 7.71875 -1.421875 8.265625 -1.515625 C 8.765625 -1.609375 9.796875 -1.75 10.46875 -1.84375 L 10.359375 -2.4375 C 9.046875 -2.203125 8.828125 -2.171875 8.671875 -3.078125 L 8.046875 -6.65625 C 7.6875 -8.703125 8.875 -10.046875 10.125 -10.265625 C 11.359375 -10.484375 11.75 -9.453125 11.953125 -8.34375 L 12.75 -3.796875 C 12.90625 -2.890625 12.703125 -2.859375 11.390625 -2.625 L 11.5 -2.03125 C 12.1875 -2.171875 13.171875 -2.390625 13.6875 -2.484375 C 14.203125 -2.5625 15.234375 -2.703125 15.890625 -2.796875 L 15.78125 -3.390625 C 14.765625 -3.21875 14.28125 -3.125 14.15625 -3.734375 L 13.5 -7.453125 C 13.203125 -9.140625 13.109375 -9.75 12.375 -10.34375 C 12.046875 -10.625 11.3125 -10.90625 10.171875 -10.703125 C 8.546875 -10.421875 7.90625 -9.109375 7.6875 -8.28125 C 7.125 -9.953125 5.625 -9.90625 4.75 -9.75 C 3.3125 -9.5 2.546875 -8.484375 2.234375 -7.171875 L 1.859375 -9.234375 L -0.859375 -8.546875 L -0.75 -7.921875 C 0.625 -8.171875 0.796875 -8.0625 0.96875 -7.09375 Z M 0.96875 -7.09375 \"/>\n",
       "</g>\n",
       "<g id=\"glyph-2-3\">\n",
       "<path d=\"M 1.3125 -5.3125 C 0.921875 -8.25 2.484375 -9.03125 3.140625 -9.140625 C 5.15625 -9.5 5.828125 -6.890625 5.953125 -6.125 Z M 1.375 -4.90625 L 6.828125 -5.875 C 7.265625 -5.953125 7.3125 -5.96875 7.234375 -6.359375 C 6.90625 -8.296875 5.515625 -10 3.0625 -9.5625 C 0.8125 -9.171875 -0.640625 -6.828125 -0.21875 -4.40625 C 0.25 -1.765625 2.625 -0.234375 4.875 -0.640625 C 7.265625 -1.0625 7.765625 -3.390625 7.703125 -3.765625 C 7.671875 -3.96875 7.5 -3.96875 7.40625 -3.953125 C 7.234375 -3.921875 7.203125 -3.796875 7.1875 -3.640625 C 6.875 -1.5 5.125 -1.1875 4.921875 -1.15625 C 3.9375 -0.984375 3.046875 -1.421875 2.46875 -2.0625 C 1.734375 -2.90625 1.5 -4.1875 1.375 -4.90625 Z M 1.375 -4.90625 \"/>\n",
       "</g>\n",
       "<g id=\"glyph-2-4\">\n",
       "<path d=\"M 2.015625 -8.40625 L 4.8125 -8.90625 L 4.703125 -9.53125 L 1.90625 -9.03125 L 1.265625 -12.625 L 0.765625 -12.546875 C 1.03125 -10.921875 0.828125 -8.734375 -1.078125 -8.3125 L -1 -7.875 L 0.65625 -8.171875 L 1.609375 -2.796875 C 2.03125 -0.375 3.875 -0.453125 4.59375 -0.578125 C 5.96875 -0.828125 6.296875 -2.3125 6.078125 -3.578125 L 5.875 -4.6875 L 5.375 -4.609375 L 5.5625 -3.53125 C 5.828125 -2.078125 5.375 -1.234375 4.640625 -1.109375 C 3.34375 -0.875 3.03125 -2.640625 2.96875 -2.984375 Z M 2.015625 -8.40625 \"/>\n",
       "</g>\n",
       "<g id=\"glyph-2-5\">\n",
       "<path d=\"M 1.890625 -1.875 C 2.046875 -0.96875 1.828125 -0.9375 0.515625 -0.703125 L 0.625 -0.109375 C 1.3125 -0.25 2.296875 -0.46875 2.8125 -0.5625 C 3.328125 -0.65625 4.359375 -0.78125 5.03125 -0.890625 L 4.921875 -1.484375 C 3.59375 -1.25 3.40625 -1.21875 3.25 -2.125 L 2.625 -5.703125 C 2.265625 -7.75 3.4375 -9.078125 4.6875 -9.296875 C 5.921875 -9.515625 6.328125 -8.5 6.53125 -7.390625 L 7.328125 -2.84375 C 7.484375 -1.9375 7.265625 -1.890625 5.953125 -1.65625 L 6.0625 -1.0625 C 6.734375 -1.203125 7.71875 -1.421875 8.265625 -1.515625 C 8.765625 -1.609375 9.796875 -1.75 10.46875 -1.84375 L 10.359375 -2.4375 C 9.34375 -2.265625 8.84375 -2.171875 8.71875 -2.78125 L 8.0625 -6.5 C 7.765625 -8.1875 7.671875 -8.796875 6.9375 -9.390625 C 6.609375 -9.671875 5.890625 -9.953125 4.75 -9.75 C 3.09375 -9.453125 2.453125 -8.15625 2.265625 -7.328125 L 1.0625 -14.1875 L -1.734375 -13.46875 L -1.625 -12.859375 C -0.25 -13.109375 -0.0625 -13 0.09375 -12.03125 Z M 1.890625 -1.875 \"/>\n",
       "</g>\n",
       "<g id=\"glyph-2-6\">\n",
       "<path d=\"M 1.9375 -9.25 L -0.765625 -8.5625 L -0.65625 -7.9375 C 0.625 -8.171875 0.8125 -8.078125 0.984375 -7.109375 L 1.90625 -1.875 C 2.0625 -0.96875 1.84375 -0.9375 0.53125 -0.703125 L 0.640625 -0.109375 C 1.28125 -0.234375 2.3125 -0.46875 2.78125 -0.5625 C 3.46875 -0.671875 4.171875 -0.75 4.828125 -0.859375 L 4.71875 -1.453125 C 3.4375 -1.21875 3.34375 -1.3125 3.21875 -2.078125 Z M 1.421875 -12.671875 C 1.3125 -13.296875 0.734375 -13.609375 0.203125 -13.515625 C -0.421875 -13.40625 -0.75 -12.8125 -0.65625 -12.296875 C -0.5625 -11.78125 -0.046875 -11.34375 0.578125 -11.453125 C 1.109375 -11.546875 1.53125 -12.046875 1.421875 -12.671875 Z M 1.421875 -12.671875 \"/>\n",
       "</g>\n",
       "<g id=\"glyph-2-7\">\n",
       "<path d=\"M 0.96875 -7.09375 L 1.890625 -1.875 C 2.046875 -0.96875 1.828125 -0.9375 0.515625 -0.703125 L 0.625 -0.109375 C 1.3125 -0.25 2.296875 -0.46875 2.8125 -0.5625 C 3.328125 -0.65625 4.359375 -0.78125 5.03125 -0.890625 L 4.921875 -1.484375 C 3.59375 -1.25 3.40625 -1.21875 3.25 -2.125 L 2.625 -5.703125 C 2.265625 -7.75 3.4375 -9.078125 4.6875 -9.296875 C 5.921875 -9.515625 6.328125 -8.5 6.53125 -7.390625 L 7.328125 -2.84375 C 7.484375 -1.9375 7.265625 -1.890625 5.953125 -1.65625 L 6.0625 -1.0625 C 6.734375 -1.203125 7.71875 -1.421875 8.265625 -1.515625 C 8.765625 -1.609375 9.796875 -1.75 10.46875 -1.84375 L 10.359375 -2.4375 C 9.34375 -2.265625 8.84375 -2.171875 8.71875 -2.78125 L 8.0625 -6.5 C 7.765625 -8.1875 7.671875 -8.796875 6.9375 -9.390625 C 6.609375 -9.671875 5.890625 -9.953125 4.75 -9.75 C 3.3125 -9.5 2.546875 -8.484375 2.234375 -7.171875 L 1.859375 -9.234375 L -0.859375 -8.546875 L -0.75 -7.921875 C 0.625 -8.171875 0.796875 -8.0625 0.96875 -7.09375 Z M 0.96875 -7.09375 \"/>\n",
       "</g>\n",
       "<g id=\"glyph-2-8\">\n",
       "<path d=\"M 3.75 -4.140625 C 2.046875 -3.84375 1.703125 -5.796875 1.625 -6.234375 C 1.53125 -6.765625 1.4375 -7.390625 1.640625 -7.9375 C 1.765625 -8.1875 2.09375 -8.828125 2.890625 -8.96875 C 4.59375 -9.265625 4.953125 -7.296875 5.03125 -6.84375 C 5.125 -6.328125 5.203125 -5.6875 4.984375 -5.15625 C 4.875 -4.890625 4.53125 -4.28125 3.75 -4.140625 Z M 1.625 -2.953125 C 1.609375 -3.03125 1.53125 -3.484375 1.78125 -3.953125 C 2.640625 -3.53125 3.453125 -3.609375 3.828125 -3.671875 C 5.640625 -3.984375 6.765625 -5.59375 6.5 -7.09375 C 6.375 -7.828125 5.9375 -8.484375 5.359375 -8.84375 C 5.953125 -9.640625 6.625 -9.875 6.984375 -9.9375 C 7.03125 -9.9375 7.125 -9.953125 7.171875 -9.953125 C 6.984375 -9.8125 6.921875 -9.578125 6.96875 -9.34375 C 7.03125 -9.03125 7.328125 -8.828125 7.640625 -8.890625 C 7.828125 -8.921875 8.171875 -9.125 8.09375 -9.5625 C 8.03125 -9.90625 7.6875 -10.484375 6.9375 -10.359375 C 6.53125 -10.28125 5.6875 -10.015625 5.015625 -9.0625 C 4.078125 -9.578125 3.234375 -9.484375 2.8125 -9.40625 C 1 -9.078125 -0.109375 -7.5 0.15625 -5.984375 C 0.296875 -5.125 0.859375 -4.46875 1.421875 -4.140625 C 1.21875 -3.8125 1 -3.09375 1.125 -2.421875 C 1.234375 -1.796875 1.59375 -1.109375 2.28125 -0.84375 C 1.15625 -0.28125 0.6875 0.671875 0.8125 1.4375 C 1.0625 2.859375 3.1875 3.59375 5.5625 3.171875 C 7.875 2.765625 9.75 1.40625 9.484375 -0.109375 C 9.359375 -0.8125 8.90625 -1.75 7.8125 -2.125 C 6.6875 -2.5 5.546875 -2.296875 4.34375 -2.09375 C 3.875 -2 3.03125 -1.859375 2.875 -1.84375 C 2.25 -1.8125 1.734375 -2.328125 1.625 -2.953125 Z M 5.515625 2.71875 C 3.53125 3.0625 2.015625 2.296875 1.828125 1.25 C 1.671875 0.359375 2.296875 -0.484375 3.140625 -0.703125 L 4.296875 -0.90625 C 5.96875 -1.203125 8.171875 -1.59375 8.46875 0.078125 C 8.65625 1.140625 7.421875 2.375 5.515625 2.71875 Z M 5.515625 2.71875 \"/>\n",
       "</g>\n",
       "<g id=\"glyph-2-9\">\n",
       "<path d=\"M 6.25 -2.640625 C 6.453125 -1.859375 7.140625 -1.125 8.046875 -1.296875 C 8.46875 -1.359375 9.609375 -1.859375 9.328125 -3.4375 L 9.140625 -4.53125 L 8.65625 -4.4375 L 8.84375 -3.34375 C 9.046875 -2.203125 8.5625 -2.03125 8.359375 -1.984375 C 7.703125 -1.875 7.484375 -2.734375 7.46875 -2.828125 L 6.765625 -6.75 C 6.625 -7.5625 6.5 -8.3125 5.65625 -8.921875 C 4.78125 -9.5625 3.734375 -9.6875 2.796875 -9.515625 C 1.1875 -9.234375 0 -8.09375 0.234375 -6.8125 C 0.34375 -6.21875 0.78125 -5.9375 1.296875 -6.03125 C 1.828125 -6.125 2.125 -6.578125 2.03125 -7.109375 C 2 -7.328125 1.78125 -7.96875 0.875 -7.828125 C 1.28125 -8.59375 2.203125 -8.984375 2.84375 -9.09375 C 3.796875 -9.25 5.046875 -8.703125 5.34375 -6.953125 L 5.46875 -6.234375 C 4.5 -6 3.140625 -5.6875 1.984375 -4.890625 C 0.65625 -3.96875 0.328125 -2.859375 0.484375 -2 C 0.765625 -0.421875 2.75 -0.265625 3.984375 -0.484375 C 5.28125 -0.703125 6.046875 -1.640625 6.25 -2.640625 Z M 5.546875 -5.8125 L 5.890625 -3.859375 C 6.21875 -2 4.9375 -1.09375 4.0625 -0.9375 C 3.09375 -0.765625 2.171875 -1.296875 2 -2.28125 C 1.8125 -3.359375 2.34375 -5.125 5.546875 -5.8125 Z M 5.546875 -5.8125 \"/>\n",
       "</g>\n",
       "<g id=\"glyph-2-10\">\n",
       "<path d=\"M 2.078125 -7.96875 L 0.984375 -14.171875 L -1.8125 -13.453125 L -1.703125 -12.84375 C -0.328125 -13.09375 -0.140625 -12.984375 0.015625 -12.015625 L 2.078125 -0.359375 L 2.5625 -0.453125 C 2.578125 -0.46875 2.6875 -0.78125 3.046875 -1.796875 C 3.40625 -1.390625 4.421875 -0.546875 5.859375 -0.8125 C 8.1875 -1.21875 9.890625 -3.5 9.4375 -6.03125 C 9 -8.5 6.75 -10.09375 4.515625 -9.703125 C 3 -9.4375 2.3125 -8.375 2.078125 -7.96875 Z M 3.03125 -2.84375 L 2.3125 -6.875 C 2.25 -7.234375 2.25 -7.25 2.40625 -7.59375 C 2.984375 -8.84375 4.03125 -9.1875 4.484375 -9.265625 C 5.375 -9.421875 6.171875 -9.03125 6.78125 -8.359375 C 7.4375 -7.65625 7.6875 -6.5625 7.828125 -5.765625 C 7.953125 -5.046875 8.109375 -3.859375 7.703125 -2.875 C 7.40625 -2.1875 6.765625 -1.421875 5.71875 -1.234375 C 4.828125 -1.078125 4.046875 -1.40625 3.4375 -2.078125 C 3.109375 -2.421875 3.09375 -2.484375 3.03125 -2.84375 Z M 3.03125 -2.84375 \"/>\n",
       "</g>\n",
       "<g id=\"glyph-2-11\">\n",
       "<path d=\"M 7.375 -2.875 L 7.671875 -1.125 L 10.46875 -1.84375 L 10.359375 -2.4375 C 8.984375 -2.203125 8.8125 -2.3125 8.640625 -3.28125 L 7.40625 -10.21875 L 4.578125 -9.5 L 4.6875 -8.875 C 6.0625 -9.125 6.234375 -9.03125 6.40625 -8.0625 L 7.015625 -4.59375 C 7.328125 -2.875 6.609375 -1.390625 5.1875 -1.140625 C 3.546875 -0.84375 3.3125 -1.765625 3.140625 -2.78125 L 1.984375 -9.265625 L -0.859375 -8.546875 L -0.75 -7.921875 C 0.78125 -8.1875 0.78125 -8.140625 1.09375 -6.390625 L 1.609375 -3.46875 C 1.875 -1.9375 2.1875 -0.15625 5.15625 -0.6875 C 6.25 -0.875 7.015625 -1.59375 7.375 -2.875 Z M 7.375 -2.875 \"/>\n",
       "</g>\n",
       "<g id=\"glyph-3-0\">\n",
       "<path d=\"M 4.171875 -7.0625 L 4.859375 -7.1875 L 8.59375 -3.15625 C 8.84375 -2.890625 9.453125 -2.203125 9.703125 -1.953125 C 9.890625 -1.75 9.953125 -1.75 10.40625 -1.828125 L 13.109375 -2.3125 C 13.453125 -2.375 13.75 -2.421875 13.6875 -2.78125 C 13.65625 -2.921875 13.53125 -3.046875 13.328125 -3.046875 C 12.5625 -3.09375 11.390625 -4.21875 10.828125 -4.75 C 10.65625 -4.921875 9.4375 -6.046875 7.75 -7.921875 C 9.453125 -8.53125 10.984375 -9.59375 10.578125 -11.90625 C 10.09375 -14.640625 7.078125 -15.0625 4.765625 -14.65625 L -1.375 -13.578125 C -1.734375 -13.515625 -2.046875 -13.453125 -1.984375 -13.09375 C -1.921875 -12.75 -1.5625 -12.828125 -1.390625 -12.859375 C -0.28125 -13.046875 -0.171875 -12.9375 0 -11.96875 L 1.734375 -2.15625 C 1.90625 -1.171875 1.828125 -1.015625 0.71875 -0.828125 C 0.546875 -0.796875 0.1875 -0.71875 0.25 -0.40625 C 0.3125 -0.046875 0.625 -0.109375 0.984375 -0.171875 L 6.34375 -1.125 C 6.6875 -1.1875 6.984375 -1.234375 6.921875 -1.59375 C 6.859375 -1.90625 6.515625 -1.84375 6.3125 -1.8125 C 5.203125 -1.609375 5.09375 -1.765625 4.9375 -2.71875 Z M 7.765625 -8.6875 C 8.203125 -9.5 8.0625 -10.5625 7.90625 -11.421875 C 7.75 -12.359375 7.453125 -13.359375 6.671875 -14.0625 C 7.5 -14.03125 9.5625 -13.75 9.90625 -11.78125 C 10.125 -10.515625 9.71875 -9.4375 7.765625 -8.6875 Z M 3.1875 -12.578125 C 3.125 -12.984375 3.015625 -13.625 4.21875 -13.84375 C 5.875 -14.140625 6.8125 -13.609375 7.21875 -11.296875 C 7.671875 -8.78125 7.125 -8.296875 4.046875 -7.75 Z M 2.453125 -1.125 C 2.546875 -1.515625 2.453125 -2.0625 2.421875 -2.234375 L 0.6875 -12.125 C 0.640625 -12.3125 0.5625 -12.84375 0.34375 -13.15625 L 2.578125 -13.546875 C 2.375 -13.203125 2.453125 -12.796875 2.5 -12.5 L 4.25 -2.546875 C 4.28125 -2.359375 4.375 -1.828125 4.578125 -1.5 Z M 5.65625 -7.328125 C 5.796875 -7.375 5.859375 -7.40625 6.03125 -7.4375 C 6.328125 -7.5 6.75 -7.609375 7.03125 -7.703125 C 7.421875 -7.265625 10.140625 -4.171875 12.046875 -2.8125 L 10.140625 -2.484375 Z M 5.65625 -7.328125 \"/>\n",
       "</g>\n",
       "<g id=\"glyph-4-0\">\n",
       "<path d=\"M 6.46875 -3.71875 L 6.015625 -3.640625 C 6.015625 -3.3125 6.015625 -2.5 5.875 -2.328125 C 5.765625 -2.21875 4.71875 -2.046875 4.53125 -2 L 2.015625 -1.5625 C 3.21875 -3.078125 3.625 -3.546875 4.34375 -4.34375 C 5.21875 -5.3125 6 -6.328125 5.78125 -7.640625 C 5.484375 -9.296875 3.875 -10.046875 2.109375 -9.734375 C 0.421875 -9.4375 -0.53125 -8.046875 -0.3125 -6.78125 C -0.1875 -6.09375 0.421875 -6.109375 0.546875 -6.140625 C 0.875 -6.203125 1.234375 -6.5 1.15625 -7 C 1.109375 -7.25 0.921875 -7.71875 0.21875 -7.59375 C 0.453125 -8.640625 1.34375 -9.09375 2 -9.21875 C 3.34375 -9.453125 4.25 -8.515625 4.453125 -7.40625 C 4.65625 -6.21875 3.984375 -5.109375 3.625 -4.53125 L 0.90625 -0.703125 C 0.78125 -0.578125 0.796875 -0.546875 0.859375 -0.15625 L 6.5 -1.140625 Z M 6.46875 -3.71875 \"/>\n",
       "</g>\n",
       "</g>\n",
       "<clipPath id=\"clip-0\">\n",
       "<path clip-rule=\"nonzero\" d=\"M 20 10 L 213 10 L 213 202.539062 L 20 202.539062 Z M 20 10 \"/>\n",
       "</clipPath>\n",
       "</defs>\n",
       "<g clip-path=\"url(#clip-0)\">\n",
       "<path fill=\"none\" stroke-width=\"0.3985\" stroke-linecap=\"butt\" stroke-linejoin=\"miter\" stroke=\"rgb(0%, 0%, 0%)\" stroke-opacity=\"1\" stroke-miterlimit=\"10\" d=\"M 85.040028 -28.346324 L 0.000929623 -0.000610939 L 56.694315 56.692775 \" transform=\"matrix(1.992833, 0, 0, -1.992833, 31.658304, 135.158939)\"/>\n",
       "</g>\n",
       "<g fill=\"rgb(0%, 0%, 0%)\" fill-opacity=\"1\">\n",
       "<use xlink:href=\"#glyph-0-0\" x=\"208.141631\" y=\"195.92242\"/>\n",
       "</g>\n",
       "<g fill=\"rgb(0%, 0%, 0%)\" fill-opacity=\"1\">\n",
       "<use xlink:href=\"#glyph-0-1\" x=\"13.613198\" y=\"142.054142\"/>\n",
       "</g>\n",
       "<g fill=\"rgb(0%, 0%, 0%)\" fill-opacity=\"1\">\n",
       "<use xlink:href=\"#glyph-0-2\" x=\"151.652777\" y=\"15.166458\"/>\n",
       "</g>\n",
       "<path fill=\"none\" stroke-width=\"0.3985\" stroke-linecap=\"butt\" stroke-linejoin=\"miter\" stroke=\"rgb(100%, 50%, 0%)\" stroke-opacity=\"1\" stroke-miterlimit=\"10\" d=\"M 27.035303 -8.529219 C 30.28523 1.220562 27.635108 12.452215 20.368836 19.720447 \" transform=\"matrix(1.992833, 0, 0, -1.992833, 31.658304, 135.158939)\"/>\n",
       "<path fill=\"none\" stroke-width=\"0.31879\" stroke-linecap=\"round\" stroke-linejoin=\"round\" stroke=\"rgb(100%, 50%, 0%)\" stroke-opacity=\"1\" stroke-miterlimit=\"10\" d=\"M -1.196381 1.594673 C -1.095967 0.995864 0.000596795 0.098877 0.29814 -0.000308302 C 0.000594286 -0.099486 -1.095373 -0.995825 -1.195802 -1.593392 \" transform=\"matrix(-0.630134, 1.890481, 1.890481, 0.630134, 85.536107, 152.155316)\"/>\n",
       "<path fill=\"none\" stroke-width=\"0.31879\" stroke-linecap=\"round\" stroke-linejoin=\"round\" stroke=\"rgb(100%, 50%, 0%)\" stroke-opacity=\"1\" stroke-miterlimit=\"10\" d=\"M -1.194985 1.593366 C -1.096576 0.995979 -0.000211913 0.0992062 0.299174 -0.000589243 C -0.000211913 -0.100385 -1.09519 -0.995772 -1.194985 -1.594544 \" transform=\"matrix(-1.409132, -1.409132, -1.409132, 1.409132, 72.248871, 95.859907)\"/>\n",
       "<g fill=\"rgb(0%, 0%, 0%)\" fill-opacity=\"1\">\n",
       "<use xlink:href=\"#glyph-1-0\" x=\"91.242027\" y=\"123.861567\"/>\n",
       "</g>\n",
       "<g fill=\"rgb(0%, 0%, 0%)\" fill-opacity=\"1\">\n",
       "<use xlink:href=\"#glyph-2-0\" x=\"74.789195\" y=\"121.982325\"/>\n",
       "<use xlink:href=\"#glyph-2-1\" x=\"85.65252\" y=\"120.066831\"/>\n",
       "<use xlink:href=\"#glyph-2-2\" x=\"95.428731\" y=\"118.343025\"/>\n",
       "<use xlink:href=\"#glyph-2-3\" x=\"111.721763\" y=\"115.470129\"/>\n",
       "<use xlink:href=\"#glyph-2-4\" x=\"120.410859\" y=\"113.93801\"/>\n",
       "<use xlink:href=\"#glyph-2-5\" x=\"128.014795\" y=\"112.597234\"/>\n",
       "<use xlink:href=\"#glyph-2-6\" x=\"138.87812\" y=\"110.68174\"/>\n",
       "<use xlink:href=\"#glyph-2-7\" x=\"144.309782\" y=\"109.723993\"/>\n",
       "<use xlink:href=\"#glyph-2-8\" x=\"155.173107\" y=\"107.8085\"/>\n",
       "</g>\n",
       "<g fill=\"rgb(0%, 0%, 0%)\" fill-opacity=\"1\">\n",
       "<use xlink:href=\"#glyph-2-9\" x=\"171.460274\" y=\"104.936638\"/>\n",
       "<use xlink:href=\"#glyph-2-10\" x=\"181.236484\" y=\"103.212832\"/>\n",
       "</g>\n",
       "<g fill=\"rgb(0%, 0%, 0%)\" fill-opacity=\"1\">\n",
       "<use xlink:href=\"#glyph-2-1\" x=\"192.647277\" y=\"101.200805\"/>\n",
       "<use xlink:href=\"#glyph-2-11\" x=\"202.423487\" y=\"99.476999\"/>\n",
       "<use xlink:href=\"#glyph-2-4\" x=\"213.286812\" y=\"97.561506\"/>\n",
       "</g>\n",
       "<g fill=\"rgb(0%, 0%, 0%)\" fill-opacity=\"1\">\n",
       "<use xlink:href=\"#glyph-2-6\" x=\"227.401704\" y=\"95.072674\"/>\n",
       "<use xlink:href=\"#glyph-2-7\" x=\"232.833367\" y=\"94.114927\"/>\n",
       "</g>\n",
       "<g fill=\"rgb(0%, 0%, 0%)\" fill-opacity=\"1\">\n",
       "<use xlink:href=\"#glyph-3-0\" x=\"250.218524\" y=\"91.049461\"/>\n",
       "</g>\n",
       "<g fill=\"rgb(0%, 0%, 0%)\" fill-opacity=\"1\">\n",
       "<use xlink:href=\"#glyph-4-0\" x=\"263.090274\" y=\"81.464511\"/>\n",
       "</g>\n",
       "</svg>"
      ],
      "text/plain": [
       "<IPython.core.display.SVG object>"
      ]
     },
     "execution_count": 53,
     "metadata": {},
     "output_type": "execute_result"
    }
   ],
   "source": [
    "tex_document.run_latex(save_image=\"outputs/angle\")"
   ]
  },
  {
   "cell_type": "markdown",
   "metadata": {},
   "source": [
    "And save the code to a file:"
   ]
  },
  {
   "cell_type": "code",
   "execution_count": 54,
   "metadata": {},
   "outputs": [
    {
     "data": {
      "image/svg+xml": [
       "<svg xmlns=\"http://www.w3.org/2000/svg\" xmlns:xlink=\"http://www.w3.org/1999/xlink\" width=\"288.722\" height=\"203.269\" viewBox=\"0 0 288.722 203.269\">\n",
       "<defs>\n",
       "<g>\n",
       "<g id=\"glyph-0-0\">\n",
       "<path d=\"M 6.609375 -1.515625 C 6.6875 -0.71875 7.234375 0.125 8.15625 0.125 C 8.578125 0.125 9.796875 -0.15625 9.796875 -1.765625 L 9.796875 -2.875 L 9.296875 -2.875 L 9.296875 -1.765625 C 9.296875 -0.609375 8.796875 -0.5 8.578125 -0.5 C 7.921875 -0.5 7.84375 -1.390625 7.84375 -1.484375 L 7.84375 -5.46875 C 7.84375 -6.296875 7.84375 -7.0625 7.125 -7.8125 C 6.359375 -8.578125 5.359375 -8.890625 4.40625 -8.890625 C 2.78125 -8.890625 1.40625 -7.96875 1.40625 -6.65625 C 1.40625 -6.0625 1.8125 -5.71875 2.328125 -5.71875 C 2.875 -5.71875 3.234375 -6.109375 3.234375 -6.640625 C 3.234375 -6.875 3.140625 -7.53125 2.21875 -7.546875 C 2.765625 -8.234375 3.734375 -8.453125 4.375 -8.453125 C 5.34375 -8.453125 6.46875 -7.6875 6.46875 -5.921875 L 6.46875 -5.1875 C 5.46875 -5.125 4.078125 -5.0625 2.8125 -4.46875 C 1.328125 -3.796875 0.828125 -2.765625 0.828125 -1.890625 C 0.828125 -0.28125 2.765625 0.21875 4.015625 0.21875 C 5.328125 0.21875 6.234375 -0.578125 6.609375 -1.515625 Z M 6.46875 -4.765625 L 6.46875 -2.78125 C 6.46875 -0.890625 5.046875 -0.21875 4.15625 -0.21875 C 3.171875 -0.21875 2.359375 -0.90625 2.359375 -1.90625 C 2.359375 -3 3.203125 -4.640625 6.46875 -4.765625 Z M 6.46875 -4.765625 \"/>\n",
       "</g>\n",
       "<g id=\"glyph-0-1\">\n",
       "<path d=\"M 3.421875 -7.484375 L 3.421875 -13.78125 L 0.5625 -13.5625 L 0.5625 -12.953125 C 1.953125 -12.953125 2.109375 -12.8125 2.109375 -11.84375 L 2.109375 0 L 2.609375 0 C 2.625 -0.015625 2.78125 -0.296875 3.3125 -1.234375 C 3.609375 -0.78125 4.453125 0.21875 5.921875 0.21875 C 8.28125 0.21875 10.34375 -1.734375 10.34375 -4.296875 C 10.34375 -6.8125 8.40625 -8.78125 6.140625 -8.78125 C 4.59375 -8.78125 3.734375 -7.84375 3.421875 -7.484375 Z M 3.46875 -2.265625 L 3.46875 -6.359375 C 3.46875 -6.734375 3.46875 -6.75 3.6875 -7.0625 C 4.46875 -8.1875 5.5625 -8.34375 6.03125 -8.34375 C 6.9375 -8.34375 7.640625 -7.828125 8.125 -7.0625 C 8.640625 -6.25 8.703125 -5.125 8.703125 -4.3125 C 8.703125 -3.578125 8.65625 -2.390625 8.078125 -1.484375 C 7.671875 -0.875 6.90625 -0.21875 5.84375 -0.21875 C 4.9375 -0.21875 4.234375 -0.6875 3.75 -1.4375 C 3.46875 -1.84375 3.46875 -1.90625 3.46875 -2.265625 Z M 3.46875 -2.265625 \"/>\n",
       "</g>\n",
       "<g id=\"glyph-0-2\">\n",
       "<path d=\"M 2.328125 -4.328125 C 2.328125 -7.5625 3.953125 -8.40625 5 -8.40625 C 5.1875 -8.40625 6.4375 -8.375 7.125 -7.671875 C 6.3125 -7.609375 6.203125 -7.015625 6.203125 -6.75 C 6.203125 -6.234375 6.546875 -5.84375 7.109375 -5.84375 C 7.625 -5.84375 8.015625 -6.171875 8.015625 -6.765625 C 8.015625 -8.125 6.515625 -8.890625 4.984375 -8.890625 C 2.5 -8.890625 0.671875 -6.75 0.671875 -4.296875 C 0.671875 -1.75 2.640625 0.21875 4.9375 0.21875 C 7.609375 0.21875 8.234375 -2.171875 8.234375 -2.359375 C 8.234375 -2.5625 8.046875 -2.5625 7.984375 -2.5625 C 7.8125 -2.5625 7.765625 -2.484375 7.71875 -2.359375 C 7.15625 -0.515625 5.859375 -0.28125 5.125 -0.28125 C 4.078125 -0.28125 2.328125 -1.125 2.328125 -4.328125 Z M 2.328125 -4.328125 \"/>\n",
       "</g>\n",
       "<g id=\"glyph-1-0\">\n",
       "<path d=\"M 9.46875 -4.6875 C 9.46875 -7.8125 7.625 -8.78125 6.15625 -8.78125 C 3.4375 -8.78125 0.8125 -5.9375 0.8125 -3.140625 C 0.8125 -1.296875 2 0.21875 4.03125 0.21875 C 5.28125 0.21875 6.71875 -0.234375 8.21875 -1.453125 C 8.484375 -0.390625 9.140625 0.21875 10.03125 0.21875 C 11.078125 0.21875 11.703125 -0.875 11.703125 -1.1875 C 11.703125 -1.328125 11.578125 -1.390625 11.453125 -1.390625 C 11.3125 -1.390625 11.265625 -1.328125 11.203125 -1.1875 C 10.84375 -0.21875 10.125 -0.21875 10.09375 -0.21875 C 9.46875 -0.21875 9.46875 -1.765625 9.46875 -2.25 C 9.46875 -2.65625 9.46875 -2.703125 9.671875 -2.9375 C 11.53125 -5.28125 11.953125 -7.59375 11.953125 -7.609375 C 11.953125 -7.640625 11.9375 -7.8125 11.71875 -7.8125 C 11.515625 -7.8125 11.515625 -7.75 11.421875 -7.390625 C 11.0625 -6.140625 10.40625 -4.625 9.46875 -3.453125 Z M 8.140625 -1.96875 C 6.390625 -0.4375 4.859375 -0.21875 4.078125 -0.21875 C 2.875 -0.21875 2.28125 -1.109375 2.28125 -2.390625 C 2.28125 -3.359375 2.796875 -5.5 3.4375 -6.515625 C 4.375 -7.96875 5.4375 -8.34375 6.140625 -8.34375 C 8.109375 -8.34375 8.109375 -5.734375 8.109375 -4.1875 C 8.109375 -3.453125 8.109375 -2.296875 8.140625 -1.96875 Z M 8.140625 -1.96875 \"/>\n",
       "</g>\n",
       "<g id=\"glyph-2-0\">\n",
       "<path d=\"M 5.484375 -8.796875 L 2.875 -8.96875 C 1.609375 -9.046875 0.671875 -9.96875 0.46875 -11.09375 C 0.234375 -12.46875 1.078125 -13.828125 2.59375 -14.109375 C 5.875 -14.6875 6.859375 -11.546875 7.125 -10.703125 C 7.15625 -10.578125 7.171875 -10.46875 7.390625 -10.5 C 7.65625 -10.546875 7.640625 -10.640625 7.578125 -11.015625 L 6.890625 -14.953125 C 6.828125 -15.28125 6.796875 -15.40625 6.578125 -15.375 C 6.4375 -15.34375 6.4375 -15.328125 6.328125 -15.078125 L 5.84375 -13.84375 C 5.15625 -14.296875 4.203125 -14.953125 2.46875 -14.640625 C 0.296875 -14.265625 -1.03125 -12.25 -0.671875 -10.171875 C -0.375 -8.5625 0.921875 -7.3125 2.53125 -7.0625 C 2.75 -7.03125 3.78125 -6.96875 5.21875 -6.859375 C 5.765625 -6.8125 6.390625 -6.796875 7.046875 -6.15625 C 7.5625 -5.734375 7.875 -5.109375 7.984375 -4.46875 C 8.234375 -3.078125 7.5 -1.5 5.859375 -1.21875 C 5.296875 -1.109375 3.78125 -0.953125 2.578125 -1.734375 C 1.25 -2.59375 0.96875 -3.828125 0.828125 -4.53125 C 0.78125 -4.734375 0.640625 -4.703125 0.578125 -4.6875 C 0.3125 -4.640625 0.328125 -4.5 0.390625 -4.140625 L 1.078125 -0.234375 C 1.140625 0.109375 1.171875 0.25 1.390625 0.203125 C 1.53125 0.1875 1.53125 0.140625 1.625 -0.109375 C 1.625 -0.125 1.671875 -0.203125 2.140625 -1.34375 C 2.859375 -0.796875 4.25 -0.296875 5.984375 -0.609375 C 8.28125 -1.015625 9.484375 -3.21875 9.109375 -5.34375 C 8.765625 -7.3125 7.203125 -8.703125 5.484375 -8.796875 Z M 5.484375 -8.796875 \"/>\n",
       "</g>\n",
       "<g id=\"glyph-2-1\">\n",
       "<path d=\"M 8.484375 -5.8125 C 8.03125 -8.3125 5.71875 -10.03125 3.34375 -9.609375 C 0.90625 -9.1875 -0.625 -6.71875 -0.1875 -4.28125 C 0.25 -1.75 2.609375 -0.234375 4.890625 -0.640625 C 7.265625 -1.0625 8.921875 -3.328125 8.484375 -5.8125 Z M 4.84375 -1.140625 C 4 -1 3.0625 -1.234375 2.375 -2.046875 C 1.734375 -2.828125 1.53125 -4 1.40625 -4.71875 C 1.265625 -5.484375 1.09375 -6.53125 1.40625 -7.484375 C 1.78125 -8.484375 2.625 -9.046875 3.390625 -9.1875 C 4.25 -9.34375 5.1875 -9.046875 5.828125 -8.3125 C 6.5 -7.5625 6.703125 -6.421875 6.828125 -5.6875 C 6.953125 -4.96875 7.140625 -3.921875 6.859375 -2.984375 C 6.5625 -2.03125 5.8125 -1.3125 4.84375 -1.140625 Z M 4.84375 -1.140625 \"/>\n",
       "</g>\n",
       "<g id=\"glyph-2-2\">\n",
       "<path d=\"M 0.96875 -7.09375 L 1.890625 -1.875 C 2.046875 -0.96875 1.828125 -0.9375 0.515625 -0.703125 L 0.625 -0.109375 C 1.3125 -0.25 2.296875 -0.46875 2.8125 -0.5625 C 3.328125 -0.65625 4.359375 -0.78125 5.03125 -0.890625 L 4.921875 -1.484375 C 3.59375 -1.25 3.40625 -1.21875 3.25 -2.125 L 2.625 -5.703125 C 2.265625 -7.75 3.4375 -9.078125 4.6875 -9.296875 C 5.921875 -9.515625 6.328125 -8.5 6.53125 -7.390625 L 7.328125 -2.84375 C 7.484375 -1.9375 7.265625 -1.890625 5.953125 -1.65625 L 6.0625 -1.0625 C 6.734375 -1.203125 7.71875 -1.421875 8.265625 -1.515625 C 8.765625 -1.609375 9.796875 -1.75 10.46875 -1.84375 L 10.359375 -2.4375 C 9.046875 -2.203125 8.828125 -2.171875 8.671875 -3.078125 L 8.046875 -6.65625 C 7.6875 -8.703125 8.875 -10.046875 10.125 -10.265625 C 11.359375 -10.484375 11.75 -9.453125 11.953125 -8.34375 L 12.75 -3.796875 C 12.90625 -2.890625 12.703125 -2.859375 11.390625 -2.625 L 11.5 -2.03125 C 12.1875 -2.171875 13.171875 -2.390625 13.6875 -2.484375 C 14.203125 -2.5625 15.234375 -2.703125 15.890625 -2.796875 L 15.78125 -3.390625 C 14.765625 -3.21875 14.28125 -3.125 14.15625 -3.734375 L 13.5 -7.453125 C 13.203125 -9.140625 13.109375 -9.75 12.375 -10.34375 C 12.046875 -10.625 11.3125 -10.90625 10.171875 -10.703125 C 8.546875 -10.421875 7.90625 -9.109375 7.6875 -8.28125 C 7.125 -9.953125 5.625 -9.90625 4.75 -9.75 C 3.3125 -9.5 2.546875 -8.484375 2.234375 -7.171875 L 1.859375 -9.234375 L -0.859375 -8.546875 L -0.75 -7.921875 C 0.625 -8.171875 0.796875 -8.0625 0.96875 -7.09375 Z M 0.96875 -7.09375 \"/>\n",
       "</g>\n",
       "<g id=\"glyph-2-3\">\n",
       "<path d=\"M 1.3125 -5.3125 C 0.921875 -8.25 2.484375 -9.03125 3.140625 -9.140625 C 5.15625 -9.5 5.828125 -6.890625 5.953125 -6.125 Z M 1.375 -4.90625 L 6.828125 -5.875 C 7.265625 -5.953125 7.3125 -5.96875 7.234375 -6.359375 C 6.90625 -8.296875 5.515625 -10 3.0625 -9.5625 C 0.8125 -9.171875 -0.640625 -6.828125 -0.21875 -4.40625 C 0.25 -1.765625 2.625 -0.234375 4.875 -0.640625 C 7.265625 -1.0625 7.765625 -3.390625 7.703125 -3.765625 C 7.671875 -3.96875 7.5 -3.96875 7.40625 -3.953125 C 7.234375 -3.921875 7.203125 -3.796875 7.1875 -3.640625 C 6.875 -1.5 5.125 -1.1875 4.921875 -1.15625 C 3.9375 -0.984375 3.046875 -1.421875 2.46875 -2.0625 C 1.734375 -2.90625 1.5 -4.1875 1.375 -4.90625 Z M 1.375 -4.90625 \"/>\n",
       "</g>\n",
       "<g id=\"glyph-2-4\">\n",
       "<path d=\"M 2.015625 -8.40625 L 4.8125 -8.90625 L 4.703125 -9.53125 L 1.90625 -9.03125 L 1.265625 -12.625 L 0.765625 -12.546875 C 1.03125 -10.921875 0.828125 -8.734375 -1.078125 -8.3125 L -1 -7.875 L 0.65625 -8.171875 L 1.609375 -2.796875 C 2.03125 -0.375 3.875 -0.453125 4.59375 -0.578125 C 5.96875 -0.828125 6.296875 -2.3125 6.078125 -3.578125 L 5.875 -4.6875 L 5.375 -4.609375 L 5.5625 -3.53125 C 5.828125 -2.078125 5.375 -1.234375 4.640625 -1.109375 C 3.34375 -0.875 3.03125 -2.640625 2.96875 -2.984375 Z M 2.015625 -8.40625 \"/>\n",
       "</g>\n",
       "<g id=\"glyph-2-5\">\n",
       "<path d=\"M 1.890625 -1.875 C 2.046875 -0.96875 1.828125 -0.9375 0.515625 -0.703125 L 0.625 -0.109375 C 1.3125 -0.25 2.296875 -0.46875 2.8125 -0.5625 C 3.328125 -0.65625 4.359375 -0.78125 5.03125 -0.890625 L 4.921875 -1.484375 C 3.59375 -1.25 3.40625 -1.21875 3.25 -2.125 L 2.625 -5.703125 C 2.265625 -7.75 3.4375 -9.078125 4.6875 -9.296875 C 5.921875 -9.515625 6.328125 -8.5 6.53125 -7.390625 L 7.328125 -2.84375 C 7.484375 -1.9375 7.265625 -1.890625 5.953125 -1.65625 L 6.0625 -1.0625 C 6.734375 -1.203125 7.71875 -1.421875 8.265625 -1.515625 C 8.765625 -1.609375 9.796875 -1.75 10.46875 -1.84375 L 10.359375 -2.4375 C 9.34375 -2.265625 8.84375 -2.171875 8.71875 -2.78125 L 8.0625 -6.5 C 7.765625 -8.1875 7.671875 -8.796875 6.9375 -9.390625 C 6.609375 -9.671875 5.890625 -9.953125 4.75 -9.75 C 3.09375 -9.453125 2.453125 -8.15625 2.265625 -7.328125 L 1.0625 -14.1875 L -1.734375 -13.46875 L -1.625 -12.859375 C -0.25 -13.109375 -0.0625 -13 0.09375 -12.03125 Z M 1.890625 -1.875 \"/>\n",
       "</g>\n",
       "<g id=\"glyph-2-6\">\n",
       "<path d=\"M 1.9375 -9.25 L -0.765625 -8.5625 L -0.65625 -7.9375 C 0.625 -8.171875 0.8125 -8.078125 0.984375 -7.109375 L 1.90625 -1.875 C 2.0625 -0.96875 1.84375 -0.9375 0.53125 -0.703125 L 0.640625 -0.109375 C 1.28125 -0.234375 2.3125 -0.46875 2.78125 -0.5625 C 3.46875 -0.671875 4.171875 -0.75 4.828125 -0.859375 L 4.71875 -1.453125 C 3.4375 -1.21875 3.34375 -1.3125 3.21875 -2.078125 Z M 1.421875 -12.671875 C 1.3125 -13.296875 0.734375 -13.609375 0.203125 -13.515625 C -0.421875 -13.40625 -0.75 -12.8125 -0.65625 -12.296875 C -0.5625 -11.78125 -0.046875 -11.34375 0.578125 -11.453125 C 1.109375 -11.546875 1.53125 -12.046875 1.421875 -12.671875 Z M 1.421875 -12.671875 \"/>\n",
       "</g>\n",
       "<g id=\"glyph-2-7\">\n",
       "<path d=\"M 0.96875 -7.09375 L 1.890625 -1.875 C 2.046875 -0.96875 1.828125 -0.9375 0.515625 -0.703125 L 0.625 -0.109375 C 1.3125 -0.25 2.296875 -0.46875 2.8125 -0.5625 C 3.328125 -0.65625 4.359375 -0.78125 5.03125 -0.890625 L 4.921875 -1.484375 C 3.59375 -1.25 3.40625 -1.21875 3.25 -2.125 L 2.625 -5.703125 C 2.265625 -7.75 3.4375 -9.078125 4.6875 -9.296875 C 5.921875 -9.515625 6.328125 -8.5 6.53125 -7.390625 L 7.328125 -2.84375 C 7.484375 -1.9375 7.265625 -1.890625 5.953125 -1.65625 L 6.0625 -1.0625 C 6.734375 -1.203125 7.71875 -1.421875 8.265625 -1.515625 C 8.765625 -1.609375 9.796875 -1.75 10.46875 -1.84375 L 10.359375 -2.4375 C 9.34375 -2.265625 8.84375 -2.171875 8.71875 -2.78125 L 8.0625 -6.5 C 7.765625 -8.1875 7.671875 -8.796875 6.9375 -9.390625 C 6.609375 -9.671875 5.890625 -9.953125 4.75 -9.75 C 3.3125 -9.5 2.546875 -8.484375 2.234375 -7.171875 L 1.859375 -9.234375 L -0.859375 -8.546875 L -0.75 -7.921875 C 0.625 -8.171875 0.796875 -8.0625 0.96875 -7.09375 Z M 0.96875 -7.09375 \"/>\n",
       "</g>\n",
       "<g id=\"glyph-2-8\">\n",
       "<path d=\"M 3.75 -4.140625 C 2.046875 -3.84375 1.703125 -5.796875 1.625 -6.234375 C 1.53125 -6.765625 1.4375 -7.390625 1.640625 -7.9375 C 1.765625 -8.1875 2.09375 -8.828125 2.890625 -8.96875 C 4.59375 -9.265625 4.953125 -7.296875 5.03125 -6.84375 C 5.125 -6.328125 5.203125 -5.6875 4.984375 -5.15625 C 4.875 -4.890625 4.53125 -4.28125 3.75 -4.140625 Z M 1.625 -2.953125 C 1.609375 -3.03125 1.53125 -3.484375 1.78125 -3.953125 C 2.640625 -3.53125 3.453125 -3.609375 3.828125 -3.671875 C 5.640625 -3.984375 6.765625 -5.59375 6.5 -7.09375 C 6.375 -7.828125 5.9375 -8.484375 5.359375 -8.84375 C 5.953125 -9.640625 6.625 -9.875 6.984375 -9.9375 C 7.03125 -9.9375 7.125 -9.953125 7.171875 -9.953125 C 6.984375 -9.8125 6.921875 -9.578125 6.96875 -9.34375 C 7.03125 -9.03125 7.328125 -8.828125 7.640625 -8.890625 C 7.828125 -8.921875 8.171875 -9.125 8.09375 -9.5625 C 8.03125 -9.90625 7.6875 -10.484375 6.9375 -10.359375 C 6.53125 -10.28125 5.6875 -10.015625 5.015625 -9.0625 C 4.078125 -9.578125 3.234375 -9.484375 2.8125 -9.40625 C 1 -9.078125 -0.109375 -7.5 0.15625 -5.984375 C 0.296875 -5.125 0.859375 -4.46875 1.421875 -4.140625 C 1.21875 -3.8125 1 -3.09375 1.125 -2.421875 C 1.234375 -1.796875 1.59375 -1.109375 2.28125 -0.84375 C 1.15625 -0.28125 0.6875 0.671875 0.8125 1.4375 C 1.0625 2.859375 3.1875 3.59375 5.5625 3.171875 C 7.875 2.765625 9.75 1.40625 9.484375 -0.109375 C 9.359375 -0.8125 8.90625 -1.75 7.8125 -2.125 C 6.6875 -2.5 5.546875 -2.296875 4.34375 -2.09375 C 3.875 -2 3.03125 -1.859375 2.875 -1.84375 C 2.25 -1.8125 1.734375 -2.328125 1.625 -2.953125 Z M 5.515625 2.71875 C 3.53125 3.0625 2.015625 2.296875 1.828125 1.25 C 1.671875 0.359375 2.296875 -0.484375 3.140625 -0.703125 L 4.296875 -0.90625 C 5.96875 -1.203125 8.171875 -1.59375 8.46875 0.078125 C 8.65625 1.140625 7.421875 2.375 5.515625 2.71875 Z M 5.515625 2.71875 \"/>\n",
       "</g>\n",
       "<g id=\"glyph-2-9\">\n",
       "<path d=\"M 6.25 -2.640625 C 6.453125 -1.859375 7.140625 -1.125 8.046875 -1.296875 C 8.46875 -1.359375 9.609375 -1.859375 9.328125 -3.4375 L 9.140625 -4.53125 L 8.65625 -4.4375 L 8.84375 -3.34375 C 9.046875 -2.203125 8.5625 -2.03125 8.359375 -1.984375 C 7.703125 -1.875 7.484375 -2.734375 7.46875 -2.828125 L 6.765625 -6.75 C 6.625 -7.5625 6.5 -8.3125 5.65625 -8.921875 C 4.78125 -9.5625 3.734375 -9.6875 2.796875 -9.515625 C 1.1875 -9.234375 0 -8.09375 0.234375 -6.8125 C 0.34375 -6.21875 0.78125 -5.9375 1.296875 -6.03125 C 1.828125 -6.125 2.125 -6.578125 2.03125 -7.109375 C 2 -7.328125 1.78125 -7.96875 0.875 -7.828125 C 1.28125 -8.59375 2.203125 -8.984375 2.84375 -9.09375 C 3.796875 -9.25 5.046875 -8.703125 5.34375 -6.953125 L 5.46875 -6.234375 C 4.5 -6 3.140625 -5.6875 1.984375 -4.890625 C 0.65625 -3.96875 0.328125 -2.859375 0.484375 -2 C 0.765625 -0.421875 2.75 -0.265625 3.984375 -0.484375 C 5.28125 -0.703125 6.046875 -1.640625 6.25 -2.640625 Z M 5.546875 -5.8125 L 5.890625 -3.859375 C 6.21875 -2 4.9375 -1.09375 4.0625 -0.9375 C 3.09375 -0.765625 2.171875 -1.296875 2 -2.28125 C 1.8125 -3.359375 2.34375 -5.125 5.546875 -5.8125 Z M 5.546875 -5.8125 \"/>\n",
       "</g>\n",
       "<g id=\"glyph-2-10\">\n",
       "<path d=\"M 2.078125 -7.96875 L 0.984375 -14.171875 L -1.8125 -13.453125 L -1.703125 -12.84375 C -0.328125 -13.09375 -0.140625 -12.984375 0.015625 -12.015625 L 2.078125 -0.359375 L 2.5625 -0.453125 C 2.578125 -0.46875 2.6875 -0.78125 3.046875 -1.796875 C 3.40625 -1.390625 4.421875 -0.546875 5.859375 -0.8125 C 8.1875 -1.21875 9.890625 -3.5 9.4375 -6.03125 C 9 -8.5 6.75 -10.09375 4.515625 -9.703125 C 3 -9.4375 2.3125 -8.375 2.078125 -7.96875 Z M 3.03125 -2.84375 L 2.3125 -6.875 C 2.25 -7.234375 2.25 -7.25 2.40625 -7.59375 C 2.984375 -8.84375 4.03125 -9.1875 4.484375 -9.265625 C 5.375 -9.421875 6.171875 -9.03125 6.78125 -8.359375 C 7.4375 -7.65625 7.6875 -6.5625 7.828125 -5.765625 C 7.953125 -5.046875 8.109375 -3.859375 7.703125 -2.875 C 7.40625 -2.1875 6.765625 -1.421875 5.71875 -1.234375 C 4.828125 -1.078125 4.046875 -1.40625 3.4375 -2.078125 C 3.109375 -2.421875 3.09375 -2.484375 3.03125 -2.84375 Z M 3.03125 -2.84375 \"/>\n",
       "</g>\n",
       "<g id=\"glyph-2-11\">\n",
       "<path d=\"M 7.375 -2.875 L 7.671875 -1.125 L 10.46875 -1.84375 L 10.359375 -2.4375 C 8.984375 -2.203125 8.8125 -2.3125 8.640625 -3.28125 L 7.40625 -10.21875 L 4.578125 -9.5 L 4.6875 -8.875 C 6.0625 -9.125 6.234375 -9.03125 6.40625 -8.0625 L 7.015625 -4.59375 C 7.328125 -2.875 6.609375 -1.390625 5.1875 -1.140625 C 3.546875 -0.84375 3.3125 -1.765625 3.140625 -2.78125 L 1.984375 -9.265625 L -0.859375 -8.546875 L -0.75 -7.921875 C 0.78125 -8.1875 0.78125 -8.140625 1.09375 -6.390625 L 1.609375 -3.46875 C 1.875 -1.9375 2.1875 -0.15625 5.15625 -0.6875 C 6.25 -0.875 7.015625 -1.59375 7.375 -2.875 Z M 7.375 -2.875 \"/>\n",
       "</g>\n",
       "<g id=\"glyph-3-0\">\n",
       "<path d=\"M 4.171875 -7.0625 L 4.859375 -7.1875 L 8.59375 -3.15625 C 8.84375 -2.890625 9.453125 -2.203125 9.703125 -1.953125 C 9.890625 -1.75 9.953125 -1.75 10.40625 -1.828125 L 13.109375 -2.3125 C 13.453125 -2.375 13.75 -2.421875 13.6875 -2.78125 C 13.65625 -2.921875 13.53125 -3.046875 13.328125 -3.046875 C 12.5625 -3.09375 11.390625 -4.21875 10.828125 -4.75 C 10.65625 -4.921875 9.4375 -6.046875 7.75 -7.921875 C 9.453125 -8.53125 10.984375 -9.59375 10.578125 -11.90625 C 10.09375 -14.640625 7.078125 -15.0625 4.765625 -14.65625 L -1.375 -13.578125 C -1.734375 -13.515625 -2.046875 -13.453125 -1.984375 -13.09375 C -1.921875 -12.75 -1.5625 -12.828125 -1.390625 -12.859375 C -0.28125 -13.046875 -0.171875 -12.9375 0 -11.96875 L 1.734375 -2.15625 C 1.90625 -1.171875 1.828125 -1.015625 0.71875 -0.828125 C 0.546875 -0.796875 0.1875 -0.71875 0.25 -0.40625 C 0.3125 -0.046875 0.625 -0.109375 0.984375 -0.171875 L 6.34375 -1.125 C 6.6875 -1.1875 6.984375 -1.234375 6.921875 -1.59375 C 6.859375 -1.90625 6.515625 -1.84375 6.3125 -1.8125 C 5.203125 -1.609375 5.09375 -1.765625 4.9375 -2.71875 Z M 7.765625 -8.6875 C 8.203125 -9.5 8.0625 -10.5625 7.90625 -11.421875 C 7.75 -12.359375 7.453125 -13.359375 6.671875 -14.0625 C 7.5 -14.03125 9.5625 -13.75 9.90625 -11.78125 C 10.125 -10.515625 9.71875 -9.4375 7.765625 -8.6875 Z M 3.1875 -12.578125 C 3.125 -12.984375 3.015625 -13.625 4.21875 -13.84375 C 5.875 -14.140625 6.8125 -13.609375 7.21875 -11.296875 C 7.671875 -8.78125 7.125 -8.296875 4.046875 -7.75 Z M 2.453125 -1.125 C 2.546875 -1.515625 2.453125 -2.0625 2.421875 -2.234375 L 0.6875 -12.125 C 0.640625 -12.3125 0.5625 -12.84375 0.34375 -13.15625 L 2.578125 -13.546875 C 2.375 -13.203125 2.453125 -12.796875 2.5 -12.5 L 4.25 -2.546875 C 4.28125 -2.359375 4.375 -1.828125 4.578125 -1.5 Z M 5.65625 -7.328125 C 5.796875 -7.375 5.859375 -7.40625 6.03125 -7.4375 C 6.328125 -7.5 6.75 -7.609375 7.03125 -7.703125 C 7.421875 -7.265625 10.140625 -4.171875 12.046875 -2.8125 L 10.140625 -2.484375 Z M 5.65625 -7.328125 \"/>\n",
       "</g>\n",
       "<g id=\"glyph-4-0\">\n",
       "<path d=\"M 6.46875 -3.71875 L 6.015625 -3.640625 C 6.015625 -3.3125 6.015625 -2.5 5.875 -2.328125 C 5.765625 -2.21875 4.71875 -2.046875 4.53125 -2 L 2.015625 -1.5625 C 3.21875 -3.078125 3.625 -3.546875 4.34375 -4.34375 C 5.21875 -5.3125 6 -6.328125 5.78125 -7.640625 C 5.484375 -9.296875 3.875 -10.046875 2.109375 -9.734375 C 0.421875 -9.4375 -0.53125 -8.046875 -0.3125 -6.78125 C -0.1875 -6.09375 0.421875 -6.109375 0.546875 -6.140625 C 0.875 -6.203125 1.234375 -6.5 1.15625 -7 C 1.109375 -7.25 0.921875 -7.71875 0.21875 -7.59375 C 0.453125 -8.640625 1.34375 -9.09375 2 -9.21875 C 3.34375 -9.453125 4.25 -8.515625 4.453125 -7.40625 C 4.65625 -6.21875 3.984375 -5.109375 3.625 -4.53125 L 0.90625 -0.703125 C 0.78125 -0.578125 0.796875 -0.546875 0.859375 -0.15625 L 6.5 -1.140625 Z M 6.46875 -3.71875 \"/>\n",
       "</g>\n",
       "</g>\n",
       "<clipPath id=\"clip-0\">\n",
       "<path clip-rule=\"nonzero\" d=\"M 20 10 L 213 10 L 213 202.539062 L 20 202.539062 Z M 20 10 \"/>\n",
       "</clipPath>\n",
       "</defs>\n",
       "<g clip-path=\"url(#clip-0)\">\n",
       "<path fill=\"none\" stroke-width=\"0.3985\" stroke-linecap=\"butt\" stroke-linejoin=\"miter\" stroke=\"rgb(0%, 0%, 0%)\" stroke-opacity=\"1\" stroke-miterlimit=\"10\" d=\"M 85.040028 -28.346324 L 0.000929623 -0.000610939 L 56.694315 56.692775 \" transform=\"matrix(1.992833, 0, 0, -1.992833, 31.658304, 135.158939)\"/>\n",
       "</g>\n",
       "<g fill=\"rgb(0%, 0%, 0%)\" fill-opacity=\"1\">\n",
       "<use xlink:href=\"#glyph-0-0\" x=\"208.141631\" y=\"195.92242\"/>\n",
       "</g>\n",
       "<g fill=\"rgb(0%, 0%, 0%)\" fill-opacity=\"1\">\n",
       "<use xlink:href=\"#glyph-0-1\" x=\"13.613198\" y=\"142.054142\"/>\n",
       "</g>\n",
       "<g fill=\"rgb(0%, 0%, 0%)\" fill-opacity=\"1\">\n",
       "<use xlink:href=\"#glyph-0-2\" x=\"151.652777\" y=\"15.166458\"/>\n",
       "</g>\n",
       "<path fill=\"none\" stroke-width=\"0.3985\" stroke-linecap=\"butt\" stroke-linejoin=\"miter\" stroke=\"rgb(100%, 50%, 0%)\" stroke-opacity=\"1\" stroke-miterlimit=\"10\" d=\"M 27.035303 -8.529219 C 30.28523 1.220562 27.635108 12.452215 20.368836 19.720447 \" transform=\"matrix(1.992833, 0, 0, -1.992833, 31.658304, 135.158939)\"/>\n",
       "<path fill=\"none\" stroke-width=\"0.31879\" stroke-linecap=\"round\" stroke-linejoin=\"round\" stroke=\"rgb(100%, 50%, 0%)\" stroke-opacity=\"1\" stroke-miterlimit=\"10\" d=\"M -1.196381 1.594673 C -1.095967 0.995864 0.000596795 0.098877 0.29814 -0.000308302 C 0.000594286 -0.099486 -1.095373 -0.995825 -1.195802 -1.593392 \" transform=\"matrix(-0.630134, 1.890481, 1.890481, 0.630134, 85.536107, 152.155316)\"/>\n",
       "<path fill=\"none\" stroke-width=\"0.31879\" stroke-linecap=\"round\" stroke-linejoin=\"round\" stroke=\"rgb(100%, 50%, 0%)\" stroke-opacity=\"1\" stroke-miterlimit=\"10\" d=\"M -1.194985 1.593366 C -1.096576 0.995979 -0.000211913 0.0992062 0.299174 -0.000589243 C -0.000211913 -0.100385 -1.09519 -0.995772 -1.194985 -1.594544 \" transform=\"matrix(-1.409132, -1.409132, -1.409132, 1.409132, 72.248871, 95.859907)\"/>\n",
       "<g fill=\"rgb(0%, 0%, 0%)\" fill-opacity=\"1\">\n",
       "<use xlink:href=\"#glyph-1-0\" x=\"91.242027\" y=\"123.861567\"/>\n",
       "</g>\n",
       "<g fill=\"rgb(0%, 0%, 0%)\" fill-opacity=\"1\">\n",
       "<use xlink:href=\"#glyph-2-0\" x=\"74.789195\" y=\"121.982325\"/>\n",
       "<use xlink:href=\"#glyph-2-1\" x=\"85.65252\" y=\"120.066831\"/>\n",
       "<use xlink:href=\"#glyph-2-2\" x=\"95.428731\" y=\"118.343025\"/>\n",
       "<use xlink:href=\"#glyph-2-3\" x=\"111.721763\" y=\"115.470129\"/>\n",
       "<use xlink:href=\"#glyph-2-4\" x=\"120.410859\" y=\"113.93801\"/>\n",
       "<use xlink:href=\"#glyph-2-5\" x=\"128.014795\" y=\"112.597234\"/>\n",
       "<use xlink:href=\"#glyph-2-6\" x=\"138.87812\" y=\"110.68174\"/>\n",
       "<use xlink:href=\"#glyph-2-7\" x=\"144.309782\" y=\"109.723993\"/>\n",
       "<use xlink:href=\"#glyph-2-8\" x=\"155.173107\" y=\"107.8085\"/>\n",
       "</g>\n",
       "<g fill=\"rgb(0%, 0%, 0%)\" fill-opacity=\"1\">\n",
       "<use xlink:href=\"#glyph-2-9\" x=\"171.460274\" y=\"104.936638\"/>\n",
       "<use xlink:href=\"#glyph-2-10\" x=\"181.236484\" y=\"103.212832\"/>\n",
       "</g>\n",
       "<g fill=\"rgb(0%, 0%, 0%)\" fill-opacity=\"1\">\n",
       "<use xlink:href=\"#glyph-2-1\" x=\"192.647277\" y=\"101.200805\"/>\n",
       "<use xlink:href=\"#glyph-2-11\" x=\"202.423487\" y=\"99.476999\"/>\n",
       "<use xlink:href=\"#glyph-2-4\" x=\"213.286812\" y=\"97.561506\"/>\n",
       "</g>\n",
       "<g fill=\"rgb(0%, 0%, 0%)\" fill-opacity=\"1\">\n",
       "<use xlink:href=\"#glyph-2-6\" x=\"227.401704\" y=\"95.072674\"/>\n",
       "<use xlink:href=\"#glyph-2-7\" x=\"232.833367\" y=\"94.114927\"/>\n",
       "</g>\n",
       "<g fill=\"rgb(0%, 0%, 0%)\" fill-opacity=\"1\">\n",
       "<use xlink:href=\"#glyph-3-0\" x=\"250.218524\" y=\"91.049461\"/>\n",
       "</g>\n",
       "<g fill=\"rgb(0%, 0%, 0%)\" fill-opacity=\"1\">\n",
       "<use xlink:href=\"#glyph-4-0\" x=\"263.090274\" y=\"81.464511\"/>\n",
       "</g>\n",
       "</svg>"
      ],
      "text/plain": [
       "<IPython.core.display.SVG object>"
      ]
     },
     "execution_count": 54,
     "metadata": {},
     "output_type": "execute_result"
    }
   ],
   "source": [
    "tex_document.run_latex(save_tex=\"outputs/angle\", save_tikz=\"outputs/angle\", save_pdf=\"outputs/angle\")"
   ]
  },
  {
   "cell_type": "markdown",
   "metadata": {},
   "source": [
    "## Working with Jinja"
   ]
  },
  {
   "cell_type": "code",
   "execution_count": 55,
   "metadata": {},
   "outputs": [],
   "source": [
    "jinja_code = r\"\"\"\\documentclass[tikz]{standalone}\n",
    "\\usetikzlibrary{arrows,automata}\n",
    "\\definecolor{mymagenta}{RGB}{226,0,116}\n",
    "\\begin{document}\n",
    "\\begin{tikzpicture}[->,>=stealth',shorten >=1pt,auto,node distance=2.8cm,\n",
    "                    semithick]\n",
    "  \\tikzstyle{every state}=[fill=mymagenta,draw=none,text=white]\n",
    "  \n",
    "  {% for name, angle in nodes.items() -%}\n",
    "       \\node[color=mymagenta] (v{{loop.index0}}) at ({{angle}}:1) {${{name}}$};\n",
    "  {% endfor -%}\n",
    "  \n",
    "  {% for n1 in range(n) -%}\n",
    "      {% for n2 in range(n) -%}\n",
    "         {%if n1 < n2 -%}\n",
    "             \\path (v{{n1}}) edge (v{{n2}});\n",
    "         {% endif -%}\n",
    "      {% endfor -%}\n",
    "  {% endfor -%}\n",
    "\\end{tikzpicture}\n",
    "\\end{document}\"\"\""
   ]
  },
  {
   "cell_type": "markdown",
   "metadata": {},
   "source": [
    "You can render Jinja by passing the `use-jinja` option:\n",
    "\n",
    "> **Note:** If you are using Jinja, you must pass the `ns=<namespace>` parameter in order to allow the method to access the variables:"
   ]
  },
  {
   "cell_type": "code",
   "execution_count": 56,
   "metadata": {},
   "outputs": [
    {
     "name": "stdout",
     "output_type": "stream",
     "text": [
      "\\documentclass[tikz]{standalone}\n",
      "\\usetikzlibrary{arrows,automata}\n",
      "\\definecolor{mymagenta}{RGB}{226,0,116}\n",
      "\\begin{document}\n",
      "\\begin{tikzpicture}[->,>=stealth',shorten >=1pt,auto,node distance=2.8cm,\n",
      "                    semithick]\n",
      "  \\tikzstyle{every state}=[fill=mymagenta,draw=none,text=white]\n",
      "  \n",
      "  \\node[color=mymagenta] (v0) at (0:1) {$A$};\n",
      "  \\node[color=mymagenta] (v1) at (60:1) {$B$};\n",
      "  \\node[color=mymagenta] (v2) at (121:1) {$C$};\n",
      "  \\node[color=mymagenta] (v3) at (182:1) {$D$};\n",
      "  \\node[color=mymagenta] (v4) at (243:1) {$E$};\n",
      "  \\node[color=mymagenta] (v5) at (304:1) {$F$};\n",
      "  \\path (v0) edge (v1);\n",
      "         \\path (v0) edge (v2);\n",
      "         \\path (v0) edge (v3);\n",
      "         \\path (v0) edge (v4);\n",
      "         \\path (v0) edge (v5);\n",
      "         \\path (v1) edge (v2);\n",
      "         \\path (v1) edge (v3);\n",
      "         \\path (v1) edge (v4);\n",
      "         \\path (v1) edge (v5);\n",
      "         \\path (v2) edge (v3);\n",
      "         \\path (v2) edge (v4);\n",
      "         \\path (v2) edge (v5);\n",
      "         \\path (v3) edge (v4);\n",
      "         \\path (v3) edge (v5);\n",
      "         \\path (v4) edge (v5);\n",
      "         \\end{tikzpicture}\n",
      "\\end{document}\n"
     ]
    }
   ],
   "source": [
    "tex_jinja_document = TexDocument(jinja_code, use_jinja=True, ns=locals())\n",
    "print(tex_jinja_document)  # It prints the rendered Jinja Code"
   ]
  },
  {
   "cell_type": "markdown",
   "metadata": {},
   "source": [
    "Finally, run LaTeX and show the output:"
   ]
  },
  {
   "cell_type": "code",
   "execution_count": 57,
   "metadata": {},
   "outputs": [
    {
     "data": {
      "image/png": "[encoded data removed]",
      "text/plain": [
       "<IPython.core.display.Image object>"
      ]
     },
     "execution_count": 57,
     "metadata": {},
     "output_type": "execute_result"
    }
   ],
   "source": [
    "tex_jinja_document.run_latex(rasterize=True, dpi=150)"
   ]
  },
  {
   "cell_type": "markdown",
   "metadata": {},
   "source": [
    "## Basic usage TexFragment\n",
    "\n",
    "If you want to use parts of LaTeX, you can use the `TexFragment` class.\n",
    "\n",
    "> **Note:** `TexFragment` is a subclass of `TexDocument`, which means that all methods available in `TexDocument` are also available in `TexFragment`."
   ]
  },
  {
   "cell_type": "markdown",
   "metadata": {},
   "source": [
    "Now follows a basic example:"
   ]
  },
  {
   "cell_type": "code",
   "execution_count": 58,
   "metadata": {},
   "outputs": [],
   "source": [
    "# The code\n",
    "tex_template_code = r\"\"\"\\begin{axis}[\n",
    "  xlabel=$x$,\n",
    "  ylabel={$f(x) = x^2 - x +4$}\n",
    "]\n",
    "\\addplot {x^2 - x +4};\n",
    "\\end{axis}\"\"\""
   ]
  },
  {
   "cell_type": "code",
   "execution_count": 59,
   "metadata": {},
   "outputs": [],
   "source": [
    "# The object\n",
    "tikz_picture = TexFragment(\n",
    "    tex_template_code,\n",
    "    implicit_tikzpicture=True, # If true wraps the template within a tikzpicture\n",
    "    scale=1.5,\n",
    "    tex_packages=\"pgfplots\",\n",
    "    no_tikz=True\n",
    ")"
   ]
  },
  {
   "cell_type": "code",
   "execution_count": 60,
   "metadata": {
    "scrolled": true
   },
   "outputs": [
    {
     "data": {
      "image/svg+xml": [
       "<svg xmlns=\"http://www.w3.org/2000/svg\" xmlns:xlink=\"http://www.w3.org/1999/xlink\" width=\"375.333\" height=\"281.502\" viewBox=\"0 0 375.333 281.502\">\n",
       "<defs>\n",
       "<g>\n",
       "<g id=\"glyph-0-0\">\n",
       "<path d=\"M 9.828125 -3.4375 C 10.09375 -3.4375 10.359375 -3.4375 10.359375 -3.734375 C 10.359375 -4.03125 10.09375 -4.03125 9.828125 -4.03125 L 1.765625 -4.03125 C 1.5 -4.03125 1.234375 -4.03125 1.234375 -3.734375 C 1.234375 -3.4375 1.5 -3.4375 1.765625 -3.4375 Z M 9.828125 -3.4375 \"/>\n",
       "</g>\n",
       "<g id=\"glyph-1-0\">\n",
       "<path d=\"M 1.96875 -4.890625 L 1.96875 -5.25 C 1.96875 -9.03125 3.8125 -9.5625 4.578125 -9.5625 C 4.9375 -9.5625 5.5625 -9.46875 5.890625 -8.96875 C 5.671875 -8.96875 5.078125 -8.96875 5.078125 -8.296875 C 5.078125 -7.828125 5.4375 -7.609375 5.765625 -7.609375 C 6 -7.609375 6.453125 -7.75 6.453125 -8.328125 C 6.453125 -9.21875 5.796875 -9.9375 4.546875 -9.9375 C 2.640625 -9.9375 0.625 -8.015625 0.625 -4.71875 C 0.625 -0.734375 2.359375 0.328125 3.75 0.328125 C 5.40625 0.328125 6.8125 -1.078125 6.8125 -3.046875 C 6.8125 -4.9375 5.484375 -6.375 3.828125 -6.375 C 2.8125 -6.375 2.265625 -5.609375 1.96875 -4.890625 Z M 3.75 -0.09375 C 2.8125 -0.09375 2.359375 -0.984375 2.265625 -1.203125 C 2 -1.90625 2 -3.109375 2 -3.375 C 2 -4.53125 2.484375 -6.03125 3.8125 -6.03125 C 4.0625 -6.03125 4.75 -6.03125 5.203125 -5.109375 C 5.46875 -4.546875 5.46875 -3.796875 5.46875 -3.0625 C 5.46875 -2.34375 5.46875 -1.59375 5.21875 -1.0625 C 4.78125 -0.171875 4.09375 -0.09375 3.75 -0.09375 Z M 3.75 -0.09375 \"/>\n",
       "</g>\n",
       "<g id=\"glyph-1-1\">\n",
       "<path d=\"M 4.390625 -2.46875 L 4.390625 -1.15625 C 4.390625 -0.625 4.359375 -0.46875 3.25 -0.46875 L 2.9375 -0.46875 L 2.9375 0 C 3.546875 -0.046875 4.328125 -0.046875 4.953125 -0.046875 C 5.578125 -0.046875 6.375 -0.046875 6.984375 0 L 6.984375 -0.46875 L 6.671875 -0.46875 C 5.5625 -0.46875 5.53125 -0.625 5.53125 -1.15625 L 5.53125 -2.46875 L 7.03125 -2.46875 L 7.03125 -2.921875 L 5.53125 -2.921875 L 5.53125 -9.71875 C 5.53125 -10.015625 5.53125 -10.109375 5.296875 -10.109375 C 5.15625 -10.109375 5.125 -10.109375 5 -9.921875 L 0.421875 -2.921875 L 0.421875 -2.46875 Z M 4.484375 -2.921875 L 0.828125 -2.921875 L 4.484375 -8.484375 Z M 4.484375 -2.921875 \"/>\n",
       "</g>\n",
       "<g id=\"glyph-1-2\">\n",
       "<path d=\"M 1.890625 -1.15625 L 3.484375 -2.6875 C 5.796875 -4.75 6.703125 -5.546875 6.703125 -7.046875 C 6.703125 -8.75 5.359375 -9.9375 3.53125 -9.9375 C 1.84375 -9.9375 0.75 -8.5625 0.75 -7.234375 C 0.75 -6.40625 1.5 -6.40625 1.53125 -6.40625 C 1.796875 -6.40625 2.3125 -6.578125 2.3125 -7.1875 C 2.3125 -7.578125 2.046875 -7.96875 1.515625 -7.96875 C 1.40625 -7.96875 1.375 -7.96875 1.328125 -7.953125 C 1.671875 -8.921875 2.484375 -9.46875 3.34375 -9.46875 C 4.703125 -9.46875 5.34375 -8.265625 5.34375 -7.046875 C 5.34375 -5.84375 4.59375 -4.671875 3.78125 -3.75 L 0.90625 -0.546875 C 0.75 -0.390625 0.75 -0.359375 0.75 0 L 6.28125 0 L 6.703125 -2.59375 L 6.328125 -2.59375 C 6.25 -2.15625 6.140625 -1.5 6 -1.265625 C 5.890625 -1.15625 4.90625 -1.15625 4.578125 -1.15625 Z M 1.890625 -1.15625 \"/>\n",
       "</g>\n",
       "<g id=\"glyph-1-3\">\n",
       "<path d=\"M 6.859375 -4.78125 C 6.859375 -5.96875 6.796875 -7.15625 6.265625 -8.265625 C 5.578125 -9.703125 4.359375 -9.9375 3.734375 -9.9375 C 2.828125 -9.9375 1.75 -9.546875 1.140625 -8.15625 C 0.65625 -7.125 0.578125 -5.96875 0.578125 -4.78125 C 0.578125 -3.65625 0.640625 -2.3125 1.25 -1.171875 C 1.890625 0.03125 2.984375 0.328125 3.71875 0.328125 C 4.515625 0.328125 5.65625 0.015625 6.3125 -1.40625 C 6.796875 -2.4375 6.859375 -3.59375 6.859375 -4.78125 Z M 3.71875 0 C 3.140625 0 2.25 -0.375 1.984375 -1.8125 C 1.828125 -2.703125 1.828125 -4.078125 1.828125 -4.953125 C 1.828125 -5.90625 1.828125 -6.890625 1.9375 -7.703125 C 2.21875 -9.46875 3.34375 -9.609375 3.71875 -9.609375 C 4.203125 -9.609375 5.1875 -9.34375 5.46875 -7.859375 C 5.625 -7.03125 5.625 -5.890625 5.625 -4.953125 C 5.625 -3.828125 5.625 -2.8125 5.46875 -1.859375 C 5.234375 -0.453125 4.390625 0 3.71875 0 Z M 3.71875 0 \"/>\n",
       "</g>\n",
       "<g id=\"glyph-1-4\">\n",
       "<path d=\"M 4.390625 -9.546875 C 4.390625 -9.90625 4.390625 -9.9375 4.046875 -9.9375 C 3.125 -8.984375 1.8125 -8.984375 1.328125 -8.984375 L 1.328125 -8.515625 C 1.625 -8.515625 2.5 -8.515625 3.28125 -8.90625 L 3.28125 -1.171875 C 3.28125 -0.640625 3.234375 -0.46875 1.890625 -0.46875 L 1.421875 -0.46875 L 1.421875 0 C 1.9375 -0.046875 3.234375 -0.046875 3.828125 -0.046875 C 4.4375 -0.046875 5.734375 -0.046875 6.25 0 L 6.25 -0.46875 L 5.78125 -0.46875 C 4.4375 -0.46875 4.390625 -0.625 4.390625 -1.171875 Z M 4.390625 -9.546875 \"/>\n",
       "</g>\n",
       "<g id=\"glyph-1-5\">\n",
       "<path d=\"M 4.328125 -5.25 C 5.546875 -5.65625 6.421875 -6.703125 6.421875 -7.875 C 6.421875 -9.109375 5.109375 -9.9375 3.671875 -9.9375 C 2.15625 -9.9375 1.03125 -9.046875 1.03125 -7.90625 C 1.03125 -7.421875 1.359375 -7.125 1.796875 -7.125 C 2.25 -7.125 2.546875 -7.46875 2.546875 -7.890625 C 2.546875 -8.640625 1.84375 -8.640625 1.625 -8.640625 C 2.09375 -9.375 3.078125 -9.5625 3.609375 -9.5625 C 4.21875 -9.5625 5.046875 -9.234375 5.046875 -7.890625 C 5.046875 -7.71875 5.015625 -6.84375 4.625 -6.1875 C 4.171875 -5.46875 3.671875 -5.4375 3.296875 -5.421875 C 3.171875 -5.40625 2.8125 -5.375 2.71875 -5.375 C 2.59375 -5.359375 2.484375 -5.34375 2.484375 -5.1875 C 2.484375 -5.03125 2.59375 -5.03125 2.84375 -5.03125 L 3.5 -5.03125 C 4.734375 -5.03125 5.28125 -4.015625 5.28125 -2.546875 C 5.28125 -0.515625 4.25 -0.09375 3.59375 -0.09375 C 2.953125 -0.09375 1.828125 -0.34375 1.3125 -1.21875 C 1.828125 -1.15625 2.296875 -1.484375 2.296875 -2.046875 C 2.296875 -2.578125 1.890625 -2.875 1.46875 -2.875 C 1.109375 -2.875 0.625 -2.671875 0.625 -2.015625 C 0.625 -0.65625 2.015625 0.328125 3.640625 0.328125 C 5.46875 0.328125 6.8125 -1.03125 6.8125 -2.546875 C 6.8125 -3.78125 5.875 -4.9375 4.328125 -5.25 Z M 4.328125 -5.25 \"/>\n",
       "</g>\n",
       "<g id=\"glyph-2-0\">\n",
       "<path d=\"M 4.984375 -4.5 C 5.078125 -4.890625 5.421875 -6.265625 6.46875 -6.265625 C 6.53125 -6.265625 6.890625 -6.265625 7.203125 -6.078125 C 6.796875 -6 6.484375 -5.625 6.484375 -5.265625 C 6.484375 -5.03125 6.65625 -4.75 7.0625 -4.75 C 7.390625 -4.75 7.859375 -5.015625 7.859375 -5.609375 C 7.859375 -6.390625 6.984375 -6.59375 6.46875 -6.59375 C 5.609375 -6.59375 5.09375 -5.796875 4.90625 -5.46875 C 4.53125 -6.453125 3.734375 -6.59375 3.296875 -6.59375 C 1.75 -6.59375 0.890625 -4.671875 0.890625 -4.296875 C 0.890625 -4.140625 1.046875 -4.140625 1.078125 -4.140625 C 1.1875 -4.140625 1.234375 -4.171875 1.265625 -4.3125 C 1.78125 -5.890625 2.765625 -6.265625 3.265625 -6.265625 C 3.546875 -6.265625 4.078125 -6.140625 4.078125 -5.265625 C 4.078125 -4.8125 3.8125 -3.8125 3.265625 -1.71875 C 3.03125 -0.796875 2.5 -0.171875 1.84375 -0.171875 C 1.765625 -0.171875 1.421875 -0.171875 1.109375 -0.359375 C 1.484375 -0.4375 1.8125 -0.75 1.8125 -1.15625 C 1.8125 -1.5625 1.484375 -1.6875 1.25 -1.6875 C 0.8125 -1.6875 0.4375 -1.296875 0.4375 -0.828125 C 0.4375 -0.140625 1.171875 0.171875 1.828125 0.171875 C 2.8125 0.171875 3.359375 -0.875 3.40625 -0.96875 C 3.578125 -0.421875 4.125 0.171875 5.015625 0.171875 C 6.546875 0.171875 7.40625 -1.765625 7.40625 -2.140625 C 7.40625 -2.28125 7.265625 -2.28125 7.21875 -2.28125 C 7.09375 -2.28125 7.0625 -2.21875 7.03125 -2.125 C 6.53125 -0.515625 5.515625 -0.171875 5.046875 -0.171875 C 4.46875 -0.171875 4.21875 -0.640625 4.21875 -1.15625 C 4.21875 -1.484375 4.3125 -1.8125 4.484375 -2.46875 Z M 4.984375 -4.5 \"/>\n",
       "</g>\n",
       "<g id=\"glyph-3-0\">\n",
       "<path d=\"M -5.96875 -5.46875 L -5.96875 -6.765625 C -5.96875 -7.0625 -5.96875 -7.203125 -6.265625 -7.203125 C -6.4375 -7.203125 -6.4375 -7.0625 -6.4375 -6.796875 L -6.4375 -5.5625 L -8.125 -5.875 C -8.453125 -5.9375 -9.5 -6.140625 -9.6875 -6.234375 C -9.96875 -6.375 -10.1875 -6.625 -10.1875 -6.9375 C -10.1875 -7 -10.1875 -7.390625 -9.921875 -7.671875 C -9.859375 -7.015625 -9.34375 -6.859375 -9.125 -6.859375 C -8.78125 -6.859375 -8.59375 -7.125 -8.59375 -7.421875 C -8.59375 -7.796875 -8.921875 -8.234375 -9.484375 -8.234375 C -10.171875 -8.234375 -10.515625 -7.546875 -10.515625 -6.9375 C -10.515625 -6.4375 -10.25 -5.484375 -8.78125 -5.046875 C -8.453125 -4.953125 -8.3125 -4.90625 -6.4375 -4.546875 L -6.4375 -3.515625 C -6.4375 -3.234375 -6.4375 -3.078125 -6.140625 -3.078125 C -5.96875 -3.078125 -5.96875 -3.203125 -5.96875 -3.484375 L -5.96875 -4.484375 L -0.078125 -3.359375 C 1.375 -3.09375 2.734375 -2.828125 2.734375 -2.0625 C 2.734375 -2 2.734375 -1.625 2.46875 -1.34375 C 2.421875 -2.03125 1.875 -2.15625 1.65625 -2.15625 C 1.3125 -2.15625 1.140625 -1.890625 1.140625 -1.609375 C 1.140625 -1.21875 1.46875 -0.796875 2.03125 -0.796875 C 2.703125 -0.796875 3.0625 -1.453125 3.0625 -2.0625 C 3.0625 -2.875 2.171875 -3.484375 1.609375 -3.75 C 0.671875 -4.21875 -1.140625 -4.5625 -1.234375 -4.578125 Z M -5.96875 -5.46875 \"/>\n",
       "</g>\n",
       "<g id=\"glyph-3-1\">\n",
       "<path d=\"M -4.5 -4.984375 C -4.890625 -5.078125 -6.265625 -5.421875 -6.265625 -6.46875 C -6.265625 -6.53125 -6.265625 -6.890625 -6.078125 -7.203125 C -6 -6.796875 -5.625 -6.484375 -5.265625 -6.484375 C -5.03125 -6.484375 -4.75 -6.65625 -4.75 -7.0625 C -4.75 -7.390625 -5.015625 -7.859375 -5.609375 -7.859375 C -6.390625 -7.859375 -6.59375 -6.984375 -6.59375 -6.46875 C -6.59375 -5.609375 -5.796875 -5.09375 -5.46875 -4.90625 C -6.453125 -4.53125 -6.59375 -3.734375 -6.59375 -3.296875 C -6.59375 -1.75 -4.671875 -0.890625 -4.296875 -0.890625 C -4.140625 -0.890625 -4.140625 -1.046875 -4.140625 -1.078125 C -4.140625 -1.1875 -4.171875 -1.234375 -4.3125 -1.265625 C -5.890625 -1.78125 -6.265625 -2.765625 -6.265625 -3.265625 C -6.265625 -3.546875 -6.140625 -4.078125 -5.265625 -4.078125 C -4.8125 -4.078125 -3.8125 -3.8125 -1.71875 -3.265625 C -0.796875 -3.03125 -0.171875 -2.5 -0.171875 -1.84375 C -0.171875 -1.765625 -0.171875 -1.421875 -0.359375 -1.109375 C -0.4375 -1.484375 -0.75 -1.8125 -1.15625 -1.8125 C -1.5625 -1.8125 -1.6875 -1.484375 -1.6875 -1.25 C -1.6875 -0.8125 -1.296875 -0.4375 -0.828125 -0.4375 C -0.140625 -0.4375 0.171875 -1.171875 0.171875 -1.828125 C 0.171875 -2.8125 -0.875 -3.359375 -0.96875 -3.40625 C -0.421875 -3.578125 0.171875 -4.125 0.171875 -5.015625 C 0.171875 -6.546875 -1.765625 -7.40625 -2.140625 -7.40625 C -2.28125 -7.40625 -2.28125 -7.265625 -2.28125 -7.21875 C -2.28125 -7.09375 -2.21875 -7.0625 -2.125 -7.03125 C -0.515625 -6.53125 -0.171875 -5.515625 -0.171875 -5.046875 C -0.171875 -4.46875 -0.640625 -4.21875 -1.15625 -4.21875 C -1.484375 -4.21875 -1.8125 -4.3125 -2.46875 -4.484375 Z M -4.5 -4.984375 \"/>\n",
       "</g>\n",
       "<g id=\"glyph-4-0\">\n",
       "<path d=\"M 3.578125 -4.9375 C 3.53125 -4.9375 3.5 -4.9375 3.25 -4.6875 C 1.375 -2.8125 -1.453125 -2.34375 -3.734375 -2.34375 C -6.328125 -2.34375 -8.921875 -2.90625 -10.78125 -4.75 C -10.96875 -4.9375 -11 -4.9375 -11.046875 -4.9375 C -11.140625 -4.9375 -11.1875 -4.875 -11.1875 -4.796875 C -11.1875 -4.640625 -10.171875 -3.296875 -8.28125 -2.421875 C -6.640625 -1.65625 -4.984375 -1.484375 -3.734375 -1.484375 C -2.5625 -1.484375 -0.765625 -1.640625 0.921875 -2.46875 C 2.765625 -3.359375 3.734375 -4.640625 3.734375 -4.796875 C 3.734375 -4.875 3.6875 -4.9375 3.578125 -4.9375 Z M 3.578125 -4.9375 \"/>\n",
       "</g>\n",
       "<g id=\"glyph-4-1\">\n",
       "<path d=\"M -3.734375 -4.3125 C -4.890625 -4.3125 -6.703125 -4.140625 -8.390625 -3.328125 C -10.21875 -2.4375 -11.1875 -1.15625 -11.1875 -1 C -11.1875 -0.90625 -11.125 -0.84375 -11.046875 -0.84375 C -11 -0.84375 -10.96875 -0.84375 -10.703125 -1.140625 C -9.21875 -2.59375 -6.84375 -3.453125 -3.734375 -3.453125 C -1.171875 -3.453125 1.453125 -2.890625 3.328125 -1.046875 C 3.5 -0.84375 3.53125 -0.84375 3.578125 -0.84375 C 3.671875 -0.84375 3.734375 -0.90625 3.734375 -1 C 3.734375 -1.15625 2.71875 -2.484375 0.828125 -3.375 C -0.828125 -4.140625 -2.484375 -4.3125 -3.734375 -4.3125 Z M -3.734375 -4.3125 \"/>\n",
       "</g>\n",
       "<g id=\"glyph-4-2\">\n",
       "<path d=\"M -4.875 -10.25 C -4.875 -10.46875 -4.875 -10.765625 -5.171875 -10.765625 C -5.46875 -10.765625 -5.46875 -10.46875 -5.46875 -10.265625 L -5.46875 -1.328125 C -5.46875 -1.125 -5.46875 -0.828125 -5.171875 -0.828125 C -4.875 -0.828125 -4.875 -1.125 -4.875 -1.34375 Z M -1.984375 -10.265625 C -1.984375 -10.46875 -1.984375 -10.765625 -2.28125 -10.765625 C -2.578125 -10.765625 -2.578125 -10.46875 -2.578125 -10.25 L -2.578125 -1.34375 C -2.578125 -1.125 -2.578125 -0.828125 -2.28125 -0.828125 C -1.984375 -0.828125 -1.984375 -1.125 -1.984375 -1.328125 Z M -1.984375 -10.265625 \"/>\n",
       "</g>\n",
       "<g id=\"glyph-4-3\">\n",
       "<path d=\"M -3.4375 -6.109375 L -3.4375 -10.265625 C -3.4375 -10.46875 -3.4375 -10.765625 -3.734375 -10.765625 C -4.03125 -10.765625 -4.03125 -10.46875 -4.03125 -10.265625 L -4.03125 -6.109375 L -8.203125 -6.109375 C -8.421875 -6.109375 -8.703125 -6.109375 -8.703125 -5.796875 C -8.703125 -5.5 -8.421875 -5.5 -8.203125 -5.5 L -4.03125 -5.5 L -4.03125 -1.328125 C -4.03125 -1.125 -4.03125 -0.828125 -3.734375 -0.828125 C -3.4375 -0.828125 -3.4375 -1.125 -3.4375 -1.328125 L -3.4375 -5.5 L 0.75 -5.5 C 0.953125 -5.5 1.234375 -5.5 1.234375 -5.796875 C 1.234375 -6.109375 0.953125 -6.109375 0.75 -6.109375 Z M -3.4375 -6.109375 \"/>\n",
       "</g>\n",
       "<g id=\"glyph-4-4\">\n",
       "<path d=\"M -2.46875 -4.390625 L -1.15625 -4.390625 C -0.625 -4.390625 -0.46875 -4.359375 -0.46875 -3.25 L -0.46875 -2.9375 L 0 -2.9375 C -0.046875 -3.546875 -0.046875 -4.328125 -0.046875 -4.953125 C -0.046875 -5.578125 -0.046875 -6.375 0 -6.984375 L -0.46875 -6.984375 L -0.46875 -6.671875 C -0.46875 -5.5625 -0.625 -5.53125 -1.15625 -5.53125 L -2.46875 -5.53125 L -2.46875 -7.03125 L -2.921875 -7.03125 L -2.921875 -5.53125 L -9.71875 -5.53125 C -10.015625 -5.53125 -10.109375 -5.53125 -10.109375 -5.296875 C -10.109375 -5.15625 -10.109375 -5.125 -9.921875 -5 L -2.921875 -0.421875 L -2.46875 -0.421875 Z M -2.921875 -4.484375 L -2.921875 -0.828125 L -8.484375 -4.484375 Z M -2.921875 -4.484375 \"/>\n",
       "</g>\n",
       "<g id=\"glyph-5-0\">\n",
       "<path d=\"M -1.90625 -5.265625 L -1.90625 -4.921875 C -1.671875 -4.890625 -1.046875 -4.78125 -0.953125 -4.640625 C -0.890625 -4.5625 -0.890625 -3.75 -0.890625 -3.609375 L -0.890625 -1.6875 C -1.859375 -2.78125 -2.15625 -3.15625 -2.640625 -3.78125 C -3.25 -4.546875 -3.90625 -5.265625 -4.890625 -5.265625 C -6.15625 -5.265625 -6.9375 -4.171875 -6.9375 -2.828125 C -6.9375 -1.53125 -6.015625 -0.65625 -5.0625 -0.65625 C -4.53125 -0.65625 -4.484375 -1.109375 -4.484375 -1.203125 C -4.484375 -1.46875 -4.65625 -1.765625 -5.03125 -1.765625 C -5.21875 -1.765625 -5.578125 -1.6875 -5.578125 -1.140625 C -6.328125 -1.46875 -6.5625 -2.1875 -6.5625 -2.671875 C -6.5625 -3.71875 -5.734375 -4.265625 -4.890625 -4.265625 C -3.984375 -4.265625 -3.265625 -3.609375 -2.890625 -3.28125 L -0.40625 -0.765625 C -0.3125 -0.65625 -0.296875 -0.65625 0 -0.65625 L 0 -4.953125 Z M -1.90625 -5.265625 \"/>\n",
       "</g>\n",
       "<g id=\"glyph-6-0\">\n",
       "<path d=\"M -3.4375 -9.828125 C -3.4375 -10.09375 -3.4375 -10.359375 -3.734375 -10.359375 C -4.03125 -10.359375 -4.03125 -10.09375 -4.03125 -9.828125 L -4.03125 -1.765625 C -4.03125 -1.5 -4.03125 -1.234375 -3.734375 -1.234375 C -3.4375 -1.234375 -3.4375 -1.5 -3.4375 -1.765625 Z M -3.4375 -9.828125 \"/>\n",
       "</g>\n",
       "</g>\n",
       "</defs>\n",
       "<path fill=\"none\" stroke-width=\"0.19925\" stroke-linecap=\"butt\" stroke-linejoin=\"miter\" stroke=\"rgb(50%, 50%, 50%)\" stroke-opacity=\"1\" stroke-miterlimit=\"10\" d=\"M -16.1914 -13.449198 L -16.1914 -9.199471 M 16.188957 -13.449198 L 16.188957 -9.199471 M 48.569314 -13.449198 L 48.569314 -9.199471 M 80.949672 -13.449198 L 80.949672 -9.199471 M 113.330029 -13.449198 L 113.330029 -9.199471 M 145.710387 -13.449198 L 145.710387 -9.199471 M 178.090744 -13.449198 L 178.090744 -9.199471 M -16.1914 147.946483 L -16.1914 143.694148 M 16.188957 147.946483 L 16.188957 143.694148 M 48.569314 147.946483 L 48.569314 143.694148 M 80.949672 147.946483 L 80.949672 143.694148 M 113.330029 147.946483 L 113.330029 143.694148 M 145.710387 147.946483 L 145.710387 143.694148 M 178.090744 147.946483 L 178.090744 143.694148 \" transform=\"matrix(1.497339, 0, 0, -1.497339, 94.33386, 221.822928)\"/>\n",
       "<path fill=\"none\" stroke-width=\"0.19925\" stroke-linecap=\"butt\" stroke-linejoin=\"miter\" stroke=\"rgb(50%, 50%, 50%)\" stroke-opacity=\"1\" stroke-miterlimit=\"10\" d=\"M -16.1914 27.764538 L -11.939065 27.764538 M -16.1914 72.236658 L -11.939065 72.236658 M -16.1914 116.708778 L -11.939065 116.708778 M 178.088135 27.764538 L 173.838409 27.764538 M 178.088135 72.236658 L 173.838409 72.236658 M 178.088135 116.708778 L 173.838409 116.708778 \" transform=\"matrix(1.497339, 0, 0, -1.497339, 94.33386, 221.822928)\"/>\n",
       "<path fill=\"none\" stroke-width=\"0.3985\" stroke-linecap=\"butt\" stroke-linejoin=\"miter\" stroke=\"rgb(0%, 0%, 0%)\" stroke-opacity=\"1\" stroke-miterlimit=\"10\" d=\"M -16.1914 -13.449198 L -16.1914 147.946483 L 178.088135 147.946483 L 178.088135 -13.449198 Z M -16.1914 -13.449198 \" transform=\"matrix(1.497339, 0, 0, -1.497339, 94.33386, 221.822928)\"/>\n",
       "<g fill=\"rgb(0%, 0%, 0%)\" fill-opacity=\"1\">\n",
       "<use xlink:href=\"#glyph-0-0\" x=\"60.561377\" y=\"256.845689\"/>\n",
       "</g>\n",
       "<g fill=\"rgb(0%, 0%, 0%)\" fill-opacity=\"1\">\n",
       "<use xlink:href=\"#glyph-1-0\" x=\"72.164258\" y=\"256.845689\"/>\n",
       "</g>\n",
       "<g fill=\"rgb(0%, 0%, 0%)\" fill-opacity=\"1\">\n",
       "<use xlink:href=\"#glyph-0-0\" x=\"109.045217\" y=\"256.845689\"/>\n",
       "</g>\n",
       "<g fill=\"rgb(0%, 0%, 0%)\" fill-opacity=\"1\">\n",
       "<use xlink:href=\"#glyph-1-1\" x=\"120.648098\" y=\"256.845689\"/>\n",
       "</g>\n",
       "<g fill=\"rgb(0%, 0%, 0%)\" fill-opacity=\"1\">\n",
       "<use xlink:href=\"#glyph-0-0\" x=\"157.529057\" y=\"256.845689\"/>\n",
       "</g>\n",
       "<g fill=\"rgb(0%, 0%, 0%)\" fill-opacity=\"1\">\n",
       "<use xlink:href=\"#glyph-1-2\" x=\"169.131938\" y=\"256.845689\"/>\n",
       "</g>\n",
       "<g fill=\"rgb(0%, 0%, 0%)\" fill-opacity=\"1\">\n",
       "<use xlink:href=\"#glyph-1-3\" x=\"211.813588\" y=\"256.845689\"/>\n",
       "</g>\n",
       "<g fill=\"rgb(0%, 0%, 0%)\" fill-opacity=\"1\">\n",
       "<use xlink:href=\"#glyph-1-2\" x=\"260.297428\" y=\"256.845689\"/>\n",
       "</g>\n",
       "<g fill=\"rgb(0%, 0%, 0%)\" fill-opacity=\"1\">\n",
       "<use xlink:href=\"#glyph-1-1\" x=\"308.781268\" y=\"256.845689\"/>\n",
       "</g>\n",
       "<g fill=\"rgb(0%, 0%, 0%)\" fill-opacity=\"1\">\n",
       "<use xlink:href=\"#glyph-1-0\" x=\"357.265108\" y=\"256.845689\"/>\n",
       "</g>\n",
       "<g fill=\"rgb(0%, 0%, 0%)\" fill-opacity=\"1\">\n",
       "<use xlink:href=\"#glyph-1-4\" x=\"49.903317\" y=\"185.058761\"/>\n",
       "<use xlink:href=\"#glyph-1-3\" x=\"57.362013\" y=\"185.058761\"/>\n",
       "</g>\n",
       "<g fill=\"rgb(0%, 0%, 0%)\" fill-opacity=\"1\">\n",
       "<use xlink:href=\"#glyph-1-2\" x=\"49.903317\" y=\"118.469097\"/>\n",
       "<use xlink:href=\"#glyph-1-3\" x=\"57.362013\" y=\"118.469097\"/>\n",
       "</g>\n",
       "<g fill=\"rgb(0%, 0%, 0%)\" fill-opacity=\"1\">\n",
       "<use xlink:href=\"#glyph-1-5\" x=\"49.903317\" y=\"51.88093\"/>\n",
       "<use xlink:href=\"#glyph-1-3\" x=\"57.362013\" y=\"51.88093\"/>\n",
       "</g>\n",
       "<path fill=\"none\" stroke-width=\"0.3985\" stroke-linecap=\"butt\" stroke-linejoin=\"miter\" stroke=\"rgb(0%, 0%, 100%)\" stroke-opacity=\"1\" stroke-miterlimit=\"10\" d=\"M -0.00122158 134.495539 L 6.745121 114.88523 L 13.491464 96.819328 L 20.237806 80.297833 L 26.984149 65.318135 L 33.727883 51.885452 L 40.474225 39.994566 L 47.220568 29.648087 L 53.96691 20.846015 L 60.710644 13.588349 L 67.456987 7.875089 L 74.203329 3.706235 L 80.949672 1.081788 L 87.696014 -0.000862029 L 94.439748 0.463503 L 101.186091 2.469666 L 107.932433 6.020236 L 114.678776 11.115211 L 121.425118 17.754593 L 128.168852 25.938382 L 134.915195 35.666576 L 141.661537 46.939177 L 148.40788 59.753576 L 155.151614 74.11499 L 161.897956 90.018201 \" transform=\"matrix(1.497339, 0, 0, -1.497339, 94.33386, 221.822928)\"/>\n",
       "<path fill-rule=\"nonzero\" fill=\"rgb(0%, 0%, 79.998779%)\" fill-opacity=\"1\" stroke-width=\"0.3985\" stroke-linecap=\"butt\" stroke-linejoin=\"miter\" stroke=\"rgb(0%, 0%, 100%)\" stroke-opacity=\"1\" stroke-miterlimit=\"10\" d=\"M 1.991897 134.495539 C 1.991897 135.59645 1.09969 136.488657 -0.00122158 136.488657 C -1.099524 136.488657 -1.991732 135.59645 -1.991732 134.495539 C -1.991732 133.397236 -1.099524 132.505028 -0.00122158 132.505028 C 1.09969 132.505028 1.991897 133.397236 1.991897 134.495539 Z M 1.991897 134.495539 \" transform=\"matrix(1.497339, 0, 0, -1.497339, 94.33386, 221.822928)\"/>\n",
       "<path fill-rule=\"nonzero\" fill=\"rgb(0%, 0%, 79.998779%)\" fill-opacity=\"1\" stroke-width=\"0.3985\" stroke-linecap=\"butt\" stroke-linejoin=\"miter\" stroke=\"rgb(0%, 0%, 100%)\" stroke-opacity=\"1\" stroke-miterlimit=\"10\" d=\"M 8.73824 114.88523 C 8.73824 115.986142 7.846032 116.878349 6.745121 116.878349 C 5.64421 116.878349 4.752002 115.986142 4.752002 114.88523 C 4.752002 113.784319 5.64421 112.892111 6.745121 112.892111 C 7.846032 112.892111 8.73824 113.784319 8.73824 114.88523 Z M 8.73824 114.88523 \" transform=\"matrix(1.497339, 0, 0, -1.497339, 94.33386, 221.822928)\"/>\n",
       "<path fill-rule=\"nonzero\" fill=\"rgb(0%, 0%, 79.998779%)\" fill-opacity=\"1\" stroke-width=\"0.3985\" stroke-linecap=\"butt\" stroke-linejoin=\"miter\" stroke=\"rgb(0%, 0%, 100%)\" stroke-opacity=\"1\" stroke-miterlimit=\"10\" d=\"M 15.484583 96.819328 C 15.484583 97.92024 14.592375 98.812447 13.491464 98.812447 C 12.390552 98.812447 11.498345 97.92024 11.498345 96.819328 C 11.498345 95.718417 12.390552 94.826209 13.491464 94.826209 C 14.592375 94.826209 15.484583 95.718417 15.484583 96.819328 Z M 15.484583 96.819328 \" transform=\"matrix(1.497339, 0, 0, -1.497339, 94.33386, 221.822928)\"/>\n",
       "<path fill-rule=\"nonzero\" fill=\"rgb(0%, 0%, 79.998779%)\" fill-opacity=\"1\" stroke-width=\"0.3985\" stroke-linecap=\"butt\" stroke-linejoin=\"miter\" stroke=\"rgb(0%, 0%, 100%)\" stroke-opacity=\"1\" stroke-miterlimit=\"10\" d=\"M 22.230925 80.297833 C 22.230925 81.398744 21.338717 82.290952 20.237806 82.290952 C 19.136895 82.290952 18.244687 81.398744 18.244687 80.297833 C 18.244687 79.196921 19.136895 78.304714 20.237806 78.304714 C 21.338717 78.304714 22.230925 79.196921 22.230925 80.297833 Z M 22.230925 80.297833 \" transform=\"matrix(1.497339, 0, 0, -1.497339, 94.33386, 221.822928)\"/>\n",
       "<path fill-rule=\"nonzero\" fill=\"rgb(0%, 0%, 79.998779%)\" fill-opacity=\"1\" stroke-width=\"0.3985\" stroke-linecap=\"butt\" stroke-linejoin=\"miter\" stroke=\"rgb(0%, 0%, 100%)\" stroke-opacity=\"1\" stroke-miterlimit=\"10\" d=\"M 28.974659 65.318135 C 28.974659 66.419046 28.082451 67.311254 26.984149 67.311254 C 25.883237 67.311254 24.99103 66.419046 24.99103 65.318135 C 24.99103 64.217223 25.883237 63.327624 26.984149 63.327624 C 28.082451 63.327624 28.974659 64.217223 28.974659 65.318135 Z M 28.974659 65.318135 \" transform=\"matrix(1.497339, 0, 0, -1.497339, 94.33386, 221.822928)\"/>\n",
       "<path fill-rule=\"nonzero\" fill=\"rgb(0%, 0%, 79.998779%)\" fill-opacity=\"1\" stroke-width=\"0.3985\" stroke-linecap=\"butt\" stroke-linejoin=\"miter\" stroke=\"rgb(0%, 0%, 100%)\" stroke-opacity=\"1\" stroke-miterlimit=\"10\" d=\"M 35.721002 51.885452 C 35.721002 52.986363 34.828794 53.878571 33.727883 53.878571 C 32.62958 53.878571 31.737372 52.986363 31.737372 51.885452 C 31.737372 50.784541 32.62958 49.892333 33.727883 49.892333 C 34.828794 49.892333 35.721002 50.784541 35.721002 51.885452 Z M 35.721002 51.885452 \" transform=\"matrix(1.497339, 0, 0, -1.497339, 94.33386, 221.822928)\"/>\n",
       "<path fill-rule=\"nonzero\" fill=\"rgb(0%, 0%, 79.998779%)\" fill-opacity=\"1\" stroke-width=\"0.3985\" stroke-linecap=\"butt\" stroke-linejoin=\"miter\" stroke=\"rgb(0%, 0%, 100%)\" stroke-opacity=\"1\" stroke-miterlimit=\"10\" d=\"M 42.467344 39.994566 C 42.467344 41.095478 41.575136 41.987685 40.474225 41.987685 C 39.373314 41.987685 38.481106 41.095478 38.481106 39.994566 C 38.481106 38.893655 39.373314 38.001447 40.474225 38.001447 C 41.575136 38.001447 42.467344 38.893655 42.467344 39.994566 Z M 42.467344 39.994566 \" transform=\"matrix(1.497339, 0, 0, -1.497339, 94.33386, 221.822928)\"/>\n",
       "<path fill-rule=\"nonzero\" fill=\"rgb(0%, 0%, 79.998779%)\" fill-opacity=\"1\" stroke-width=\"0.3985\" stroke-linecap=\"butt\" stroke-linejoin=\"miter\" stroke=\"rgb(0%, 0%, 100%)\" stroke-opacity=\"1\" stroke-miterlimit=\"10\" d=\"M 49.213687 29.648087 C 49.213687 30.748999 48.321479 31.641206 47.220568 31.641206 C 46.119656 31.641206 45.227449 30.748999 45.227449 29.648087 C 45.227449 28.547176 46.119656 27.657577 47.220568 27.657577 C 48.321479 27.657577 49.213687 28.547176 49.213687 29.648087 Z M 49.213687 29.648087 \" transform=\"matrix(1.497339, 0, 0, -1.497339, 94.33386, 221.822928)\"/>\n",
       "<path fill-rule=\"nonzero\" fill=\"rgb(0%, 0%, 79.998779%)\" fill-opacity=\"1\" stroke-width=\"0.3985\" stroke-linecap=\"butt\" stroke-linejoin=\"miter\" stroke=\"rgb(0%, 0%, 100%)\" stroke-opacity=\"1\" stroke-miterlimit=\"10\" d=\"M 55.95742 20.846015 C 55.95742 21.946926 55.067822 22.839134 53.96691 22.839134 C 52.865999 22.839134 51.973791 21.946926 51.973791 20.846015 C 51.973791 19.747712 52.865999 18.855505 53.96691 18.855505 C 55.067822 18.855505 55.95742 19.747712 55.95742 20.846015 Z M 55.95742 20.846015 \" transform=\"matrix(1.497339, 0, 0, -1.497339, 94.33386, 221.822928)\"/>\n",
       "<path fill-rule=\"nonzero\" fill=\"rgb(0%, 0%, 79.998779%)\" fill-opacity=\"1\" stroke-width=\"0.3985\" stroke-linecap=\"butt\" stroke-linejoin=\"miter\" stroke=\"rgb(0%, 0%, 100%)\" stroke-opacity=\"1\" stroke-miterlimit=\"10\" d=\"M 62.703763 13.588349 C 62.703763 14.68926 61.811555 15.581468 60.710644 15.581468 C 59.612342 15.581468 58.720134 14.68926 58.720134 13.588349 C 58.720134 12.490046 59.612342 11.597838 60.710644 11.597838 C 61.811555 11.597838 62.703763 12.490046 62.703763 13.588349 Z M 62.703763 13.588349 \" transform=\"matrix(1.497339, 0, 0, -1.497339, 94.33386, 221.822928)\"/>\n",
       "<path fill-rule=\"nonzero\" fill=\"rgb(0%, 0%, 79.998779%)\" fill-opacity=\"1\" stroke-width=\"0.3985\" stroke-linecap=\"butt\" stroke-linejoin=\"miter\" stroke=\"rgb(0%, 0%, 100%)\" stroke-opacity=\"1\" stroke-miterlimit=\"10\" d=\"M 69.450106 7.875089 C 69.450106 8.976 68.557898 9.868208 67.456987 9.868208 C 66.356075 9.868208 65.463868 8.976 65.463868 7.875089 C 65.463868 6.774177 66.356075 5.884578 67.456987 5.884578 C 68.557898 5.884578 69.450106 6.774177 69.450106 7.875089 Z M 69.450106 7.875089 \" transform=\"matrix(1.497339, 0, 0, -1.497339, 94.33386, 221.822928)\"/>\n",
       "<path fill-rule=\"nonzero\" fill=\"rgb(0%, 0%, 79.998779%)\" fill-opacity=\"1\" stroke-width=\"0.3985\" stroke-linecap=\"butt\" stroke-linejoin=\"miter\" stroke=\"rgb(0%, 0%, 100%)\" stroke-opacity=\"1\" stroke-miterlimit=\"10\" d=\"M 76.196448 3.706235 C 76.196448 4.807146 75.304241 5.699354 74.203329 5.699354 C 73.102418 5.699354 72.21021 4.807146 72.21021 3.706235 C 72.21021 2.605324 73.102418 1.713116 74.203329 1.713116 C 75.304241 1.713116 76.196448 2.605324 76.196448 3.706235 Z M 76.196448 3.706235 \" transform=\"matrix(1.497339, 0, 0, -1.497339, 94.33386, 221.822928)\"/>\n",
       "<path fill-rule=\"nonzero\" fill=\"rgb(0%, 0%, 79.998779%)\" fill-opacity=\"1\" stroke-width=\"0.3985\" stroke-linecap=\"butt\" stroke-linejoin=\"miter\" stroke=\"rgb(0%, 0%, 100%)\" stroke-opacity=\"1\" stroke-miterlimit=\"10\" d=\"M 82.942791 1.081788 C 82.942791 2.182699 82.050583 3.074907 80.949672 3.074907 C 79.848761 3.074907 78.956553 2.182699 78.956553 1.081788 C 78.956553 -0.0191236 79.848761 -0.911331 80.949672 -0.911331 C 82.050583 -0.911331 82.942791 -0.0191236 82.942791 1.081788 Z M 82.942791 1.081788 \" transform=\"matrix(1.497339, 0, 0, -1.497339, 94.33386, 221.822928)\"/>\n",
       "<path fill-rule=\"nonzero\" fill=\"rgb(0%, 0%, 79.998779%)\" fill-opacity=\"1\" stroke-width=\"0.3985\" stroke-linecap=\"butt\" stroke-linejoin=\"miter\" stroke=\"rgb(0%, 0%, 100%)\" stroke-opacity=\"1\" stroke-miterlimit=\"10\" d=\"M 89.686525 -0.000862029 C 89.686525 1.100049 88.794317 1.992257 87.696014 1.992257 C 86.595103 1.992257 85.702895 1.100049 85.702895 -0.000862029 C 85.702895 -1.099165 86.595103 -1.991372 87.696014 -1.991372 C 88.794317 -1.991372 89.686525 -1.099165 89.686525 -0.000862029 Z M 89.686525 -0.000862029 \" transform=\"matrix(1.497339, 0, 0, -1.497339, 94.33386, 221.822928)\"/>\n",
       "<path fill-rule=\"nonzero\" fill=\"rgb(0%, 0%, 79.998779%)\" fill-opacity=\"1\" stroke-width=\"0.3985\" stroke-linecap=\"butt\" stroke-linejoin=\"miter\" stroke=\"rgb(0%, 0%, 100%)\" stroke-opacity=\"1\" stroke-miterlimit=\"10\" d=\"M 96.432867 0.463503 C 96.432867 1.564415 95.540659 2.456622 94.439748 2.456622 C 93.341446 2.456622 92.449238 1.564415 92.449238 0.463503 C 92.449238 -0.637408 93.341446 -1.529616 94.439748 -1.529616 C 95.540659 -1.529616 96.432867 -0.637408 96.432867 0.463503 Z M 96.432867 0.463503 \" transform=\"matrix(1.497339, 0, 0, -1.497339, 94.33386, 221.822928)\"/>\n",
       "<path fill-rule=\"nonzero\" fill=\"rgb(0%, 0%, 79.998779%)\" fill-opacity=\"1\" stroke-width=\"0.3985\" stroke-linecap=\"butt\" stroke-linejoin=\"miter\" stroke=\"rgb(0%, 0%, 100%)\" stroke-opacity=\"1\" stroke-miterlimit=\"10\" d=\"M 103.17921 2.469666 C 103.17921 3.570578 102.287002 4.462785 101.186091 4.462785 C 100.085179 4.462785 99.192972 3.570578 99.192972 2.469666 C 99.192972 1.368755 100.085179 0.476547 101.186091 0.476547 C 102.287002 0.476547 103.17921 1.368755 103.17921 2.469666 Z M 103.17921 2.469666 \" transform=\"matrix(1.497339, 0, 0, -1.497339, 94.33386, 221.822928)\"/>\n",
       "<path fill-rule=\"nonzero\" fill=\"rgb(0%, 0%, 79.998779%)\" fill-opacity=\"1\" stroke-width=\"0.3985\" stroke-linecap=\"butt\" stroke-linejoin=\"miter\" stroke=\"rgb(0%, 0%, 100%)\" stroke-opacity=\"1\" stroke-miterlimit=\"10\" d=\"M 109.925552 6.020236 C 109.925552 7.121147 109.033345 8.013355 107.932433 8.013355 C 106.831522 8.013355 105.939314 7.121147 105.939314 6.020236 C 105.939314 4.919324 106.831522 4.029725 107.932433 4.029725 C 109.033345 4.029725 109.925552 4.919324 109.925552 6.020236 Z M 109.925552 6.020236 \" transform=\"matrix(1.497339, 0, 0, -1.497339, 94.33386, 221.822928)\"/>\n",
       "<path fill-rule=\"nonzero\" fill=\"rgb(0%, 0%, 79.998779%)\" fill-opacity=\"1\" stroke-width=\"0.3985\" stroke-linecap=\"butt\" stroke-linejoin=\"miter\" stroke=\"rgb(0%, 0%, 100%)\" stroke-opacity=\"1\" stroke-miterlimit=\"10\" d=\"M 116.671895 11.115211 C 116.671895 12.216123 115.779687 13.10833 114.678776 13.10833 C 113.577865 13.10833 112.685657 12.216123 112.685657 11.115211 C 112.685657 10.016909 113.577865 9.124701 114.678776 9.124701 C 115.779687 9.124701 116.671895 10.016909 116.671895 11.115211 Z M 116.671895 11.115211 \" transform=\"matrix(1.497339, 0, 0, -1.497339, 94.33386, 221.822928)\"/>\n",
       "<path fill-rule=\"nonzero\" fill=\"rgb(0%, 0%, 79.998779%)\" fill-opacity=\"1\" stroke-width=\"0.3985\" stroke-linecap=\"butt\" stroke-linejoin=\"miter\" stroke=\"rgb(0%, 0%, 100%)\" stroke-opacity=\"1\" stroke-miterlimit=\"10\" d=\"M 123.415629 17.754593 C 123.415629 18.855505 122.523421 19.747712 121.425118 19.747712 C 120.324207 19.747712 119.431999 18.855505 119.431999 17.754593 C 119.431999 16.656291 120.324207 15.764083 121.425118 15.764083 C 122.523421 15.764083 123.415629 16.656291 123.415629 17.754593 Z M 123.415629 17.754593 \" transform=\"matrix(1.497339, 0, 0, -1.497339, 94.33386, 221.822928)\"/>\n",
       "<path fill-rule=\"nonzero\" fill=\"rgb(0%, 0%, 79.998779%)\" fill-opacity=\"1\" stroke-width=\"0.3985\" stroke-linecap=\"butt\" stroke-linejoin=\"miter\" stroke=\"rgb(0%, 0%, 100%)\" stroke-opacity=\"1\" stroke-miterlimit=\"10\" d=\"M 130.161971 25.938382 C 130.161971 27.039293 129.269764 27.931501 128.168852 27.931501 C 127.067941 27.931501 126.178342 27.039293 126.178342 25.938382 C 126.178342 24.83747 127.067941 23.947871 128.168852 23.947871 C 129.269764 23.947871 130.161971 24.83747 130.161971 25.938382 Z M 130.161971 25.938382 \" transform=\"matrix(1.497339, 0, 0, -1.497339, 94.33386, 221.822928)\"/>\n",
       "<path fill-rule=\"nonzero\" fill=\"rgb(0%, 0%, 79.998779%)\" fill-opacity=\"1\" stroke-width=\"0.3985\" stroke-linecap=\"butt\" stroke-linejoin=\"miter\" stroke=\"rgb(0%, 0%, 100%)\" stroke-opacity=\"1\" stroke-miterlimit=\"10\" d=\"M 136.908314 35.666576 C 136.908314 36.767488 136.016106 37.659695 134.915195 37.659695 C 133.814284 37.659695 132.922076 36.767488 132.922076 35.666576 C 132.922076 34.565665 133.814284 33.673457 134.915195 33.673457 C 136.016106 33.673457 136.908314 34.565665 136.908314 35.666576 Z M 136.908314 35.666576 \" transform=\"matrix(1.497339, 0, 0, -1.497339, 94.33386, 221.822928)\"/>\n",
       "<path fill-rule=\"nonzero\" fill=\"rgb(0%, 0%, 79.998779%)\" fill-opacity=\"1\" stroke-width=\"0.3985\" stroke-linecap=\"butt\" stroke-linejoin=\"miter\" stroke=\"rgb(0%, 0%, 100%)\" stroke-opacity=\"1\" stroke-miterlimit=\"10\" d=\"M 143.654656 46.939177 C 143.654656 48.040089 142.762449 48.929688 141.661537 48.929688 C 140.560626 48.929688 139.668418 48.040089 139.668418 46.939177 C 139.668418 45.838266 140.560626 44.946058 141.661537 44.946058 C 142.762449 44.946058 143.654656 45.838266 143.654656 46.939177 Z M 143.654656 46.939177 \" transform=\"matrix(1.497339, 0, 0, -1.497339, 94.33386, 221.822928)\"/>\n",
       "<path fill-rule=\"nonzero\" fill=\"rgb(0%, 0%, 79.998779%)\" fill-opacity=\"1\" stroke-width=\"0.3985\" stroke-linecap=\"butt\" stroke-linejoin=\"miter\" stroke=\"rgb(0%, 0%, 100%)\" stroke-opacity=\"1\" stroke-miterlimit=\"10\" d=\"M 150.39839 59.753576 C 150.39839 60.854487 149.506183 61.746695 148.40788 61.746695 C 147.306969 61.746695 146.414761 60.854487 146.414761 59.753576 C 146.414761 58.652665 147.306969 57.760457 148.40788 57.760457 C 149.506183 57.760457 150.39839 58.652665 150.39839 59.753576 Z M 150.39839 59.753576 \" transform=\"matrix(1.497339, 0, 0, -1.497339, 94.33386, 221.822928)\"/>\n",
       "<path fill-rule=\"nonzero\" fill=\"rgb(0%, 0%, 79.998779%)\" fill-opacity=\"1\" stroke-width=\"0.3985\" stroke-linecap=\"butt\" stroke-linejoin=\"miter\" stroke=\"rgb(0%, 0%, 100%)\" stroke-opacity=\"1\" stroke-miterlimit=\"10\" d=\"M 157.144733 74.11499 C 157.144733 75.215901 156.252525 76.1055 155.151614 76.1055 C 154.053311 76.1055 153.161104 75.215901 153.161104 74.11499 C 153.161104 73.014078 154.053311 72.121871 155.151614 72.121871 C 156.252525 72.121871 157.144733 73.014078 157.144733 74.11499 Z M 157.144733 74.11499 \" transform=\"matrix(1.497339, 0, 0, -1.497339, 94.33386, 221.822928)\"/>\n",
       "<path fill-rule=\"nonzero\" fill=\"rgb(0%, 0%, 79.998779%)\" fill-opacity=\"1\" stroke-width=\"0.3985\" stroke-linecap=\"butt\" stroke-linejoin=\"miter\" stroke=\"rgb(0%, 0%, 100%)\" stroke-opacity=\"1\" stroke-miterlimit=\"10\" d=\"M 163.891075 90.018201 C 163.891075 91.119112 162.998868 92.01132 161.897956 92.01132 C 160.797045 92.01132 159.904837 91.119112 159.904837 90.018201 C 159.904837 88.91729 160.797045 88.025082 161.897956 88.025082 C 162.998868 88.025082 163.891075 88.91729 163.891075 90.018201 Z M 163.891075 90.018201 \" transform=\"matrix(1.497339, 0, 0, -1.497339, 94.33386, 221.822928)\"/>\n",
       "<g fill=\"rgb(0%, 0%, 0%)\" fill-opacity=\"1\">\n",
       "<use xlink:href=\"#glyph-2-0\" x=\"211.279038\" y=\"276.031095\"/>\n",
       "</g>\n",
       "<g fill=\"rgb(0%, 0%, 0%)\" fill-opacity=\"1\">\n",
       "<use xlink:href=\"#glyph-3-0\" x=\"22.087249\" y=\"179.427269\"/>\n",
       "</g>\n",
       "<g fill=\"rgb(0%, 0%, 0%)\" fill-opacity=\"1\">\n",
       "<use xlink:href=\"#glyph-4-0\" x=\"22.087249\" y=\"170.518101\"/>\n",
       "</g>\n",
       "<g fill=\"rgb(0%, 0%, 0%)\" fill-opacity=\"1\">\n",
       "<use xlink:href=\"#glyph-3-1\" x=\"22.087249\" y=\"164.71741\"/>\n",
       "</g>\n",
       "<g fill=\"rgb(0%, 0%, 0%)\" fill-opacity=\"1\">\n",
       "<use xlink:href=\"#glyph-4-1\" x=\"22.087249\" y=\"156.191561\"/>\n",
       "</g>\n",
       "<g fill=\"rgb(0%, 0%, 0%)\" fill-opacity=\"1\">\n",
       "<use xlink:href=\"#glyph-4-2\" x=\"22.087249\" y=\"146.243153\"/>\n",
       "</g>\n",
       "<g fill=\"rgb(0%, 0%, 0%)\" fill-opacity=\"1\">\n",
       "<use xlink:href=\"#glyph-3-1\" x=\"22.087249\" y=\"130.500217\"/>\n",
       "</g>\n",
       "<g fill=\"rgb(0%, 0%, 0%)\" fill-opacity=\"1\">\n",
       "<use xlink:href=\"#glyph-5-0\" x=\"16.674368\" y=\"121.974368\"/>\n",
       "</g>\n",
       "<g fill=\"rgb(0%, 0%, 0%)\" fill-opacity=\"1\">\n",
       "<use xlink:href=\"#glyph-6-0\" x=\"22.087249\" y=\"111.967651\"/>\n",
       "</g>\n",
       "<g fill=\"rgb(0%, 0%, 0%)\" fill-opacity=\"1\">\n",
       "<use xlink:href=\"#glyph-3-1\" x=\"22.087249\" y=\"97.049661\"/>\n",
       "</g>\n",
       "<g fill=\"rgb(0%, 0%, 0%)\" fill-opacity=\"1\">\n",
       "<use xlink:href=\"#glyph-4-3\" x=\"22.087249\" y=\"85.208704\"/>\n",
       "</g>\n",
       "<g fill=\"rgb(0%, 0%, 0%)\" fill-opacity=\"1\">\n",
       "<use xlink:href=\"#glyph-4-4\" x=\"22.087249\" y=\"70.294297\"/>\n",
       "</g>\n",
       "</svg>"
      ],
      "text/plain": [
       "<IPython.core.display.SVG object>"
      ]
     },
     "execution_count": 60,
     "metadata": {},
     "output_type": "execute_result"
    }
   ],
   "source": [
    "# Run LaTeX\n",
    "tikz_picture.run_latex()"
   ]
  },
  {
   "cell_type": "markdown",
   "metadata": {},
   "source": [
    "# Additional Examples"
   ]
  },
  {
   "cell_type": "code",
   "execution_count": 61,
   "metadata": {},
   "outputs": [
    {
     "data": {
      "image/png": "[encoded data removed]",
      "text/plain": [
       "<IPython.core.display.Image object>"
      ]
     },
     "execution_count": 61,
     "metadata": {},
     "output_type": "execute_result"
    }
   ],
   "source": [
    "%%tikz -as=tikzpicture --rasterize --dpi=300 -l=arrows,automata\n",
    "\\draw (0,0) rectangle (1,1);\n",
    "\\filldraw (0.5,0.5) circle (.1);"
   ]
  },
  {
   "cell_type": "code",
   "execution_count": 62,
   "metadata": {},
   "outputs": [],
   "source": [
    "from jupyter_tikz import TexFragment\n",
    "\n",
    "tikz_code = tex_template_code = r\"\"\"\\begin{tikzpicture}\n",
    "    \\draw[help lines] grid (5, 5);\n",
    "     \\filldraw [color=orange, opacity=0.3] (2.5,2.5) circle (1.5);\n",
    "\\end{tikzpicture}\"\"\"\n",
    "\n",
    "tikz = TexFragment(tikz_code)"
   ]
  },
  {
   "cell_type": "code",
   "execution_count": 63,
   "metadata": {},
   "outputs": [
    {
     "data": {
      "image/png": "[encoded data removed]",
      "text/plain": [
       "<IPython.core.display.Image object>"
      ]
     },
     "execution_count": 63,
     "metadata": {},
     "output_type": "execute_result"
    }
   ],
   "source": [
    "%%tikz -i -t=pgfplots -nt -r --dpi=150\n",
    "\\begin{axis}[\n",
    "  xlabel=$x$,\n",
    "  ylabel={$f(x) = x^2 + 4$}\n",
    "]\n",
    "\\addplot [red] {x^2 + 4};\n",
    "\\end{axis}"
   ]
  },
  {
   "cell_type": "code",
   "execution_count": 64,
   "metadata": {},
   "outputs": [
    {
     "data": {
      "image/svg+xml": [
       "<svg xmlns=\"http://www.w3.org/2000/svg\" xmlns:xlink=\"http://www.w3.org/1999/xlink\" width=\"141.931\" height=\"141.931\" viewBox=\"0 0 141.931 141.931\">\n",
       "<defs>\n",
       "<clipPath id=\"clip-0\">\n",
       "<path clip-rule=\"nonzero\" d=\"M 0 0 L 141.863281 0 L 141.863281 141.863281 L 0 141.863281 Z M 0 0 \"/>\n",
       "</clipPath>\n",
       "</defs>\n",
       "<g clip-path=\"url(#clip-0)\">\n",
       "<path fill=\"none\" stroke-width=\"0.19925\" stroke-linecap=\"butt\" stroke-linejoin=\"miter\" stroke=\"rgb(50%, 50%, 50%)\" stroke-opacity=\"1\" stroke-miterlimit=\"10\" d=\"M 0.00161187 0.000363546 L 141.734545 0.000363546 M 0.00161187 28.346168 L 141.734545 28.346168 M 0.00161187 56.691973 L 141.734545 56.691973 M 0.00161187 85.041686 L 141.734545 85.041686 M 0.00161187 113.387491 L 141.734545 113.387491 M 0.00161187 141.72548 L 141.734545 141.72548 M 0.00161187 0.000363546 L 0.00161187 141.733296 M 28.347417 0.000363546 L 28.347417 141.733296 M 56.693222 0.000363546 L 56.693222 141.733296 M 85.039027 0.000363546 L 85.039027 141.733296 M 113.38874 0.000363546 L 113.38874 141.733296 M 141.72282 0.000363546 L 141.72282 141.733296 \" transform=\"matrix(0.999514, 0, 0, -0.999514, 0.0999514, 141.762082)\"/>\n",
       "</g>\n",
       "<path fill-rule=\"nonzero\" fill=\"rgb(89.99939%, 89.99939%, 89.99939%)\" fill-opacity=\"1\" stroke-width=\"0.3985\" stroke-linecap=\"butt\" stroke-linejoin=\"miter\" stroke=\"rgb(0%, 0%, 0%)\" stroke-opacity=\"1\" stroke-miterlimit=\"10\" d=\"M 28.347417 28.346168 L 28.347417 56.691973 L 56.693222 56.691973 L 56.693222 28.346168 Z M 28.347417 28.346168 \" transform=\"matrix(0.999514, 0, 0, -0.999514, 0.0999514, 141.762082)\"/>\n",
       "<path fill-rule=\"nonzero\" fill=\"rgb(89.99939%, 89.99939%, 89.99939%)\" fill-opacity=\"1\" stroke-width=\"0.3985\" stroke-linecap=\"butt\" stroke-linejoin=\"miter\" stroke=\"rgb(0%, 0%, 0%)\" stroke-opacity=\"1\" stroke-miterlimit=\"10\" d=\"M 56.693222 28.346168 L 56.693222 56.691973 L 85.039027 56.691973 L 85.039027 28.346168 Z M 56.693222 28.346168 \" transform=\"matrix(0.999514, 0, 0, -0.999514, 0.0999514, 141.762082)\"/>\n",
       "<path fill-rule=\"nonzero\" fill=\"rgb(89.99939%, 89.99939%, 89.99939%)\" fill-opacity=\"1\" stroke-width=\"0.3985\" stroke-linecap=\"butt\" stroke-linejoin=\"miter\" stroke=\"rgb(0%, 0%, 0%)\" stroke-opacity=\"1\" stroke-miterlimit=\"10\" d=\"M 85.039027 28.346168 L 85.039027 56.691973 L 113.38874 56.691973 L 113.38874 28.346168 Z M 85.039027 28.346168 \" transform=\"matrix(0.999514, 0, 0, -0.999514, 0.0999514, 141.762082)\"/>\n",
       "<path fill-rule=\"nonzero\" fill=\"rgb(89.99939%, 89.99939%, 89.99939%)\" fill-opacity=\"1\" stroke-width=\"0.3985\" stroke-linecap=\"butt\" stroke-linejoin=\"miter\" stroke=\"rgb(0%, 0%, 0%)\" stroke-opacity=\"1\" stroke-miterlimit=\"10\" d=\"M 85.039027 56.691973 L 85.039027 85.041686 L 113.38874 85.041686 L 113.38874 56.691973 Z M 85.039027 56.691973 \" transform=\"matrix(0.999514, 0, 0, -0.999514, 0.0999514, 141.762082)\"/>\n",
       "<path fill-rule=\"nonzero\" fill=\"rgb(89.99939%, 89.99939%, 89.99939%)\" fill-opacity=\"1\" stroke-width=\"0.3985\" stroke-linecap=\"butt\" stroke-linejoin=\"miter\" stroke=\"rgb(0%, 0%, 0%)\" stroke-opacity=\"1\" stroke-miterlimit=\"10\" d=\"M 56.693222 85.041686 L 56.693222 113.387491 L 85.039027 113.387491 L 85.039027 85.041686 Z M 56.693222 85.041686 \" transform=\"matrix(0.999514, 0, 0, -0.999514, 0.0999514, 141.762082)\"/>\n",
       "</svg>"
      ],
      "text/plain": [
       "<IPython.core.display.SVG object>"
      ]
     },
     "execution_count": 64,
     "metadata": {},
     "output_type": "execute_result"
    }
   ],
   "source": [
    "%%tikz\n",
    "\\begin{tikzpicture}\n",
    "    \\draw[help lines] grid (5, 5);\n",
    "    \\draw[fill=black!10] (1, 1) rectangle (2, 2);\n",
    "    \\draw[fill=black!10] (2, 1) rectangle (3, 2);\n",
    "    \\draw[fill=black!10] (3, 1) rectangle (4, 2);\n",
    "    \\draw[fill=black!10] (3, 2) rectangle (4, 3);\n",
    "    \\draw[fill=black!10] (2, 3) rectangle (3, 4);\n",
    "\\end{tikzpicture}"
   ]
  },
  {
   "cell_type": "code",
   "execution_count": 65,
   "metadata": {},
   "outputs": [
    {
     "data": {
      "image/svg+xml": [
       "<svg xmlns=\"http://www.w3.org/2000/svg\" xmlns:xlink=\"http://www.w3.org/1999/xlink\" width=\"231.272\" height=\"121.054\" viewBox=\"0 0 231.272 121.054\">\n",
       "<defs>\n",
       "<g>\n",
       "<g id=\"glyph-0-0\">\n",
       "<path d=\"M 6.21875 -5.625 C 6.703125 -6.40625 7.109375 -6.421875 7.484375 -6.453125 C 7.59375 -6.453125 7.609375 -6.625 7.609375 -6.640625 C 7.609375 -6.71875 7.5625 -6.75 7.484375 -6.75 C 7.21875 -6.75 6.9375 -6.71875 6.671875 -6.71875 C 6.34375 -6.71875 6 -6.75 5.6875 -6.75 C 5.625 -6.75 5.5 -6.75 5.5 -6.5625 C 5.5 -6.453125 5.59375 -6.453125 5.65625 -6.453125 C 5.921875 -6.421875 6.109375 -6.328125 6.109375 -6.125 C 6.109375 -5.96875 5.96875 -5.75 5.96875 -5.75 L 2.921875 -0.921875 L 2.25 -6.15625 C 2.25 -6.3125 2.484375 -6.453125 2.9375 -6.453125 C 3.078125 -6.453125 3.1875 -6.453125 3.1875 -6.640625 C 3.1875 -6.734375 3.109375 -6.75 3.046875 -6.75 C 2.65625 -6.75 2.21875 -6.71875 1.8125 -6.71875 C 1.640625 -6.71875 1.453125 -6.734375 1.28125 -6.734375 C 1.09375 -6.734375 0.90625 -6.75 0.734375 -6.75 C 0.671875 -6.75 0.546875 -6.75 0.546875 -6.5625 C 0.546875 -6.453125 0.640625 -6.453125 0.796875 -6.453125 C 1.359375 -6.453125 1.359375 -6.359375 1.390625 -6.109375 L 2.171875 -0.015625 C 2.203125 0.1875 2.25 0.21875 2.375 0.21875 C 2.53125 0.21875 2.578125 0.171875 2.65625 0.046875 Z M 6.21875 -5.625 \"/>\n",
       "</g>\n",
       "<g id=\"glyph-0-1\">\n",
       "<path d=\"M 3.703125 -6.078125 C 3.765625 -6.3125 3.796875 -6.40625 3.984375 -6.4375 C 4.078125 -6.453125 4.390625 -6.453125 4.59375 -6.453125 C 5.296875 -6.453125 6.390625 -6.453125 6.390625 -5.46875 C 6.390625 -5.140625 6.234375 -4.453125 5.84375 -4.0625 C 5.59375 -3.8125 5.0625 -3.484375 4.171875 -3.484375 L 3.0625 -3.484375 Z M 5.140625 -3.359375 C 6.125 -3.578125 7.3125 -4.265625 7.3125 -5.265625 C 7.3125 -6.125 6.421875 -6.75 5.125 -6.75 L 2.296875 -6.75 C 2.109375 -6.75 2.015625 -6.75 2.015625 -6.5625 C 2.015625 -6.453125 2.109375 -6.453125 2.296875 -6.453125 C 2.3125 -6.453125 2.5 -6.453125 2.671875 -6.421875 C 2.84375 -6.40625 2.9375 -6.40625 2.9375 -6.265625 C 2.9375 -6.234375 2.921875 -6.203125 2.890625 -6.078125 L 1.578125 -0.765625 C 1.46875 -0.390625 1.453125 -0.3125 0.671875 -0.3125 C 0.5 -0.3125 0.40625 -0.3125 0.40625 -0.109375 C 0.40625 0 0.53125 0 0.546875 0 C 0.828125 0 1.515625 -0.03125 1.796875 -0.03125 C 2.0625 -0.03125 2.765625 0 3.046875 0 C 3.125 0 3.25 0 3.25 -0.203125 C 3.25 -0.3125 3.15625 -0.3125 2.96875 -0.3125 C 2.59375 -0.3125 2.328125 -0.3125 2.328125 -0.484375 C 2.328125 -0.546875 2.34375 -0.59375 2.359375 -0.65625 L 3 -3.28125 L 4.1875 -3.28125 C 5.078125 -3.28125 5.265625 -2.71875 5.265625 -2.375 C 5.265625 -2.21875 5.1875 -1.921875 5.125 -1.6875 C 5.046875 -1.421875 4.96875 -1.046875 4.96875 -0.84375 C 4.96875 0.21875 6.15625 0.21875 6.28125 0.21875 C 7.125 0.21875 7.46875 -0.78125 7.46875 -0.921875 C 7.46875 -1.03125 7.359375 -1.03125 7.34375 -1.03125 C 7.265625 -1.03125 7.234375 -0.96875 7.21875 -0.90625 C 6.96875 -0.171875 6.546875 0 6.3125 0 C 6 0 5.921875 -0.21875 5.921875 -0.609375 C 5.921875 -0.90625 5.984375 -1.421875 6.015625 -1.734375 C 6.046875 -1.875 6.0625 -2.0625 6.0625 -2.203125 C 6.0625 -2.953125 5.40625 -3.265625 5.140625 -3.359375 Z M 5.140625 -3.359375 \"/>\n",
       "</g>\n",
       "<g id=\"glyph-1-0\">\n",
       "<path d=\"M 2.984375 -2.609375 C 2.796875 -2.5625 2.6875 -2.421875 2.6875 -2.28125 C 2.6875 -2.125 2.828125 -2.0625 2.921875 -2.0625 C 2.984375 -2.0625 3.25 -2.09375 3.25 -2.453125 C 3.25 -2.90625 2.75 -3.046875 2.328125 -3.046875 C 1.25 -3.046875 1.0625 -2.25 1.0625 -2.046875 C 1.0625 -1.78125 1.203125 -1.625 1.296875 -1.53125 C 1.484375 -1.390625 1.609375 -1.375 2.078125 -1.28125 C 2.234375 -1.265625 2.671875 -1.171875 2.671875 -0.828125 C 2.671875 -0.71875 2.59375 -0.453125 2.3125 -0.28125 C 2.03125 -0.125 1.703125 -0.125 1.609375 -0.125 C 1.328125 -0.125 0.9375 -0.1875 0.78125 -0.421875 C 1.015625 -0.4375 1.15625 -0.609375 1.15625 -0.8125 C 1.15625 -0.984375 1.03125 -1.0625 0.890625 -1.0625 C 0.6875 -1.0625 0.484375 -0.90625 0.484375 -0.609375 C 0.484375 -0.1875 0.9375 0.0625 1.609375 0.0625 C 2.875 0.0625 3.109375 -0.796875 3.109375 -1.078125 C 3.109375 -1.703125 2.421875 -1.828125 2.15625 -1.875 C 2.09375 -1.890625 1.921875 -1.921875 1.875 -1.9375 C 1.625 -1.984375 1.5 -2.125 1.5 -2.28125 C 1.5 -2.4375 1.625 -2.625 1.78125 -2.734375 C 1.96875 -2.84375 2.203125 -2.859375 2.328125 -2.859375 C 2.46875 -2.859375 2.828125 -2.84375 2.984375 -2.609375 Z M 2.984375 -2.609375 \"/>\n",
       "</g>\n",
       "<g id=\"glyph-2-0\">\n",
       "<path d=\"M 2.3125 -4.40625 C 2.3125 -4.59375 2.3125 -4.59375 2.109375 -4.59375 C 1.671875 -4.15625 1.03125 -4.15625 0.75 -4.15625 L 0.75 -3.90625 C 0.921875 -3.90625 1.375 -3.90625 1.765625 -4.09375 L 1.765625 -0.5625 C 1.765625 -0.34375 1.765625 -0.25 1.0625 -0.25 L 0.796875 -0.25 L 0.796875 0 C 0.921875 0 1.78125 -0.03125 2.03125 -0.03125 C 2.25 -0.03125 3.125 0 3.28125 0 L 3.28125 -0.25 L 3.015625 -0.25 C 2.3125 -0.25 2.3125 -0.34375 2.3125 -0.5625 Z M 2.3125 -4.40625 \"/>\n",
       "</g>\n",
       "<g id=\"glyph-3-0\">\n",
       "<path d=\"M 3.9375 -6.890625 C 3.890625 -7.015625 3.875 -7.078125 3.703125 -7.078125 C 3.546875 -7.078125 3.515625 -7.015625 3.46875 -6.890625 L 1.421875 -0.96875 C 1.25 -0.46875 0.84375 -0.3125 0.3125 -0.3125 L 0.3125 0 C 0.546875 -0.015625 0.96875 -0.03125 1.328125 -0.03125 C 1.625 -0.03125 2.140625 -0.015625 2.46875 0 L 2.46875 -0.3125 C 1.96875 -0.3125 1.71875 -0.546875 1.71875 -0.8125 C 1.71875 -0.84375 1.734375 -0.9375 1.734375 -0.953125 L 2.203125 -2.25 L 4.640625 -2.25 L 5.15625 -0.734375 C 5.171875 -0.703125 5.1875 -0.640625 5.1875 -0.609375 C 5.1875 -0.3125 4.640625 -0.3125 4.375 -0.3125 L 4.375 0 C 4.734375 -0.03125 5.421875 -0.03125 5.796875 -0.03125 C 6.21875 -0.03125 6.671875 -0.015625 7.09375 0 L 7.09375 -0.3125 L 6.90625 -0.3125 C 6.3125 -0.3125 6.1875 -0.375 6.078125 -0.703125 Z M 3.40625 -5.78125 L 4.53125 -2.5625 L 2.296875 -2.5625 Z M 3.40625 -5.78125 \"/>\n",
       "</g>\n",
       "<g id=\"glyph-3-1\">\n",
       "<path d=\"M 5.75 -2.546875 L 5.515625 -2.546875 C 5.40625 -1.546875 5.265625 -0.3125 3.515625 -0.3125 L 2.703125 -0.3125 C 2.25 -0.3125 2.21875 -0.375 2.21875 -0.703125 L 2.21875 -5.96875 C 2.21875 -6.3125 2.21875 -6.453125 3.171875 -6.453125 L 3.484375 -6.453125 L 3.484375 -6.75 C 3.140625 -6.71875 2.234375 -6.71875 1.828125 -6.71875 C 1.4375 -6.71875 0.671875 -6.71875 0.328125 -6.75 L 0.328125 -6.453125 L 0.5625 -6.453125 C 1.328125 -6.453125 1.34375 -6.34375 1.34375 -5.984375 L 1.34375 -0.765625 C 1.34375 -0.421875 1.328125 -0.3125 0.5625 -0.3125 L 0.328125 -0.3125 L 0.328125 0 L 5.484375 0 Z M 5.75 -2.546875 \"/>\n",
       "</g>\n",
       "<g id=\"glyph-3-2\">\n",
       "<path d=\"M 3.296875 -0.75 C 3.328125 -0.359375 3.59375 0.0625 4.0625 0.0625 C 4.265625 0.0625 4.875 -0.078125 4.875 -0.875 L 4.875 -1.4375 L 4.625 -1.4375 L 4.625 -0.875 C 4.625 -0.3125 4.375 -0.25 4.265625 -0.25 C 3.953125 -0.25 3.90625 -0.6875 3.90625 -0.734375 L 3.90625 -2.71875 C 3.90625 -3.140625 3.90625 -3.515625 3.546875 -3.890625 C 3.171875 -4.265625 2.671875 -4.4375 2.203125 -4.4375 C 1.390625 -4.4375 0.703125 -3.96875 0.703125 -3.3125 C 0.703125 -3.015625 0.90625 -2.84375 1.15625 -2.84375 C 1.4375 -2.84375 1.609375 -3.046875 1.609375 -3.296875 C 1.609375 -3.421875 1.5625 -3.75 1.109375 -3.765625 C 1.375 -4.109375 1.859375 -4.21875 2.171875 -4.21875 C 2.65625 -4.21875 3.21875 -3.828125 3.21875 -2.953125 L 3.21875 -2.578125 C 2.71875 -2.546875 2.03125 -2.515625 1.40625 -2.21875 C 0.65625 -1.890625 0.421875 -1.375 0.421875 -0.9375 C 0.421875 -0.140625 1.375 0.109375 2 0.109375 C 2.65625 0.109375 3.109375 -0.28125 3.296875 -0.75 Z M 3.21875 -2.375 L 3.21875 -1.390625 C 3.21875 -0.4375 2.515625 -0.109375 2.0625 -0.109375 C 1.578125 -0.109375 1.171875 -0.453125 1.171875 -0.953125 C 1.171875 -1.5 1.59375 -2.3125 3.21875 -2.375 Z M 3.21875 -2.375 \"/>\n",
       "</g>\n",
       "<g id=\"glyph-3-3\">\n",
       "<path d=\"M 1.09375 -3.40625 L 1.09375 -0.75 C 1.09375 -0.3125 0.984375 -0.3125 0.3125 -0.3125 L 0.3125 0 C 0.65625 -0.015625 1.171875 -0.03125 1.4375 -0.03125 C 1.6875 -0.03125 2.203125 -0.015625 2.546875 0 L 2.546875 -0.3125 C 1.875 -0.3125 1.765625 -0.3125 1.765625 -0.75 L 1.765625 -2.578125 C 1.765625 -3.59375 2.46875 -4.15625 3.109375 -4.15625 C 3.734375 -4.15625 3.84375 -3.625 3.84375 -3.0625 L 3.84375 -0.75 C 3.84375 -0.3125 3.734375 -0.3125 3.0625 -0.3125 L 3.0625 0 C 3.40625 -0.015625 3.921875 -0.03125 4.1875 -0.03125 C 4.4375 -0.03125 4.953125 -0.015625 5.296875 0 L 5.296875 -0.3125 C 4.625 -0.3125 4.515625 -0.3125 4.515625 -0.75 L 4.515625 -2.578125 C 4.515625 -3.59375 5.21875 -4.15625 5.859375 -4.15625 C 6.484375 -4.15625 6.59375 -3.625 6.59375 -3.0625 L 6.59375 -0.75 C 6.59375 -0.3125 6.484375 -0.3125 5.8125 -0.3125 L 5.8125 0 C 6.15625 -0.015625 6.671875 -0.03125 6.9375 -0.03125 C 7.1875 -0.03125 7.703125 -0.015625 8.046875 0 L 8.046875 -0.3125 C 7.53125 -0.3125 7.28125 -0.3125 7.265625 -0.609375 L 7.265625 -2.5 C 7.265625 -3.34375 7.265625 -3.65625 6.96875 -4 C 6.828125 -4.171875 6.5 -4.375 5.921875 -4.375 C 5.09375 -4.375 4.65625 -3.78125 4.484375 -3.40625 C 4.359375 -4.265625 3.625 -4.375 3.171875 -4.375 C 2.453125 -4.375 1.984375 -3.953125 1.71875 -3.328125 L 1.71875 -4.375 L 0.3125 -4.265625 L 0.3125 -3.953125 C 1.015625 -3.953125 1.09375 -3.890625 1.09375 -3.40625 Z M 1.09375 -3.40625 \"/>\n",
       "</g>\n",
       "<g id=\"glyph-3-4\">\n",
       "<path d=\"M 1.703125 -3.71875 L 1.703125 -4.375 L 0.28125 -4.265625 L 0.28125 -3.953125 C 0.984375 -3.953125 1.046875 -3.890625 1.046875 -3.46875 L 1.046875 1.171875 C 1.046875 1.609375 0.9375 1.609375 0.28125 1.609375 L 0.28125 1.921875 C 0.609375 1.90625 1.125 1.890625 1.390625 1.890625 C 1.65625 1.890625 2.15625 1.90625 2.5 1.921875 L 2.5 1.609375 C 1.84375 1.609375 1.734375 1.609375 1.734375 1.171875 L 1.734375 -0.578125 C 1.78125 -0.421875 2.203125 0.109375 2.953125 0.109375 C 4.125 0.109375 5.15625 -0.859375 5.15625 -2.140625 C 5.15625 -3.390625 4.1875 -4.375 3.078125 -4.375 C 2.3125 -4.375 1.90625 -3.9375 1.703125 -3.71875 Z M 1.734375 -1.125 L 1.734375 -3.328125 C 2.015625 -3.84375 2.5 -4.125 3 -4.125 C 3.734375 -4.125 4.328125 -3.25 4.328125 -2.140625 C 4.328125 -0.9375 3.640625 -0.109375 2.90625 -0.109375 C 2.515625 -0.109375 2.140625 -0.3125 1.875 -0.71875 C 1.734375 -0.921875 1.734375 -0.9375 1.734375 -1.125 Z M 1.734375 -1.125 \"/>\n",
       "</g>\n",
       "<g id=\"glyph-3-5\">\n",
       "<path d=\"M 5.859375 -0.625 C 6 -0.40625 6.390625 -0.015625 6.5 -0.015625 C 6.59375 -0.015625 6.59375 -0.09375 6.59375 -0.234375 L 6.59375 -1.953125 C 6.59375 -2.34375 6.625 -2.390625 7.265625 -2.390625 L 7.265625 -2.703125 C 6.90625 -2.6875 6.359375 -2.671875 6.0625 -2.671875 C 5.671875 -2.671875 4.828125 -2.671875 4.46875 -2.703125 L 4.46875 -2.390625 L 4.78125 -2.390625 C 5.671875 -2.390625 5.703125 -2.28125 5.703125 -1.921875 L 5.703125 -1.28125 C 5.703125 -0.171875 4.453125 -0.09375 4.171875 -0.09375 C 3.53125 -0.09375 1.578125 -0.4375 1.578125 -3.375 C 1.578125 -6.34375 3.515625 -6.671875 4.109375 -6.671875 C 5.171875 -6.671875 6.078125 -5.78125 6.265625 -4.328125 C 6.296875 -4.1875 6.296875 -4.15625 6.421875 -4.15625 C 6.59375 -4.15625 6.59375 -4.1875 6.59375 -4.390625 L 6.59375 -6.734375 C 6.59375 -6.90625 6.59375 -6.96875 6.484375 -6.96875 C 6.4375 -6.96875 6.40625 -6.96875 6.3125 -6.859375 L 5.828125 -6.125 C 5.515625 -6.4375 4.96875 -6.96875 4 -6.96875 C 2.15625 -6.96875 0.546875 -5.40625 0.546875 -3.375 C 0.546875 -1.359375 2.140625 0.21875 4.015625 0.21875 C 4.734375 0.21875 5.53125 -0.046875 5.859375 -0.625 Z M 5.859375 -0.625 \"/>\n",
       "</g>\n",
       "<g id=\"glyph-3-6\">\n",
       "<path d=\"M 1.65625 -3.28125 L 1.65625 -4.375 L 0.28125 -4.265625 L 0.28125 -3.953125 C 0.96875 -3.953125 1.046875 -3.890625 1.046875 -3.40625 L 1.046875 -0.75 C 1.046875 -0.3125 0.9375 -0.3125 0.28125 -0.3125 L 0.28125 0 C 0.65625 -0.015625 1.125 -0.03125 1.40625 -0.03125 C 1.796875 -0.03125 2.265625 -0.03125 2.65625 0 L 2.65625 -0.3125 L 2.453125 -0.3125 C 1.71875 -0.3125 1.703125 -0.421875 1.703125 -0.765625 L 1.703125 -2.296875 C 1.703125 -3.28125 2.109375 -4.15625 2.875 -4.15625 C 2.9375 -4.15625 2.953125 -4.15625 2.984375 -4.140625 C 2.953125 -4.140625 2.75 -4.015625 2.75 -3.765625 C 2.75 -3.484375 2.953125 -3.328125 3.171875 -3.328125 C 3.359375 -3.328125 3.59375 -3.453125 3.59375 -3.765625 C 3.59375 -4.078125 3.296875 -4.375 2.875 -4.375 C 2.140625 -4.375 1.796875 -3.703125 1.65625 -3.28125 Z M 1.65625 -3.28125 \"/>\n",
       "</g>\n",
       "<g id=\"glyph-3-7\">\n",
       "<path d=\"M 4.65625 -2.109375 C 4.65625 -3.375 3.671875 -4.4375 2.46875 -4.4375 C 1.234375 -4.4375 0.28125 -3.359375 0.28125 -2.109375 C 0.28125 -0.84375 1.3125 0.109375 2.46875 0.109375 C 3.65625 0.109375 4.65625 -0.859375 4.65625 -2.109375 Z M 2.46875 -0.140625 C 2.046875 -0.140625 1.609375 -0.34375 1.34375 -0.796875 C 1.09375 -1.234375 1.09375 -1.84375 1.09375 -2.203125 C 1.09375 -2.578125 1.09375 -3.109375 1.328125 -3.546875 C 1.609375 -4 2.0625 -4.21875 2.46875 -4.21875 C 2.890625 -4.21875 3.328125 -4 3.578125 -3.578125 C 3.84375 -3.140625 3.84375 -2.578125 3.84375 -2.203125 C 3.84375 -1.84375 3.84375 -1.3125 3.625 -0.875 C 3.40625 -0.421875 2.96875 -0.140625 2.46875 -0.140625 Z M 2.46875 -0.140625 \"/>\n",
       "</g>\n",
       "<g id=\"glyph-3-8\">\n",
       "<path d=\"M 3.875 -0.78125 L 3.875 0.109375 L 5.296875 0 L 5.296875 -0.3125 C 4.59375 -0.3125 4.515625 -0.375 4.515625 -0.859375 L 4.515625 -4.375 L 3.0625 -4.265625 L 3.0625 -3.953125 C 3.765625 -3.953125 3.84375 -3.890625 3.84375 -3.40625 L 3.84375 -1.640625 C 3.84375 -0.78125 3.359375 -0.109375 2.640625 -0.109375 C 1.8125 -0.109375 1.765625 -0.578125 1.765625 -1.09375 L 1.765625 -4.375 L 0.3125 -4.265625 L 0.3125 -3.953125 C 1.09375 -3.953125 1.09375 -3.921875 1.09375 -3.046875 L 1.09375 -1.5625 C 1.09375 -0.796875 1.09375 0.109375 2.59375 0.109375 C 3.140625 0.109375 3.578125 -0.171875 3.875 -0.78125 Z M 3.875 -0.78125 \"/>\n",
       "</g>\n",
       "<g id=\"glyph-3-9\">\n",
       "<path d=\"M 1.09375 -3.40625 L 1.09375 -0.75 C 1.09375 -0.3125 0.984375 -0.3125 0.3125 -0.3125 L 0.3125 0 C 0.65625 -0.015625 1.171875 -0.03125 1.4375 -0.03125 C 1.6875 -0.03125 2.203125 -0.015625 2.546875 0 L 2.546875 -0.3125 C 1.875 -0.3125 1.765625 -0.3125 1.765625 -0.75 L 1.765625 -2.578125 C 1.765625 -3.59375 2.46875 -4.15625 3.109375 -4.15625 C 3.734375 -4.15625 3.84375 -3.625 3.84375 -3.0625 L 3.84375 -0.75 C 3.84375 -0.3125 3.734375 -0.3125 3.0625 -0.3125 L 3.0625 0 C 3.40625 -0.015625 3.921875 -0.03125 4.1875 -0.03125 C 4.4375 -0.03125 4.953125 -0.015625 5.296875 0 L 5.296875 -0.3125 C 4.78125 -0.3125 4.53125 -0.3125 4.515625 -0.609375 L 4.515625 -2.5 C 4.515625 -3.34375 4.515625 -3.65625 4.21875 -4 C 4.078125 -4.171875 3.75 -4.375 3.171875 -4.375 C 2.453125 -4.375 1.984375 -3.953125 1.71875 -3.328125 L 1.71875 -4.375 L 0.3125 -4.265625 L 0.3125 -3.953125 C 1.015625 -3.953125 1.09375 -3.890625 1.09375 -3.40625 Z M 1.09375 -3.40625 \"/>\n",
       "</g>\n",
       "<g id=\"glyph-3-10\">\n",
       "<path d=\"M 3.765625 -0.546875 L 3.765625 0.109375 L 5.21875 0 L 5.21875 -0.3125 C 4.515625 -0.3125 4.4375 -0.375 4.4375 -0.859375 L 4.4375 -6.859375 L 3.015625 -6.75 L 3.015625 -6.453125 C 3.703125 -6.453125 3.78125 -6.375 3.78125 -5.890625 L 3.78125 -3.765625 C 3.5 -4.109375 3.078125 -4.375 2.546875 -4.375 C 1.375 -4.375 0.34375 -3.40625 0.34375 -2.125 C 0.34375 -0.875 1.3125 0.109375 2.4375 0.109375 C 3.0625 0.109375 3.515625 -0.234375 3.765625 -0.546875 Z M 3.765625 -3.1875 L 3.765625 -1.171875 C 3.765625 -0.984375 3.765625 -0.96875 3.65625 -0.796875 C 3.359375 -0.328125 2.90625 -0.109375 2.484375 -0.109375 C 2.03125 -0.109375 1.6875 -0.359375 1.4375 -0.734375 C 1.1875 -1.140625 1.15625 -1.71875 1.15625 -2.109375 C 1.15625 -2.484375 1.171875 -3.078125 1.46875 -3.515625 C 1.671875 -3.828125 2.046875 -4.15625 2.578125 -4.15625 C 2.921875 -4.15625 3.34375 -4 3.65625 -3.5625 C 3.765625 -3.390625 3.765625 -3.375 3.765625 -3.1875 Z M 3.765625 -3.1875 \"/>\n",
       "</g>\n",
       "</g>\n",
       "<clipPath id=\"clip-0\">\n",
       "<path clip-rule=\"nonzero\" d=\"M 19 110 L 34 110 L 34 120.117188 L 19 120.117188 Z M 19 110 \"/>\n",
       "</clipPath>\n",
       "<clipPath id=\"clip-1\">\n",
       "<path clip-rule=\"nonzero\" d=\"M 20 115 L 34 115 L 34 120.117188 L 20 120.117188 Z M 20 115 \"/>\n",
       "</clipPath>\n",
       "</defs>\n",
       "<path fill=\"none\" stroke-width=\"0.3985\" stroke-linecap=\"butt\" stroke-linejoin=\"miter\" stroke=\"rgb(0%, 0%, 0%)\" stroke-opacity=\"1\" stroke-miterlimit=\"10\" d=\"M 0.0009521 -0.000233995 L 0.0009521 36.56848 M 0.0009521 48.473291 L 0.0009521 85.042004 \" transform=\"matrix(0.992246, 0, 0, -0.992246, 26.713899, 103.968518)\"/>\n",
       "<path fill=\"none\" stroke-width=\"0.797\" stroke-linecap=\"butt\" stroke-linejoin=\"miter\" stroke=\"rgb(0%, 0%, 0%)\" stroke-opacity=\"1\" stroke-miterlimit=\"10\" d=\"M -11.903859 36.56848 L 11.905763 36.56848 M -5.951453 40.53675 L 5.953358 40.53675 M -11.903859 44.50502 L 11.905763 44.50502 M -5.951453 48.473291 L 5.953358 48.473291 \" transform=\"matrix(0.992246, 0, 0, -0.992246, 26.713899, 103.968518)\"/>\n",
       "<g fill=\"rgb(0%, 0%, 0%)\" fill-opacity=\"1\">\n",
       "<use xlink:href=\"#glyph-0-0\" x=\"2.131999\" y=\"63.907582\"/>\n",
       "</g>\n",
       "<g fill=\"rgb(0%, 0%, 0%)\" fill-opacity=\"1\">\n",
       "<use xlink:href=\"#glyph-1-0\" x=\"7.89794\" y=\"65.389997\"/>\n",
       "</g>\n",
       "<path fill=\"none\" stroke-width=\"0.3985\" stroke-linecap=\"butt\" stroke-linejoin=\"miter\" stroke=\"rgb(0%, 0%, 0%)\" stroke-opacity=\"1\" stroke-miterlimit=\"10\" d=\"M 0.0009521 85.042004 L 26.645053 85.042004 M 58.395153 85.042004 L 85.039254 85.042004 \" transform=\"matrix(0.992246, 0, 0, -0.992246, 26.713899, 103.968518)\"/>\n",
       "<path fill=\"none\" stroke-width=\"0.797\" stroke-linecap=\"butt\" stroke-linejoin=\"bevel\" stroke=\"rgb(0%, 0%, 0%)\" stroke-opacity=\"1\" stroke-miterlimit=\"10\" d=\"M 26.247439 85.042004 L 29.325998 90.99441 L 34.68395 79.085662 L 40.041902 90.99441 L 45.399855 79.085662 L 50.757807 90.99441 L 56.115759 79.085662 L 58.792767 85.042004 \" transform=\"matrix(0.992246, 0, 0, -0.992246, 26.713899, 103.968518)\"/>\n",
       "<path fill-rule=\"nonzero\" fill=\"rgb(0%, 0%, 0%)\" fill-opacity=\"1\" stroke-width=\"0.3985\" stroke-linecap=\"butt\" stroke-linejoin=\"miter\" stroke=\"rgb(0%, 0%, 0%)\" stroke-opacity=\"1\" stroke-miterlimit=\"10\" d=\"M 86.625774 85.042004 C 86.625774 85.915969 85.917155 86.628525 85.039254 86.628525 C 84.165289 86.628525 83.452733 85.915969 83.452733 85.042004 C 83.452733 84.164103 84.165289 83.451547 85.039254 83.451547 C 85.917155 83.451547 86.625774 84.164103 86.625774 85.042004 Z M 86.625774 85.042004 \" transform=\"matrix(0.992246, 0, 0, -0.992246, 26.713899, 103.968518)\"/>\n",
       "<g fill=\"rgb(0%, 0%, 0%)\" fill-opacity=\"1\">\n",
       "<use xlink:href=\"#glyph-0-1\" x=\"62.933851\" y=\"9.898645\"/>\n",
       "</g>\n",
       "<g fill=\"rgb(0%, 0%, 0%)\" fill-opacity=\"1\">\n",
       "<use xlink:href=\"#glyph-2-0\" x=\"70.439199\" y=\"11.38106\"/>\n",
       "</g>\n",
       "<g fill=\"rgb(0%, 0%, 0%)\" fill-opacity=\"1\">\n",
       "<use xlink:href=\"#glyph-3-0\" x=\"107.386468\" y=\"16.096213\"/>\n",
       "</g>\n",
       "<path fill=\"none\" stroke-width=\"0.3985\" stroke-linecap=\"butt\" stroke-linejoin=\"miter\" stroke=\"rgb(0%, 0%, 0%)\" stroke-opacity=\"1\" stroke-miterlimit=\"10\" d=\"M 85.039254 85.042004 L 170.081492 85.042004 L 170.081492 58.393967 M 170.081492 26.647804 L 170.081492 -0.000233995 \" transform=\"matrix(0.992246, 0, 0, -0.992246, 26.713899, 103.968518)\"/>\n",
       "<path fill=\"none\" stroke-width=\"0.797\" stroke-linecap=\"butt\" stroke-linejoin=\"miter\" stroke=\"rgb(0%, 0%, 0%)\" stroke-opacity=\"1\" stroke-miterlimit=\"10\" d=\"M 164.129087 26.647804 L 164.129087 58.393967 L 176.033898 58.393967 L 176.033898 26.647804 Z M 164.129087 26.647804 \" transform=\"matrix(0.992246, 0, 0, -0.992246, 26.713899, 103.968518)\"/>\n",
       "<path fill-rule=\"nonzero\" fill=\"rgb(0%, 0%, 0%)\" fill-opacity=\"1\" stroke-width=\"0.3985\" stroke-linecap=\"butt\" stroke-linejoin=\"miter\" stroke=\"rgb(0%, 0%, 0%)\" stroke-opacity=\"1\" stroke-miterlimit=\"10\" d=\"M 171.668013 -0.000233995 C 171.668013 0.877667 170.955456 1.586287 170.081492 1.586287 C 169.203591 1.586287 168.494971 0.877667 168.494971 -0.000233995 C 168.494971 -0.878135 169.203591 -1.586755 170.081492 -1.586755 C 170.955456 -1.586755 171.668013 -0.878135 171.668013 -0.000233995 Z M 171.668013 -0.000233995 \" transform=\"matrix(0.992246, 0, 0, -0.992246, 26.713899, 103.968518)\"/>\n",
       "<g fill=\"rgb(0%, 0%, 0%)\" fill-opacity=\"1\">\n",
       "<use xlink:href=\"#glyph-3-1\" x=\"203.566847\" y=\"63.907582\"/>\n",
       "<use xlink:href=\"#glyph-3-2\" x=\"209.74519\" y=\"63.907582\"/>\n",
       "<use xlink:href=\"#glyph-3-3\" x=\"214.687865\" y=\"63.907582\"/>\n",
       "<use xlink:href=\"#glyph-3-4\" x=\"222.925326\" y=\"63.907582\"/>\n",
       "</g>\n",
       "<path fill=\"none\" stroke-width=\"0.3985\" stroke-linecap=\"butt\" stroke-linejoin=\"miter\" stroke=\"rgb(0%, 0%, 0%)\" stroke-opacity=\"1\" stroke-miterlimit=\"10\" d=\"M 0.0009521 -0.000233995 L 170.081492 -0.000233995 \" transform=\"matrix(0.992246, 0, 0, -0.992246, 26.713899, 103.968518)\"/>\n",
       "<path fill=\"none\" stroke-width=\"0.3985\" stroke-linecap=\"butt\" stroke-linejoin=\"miter\" stroke=\"rgb(0%, 0%, 0%)\" stroke-opacity=\"1\" stroke-miterlimit=\"10\" d=\"M 170.081492 -0.000233995 L 170.081492 -14.172628 L 85.039254 -14.172628 M 85.039254 -14.172628 L 0.0009521 -14.172628 L 0.0009521 -0.000233995 \" transform=\"matrix(0.992246, 0, 0, -0.992246, 26.713899, 103.968518)\"/>\n",
       "<path fill-rule=\"nonzero\" fill=\"rgb(0%, 0%, 0%)\" fill-opacity=\"1\" d=\"M 28.289062 118.03125 C 28.289062 117.164062 27.582031 116.457031 26.714844 116.457031 C 25.84375 116.457031 25.140625 117.164062 25.140625 118.03125 C 25.140625 118.902344 25.84375 119.605469 26.714844 119.605469 C 27.582031 119.605469 28.289062 118.902344 28.289062 118.03125 Z M 28.289062 118.03125 \"/>\n",
       "<g clip-path=\"url(#clip-0)\">\n",
       "<path fill=\"none\" stroke-width=\"0.3985\" stroke-linecap=\"butt\" stroke-linejoin=\"miter\" stroke=\"rgb(0%, 0%, 0%)\" stroke-opacity=\"1\" stroke-miterlimit=\"10\" d=\"M 1.587473 -14.172628 C 1.587473 -13.298664 0.874916 -12.586107 0.0009521 -12.586107 C -0.876949 -12.586107 -1.585569 -13.298664 -1.585569 -14.172628 C -1.585569 -15.050529 -0.876949 -15.759149 0.0009521 -15.759149 C 0.874916 -15.759149 1.587473 -15.050529 1.587473 -14.172628 Z M 1.587473 -14.172628 \" transform=\"matrix(0.992246, 0, 0, -0.992246, 26.713899, 103.968518)\"/>\n",
       "</g>\n",
       "<path fill=\"none\" stroke-width=\"0.3985\" stroke-linecap=\"butt\" stroke-linejoin=\"miter\" stroke=\"rgb(0%, 0%, 0%)\" stroke-opacity=\"1\" stroke-miterlimit=\"10\" d=\"M 0.0009521 -0.000233995 L 0.0009521 -11.905045 \" transform=\"matrix(0.992246, 0, 0, -0.992246, 26.713899, 103.968518)\"/>\n",
       "<g clip-path=\"url(#clip-1)\">\n",
       "<path fill=\"none\" stroke-width=\"0.797\" stroke-linecap=\"butt\" stroke-linejoin=\"miter\" stroke=\"rgb(0%, 0%, 0%)\" stroke-opacity=\"1\" stroke-miterlimit=\"10\" d=\"M -5.951453 -11.905045 L 5.953358 -11.905045 M -3.967318 -13.88918 L 3.969222 -13.88918 M -2.479217 -15.873315 L 2.481121 -15.873315 \" transform=\"matrix(0.992246, 0, 0, -0.992246, 26.713899, 103.968518)\"/>\n",
       "</g>\n",
       "<g fill=\"rgb(0%, 0%, 0%)\" fill-opacity=\"1\">\n",
       "<use xlink:href=\"#glyph-3-5\" x=\"94.57062\" y=\"114.326573\"/>\n",
       "<use xlink:href=\"#glyph-3-6\" x=\"102.327653\" y=\"114.326573\"/>\n",
       "<use xlink:href=\"#glyph-3-7\" x=\"106.199744\" y=\"114.326573\"/>\n",
       "<use xlink:href=\"#glyph-3-8\" x=\"111.142419\" y=\"114.326573\"/>\n",
       "<use xlink:href=\"#glyph-3-9\" x=\"116.634719\" y=\"114.326573\"/>\n",
       "<use xlink:href=\"#glyph-3-10\" x=\"122.127018\" y=\"114.326573\"/>\n",
       "</g>\n",
       "</svg>"
      ],
      "text/plain": [
       "<IPython.core.display.SVG object>"
      ]
     },
     "execution_count": 65,
     "metadata": {},
     "output_type": "execute_result"
    }
   ],
   "source": [
    "%%tikz -t=circuitikz --no-tikz\n",
    "\\begin{circuitikz}[american voltages]\n",
    "    % Drawing a simple electric circuit with a battery, resistor, and a lamp.\n",
    "    \n",
    "    % Battery\n",
    "    \\draw (0,0) to[battery, l=$V_s$] (0,3);\n",
    "    \n",
    "    % Resistor\n",
    "    \\draw (0,3) to[resistor, l=$R_1$, -*] (3,3) node[above] {A};\n",
    "    \n",
    "    % Lamp (represented as a generic load here)\n",
    "    \\draw (3,3) -- (6,3) to[generic, l=Lamp, -*] (6,0);\n",
    "    \n",
    "    % Ground connection\n",
    "    \\draw (0,0) -- (6,0);\n",
    "    \n",
    "    % Connecting wire back to the battery\n",
    "    \\draw (6,0) -- (6,-0.5) to[short, -*] (0,-0.5) -- (0,0);\n",
    "    \n",
    "    % Adding a ground symbol for clarity\n",
    "    \\draw (0,0) node[ground]{};\n",
    "    \n",
    "    % Labeling the ground\n",
    "    \\draw (3,0) node[below] {Ground};\n",
    "\\end{circuitikz}"
   ]
  }
 ],
 "metadata": {
  "kernelspec": {
   "display_name": "Python 3 (ipykernel)",
   "language": "python",
   "name": "python3"
  },
  "language_info": {
   "codemirror_mode": {
    "name": "ipython",
    "version": 3
   },
   "file_extension": ".py",
   "mimetype": "text/x-python",
   "name": "python",
   "nbconvert_exporter": "python",
   "pygments_lexer": "ipython3",
   "version": "3.11.5"
  },
  "widgets": {
   "application/vnd.jupyter.widget-state+json": {
    "state": {},
    "version_major": 2,
    "version_minor": 0
   }
  }
 },
 "nbformat": 4,
 "nbformat_minor": 4
}
